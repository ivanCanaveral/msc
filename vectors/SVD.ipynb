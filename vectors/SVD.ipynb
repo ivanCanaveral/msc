{
 "cells": [
  {
   "cell_type": "code",
   "execution_count": null,
   "id": "8b9cfb2f-d17c-465a-962b-0de56138636b",
   "metadata": {},
   "outputs": [],
   "source": [
    "import math\n",
    "import numpy as np\n",
    "import matplotlib.pyplot as plt\n",
    "from numpy import linalg\n",
    "from matplotlib import colors"
   ]
  },
  {
   "cell_type": "code",
   "execution_count": null,
   "id": "88fc4ac4-e578-49b7-8722-5ccbceb482d0",
   "metadata": {},
   "outputs": [],
   "source": [
    "margin = 0.5\n",
    "\n",
    "vector_params = {\n",
    "    'color': ['b', 'r'],\n",
    "    'width': 0.013,\n",
    "    'angles': 'xy',\n",
    "    'scale_units': 'xy',\n",
    "    'scale': 1\n",
    "}\n",
    "\n",
    "space_names = [\n",
    "    \"original\",\n",
    "    \"transformed\"\n",
    "]"
   ]
  },
  {
   "cell_type": "code",
   "execution_count": null,
   "id": "8c982f98-4b17-424c-a39f-7f3c1a9f8278",
   "metadata": {},
   "outputs": [],
   "source": [
    "def get_unit_circle(n=100):\n",
    "    xi1 = np.linspace(-1.0, 1.0, n)\n",
    "    xi2 = np.linspace(1.0, -1.0, n)\n",
    "    yi1 = np.sqrt(1 - xi1**2)\n",
    "    yi2 = -np.sqrt(1 - xi2**2)\n",
    "\n",
    "    xi = np.concatenate((xi1, xi2),axis=0)\n",
    "    yi = np.concatenate((yi1, yi2),axis=0)\n",
    "    return np.vstack((xi, yi))"
   ]
  },
  {
   "cell_type": "code",
   "execution_count": null,
   "id": "33a43548-c0ff-4835-9ae5-2b4a789b8ace",
   "metadata": {},
   "outputs": [],
   "source": [
    "def plot_2d_vectors(vs, f_vs, shapes=None):\n",
    "    origin = np.array([[0, 0]])\n",
    "    vss = np.vstack([origin, vs, f_vs, *shapes])\n",
    "    fig, axs = plt.subplots(1, 2, figsize=(10,15))\n",
    "    plt.subplots_adjust(wspace=0.4)\n",
    "\n",
    "    if shapes:\n",
    "        axs[0].plot(shapes[0][:,0], shapes[0][:,1])\n",
    "        axs[1].plot(shapes[1][:,0], shapes[1][:,1])\n",
    "\n",
    "    for v, f_v, i in zip(vs, f_vs, range(len(vs))):\n",
    "        axs[0].quiver(*origin[0], *v, **vector_params)\n",
    "        axs[1].quiver(*origin[0], *f_v, **vector_params)\n",
    "        axs[0].text(*v, \"$\\mathbf{x_i}$\".replace('i', str(i)), fontsize=11)\n",
    "        axs[1].text(*f_v, \"$\\mathbf{f(x_i)}$\".replace('i', str(i)), fontsize=11)\n",
    "\n",
    "    for ax, space_name in zip(axs, space_names):\n",
    "        ax.set_xlabel('x', fontsize=14)\n",
    "        ax.set_ylabel('y', fontsize=14)\n",
    "        ax.set_xlim(\n",
    "            np.min(vss[:,0]) - margin, np.max(vss[:,0]) + margin)\n",
    "        ax.set_ylim(\n",
    "            np.min(vss[:,1]) - margin, np.max(vss[:,1]) + margin)\n",
    "        ax.set_aspect('equal')\n",
    "        ax.grid(True)\n",
    "        ax.set_axisbelow(True)\n",
    "        ax.set_title(space_name)\n",
    "        ax.axhline(y=0, color='k')\n",
    "        ax.axvline(x=0, color='k')"
   ]
  },
  {
   "cell_type": "code",
   "execution_count": null,
   "id": "985439f3-9b15-4a50-a6d5-a63b23acefe9",
   "metadata": {},
   "outputs": [],
   "source": [
    "A = np.array([[1., 2.],\n",
    "              [0., 1.],\n",
    "              [1., 1.],\n",
    "              [0., 0.]])"
   ]
  },
  {
   "cell_type": "code",
   "execution_count": null,
   "id": "d41109e1-c0ac-43e2-8a74-2596c4056671",
   "metadata": {},
   "outputs": [],
   "source": [
    "x = np.array([[1, 1],\n",
    "              [2, 2]])"
   ]
  },
  {
   "cell_type": "code",
   "execution_count": null,
   "id": "84b684f1-bbe5-4757-8d41-53ea2fbc2ed4",
   "metadata": {},
   "outputs": [],
   "source": [
    "A @ x"
   ]
  },
  {
   "cell_type": "markdown",
   "id": "a916e3eb-2cfb-4e5a-8e38-596ee1b0d3f0",
   "metadata": {},
   "source": [
    "### Giro 45º"
   ]
  },
  {
   "cell_type": "code",
   "execution_count": null,
   "id": "752e8fc1-bd8d-4843-8a23-20e6c0afee20",
   "metadata": {},
   "outputs": [],
   "source": [
    "xs = np.array([[1, 0], [0, 1], [1, 1]/np.sqrt(2)])\n",
    "A = np.array([[1, -1], [1, 1]])/np.sqrt(2)\n",
    "Axs = (A @ xs.T).T\n",
    "S = get_unit_circle().T\n",
    "f_S = (A @ S.T).T\n",
    "plot_2d_vectors(xs, Axs, (S, f_S))\n",
    "plt.show()"
   ]
  },
  {
   "cell_type": "code",
   "execution_count": null,
   "id": "648a844e-7ddb-4b3e-a0bb-63f7dbd44e66",
   "metadata": {},
   "outputs": [],
   "source": [
    "eig_values, eig_vectors = linalg.eig(A)\n",
    "print(np.round(eig_values, 4))\n",
    "print(np.round(eig_vectors, 4))"
   ]
  },
  {
   "cell_type": "code",
   "execution_count": null,
   "id": "cfd4dad8-995c-436e-a578-511b38238523",
   "metadata": {},
   "outputs": [],
   "source": [
    "xs = np.array([[1, 0], [0, 1], [0, -1], [-1, 0]])\n",
    "A = np.array([[1, 2], [3, 1]])\n",
    "Axs = (A @ xs.T).T\n",
    "S = get_unit_circle().T\n",
    "f_S = (A @ S.T).T\n",
    "plot_2d_vectors(xs, Axs, (S, f_S))\n",
    "plt.show()"
   ]
  },
  {
   "cell_type": "code",
   "execution_count": null,
   "id": "f225532f-58ae-48e9-9412-707b5e891c7d",
   "metadata": {},
   "outputs": [],
   "source": [
    "print(np.round(eig_values, 4))\n",
    "print(np.round(eig_vectors, 4))"
   ]
  },
  {
   "cell_type": "markdown",
   "id": "7bf6fe1b-5e74-4610-842f-f0f016fbe4e4",
   "metadata": {},
   "source": [
    "(!) La matriz de autovalores que devuelve `eig_vectors` está por columnas"
   ]
  },
  {
   "cell_type": "code",
   "execution_count": null,
   "id": "6be6b40d-ec10-44b6-bff0-ba8b9961ba18",
   "metadata": {},
   "outputs": [],
   "source": [
    "A = [[1,0], [1,1]]\n",
    "eig_values, eig_vectors = linalg.eig(A)\n",
    "print(np.round(eig_values, 4))\n",
    "print(np.round(eig_vectors, 4))"
   ]
  },
  {
   "cell_type": "markdown",
   "id": "a3e7ffc6-de4f-411c-b4f5-1545e9a7263b",
   "metadata": {},
   "source": [
    "### Autovalores de A\n",
    "\n",
    "Son los autovalores de A, direcciones invariantes, pero que no son necesriamente ortogonales, ni corresponden con los ejes mayores de la AS."
   ]
  },
  {
   "cell_type": "code",
   "execution_count": null,
   "id": "c3b45d28-a273-45fc-8f7d-b0737e2a647d",
   "metadata": {},
   "outputs": [],
   "source": [
    "A = np.array([[1, 2], [3, 1]])\n",
    "eig_values, eig_vectors = linalg.eig(A)\n",
    "xs = eig_vectors.T\n",
    "Axs = (A @ xs.T).T\n",
    "S = get_unit_circle().T\n",
    "f_S = (A @ S.T).T\n",
    "print(np.round(eig_values, 4))\n",
    "print(np.round(eig_vectors, 4))"
   ]
  },
  {
   "cell_type": "code",
   "execution_count": null,
   "id": "63a29e10-a321-45d0-bee8-10e39c9c9cf9",
   "metadata": {},
   "outputs": [],
   "source": [
    "plot_2d_vectors(xs, Axs, (S, f_S))\n",
    "plt.show()"
   ]
  },
  {
   "cell_type": "markdown",
   "id": "27283b7a-c547-4a13-bde2-692c631cc374",
   "metadata": {},
   "source": [
    "## $AA^T$ y $A^TA$"
   ]
  },
  {
   "cell_type": "markdown",
   "id": "5f3dc4b1-a6aa-411f-ac67-fbaff44b75ff",
   "metadata": {},
   "source": [
    "### Las matrices AA.T y A.TA son simetricas.\n",
    "\n",
    "Estas matrices son simétricas, y como toda matriz simétrica, tiene autovalores no negativos, y sus autovectores son ortogonales.\n",
    "\n",
    "Además, sus autovectores coinciden con las direcciones principales (autovalores de mayor valor), por tanto ambas formas simétricas comparten autovalores."
   ]
  },
  {
   "cell_type": "markdown",
   "id": "755d0147-cafb-4460-b310-719d7b215a25",
   "metadata": {},
   "source": [
    "### Matrices simétricas\n",
    "\n",
    "Las matrices simétricas son aquellas matrices cuadradas que coincidenc con su traspuesta. Tienen algunas propiedades interesantes:\n",
    "\n",
    "* Si una matriz es diagonalizable ortogonalmente ($A=QBQ^T$) $\\iff$ es simétrica.\n",
    "* Si sus valores son reales, sus autovalores son reales y sus autovectores ortogonales entre sí.\n",
    "\n",
    "A symmetric matrix transforms a vector by stretching or shrinking it along its eigenvectors."
   ]
  },
  {
   "cell_type": "markdown",
   "id": "40aaa2ee-917d-4c4f-ba27-ede422cae72a",
   "metadata": {},
   "source": [
    "### Matrices ortogonales\n",
    "\n",
    "* Una matriz $A$ es ortogonal si $AA^T=I$."
   ]
  },
  {
   "cell_type": "markdown",
   "id": "b96ac896-c36b-44b0-8b57-545dc635b2c4",
   "metadata": {},
   "source": [
    "### Cambio de base\n",
    "\n",
    "* $P_{B \\rightarrow B_C}$: Vectores de la nueva base (por columnas), en el sistema de coordenadas original.\n",
    "* $P_{B_C \\rightarrow B}$ = $P_{B \\rightarrow B_C}^{-1}$\n",
    "\n",
    "(!) Todo cambio de base puede ser visto también como una transformación."
   ]
  },
  {
   "cell_type": "code",
   "execution_count": null,
   "id": "5286bc81-408d-48f2-8b75-2f600c546316",
   "metadata": {},
   "outputs": [],
   "source": [
    "# The Basis\n",
    "v_1 = np.array([[1],[1]])/np.sqrt(2)\n",
    "v_2 = np.array([[-1],[1]])/np.sqrt(2)\n",
    "\n",
    "# Change of coordinate matrix\n",
    "p_B_Bc =np.concatenate([v_1, v_2], axis=1)\n",
    "p_inv =  np.linalg.inv(p) \n",
    "\n",
    "# Coordinate of x in R^2\n",
    "x=np.array([[0], [np.sqrt(2)]])\n",
    "\n",
    "# New coordinate relative to basis B\n",
    "x_B = p_inv @ x\n",
    "\n",
    "print(\"x_B=\", np.round(x_B, 2))\n",
    "print(p_B_Bc)"
   ]
  },
  {
   "cell_type": "code",
   "execution_count": null,
   "id": "1a009abb-2a3f-40db-a8a6-f78d7fc0cfd6",
   "metadata": {},
   "outputs": [],
   "source": [
    "print(\"x_B=\", np.round(x_B, 2))\n",
    "origin = [0], [0]\n",
    "fig, (ax1, ax2) = plt.subplots(1, 2, figsize=(10,15))\n",
    "\n",
    "plt.subplots_adjust(wspace=0.4)\n",
    "\n",
    "# Plotting x in R2\n",
    "ax1.quiver(*origin, x[0], x[1], color=['r'], width=0.01, angles='xy', scale_units='xy', scale=1)\n",
    "ax1.quiver(*origin, 1, 0, color=['b'], width=0.01, angles='xy', scale_units='xy', scale=1)\n",
    "ax1.quiver(*origin, 0, 1, color=['b'], width=0.01, angles='xy', scale_units='xy', scale=1)\n",
    "\n",
    "ax1.set_xlim([-5,6])\n",
    "ax1.set_ylim([-3,4])\n",
    "ax1.set_aspect('equal')\n",
    "ax1.grid(True)\n",
    "ax1.set_title(\"Coordinate of $\\mathbf{x}$ in $\\mathbf{R^2}$\")\n",
    "ax1.axhline(y=0, color='k')\n",
    "ax1.axvline(x=0, color='k')\n",
    "ax1.text(x[0]+0.2, x[1]+0.2, \"$\\mathbf{x}$\", fontsize=12)\n",
    "ax1.text(1, -0.8, \"$\\mathbf{i}$\", fontsize=12)\n",
    "ax1.text(-0.6, 1, \"$\\mathbf{j}$\", fontsize=12)\n",
    "ax1.axvline(x=x[0], color='grey', linestyle='--')\n",
    "ax1.axhline(y=x[1], color='grey', linestyle='--')\n",
    "\n",
    "# Plotting x in B\n",
    "# Plotting the grid\n",
    "multipliers = np.linspace(-10,10,100)\n",
    "\n",
    "for i in range(-6,7,4):\n",
    "    for j in range(-6,7,1):\n",
    "        grid_1 = (v_1 * multipliers) + np.array([[i],[j]])\n",
    "        grid_2 = (v_2 * multipliers) + np.array([[i],[j]])\n",
    "        ax2.plot(grid_1[0], grid_1[1], color='grey', linewidth=0.2)\n",
    "        ax2.plot(grid_2[0], grid_2[1], color='grey', linewidth=0.2)\n",
    "        \n",
    "# Plotting the vector guide\n",
    "vector_guide_1 = (v_1 * multipliers) + x\n",
    "vector_guide_2 = (v_2 * multipliers) + x\n",
    "ax2.plot(vector_guide_1[0], vector_guide_1[1], color='grey', linewidth=1.5, linestyle='--')\n",
    "ax2.plot(vector_guide_2[0], vector_guide_2[1], color='grey', linewidth=1.5, linestyle='--')\n",
    "\n",
    "# Plotting the axis\n",
    "vector_guide_1 = (v_1 * multipliers) + np.array([[0],[0]])\n",
    "vector_guide_2 = (v_2 * multipliers) + np.array([[0],[0]])\n",
    "ax2.plot(vector_guide_1[0], vector_guide_1[1], color='black', linewidth=1.2)\n",
    "ax2.plot(vector_guide_2[0], vector_guide_2[1], color='black', linewidth=1.2)\n",
    "\n",
    "ax2.quiver(*origin, x[0], x[1], color=['r'], width=0.01, angles='xy', scale_units='xy', scale=1)\n",
    "ax2.quiver(*origin, v_1[0], v_1[1], color=['b'], width=0.01, angles='xy', scale_units='xy', scale=1)\n",
    "ax2.quiver(*origin, v_2[0], v_2[1], color=['b'], width=0.01, angles='xy', scale_units='xy', scale=1)\n",
    "\n",
    "ax2.set_xlim([-5,6])\n",
    "ax2.set_ylim([-3,4])\n",
    "ax2.set_aspect('equal')\n",
    "\n",
    "ax2.set_title(\"Coordinate of $\\mathbf{x}$ in $\\mathit{B}$\")\n",
    "ax2.axhline(y=0, color='k', linewidth=0.5)\n",
    "ax2.axvline(x=0, color='k', linewidth=0.5)\n",
    "ax2.text(x[0]+0.2, x[1]+0.2, \"$\\mathbf{x}$\", fontsize=12)\n",
    "ax2.text(1, 0.2, \"$\\mathbf{u_1}$\", fontsize=12)\n",
    "ax2.text(-0.7, 0.8, \"$\\mathbf{u_2}$\", fontsize=12)\n",
    "\n",
    "plt.show()"
   ]
  },
  {
   "cell_type": "markdown",
   "id": "7211c0c4-fef0-4d37-85ef-e4dd0756aae0",
   "metadata": {},
   "source": [
    "Esto es viendo P como la matriz de un cambio de base. Sin embargo, se podría haber visto como la transformación que lleva el vector $(0,\\sqrt(2))$ en el vector $(1, 1)$, todo en la Base Canónica $B_C$. Cuando trabajamos con la base canónica, los cambios de base por lo general son un mierdón."
   ]
  },
  {
   "cell_type": "markdown",
   "id": "04aa5505-8694-4e99-bbb4-9565985c6271",
   "metadata": {},
   "source": [
    "### Diagonalización de matrices simétricas\n",
    "\n",
    "Ya hemos visto que podemos diagonalizarla de la forma:\n",
    "\n",
    "$PDP^T$\n",
    "\n",
    "donde las columnas de $P$ son los autovalores de $A$ (por columnas). De este modo $P^T = P^{-1}$ es un cambio de base o giro (dependiendo del punto de vista elegido), $D$ es la transformación sobre los ejes, y $P$ es el giro o cambio de base inverso.\n",
    "\n",
    "De este modo, la transformación $A$ se descompone en un giro (o cambio de base) para que la base y autovectores coincidan, la transformación, y y luego lo dejamos tood como estaba."
   ]
  },
  {
   "cell_type": "markdown",
   "id": "57023ce9-b7a6-4cb2-af6b-557151663f18",
   "metadata": {},
   "source": [
    "### Autovalores y Autovectores de $AA^T$ y $A^TA$\n",
    "\n",
    "Al ser matrices simétricas, son diagonalizables, con autovalores reales y autovectores ortogonales. `eig_vector` nos da valores normalizados siempre. Podemos tomarlos siempre así, y nos ayuda a apreciar su transformación."
   ]
  },
  {
   "cell_type": "code",
   "execution_count": null,
   "id": "d6b2e06e-88da-498b-8fc1-0757343f3f88",
   "metadata": {},
   "outputs": [],
   "source": [
    "A = np.array([[1, 2], [3, 1]])\n",
    "eig_values, eig_vectors = linalg.eig(A@A.T)\n",
    "xs = eig_vectors\n",
    "Axs = (A @ xs.T).T\n",
    "S = get_unit_circle().T\n",
    "f_S = (A @ S.T).T\n",
    "print(np.round(eig_values, 4))\n",
    "print(np.round(eig_vectors, 4))"
   ]
  },
  {
   "cell_type": "code",
   "execution_count": null,
   "id": "0735d42e-d199-4863-a412-bf3d09c2044e",
   "metadata": {},
   "outputs": [],
   "source": [
    "plot_2d_vectors(xs, Axs, (S, f_S))\n",
    "plt.show()"
   ]
  },
  {
   "cell_type": "code",
   "execution_count": null,
   "id": "51e7a0db-980f-46d9-8591-a15fc4482629",
   "metadata": {},
   "outputs": [],
   "source": [
    "A = np.array([[1, 2], [3, 1]])\n",
    "eig_values, eig_vectors = linalg.eig(A.T@A)\n",
    "xs = eig_vectors.T\n",
    "Axs = (A @ xs.T).T\n",
    "S = get_unit_circle().T\n",
    "f_S = (A @ S.T).T\n",
    "print(np.round(eig_values, 4))\n",
    "print(np.round(eig_vectors, 4))"
   ]
  },
  {
   "cell_type": "code",
   "execution_count": null,
   "id": "ee85d7ad-76d1-4fbb-ba23-385d765dc306",
   "metadata": {},
   "outputs": [],
   "source": [
    "plot_2d_vectors(xs, Axs, (S, f_S))\n",
    "plt.show()"
   ]
  },
  {
   "cell_type": "markdown",
   "id": "0bdaa68f-3d60-4bfb-92ab-1a066a298bee",
   "metadata": {},
   "source": [
    "## Ejemplo matriz simétrica\n",
    "\n",
    "Veamos un ejemplo de $A = PDP^T$."
   ]
  },
  {
   "cell_type": "markdown",
   "id": "8d89aa76-2968-44f4-9398-fb463784be71",
   "metadata": {},
   "source": [
    "Tenemos esta matriz simétrica"
   ]
  },
  {
   "cell_type": "code",
   "execution_count": null,
   "id": "a2c367b5-fb30-4bc9-803c-1aecc56ab4be",
   "metadata": {},
   "outputs": [],
   "source": [
    "A = [\n",
    "    [3, 1],\n",
    "    [1, 2]\n",
    "]\n",
    "A"
   ]
  },
  {
   "cell_type": "markdown",
   "id": "437362dd-d219-4345-994d-9c0e202a5274",
   "metadata": {},
   "source": [
    "Calculamos sus autovalores y autovectores, y formamos las matrices $P$ y $D$ correspondientes."
   ]
  },
  {
   "cell_type": "code",
   "execution_count": null,
   "id": "78ae05a6-9d9c-42ae-a055-031fff434327",
   "metadata": {},
   "outputs": [],
   "source": [
    "eig_values, eig_vectors = linalg.eig(A)"
   ]
  },
  {
   "cell_type": "code",
   "execution_count": null,
   "id": "08c9c8e5-920a-4969-a448-ac077126177c",
   "metadata": {},
   "outputs": [],
   "source": [
    "D = np.diag(eig_values)\n",
    "D"
   ]
  },
  {
   "cell_type": "code",
   "execution_count": null,
   "id": "e29a66ed-afe1-4643-ade7-d60fc4165e23",
   "metadata": {},
   "outputs": [],
   "source": [
    "P = eig_vectors\n",
    "P"
   ]
  },
  {
   "cell_type": "markdown",
   "id": "b5ca3e05-16ec-4771-89ec-183d4096d801",
   "metadata": {},
   "source": [
    "Comprobamos que el resultado es el esperado."
   ]
  },
  {
   "cell_type": "code",
   "execution_count": null,
   "id": "4aa97cf2-bfe7-4abf-90d4-dbb8e08efed6",
   "metadata": {},
   "outputs": [],
   "source": [
    "P @ D @ P.T"
   ]
  },
  {
   "cell_type": "markdown",
   "id": "9464de21-d26e-48d8-8a83-0f1ab3082b1b",
   "metadata": {},
   "source": [
    "Vamos a comprobar visualmente, paso a pasao, como primero giramos, después transformamos, y hacemos el giro inverso."
   ]
  },
  {
   "cell_type": "markdown",
   "id": "b490524d-e632-4e36-862e-51d9fd8e4fc7",
   "metadata": {},
   "source": [
    "Esta es la transformación completa:"
   ]
  },
  {
   "cell_type": "code",
   "execution_count": null,
   "id": "3278063c-c1ab-4d2b-b21b-b7835f2774d6",
   "metadata": {},
   "outputs": [],
   "source": [
    "xs = eig_vectors.T\n",
    "Axs = (A @ xs.T).T\n",
    "S = get_unit_circle().T\n",
    "f_S = (A @ S.T).T"
   ]
  },
  {
   "cell_type": "code",
   "execution_count": null,
   "id": "6111a0cf-06cc-4020-b50c-7258edbb1604",
   "metadata": {},
   "outputs": [],
   "source": [
    "plot_2d_vectors(xs, Axs, (S, f_S))\n",
    "plt.show()"
   ]
  },
  {
   "cell_type": "markdown",
   "id": "7c4e50fb-2c0f-40d9-b01b-1318d737d5a1",
   "metadata": {},
   "source": [
    "Ahora, paso por paso. Primero giramos:"
   ]
  },
  {
   "cell_type": "code",
   "execution_count": null,
   "id": "d92b353f-86d6-45eb-b414-8152214df4fd",
   "metadata": {},
   "outputs": [],
   "source": [
    "xs = eig_vectors.T\n",
    "Axs = (P.T @ xs.T).T\n",
    "S = get_unit_circle().T\n",
    "f_S = (P.T @ S.T).T\n",
    "plot_2d_vectors(xs, Axs, (S, f_S))\n",
    "plt.show()"
   ]
  },
  {
   "cell_type": "markdown",
   "id": "a20c073d-2fd4-4972-9506-84afdc321f06",
   "metadata": {},
   "source": [
    "Aplicamos la transformación:"
   ]
  },
  {
   "cell_type": "code",
   "execution_count": null,
   "id": "66f956a2-8252-4d31-8041-68bfd2dd2a04",
   "metadata": {},
   "outputs": [],
   "source": [
    "xs = (P.T @ eig_vectors).T\n",
    "Axs = (D @ P.T @ eig_vectors).T\n",
    "S = get_unit_circle().T\n",
    "f_S = (D @ P.T @ S.T).T\n",
    "plot_2d_vectors(xs, Axs, (S, f_S))\n",
    "plt.show()"
   ]
  },
  {
   "cell_type": "markdown",
   "id": "14f4417f-90e4-4f5d-970f-42012613734a",
   "metadata": {},
   "source": [
    "Volvemos a girar:"
   ]
  },
  {
   "cell_type": "code",
   "execution_count": null,
   "id": "b748f9ed-4ca6-4fb1-a622-5d7f36b55551",
   "metadata": {},
   "outputs": [],
   "source": [
    "xs = (D @ P.T @ eig_vectors).T\n",
    "Axs = (P @ D @ P.T @ eig_vectors).T\n",
    "S = (D @ P.T @ get_unit_circle()).T\n",
    "f_S = (P @ S.T).T\n",
    "plot_2d_vectors(xs, Axs, (S, f_S))\n",
    "plt.show()"
   ]
  },
  {
   "cell_type": "code",
   "execution_count": null,
   "id": "09646cbb-af91-4774-9d17-5c8fbdc30480",
   "metadata": {},
   "outputs": [],
   "source": [
    "from IPython.display import Latex\n",
    "\n",
    "epsilon_c = 0.003\n",
    "epsilon_y = 0.005\n",
    "Latex(f\"\"\"\\\\begin{{equation*}}\n",
    "\\\\xi_b = \\\\frac{{{epsilon_c}}}{{{epsilon_c}}} + {{{epsilon_y}}}\n",
    "\\\\end{{equation*}}\n",
    "\"\"\")"
   ]
  },
  {
   "cell_type": "markdown",
   "id": "c7d2175b-e35c-4c9c-a511-d65d155ab030",
   "metadata": {},
   "source": [
    "Euler's identity: $$ e^{i \\pi} + 1 = 0 $$"
   ]
  }
 ],
 "metadata": {
  "kernelspec": {
   "display_name": "Python 3 (ipykernel)",
   "language": "python",
   "name": "python3"
  },
  "language_info": {
   "codemirror_mode": {
    "name": "ipython",
    "version": 3
   },
   "file_extension": ".py",
   "mimetype": "text/x-python",
   "name": "python",
   "nbconvert_exporter": "python",
   "pygments_lexer": "ipython3",
   "version": "3.9.13"
  },
  "toc-autonumbering": false,
  "toc-showmarkdowntxt": false
 },
 "nbformat": 4,
 "nbformat_minor": 5
}
