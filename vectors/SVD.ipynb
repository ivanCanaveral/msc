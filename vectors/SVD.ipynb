{
 "cells": [
  {
   "cell_type": "code",
   "execution_count": null,
   "id": "8b9cfb2f-d17c-465a-962b-0de56138636b",
   "metadata": {},
   "outputs": [],
   "source": [
    "import math\n",
    "import numpy as np\n",
    "import matplotlib.pyplot as plt\n",
    "from numpy import linalg\n",
    "from matplotlib import colors"
   ]
  },
  {
   "cell_type": "code",
   "execution_count": null,
   "id": "88fc4ac4-e578-49b7-8722-5ccbceb482d0",
   "metadata": {},
   "outputs": [],
   "source": [
    "margin = 0.5\n",
    "\n",
    "vector_params = {\n",
    "    'color': ['b', 'r'],\n",
    "    'width': 0.013,\n",
    "    'angles': 'xy',\n",
    "    'scale_units': 'xy',\n",
    "    'scale': 1\n",
    "}\n",
    "\n",
    "space_names = [\n",
    "    \"original\",\n",
    "    \"transformed\"\n",
    "]"
   ]
  },
  {
   "cell_type": "code",
   "execution_count": null,
   "id": "8c982f98-4b17-424c-a39f-7f3c1a9f8278",
   "metadata": {},
   "outputs": [],
   "source": [
    "def get_unit_circle(n=100):\n",
    "    xi1 = np.linspace(-1.0, 1.0, n)\n",
    "    xi2 = np.linspace(1.0, -1.0, n)\n",
    "    yi1 = np.sqrt(1 - xi1**2)\n",
    "    yi2 = -np.sqrt(1 - xi2**2)\n",
    "\n",
    "    xi = np.concatenate((xi1, xi2),axis=0)\n",
    "    yi = np.concatenate((yi1, yi2),axis=0)\n",
    "    return np.vstack((xi, yi))"
   ]
  },
  {
   "cell_type": "code",
   "execution_count": null,
   "id": "33a43548-c0ff-4835-9ae5-2b4a789b8ace",
   "metadata": {},
   "outputs": [],
   "source": [
    "def plot_2d_vectors(vs, f_vs, shapes=None):\n",
    "    origin = np.array([[0, 0]])\n",
    "    vss = np.vstack([origin, vs, f_vs, *shapes])\n",
    "    fig, axs = plt.subplots(1, 2, figsize=(10,15))\n",
    "    plt.subplots_adjust(wspace=0.4)\n",
    "\n",
    "    if shapes:\n",
    "        axs[0].plot(shapes[0][:,0], shapes[0][:,1])\n",
    "        axs[1].plot(shapes[1][:,0], shapes[1][:,1])\n",
    "\n",
    "    for v, f_v, i in zip(vs, f_vs, range(len(vs))):\n",
    "        axs[0].quiver(*origin[0], *v, **vector_params)\n",
    "        axs[1].quiver(*origin[0], *f_v, **vector_params)\n",
    "        axs[0].text(*v, \"$\\mathbf{x_i}$\".replace('i', str(i)), fontsize=11)\n",
    "        axs[1].text(*f_v, \"$\\mathbf{f(x_i)}$\".replace('i', str(i)), fontsize=11)\n",
    "\n",
    "    for ax, space_name in zip(axs, space_names):\n",
    "        ax.set_xlabel('x', fontsize=14)\n",
    "        ax.set_ylabel('y', fontsize=14)\n",
    "        ax.set_xlim(\n",
    "            np.min(vss[:,0]) - margin, np.max(vss[:,0]) + margin)\n",
    "        ax.set_ylim(\n",
    "            np.min(vss[:,1]) - margin, np.max(vss[:,1]) + margin)\n",
    "        ax.set_aspect('equal')\n",
    "        ax.grid(True)\n",
    "        ax.set_axisbelow(True)\n",
    "        ax.set_title(space_name)\n",
    "        ax.axhline(y=0, color='k')\n",
    "        ax.axvline(x=0, color='k')"
   ]
  },
  {
   "cell_type": "code",
   "execution_count": null,
   "id": "985439f3-9b15-4a50-a6d5-a63b23acefe9",
   "metadata": {},
   "outputs": [],
   "source": [
    "A = np.array([[1., 2.],\n",
    "              [0., 1.],\n",
    "              [1., 1.],\n",
    "              [0., 0.]])"
   ]
  },
  {
   "cell_type": "code",
   "execution_count": null,
   "id": "d41109e1-c0ac-43e2-8a74-2596c4056671",
   "metadata": {},
   "outputs": [],
   "source": [
    "x = np.array([[1, 1],\n",
    "              [2, 2]])"
   ]
  },
  {
   "cell_type": "code",
   "execution_count": null,
   "id": "84b684f1-bbe5-4757-8d41-53ea2fbc2ed4",
   "metadata": {},
   "outputs": [],
   "source": [
    "A @ x"
   ]
  },
  {
   "cell_type": "code",
   "execution_count": null,
   "id": "752e8fc1-bd8d-4843-8a23-20e6c0afee20",
   "metadata": {},
   "outputs": [],
   "source": [
    "xs = np.array([[1, 0], [0, 1], [1, 1]/np.sqrt(2)])\n",
    "A = np.array([[1, -1], [1, 1]])/np.sqrt(2)\n",
    "Axs = (A @ xs.T).T\n",
    "S = get_unit_circle().T\n",
    "f_S = (A @ S.T).T\n",
    "plot_2d_vectors(xs, Axs, (S, f_S))\n",
    "plt.show()"
   ]
  },
  {
   "cell_type": "code",
   "execution_count": null,
   "id": "cfd4dad8-995c-436e-a578-511b38238523",
   "metadata": {},
   "outputs": [],
   "source": [
    "xs = np.array([[1, 0], [0, 1], [0, -1], [-1, 0]])\n",
    "A = np.array([[1, 2], [3, 1]])\n",
    "Axs = (A @ xs.T).T\n",
    "S = get_unit_circle().T\n",
    "f_S = (A @ S.T).T\n",
    "plot_2d_vectors(xs, Axs, (S, f_S))\n",
    "plt.show()"
   ]
  }
 ],
 "metadata": {
  "kernelspec": {
   "display_name": "Python 3 (ipykernel)",
   "language": "python",
   "name": "python3"
  },
  "language_info": {
   "codemirror_mode": {
    "name": "ipython",
    "version": 3
   },
   "file_extension": ".py",
   "mimetype": "text/x-python",
   "name": "python",
   "nbconvert_exporter": "python",
   "pygments_lexer": "ipython3",
   "version": "3.9.13"
  }
 },
 "nbformat": 4,
 "nbformat_minor": 5
}
