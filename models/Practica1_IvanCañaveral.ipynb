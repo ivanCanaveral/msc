{
 "cells": [
  {
   "cell_type": "markdown",
   "metadata": {
    "id": "09t6zRbsOdPK"
   },
   "source": [
    "# Introducción: Práctica 1\n",
    "\n",
    "**Alumno**: Iván Cañaveral Sánchez\n",
    "\n",
    "En este notebook se afronta un problema de clasificación binaria de textos, apoyándonos principalmente en las librerías `sklearn`y `keras`.\n",
    "\n",
    "El trabajo se estructura fundamentalmente en tres partes:\n",
    " - Una primera parte preparatoria (descarga de datos, importación de librerías, feature engineering y exploración de los datos).\n",
    " - Después se explora las distintas posibilidades que ofrecen técnicas de Machine Learning clásicas, y se intenta obtener un clasificador los mejores resultados posibles en base a las pruebas realizadas.\n",
    " - Se aplican técnicas de deep learning con el fin de dar pie a una introducción al tratamiento del lenguaje utilizando estas metodologías en los próximos temas.\n",
    "\n",
    " ⚠️ Esta práctica ha sido desarrollada y está pensada para ser revisada en un entorno de Google Colab."
   ]
  },
  {
   "cell_type": "markdown",
   "metadata": {
    "id": "rDIIyr869-nP",
    "jp-MarkdownHeadingCollapsed": true,
    "tags": []
   },
   "source": [
    "# 1. Preparación"
   ]
  },
  {
   "cell_type": "markdown",
   "metadata": {
    "id": "O2JaJmQz-jrk",
    "toc-hr-collapsed": true
   },
   "source": [
    "## Librerías y constantes"
   ]
  },
  {
   "cell_type": "markdown",
   "metadata": {
    "id": "dqkLsD6CUtUw"
   },
   "source": [
    "### Instalación"
   ]
  },
  {
   "cell_type": "markdown",
   "metadata": {
    "id": "mabcSbC931z_"
   },
   "source": [
    "Instalamos deepchecks, una librería que utilizaremos más adelante para hacer algunas comprobaciones respecto a la distribución de los datos."
   ]
  },
  {
   "cell_type": "code",
   "execution_count": null,
   "metadata": {
    "colab": {
     "base_uri": "https://localhost:8080/"
    },
    "id": "w_MPOliSdqkD",
    "outputId": "11b60792-9380-4794-9408-6c24fd07541e"
   },
   "outputs": [],
   "source": [
    "!pip install -q deepchecks"
   ]
  },
  {
   "cell_type": "markdown",
   "metadata": {
    "id": "Ydc5Pcau3_3O"
   },
   "source": [
    "Nos aseguramos que la versión de `matplotlib` es la adecuada para maximizar la compatibilidad en los entornos de google colab."
   ]
  },
  {
   "cell_type": "code",
   "execution_count": null,
   "metadata": {
    "id": "RVPlPRRC3TD1"
   },
   "outputs": [],
   "source": [
    "%%capture\n",
    "!pip install matplotlib==3.1.3"
   ]
  },
  {
   "cell_type": "markdown",
   "metadata": {
    "id": "ezEbARbWU0di"
   },
   "source": [
    "### Importación"
   ]
  },
  {
   "cell_type": "code",
   "execution_count": null,
   "metadata": {
    "id": "bd3AMS3L-hMs"
   },
   "outputs": [],
   "source": [
    "import os\n",
    "import re\n",
    "import json\n",
    "import itertools\n",
    "import numpy as np\n",
    "import pandas as pd"
   ]
  },
  {
   "cell_type": "code",
   "execution_count": null,
   "metadata": {
    "id": "LTkPxOtfoOzY"
   },
   "outputs": [],
   "source": [
    "from collections import Counter"
   ]
  },
  {
   "cell_type": "code",
   "execution_count": null,
   "metadata": {
    "id": "qqB8QyjYbAZy"
   },
   "outputs": [],
   "source": [
    "from tqdm.notebook import tqdm_notebook"
   ]
  },
  {
   "cell_type": "code",
   "execution_count": null,
   "metadata": {
    "id": "VDd80vSsA8ju"
   },
   "outputs": [],
   "source": [
    "import matplotlib.pyplot as plt\n",
    "%matplotlib inline\n",
    "\n",
    "import seaborn as sns\n",
    "sns.set_theme()\n",
    "sns.set(rc={'figure.figsize':(10,5)})"
   ]
  },
  {
   "cell_type": "code",
   "execution_count": null,
   "metadata": {
    "id": "dserZbWjR93q"
   },
   "outputs": [],
   "source": [
    "from sklearn.pipeline import Pipeline\n",
    "from sklearn.feature_extraction.text import CountVectorizer\n",
    "from sklearn.feature_extraction.text import TfidfVectorizer\n",
    "from sklearn.linear_model import SGDClassifier\n",
    "from sklearn.svm import SVC\n",
    "from sklearn.naive_bayes import MultinomialNB\n",
    "from sklearn.metrics import classification_report, confusion_matrix, accuracy_score\n",
    "from sklearn.model_selection import learning_curve, ShuffleSplit, GridSearchCV, \\\n",
    "      cross_val_score, train_test_split\n",
    "from sklearn.model_selection import GridSearchCV\n",
    "from sklearn.feature_selection import SelectKBest, chi2\n",
    "from sklearn.base import BaseEstimator, TransformerMixin"
   ]
  },
  {
   "cell_type": "code",
   "execution_count": null,
   "metadata": {
    "colab": {
     "base_uri": "https://localhost:8080/"
    },
    "id": "V-fcMz18oACC",
    "outputId": "c0840fe9-c29b-4c84-d9b2-b59032a74827"
   },
   "outputs": [],
   "source": [
    "import nltk\n",
    "from nltk.stem import *\n",
    "from nltk.stem import WordNetLemmatizer\n",
    "from nltk.corpus import stopwords\n",
    "\n",
    "\n",
    "nltk.download('omw-1.4')\n",
    "nltk.download('stopwords')\n",
    "nltk.download('wordnet')"
   ]
  },
  {
   "cell_type": "code",
   "execution_count": null,
   "metadata": {
    "id": "BIH3qpcaRs7g"
   },
   "outputs": [],
   "source": [
    "import warnings\n",
    "warnings.filterwarnings('ignore')"
   ]
  },
  {
   "cell_type": "markdown",
   "metadata": {
    "id": "EQzdNbvOOFHW"
   },
   "source": [
    "## Descarga de datos"
   ]
  },
  {
   "cell_type": "markdown",
   "metadata": {
    "id": "RZrmhTAT4ZdI"
   },
   "source": [
    "Para mejorar la usabilidad y reducir la complejidad de la obtención de los datos, hemos subido el dataset a un repositorio abierto de github, desde donde se pueden clonar sin problema.\n",
    "\n",
    "En general no es una práctica recomendada mantener los datasets directamente en github (para ello existen aproximaciones más eficientes como DVC), pero dado el tamaño y la naturaleza del dataset, entendemos que no supone gran problema y facilita la ejecución del notebook. "
   ]
  },
  {
   "cell_type": "code",
   "execution_count": null,
   "metadata": {
    "colab": {
     "base_uri": "https://localhost:8080/"
    },
    "id": "0_fpsWjHOgIc",
    "outputId": "ef9db82f-4f82-4bb6-a288-08327d9a2059"
   },
   "outputs": [],
   "source": [
    "!git clone https://github.com/ivanCanaveral/msc-datasets/"
   ]
  },
  {
   "cell_type": "markdown",
   "metadata": {
    "id": "L8WZQQTA-n9j"
   },
   "source": [
    "## Carga de datos"
   ]
  },
  {
   "cell_type": "markdown",
   "metadata": {
    "id": "lmBEKh1a49FC"
   },
   "source": [
    "Vamos a proceder a la carga de ambos datasets (train y test). Para hacer más sencillos algunos análisis, lo unificaremos en un único dataset, que dispondrá de la variable `partition: test|train` para poder filtrarlos fácilmente después."
   ]
  },
  {
   "cell_type": "code",
   "execution_count": null,
   "metadata": {
    "id": "OO6FhzZxO-0w"
   },
   "outputs": [],
   "source": [
    "raw_test_data = pd.read_csv('msc-datasets/movie-reviews/test_reviews.csv')\n",
    "raw_train_data = pd.read_csv('msc-datasets/movie-reviews/train_reviews.csv')"
   ]
  },
  {
   "cell_type": "code",
   "execution_count": null,
   "metadata": {
    "id": "sH1-Ps2m8VYt"
   },
   "outputs": [],
   "source": [
    "raw_test_data['partition'] = 'test'\n",
    "raw_train_data['partition'] = 'train'"
   ]
  },
  {
   "cell_type": "code",
   "execution_count": null,
   "metadata": {
    "colab": {
     "base_uri": "https://localhost:8080/",
     "height": 206
    },
    "id": "QBqsYceg83OR",
    "outputId": "3b3bdc22-797f-4ea0-8561-6af8afc269df"
   },
   "outputs": [],
   "source": [
    "dataset = pd.concat([raw_test_data, raw_train_data])\n",
    "dataset.head()"
   ]
  },
  {
   "cell_type": "markdown",
   "metadata": {
    "id": "sKM7gdwI_dvx"
   },
   "source": [
    "## Variables adicionales"
   ]
  },
  {
   "cell_type": "markdown",
   "metadata": {
    "id": "cJKS7UJf9SX3"
   },
   "source": [
    "En este apartado vamos a añadir algnas variables adicioinales sencillas que nos ayuden en la exploración y en la ejecución de los entrenamientos. Por ejemplo, añadiremos la longitud del texto, o una etiqueta numérica asociada a la variable `sentiment`."
   ]
  },
  {
   "cell_type": "markdown",
   "metadata": {
    "id": "HJ0pegYy_FAq"
   },
   "source": [
    "Dado que se nos proporciona un `id` apra los textos, lo vamos a utilizar como índice del dataset."
   ]
  },
  {
   "cell_type": "code",
   "execution_count": null,
   "metadata": {
    "id": "BKmkUHUeKuti"
   },
   "outputs": [],
   "source": [
    "dataset = dataset.set_index(dataset.id).drop(columns=[\"id\"])"
   ]
  },
  {
   "cell_type": "markdown",
   "metadata": {
    "id": "1TuSwoNi_h5r"
   },
   "source": [
    "Vamos a añadir el número de palabras que tiene cada texto."
   ]
  },
  {
   "cell_type": "code",
   "execution_count": null,
   "metadata": {
    "colab": {
     "base_uri": "https://localhost:8080/",
     "height": 237
    },
    "id": "W91pzUeg_hGA",
    "outputId": "b548f6d7-fcea-49f8-d7d2-df14c6df5514"
   },
   "outputs": [],
   "source": [
    "dataset[\"length\"] = dataset.review.str.split().apply(len)\n",
    "dataset.head()"
   ]
  },
  {
   "cell_type": "markdown",
   "metadata": {
    "id": "ZrgYkUF8Gwln"
   },
   "source": [
    "Y vamos a añadir una etiqueta numérica, que nos permitirá utilizarla directamente para entrenar los modelos.\n",
    "\n",
    "Asignaremos el valor 1 a los textos marcados como `positive` y 0 a aquellos marcados como `negative`."
   ]
  },
  {
   "cell_type": "code",
   "execution_count": null,
   "metadata": {
    "id": "TwcuoCTvG987"
   },
   "outputs": [],
   "source": [
    "dataset['label'] = dataset.sentiment.apply(lambda x: 1 if x=='positive' else 0)\n",
    "dataset['train_partition'] = dataset.partition == 'train'"
   ]
  },
  {
   "cell_type": "markdown",
   "metadata": {
    "id": "GFDtpdE5_erX"
   },
   "source": [
    "Hemos añadido adicionalmente una variable booleana que nos indica si el texto pertenece a la partición de `train`, para agilizar filtrados.\n",
    "\n",
    "En este momento el dataset tiene la siguiente estructura. El tratamiento que hemos realizado hasta el momento añade información redundante, pero no está orientado a la optimización de memoria, si no a facilitar la lectura y ejecución del notebook."
   ]
  },
  {
   "cell_type": "code",
   "execution_count": null,
   "metadata": {
    "colab": {
     "base_uri": "https://localhost:8080/",
     "height": 143
    },
    "id": "jt-OfpiSHZh3",
    "outputId": "3cf6ff42-d3f2-47bd-ee08-0e2737623e65"
   },
   "outputs": [],
   "source": [
    "dataset.head(2)"
   ]
  },
  {
   "cell_type": "markdown",
   "metadata": {
    "id": "aXUOhzIO-tGg"
   },
   "source": [
    "## Exploración\n",
    "\n",
    "En este apartado llevaremos a cabo una exploración analítica de los datos y su distribución. Fundamentalmente abordaremos los siguientes puntos:\n",
    "\n",
    "* Exploración de etiquetas\n",
    "* Exploración de texto\n",
    "* Posibles desviaciones entre las particiones de test y train."
   ]
  },
  {
   "cell_type": "markdown",
   "metadata": {
    "id": "wWJNHQXe-vKQ"
   },
   "source": [
    "### Etiquetas"
   ]
  },
  {
   "cell_type": "markdown",
   "metadata": {
    "id": "OCbrN4RV9zAt"
   },
   "source": [
    "Exploramos las etiquetas de cada categoría. Es fundamental explorar cuántas hay, si existen inconsistencias entre ellas, y si disponemos de un dataset balanceado entre las distintas categorías."
   ]
  },
  {
   "cell_type": "code",
   "execution_count": null,
   "metadata": {
    "colab": {
     "base_uri": "https://localhost:8080/",
     "height": 206
    },
    "id": "I-aMe87O9TKk",
    "outputId": "eff74329-5912-4210-95c8-9ad472acce2a"
   },
   "outputs": [],
   "source": [
    "dataset.groupby(by=[\"partition\", \"sentiment\"]).count()"
   ]
  },
  {
   "cell_type": "markdown",
   "metadata": {
    "id": "JRdi9F0B-P2D"
   },
   "source": [
    "No existen etiquetas que no sean \"positive\" o \"negative\", y disponemos de unos conjuntos de entrenamiento y de test equilibrados en cuanto a muestras de cada conjunto.\n",
    "\n",
    "A priori disponemos de un dataset que tiene un nivel mínimo de preparación, y no nos hará (a priori) tener que aplicar técnicas para compensar un desbalanceo entre las distintas categorías."
   ]
  },
  {
   "cell_type": "markdown",
   "metadata": {
    "id": "ktJG1YQe-ysl"
   },
   "source": [
    "### Textos"
   ]
  },
  {
   "cell_type": "markdown",
   "metadata": {
    "id": "jUoCSkPd-5J4"
   },
   "source": [
    "Vistas las etiquetas, vamos a hacer una revisión de la calidad y las cualidades de los textos."
   ]
  },
  {
   "cell_type": "markdown",
   "metadata": {
    "id": "UixJAIxDBh0Y"
   },
   "source": [
    "#### Longitud"
   ]
  },
  {
   "cell_type": "markdown",
   "metadata": {
    "id": "PpNOdwDrAIG5"
   },
   "source": [
    "En primer lugar vamos a proceder a comprobar si existen textos vacíos. En un cálculo sencillo podemos obtener el porcentaje de textos nulos, o con menos de 5 palabras:"
   ]
  },
  {
   "cell_type": "code",
   "execution_count": null,
   "metadata": {
    "colab": {
     "base_uri": "https://localhost:8080/"
    },
    "id": "DXdckf03-Dmj",
    "outputId": "3edbf094-da9d-4bfa-b5bc-6a5b9cfa6502"
   },
   "outputs": [],
   "source": [
    "print('Porcentaje de textos nulos y con menos de 5 palabras: ', np.mean(dataset.review.isnull()), np.mean(dataset.length <= 5))"
   ]
  },
  {
   "cell_type": "markdown",
   "metadata": {
    "id": "T0wyf1i0LeLq"
   },
   "source": [
    "Por suerte no diponemos de textos que podamos considerar \"vacíos\".\n",
    "\n",
    "Profundicemos un poco más en las distribuciones de longitud. Para ello vamos a generar los histogramas de longitud. Adicionalmente añadimos la dimensión de la partición (test vs train), para comprobar que se distribuyen de manera similar."
   ]
  },
  {
   "cell_type": "code",
   "execution_count": null,
   "metadata": {
    "colab": {
     "base_uri": "https://localhost:8080/",
     "height": 356
    },
    "id": "X3cVFTLzGdQ6",
    "outputId": "d760e893-9912-4566-b9c9-efbeca1a8938"
   },
   "outputs": [],
   "source": [
    "sns.histplot(data=dataset, x=\"length\", hue=\"partition\", bins=50).set(xlim=(0,1100))"
   ]
  },
  {
   "cell_type": "markdown",
   "metadata": {
    "id": "OanYU_U6A88k"
   },
   "source": [
    "En una primera exploración visual de los resultados, la distribución de los mismos no muestra anomalías, y ambas particiones se distribuyen de la misma manera.\n",
    "\n",
    "Podríamos entrar en tests formales para comprobar que, efectivamente siguen la misma distribución, pero en este momento no parece que merezca la pena."
   ]
  },
  {
   "cell_type": "markdown",
   "metadata": {
    "id": "Eq-3akC5Lst-"
   },
   "source": [
    "**Revisión de textos cortos y largos**\n",
    "\n",
    "Vamos a revisar las etiquetas de los textos muy cortos y muy largos, para ver si podrían dar pié a potenciales sesgos."
   ]
  },
  {
   "cell_type": "markdown",
   "metadata": {
    "id": "s1z-EBr6CXW-"
   },
   "source": [
    "Comencemos con los textos cortos:"
   ]
  },
  {
   "cell_type": "code",
   "execution_count": null,
   "metadata": {
    "colab": {
     "base_uri": "https://localhost:8080/",
     "height": 206
    },
    "id": "Ws8Rp-WVI5zU",
    "outputId": "fe09bb39-74a0-4e24-ce37-a0b9ba2f9cd6"
   },
   "outputs": [],
   "source": [
    "dataset[dataset.length < 20]"
   ]
  },
  {
   "cell_type": "markdown",
   "metadata": {
    "id": "ClmomGSMMDU4"
   },
   "source": [
    "Los textos con menos de 20 palabras son todos negativos. Al explorar logintudes sensiblemente más largas hemos visto que comienzan a estar equilibradas ambas categorías, pero esto podría inferir un sesgo en algunos modelos.\n",
    "\n",
    "Veamos qué ocurre con los más largos:"
   ]
  },
  {
   "cell_type": "code",
   "execution_count": null,
   "metadata": {
    "colab": {
     "base_uri": "https://localhost:8080/",
     "height": 237
    },
    "id": "DLZ7KU49LzQx",
    "outputId": "acee4b00-7ce6-458f-a78c-396b23b59c8d"
   },
   "outputs": [],
   "source": [
    "dataset[dataset.length > 1100]"
   ]
  },
  {
   "cell_type": "markdown",
   "metadata": {
    "id": "MxamJSZcCwKt"
   },
   "source": [
    "Vemos que los textos más largos son todos positivos. Cuando exploramos textos levemente más cortos encontramos también textos negativos.\n",
    "\n",
    "Son pocos textos y no parece suponer un gran problema, pero habría que controlar los posibles sesgos debidos a longitud (que el modelo no aprenda que cualquier texto por debajo de 20 palabras es negativo, y por encima de 1100 es positivo, por ejemplo)."
   ]
  },
  {
   "cell_type": "markdown",
   "metadata": {
    "id": "gWdFwU4X_jc_"
   },
   "source": [
    "#### Limpieza de texto"
   ]
  },
  {
   "cell_type": "markdown",
   "metadata": {
    "id": "EY64PzC8O2ib"
   },
   "source": [
    "En una exploración manual hemos visto que exiten fragmentos de html. De hecho, aproximadamente un 60% de los textos contienen el token `<br`, lo que nos indica que muchos textos podrían contener fragmentos de código html."
   ]
  },
  {
   "cell_type": "code",
   "execution_count": null,
   "metadata": {
    "colab": {
     "base_uri": "https://localhost:8080/"
    },
    "id": "tAo2nQqWMSiF",
    "outputId": "c4f8bbf9-1f54-450e-d3c9-34af25fbb876"
   },
   "outputs": [],
   "source": [
    "np.mean(dataset.review.str.contains('<br'))*100"
   ]
  },
  {
   "cell_type": "markdown",
   "metadata": {
    "id": "j87Inyzv_65t"
   },
   "source": [
    "Dado que exploraremos y trataremos los textos más adelante, esto debería quedar reflejado en la exploración, y lo trataremos en el preprocesado de los mismos."
   ]
  },
  {
   "cell_type": "markdown",
   "metadata": {
    "id": "25PlhTBJEDyc"
   },
   "source": [
    "**Preprocesado**"
   ]
  },
  {
   "cell_type": "markdown",
   "metadata": {
    "id": "0cIpkBjm-09X"
   },
   "source": [
    "A continuación vamos a explorar el texto y vamos a intentar aplicar mejoras en la limpieza del mismo según vayamos analizando los resultados.\n",
    "\n",
    "Para mejorar la lectura del código y el encapsulamiento del mismo, vamos a creamos una clase que hereda de las clases de estimadores de Sklearn. Adicionalmente, esto nos ayudará a hacer pruebas de manera sencilla con GridSearch.\n",
    "\n",
    "⚠️ `WordNetLemmatizer()` no es un objeto serializable por `joblib` (una de las librerías que utiliza sklearn para paralelizar cálculos), por lo que ajustaremos la opción `njobs=1`, para evitar potenciales problemas."
   ]
  },
  {
   "cell_type": "markdown",
   "metadata": {
    "id": "uE5A5SYNFNrh"
   },
   "source": [
    "Para, una vez más, aportar sencillez, vamos a establecer 3 tipos de preprocesado, que serán incrementales:\n",
    "\n",
    "* `basic`: únicamente se hace una limpieza básica, pasando a minúsculas, filtrando caracteres indeseados y stopwords.\n",
    "* `lemma`: sobre el tratamiento `basic` se aplica lemmatización.\n",
    "+ `stem`: adicionalmente al lemmatizado, se aplica stemming."
   ]
  },
  {
   "cell_type": "code",
   "execution_count": null,
   "metadata": {
    "id": "mMmhS6dR-w_9"
   },
   "outputs": [],
   "source": [
    "class TextPreprocessor(BaseEstimator, TransformerMixin):\n",
    "    def __init__(self, level='basic'):\n",
    "        assert level in ['basic', 'lemma', 'stem'], \"Wrong level value\"\n",
    "        self.level = level\n",
    "        self.apply_lemma = level != 'basic'\n",
    "        self.apply_stem = level == 'stem'\n",
    "    \n",
    "    def clean_text(self, text):\n",
    "        letters_only = re.sub(\"[^a-zA-Z]\", \" \", text)\n",
    "        words = letters_only.lower().split()\n",
    "        stops = set(stopwords.words(\"english\") + ['br'])\n",
    "        words = [w for w in words if not w in stops]\n",
    "        return words\n",
    "\n",
    "    def lemmatize_words(self, words):\n",
    "        wordnet_lemmatizer = WordNetLemmatizer()\n",
    "        lemmatized = [wordnet_lemmatizer.lemmatize(word) for word in words]\n",
    "        return lemmatized\n",
    "    \n",
    "    def stem_words(self, words):\n",
    "        stemmer = PorterStemmer()\n",
    "        stemmed = [stemmer.stem(word) for word in words]\n",
    "        return stemmed\n",
    "\n",
    "    def parse_text(self, text):\n",
    "        words = self.clean_text(text)\n",
    "        if self.apply_lemma:\n",
    "            words = self.lemmatize_words(words)\n",
    "        if self.apply_stem:\n",
    "            words = self.stem_words(words)\n",
    "        return \" \".join(words)\n",
    "\n",
    "    def fit(self, X, y=None):\n",
    "        return self\n",
    "\n",
    "    def transform(self, X, y=None):\n",
    "        return np.vectorize(self.parse_text)(X)\n",
    "\n",
    "    def get_params(self, deep=True):\n",
    "        return {\n",
    "            \"level\": self.level\n",
    "        }"
   ]
  },
  {
   "cell_type": "markdown",
   "metadata": {
    "id": "qmORkeVvE92G"
   },
   "source": [
    "Vamos a utilizar esta clase para preprocesar el texto y mejorar su calidad. Por sencillez, vamos a explorar la calidad de los textos a través de sus palabras más comunes."
   ]
  },
  {
   "cell_type": "markdown",
   "metadata": {
    "id": "es4uAbkjAcYy"
   },
   "source": [
    "#### Palabras más frecuentes"
   ]
  },
  {
   "cell_type": "markdown",
   "metadata": {
    "id": "Pb2LrGaXRgmi"
   },
   "source": [
    "Vamos a utilizar el CountVectorizer de sklearn para contar las palabras más frecuentes. En su configuración vamos a incluir un filtrado que elimine las palabras que aparezcan en más de un 80% de los textos, lo que eliminará tokens extremadamente comunes y algunas stopwords altamente frecuentes (`in`, `for`, `a`, `the`, etc)"
   ]
  },
  {
   "cell_type": "code",
   "execution_count": null,
   "metadata": {
    "id": "-7K3Ve4YE7JC"
   },
   "outputs": [],
   "source": [
    "def get_word_counts(texts, vocab=None):\n",
    "    counter = CountVectorizer(\n",
    "        lowercase=True,\n",
    "        max_df=0.80,\n",
    "        min_df=0.001,\n",
    "        vocabulary=vocab\n",
    "    )\n",
    "    word_counts = counter.fit_transform(texts)\n",
    "    word_counts = {\n",
    "        w:c for w,c in zip(\n",
    "            counter.get_feature_names_out(), \n",
    "            word_counts.sum(axis=0).flatten().tolist()[0]\n",
    "        )\n",
    "    }\n",
    "    return word_counts"
   ]
  },
  {
   "cell_type": "markdown",
   "metadata": {
    "id": "Gb97zknJGm6m"
   },
   "source": [
    "Creamos también una función para generar un histograma de la frecuencia de palabras. Por defecto mostraremos las 20 más frecuentes, que nos dará una idea de los principales problemas del corpus."
   ]
  },
  {
   "cell_type": "code",
   "execution_count": null,
   "metadata": {
    "id": "PhT7qmBwCaaM"
   },
   "outputs": [],
   "source": [
    "def plot_word_count(word_count):\n",
    "    print(\"Tamaño del vocabulario: \", len(word_counts.items()))\n",
    "    pd.DataFrame.from_dict(\n",
    "        word_counts,\n",
    "        orient='index',\n",
    "        columns=['count']\n",
    "    ).sort_values(by='count', ascending=False).head(20).plot(kind='bar')"
   ]
  },
  {
   "cell_type": "code",
   "execution_count": null,
   "metadata": {
    "colab": {
     "base_uri": "https://localhost:8080/",
     "height": 363
    },
    "id": "qVCBLtg6C7N7",
    "outputId": "74a06d2b-4726-4fd0-8bda-5bdbc6f00735"
   },
   "outputs": [],
   "source": [
    "word_counts = get_word_counts(dataset.review)\n",
    "plot_word_count(word_counts)"
   ]
  },
  {
   "cell_type": "markdown",
   "metadata": {
    "id": "wwWNLOWgC5y9"
   },
   "source": [
    "Vemos que aparece el token que ya habíamos anticipado (br), pero no parece haber una gran presencia de otros tags de html.\n",
    "\n",
    "Vemos que existen numerosas stopwords, y distintas formas del mismo verbo. El tamaño del vocabulario supera las 10.000 palabras. Vamos a ver el impacto de aplicar un preprocesado básico."
   ]
  },
  {
   "cell_type": "code",
   "execution_count": null,
   "metadata": {
    "id": "A12W7RDPEylj"
   },
   "outputs": [],
   "source": [
    "basic_parser = TextPreprocessor(level='basic')"
   ]
  },
  {
   "cell_type": "code",
   "execution_count": null,
   "metadata": {
    "colab": {
     "base_uri": "https://localhost:8080/",
     "height": 367
    },
    "id": "AwXR4zerRrLw",
    "outputId": "7ae59453-bed9-4355-9733-3c6de3139d88"
   },
   "outputs": [],
   "source": [
    "parsed_text = basic_parser.transform(dataset.review)\n",
    "word_counts = get_word_counts(parsed_text)\n",
    "plot_word_count(word_counts)"
   ]
  },
  {
   "cell_type": "markdown",
   "metadata": {
    "id": "w9SXOPRmBWT3"
   },
   "source": [
    "Las palabras más frecuentes tienen sentido, aunque se observa que necesitamos una normalización más avanzada del texto, y un proceso de lematización por ejemplo ayudaría a reducir la alta dimensionalidad (encontramos `characters` y `character` entre las palabras más utilizadas)\n",
    "\n",
    "Aunque han desaparecido las stopwords, el impacto en la reducción del vocabulario sigue siendo pequeña (nos mantenemos por encima de las 10.000 palabras). \n",
    "\n",
    "Vamos a añadir el lemmatizado para eliminar el incremento de dimensionalidad debido a plurales y diferentes formas verbales."
   ]
  },
  {
   "cell_type": "code",
   "execution_count": null,
   "metadata": {
    "id": "Lm1sXYxFoo8y"
   },
   "outputs": [],
   "source": [
    "lemma_parser = TextPreprocessor(level='lemma')"
   ]
  },
  {
   "cell_type": "code",
   "execution_count": null,
   "metadata": {
    "colab": {
     "base_uri": "https://localhost:8080/",
     "height": 382
    },
    "id": "C6zkcdpKWMSG",
    "outputId": "70fd745b-2058-4ffa-b74f-16bd392a3855"
   },
   "outputs": [],
   "source": [
    "parsed_text = lemma_parser.transform(dataset.review)\n",
    "word_counts = get_word_counts(parsed_text)\n",
    "plot_word_count(word_counts)"
   ]
  },
  {
   "cell_type": "markdown",
   "metadata": {
    "id": "8FGjhAm-Bnjd"
   },
   "source": [
    "Nos situamos finalmente por debajo de las 10.000 palabras, con una reducción de notable del vocabulario.\n",
    "\n",
    "Viendo las palabras más frecuentes, existen dos potenciales problemas:\n",
    " * Palabras con la misma raiz pero diferentes formas. Veremos el impacto que tiene la eliminación de este fenomeno con la aplicación de `stemminig`.\n",
    " * Palabras muy frecuentes, pero con baja carga semántica (`get`, `much`, `also`, etc). Más adelante aplicaremos técnicas de pesado (tf-idf), para reducir él peso de estas y veremos su impacto.\n",
    "\n",
    " Pasemos a aplicar stemming y ver el resultado."
   ]
  },
  {
   "cell_type": "code",
   "execution_count": null,
   "metadata": {
    "id": "boKwMlUvySX2"
   },
   "outputs": [],
   "source": [
    "stem_parser = TextPreprocessor(level='stem')"
   ]
  },
  {
   "cell_type": "code",
   "execution_count": null,
   "metadata": {
    "colab": {
     "base_uri": "https://localhost:8080/",
     "height": 371
    },
    "id": "0TlrE7cRY7Ir",
    "outputId": "a2b244be-04ef-49ec-9f2c-27540ffef939"
   },
   "outputs": [],
   "source": [
    "parsed_text = stem_parser.transform(dataset.review)\n",
    "word_counts = get_word_counts(parsed_text)\n",
    "plot_word_count(word_counts)"
   ]
  },
  {
   "cell_type": "markdown",
   "metadata": {
    "id": "-iSgkA3CTo7k"
   },
   "source": [
    "#### Correlaciones"
   ]
  },
  {
   "cell_type": "markdown",
   "metadata": {
    "id": "D3VIPhrjKfv7"
   },
   "source": [
    "Por último, antes de cerrar una primera exploración de los textos, vamos a hacer una vectorización preliminar y vamos a hacer un estudo global de las correlaciones, por si existiese alguna palabra con una correlación anormal con el output.\n",
    "\n",
    "Esto es relativamente frecuente cuando se trabaja con textos procedentes de scraping web, donde en ocasiones se cuelan `tags` o cabeceras de secciones que aparecen en todos los artículos de una categoría y hacen que los modelos aprendan únicamente a clasificar en presencia de la misma."
   ]
  },
  {
   "cell_type": "markdown",
   "metadata": {
    "id": "9KQ6XROGLIG9"
   },
   "source": [
    "Vamos a vectorizar los textos, y miraremos la correlación de todas las variables con la columna `label` del dataset."
   ]
  },
  {
   "cell_type": "code",
   "execution_count": null,
   "metadata": {
    "id": "CbJ4yaztGVGn"
   },
   "outputs": [],
   "source": [
    "counter = CountVectorizer(\n",
    "    max_df=0.99,\n",
    "    min_df=0.01,\n",
    "    max_features=10_000\n",
    ")"
   ]
  },
  {
   "cell_type": "code",
   "execution_count": null,
   "metadata": {
    "id": "Z1tLXnlRkZu1"
   },
   "outputs": [],
   "source": [
    "lemma_parser = TextPreprocessor(level='lemma')"
   ]
  },
  {
   "cell_type": "code",
   "execution_count": null,
   "metadata": {
    "id": "cXnimNkBJt4-"
   },
   "outputs": [],
   "source": [
    "counts = counter.fit_transform(lemma_parser.transform(dataset.review))\n",
    "counts = pd.DataFrame(counts.toarray(), columns=counter.get_feature_names_out())\n",
    "counts['label'] = dataset['label'].astype('int64').reset_index()['label']\n",
    "counts['train_partition'] = dataset['train_partition'].astype('int64').reset_index()['train_partition']"
   ]
  },
  {
   "cell_type": "code",
   "execution_count": null,
   "metadata": {
    "colab": {
     "base_uri": "https://localhost:8080/"
    },
    "id": "oyLHZBgcLQ6Z",
    "outputId": "b91d447c-6fb3-4cb9-eee9-f8025b4dc0ca"
   },
   "outputs": [],
   "source": [
    "%%time\n",
    "correlation_matrix = counts.corr()"
   ]
  },
  {
   "cell_type": "markdown",
   "metadata": {
    "id": "UtJG2qS1LW1x"
   },
   "source": [
    "Hemos calculado una matriz completa de correlaciones que podría utilizarse para otros análisis. En nuestro caso nos centraremos en las correlaciones con la variable `label`."
   ]
  },
  {
   "cell_type": "code",
   "execution_count": null,
   "metadata": {
    "colab": {
     "base_uri": "https://localhost:8080/"
    },
    "id": "gvtAu6oOLUMS",
    "outputId": "7c2d8518-c1c9-4a02-b72f-8162702b0b05"
   },
   "outputs": [],
   "source": [
    "correlation_matrix['label'].sort_values(ascending=False)"
   ]
  },
  {
   "cell_type": "markdown",
   "metadata": {
    "id": "Bzo--LjwLixq"
   },
   "source": [
    "A parte de la correlación de la propia variable consigo misma, no se aprecian grandes correlaciones que no sean esperables. Como vemos, las palabras como \"best\" o \"great\", tienen correlaciones positibas, y \"bad\" o \"worst\" correlaciones negativas."
   ]
  },
  {
   "cell_type": "markdown",
   "metadata": {
    "id": "FjaXJirsgpqa"
   },
   "source": [
    "### Desviaciones train vs test\n",
    "\n",
    "Para finalizar la exploración, deberíamos comprobar que las variables del dataset de entrenamiento y el de test siguen distribuciones similares. \n",
    "\n",
    "Dado que estamos usando vectorizaciones que generan una alta dimensionalidad, ejecutar tests estadísticos variable por variable suele ser poco práctico.\n",
    "\n",
    "Una manera rápida de valorar esto es intentar entrenar un modelo que intente diferenciar entre el dataset de entrenamiento y el de test."
   ]
  },
  {
   "cell_type": "markdown",
   "metadata": {
    "id": "8nqwEmdHNxvw"
   },
   "source": [
    "#### Modelo de detección de sesgos."
   ]
  },
  {
   "cell_type": "markdown",
   "metadata": {
    "id": "_JYVh_vKN72i"
   },
   "source": [
    "Aunque no es un método demasiado formal, entrenar un modelo que intente clasificar datos entre test y train es una manera efectiva de detectar grandes seesgos.\n",
    "\n",
    "Para ello, vamos a generar un dataset, con una partición 80/20 y en cada una de ellas incluiremos datos del dataset original de train y de test. Utilizaremos el 80% del muestreo para entrenar y el 20% restante para validar el modelo resultante."
   ]
  },
  {
   "cell_type": "code",
   "execution_count": null,
   "metadata": {
    "id": "uCH6_iOTudeh"
   },
   "outputs": [],
   "source": [
    "drift_detection_train, drift_detection_test = train_test_split(dataset, train_size=0.80)"
   ]
  },
  {
   "cell_type": "markdown",
   "metadata": {
    "id": "zx_WrEBcOZuH"
   },
   "source": [
    "Creamos un pipeline de clasificación sencillo, y lo entrenamos. Dado que las clases en este caso estarán claramente desbalanceadas, es importante especificar el parámetro `class_weight='balanced'` (comportamiento por defecto en la versión actual de sklearn)."
   ]
  },
  {
   "cell_type": "code",
   "execution_count": null,
   "metadata": {
    "id": "f4zEz3mxjWfo"
   },
   "outputs": [],
   "source": [
    "drift_detection_model = Pipeline(\n",
    "    steps=[\n",
    "        ('text_preprocessor', TextPreprocessor(level='basic')),\n",
    "        ('vectorizer', counter),\n",
    "        ('classifier', SGDClassifier(loss='log', class_weight='balanced'))\n",
    "    ]\n",
    ")"
   ]
  },
  {
   "cell_type": "code",
   "execution_count": null,
   "metadata": {
    "colab": {
     "base_uri": "https://localhost:8080/"
    },
    "id": "AQao9tGvl7wy",
    "outputId": "32ad361e-8b68-4397-9134-ed4154fa641d"
   },
   "outputs": [],
   "source": [
    "%%time\n",
    "drift_detection_model.fit(\n",
    "    drift_detection_train.review, drift_detection_train.train_partition\n",
    ")\n",
    "outputs = drift_detection_model.predict(drift_detection_test.review)\n",
    "print('% de acierto: ', np.mean(outputs == drift_detection_test.train_partition))"
   ]
  },
  {
   "cell_type": "markdown",
   "metadata": {
    "id": "vq0ywBzzR_ju"
   },
   "source": [
    "Vemos que la tasa de acierto del modelo es baja (en torno al 50%), lo cual no da pie a pensar que haya ningún problema grave.\n",
    "\n",
    "De todas maneras, exploremos brevenente las etiquetas y los pesos del modelo, y vamos a utilizar una herramienta adicional para garantizar que no existen sesgos relevantes."
   ]
  },
  {
   "cell_type": "code",
   "execution_count": null,
   "metadata": {
    "colab": {
     "base_uri": "https://localhost:8080/"
    },
    "id": "V9KlRrKhn9Si",
    "outputId": "9256cbfe-2c39-43dc-aa37-07e4d8c6eeea"
   },
   "outputs": [],
   "source": [
    "Counter(outputs)"
   ]
  },
  {
   "cell_type": "code",
   "execution_count": null,
   "metadata": {
    "colab": {
     "base_uri": "https://localhost:8080/",
     "height": 143
    },
    "id": "MrClBr_kq-G4",
    "outputId": "01c1c217-6a01-496f-b936-c9d48aefb045"
   },
   "outputs": [],
   "source": [
    "drift_detection_test.groupby(by=['partition']).count()"
   ]
  },
  {
   "cell_type": "code",
   "execution_count": null,
   "metadata": {
    "id": "cCpQpUropGoP"
   },
   "outputs": [],
   "source": [
    "weights = drift_detection_model.named_steps['classifier'].coef_[0]\n",
    "words = drift_detection_model.named_steps['vectorizer'].get_feature_names_out()"
   ]
  },
  {
   "cell_type": "code",
   "execution_count": null,
   "metadata": {
    "id": "5Xwppr6Mptck"
   },
   "outputs": [],
   "source": [
    "model_weights = {wo:we for wo, we in zip(words, weights)}\n",
    "model_weights = sorted(model_weights.items(), key=lambda item: item[1], reverse=True)"
   ]
  },
  {
   "cell_type": "markdown",
   "metadata": {
    "id": "y2J7ulSVSbBd"
   },
   "source": [
    "A continuación vemos las palabras con mayor y menor peso respectivamente dentro del modelo:"
   ]
  },
  {
   "cell_type": "code",
   "execution_count": null,
   "metadata": {
    "colab": {
     "base_uri": "https://localhost:8080/"
    },
    "id": "dZn2fwLKqpB9",
    "outputId": "dfc31c61-1a47-4f09-dfca-368d839d48f7"
   },
   "outputs": [],
   "source": [
    "model_weights[:10]"
   ]
  },
  {
   "cell_type": "code",
   "execution_count": null,
   "metadata": {
    "colab": {
     "base_uri": "https://localhost:8080/"
    },
    "id": "1WsrSimsqrKy",
    "outputId": "43865e4f-99d8-49dd-adbc-0309ae5dc7f7"
   },
   "outputs": [],
   "source": [
    "model_weights[-10:]"
   ]
  },
  {
   "cell_type": "markdown",
   "metadata": {
    "id": "JYqAM2TXSkI8"
   },
   "source": [
    "No se observa nada llamativo más allá de las influencias marginales de unas u otras palabras debidas probablemente a un tamaño de dataset no muy grande. Debemos tener en cuenta que al tener por lo general más variables que téxtos, es frecuente observar estos comportamientos.\n",
    "\n",
    "Esto es, puede que haya una palabra que aparezca una vez en el dataset, y el modelo se fije en ella para clasificarlo."
   ]
  },
  {
   "cell_type": "markdown",
   "metadata": {
    "id": "j3T-U8UgRK8Q"
   },
   "source": [
    "#### Medición de feature drift"
   ]
  },
  {
   "cell_type": "markdown",
   "metadata": {
    "id": "_WiRUw-sTI7w"
   },
   "source": [
    "Para finalizar, vamos a utilizar una librería que nos marcará las variables. Con deepchecks evaluaremos todas las variables y se comprobarán las potenciales desviaciones entre la partición de test y de train. \n",
    "\n",
    "Para que pueda evaluar los sesgos en todas las variables posibles, vamos a utilizar la matriz de conteos que se generó en el apartado anterior."
   ]
  },
  {
   "cell_type": "code",
   "execution_count": null,
   "metadata": {
    "id": "nerESj_wr__M"
   },
   "outputs": [],
   "source": [
    "from deepchecks.tabular.checks import TrainTestFeatureDrift"
   ]
  },
  {
   "cell_type": "code",
   "execution_count": null,
   "metadata": {
    "id": "8m5Flga9YFYc"
   },
   "outputs": [],
   "source": [
    "counts[counts.train_partition==1].shape"
   ]
  },
  {
   "cell_type": "code",
   "execution_count": null,
   "metadata": {
    "id": "nY8NFUxwYebn"
   },
   "outputs": [],
   "source": [
    "np.all(counts[counts.train_partition==0].columns == counts[counts.train_partition==1].columns)"
   ]
  },
  {
   "cell_type": "code",
   "execution_count": null,
   "metadata": {
    "id": "PibeS5VqsZZk"
   },
   "outputs": [],
   "source": [
    "TrainTestFeatureDrift().run(\n",
    "    counts[counts.train_partition==1].drop(columns=['train_partition']),\n",
    "    counts[counts.train_partition==0].drop(columns=['train_partition'])\n",
    ")"
   ]
  },
  {
   "cell_type": "markdown",
   "metadata": {
    "id": "QU_Ljx4DmmNh"
   },
   "source": [
    "Vemos que la variable que mayor sesgo presenta es la propia varible 'partition'. Después de explorar el resto de variables con mayor sesgo, no se observa ninguna desviación importante en el dataset."
   ]
  },
  {
   "cell_type": "markdown",
   "metadata": {
    "id": "HWy4TCchZNn0",
    "jp-MarkdownHeadingCollapsed": true,
    "tags": []
   },
   "source": [
    "# 2. Modelos Machine Learning"
   ]
  },
  {
   "cell_type": "markdown",
   "metadata": {
    "id": "a8dHdzUJZRCz"
   },
   "source": [
    "Vamos a explorar las capacidades que nos ofrecen los modelos clásicos de Machine Learning. En primer lugar, dados los propuestos en la práctica guiada, intentar explorar el impacto de los distintos parámetros relacionados con el tratamiento del texto y la vectorización.\n",
    "\n",
    "A continuación, una vez entendido el impacto de los pasos previos, nos centraremos en evaluar distintos modelos y sus capacidades, intentando explorar sus distintas parametrizaciones."
   ]
  },
  {
   "cell_type": "markdown",
   "metadata": {
    "id": "pUeLI7Nmvr8A"
   },
   "source": [
    "## Tratamiento del texto y vectorización"
   ]
  },
  {
   "cell_type": "markdown",
   "metadata": {
    "id": "Nr6QO-UvVHtB"
   },
   "source": [
    "Como avanzábamos, en esta sección vamos a hacer algunas pruebas con el fin de entender el impacto de los distintos parámetros de los que disponemos a la hora de tratar y vectorizar el texto."
   ]
  },
  {
   "cell_type": "markdown",
   "metadata": {
    "id": "6Sd-4IpvVTVs"
   },
   "source": [
    "### Tratamiento del texto\n",
    "\n",
    "En el apartado anterior se lelvaron a cabo pruebas para evaluar el impacto en la calidad de los textos y la dimensionalidad.\n",
    "\n",
    "Ahora vamos a ver cómo impacta en el entrenamiento los modelos.\n",
    "\n",
    "Elegiremos tres modelos, que dejaremos fijos, y evaluaremos el impacto que el preprocesado tiene en la eficacia de los mismos. En concreto, evaluaremos el impacto de los tres niveles de tratamiento elegidos: `basic`, `lemma` y `stem`.\n",
    "\n",
    "❗ Usaremos en este punto validación cruzada sobre todo el dataset (test+train) para agilizar el desarrollo."
   ]
  },
  {
   "cell_type": "markdown",
   "metadata": {
    "id": "Ad71HP4Vdg6w"
   },
   "source": [
    "Usaremos para estas pruebas:\n",
    "* Regresión logística\n",
    "* SVM\n",
    "* Navie Bayes"
   ]
  },
  {
   "cell_type": "code",
   "execution_count": null,
   "metadata": {
    "id": "oZKz2z4H9w-8"
   },
   "outputs": [],
   "source": [
    "models = [\n",
    "    ('log_reg', SGDClassifier(loss='log')),\n",
    "    ('svm', SGDClassifier(loss='hinge')),\n",
    "    ('naive_bayes', MultinomialNB())\n",
    "]"
   ]
  },
  {
   "cell_type": "code",
   "execution_count": null,
   "metadata": {
    "id": "f9eMqor59_49"
   },
   "outputs": [],
   "source": [
    "params = {\n",
    "    'text_preprocessor__level': ['basic', 'lemma', 'stem'],\n",
    "    'vectorizer__max_df': [0.8],\n",
    "    'vectorizer__min_df': [0.01],\n",
    "}"
   ]
  },
  {
   "cell_type": "markdown",
   "metadata": {
    "id": "5HYBCbSHd4rc"
   },
   "source": [
    "Como anticipamos, vamos a medir el impacto del tratamiento del texto en el entrenamiento de los modelos. Evaluaremos los tres niveles definidos, para ver cómo afecta, sobretodo, la lematización y el stemming."
   ]
  },
  {
   "cell_type": "code",
   "execution_count": null,
   "metadata": {
    "colab": {
     "base_uri": "https://localhost:8080/",
     "height": 49,
     "referenced_widgets": [
      "f53f0f3b1ee64e4c87f790cc4a57df5a",
      "083bd8caa43c471680474b8a79e9cf39",
      "39174dfc443947e19601119d73a46b30",
      "3450882617664db7bcb196679e4a573b",
      "088d83c2329b4d3db196fbc2ba75589e",
      "1b4eda693f414126a669c58e101b790a",
      "d2b82da7457247138d10104a5088eabf",
      "880c8fa426a84d70be449a5e237a153e",
      "5f51cb626b0c44f4b31d48b5a6401445",
      "df0f6629bb224b65be26530eecc3d9a0",
      "e1152a21859b4ebf9681f906878eb7a0"
     ]
    },
    "id": "JOKP6fM1-F5O",
    "outputId": "e70e69f6-0a3d-4b6d-fa65-50128afdf210"
   },
   "outputs": [],
   "source": [
    "results = []\n",
    "for model_name, model in tqdm_notebook(models):\n",
    "    pipe = Pipeline(\n",
    "        memory='cache/vocab-size',\n",
    "        steps=[\n",
    "            ('text_preprocessor', TextPreprocessor()),\n",
    "            ('vectorizer', CountVectorizer()),\n",
    "            ('classifier', model)\n",
    "        ]\n",
    "    )\n",
    "    grid_search = GridSearchCV(pipe, params, n_jobs=1)\n",
    "    grid_search.fit(dataset.review, dataset.label)\n",
    "    cv_results = pd.DataFrame(grid_search.cv_results_)\n",
    "    cv_results['model'] = model_name\n",
    "    results.append(cv_results)"
   ]
  },
  {
   "cell_type": "code",
   "execution_count": null,
   "metadata": {
    "id": "vrdF98If-hCj"
   },
   "outputs": [],
   "source": [
    "cv_results = pd.concat(results)\n",
    "cv_results = cv_results.sort_values(\"model\", ascending=False).reset_index()"
   ]
  },
  {
   "cell_type": "code",
   "execution_count": null,
   "metadata": {
    "colab": {
     "base_uri": "https://localhost:8080/",
     "height": 429
    },
    "id": "Pxc9zXHQ-oG-",
    "outputId": "2a3674b9-87dd-4d21-d2be-913475eeda0e"
   },
   "outputs": [],
   "source": [
    "chart = sns.barplot(data=cv_results, x='model', y='mean_test_score', hue='param_text_preprocessor__level')\n",
    "chart.set(ylim=(0.80, None))\n",
    "cv_results.groupby(by=['model']).max()['mean_test_score']"
   ]
  },
  {
   "cell_type": "markdown",
   "metadata": {
    "id": "l9ZmggeIeyMy"
   },
   "source": [
    "Curiosamente las técnicas de stemming y lematización muestran un descenso en la capacidad predictiva de los modelos.\n",
    "\n",
    "Probablemente se deba a la reducción de dimensionalidad que provocan, dado que en este momento no se está acotando en número de variables.\n",
    "\n",
    "Veamos un ejemplo donde se acota el número de variables. Utilizaremos el límite que asigna el CountVectorizer de sklearn, que elige las más frecuentes. Más adelante, utilizaremos técnicas de selección más complejas."
   ]
  },
  {
   "cell_type": "markdown",
   "metadata": {
    "id": "vsgrDuKG3TTw"
   },
   "source": [
    "Fijamos un límite de 1.000 variables:"
   ]
  },
  {
   "cell_type": "code",
   "execution_count": null,
   "metadata": {
    "id": "nmBjGb42fKnm"
   },
   "outputs": [],
   "source": [
    "params = {\n",
    "    'text_preprocessor__level': ['basic', 'lemma', 'stem'],\n",
    "    'vectorizer__max_features': [1_000],\n",
    "    'vectorizer__max_df': [0.8],\n",
    "    'vectorizer__min_df': [0.01],\n",
    "}"
   ]
  },
  {
   "cell_type": "code",
   "execution_count": null,
   "metadata": {
    "colab": {
     "base_uri": "https://localhost:8080/",
     "height": 49,
     "referenced_widgets": [
      "14a953200bd74135a46da393e8688964",
      "f532e3b831ee4a92861a081e35b8de42",
      "7b110c7a10364d5d8fc97a1ddf1e3a17",
      "4e4cdf7fd68542489774358f02475ed4",
      "560e900bc6504e7d802eb2a9ed2fb279",
      "2c934e1052544346ae7d43c3a301705e",
      "ebbb841d1e55442092a54b169b692371",
      "be7c65b5556347e2988cd5aa8a42401f",
      "57c20c1e10f14cc693fcf9c3085e6ee4",
      "a9a16b6d1e1f46fa8fbdfc646f40e9b6",
      "ea5fe136fd944daabc3e8134eea176c8"
     ]
    },
    "id": "Vn3xLWWNfKbN",
    "outputId": "cea3357f-a1d4-48b2-a53c-399b1c2106fe"
   },
   "outputs": [],
   "source": [
    "results = []\n",
    "for model_name, model in tqdm_notebook(models):\n",
    "    pipe = Pipeline(\n",
    "        memory='cache/vocab-size',\n",
    "        steps=[\n",
    "            ('text_preprocessor', TextPreprocessor()),\n",
    "            ('vectorizer', CountVectorizer()),\n",
    "            ('classifier', model)\n",
    "        ]\n",
    "    )\n",
    "    grid_search = GridSearchCV(pipe, params, n_jobs=1)\n",
    "    grid_search.fit(dataset.review, dataset.label)\n",
    "    cv_results = pd.DataFrame(grid_search.cv_results_)\n",
    "    cv_results['model'] = model_name\n",
    "    results.append(cv_results)"
   ]
  },
  {
   "cell_type": "code",
   "execution_count": null,
   "metadata": {
    "id": "40kVb9iLfKNK"
   },
   "outputs": [],
   "source": [
    "cv_results = pd.concat(results)\n",
    "cv_results = cv_results.sort_values(\"model\", ascending=False).reset_index()"
   ]
  },
  {
   "cell_type": "code",
   "execution_count": null,
   "metadata": {
    "colab": {
     "base_uri": "https://localhost:8080/",
     "height": 429
    },
    "id": "aq41UUdEfW6I",
    "outputId": "b3a20866-c0c2-4e35-8fa9-d8b72c3f6064"
   },
   "outputs": [],
   "source": [
    "chart = sns.barplot(data=cv_results, x='model', y='mean_test_score', hue='param_text_preprocessor__level')\n",
    "chart.set(ylim=(0.80, None))\n",
    "cv_results.groupby(by=['model']).max()['mean_test_score']"
   ]
  },
  {
   "cell_type": "markdown",
   "metadata": {
    "id": "X6mqk-z43iND"
   },
   "source": [
    "Vemos claramente que en presencia de una reducción de variables la lematización y el stemming tienen un efecto positivo en las capacidades del modelo.\n",
    "\n",
    "De hecho, salvo en el caso de Naive Bayes que funciona mejor con mayor dimensionalidad, tanto SVM como la regresión logística aumentan su precisión."
   ]
  },
  {
   "cell_type": "markdown",
   "metadata": {
    "id": "63W2HAm7IAyG"
   },
   "source": [
    "### Vectorización"
   ]
  },
  {
   "cell_type": "markdown",
   "metadata": {
    "id": "tAovkMjafovP"
   },
   "source": [
    "Veamos ahora cómo impactan los distintos cambios en la vectorización de los textos. Nos detendremos en 4 puntos:\n",
    "* Acotar el número máximo de variables\n",
    "* Inclusión de N-gramas\n",
    "* Selección de variables\n",
    "* Técnicas de pesado de variables."
   ]
  },
  {
   "cell_type": "markdown",
   "metadata": {
    "id": "9lkKx3F9YQuY"
   },
   "source": [
    "#### Límite de variables"
   ]
  },
  {
   "cell_type": "markdown",
   "metadata": {
    "id": "WC063rIn5-u5"
   },
   "source": [
    "Vamos a variar de manera progresiva el límite de variables seleccionadas en la vectorización, y ver cómo impacta en la precisión de los modelos."
   ]
  },
  {
   "cell_type": "code",
   "execution_count": null,
   "metadata": {
    "id": "pWFhtxCPH0Lt"
   },
   "outputs": [],
   "source": [
    "params = {\n",
    "    'text_preprocessor__level': ['stem'],\n",
    "    'vectorizer__max_features': [10, 50, 100, 500, 1_000, 10_000, 50_000, 100_000],\n",
    "}"
   ]
  },
  {
   "cell_type": "code",
   "execution_count": null,
   "metadata": {
    "colab": {
     "base_uri": "https://localhost:8080/",
     "height": 49,
     "referenced_widgets": [
      "44b51219b98b44bfbfbb6a175815f298",
      "df53c027887c475596af09ea280cf249",
      "24a4348f2b9048c7ae108affae57f78c",
      "eac5aa6e7bf345619a9a07a05fa3bfb1",
      "91dc9dcdbbfe48f49e68272daebcd45b",
      "ed9c30b434d440c1ac57a8c419a7137c",
      "0982bebda668473582106f79d9b21398",
      "e4862370152d4ab4bd45d870a32742e8",
      "850ed4f5d8674462b3f295b636539c9e",
      "0b86b015850f409dba6e9a53b425da75",
      "7091d837fc0d4d48b3bc14e1dcaed082"
     ]
    },
    "id": "c7aLpSdaIogW",
    "outputId": "2484ebcf-3ce2-47cb-9981-00f6143cceba"
   },
   "outputs": [],
   "source": [
    "results = []\n",
    "for model_name, model in tqdm_notebook(models):\n",
    "    pipe = Pipeline(\n",
    "        memory='cache/vocab-size',\n",
    "        steps=[\n",
    "            ('text_preprocessor', TextPreprocessor()),\n",
    "            ('vectorizer', CountVectorizer()),\n",
    "            ('classifier', model)\n",
    "        ]\n",
    "    )\n",
    "    grid_search = GridSearchCV(pipe, params, n_jobs=1)\n",
    "    grid_search.fit(dataset.review, dataset.label)\n",
    "    cv_results = pd.DataFrame(grid_search.cv_results_)\n",
    "    cv_results['model'] = model_name\n",
    "    results.append(cv_results)"
   ]
  },
  {
   "cell_type": "code",
   "execution_count": null,
   "metadata": {
    "id": "TIeVMJhEJA95"
   },
   "outputs": [],
   "source": [
    "cv_results = pd.concat(results).reset_index()"
   ]
  },
  {
   "cell_type": "code",
   "execution_count": null,
   "metadata": {
    "colab": {
     "base_uri": "https://localhost:8080/",
     "height": 435
    },
    "id": "M6QOuI1DRSPs",
    "outputId": "8a677156-f083-474f-946b-994c3804a167"
   },
   "outputs": [],
   "source": [
    "chart = sns.lineplot(\n",
    "    data=cv_results,\n",
    "    x=\"param_vectorizer__max_features\",\n",
    "    y=\"mean_test_score\",\n",
    "    hue=\"model\"\n",
    ")\n",
    "chart.set(xscale='log')\n",
    "cv_results.groupby(by=['model']).max()['mean_test_score']"
   ]
  },
  {
   "cell_type": "markdown",
   "metadata": {
    "id": "MfMBd4x36X_O"
   },
   "source": [
    "Vemos cómo en todos los modelos seleccionados, la precisión de los modelos crece proporcionalmente con el número de variables hasta llegar a las 1.000 variables. A partir de ese momento el efecto es mucho menos acusado. \n",
    "\n",
    "La precisión máxima ronda el 85%."
   ]
  },
  {
   "cell_type": "markdown",
   "metadata": {
    "id": "u5xgUnlvYV9F"
   },
   "source": [
    "#### N-gramas"
   ]
  },
  {
   "cell_type": "markdown",
   "metadata": {
    "id": "gAZ3aHzs7LjF"
   },
   "source": [
    "A continuación vamos a intentar ver cómo impacta la introducción de bigramas. Debemos tener en cuenta que esto generará un alto número de nuevas variables."
   ]
  },
  {
   "cell_type": "code",
   "execution_count": null,
   "metadata": {
    "id": "8iCGpIcqYYPg"
   },
   "outputs": [],
   "source": [
    "params = {\n",
    "    'text_preprocessor__level': ['stem'],\n",
    "    'vectorizer__max_df': [0.8],\n",
    "    'vectorizer__min_df': [0.01],\n",
    "    'vectorizer__ngram_range': [(1, 1), (1, 2)],\n",
    "}"
   ]
  },
  {
   "cell_type": "code",
   "execution_count": null,
   "metadata": {
    "colab": {
     "base_uri": "https://localhost:8080/",
     "height": 49,
     "referenced_widgets": [
      "334d9d92df7e4f619f49d619d7877963",
      "86b71d35054447f0a04f54bc7777f240",
      "3cfe84736fb34f09b8ea8015713ecf44",
      "dfb56d7f77e04e56af83cff598b4e295",
      "e6f17efbaa8e4e7fb1fc5f5ce241e3ad",
      "11b589d29ed544638e50843e95aea34b",
      "1f84b8ab3f254a2b817b51c32884281b",
      "7dfb016feffe4b21a8eab54cfad80c35",
      "960c1761360d4363bd2f3f2c78456bdf",
      "2e2e3db77330412aa8039f9e8e809746",
      "267422f1aad94b1b8b06e99807c13856"
     ]
    },
    "id": "uteXjCfS0X1I",
    "outputId": "a6cdaaa3-576a-4f99-ec30-22673ea12d5e"
   },
   "outputs": [],
   "source": [
    "results = []\n",
    "for model_name, model in tqdm_notebook(models):\n",
    "    pipe = Pipeline(\n",
    "        memory='cache/ngram-range',\n",
    "        steps=[\n",
    "            ('text_preprocessor', TextPreprocessor()),\n",
    "            ('vectorizer', CountVectorizer()),\n",
    "            ('classifier', model)\n",
    "        ]\n",
    "    )\n",
    "    grid_search = GridSearchCV(pipe, params, n_jobs=1)\n",
    "    grid_search.fit(dataset.review, dataset.label)\n",
    "    cv_results = pd.DataFrame(grid_search.cv_results_)\n",
    "    cv_results['model'] = model_name\n",
    "    results.append(cv_results)"
   ]
  },
  {
   "cell_type": "code",
   "execution_count": null,
   "metadata": {
    "colab": {
     "base_uri": "https://localhost:8080/",
     "height": 429
    },
    "id": "r1VWNOn01AKq",
    "outputId": "5d956e6d-5b21-4538-9481-3315f69848d4"
   },
   "outputs": [],
   "source": [
    "cv_results = pd.concat(results)\n",
    "chart = sns.barplot(\n",
    "    data=cv_results,\n",
    "    x='model',\n",
    "    y='mean_test_score',\n",
    "    hue='param_vectorizer__ngram_range')\n",
    "chart.set(ylim=(0.80, None))\n",
    "cv_results.groupby(by=['model']).max()['mean_test_score']"
   ]
  },
  {
   "cell_type": "markdown",
   "metadata": {
    "id": "glxskK4C7hgr"
   },
   "source": [
    "Curiosamente, la introducción de bigramas no mejora la precisión, salvo en el caso de Naive Bayes, aunque esta mejora es leve. Esto me hace sospechar que esta degradación de las métricas viene causada por el aumento brusco de la dimensionalidad. En este punto no estamos acotando la dimensionalidad.\n",
    "\n",
    "Probaremos otro ejemplo acotando la dimensionalidad, sin embargo en este punto la sensación es que deberíamos utilizar una técnica de selección de variables más compleja, que simplemente elegir las más frecuentes, dado que los bigramas son menos frecuentes en general que los monogramas, y es probable perder bigramas que, aunque no muy frecuentes, tengan un impacto claro en la clasificación."
   ]
  },
  {
   "cell_type": "code",
   "execution_count": null,
   "metadata": {
    "id": "NW9Q_UAc7k0B"
   },
   "outputs": [],
   "source": [
    "params = {\n",
    "    'text_preprocessor__level': ['stem'],\n",
    "    'vectorizer__max_features': [10_000],\n",
    "    'vectorizer__max_df': [0.8],\n",
    "    'vectorizer__min_df': [0.01],\n",
    "    'vectorizer__ngram_range': [(1, 1), (1, 2)],\n",
    "}"
   ]
  },
  {
   "cell_type": "code",
   "execution_count": null,
   "metadata": {
    "colab": {
     "base_uri": "https://localhost:8080/",
     "height": 49,
     "referenced_widgets": [
      "6ebd6220c59f4c4e94f40f2465103e9a",
      "2310a136db5043d79e91b1da2fd1f99c",
      "ff1582b34cda4e428f5f9ed467806577",
      "59ce04ed633a46e189d9041ee815f6ff",
      "9d1d5e5d254a4492912d849501e822dd",
      "2ee064f7d62f4c7c8fc51410280ed96c",
      "e2db6cdeb26649c3abd7eb0b30090cae",
      "eadfb6d6651f41bfb9ff19a82084ac29",
      "55e27422a3f547ef97f80c442d9d6339",
      "7a86e2a9100b4e76b606bbb22cd11464",
      "f2a3a83d3e944532b92d32d3d4712262"
     ]
    },
    "id": "kuurdlwf7kpk",
    "outputId": "425838bb-5d77-4383-df66-111eab5c124a"
   },
   "outputs": [],
   "source": [
    "results = []\n",
    "for model_name, model in tqdm_notebook(models):\n",
    "    pipe = Pipeline(\n",
    "        memory='cache/ngram-range',\n",
    "        steps=[\n",
    "            ('text_preprocessor', TextPreprocessor()),\n",
    "            ('vectorizer', CountVectorizer()),\n",
    "            ('classifier', model)\n",
    "        ]\n",
    "    )\n",
    "    grid_search = GridSearchCV(pipe, params, n_jobs=1)\n",
    "    grid_search.fit(dataset.review, dataset.label)\n",
    "    cv_results = pd.DataFrame(grid_search.cv_results_)\n",
    "    cv_results['model'] = model_name\n",
    "    results.append(cv_results)"
   ]
  },
  {
   "cell_type": "code",
   "execution_count": null,
   "metadata": {
    "colab": {
     "base_uri": "https://localhost:8080/",
     "height": 429
    },
    "id": "3wyMIV2z7kjM",
    "outputId": "aaf2ce55-294e-4e75-c435-3d6b962dd920"
   },
   "outputs": [],
   "source": [
    "cv_results = pd.concat(results)\n",
    "chart = sns.barplot(\n",
    "    data=cv_results,\n",
    "    x='model',\n",
    "    y='mean_test_score',\n",
    "    hue='param_vectorizer__ngram_range')\n",
    "chart.set(ylim=(0.80, None))\n",
    "cv_results.groupby(by=['model']).max()['mean_test_score']"
   ]
  },
  {
   "cell_type": "markdown",
   "metadata": {
    "id": "wTBRigohoJYo"
   },
   "source": [
    "Al limitar el número de variables las diferencias se han reducido. Sin embargo, más adelante probaremos a combinarlo con otros sistemas de selección de variables, para evaluar mejor su impacto."
   ]
  },
  {
   "cell_type": "markdown",
   "metadata": {
    "id": "YCaHiONGYZHL"
   },
   "source": [
    "#### Selección de variables"
   ]
  },
  {
   "cell_type": "markdown",
   "metadata": {
    "id": "53VXvWNb7_RM"
   },
   "source": [
    "A continuación vamos a estudiar el impacto de aplicar una selección de variables más sofisticada.\n",
    "\n",
    "Utilizaremos dos métodos:\n",
    "- Selección de variables eligiendo las n variables con más correlación con la variabel objetivo.\n",
    "- Selección de variables aplicando regularización `l1` o `elasticnet` (combinación de normas)"
   ]
  },
  {
   "cell_type": "markdown",
   "metadata": {
    "id": "AhodQG7M8w7p"
   },
   "source": [
    "##### Selección estadística"
   ]
  },
  {
   "cell_type": "markdown",
   "metadata": {
    "id": "-YYoqRR1823u"
   },
   "source": [
    "Utilizaremos un score basado en `chi2`, y elegiremos las `k` variables con una puntuación más alta."
   ]
  },
  {
   "cell_type": "code",
   "execution_count": null,
   "metadata": {
    "id": "xIq0sp_Kegiq"
   },
   "outputs": [],
   "source": [
    "params = {\n",
    "    'text_preprocessor__level': ['stem'],\n",
    "    'vectorizer__max_features': [50_000],\n",
    "    'vectorizer__max_df': [0.8],\n",
    "    'vectorizer__min_df': [0.01],\n",
    "    'feature_selector__score_func': [chi2],\n",
    "    'feature_selector__k': [10, 50, 100, 200, 500, 1_000, 2_000, 5_000]\n",
    "}"
   ]
  },
  {
   "cell_type": "code",
   "execution_count": null,
   "metadata": {
    "colab": {
     "base_uri": "https://localhost:8080/",
     "height": 49,
     "referenced_widgets": [
      "e96c182346914e96bf516a809a762be5",
      "3e608378f68c4d348e4991c23cc12c35",
      "3c5872b7800a4d9f971a238e847cb230",
      "61e7094cb4a34a5da5e82efff7263b8c",
      "8498e4e3ed8a4502af9011cac5c46204",
      "c06d6a28f94e404b93f5d87b2a89e5d4",
      "7025cac0d55744dcb5a9c471a476e1d2",
      "b8f54502a90749f7b5f5273f318418d0",
      "1a37de6ebd314989b96489fabecf65cf",
      "b1b5f6744ede40ea92af78399df34551",
      "c91306f75e5d41acbd08a9accf1ac83d"
     ]
    },
    "id": "MI7uFkJWYk9G",
    "outputId": "b975b1b0-0877-4fe2-f5e0-5ce51fa6cae1"
   },
   "outputs": [],
   "source": [
    "results = []\n",
    "for model_name, model in tqdm_notebook(models):\n",
    "    pipe = Pipeline(\n",
    "        memory='cache/feature-selection',\n",
    "        steps=[\n",
    "            ('text_preprocessor', TextPreprocessor()),\n",
    "            ('vectorizer', CountVectorizer()),\n",
    "            ('feature_selector', SelectKBest()),\n",
    "            ('classifier', model)\n",
    "        ]\n",
    "    )\n",
    "    grid_search = GridSearchCV(pipe, params, n_jobs=1)\n",
    "    grid_search.fit(dataset.review, dataset.label)\n",
    "    cv_results = pd.DataFrame(grid_search.cv_results_)\n",
    "    cv_results['model'] = model_name\n",
    "    results.append(cv_results)"
   ]
  },
  {
   "cell_type": "code",
   "execution_count": null,
   "metadata": {
    "id": "rT36bBN4mcdd"
   },
   "outputs": [],
   "source": [
    "cv_results = pd.concat(results).reset_index()"
   ]
  },
  {
   "cell_type": "code",
   "execution_count": null,
   "metadata": {
    "colab": {
     "base_uri": "https://localhost:8080/",
     "height": 428
    },
    "id": "0_9cFewrmhVw",
    "outputId": "270a21d2-c2c8-45f8-c31b-0105c1510df8"
   },
   "outputs": [],
   "source": [
    "chart = sns.lineplot(\n",
    "    data=cv_results,\n",
    "    x=\"param_feature_selector__k\",\n",
    "    y=\"mean_test_score\",\n",
    "    hue=\"model\"\n",
    ")\n",
    "cv_results.groupby(by=['model']).max()['mean_test_score']"
   ]
  },
  {
   "cell_type": "markdown",
   "metadata": {
    "id": "ctVmEiSt9pjO"
   },
   "source": [
    "Vemos cómo se produce un pico de performance de los modelos, y llega un momento en el que añadir más variables no impacta en la precisión de los mismos. De hecho, para svm y regresión logística vemos como la precisión cae al aumentar las variables."
   ]
  },
  {
   "cell_type": "markdown",
   "metadata": {
    "id": "_ofFFIPW87ha"
   },
   "source": [
    "##### Selección por regularización"
   ]
  },
  {
   "cell_type": "markdown",
   "metadata": {
    "id": "WYo3kcjsia8j"
   },
   "source": [
    "Vamos a comparar con algún método que lleva implícida la seección de variables, en lugar de aplicar un test estadístico. Al aplicar regularización, en función del coeficiente de penalización, muchas de ellas irán asociadas a un peso de cero.\n",
    "\n",
    "De este modo, el criterio de selección no se basa en correlaciónn, si no que internamente el modelo lo descarta para ver si es relevante la información que aporta."
   ]
  },
  {
   "cell_type": "code",
   "execution_count": null,
   "metadata": {
    "id": "fzWeG8fvnuCe"
   },
   "outputs": [],
   "source": [
    "pipe = Pipeline(\n",
    "    memory='cache/feature-selection',\n",
    "    steps=[\n",
    "        ('text_preprocessor', TextPreprocessor()),\n",
    "        ('vectorizer', CountVectorizer()),\n",
    "        ('classifier', SGDClassifier())\n",
    "    ]\n",
    ")"
   ]
  },
  {
   "cell_type": "markdown",
   "metadata": {
    "id": "yfHl1IkbZ-s1"
   },
   "source": [
    "El parámetro `alpha` modula la regularización, por tanto influyen directamente en la selección de variables. Vamos a variar progresivamente este valor y medir los resultados."
   ]
  },
  {
   "cell_type": "code",
   "execution_count": null,
   "metadata": {
    "id": "RL6lrklpi1yQ"
   },
   "outputs": [],
   "source": [
    "params = {\n",
    "    'text_preprocessor__level': ['stem'],\n",
    "    'vectorizer__max_features': [50_000],\n",
    "    'vectorizer__max_df': [0.8],\n",
    "    'vectorizer__min_df': [0.01],\n",
    "    'classifier__loss' : ['log'],\n",
    "    'classifier__penalty': ['l1', 'elasticnet'],\n",
    "    'classifier__alpha': [\n",
    "        1e-07, 1e-06, 1e-05, 1e-04, 1e-03, 1e-02, 5*1e-05, 1e-01, 1.0\n",
    "    ]\n",
    "}"
   ]
  },
  {
   "cell_type": "code",
   "execution_count": null,
   "metadata": {
    "colab": {
     "base_uri": "https://localhost:8080/"
    },
    "id": "I_p_21MmpPQV",
    "outputId": "5c4de45a-4f79-41ad-859d-7e8345b97369"
   },
   "outputs": [],
   "source": [
    "%%time\n",
    "grid_search = GridSearchCV(pipe, params, n_jobs=1)\n",
    "grid_search.fit(dataset.review, dataset.label)\n",
    "cv_results = pd.DataFrame(grid_search.cv_results_)"
   ]
  },
  {
   "cell_type": "code",
   "execution_count": null,
   "metadata": {
    "colab": {
     "base_uri": "https://localhost:8080/",
     "height": 417
    },
    "id": "Il3GoBTurjaR",
    "outputId": "d21d0a69-281f-4dcf-85b5-319b1d4e37ab"
   },
   "outputs": [],
   "source": [
    "chart = sns.lineplot(\n",
    "    data=cv_results,\n",
    "    x=\"param_classifier__alpha\",\n",
    "    y=\"mean_test_score\",\n",
    "    hue=\"param_classifier__penalty\"\n",
    ")\n",
    "chart.set(xscale='log')\n",
    "cv_results.groupby(by=['param_classifier__penalty']).max()['mean_test_score']"
   ]
  },
  {
   "cell_type": "markdown",
   "metadata": {
    "id": "QYfWFK_Z_MVm"
   },
   "source": [
    "En ambos casos vemos como en valores cercanos a 10^(-3) se llega al pico de rendimiento, y después cae notablemente."
   ]
  },
  {
   "cell_type": "markdown",
   "metadata": {
    "id": "1cXtXW6E_aHE"
   },
   "source": [
    "#### Pesado de variables"
   ]
  },
  {
   "cell_type": "markdown",
   "metadata": {
    "id": "E5hNKIKT_tAD"
   },
   "source": [
    "Finalmente vamos a evaluar cómo afecta la introducción de una técnica de pesado de variables como es TF-IDF. Hasta ahora hemos utilizado simplente los conteos de variables. "
   ]
  },
  {
   "cell_type": "code",
   "execution_count": null,
   "metadata": {
    "id": "2zio8rqe_utZ"
   },
   "outputs": [],
   "source": [
    "vectorizers = [\n",
    "    ('count_vectorizer', CountVectorizer()),\n",
    "    ('tfidf_vectorizer', TfidfVectorizer())\n",
    "]"
   ]
  },
  {
   "cell_type": "code",
   "execution_count": null,
   "metadata": {
    "id": "-LHjjyj6_u30"
   },
   "outputs": [],
   "source": [
    "params = {\n",
    "    'text_preprocessor__level': ['stem'],\n",
    "    'vectorizer__max_features': [50_000],\n",
    "    'vectorizer__max_df': [0.8],\n",
    "    'vectorizer__min_df': [0.01],\n",
    "    'feature_selector__score_func': [chi2],\n",
    "    'feature_selector__k': [10, 50, 100, 200, 500, 1_000, 2_000, 5_000]\n",
    "}"
   ]
  },
  {
   "cell_type": "code",
   "execution_count": null,
   "metadata": {
    "colab": {
     "base_uri": "https://localhost:8080/",
     "height": 145,
     "referenced_widgets": [
      "159566cb9a944a6788294713cb19bc24",
      "b3f182adec0d4cae847488e7d2290bd3",
      "f95bcae04df9411094e58ab907c298d3",
      "c0755b34468841acb13446f9890a2f90",
      "4daba042affc4cbaac78958c9eb84e82",
      "bc7dad896a194f9e99b105b719786117",
      "e4960129871d484ba7990b7610644520",
      "dd5a4e08c6984895bc91a8160106144b",
      "99299f81d707435ea65bd9eb580165a9",
      "915825bda3ba4f838dd4de2fa334601f",
      "e54fce05fa1d4f69abe40123067f4418",
      "a230300c103e43b8aeedfd55bceb38e7",
      "afa43d5b26274fafb21df5e464880a69",
      "b700940d5148475ca80dacfbf95edbc1",
      "97933e6c87e74d90a60fdfb72586b6d9",
      "b11ffae3432e4c3dbfeadee2408a57a7",
      "83c57fb416e045b6960818d52d02d60f",
      "ba7bded16b9b4e6fbdc93d680bf79371",
      "bfef024734974102ac6331b0d2fb5709",
      "c20cbdb7d95943d3b38dcbf9c5f9b735",
      "ca01452831ac48909e41fb6b65c9e28e",
      "6cbfecd18d5e4a3fb09b11fb4675e468",
      "3e6a9b1c0fd64d44a7c1d97a4d59fffc",
      "caf391abc31b43ffbf0122ddcf08918c",
      "df1293fbee9c4d049c2b1079f5ef7075",
      "90d793ea6f6c49fdab65d9843f3e5ce8",
      "114b10770b5b4fb6bebd28b3f5e12c0c",
      "8cf8086a727449d98ed840154c05f2c8",
      "51a206a4714e485a89c173468a0f9678",
      "60e502053be24b7f92a32b060aa7bc05",
      "dd4122694a4f4325832fa1a4e4cd86d5",
      "6f853ae3619542da87aed9242e13f5f8",
      "3bb7fb54ae3c401b92c33c585dea99a3",
      "cc4af3089a9045d7a094d49006adb9bb",
      "c456037e312e4c0aba78e7c3a8ada5b5",
      "df37ca08d3034b8c8516e5dae4bd743a",
      "d9673706209f485aa96f67b85c159ecd",
      "d0d5183646ff485b8c3433049417bb3a",
      "330c77e0e5c642afa59a55e67859c779",
      "19429c1df6184a82ad30417f7f962f6a",
      "500ea9357cf54426a1e629af24b758c5",
      "bbd7d60740a94b2aa2b2da9da3aa1d62",
      "118297a05b474a65a2f6742f4f388d93",
      "52a6e62c150d409a8de173e4d5cd1c9c"
     ]
    },
    "id": "E7lrJYxm_vCg",
    "outputId": "1392b7b9-c0b1-4f7b-cbeb-175d83e36b7a"
   },
   "outputs": [],
   "source": [
    "results = []\n",
    "for model_name, model in tqdm_notebook(models):\n",
    "    for vectorizer_name, vectorizer in tqdm_notebook(vectorizers):\n",
    "      pipe = Pipeline(\n",
    "          memory='cache/vectorizer',\n",
    "          steps=[\n",
    "              ('text_preprocessor', TextPreprocessor()),\n",
    "              ('vectorizer', vectorizer),\n",
    "              ('feature_selector', SelectKBest()),\n",
    "              ('classifier', model)\n",
    "          ]\n",
    "      )\n",
    "      grid_search = GridSearchCV(pipe, params, n_jobs=1)\n",
    "      grid_search.fit(dataset.review, dataset.label)\n",
    "      cv_results = pd.DataFrame(grid_search.cv_results_)\n",
    "      cv_results['model'] = model_name\n",
    "      cv_results['vectorizer'] = vectorizer_name\n",
    "      results.append(cv_results)"
   ]
  },
  {
   "cell_type": "code",
   "execution_count": null,
   "metadata": {
    "colab": {
     "base_uri": "https://localhost:8080/",
     "height": 483
    },
    "id": "lisSIWNlDzk_",
    "outputId": "832b8769-23eb-4218-8260-8c95bf009212"
   },
   "outputs": [],
   "source": [
    "cv_results = pd.concat(results).reset_index()\n",
    "chart = sns.barplot(\n",
    "    data=cv_results,\n",
    "    x='model',\n",
    "    y='mean_test_score',\n",
    "    hue='vectorizer')\n",
    "chart.set(ylim=(0.60, None))\n",
    "cv_results.groupby(by=['model', 'vectorizer']).max()['mean_test_score']"
   ]
  },
  {
   "cell_type": "markdown",
   "metadata": {
    "id": "I8_TGLkHAzio"
   },
   "source": [
    "En dos de los modelos el pesado de variables ha tenido un impacto positivo. En el caso de Naive Bayes, empeora levemente."
   ]
  },
  {
   "cell_type": "markdown",
   "metadata": {
    "id": "Qke9wvDXwucM"
   },
   "source": [
    "## Modelos\n",
    "\n"
   ]
  },
  {
   "cell_type": "markdown",
   "metadata": {
    "id": "Dd_xVszVBfSZ"
   },
   "source": [
    "Después de explorar los distintos parámetros relativos al tratamiento y vectorización del texto, tenemos una idea clara de su impacto.\n",
    "\n",
    "Vamos a explorar ahora los modelos en detalle."
   ]
  },
  {
   "cell_type": "code",
   "execution_count": null,
   "metadata": {
    "id": "MaWokklxwtbt"
   },
   "outputs": [],
   "source": [
    "def plot_learning_curve(estimator, title, X, y, ylim=None, cv=None,\n",
    "                        train_sizes=np.linspace(.1, 1.0, 10)):\n",
    "    \"\"\"\n",
    "    Generate a simple plot of the test and traning learning curve.\n",
    "\n",
    "    Parameters\n",
    "    ----------\n",
    "    estimator : object type that implements the \"fit\" and \"predict\" methods\n",
    "        An object of that type which is cloned for each validation.\n",
    "\n",
    "    title : string\n",
    "        Title for the chart.\n",
    "\n",
    "    X : array-like, shape (n_samples, n_features)\n",
    "        Training vector, where n_samples is the number of samples and\n",
    "        n_features is the number of features.\n",
    "\n",
    "    y : array-like, shape (n_samples) or (n_samples, n_features), optional\n",
    "        Target relative to X for classification or regression;\n",
    "        None for unsupervised learning.\n",
    "\n",
    "    ylim : tuple, shape (ymin, ymax), optional\n",
    "        Defines minimum and maximum yvalues plotted.\n",
    "\n",
    "    cv : integer, cross-validation generator, optional\n",
    "        If an integer is passed, it is the number of folds (defaults to 3).\n",
    "        Specific cross-validation objects can be passed, see\n",
    "        sklearn.cross_validation module for the list of possible objects\n",
    "    \"\"\"\n",
    "    \n",
    "    plt.figure()\n",
    "    train_sizes, train_scores, test_scores = learning_curve(\n",
    "        estimator, X, y, cv=cv, n_jobs=1, train_sizes=train_sizes)\n",
    "    train_scores_mean = np.mean(train_scores, axis=1)\n",
    "    train_scores_std = np.std(train_scores, axis=1)\n",
    "    test_scores_mean = np.mean(test_scores, axis=1)\n",
    "    test_scores_std = np.std(test_scores, axis=1)\n",
    "\n",
    "    plt.fill_between(train_sizes, train_scores_mean - train_scores_std,\n",
    "                     train_scores_mean + train_scores_std, alpha=0.1,\n",
    "                     color=\"r\")\n",
    "    plt.fill_between(train_sizes, test_scores_mean - test_scores_std,\n",
    "                     test_scores_mean + test_scores_std, alpha=0.1, color=\"g\")\n",
    "    plt.plot(train_sizes, train_scores_mean, 'o-', color=\"r\",\n",
    "             label=\"Training score\")\n",
    "    plt.plot(train_sizes, test_scores_mean, 'o-', color=\"g\",\n",
    "             label=\"Cross-validation score\")\n",
    "\n",
    "    plt.xlabel(\"Training examples\")\n",
    "    plt.ylabel(\"Score\")\n",
    "    plt.legend(loc=\"best\")\n",
    "    plt.grid(\"on\") \n",
    "    if ylim:\n",
    "        plt.ylim(ylim)\n",
    "    plt.title(title)"
   ]
  },
  {
   "cell_type": "code",
   "execution_count": null,
   "metadata": {
    "id": "f4G5_mdqvvw1"
   },
   "outputs": [],
   "source": [
    "def train_and_evaluate_classifier(X, yt, estimator, grid):\n",
    "    \"\"\"Train and Evaluate a estimator (defined as input parameter) on the given\n",
    "    labeled data using accuracy.\"\"\"\n",
    "    \n",
    "    # Se realiza validación cruzada sobre el clasificador seleccionado\n",
    "    cv = ShuffleSplit(n_splits=5, test_size=0.2, random_state=0)\n",
    "      \n",
    "    classifier = GridSearchCV(\n",
    "        estimator=estimator,\n",
    "        cv=cv,\n",
    "        param_grid=grid,\n",
    "        error_score=0.0,\n",
    "        n_jobs = 1,\n",
    "        #verbose = 5\n",
    "    )\n",
    "    \n",
    "    # Entrenamiento\n",
    "    print(\"Training model\")\n",
    "    classifier.fit(X, yt)\n",
    "\n",
    "    # Puntuación de la validación cruzada\n",
    "    print(\"CV-scores for each grid configuration\")\n",
    "    means = classifier.cv_results_['mean_test_score']\n",
    "    stds = classifier.cv_results_['std_test_score']\n",
    "    #for mean, std, params in sorted(zip(means, stds, classifier.cv_results_['params']), key=lambda x: -x[0]):\n",
    "    #    print(\"Accuracy: %0.3f (+/-%0.03f) for params: %r\" % (mean, std * 2, params))\n",
    "    #print()\n",
    "        \n",
    "    # Curva de aprendizaje\n",
    "    print(\"Learning curve for the best estimator\")\n",
    "    title = 'Learning Curves (' + str(estimator.__class__).replace(\"'>\", \"\").split(\".\")[-1] + ' )'\n",
    "    plot_learning_curve(classifier.best_estimator_, title, X, yt, cv=cv)\n",
    "    plt.show()\n",
    "    \n",
    "    return classifier"
   ]
  },
  {
   "cell_type": "code",
   "execution_count": null,
   "metadata": {
    "id": "ad-wzocTy5qE"
   },
   "outputs": [],
   "source": [
    "def plot_confusion_matrix(cm, classes,\n",
    "                          normalize=False,\n",
    "                          title='Confusion matrix',\n",
    "                          cmap=plt.cm.Blues):\n",
    "    \"\"\"\n",
    "    This function prints and plots the confusion matrix.\n",
    "    Normalization can be applied by setting `normalize=True`.\n",
    "    \"\"\"\n",
    "    if normalize:\n",
    "        cm = cm.astype('float') / cm.sum(axis=1)[:, np.newaxis]\n",
    "        print(\"Normalized confusion matrix\")\n",
    "    else:\n",
    "        print('Confusion matrix, without normalization')\n",
    "    plt.figure()\n",
    "    plt.imshow(cm, interpolation='nearest', cmap=cmap)\n",
    "    plt.colorbar()\n",
    "    tick_marks = np.arange(len(classes))\n",
    "    plt.xticks(tick_marks, classes, rotation=45)\n",
    "    plt.yticks(tick_marks, classes)\n",
    "\n",
    "    fmt = '.2f' if normalize else 'd'\n",
    "    thresh = cm.max() / 2.\n",
    "    for i, j in itertools.product(range(cm.shape[0]), range(cm.shape[1])):\n",
    "        plt.text(j, i, format(cm[i, j], fmt),\n",
    "                 horizontalalignment=\"center\",\n",
    "                 color=\"white\" if cm[i, j] > thresh else \"black\")\n",
    "\n",
    "    plt.tight_layout()\n",
    "    plt.ylabel('True label')\n",
    "    plt.xlabel('Predicted label')\n",
    "    plt.show()"
   ]
  },
  {
   "cell_type": "markdown",
   "metadata": {
    "id": "3QzmMxF7CO-O"
   },
   "source": [
    "Para mejorar la legibilidad de las siguientes pruebas, vamos a separar los datasets de train y test en variables distintas."
   ]
  },
  {
   "cell_type": "code",
   "execution_count": null,
   "metadata": {
    "id": "eHEk3-6bnypY"
   },
   "outputs": [],
   "source": [
    "train_dataset = dataset[dataset.partition=='train']\n",
    "test_dataset = dataset[dataset.partition=='test']"
   ]
  },
  {
   "cell_type": "markdown",
   "metadata": {
    "id": "lrTnlNGxiNt0"
   },
   "source": [
    "### Naive Bayes"
   ]
  },
  {
   "cell_type": "markdown",
   "metadata": {
    "id": "LrpOw2qbiRag"
   },
   "source": [
    "En nuestras pruebas este modelo respondía bien en entornos con un alto número de variables de inicio, aunque al aplicar una selección de las mismas, no mostraba mejoría a partir de unos pocos cientos de variables."
   ]
  },
  {
   "cell_type": "code",
   "execution_count": null,
   "metadata": {
    "id": "QXc4ZNBAiMzm"
   },
   "outputs": [],
   "source": [
    "nb_grid= {\n",
    "    'text_preprocessor__level': ['lemma', 'stem'],\n",
    "    'vectorizer__max_features': [100_000],\n",
    "    'vectorizer__max_df': [0.8],\n",
    "    'vectorizer__min_df': [0.01],\n",
    "    'feature_selector__score_func': [chi2],\n",
    "    'feature_selector__k': [50, 100, 500, 1_000],\n",
    "    'classifier__fit_prior': [True, False]\n",
    "}"
   ]
  },
  {
   "cell_type": "code",
   "execution_count": null,
   "metadata": {
    "id": "27lKzG9Oo7Uh"
   },
   "outputs": [],
   "source": [
    "nb_pipe = Pipeline(\n",
    "        memory='cache/nb-pipe',\n",
    "        steps=[\n",
    "            ('text_preprocessor', TextPreprocessor()),\n",
    "            ('vectorizer', TfidfVectorizer()),\n",
    "            ('feature_selector', SelectKBest()),\n",
    "            ('classifier', MultinomialNB())\n",
    "        ]\n",
    "    )"
   ]
  },
  {
   "cell_type": "code",
   "execution_count": null,
   "metadata": {
    "colab": {
     "base_uri": "https://localhost:8080/",
     "height": 409
    },
    "id": "B5A_XLBzosH4",
    "outputId": "13f04e33-2012-4778-c3fd-40c6adc35c94"
   },
   "outputs": [],
   "source": [
    "nb_text_cls = train_and_evaluate_classifier(\n",
    "    train_dataset.review, train_dataset.label, nb_pipe, nb_grid)"
   ]
  },
  {
   "cell_type": "code",
   "execution_count": null,
   "metadata": {
    "colab": {
     "base_uri": "https://localhost:8080/"
    },
    "id": "lIccvPhxqPC1",
    "outputId": "48d6905e-a251-4164-8d2d-79604abfe66d"
   },
   "outputs": [],
   "source": [
    "print(\"Predicting on the test set\")\n",
    "y_pred = nb_text_cls.predict(test_dataset.review)"
   ]
  },
  {
   "cell_type": "code",
   "execution_count": null,
   "metadata": {
    "colab": {
     "base_uri": "https://localhost:8080/",
     "height": 614
    },
    "id": "fl0FSyDUqPF9",
    "outputId": "b78c2beb-04dc-41cb-a489-dc2ece400110"
   },
   "outputs": [],
   "source": [
    "print(\"Classification Report\")\n",
    "print\n",
    "print(classification_report(test_dataset.label, y_pred, target_names=[\"positive\", \"negative\"]))\n",
    "cm = confusion_matrix(test_dataset.label, y_pred, labels=[1, 0])\n",
    " \n",
    "plot_confusion_matrix(cm, classes=[\"positive\", \"negative\"])\n",
    "\n",
    "print(\"Final Accuracy\")\n",
    "print(accuracy_score(test_dataset.label, y_pred,))"
   ]
  },
  {
   "cell_type": "markdown",
   "metadata": {
    "id": "8F5UOM-yJTrf"
   },
   "source": [
    "En este caso hemos obtenido una Accuracy final de entorno al 83%."
   ]
  },
  {
   "cell_type": "markdown",
   "metadata": {
    "id": "Ggd6mpi-JG-2"
   },
   "source": [
    "### SVM"
   ]
  },
  {
   "cell_type": "markdown",
   "metadata": {
    "id": "noHyqRoYEgBz"
   },
   "source": [
    "Vamos a evaluar ahora un SVM. Este método suele responder bien a problemas con alta dimensionalidad, y un número bajo de muestras, ya que intenta maximizar la distancia entre el hiperplano separador y las muestras más cercanas."
   ]
  },
  {
   "cell_type": "code",
   "execution_count": null,
   "metadata": {
    "id": "dLeDpYoWvhxX"
   },
   "outputs": [],
   "source": [
    "svc_grid= {\n",
    "    'text_preprocessor__level': ['lemma', 'stem'],\n",
    "    'vectorizer__max_features': [100_000],\n",
    "    'vectorizer__max_df': [0.8],\n",
    "    'vectorizer__min_df': [0.01],\n",
    "    'vectorizer__ngram_range': [(1, 1), (1, 2)],\n",
    "    'feature_selector__score_func': [chi2],\n",
    "    'feature_selector__k': [50, 100, 500],\n",
    "    'classifier__C': [0.1, 1, 10, 100],\n",
    "    'classifier__kernel': ['linear', 'rbf'],\n",
    "    'classifier__gamma': [0.0001]\n",
    "}"
   ]
  },
  {
   "cell_type": "code",
   "execution_count": null,
   "metadata": {
    "id": "3uGjkce7viDt"
   },
   "outputs": [],
   "source": [
    "svc_pipe = Pipeline(\n",
    "        memory='cache/svc-pipe',\n",
    "        steps=[\n",
    "            ('text_preprocessor', TextPreprocessor()),\n",
    "            ('vectorizer', TfidfVectorizer()),\n",
    "            ('feature_selector', SelectKBest()),\n",
    "            ('classifier', SVC())\n",
    "        ]\n",
    "    )"
   ]
  },
  {
   "cell_type": "code",
   "execution_count": null,
   "metadata": {
    "colab": {
     "base_uri": "https://localhost:8080/",
     "height": 1000
    },
    "id": "oLSM7SQ-viKX",
    "outputId": "f9e85968-2c99-446c-be12-6bdd31552bd8"
   },
   "outputs": [],
   "source": [
    "svc_text_cls = train_and_evaluate_classifier(\n",
    "    train_dataset.review, train_dataset.label, svc_pipe, svc_grid)"
   ]
  },
  {
   "cell_type": "code",
   "execution_count": null,
   "metadata": {
    "colab": {
     "base_uri": "https://localhost:8080/"
    },
    "id": "RWM7SszGviWK",
    "outputId": "9c74e094-6d6a-4e80-d27a-6b68117125ac"
   },
   "outputs": [],
   "source": [
    "print(\"Predicting on the test set\")\n",
    "y_pred = svc_text_cls.predict(test_dataset.review)"
   ]
  },
  {
   "cell_type": "code",
   "execution_count": null,
   "metadata": {
    "colab": {
     "base_uri": "https://localhost:8080/",
     "height": 614
    },
    "id": "QPW1GChjM1BF",
    "outputId": "2b4c6857-9190-4c80-b4d9-51d5e995c1f3"
   },
   "outputs": [],
   "source": [
    "print(\"Classification Report\")\n",
    "print\n",
    "print(classification_report(test_dataset.label, y_pred, target_names=[\"positive\", \"negative\"]))\n",
    "cm = confusion_matrix(test_dataset.label, y_pred, labels=[1, 0])\n",
    " \n",
    "plot_confusion_matrix(cm, classes=[\"positive\", \"negative\"])\n",
    "\n",
    "print(\"Final Accuracy\")\n",
    "print(accuracy_score(test_dataset.label, y_pred,))"
   ]
  },
  {
   "cell_type": "markdown",
   "metadata": {
    "id": "wMONOyuxE2n7"
   },
   "source": [
    "En este segundo modelo la accuracy ha quedado cerca del 85%."
   ]
  },
  {
   "cell_type": "markdown",
   "metadata": {
    "id": "SgeLui-2NzJQ"
   },
   "source": [
    "### Log Reg"
   ]
  },
  {
   "cell_type": "markdown",
   "metadata": {
    "id": "CPQ45g8MFANa"
   },
   "source": [
    "Probamos un clasificador de máxima entropía o regresión logística. Fijamos una selección de variables de entre 100 y 2000, a seleccionar entre un máximo de 100.000."
   ]
  },
  {
   "cell_type": "code",
   "execution_count": null,
   "metadata": {
    "id": "OtwsG8kkvihp"
   },
   "outputs": [],
   "source": [
    "log_grid= {\n",
    "    'text_preprocessor__level': ['lemma', 'stem'],\n",
    "    'vectorizer__max_features': [100_000],\n",
    "    'vectorizer__max_df': [0.8],\n",
    "    'vectorizer__min_df': [0.01],\n",
    "    'vectorizer__ngram_range': [(1, 1), (1, 2)],\n",
    "    'feature_selector__score_func': [chi2],\n",
    "    'feature_selector__k': [100, 500, 1_000, 2_000],\n",
    "    'classifier__loss' : ['log'],\n",
    "    'classifier__penalty': ['l1', 'elasticnet'],\n",
    "    'classifier__alpha': [\n",
    "        1e-07, 1e-06, 1e-05, 1e-04, 1e-03, 1e-02, 5*1e-05\n",
    "    ]\n",
    "}"
   ]
  },
  {
   "cell_type": "code",
   "execution_count": null,
   "metadata": {
    "id": "rUm0oORCOHYz"
   },
   "outputs": [],
   "source": [
    "log_pipe = Pipeline(\n",
    "        memory='cache/log-pipe',\n",
    "        steps=[\n",
    "            ('text_preprocessor', TextPreprocessor()),\n",
    "            ('vectorizer', TfidfVectorizer()),\n",
    "            ('feature_selector', SelectKBest()),\n",
    "            ('classifier', SGDClassifier())\n",
    "        ]\n",
    "    )"
   ]
  },
  {
   "cell_type": "code",
   "execution_count": null,
   "metadata": {
    "colab": {
     "base_uri": "https://localhost:8080/",
     "height": 1000
    },
    "id": "wwEfUhY6OHbQ",
    "outputId": "0153aae8-bf9f-4515-c664-3bb298ef906c"
   },
   "outputs": [],
   "source": [
    "log_text_cls = train_and_evaluate_classifier(\n",
    "    train_dataset.review, train_dataset.label, log_pipe, log_grid)"
   ]
  },
  {
   "cell_type": "code",
   "execution_count": null,
   "metadata": {
    "colab": {
     "base_uri": "https://localhost:8080/"
    },
    "id": "7OmAVrz-OHfY",
    "outputId": "84b9d8d5-670b-4460-dcc7-ff5abb781565"
   },
   "outputs": [],
   "source": [
    "print(\"Predicting on the test set\")\n",
    "y_pred = log_text_cls.predict(test_dataset.review)"
   ]
  },
  {
   "cell_type": "code",
   "execution_count": null,
   "metadata": {
    "colab": {
     "base_uri": "https://localhost:8080/",
     "height": 614
    },
    "id": "sNHIgZrpOHi2",
    "outputId": "f039c56e-2abc-4bdb-eb2a-4b23baf9f989"
   },
   "outputs": [],
   "source": [
    "print(\"Classification Report\")\n",
    "print\n",
    "print(classification_report(test_dataset.label, y_pred, target_names=[\"positive\", \"negative\"]))\n",
    "cm = confusion_matrix(test_dataset.label, y_pred, labels=[1, 0])\n",
    " \n",
    "plot_confusion_matrix(cm, classes=[\"positive\", \"negative\"])\n",
    "\n",
    "print(\"Final Accuracy\")\n",
    "print(accuracy_score(test_dataset.label, y_pred,))"
   ]
  },
  {
   "cell_type": "markdown",
   "metadata": {
    "id": "ALwvvqqtFwW4"
   },
   "source": [
    "En este caso el modelo obtiene una Accuracy superior al 85%, siendo el modelo con mayor precisión hasta el momento."
   ]
  },
  {
   "cell_type": "markdown",
   "metadata": {
    "id": "Ys7v_QySHteu"
   },
   "source": [
    "### DecisionTree"
   ]
  },
  {
   "cell_type": "code",
   "execution_count": null,
   "metadata": {
    "id": "XQGM5pQleJTq"
   },
   "outputs": [],
   "source": [
    "from sklearn.tree import DecisionTreeClassifier"
   ]
  },
  {
   "cell_type": "code",
   "execution_count": null,
   "metadata": {
    "id": "6kwXbvfDH5Kn"
   },
   "outputs": [],
   "source": [
    "tree_grid= {\n",
    "    'text_preprocessor__level': ['stem'],\n",
    "    'vectorizer__max_features': [100_000],\n",
    "    'vectorizer__max_df': [0.8],\n",
    "    'vectorizer__min_df': [0.01],\n",
    "    'vectorizer__ngram_range': [(1, 2)],\n",
    "    'feature_selector__score_func': [chi2],\n",
    "    'feature_selector__k': [500, 1_000],\n",
    "    'classifier__splitter' : ['best'],\n",
    "    'classifier__max_depth': [None, 5, 10],\n",
    "    'classifier__max_leaf_nodes': [None, 5, 10]\n",
    "}"
   ]
  },
  {
   "cell_type": "code",
   "execution_count": null,
   "metadata": {
    "id": "dS4u18jsH5E5"
   },
   "outputs": [],
   "source": [
    "tree_pipe = Pipeline(\n",
    "        memory='cache/tree-pipe',\n",
    "        steps=[\n",
    "            ('text_preprocessor', TextPreprocessor()),\n",
    "            ('vectorizer', TfidfVectorizer()),\n",
    "            ('feature_selector', SelectKBest()),\n",
    "            ('classifier', DecisionTreeClassifier())\n",
    "        ]\n",
    "    )"
   ]
  },
  {
   "cell_type": "code",
   "execution_count": null,
   "metadata": {
    "colab": {
     "base_uri": "https://localhost:8080/",
     "height": 409
    },
    "id": "mGrDpsD3H0tX",
    "outputId": "21020e8e-430b-4554-84cc-36a92d87e975"
   },
   "outputs": [],
   "source": [
    "tree_text_cls = train_and_evaluate_classifier(\n",
    "    train_dataset.review, train_dataset.label, tree_pipe, tree_grid)"
   ]
  },
  {
   "cell_type": "code",
   "execution_count": null,
   "metadata": {
    "id": "pdute_At78ip"
   },
   "outputs": [],
   "source": [
    "print(\"Predicting on the test set\")\n",
    "y_pred = tree_text_cls.predict(test_dataset.review)"
   ]
  },
  {
   "cell_type": "code",
   "execution_count": null,
   "metadata": {
    "colab": {
     "base_uri": "https://localhost:8080/",
     "height": 614
    },
    "id": "zR0LBlR7H0pv",
    "outputId": "1f3f4234-33bd-4374-f88b-3ccf76874ad3"
   },
   "outputs": [],
   "source": [
    "print(\"Classification Report\")\n",
    "print\n",
    "print(classification_report(test_dataset.label, y_pred, target_names=[\"positive\", \"negative\"]))\n",
    "cm = confusion_matrix(test_dataset.label, y_pred, labels=[1, 0])\n",
    " \n",
    "plot_confusion_matrix(cm, classes=[\"positive\", \"negative\"])\n",
    "\n",
    "print(\"Final Accuracy\")\n",
    "print(accuracy_score(test_dataset.label, y_pred,))"
   ]
  },
  {
   "cell_type": "markdown",
   "metadata": {
    "id": "0DBMCxkjKESr"
   },
   "source": [
    "### Gradient Boosting"
   ]
  },
  {
   "cell_type": "code",
   "execution_count": null,
   "metadata": {
    "id": "PgDVMMcvH0hz"
   },
   "outputs": [],
   "source": [
    "from sklearn.ensemble import GradientBoostingClassifier"
   ]
  },
  {
   "cell_type": "code",
   "execution_count": null,
   "metadata": {
    "id": "yQVXqf3NH0bY"
   },
   "outputs": [],
   "source": [
    "gb_grid= {\n",
    "    'text_preprocessor__level': ['stem'],\n",
    "    'vectorizer__max_features': [50_000],\n",
    "    'vectorizer__max_df': [0.8],\n",
    "    'vectorizer__min_df': [0.01],\n",
    "    'vectorizer__ngram_range': [(1, 2)],\n",
    "    'feature_selector__score_func': [chi2],\n",
    "    'feature_selector__k': [500, 1_000],\n",
    "    'classifier__n_estimators' : [10, 50, 100],\n",
    "    'classifier__max_depth': [None, 10],\n",
    "    'classifier__max_leaf_nodes': [None, 10]\n",
    "}"
   ]
  },
  {
   "cell_type": "code",
   "execution_count": null,
   "metadata": {
    "id": "rxCM9OF-K8kA"
   },
   "outputs": [],
   "source": [
    "gb_pipe = Pipeline(\n",
    "        memory='cache/gb-pipe',\n",
    "        steps=[\n",
    "            ('text_preprocessor', TextPreprocessor()),\n",
    "            ('vectorizer', TfidfVectorizer()),\n",
    "            ('feature_selector', SelectKBest()),\n",
    "            ('classifier', GradientBoostingClassifier())\n",
    "        ]\n",
    "    )"
   ]
  },
  {
   "cell_type": "code",
   "execution_count": null,
   "metadata": {
    "colab": {
     "base_uri": "https://localhost:8080/",
     "height": 407
    },
    "id": "zPmsAM6kLUyk",
    "outputId": "66cb434e-ded2-498f-a0fa-b500e9ca49cf"
   },
   "outputs": [],
   "source": [
    "gb_text_cls = train_and_evaluate_classifier(\n",
    "    train_dataset.review, train_dataset.label, gb_pipe, gb_grid)"
   ]
  },
  {
   "cell_type": "code",
   "execution_count": null,
   "metadata": {
    "id": "3h8T7p137J5K"
   },
   "outputs": [],
   "source": [
    "y_pred = gb_text_cls.predict(test_dataset.review)"
   ]
  },
  {
   "cell_type": "code",
   "execution_count": null,
   "metadata": {
    "colab": {
     "base_uri": "https://localhost:8080/",
     "height": 625
    },
    "id": "o0MeM2QeLr64",
    "outputId": "e3dfd370-3313-49c3-da18-745230589ba8"
   },
   "outputs": [],
   "source": [
    "print(\"Classification Report\")\n",
    "print()\n",
    "print(classification_report(test_dataset.label, y_pred, target_names=[\"positive\", \"negative\"]))\n",
    "cm = confusion_matrix(test_dataset.label, y_pred, labels=[1, 0])\n",
    " \n",
    "plot_confusion_matrix(cm, classes=[\"positive\", \"negative\"])\n",
    "\n",
    "print(\"Final Accuracy\")\n",
    "print(accuracy_score(test_dataset.label, y_pred,))"
   ]
  },
  {
   "cell_type": "markdown",
   "metadata": {
    "id": "QpAhqHV_J9a1",
    "tags": []
   },
   "source": [
    "# 3. Modelos Deep Learning"
   ]
  },
  {
   "cell_type": "code",
   "execution_count": null,
   "metadata": {
    "id": "dhsUhEvocW0g"
   },
   "outputs": [],
   "source": [
    "from keras.layers import Dense, Embedding, Flatten, GlobalMaxPool1D\n",
    "from keras import Sequential, Model, Input\n",
    "from keras.preprocessing.text import Tokenizer\n",
    "from keras.utils import pad_sequences\n",
    "from keras.utils.np_utils import to_categorical\n",
    "from keras.callbacks import EarlyStopping\n",
    "from keras.initializers import Constant"
   ]
  },
  {
   "cell_type": "code",
   "execution_count": null,
   "metadata": {
    "id": "9uvLvA7eeQFB"
   },
   "outputs": [],
   "source": [
    "# Con esta función podremos ver cómo evoluciona el entrenamiento y la validación de los modelos.\n",
    "\n",
    "import matplotlib.pyplot as plt\n",
    "plt.style.use('ggplot')\n",
    "\n",
    "def plot_history(history):\n",
    "    acc = history.history['acc']\n",
    "    val_acc = history.history['val_acc']\n",
    "    loss = history.history['loss']\n",
    "    val_loss = history.history['val_loss']\n",
    "    x = range(1, len(acc) + 1)\n",
    "\n",
    "    plt.figure(figsize=(12, 5))\n",
    "    plt.subplot(1, 2, 1)\n",
    "    plt.plot(x, acc, 'b', label='Training acc')\n",
    "    plt.plot(x, val_acc, 'r', label='Validation acc')\n",
    "    plt.title('Training and validation accuracy')\n",
    "    plt.legend()\n",
    "    plt.subplot(1, 2, 2)\n",
    "    plt.plot(x, loss, 'b', label='Training loss')\n",
    "    plt.plot(x, val_loss, 'r', label='Validation loss')\n",
    "    plt.title('Training and validation loss')\n",
    "    plt.legend()"
   ]
  },
  {
   "cell_type": "markdown",
   "metadata": {
    "id": "y0UOGgcdl--e"
   },
   "source": [
    "## Primer modelo."
   ]
  },
  {
   "cell_type": "markdown",
   "metadata": {
    "id": "IECUqgNLekHO"
   },
   "source": [
    "Vamos a utilizar un preprocesado como los que hemos venido utilizando hasta el momento para los primeros modelos."
   ]
  },
  {
   "cell_type": "code",
   "execution_count": null,
   "metadata": {
    "id": "OJ5GC07iU0w5"
   },
   "outputs": [],
   "source": [
    "train_dataset = dataset[dataset.partition=='train']\n",
    "test_dataset = dataset[dataset.partition=='test']"
   ]
  },
  {
   "cell_type": "code",
   "execution_count": null,
   "metadata": {
    "id": "JrRaPiNVeSiZ"
   },
   "outputs": [],
   "source": [
    "prep_pipeline = Pipeline(\n",
    "    steps=[\n",
    "        ('text_preprocessor', TextPreprocessor(level='stem')),\n",
    "        ('vectorizer', TfidfVectorizer())\n",
    "    ]\n",
    ")"
   ]
  },
  {
   "cell_type": "code",
   "execution_count": null,
   "metadata": {
    "colab": {
     "base_uri": "https://localhost:8080/"
    },
    "id": "pBaYuCs1eSNn",
    "outputId": "a174445d-fad9-4bf0-c884-8078dacb447c"
   },
   "outputs": [],
   "source": [
    "%%time\n",
    "train_features = prep_pipeline.fit_transform(train_dataset.review)\n",
    "test_features = prep_pipeline.transform(test_dataset.review)"
   ]
  },
  {
   "cell_type": "code",
   "execution_count": null,
   "metadata": {
    "colab": {
     "base_uri": "https://localhost:8080/"
    },
    "id": "np8AtB7KgVhI",
    "outputId": "06a11f1a-3c9b-4177-f756-e2a6f87088e4"
   },
   "outputs": [],
   "source": [
    "print(\"Dimensión del entrenamiento:\", train_features.shape[1])"
   ]
  },
  {
   "cell_type": "markdown",
   "metadata": {
    "id": "t7bCXlXphE3f"
   },
   "source": [
    "Vamos a entrenar un modelo con más de 30.000 variables. En un modelo denso como el que vamos a utilizar en primera instancia esto hará que el número de parámetros de la primera capa sea relativamente alto."
   ]
  },
  {
   "cell_type": "markdown",
   "metadata": {
    "id": "d-DT6ct8hatA"
   },
   "source": [
    "Vamos a cambiar la codificación de las etiquetas para que respete el estilo \"one-hot encoding\" que espera keras."
   ]
  },
  {
   "cell_type": "code",
   "execution_count": null,
   "metadata": {
    "id": "Ng9DNmgIgVBz"
   },
   "outputs": [],
   "source": [
    "y_train = to_categorical(train_dataset.label, num_classes=2)\n",
    "y_test = to_categorical(test_dataset.label, num_classes=2)"
   ]
  },
  {
   "cell_type": "markdown",
   "metadata": {
    "id": "AHbG8vDMhi0s"
   },
   "source": [
    "Ahora generamos un modelo con la interfaz funcional, y lo compilamos."
   ]
  },
  {
   "cell_type": "code",
   "execution_count": null,
   "metadata": {
    "colab": {
     "base_uri": "https://localhost:8080/"
    },
    "id": "QPXu0O5zgUrR",
    "outputId": "6f4f4f73-5202-4ead-ae27-509d5b19097d"
   },
   "outputs": [],
   "source": [
    "model = Sequential()\n",
    "model.add(Dense(128, input_dim=train_features.shape[1], activation='softmax'))\n",
    "model.add(Dense(64, activation='softmax'))\n",
    "model.add(Dense(2, activation='softmax'))\n",
    "model.compile(optimizer='adam', loss='binary_crossentropy', metrics=['acc'])\n",
    "print(model.summary())"
   ]
  },
  {
   "cell_type": "markdown",
   "metadata": {
    "id": "EVEVpF_8iKMr"
   },
   "source": [
    "Como anticipábamos, el número de parámetros de la primera capa es alto, llegando casi a los 4.000.000 de parámetros para ajustar. Es posible que el modelo sea sensible al overfitting, dado que nuestro dataset no es demasiado grande.\n",
    "\n",
    "Llevemos a cabo el primer entrenamiento, con los parámetros siguientes parámetros:"
   ]
  },
  {
   "cell_type": "code",
   "execution_count": null,
   "metadata": {
    "id": "DvnwWtEWhzyO"
   },
   "outputs": [],
   "source": [
    "#Número de épocas (iteraciones globales)\n",
    "epochs = 40\n",
    "#Dimensión de la capa de embeddings\n",
    "emb_dim = 50\n",
    "#Tamaño de batch (lote)\n",
    "batch_size = 32\n",
    "#Número de palabras tenidas en cuenta (reducción del vocabulario)\n",
    "n_most_common_words = 50000\n",
    "#Máxima longitud del documento\n",
    "max_len = 512"
   ]
  },
  {
   "cell_type": "code",
   "execution_count": null,
   "metadata": {
    "colab": {
     "base_uri": "https://localhost:8080/",
     "height": 1000
    },
    "id": "q4CP3P2MimN4",
    "outputId": "04ee7b25-7044-4f50-afe3-5159acec6a39"
   },
   "outputs": [],
   "source": [
    "history = model.fit(\n",
    "    train_features.toarray().astype(float),\n",
    "    y_train,\n",
    "    epochs=epochs,\n",
    "    batch_size=batch_size,\n",
    "    validation_split=0.2\n",
    ")\n",
    "plot_history(history)"
   ]
  },
  {
   "cell_type": "markdown",
   "metadata": {
    "id": "Ieo3PiuNlNO7"
   },
   "source": [
    "Vemso como el modelo tiende fuertemente al overfitting a partir de la epoch 15. La accuracy sobre la validación empieza a decrecer, y si atendemos a la función de pérdida, se sigue reduciendo en la partición de entrenamiento a costa de un incremento fuerte en la de validación."
   ]
  },
  {
   "cell_type": "markdown",
   "metadata": {
    "id": "8PUXmTCAj0l0"
   },
   "source": [
    "Vamos a evaluar el rendimiento del modelo como lo hemos venido haciendo hasta ahora:"
   ]
  },
  {
   "cell_type": "code",
   "execution_count": null,
   "metadata": {
    "colab": {
     "base_uri": "https://localhost:8080/"
    },
    "id": "Uj720kwVimGV",
    "outputId": "3da89eda-0576-47f6-ae66-7060d8eb1136"
   },
   "outputs": [],
   "source": [
    "print(\"Predicting on the test set\")\n",
    "y_pred = np.argmax(model.predict(test_features.toarray().astype(float)), axis=1)"
   ]
  },
  {
   "cell_type": "code",
   "execution_count": null,
   "metadata": {
    "colab": {
     "base_uri": "https://localhost:8080/",
     "height": 636
    },
    "id": "eJ0NFNask_6P",
    "outputId": "9ff84a40-fb78-40b0-b299-8f10a7dea471"
   },
   "outputs": [],
   "source": [
    "print(\"Classification Report\")\n",
    "print()\n",
    "print(classification_report(test_dataset.label, y_pred, target_names=[\"positive\", \"negative\"]))\n",
    "cm = confusion_matrix(test_dataset.label, y_pred, labels=[1, 0])\n",
    " \n",
    "plot_confusion_matrix(cm, classes=[\"positive\", \"negative\"])\n",
    "\n",
    "print(\"Final Accuracy\")\n",
    "print(accuracy_score(test_dataset.label, y_pred,))"
   ]
  },
  {
   "cell_type": "markdown",
   "metadata": {
    "id": "J1tfU_xzlk5l"
   },
   "source": [
    "A pesar del problema mencionado, hemos obtenido un buen resultado. La accuracy está por encima del 87%, que es el mejor resultado obtenido hasta el momento."
   ]
  },
  {
   "cell_type": "markdown",
   "metadata": {
    "id": "_kbGhR69oX-l"
   },
   "source": [
    "## Segundo modelo. Reducción de overfitting."
   ]
  },
  {
   "cell_type": "markdown",
   "metadata": {
    "id": "5FjQf4S9pKmi"
   },
   "source": [
    "Vamos a tomar algunas medidas para reducir el overfittnig. En primer lugar, vamos a utilizar un callbacl de Early Stopping."
   ]
  },
  {
   "cell_type": "code",
   "execution_count": null,
   "metadata": {
    "id": "Snr1KTjkodpl"
   },
   "outputs": [],
   "source": [
    "early_stopping_cb = EarlyStopping(\n",
    "    monitor='val_loss',\n",
    "    mode='min',\n",
    "    patience=7,\n",
    "    min_delta=0.01\n",
    ")"
   ]
  },
  {
   "cell_type": "markdown",
   "metadata": {
    "id": "8DKpkBxTqBj-"
   },
   "source": [
    "Generamos el modelo:\n"
   ]
  },
  {
   "cell_type": "code",
   "execution_count": null,
   "metadata": {
    "colab": {
     "base_uri": "https://localhost:8080/"
    },
    "id": "sZrLKZsSqA4b",
    "outputId": "3c0dc648-b2cb-4be5-9c70-24bbb6473f98"
   },
   "outputs": [],
   "source": [
    "model = Sequential()\n",
    "model.add(Dense(128, input_dim=train_features.shape[1], activation='softmax'))\n",
    "model.add(Dense(64, activation='softmax'))\n",
    "model.add(Dense(2, activation='softmax'))\n",
    "model.compile(optimizer='adam', loss='binary_crossentropy', metrics=['acc'])\n",
    "print(model.summary())"
   ]
  },
  {
   "cell_type": "markdown",
   "metadata": {
    "id": "sZyxmkQpqMRE"
   },
   "source": [
    "y volvemos a entrenar. Dado  que vamos a imprimir las curvas básicas de aprendizaje, reduciremos la cantidad de información que se muestra durante el entrenamiento (`verbose`: 0 = silent, 1 = progress bar, 2 = single line)"
   ]
  },
  {
   "cell_type": "code",
   "execution_count": null,
   "metadata": {
    "colab": {
     "base_uri": "https://localhost:8080/",
     "height": 339
    },
    "id": "2O5sQG2EqGe_",
    "outputId": "f4eb1bbf-f2f0-4106-d69e-41891d3d9ce3"
   },
   "outputs": [],
   "source": [
    "history = model.fit(\n",
    "    train_features.toarray().astype(float),\n",
    "    y_train,\n",
    "    epochs=epochs,\n",
    "    batch_size=batch_size,\n",
    "    validation_split=0.2,\n",
    "    callbacks=[early_stopping_cb],\n",
    "    verbose=0\n",
    ")\n",
    "plot_history(history)"
   ]
  },
  {
   "cell_type": "code",
   "execution_count": null,
   "metadata": {
    "colab": {
     "base_uri": "https://localhost:8080/",
     "height": 664
    },
    "id": "fn4LiDmDw0rk",
    "outputId": "0984c9e0-7e93-442a-9fdd-8a61d73e0dd4"
   },
   "outputs": [],
   "source": [
    "print(\"Predicting on the test set\")\n",
    "y_pred = np.argmax(model.predict(test_features.toarray().astype(float)), axis=1)\n",
    "\n",
    "print(\"Classification Report\")\n",
    "print()\n",
    "print(classification_report(test_dataset.label, y_pred, target_names=[\"positive\", \"negative\"]))\n",
    "cm = confusion_matrix(test_dataset.label, y_pred, labels=[1, 0])\n",
    " \n",
    "plot_confusion_matrix(cm, classes=[\"positive\", \"negative\"])\n",
    "\n",
    "print(\"Final Accuracy\")\n",
    "print(accuracy_score(test_dataset.label, y_pred,))"
   ]
  },
  {
   "cell_type": "markdown",
   "metadata": {
    "id": "QbJFmqebxRQs"
   },
   "source": [
    "La accuracy llega al 88% con estos cambios."
   ]
  },
  {
   "cell_type": "markdown",
   "metadata": {
    "id": "a7QDlN-RO8Fs"
   },
   "source": [
    "#### Variación número de unidades en primera capa."
   ]
  },
  {
   "cell_type": "markdown",
   "metadata": {
    "id": "gn8zk4YQPEsW"
   },
   "source": [
    "Vamos a ver cómo afecta el número de unidades en la primera capa:"
   ]
  },
  {
   "cell_type": "code",
   "execution_count": null,
   "metadata": {
    "colab": {
     "base_uri": "https://localhost:8080/"
    },
    "id": "JpXRkXqrPTGn",
    "outputId": "ed3223cb-a0ee-4169-ee41-b30dd106dfb0"
   },
   "outputs": [],
   "source": [
    "results = []\n",
    "for n in [1, 2, 4, 8, 16, 32, 64]:\n",
    "    model = Sequential()\n",
    "    model.add(Dense(n, input_dim=train_features.shape[1], activation='softmax'))\n",
    "    model.add(Dense(min(32, n), activation='softmax'))\n",
    "    model.add(Dense(2, activation='softmax'))\n",
    "    model.compile(optimizer='adam', loss='binary_crossentropy', metrics=['acc'])\n",
    "\n",
    "    history = model.fit(\n",
    "        train_features.toarray().astype(float),\n",
    "        y_train,\n",
    "        epochs=epochs,\n",
    "        batch_size=batch_size,\n",
    "        validation_split=0.2,\n",
    "        callbacks=[early_stopping_cb],\n",
    "        verbose=0\n",
    "    )\n",
    "\n",
    "    y_pred = np.argmax(model.predict(test_features.toarray().astype(float)), axis=1)\n",
    "    acc = accuracy_score(test_dataset.label, y_pred,)\n",
    "    results.append({'n_units':n, 'acc': acc})\n",
    "\n",
    "    print(f\"Model accuracy with {n} units: {acc}\")"
   ]
  },
  {
   "cell_type": "code",
   "execution_count": null,
   "metadata": {
    "colab": {
     "base_uri": "https://localhost:8080/",
     "height": 343
    },
    "id": "dID9Mzs6PPyK",
    "outputId": "b54eb5ed-e1fd-4e2f-ec3e-2f109189fa42"
   },
   "outputs": [],
   "source": [
    "results = pd.DataFrame(results)\n",
    "chart = sns.lineplot(\n",
    "    data=results,\n",
    "    x=\"n_units\",\n",
    "    y=\"acc\"\n",
    ")"
   ]
  },
  {
   "cell_type": "markdown",
   "metadata": {
    "id": "uRnHYoNwaR0I"
   },
   "source": [
    "A partir de dos unidades vemos como la precisión del modelo apenas varía. Añadir muchas unidades no está ayudando. Puede que esto venga provocado por la alta dimensionalidad del problema.\n",
    "\n",
    "Si explorásemos los pesos, es probable que muchas de las unidades estén replicando los pesos de otras."
   ]
  },
  {
   "cell_type": "markdown",
   "metadata": {
    "id": "SGndlb8mR6Kr"
   },
   "source": [
    "### Variación en la profundidad del modelo"
   ]
  },
  {
   "cell_type": "markdown",
   "metadata": {
    "id": "KlfXTjSRSAaP"
   },
   "source": [
    "Una vez medido el impacto del número de neuronas, veamos cómo influye la adicción de capas intermedias. En general, cuanto más profunda es una red, mayor capacidad de inferir patrones abstractos."
   ]
  },
  {
   "cell_type": "code",
   "execution_count": null,
   "metadata": {
    "colab": {
     "base_uri": "https://localhost:8080/"
    },
    "id": "tadsO0KjSlUS",
    "outputId": "4a84cce3-e86c-4848-d3c8-9d8997d39b7c"
   },
   "outputs": [],
   "source": [
    "results = []\n",
    "for n in range(5):\n",
    "    model = Sequential()\n",
    "    model.add(Dense(32, input_dim=train_features.shape[1], activation='softmax'))\n",
    "    for _ in range(n):\n",
    "      model.add(Dense(16, activation='softmax'))\n",
    "    model.add(Dense(2, activation='softmax'))\n",
    "    model.compile(optimizer='adam', loss='binary_crossentropy', metrics=['acc'])\n",
    "\n",
    "    history = model.fit(\n",
    "        train_features.toarray().astype(float),\n",
    "        y_train,\n",
    "        epochs=epochs,\n",
    "        batch_size=batch_size,\n",
    "        validation_split=0.2,\n",
    "        callbacks=[early_stopping_cb],\n",
    "        verbose=0\n",
    "    )\n",
    "\n",
    "    y_pred = np.argmax(model.predict(test_features.toarray().astype(float)), axis=1)\n",
    "    acc = accuracy_score(test_dataset.label, y_pred,)\n",
    "    results.append({'n_layers':n, 'acc': acc})\n",
    "\n",
    "    print(f\"Model accuracy with {n} hidden layers: {acc}\")"
   ]
  },
  {
   "cell_type": "code",
   "execution_count": null,
   "metadata": {
    "colab": {
     "base_uri": "https://localhost:8080/",
     "height": 339
    },
    "id": "rwjg6Hvtadl0",
    "outputId": "b804b8d0-3d3c-4c95-df39-69cdef54fded"
   },
   "outputs": [],
   "source": [
    "results = pd.DataFrame(results)\n",
    "chart = sns.barplot(\n",
    "    data=results,\n",
    "    x=\"n_layers\",\n",
    "    y=\"acc\"\n",
    ")"
   ]
  },
  {
   "cell_type": "markdown",
   "metadata": {
    "id": "7w80kkw8qPuU"
   },
   "source": [
    "Vemos que a partir de dos capas ocultas, la precisión empieza a caer. Dada la profundidad, y el \"relativamente bajo\" número de muestras, puede que el modelo esté sufriendo de algún problema de desvanecimiento de gradientes."
   ]
  },
  {
   "cell_type": "markdown",
   "metadata": {
    "id": "tpIjRs7VrpCn"
   },
   "source": [
    "Vamos a ver qué ocurre si elevamos el número de epochs, para dar lugar a un entrenamiento más largo y ver si, sin necesidad de explorar los gradientes del modelo, hay algo indicativo de problemas con los gradientes."
   ]
  },
  {
   "cell_type": "code",
   "execution_count": null,
   "metadata": {
    "id": "5QLNaOmFq2ai"
   },
   "outputs": [],
   "source": [
    "model = Sequential()\n",
    "model.add(Dense(32, input_dim=train_features.shape[1], activation='softmax'))\n",
    "for _ in range(3):\n",
    "    model.add(Dense(16, activation='softmax'))\n",
    "model.add(Dense(2, activation='softmax'))\n",
    "model.compile(optimizer='adam', loss='binary_crossentropy', metrics=['acc'])"
   ]
  },
  {
   "cell_type": "code",
   "execution_count": null,
   "metadata": {
    "colab": {
     "base_uri": "https://localhost:8080/",
     "height": 339
    },
    "id": "sg7FbBqYmZDD",
    "outputId": "772768e5-328d-45e4-9f66-90ba4fbf5a6b"
   },
   "outputs": [],
   "source": [
    "history = model.fit(\n",
    "    train_features.toarray().astype(float),\n",
    "    y_train,\n",
    "    epochs=120,\n",
    "    batch_size=batch_size,\n",
    "    validation_split=0.2,\n",
    "    #callbacks=[early_stopping_cb],\n",
    "    verbose=0\n",
    ")\n",
    "plot_history(history)"
   ]
  },
  {
   "cell_type": "markdown",
   "metadata": {
    "id": "Ul8uEvsJtNGG"
   },
   "source": [
    "Efectivamente, a parte de un pronunciado overfitting acusado a partir de la epoch 30, vemos algunos fenómenos indicadores de problemas con los gradientes. El más evidente de ellos es que durante las primeras 20 iteraciones el modelo es incapaz de aprender, lo que suele ocurrir en modelos profundos con problemas de desvanecimiento de gradientes."
   ]
  },
  {
   "cell_type": "markdown",
   "metadata": {
    "id": "FriWeomRswF1"
   },
   "source": [
    "### Dropout"
   ]
  },
  {
   "cell_type": "markdown",
   "metadata": {
    "id": "7QyvNKcfs0gE"
   },
   "source": [
    "Vamos a probar una de las técnicas más comunes para evitar el sobre ajuste de los modelos, el dropout. Con esta técnica, únicamente durante la fase de entrenamiento, se desactivarán algunas unidades, aplicando así un tipo de feature engineering interno."
   ]
  },
  {
   "cell_type": "code",
   "execution_count": null,
   "metadata": {
    "id": "v0gptGICszcT"
   },
   "outputs": [],
   "source": [
    "from keras.layers import Dropout"
   ]
  },
  {
   "cell_type": "code",
   "execution_count": null,
   "metadata": {
    "colab": {
     "base_uri": "https://localhost:8080/"
    },
    "id": "y5Ggbt_1t5DV",
    "outputId": "31c7d89f-e621-4b65-dc81-fc3e1f2a0a1c"
   },
   "outputs": [],
   "source": [
    "model = Sequential()\n",
    "model.add(Dense(128, input_dim=train_features.shape[1], activation='softmax'))\n",
    "model.add(Dropout(0.2))\n",
    "model.add(Dense(64, activation='softmax'))\n",
    "model.add(Dropout(0.2))\n",
    "model.add(Dense(2, activation='softmax'))\n",
    "model.compile(optimizer='adam', loss='binary_crossentropy', metrics=['acc'])\n",
    "print(model.summary())"
   ]
  },
  {
   "cell_type": "code",
   "execution_count": null,
   "metadata": {
    "colab": {
     "base_uri": "https://localhost:8080/",
     "height": 339
    },
    "id": "Fd-1of7VuC_j",
    "outputId": "e49cc2fa-4de2-4b2f-c8ff-92295d763873"
   },
   "outputs": [],
   "source": [
    "history = model.fit(\n",
    "    train_features.toarray().astype(float),\n",
    "    y_train,\n",
    "    epochs=epochs,\n",
    "    batch_size=batch_size,\n",
    "    validation_split=0.2,\n",
    "    callbacks=[early_stopping_cb],\n",
    "    verbose=0\n",
    ")\n",
    "plot_history(history)"
   ]
  },
  {
   "cell_type": "code",
   "execution_count": null,
   "metadata": {
    "colab": {
     "base_uri": "https://localhost:8080/",
     "height": 664
    },
    "id": "PSesgE7JuC0d",
    "outputId": "dac080ed-76b0-43c4-d586-92262f0767c1"
   },
   "outputs": [],
   "source": [
    "print(\"Predicting on the test set\")\n",
    "y_pred = np.argmax(model.predict(test_features.toarray().astype(float)), axis=1)\n",
    "\n",
    "print(\"Classification Report\")\n",
    "print()\n",
    "print(classification_report(test_dataset.label, y_pred, target_names=[\"positive\", \"negative\"]))\n",
    "cm = confusion_matrix(test_dataset.label, y_pred, labels=[1, 0])\n",
    " \n",
    "plot_confusion_matrix(cm, classes=[\"positive\", \"negative\"])\n",
    "\n",
    "print(\"Final Accuracy\")\n",
    "print(accuracy_score(test_dataset.label, y_pred,))"
   ]
  },
  {
   "cell_type": "markdown",
   "metadata": {
    "id": "ITDGpfTFvk9K"
   },
   "source": [
    "El resultado es levemente mejor que el mejor que habíamos obtenido previamente."
   ]
  },
  {
   "cell_type": "markdown",
   "metadata": {
    "id": "3hDMQHMiv1Sp"
   },
   "source": [
    "### Reducción de parámetros"
   ]
  },
  {
   "cell_type": "markdown",
   "metadata": {
    "id": "T-qsliCbv4Jh"
   },
   "source": [
    "Vamos a entrenar un modelo con muchos menos parámetros, dado que hemos visto que un mayor número de unidades y capas no tenía tanto impacto, dado que modelos con alto número de parámetros fomentan el sobre ajuste."
   ]
  },
  {
   "cell_type": "code",
   "execution_count": null,
   "metadata": {
    "colab": {
     "base_uri": "https://localhost:8080/"
    },
    "id": "joWcouAUwBhK",
    "outputId": "cb5e01d8-1452-40ec-b240-0773e42526bb"
   },
   "outputs": [],
   "source": [
    "model = Sequential()\n",
    "model.add(Dense(4, input_dim=train_features.shape[1], activation='softmax'))\n",
    "model.add(Dropout(0.2))\n",
    "model.add(Dense(2, activation='softmax'))\n",
    "model.compile(optimizer='adam', loss='binary_crossentropy', metrics=['acc'])\n",
    "print(model.summary())"
   ]
  },
  {
   "cell_type": "code",
   "execution_count": null,
   "metadata": {
    "colab": {
     "base_uri": "https://localhost:8080/",
     "height": 339
    },
    "id": "inrWFEKewBeG",
    "outputId": "d4293b5b-cbfb-4e83-8f83-300af96e6bc4"
   },
   "outputs": [],
   "source": [
    "history = model.fit(\n",
    "    train_features.toarray().astype(float),\n",
    "    y_train,\n",
    "    epochs=epochs,\n",
    "    batch_size=batch_size,\n",
    "    validation_split=0.2,\n",
    "    callbacks=[early_stopping_cb],\n",
    "    verbose=0\n",
    ")\n",
    "plot_history(history)"
   ]
  },
  {
   "cell_type": "code",
   "execution_count": null,
   "metadata": {
    "colab": {
     "base_uri": "https://localhost:8080/",
     "height": 664
    },
    "id": "03zxsEnVwBCu",
    "outputId": "eb672013-d2dc-4a48-ae6a-3fb2ddf2fc62"
   },
   "outputs": [],
   "source": [
    "print(\"Predicting on the test set\")\n",
    "y_pred = np.argmax(model.predict(test_features.toarray().astype(float)), axis=1)\n",
    "\n",
    "print(\"Classification Report\")\n",
    "print()\n",
    "print(classification_report(test_dataset.label, y_pred, target_names=[\"positive\", \"negative\"]))\n",
    "cm = confusion_matrix(test_dataset.label, y_pred, labels=[1, 0])\n",
    " \n",
    "plot_confusion_matrix(cm, classes=[\"positive\", \"negative\"])\n",
    "\n",
    "print(\"Final Accuracy\")\n",
    "print(accuracy_score(test_dataset.label, y_pred,))"
   ]
  },
  {
   "cell_type": "markdown",
   "metadata": {
    "id": "x-z8SrKQwo6F"
   },
   "source": [
    "Aunque el incremento en precisión es leve, es el modelo más preciso que hemos obtenido hasta el momento."
   ]
  },
  {
   "cell_type": "markdown",
   "metadata": {
    "id": "9jHVnV4TxfJ7"
   },
   "source": [
    "## Tercer modelo. Custom Embeddings."
   ]
  },
  {
   "cell_type": "markdown",
   "metadata": {
    "id": "g6146SjRxivV"
   },
   "source": [
    "Vamos a entrenar un embedding custom incluído en el modelo para forzar una reducción de dimensionalidad."
   ]
  },
  {
   "cell_type": "markdown",
   "metadata": {
    "id": "3e1raAp23hng"
   },
   "source": [
    "Vamos a preprocesar los textos con nivel `lemma`, para que sean compatibles con embedding pre-entrenados en el siguiente apartado (no en este)."
   ]
  },
  {
   "cell_type": "code",
   "execution_count": null,
   "metadata": {
    "id": "FFyXieQ_07Nv"
   },
   "outputs": [],
   "source": [
    "text_preprocessor = TextPreprocessor(level='lemma')"
   ]
  },
  {
   "cell_type": "code",
   "execution_count": null,
   "metadata": {
    "id": "lpd8uBXZ2edo"
   },
   "outputs": [],
   "source": [
    "train_dataset = dataset[dataset['train_partition']]\n",
    "test_dataset = dataset[~dataset['train_partition']]"
   ]
  },
  {
   "cell_type": "code",
   "execution_count": null,
   "metadata": {
    "id": "66geeX3H3CT4"
   },
   "outputs": [],
   "source": [
    "train_texts = text_preprocessor.transform(train_dataset.review)\n",
    "test_texts = text_preprocessor.transform(test_dataset.review)"
   ]
  },
  {
   "cell_type": "markdown",
   "metadata": {
    "id": "wJzTsjwAuvdL"
   },
   "source": [
    "Vamos a cambiar el sistema de vectorización. En este caso utilizaremos el Tokenizer de keras, que cambiará cada palabra por un índice, transformando cada texto en una secuencia de índices (uno por palabra en el texto). Se deberá fijar un tamaño exacto de texto (padding), para que las operaciones matriciales puedan llevarse a cabo (dado que cada texto tiene una longitud variable). En el tipo de vectorizaciones que hemos estado utilizando hasta ahora no era era necesario esto, proque todos los textos tenían la misma longitud tras la vectorización (una variable por palabra en el voacbulario)."
   ]
  },
  {
   "cell_type": "code",
   "execution_count": null,
   "metadata": {
    "id": "ME3Ik0Cyw0lg"
   },
   "outputs": [],
   "source": [
    "tokenizer = Tokenizer()\n",
    "tokenizer.fit_on_texts(train_texts)\n",
    "sequences_train = tokenizer.texts_to_sequences(train_texts)\n",
    "sequences_test = tokenizer.texts_to_sequences(test_texts)\n",
    "vocab_size = len(tokenizer.word_index) + 1"
   ]
  },
  {
   "cell_type": "code",
   "execution_count": null,
   "metadata": {
    "colab": {
     "base_uri": "https://localhost:8080/"
    },
    "id": "BcXJ7dC2w0fh",
    "outputId": "09ad7271-f493-4c69-ad20-b4c29ead65a5"
   },
   "outputs": [],
   "source": [
    "print(\"Tamaño del vocabulario: \", vocab_size)"
   ]
  },
  {
   "cell_type": "markdown",
   "metadata": {
    "id": "lN-OjeBu39At"
   },
   "source": [
    "El vocabulario es algo mayor que utilizando la vectorización de sklearn."
   ]
  },
  {
   "cell_type": "markdown",
   "metadata": {
    "id": "yB_Z0KTV4My5"
   },
   "source": [
    "Vamos a aplicar padding a los textos para que puedan ser compatibles con las operaciones matriciales."
   ]
  },
  {
   "cell_type": "code",
   "execution_count": null,
   "metadata": {
    "id": "s487cQTmw0Z1"
   },
   "outputs": [],
   "source": [
    "train_text_nn = pad_sequences(sequences_train, maxlen=max_len)\n",
    "test_text_nn = pad_sequences(sequences_test, maxlen=max_len)"
   ]
  },
  {
   "cell_type": "code",
   "execution_count": null,
   "metadata": {
    "id": "TVujQgy_w0S-"
   },
   "outputs": [],
   "source": [
    "y_train = to_categorical(train_dataset.label, num_classes=2)\n",
    "y_test = to_categorical(test_dataset.label, num_classes=2)"
   ]
  },
  {
   "cell_type": "code",
   "execution_count": null,
   "metadata": {
    "colab": {
     "base_uri": "https://localhost:8080/"
    },
    "id": "lrCppskpw0I0",
    "outputId": "22120012-4185-4bfb-ee2b-79cb0fcbe17b"
   },
   "outputs": [],
   "source": [
    "model = Sequential()\n",
    "model.add(Embedding(input_dim=vocab_size, \n",
    "                           output_dim=emb_dim, \n",
    "                           input_length=train_text_nn.shape[1]))\n",
    "model.add(Flatten())\n",
    "model.add(Dense(64, activation='softmax'))\n",
    "model.add(Dense(2, activation='softmax'))\n",
    "model.compile(optimizer='adam', loss='binary_crossentropy', metrics=['acc'])\n",
    "print(model.summary())"
   ]
  },
  {
   "cell_type": "code",
   "execution_count": null,
   "metadata": {
    "colab": {
     "base_uri": "https://localhost:8080/",
     "height": 339
    },
    "id": "-dj8iWrW49pI",
    "outputId": "e26a38d2-26ae-4ee0-a5c2-4ea55039aebd"
   },
   "outputs": [],
   "source": [
    "history = model.fit(\n",
    "    train_text_nn,\n",
    "    y_train,\n",
    "    epochs=epochs,\n",
    "    batch_size=batch_size,\n",
    "    validation_split=0.2,\n",
    "    callbacks=[early_stopping_cb],\n",
    "    verbose=0)\n",
    "plot_history(history)"
   ]
  },
  {
   "cell_type": "code",
   "execution_count": null,
   "metadata": {
    "colab": {
     "base_uri": "https://localhost:8080/",
     "height": 672
    },
    "id": "iSktg7JJ49fK",
    "outputId": "e5c5610c-6031-42ff-82ee-6157a4b2bd26"
   },
   "outputs": [],
   "source": [
    "print(\"Predicting on the test set\")\n",
    "y_pred = np.argmax(model.predict(test_text_nn), axis=1)\n",
    "\n",
    "print(\"Classification Report\")\n",
    "print()\n",
    "print(classification_report(test_dataset.label, y_pred, target_names=[\"positive\", \"negative\"]))\n",
    "cm = confusion_matrix(test_dataset.label, y_pred, labels=[1, 0])\n",
    " \n",
    "plot_confusion_matrix(cm, classes=[\"positive\", \"negative\"])\n",
    "\n",
    "print(\"Final Accuracy\")\n",
    "print(accuracy_score(test_dataset.label, y_pred,))"
   ]
  },
  {
   "cell_type": "markdown",
   "metadata": {
    "id": "XFhDiihHIIFU"
   },
   "source": [
    "El modelo muestra una precision algo inferior al experimento anterior, y la reducción del tamaño del modelo tampoco grande."
   ]
  },
  {
   "cell_type": "markdown",
   "metadata": {
    "id": "slOMRMQRIv1S"
   },
   "source": [
    "## Cuarto modelo. Embeddings pre-entrenados."
   ]
  },
  {
   "cell_type": "markdown",
   "metadata": {
    "id": "MyVeEN4wJYsT"
   },
   "source": [
    "Vamos a comprobar el impacto que tendría un embedding pre entrenado. Para ello vamos a descargar los embeddings pre-entrenados de GloVe, que dispone de varias versiones de los mismos."
   ]
  },
  {
   "cell_type": "code",
   "execution_count": null,
   "metadata": {
    "colab": {
     "base_uri": "https://localhost:8080/"
    },
    "id": "zfEQB_OW49OX",
    "outputId": "78cfa396-ab11-408b-fc98-3be26a7314c3"
   },
   "outputs": [],
   "source": [
    "!wget http://nlp.stanford.edu/data/glove.6B.zip\n",
    "!unzip -q glove.6B.zip"
   ]
  },
  {
   "cell_type": "markdown",
   "metadata": {
    "id": "x4pTynfhLNXy"
   },
   "source": [
    "Vamos a utilizar la versión de los embeddings pre-entrenados de 50 dimensiones."
   ]
  },
  {
   "cell_type": "code",
   "execution_count": null,
   "metadata": {
    "id": "xyK4YOZjLT5x"
   },
   "outputs": [],
   "source": [
    "EMB_SIZE = 50"
   ]
  },
  {
   "cell_type": "code",
   "execution_count": null,
   "metadata": {
    "id": "P4nRlpw1JG24"
   },
   "outputs": [],
   "source": [
    "embeddings_index = {}\n",
    "f = open(f'glove.6B.{EMB_SIZE}d.txt')\n",
    "for line in f:\n",
    "    values = line.split()\n",
    "    word = values[0]\n",
    "    coefs = np.asarray(values[1:], dtype='float32')\n",
    "    embeddings_index[word] = coefs\n",
    "f.close()"
   ]
  },
  {
   "cell_type": "markdown",
   "metadata": {
    "id": "3y-5je-yLpLp"
   },
   "source": [
    "Una vez cargados, veamos que cobertura de nuestro vocabulario ofrece el embedding pre-entrenado:"
   ]
  },
  {
   "cell_type": "code",
   "execution_count": null,
   "metadata": {
    "colab": {
     "base_uri": "https://localhost:8080/"
    },
    "id": "rSHDGOu5iU_x",
    "outputId": "bc0fd4f3-a6a8-4011-8805-7919f1ae4986"
   },
   "outputs": [],
   "source": [
    "print('Found %s word vectors.' % len(embeddings_index))\n",
    "word_index = tokenizer.word_index\n",
    "print('Found %s unique tokens.' % len(word_index))"
   ]
  },
  {
   "cell_type": "code",
   "execution_count": null,
   "metadata": {
    "id": "abL6sVOyjXbT"
   },
   "outputs": [],
   "source": [
    "n_missing = 0\n",
    "num_words = min(n_most_common_words, len(word_index)) + 1\n",
    "\n",
    "embedding_matrix = np.zeros((num_words, emb_dim))\n",
    "\n",
    "for word, i in word_index.items():\n",
    "    if i > n_most_common_words:\n",
    "        continue\n",
    "    embedding_vector = embeddings_index.get(word)\n",
    "    if embedding_vector is not None:\n",
    "        # Si la palabra existe añadimos su vector a la matriz\n",
    "        embedding_matrix[i] = embedding_vector\n",
    "    else:\n",
    "        # Si no existe, se le asigna un vector aleatorio\n",
    "        embedding_matrix[i] = np.random.randn(emb_dim)\n",
    "        n_missing += 1"
   ]
  },
  {
   "cell_type": "code",
   "execution_count": null,
   "metadata": {
    "colab": {
     "base_uri": "https://localhost:8080/"
    },
    "id": "5-ufIMcZjYRY",
    "outputId": "bc166bf6-c767-4c42-8f1a-f18f4775941e"
   },
   "outputs": [],
   "source": [
    "print(len(word_index) - n_missing, 'tokens found.')"
   ]
  },
  {
   "cell_type": "code",
   "execution_count": null,
   "metadata": {
    "colab": {
     "base_uri": "https://localhost:8080/"
    },
    "id": "kai2e1j1MfhZ",
    "outputId": "006e70fe-a477-4814-a2e7-35b9046d9cb3"
   },
   "outputs": [],
   "source": [
    "print(n_missing, 'missing tokens.')"
   ]
  },
  {
   "cell_type": "markdown",
   "metadata": {
    "id": "u_YPn_NwMnc5"
   },
   "source": [
    "El embedding pre-entrenado no ha cubierto casi 5000 de las palabras de nuestro vocabulario. Para cada una de ellas se introducirá un vector aleatorio. Esto puede impactar en la calidad de los resultados."
   ]
  },
  {
   "cell_type": "markdown",
   "metadata": {
    "id": "i7ITaYOejfWS"
   },
   "source": [
    "Necesitamos modificar la capa de embeddings para incluir los embeddings Glove. Utilizando la matriz generada anteriormente, cargamos los valores de los embeddings pre-entrenados. Además, el parámetro \"trainable\" nos permite decidir si estos parámetros siguen siendo modificables (trainable = True) o lo mantenemos fijos durante todo el entrenamiento (trainable = False)."
   ]
  },
  {
   "cell_type": "markdown",
   "metadata": {
    "id": "C85L-9MWNB5X"
   },
   "source": [
    "En este caso vamos a permitir que sufran cambios durante el entrenamiento."
   ]
  },
  {
   "cell_type": "code",
   "execution_count": null,
   "metadata": {
    "colab": {
     "base_uri": "https://localhost:8080/"
    },
    "id": "B3a58kHrj2Bj",
    "outputId": "7d47eb3c-025a-4791-808d-322e28ee26e9"
   },
   "outputs": [],
   "source": [
    "model = Sequential()\n",
    "model.add(Embedding(num_words,\n",
    "                    emb_dim,\n",
    "                    embeddings_initializer=Constant(embedding_matrix),\n",
    "                    input_length=train_text_nn.shape[1],\n",
    "                    trainable=True))\n",
    "model.add(Flatten())\n",
    "model.add(Dense(64, activation='softmax'))\n",
    "model.add(Dense(2, activation='softmax'))\n",
    "model.compile(optimizer='adam', loss='binary_crossentropy', metrics=['acc'])\n",
    "print(model.summary())"
   ]
  },
  {
   "cell_type": "code",
   "execution_count": null,
   "metadata": {
    "colab": {
     "base_uri": "https://localhost:8080/",
     "height": 339
    },
    "id": "tGQ2xP2Rj4Ih",
    "outputId": "14907de1-e7e7-47ed-9477-983051b396ef"
   },
   "outputs": [],
   "source": [
    "history = model.fit(\n",
    "    train_text_nn,\n",
    "    y_train,\n",
    "    epochs=epochs,\n",
    "    batch_size=batch_size,\n",
    "    validation_split=0.2,\n",
    "    callbacks=[early_stopping_cb],\n",
    "    verbose=0\n",
    "    )\n",
    "plot_history(history)"
   ]
  },
  {
   "cell_type": "code",
   "execution_count": null,
   "metadata": {
    "colab": {
     "base_uri": "https://localhost:8080/",
     "height": 672
    },
    "id": "ehaXwfSWNkqB",
    "outputId": "1b2f9564-abd5-40e8-f0d4-d9dde4c456de"
   },
   "outputs": [],
   "source": [
    "print(\"Predicting on the test set\")\n",
    "y_pred = np.argmax(model.predict(test_text_nn), axis=1)\n",
    "\n",
    "print(\"Classification Report\")\n",
    "print()\n",
    "print(classification_report(test_dataset.label, y_pred, target_names=[\"positive\", \"negative\"]))\n",
    "cm = confusion_matrix(test_dataset.label, y_pred, labels=[1, 0])\n",
    " \n",
    "plot_confusion_matrix(cm, classes=[\"positive\", \"negative\"])\n",
    "\n",
    "print(\"Final Accuracy\")\n",
    "print(accuracy_score(test_dataset.label, y_pred,))"
   ]
  },
  {
   "cell_type": "markdown",
   "metadata": {
    "id": "GImWtB74OBRy"
   },
   "source": [
    "La precisión de este modelo es claramente inferior a los dos intentos anteriores. Esto probablemente se deba a dos factores principalmente:\n",
    "\n",
    "- 5000 tokens sin vectorización, que pueden tener un impacto importante.\n",
    "- Este embedding se ha entrenado de una manera generalista, sin estar especialmente adecuado al dominio de la tarea que estamos intentando resolver."
   ]
  },
  {
   "cell_type": "markdown",
   "metadata": {
    "id": "914kalkzypsQ"
   },
   "source": [
    "Una opción podría ser utilizar embeddings con mayor dimensionalidad, pero vamos por no perdernos en pruebas, vamos a tomar otro camino para finalizar la práctica."
   ]
  },
  {
   "cell_type": "markdown",
   "metadata": {
    "id": "K0B7BdBUxmCs"
   },
   "source": [
    "### Cambios en los algoritmos de optimización y el learning rate"
   ]
  },
  {
   "cell_type": "markdown",
   "metadata": {
    "id": "KJEdE12jxuBC"
   },
   "source": [
    "Al utilizar embeddings pre-entrenados estamos ante un caso particular de entrenamiento. Si bien cuando se entrena un modelo desde cero, el learning rate suele ser más agresivo, y cuando se reentrena o refina un modelo, el learning rate suele ser más reducido y el entrenamiento avanza más lentamente.\n",
    "\n",
    "En este caso tenemos una parte preentrenada, pero otra que comienza de cero. Vamos a intentar aplicar otros optimizadores en combinación con un scheduler de learning rate. En concreo, utilizaremos uno que aplicará la reducción una vez que el aprendizaje comience a frenarse."
   ]
  },
  {
   "cell_type": "code",
   "execution_count": null,
   "metadata": {
    "id": "Tx4xgirgziyH"
   },
   "outputs": [],
   "source": [
    "import math\n",
    "from keras.callbacks import ReduceLROnPlateau\n",
    "from keras.optimizers import SGD, RMSprop, Adam, Adagrad"
   ]
  },
  {
   "cell_type": "code",
   "execution_count": null,
   "metadata": {
    "id": "8vaRhVG5z4U8"
   },
   "outputs": [],
   "source": [
    "learning_rate_cb = ReduceLROnPlateau(monitor='val_loss', factor=0.1,\n",
    "                              patience=2, min_lr=0.001)"
   ]
  },
  {
   "cell_type": "code",
   "execution_count": null,
   "metadata": {
    "id": "6sAnjMg874N8"
   },
   "outputs": [],
   "source": [
    "early_stopping_cb = EarlyStopping(\n",
    "    monitor='val_loss',\n",
    "    mode='min',\n",
    "    patience=5,\n",
    "    min_delta=0.001\n",
    ")"
   ]
  },
  {
   "cell_type": "code",
   "execution_count": null,
   "metadata": {
    "id": "OF6Hnq561VR7"
   },
   "outputs": [],
   "source": [
    "optimizers = [\n",
    "    ('SGD', SGD()),\n",
    "    ('RMSprop', RMSprop()),\n",
    "    ('Adam', Adam()),\n",
    "    ('Adagrad', Adagrad())\n",
    "]"
   ]
  },
  {
   "cell_type": "code",
   "execution_count": null,
   "metadata": {
    "colab": {
     "base_uri": "https://localhost:8080/",
     "height": 1000
    },
    "id": "9-Modqu6Nkhw",
    "outputId": "ffc8fd51-1d67-4262-8129-4a9496c3003d"
   },
   "outputs": [],
   "source": [
    "for opt_name, opt in optimizers:\n",
    "    print('Optimizer: ', opt_name)\n",
    "\n",
    "    # Arquitectura de modelo\n",
    "    model = Sequential()\n",
    "    model.add(Embedding(num_words,\n",
    "                        emb_dim,\n",
    "                        embeddings_initializer=Constant(embedding_matrix),\n",
    "                        input_length=train_text_nn.shape[1],\n",
    "                        trainable=True))\n",
    "    model.add(Flatten())\n",
    "    model.add(Dense(64, activation='softmax'))\n",
    "    model.add(Dense(2, activation='softmax'))\n",
    "    model.compile(\n",
    "        optimizer=opt,\n",
    "        loss='binary_crossentropy',\n",
    "        metrics=['acc'],\n",
    "    )\n",
    "\n",
    "    # Entrenamiento\n",
    "    history = model.fit(\n",
    "        train_text_nn,\n",
    "        y_train,\n",
    "        epochs=40,\n",
    "        batch_size=batch_size,\n",
    "        validation_split=0.2,\n",
    "        callbacks=[learning_rate_cb],\n",
    "        verbose=0,\n",
    "        )\n",
    "    plot_history(history)\n",
    "    print()\n",
    "\n",
    "    # Evaluación\n",
    "    print(\"Predicting on the test set\")\n",
    "    y_pred = np.argmax(model.predict(test_text_nn), axis=1)\n",
    "\n",
    "    print(\"Classification Report\")\n",
    "    print()\n",
    "    print(classification_report(test_dataset.label, y_pred, target_names=[\"positive\", \"negative\"]))\n",
    "    cm = confusion_matrix(test_dataset.label, y_pred, labels=[1, 0])\n",
    "    \n",
    "    plot_confusion_matrix(cm, classes=[\"positive\", \"negative\"])\n",
    "\n",
    "    print(\"Final Accuracy\")\n",
    "    print(accuracy_score(test_dataset.label, y_pred,))\n",
    "    print()"
   ]
  },
  {
   "cell_type": "markdown",
   "metadata": {
    "id": "jy5Ey9Vd8P3s"
   },
   "source": [
    "Vemos que se logran mejoras sobre lo obtenido previamente. Elegir el optimizador correcto y el ajuste del learning rate es en general un problema complejo, más si cabe en un problema en el que partimos de unos parámetros preentrenados como capa de entrada del modelo.\n",
    "\n",
    "Vemos que en el último caso (Adagrad) no se produce tal mejora, pero las gráficas muestran que podría continuar mejorando, por lo que vamos a continuar con el entrenamiento algo más."
   ]
  },
  {
   "cell_type": "code",
   "execution_count": null,
   "metadata": {
    "colab": {
     "base_uri": "https://localhost:8080/",
     "height": 1000
    },
    "id": "_Np8TeiaBiEf",
    "outputId": "0fb06332-8432-4f33-b3c2-f0aa3024b2a4"
   },
   "outputs": [],
   "source": [
    "model = Sequential()\n",
    "model.add(Embedding(num_words,\n",
    "                    emb_dim,\n",
    "                    embeddings_initializer=Constant(embedding_matrix),\n",
    "                    input_length=train_text_nn.shape[1],\n",
    "                    trainable=True))\n",
    "model.add(Flatten())\n",
    "model.add(Dense(64, activation='softmax'))\n",
    "model.add(Dense(2, activation='softmax'))\n",
    "model.compile(\n",
    "    optimizer=Adagrad(),\n",
    "    loss='binary_crossentropy',\n",
    "    metrics=['acc'],\n",
    ")\n",
    "\n",
    "# Entrenamiento\n",
    "history = model.fit(\n",
    "    train_text_nn,\n",
    "    y_train,\n",
    "    epochs=240,\n",
    "    batch_size=batch_size,\n",
    "    validation_split=0.2,\n",
    "    callbacks=[learning_rate_cb],\n",
    "    verbose=0,\n",
    "    )\n",
    "plot_history(history)\n",
    "print()\n",
    "\n",
    "# Evaluación\n",
    "print(\"Predicting on the test set\")\n",
    "y_pred = np.argmax(model.predict(test_text_nn), axis=1)\n",
    "\n",
    "print(\"Classification Report\")\n",
    "print()\n",
    "print(classification_report(test_dataset.label, y_pred, target_names=[\"positive\", \"negative\"]))\n",
    "cm = confusion_matrix(test_dataset.label, y_pred, labels=[1, 0])\n",
    "\n",
    "plot_confusion_matrix(cm, classes=[\"positive\", \"negative\"])\n",
    "\n",
    "print(\"Final Accuracy\")\n",
    "print(accuracy_score(test_dataset.label, y_pred,))\n",
    "print()"
   ]
  },
  {
   "cell_type": "markdown",
   "metadata": {
    "id": "xZeBx5QgLGKG"
   },
   "source": [
    "El modelo ha continuado mejorando, aunque ha quedado por debajo de las puntuaciones alcanzadas con otros optimizadores."
   ]
  },
  {
   "cell_type": "markdown",
   "metadata": {
    "id": "lqOwabCM8v3G",
    "tags": []
   },
   "source": [
    "# Conclusión"
   ]
  },
  {
   "cell_type": "markdown",
   "metadata": {
    "id": "w7_SZlaM8yIP"
   },
   "source": [
    "A lo largo de esta práctica hemos practicado, explorado y aprendido numerosos conceptos relacionados con la clasificación de textos. Queda claro que es un problema complejo, que involucra una gran complejidad computacional. En general se desprenden dos conclusiones:\n",
    "\n",
    "* Un tratamiento tradicional puede obtener unos resultados relativamente buenos con aproximaciones sencillas.\n",
    "* Técnicas más modernas, como las presentadas al final de la práctica requieren de un gran conocimiento teórico. Tienen un gran potencial, pueden llegar a superar ampliamente a los métodos tradicionales, pero requieren de un ajuste muy fino para que puedan llegar a explotar todas sus capacidades."
   ]
  }
 ],
 "metadata": {
  "colab": {
   "provenance": [],
   "toc_visible": true
  },
  "kernelspec": {
   "display_name": "Python 3 (ipykernel)",
   "language": "python",
   "name": "python3"
  },
  "language_info": {
   "codemirror_mode": {
    "name": "ipython",
    "version": 3
   },
   "file_extension": ".py",
   "mimetype": "text/x-python",
   "name": "python",
   "nbconvert_exporter": "python",
   "pygments_lexer": "ipython3",
   "version": "3.9.13"
  },
  "widgets": {
   "application/vnd.jupyter.widget-state+json": {
    "083bd8caa43c471680474b8a79e9cf39": {
     "model_module": "@jupyter-widgets/controls",
     "model_module_version": "1.5.0",
     "model_name": "HTMLModel",
     "state": {
      "_dom_classes": [],
      "_model_module": "@jupyter-widgets/controls",
      "_model_module_version": "1.5.0",
      "_model_name": "HTMLModel",
      "_view_count": null,
      "_view_module": "@jupyter-widgets/controls",
      "_view_module_version": "1.5.0",
      "_view_name": "HTMLView",
      "description": "",
      "description_tooltip": null,
      "layout": "IPY_MODEL_1b4eda693f414126a669c58e101b790a",
      "placeholder": "​",
      "style": "IPY_MODEL_d2b82da7457247138d10104a5088eabf",
      "value": "100%"
     }
    },
    "088d83c2329b4d3db196fbc2ba75589e": {
     "model_module": "@jupyter-widgets/base",
     "model_module_version": "1.2.0",
     "model_name": "LayoutModel",
     "state": {
      "_model_module": "@jupyter-widgets/base",
      "_model_module_version": "1.2.0",
      "_model_name": "LayoutModel",
      "_view_count": null,
      "_view_module": "@jupyter-widgets/base",
      "_view_module_version": "1.2.0",
      "_view_name": "LayoutView",
      "align_content": null,
      "align_items": null,
      "align_self": null,
      "border": null,
      "bottom": null,
      "display": null,
      "flex": null,
      "flex_flow": null,
      "grid_area": null,
      "grid_auto_columns": null,
      "grid_auto_flow": null,
      "grid_auto_rows": null,
      "grid_column": null,
      "grid_gap": null,
      "grid_row": null,
      "grid_template_areas": null,
      "grid_template_columns": null,
      "grid_template_rows": null,
      "height": null,
      "justify_content": null,
      "justify_items": null,
      "left": null,
      "margin": null,
      "max_height": null,
      "max_width": null,
      "min_height": null,
      "min_width": null,
      "object_fit": null,
      "object_position": null,
      "order": null,
      "overflow": null,
      "overflow_x": null,
      "overflow_y": null,
      "padding": null,
      "right": null,
      "top": null,
      "visibility": null,
      "width": null
     }
    },
    "0982bebda668473582106f79d9b21398": {
     "model_module": "@jupyter-widgets/controls",
     "model_module_version": "1.5.0",
     "model_name": "DescriptionStyleModel",
     "state": {
      "_model_module": "@jupyter-widgets/controls",
      "_model_module_version": "1.5.0",
      "_model_name": "DescriptionStyleModel",
      "_view_count": null,
      "_view_module": "@jupyter-widgets/base",
      "_view_module_version": "1.2.0",
      "_view_name": "StyleView",
      "description_width": ""
     }
    },
    "0b86b015850f409dba6e9a53b425da75": {
     "model_module": "@jupyter-widgets/base",
     "model_module_version": "1.2.0",
     "model_name": "LayoutModel",
     "state": {
      "_model_module": "@jupyter-widgets/base",
      "_model_module_version": "1.2.0",
      "_model_name": "LayoutModel",
      "_view_count": null,
      "_view_module": "@jupyter-widgets/base",
      "_view_module_version": "1.2.0",
      "_view_name": "LayoutView",
      "align_content": null,
      "align_items": null,
      "align_self": null,
      "border": null,
      "bottom": null,
      "display": null,
      "flex": null,
      "flex_flow": null,
      "grid_area": null,
      "grid_auto_columns": null,
      "grid_auto_flow": null,
      "grid_auto_rows": null,
      "grid_column": null,
      "grid_gap": null,
      "grid_row": null,
      "grid_template_areas": null,
      "grid_template_columns": null,
      "grid_template_rows": null,
      "height": null,
      "justify_content": null,
      "justify_items": null,
      "left": null,
      "margin": null,
      "max_height": null,
      "max_width": null,
      "min_height": null,
      "min_width": null,
      "object_fit": null,
      "object_position": null,
      "order": null,
      "overflow": null,
      "overflow_x": null,
      "overflow_y": null,
      "padding": null,
      "right": null,
      "top": null,
      "visibility": null,
      "width": null
     }
    },
    "114b10770b5b4fb6bebd28b3f5e12c0c": {
     "model_module": "@jupyter-widgets/base",
     "model_module_version": "1.2.0",
     "model_name": "LayoutModel",
     "state": {
      "_model_module": "@jupyter-widgets/base",
      "_model_module_version": "1.2.0",
      "_model_name": "LayoutModel",
      "_view_count": null,
      "_view_module": "@jupyter-widgets/base",
      "_view_module_version": "1.2.0",
      "_view_name": "LayoutView",
      "align_content": null,
      "align_items": null,
      "align_self": null,
      "border": null,
      "bottom": null,
      "display": null,
      "flex": null,
      "flex_flow": null,
      "grid_area": null,
      "grid_auto_columns": null,
      "grid_auto_flow": null,
      "grid_auto_rows": null,
      "grid_column": null,
      "grid_gap": null,
      "grid_row": null,
      "grid_template_areas": null,
      "grid_template_columns": null,
      "grid_template_rows": null,
      "height": null,
      "justify_content": null,
      "justify_items": null,
      "left": null,
      "margin": null,
      "max_height": null,
      "max_width": null,
      "min_height": null,
      "min_width": null,
      "object_fit": null,
      "object_position": null,
      "order": null,
      "overflow": null,
      "overflow_x": null,
      "overflow_y": null,
      "padding": null,
      "right": null,
      "top": null,
      "visibility": null,
      "width": null
     }
    },
    "118297a05b474a65a2f6742f4f388d93": {
     "model_module": "@jupyter-widgets/base",
     "model_module_version": "1.2.0",
     "model_name": "LayoutModel",
     "state": {
      "_model_module": "@jupyter-widgets/base",
      "_model_module_version": "1.2.0",
      "_model_name": "LayoutModel",
      "_view_count": null,
      "_view_module": "@jupyter-widgets/base",
      "_view_module_version": "1.2.0",
      "_view_name": "LayoutView",
      "align_content": null,
      "align_items": null,
      "align_self": null,
      "border": null,
      "bottom": null,
      "display": null,
      "flex": null,
      "flex_flow": null,
      "grid_area": null,
      "grid_auto_columns": null,
      "grid_auto_flow": null,
      "grid_auto_rows": null,
      "grid_column": null,
      "grid_gap": null,
      "grid_row": null,
      "grid_template_areas": null,
      "grid_template_columns": null,
      "grid_template_rows": null,
      "height": null,
      "justify_content": null,
      "justify_items": null,
      "left": null,
      "margin": null,
      "max_height": null,
      "max_width": null,
      "min_height": null,
      "min_width": null,
      "object_fit": null,
      "object_position": null,
      "order": null,
      "overflow": null,
      "overflow_x": null,
      "overflow_y": null,
      "padding": null,
      "right": null,
      "top": null,
      "visibility": null,
      "width": null
     }
    },
    "11b589d29ed544638e50843e95aea34b": {
     "model_module": "@jupyter-widgets/base",
     "model_module_version": "1.2.0",
     "model_name": "LayoutModel",
     "state": {
      "_model_module": "@jupyter-widgets/base",
      "_model_module_version": "1.2.0",
      "_model_name": "LayoutModel",
      "_view_count": null,
      "_view_module": "@jupyter-widgets/base",
      "_view_module_version": "1.2.0",
      "_view_name": "LayoutView",
      "align_content": null,
      "align_items": null,
      "align_self": null,
      "border": null,
      "bottom": null,
      "display": null,
      "flex": null,
      "flex_flow": null,
      "grid_area": null,
      "grid_auto_columns": null,
      "grid_auto_flow": null,
      "grid_auto_rows": null,
      "grid_column": null,
      "grid_gap": null,
      "grid_row": null,
      "grid_template_areas": null,
      "grid_template_columns": null,
      "grid_template_rows": null,
      "height": null,
      "justify_content": null,
      "justify_items": null,
      "left": null,
      "margin": null,
      "max_height": null,
      "max_width": null,
      "min_height": null,
      "min_width": null,
      "object_fit": null,
      "object_position": null,
      "order": null,
      "overflow": null,
      "overflow_x": null,
      "overflow_y": null,
      "padding": null,
      "right": null,
      "top": null,
      "visibility": null,
      "width": null
     }
    },
    "14a953200bd74135a46da393e8688964": {
     "model_module": "@jupyter-widgets/controls",
     "model_module_version": "1.5.0",
     "model_name": "HBoxModel",
     "state": {
      "_dom_classes": [],
      "_model_module": "@jupyter-widgets/controls",
      "_model_module_version": "1.5.0",
      "_model_name": "HBoxModel",
      "_view_count": null,
      "_view_module": "@jupyter-widgets/controls",
      "_view_module_version": "1.5.0",
      "_view_name": "HBoxView",
      "box_style": "",
      "children": [
       "IPY_MODEL_f532e3b831ee4a92861a081e35b8de42",
       "IPY_MODEL_7b110c7a10364d5d8fc97a1ddf1e3a17",
       "IPY_MODEL_4e4cdf7fd68542489774358f02475ed4"
      ],
      "layout": "IPY_MODEL_560e900bc6504e7d802eb2a9ed2fb279"
     }
    },
    "159566cb9a944a6788294713cb19bc24": {
     "model_module": "@jupyter-widgets/controls",
     "model_module_version": "1.5.0",
     "model_name": "HBoxModel",
     "state": {
      "_dom_classes": [],
      "_model_module": "@jupyter-widgets/controls",
      "_model_module_version": "1.5.0",
      "_model_name": "HBoxModel",
      "_view_count": null,
      "_view_module": "@jupyter-widgets/controls",
      "_view_module_version": "1.5.0",
      "_view_name": "HBoxView",
      "box_style": "",
      "children": [
       "IPY_MODEL_b3f182adec0d4cae847488e7d2290bd3",
       "IPY_MODEL_f95bcae04df9411094e58ab907c298d3",
       "IPY_MODEL_c0755b34468841acb13446f9890a2f90"
      ],
      "layout": "IPY_MODEL_4daba042affc4cbaac78958c9eb84e82"
     }
    },
    "19429c1df6184a82ad30417f7f962f6a": {
     "model_module": "@jupyter-widgets/controls",
     "model_module_version": "1.5.0",
     "model_name": "DescriptionStyleModel",
     "state": {
      "_model_module": "@jupyter-widgets/controls",
      "_model_module_version": "1.5.0",
      "_model_name": "DescriptionStyleModel",
      "_view_count": null,
      "_view_module": "@jupyter-widgets/base",
      "_view_module_version": "1.2.0",
      "_view_name": "StyleView",
      "description_width": ""
     }
    },
    "1a37de6ebd314989b96489fabecf65cf": {
     "model_module": "@jupyter-widgets/controls",
     "model_module_version": "1.5.0",
     "model_name": "ProgressStyleModel",
     "state": {
      "_model_module": "@jupyter-widgets/controls",
      "_model_module_version": "1.5.0",
      "_model_name": "ProgressStyleModel",
      "_view_count": null,
      "_view_module": "@jupyter-widgets/base",
      "_view_module_version": "1.2.0",
      "_view_name": "StyleView",
      "bar_color": null,
      "description_width": ""
     }
    },
    "1b4eda693f414126a669c58e101b790a": {
     "model_module": "@jupyter-widgets/base",
     "model_module_version": "1.2.0",
     "model_name": "LayoutModel",
     "state": {
      "_model_module": "@jupyter-widgets/base",
      "_model_module_version": "1.2.0",
      "_model_name": "LayoutModel",
      "_view_count": null,
      "_view_module": "@jupyter-widgets/base",
      "_view_module_version": "1.2.0",
      "_view_name": "LayoutView",
      "align_content": null,
      "align_items": null,
      "align_self": null,
      "border": null,
      "bottom": null,
      "display": null,
      "flex": null,
      "flex_flow": null,
      "grid_area": null,
      "grid_auto_columns": null,
      "grid_auto_flow": null,
      "grid_auto_rows": null,
      "grid_column": null,
      "grid_gap": null,
      "grid_row": null,
      "grid_template_areas": null,
      "grid_template_columns": null,
      "grid_template_rows": null,
      "height": null,
      "justify_content": null,
      "justify_items": null,
      "left": null,
      "margin": null,
      "max_height": null,
      "max_width": null,
      "min_height": null,
      "min_width": null,
      "object_fit": null,
      "object_position": null,
      "order": null,
      "overflow": null,
      "overflow_x": null,
      "overflow_y": null,
      "padding": null,
      "right": null,
      "top": null,
      "visibility": null,
      "width": null
     }
    },
    "1f84b8ab3f254a2b817b51c32884281b": {
     "model_module": "@jupyter-widgets/controls",
     "model_module_version": "1.5.0",
     "model_name": "DescriptionStyleModel",
     "state": {
      "_model_module": "@jupyter-widgets/controls",
      "_model_module_version": "1.5.0",
      "_model_name": "DescriptionStyleModel",
      "_view_count": null,
      "_view_module": "@jupyter-widgets/base",
      "_view_module_version": "1.2.0",
      "_view_name": "StyleView",
      "description_width": ""
     }
    },
    "2310a136db5043d79e91b1da2fd1f99c": {
     "model_module": "@jupyter-widgets/controls",
     "model_module_version": "1.5.0",
     "model_name": "HTMLModel",
     "state": {
      "_dom_classes": [],
      "_model_module": "@jupyter-widgets/controls",
      "_model_module_version": "1.5.0",
      "_model_name": "HTMLModel",
      "_view_count": null,
      "_view_module": "@jupyter-widgets/controls",
      "_view_module_version": "1.5.0",
      "_view_name": "HTMLView",
      "description": "",
      "description_tooltip": null,
      "layout": "IPY_MODEL_2ee064f7d62f4c7c8fc51410280ed96c",
      "placeholder": "​",
      "style": "IPY_MODEL_e2db6cdeb26649c3abd7eb0b30090cae",
      "value": "100%"
     }
    },
    "24a4348f2b9048c7ae108affae57f78c": {
     "model_module": "@jupyter-widgets/controls",
     "model_module_version": "1.5.0",
     "model_name": "FloatProgressModel",
     "state": {
      "_dom_classes": [],
      "_model_module": "@jupyter-widgets/controls",
      "_model_module_version": "1.5.0",
      "_model_name": "FloatProgressModel",
      "_view_count": null,
      "_view_module": "@jupyter-widgets/controls",
      "_view_module_version": "1.5.0",
      "_view_name": "ProgressView",
      "bar_style": "success",
      "description": "",
      "description_tooltip": null,
      "layout": "IPY_MODEL_e4862370152d4ab4bd45d870a32742e8",
      "max": 3,
      "min": 0,
      "orientation": "horizontal",
      "style": "IPY_MODEL_850ed4f5d8674462b3f295b636539c9e",
      "value": 3
     }
    },
    "267422f1aad94b1b8b06e99807c13856": {
     "model_module": "@jupyter-widgets/controls",
     "model_module_version": "1.5.0",
     "model_name": "DescriptionStyleModel",
     "state": {
      "_model_module": "@jupyter-widgets/controls",
      "_model_module_version": "1.5.0",
      "_model_name": "DescriptionStyleModel",
      "_view_count": null,
      "_view_module": "@jupyter-widgets/base",
      "_view_module_version": "1.2.0",
      "_view_name": "StyleView",
      "description_width": ""
     }
    },
    "2c934e1052544346ae7d43c3a301705e": {
     "model_module": "@jupyter-widgets/base",
     "model_module_version": "1.2.0",
     "model_name": "LayoutModel",
     "state": {
      "_model_module": "@jupyter-widgets/base",
      "_model_module_version": "1.2.0",
      "_model_name": "LayoutModel",
      "_view_count": null,
      "_view_module": "@jupyter-widgets/base",
      "_view_module_version": "1.2.0",
      "_view_name": "LayoutView",
      "align_content": null,
      "align_items": null,
      "align_self": null,
      "border": null,
      "bottom": null,
      "display": null,
      "flex": null,
      "flex_flow": null,
      "grid_area": null,
      "grid_auto_columns": null,
      "grid_auto_flow": null,
      "grid_auto_rows": null,
      "grid_column": null,
      "grid_gap": null,
      "grid_row": null,
      "grid_template_areas": null,
      "grid_template_columns": null,
      "grid_template_rows": null,
      "height": null,
      "justify_content": null,
      "justify_items": null,
      "left": null,
      "margin": null,
      "max_height": null,
      "max_width": null,
      "min_height": null,
      "min_width": null,
      "object_fit": null,
      "object_position": null,
      "order": null,
      "overflow": null,
      "overflow_x": null,
      "overflow_y": null,
      "padding": null,
      "right": null,
      "top": null,
      "visibility": null,
      "width": null
     }
    },
    "2e2e3db77330412aa8039f9e8e809746": {
     "model_module": "@jupyter-widgets/base",
     "model_module_version": "1.2.0",
     "model_name": "LayoutModel",
     "state": {
      "_model_module": "@jupyter-widgets/base",
      "_model_module_version": "1.2.0",
      "_model_name": "LayoutModel",
      "_view_count": null,
      "_view_module": "@jupyter-widgets/base",
      "_view_module_version": "1.2.0",
      "_view_name": "LayoutView",
      "align_content": null,
      "align_items": null,
      "align_self": null,
      "border": null,
      "bottom": null,
      "display": null,
      "flex": null,
      "flex_flow": null,
      "grid_area": null,
      "grid_auto_columns": null,
      "grid_auto_flow": null,
      "grid_auto_rows": null,
      "grid_column": null,
      "grid_gap": null,
      "grid_row": null,
      "grid_template_areas": null,
      "grid_template_columns": null,
      "grid_template_rows": null,
      "height": null,
      "justify_content": null,
      "justify_items": null,
      "left": null,
      "margin": null,
      "max_height": null,
      "max_width": null,
      "min_height": null,
      "min_width": null,
      "object_fit": null,
      "object_position": null,
      "order": null,
      "overflow": null,
      "overflow_x": null,
      "overflow_y": null,
      "padding": null,
      "right": null,
      "top": null,
      "visibility": null,
      "width": null
     }
    },
    "2ee064f7d62f4c7c8fc51410280ed96c": {
     "model_module": "@jupyter-widgets/base",
     "model_module_version": "1.2.0",
     "model_name": "LayoutModel",
     "state": {
      "_model_module": "@jupyter-widgets/base",
      "_model_module_version": "1.2.0",
      "_model_name": "LayoutModel",
      "_view_count": null,
      "_view_module": "@jupyter-widgets/base",
      "_view_module_version": "1.2.0",
      "_view_name": "LayoutView",
      "align_content": null,
      "align_items": null,
      "align_self": null,
      "border": null,
      "bottom": null,
      "display": null,
      "flex": null,
      "flex_flow": null,
      "grid_area": null,
      "grid_auto_columns": null,
      "grid_auto_flow": null,
      "grid_auto_rows": null,
      "grid_column": null,
      "grid_gap": null,
      "grid_row": null,
      "grid_template_areas": null,
      "grid_template_columns": null,
      "grid_template_rows": null,
      "height": null,
      "justify_content": null,
      "justify_items": null,
      "left": null,
      "margin": null,
      "max_height": null,
      "max_width": null,
      "min_height": null,
      "min_width": null,
      "object_fit": null,
      "object_position": null,
      "order": null,
      "overflow": null,
      "overflow_x": null,
      "overflow_y": null,
      "padding": null,
      "right": null,
      "top": null,
      "visibility": null,
      "width": null
     }
    },
    "330c77e0e5c642afa59a55e67859c779": {
     "model_module": "@jupyter-widgets/base",
     "model_module_version": "1.2.0",
     "model_name": "LayoutModel",
     "state": {
      "_model_module": "@jupyter-widgets/base",
      "_model_module_version": "1.2.0",
      "_model_name": "LayoutModel",
      "_view_count": null,
      "_view_module": "@jupyter-widgets/base",
      "_view_module_version": "1.2.0",
      "_view_name": "LayoutView",
      "align_content": null,
      "align_items": null,
      "align_self": null,
      "border": null,
      "bottom": null,
      "display": null,
      "flex": null,
      "flex_flow": null,
      "grid_area": null,
      "grid_auto_columns": null,
      "grid_auto_flow": null,
      "grid_auto_rows": null,
      "grid_column": null,
      "grid_gap": null,
      "grid_row": null,
      "grid_template_areas": null,
      "grid_template_columns": null,
      "grid_template_rows": null,
      "height": null,
      "justify_content": null,
      "justify_items": null,
      "left": null,
      "margin": null,
      "max_height": null,
      "max_width": null,
      "min_height": null,
      "min_width": null,
      "object_fit": null,
      "object_position": null,
      "order": null,
      "overflow": null,
      "overflow_x": null,
      "overflow_y": null,
      "padding": null,
      "right": null,
      "top": null,
      "visibility": null,
      "width": null
     }
    },
    "334d9d92df7e4f619f49d619d7877963": {
     "model_module": "@jupyter-widgets/controls",
     "model_module_version": "1.5.0",
     "model_name": "HBoxModel",
     "state": {
      "_dom_classes": [],
      "_model_module": "@jupyter-widgets/controls",
      "_model_module_version": "1.5.0",
      "_model_name": "HBoxModel",
      "_view_count": null,
      "_view_module": "@jupyter-widgets/controls",
      "_view_module_version": "1.5.0",
      "_view_name": "HBoxView",
      "box_style": "",
      "children": [
       "IPY_MODEL_86b71d35054447f0a04f54bc7777f240",
       "IPY_MODEL_3cfe84736fb34f09b8ea8015713ecf44",
       "IPY_MODEL_dfb56d7f77e04e56af83cff598b4e295"
      ],
      "layout": "IPY_MODEL_e6f17efbaa8e4e7fb1fc5f5ce241e3ad"
     }
    },
    "3450882617664db7bcb196679e4a573b": {
     "model_module": "@jupyter-widgets/controls",
     "model_module_version": "1.5.0",
     "model_name": "HTMLModel",
     "state": {
      "_dom_classes": [],
      "_model_module": "@jupyter-widgets/controls",
      "_model_module_version": "1.5.0",
      "_model_name": "HTMLModel",
      "_view_count": null,
      "_view_module": "@jupyter-widgets/controls",
      "_view_module_version": "1.5.0",
      "_view_name": "HTMLView",
      "description": "",
      "description_tooltip": null,
      "layout": "IPY_MODEL_df0f6629bb224b65be26530eecc3d9a0",
      "placeholder": "​",
      "style": "IPY_MODEL_e1152a21859b4ebf9681f906878eb7a0",
      "value": " 3/3 [03:46&lt;00:00, 72.42s/it]"
     }
    },
    "39174dfc443947e19601119d73a46b30": {
     "model_module": "@jupyter-widgets/controls",
     "model_module_version": "1.5.0",
     "model_name": "FloatProgressModel",
     "state": {
      "_dom_classes": [],
      "_model_module": "@jupyter-widgets/controls",
      "_model_module_version": "1.5.0",
      "_model_name": "FloatProgressModel",
      "_view_count": null,
      "_view_module": "@jupyter-widgets/controls",
      "_view_module_version": "1.5.0",
      "_view_name": "ProgressView",
      "bar_style": "success",
      "description": "",
      "description_tooltip": null,
      "layout": "IPY_MODEL_880c8fa426a84d70be449a5e237a153e",
      "max": 3,
      "min": 0,
      "orientation": "horizontal",
      "style": "IPY_MODEL_5f51cb626b0c44f4b31d48b5a6401445",
      "value": 3
     }
    },
    "3bb7fb54ae3c401b92c33c585dea99a3": {
     "model_module": "@jupyter-widgets/controls",
     "model_module_version": "1.5.0",
     "model_name": "DescriptionStyleModel",
     "state": {
      "_model_module": "@jupyter-widgets/controls",
      "_model_module_version": "1.5.0",
      "_model_name": "DescriptionStyleModel",
      "_view_count": null,
      "_view_module": "@jupyter-widgets/base",
      "_view_module_version": "1.2.0",
      "_view_name": "StyleView",
      "description_width": ""
     }
    },
    "3c5872b7800a4d9f971a238e847cb230": {
     "model_module": "@jupyter-widgets/controls",
     "model_module_version": "1.5.0",
     "model_name": "FloatProgressModel",
     "state": {
      "_dom_classes": [],
      "_model_module": "@jupyter-widgets/controls",
      "_model_module_version": "1.5.0",
      "_model_name": "FloatProgressModel",
      "_view_count": null,
      "_view_module": "@jupyter-widgets/controls",
      "_view_module_version": "1.5.0",
      "_view_name": "ProgressView",
      "bar_style": "success",
      "description": "",
      "description_tooltip": null,
      "layout": "IPY_MODEL_b8f54502a90749f7b5f5273f318418d0",
      "max": 3,
      "min": 0,
      "orientation": "horizontal",
      "style": "IPY_MODEL_1a37de6ebd314989b96489fabecf65cf",
      "value": 3
     }
    },
    "3cfe84736fb34f09b8ea8015713ecf44": {
     "model_module": "@jupyter-widgets/controls",
     "model_module_version": "1.5.0",
     "model_name": "FloatProgressModel",
     "state": {
      "_dom_classes": [],
      "_model_module": "@jupyter-widgets/controls",
      "_model_module_version": "1.5.0",
      "_model_name": "FloatProgressModel",
      "_view_count": null,
      "_view_module": "@jupyter-widgets/controls",
      "_view_module_version": "1.5.0",
      "_view_name": "ProgressView",
      "bar_style": "success",
      "description": "",
      "description_tooltip": null,
      "layout": "IPY_MODEL_7dfb016feffe4b21a8eab54cfad80c35",
      "max": 3,
      "min": 0,
      "orientation": "horizontal",
      "style": "IPY_MODEL_960c1761360d4363bd2f3f2c78456bdf",
      "value": 3
     }
    },
    "3e608378f68c4d348e4991c23cc12c35": {
     "model_module": "@jupyter-widgets/controls",
     "model_module_version": "1.5.0",
     "model_name": "HTMLModel",
     "state": {
      "_dom_classes": [],
      "_model_module": "@jupyter-widgets/controls",
      "_model_module_version": "1.5.0",
      "_model_name": "HTMLModel",
      "_view_count": null,
      "_view_module": "@jupyter-widgets/controls",
      "_view_module_version": "1.5.0",
      "_view_name": "HTMLView",
      "description": "",
      "description_tooltip": null,
      "layout": "IPY_MODEL_c06d6a28f94e404b93f5d87b2a89e5d4",
      "placeholder": "​",
      "style": "IPY_MODEL_7025cac0d55744dcb5a9c471a476e1d2",
      "value": "100%"
     }
    },
    "3e6a9b1c0fd64d44a7c1d97a4d59fffc": {
     "model_module": "@jupyter-widgets/controls",
     "model_module_version": "1.5.0",
     "model_name": "HBoxModel",
     "state": {
      "_dom_classes": [],
      "_model_module": "@jupyter-widgets/controls",
      "_model_module_version": "1.5.0",
      "_model_name": "HBoxModel",
      "_view_count": null,
      "_view_module": "@jupyter-widgets/controls",
      "_view_module_version": "1.5.0",
      "_view_name": "HBoxView",
      "box_style": "",
      "children": [
       "IPY_MODEL_caf391abc31b43ffbf0122ddcf08918c",
       "IPY_MODEL_df1293fbee9c4d049c2b1079f5ef7075",
       "IPY_MODEL_90d793ea6f6c49fdab65d9843f3e5ce8"
      ],
      "layout": "IPY_MODEL_114b10770b5b4fb6bebd28b3f5e12c0c"
     }
    },
    "44b51219b98b44bfbfbb6a175815f298": {
     "model_module": "@jupyter-widgets/controls",
     "model_module_version": "1.5.0",
     "model_name": "HBoxModel",
     "state": {
      "_dom_classes": [],
      "_model_module": "@jupyter-widgets/controls",
      "_model_module_version": "1.5.0",
      "_model_name": "HBoxModel",
      "_view_count": null,
      "_view_module": "@jupyter-widgets/controls",
      "_view_module_version": "1.5.0",
      "_view_name": "HBoxView",
      "box_style": "",
      "children": [
       "IPY_MODEL_df53c027887c475596af09ea280cf249",
       "IPY_MODEL_24a4348f2b9048c7ae108affae57f78c",
       "IPY_MODEL_eac5aa6e7bf345619a9a07a05fa3bfb1"
      ],
      "layout": "IPY_MODEL_91dc9dcdbbfe48f49e68272daebcd45b"
     }
    },
    "4daba042affc4cbaac78958c9eb84e82": {
     "model_module": "@jupyter-widgets/base",
     "model_module_version": "1.2.0",
     "model_name": "LayoutModel",
     "state": {
      "_model_module": "@jupyter-widgets/base",
      "_model_module_version": "1.2.0",
      "_model_name": "LayoutModel",
      "_view_count": null,
      "_view_module": "@jupyter-widgets/base",
      "_view_module_version": "1.2.0",
      "_view_name": "LayoutView",
      "align_content": null,
      "align_items": null,
      "align_self": null,
      "border": null,
      "bottom": null,
      "display": null,
      "flex": null,
      "flex_flow": null,
      "grid_area": null,
      "grid_auto_columns": null,
      "grid_auto_flow": null,
      "grid_auto_rows": null,
      "grid_column": null,
      "grid_gap": null,
      "grid_row": null,
      "grid_template_areas": null,
      "grid_template_columns": null,
      "grid_template_rows": null,
      "height": null,
      "justify_content": null,
      "justify_items": null,
      "left": null,
      "margin": null,
      "max_height": null,
      "max_width": null,
      "min_height": null,
      "min_width": null,
      "object_fit": null,
      "object_position": null,
      "order": null,
      "overflow": null,
      "overflow_x": null,
      "overflow_y": null,
      "padding": null,
      "right": null,
      "top": null,
      "visibility": null,
      "width": null
     }
    },
    "4e4cdf7fd68542489774358f02475ed4": {
     "model_module": "@jupyter-widgets/controls",
     "model_module_version": "1.5.0",
     "model_name": "HTMLModel",
     "state": {
      "_dom_classes": [],
      "_model_module": "@jupyter-widgets/controls",
      "_model_module_version": "1.5.0",
      "_model_name": "HTMLModel",
      "_view_count": null,
      "_view_module": "@jupyter-widgets/controls",
      "_view_module_version": "1.5.0",
      "_view_name": "HTMLView",
      "description": "",
      "description_tooltip": null,
      "layout": "IPY_MODEL_a9a16b6d1e1f46fa8fbdfc646f40e9b6",
      "placeholder": "​",
      "style": "IPY_MODEL_ea5fe136fd944daabc3e8134eea176c8",
      "value": " 3/3 [03:39&lt;00:00, 72.23s/it]"
     }
    },
    "500ea9357cf54426a1e629af24b758c5": {
     "model_module": "@jupyter-widgets/base",
     "model_module_version": "1.2.0",
     "model_name": "LayoutModel",
     "state": {
      "_model_module": "@jupyter-widgets/base",
      "_model_module_version": "1.2.0",
      "_model_name": "LayoutModel",
      "_view_count": null,
      "_view_module": "@jupyter-widgets/base",
      "_view_module_version": "1.2.0",
      "_view_name": "LayoutView",
      "align_content": null,
      "align_items": null,
      "align_self": null,
      "border": null,
      "bottom": null,
      "display": null,
      "flex": null,
      "flex_flow": null,
      "grid_area": null,
      "grid_auto_columns": null,
      "grid_auto_flow": null,
      "grid_auto_rows": null,
      "grid_column": null,
      "grid_gap": null,
      "grid_row": null,
      "grid_template_areas": null,
      "grid_template_columns": null,
      "grid_template_rows": null,
      "height": null,
      "justify_content": null,
      "justify_items": null,
      "left": null,
      "margin": null,
      "max_height": null,
      "max_width": null,
      "min_height": null,
      "min_width": null,
      "object_fit": null,
      "object_position": null,
      "order": null,
      "overflow": null,
      "overflow_x": null,
      "overflow_y": null,
      "padding": null,
      "right": null,
      "top": null,
      "visibility": null,
      "width": null
     }
    },
    "51a206a4714e485a89c173468a0f9678": {
     "model_module": "@jupyter-widgets/controls",
     "model_module_version": "1.5.0",
     "model_name": "DescriptionStyleModel",
     "state": {
      "_model_module": "@jupyter-widgets/controls",
      "_model_module_version": "1.5.0",
      "_model_name": "DescriptionStyleModel",
      "_view_count": null,
      "_view_module": "@jupyter-widgets/base",
      "_view_module_version": "1.2.0",
      "_view_name": "StyleView",
      "description_width": ""
     }
    },
    "52a6e62c150d409a8de173e4d5cd1c9c": {
     "model_module": "@jupyter-widgets/controls",
     "model_module_version": "1.5.0",
     "model_name": "DescriptionStyleModel",
     "state": {
      "_model_module": "@jupyter-widgets/controls",
      "_model_module_version": "1.5.0",
      "_model_name": "DescriptionStyleModel",
      "_view_count": null,
      "_view_module": "@jupyter-widgets/base",
      "_view_module_version": "1.2.0",
      "_view_name": "StyleView",
      "description_width": ""
     }
    },
    "55e27422a3f547ef97f80c442d9d6339": {
     "model_module": "@jupyter-widgets/controls",
     "model_module_version": "1.5.0",
     "model_name": "ProgressStyleModel",
     "state": {
      "_model_module": "@jupyter-widgets/controls",
      "_model_module_version": "1.5.0",
      "_model_name": "ProgressStyleModel",
      "_view_count": null,
      "_view_module": "@jupyter-widgets/base",
      "_view_module_version": "1.2.0",
      "_view_name": "StyleView",
      "bar_color": null,
      "description_width": ""
     }
    },
    "560e900bc6504e7d802eb2a9ed2fb279": {
     "model_module": "@jupyter-widgets/base",
     "model_module_version": "1.2.0",
     "model_name": "LayoutModel",
     "state": {
      "_model_module": "@jupyter-widgets/base",
      "_model_module_version": "1.2.0",
      "_model_name": "LayoutModel",
      "_view_count": null,
      "_view_module": "@jupyter-widgets/base",
      "_view_module_version": "1.2.0",
      "_view_name": "LayoutView",
      "align_content": null,
      "align_items": null,
      "align_self": null,
      "border": null,
      "bottom": null,
      "display": null,
      "flex": null,
      "flex_flow": null,
      "grid_area": null,
      "grid_auto_columns": null,
      "grid_auto_flow": null,
      "grid_auto_rows": null,
      "grid_column": null,
      "grid_gap": null,
      "grid_row": null,
      "grid_template_areas": null,
      "grid_template_columns": null,
      "grid_template_rows": null,
      "height": null,
      "justify_content": null,
      "justify_items": null,
      "left": null,
      "margin": null,
      "max_height": null,
      "max_width": null,
      "min_height": null,
      "min_width": null,
      "object_fit": null,
      "object_position": null,
      "order": null,
      "overflow": null,
      "overflow_x": null,
      "overflow_y": null,
      "padding": null,
      "right": null,
      "top": null,
      "visibility": null,
      "width": null
     }
    },
    "57c20c1e10f14cc693fcf9c3085e6ee4": {
     "model_module": "@jupyter-widgets/controls",
     "model_module_version": "1.5.0",
     "model_name": "ProgressStyleModel",
     "state": {
      "_model_module": "@jupyter-widgets/controls",
      "_model_module_version": "1.5.0",
      "_model_name": "ProgressStyleModel",
      "_view_count": null,
      "_view_module": "@jupyter-widgets/base",
      "_view_module_version": "1.2.0",
      "_view_name": "StyleView",
      "bar_color": null,
      "description_width": ""
     }
    },
    "59ce04ed633a46e189d9041ee815f6ff": {
     "model_module": "@jupyter-widgets/controls",
     "model_module_version": "1.5.0",
     "model_name": "HTMLModel",
     "state": {
      "_dom_classes": [],
      "_model_module": "@jupyter-widgets/controls",
      "_model_module_version": "1.5.0",
      "_model_name": "HTMLModel",
      "_view_count": null,
      "_view_module": "@jupyter-widgets/controls",
      "_view_module_version": "1.5.0",
      "_view_name": "HTMLView",
      "description": "",
      "description_tooltip": null,
      "layout": "IPY_MODEL_7a86e2a9100b4e76b606bbb22cd11464",
      "placeholder": "​",
      "style": "IPY_MODEL_f2a3a83d3e944532b92d32d3d4712262",
      "value": " 3/3 [07:30&lt;00:00, 139.95s/it]"
     }
    },
    "5f51cb626b0c44f4b31d48b5a6401445": {
     "model_module": "@jupyter-widgets/controls",
     "model_module_version": "1.5.0",
     "model_name": "ProgressStyleModel",
     "state": {
      "_model_module": "@jupyter-widgets/controls",
      "_model_module_version": "1.5.0",
      "_model_name": "ProgressStyleModel",
      "_view_count": null,
      "_view_module": "@jupyter-widgets/base",
      "_view_module_version": "1.2.0",
      "_view_name": "StyleView",
      "bar_color": null,
      "description_width": ""
     }
    },
    "60e502053be24b7f92a32b060aa7bc05": {
     "model_module": "@jupyter-widgets/base",
     "model_module_version": "1.2.0",
     "model_name": "LayoutModel",
     "state": {
      "_model_module": "@jupyter-widgets/base",
      "_model_module_version": "1.2.0",
      "_model_name": "LayoutModel",
      "_view_count": null,
      "_view_module": "@jupyter-widgets/base",
      "_view_module_version": "1.2.0",
      "_view_name": "LayoutView",
      "align_content": null,
      "align_items": null,
      "align_self": null,
      "border": null,
      "bottom": null,
      "display": null,
      "flex": null,
      "flex_flow": null,
      "grid_area": null,
      "grid_auto_columns": null,
      "grid_auto_flow": null,
      "grid_auto_rows": null,
      "grid_column": null,
      "grid_gap": null,
      "grid_row": null,
      "grid_template_areas": null,
      "grid_template_columns": null,
      "grid_template_rows": null,
      "height": null,
      "justify_content": null,
      "justify_items": null,
      "left": null,
      "margin": null,
      "max_height": null,
      "max_width": null,
      "min_height": null,
      "min_width": null,
      "object_fit": null,
      "object_position": null,
      "order": null,
      "overflow": null,
      "overflow_x": null,
      "overflow_y": null,
      "padding": null,
      "right": null,
      "top": null,
      "visibility": null,
      "width": null
     }
    },
    "61e7094cb4a34a5da5e82efff7263b8c": {
     "model_module": "@jupyter-widgets/controls",
     "model_module_version": "1.5.0",
     "model_name": "HTMLModel",
     "state": {
      "_dom_classes": [],
      "_model_module": "@jupyter-widgets/controls",
      "_model_module_version": "1.5.0",
      "_model_name": "HTMLModel",
      "_view_count": null,
      "_view_module": "@jupyter-widgets/controls",
      "_view_module_version": "1.5.0",
      "_view_name": "HTMLView",
      "description": "",
      "description_tooltip": null,
      "layout": "IPY_MODEL_b1b5f6744ede40ea92af78399df34551",
      "placeholder": "​",
      "style": "IPY_MODEL_c91306f75e5d41acbd08a9accf1ac83d",
      "value": " 3/3 [16:59&lt;00:00, 315.59s/it]"
     }
    },
    "6cbfecd18d5e4a3fb09b11fb4675e468": {
     "model_module": "@jupyter-widgets/controls",
     "model_module_version": "1.5.0",
     "model_name": "DescriptionStyleModel",
     "state": {
      "_model_module": "@jupyter-widgets/controls",
      "_model_module_version": "1.5.0",
      "_model_name": "DescriptionStyleModel",
      "_view_count": null,
      "_view_module": "@jupyter-widgets/base",
      "_view_module_version": "1.2.0",
      "_view_name": "StyleView",
      "description_width": ""
     }
    },
    "6ebd6220c59f4c4e94f40f2465103e9a": {
     "model_module": "@jupyter-widgets/controls",
     "model_module_version": "1.5.0",
     "model_name": "HBoxModel",
     "state": {
      "_dom_classes": [],
      "_model_module": "@jupyter-widgets/controls",
      "_model_module_version": "1.5.0",
      "_model_name": "HBoxModel",
      "_view_count": null,
      "_view_module": "@jupyter-widgets/controls",
      "_view_module_version": "1.5.0",
      "_view_name": "HBoxView",
      "box_style": "",
      "children": [
       "IPY_MODEL_2310a136db5043d79e91b1da2fd1f99c",
       "IPY_MODEL_ff1582b34cda4e428f5f9ed467806577",
       "IPY_MODEL_59ce04ed633a46e189d9041ee815f6ff"
      ],
      "layout": "IPY_MODEL_9d1d5e5d254a4492912d849501e822dd"
     }
    },
    "6f853ae3619542da87aed9242e13f5f8": {
     "model_module": "@jupyter-widgets/base",
     "model_module_version": "1.2.0",
     "model_name": "LayoutModel",
     "state": {
      "_model_module": "@jupyter-widgets/base",
      "_model_module_version": "1.2.0",
      "_model_name": "LayoutModel",
      "_view_count": null,
      "_view_module": "@jupyter-widgets/base",
      "_view_module_version": "1.2.0",
      "_view_name": "LayoutView",
      "align_content": null,
      "align_items": null,
      "align_self": null,
      "border": null,
      "bottom": null,
      "display": null,
      "flex": null,
      "flex_flow": null,
      "grid_area": null,
      "grid_auto_columns": null,
      "grid_auto_flow": null,
      "grid_auto_rows": null,
      "grid_column": null,
      "grid_gap": null,
      "grid_row": null,
      "grid_template_areas": null,
      "grid_template_columns": null,
      "grid_template_rows": null,
      "height": null,
      "justify_content": null,
      "justify_items": null,
      "left": null,
      "margin": null,
      "max_height": null,
      "max_width": null,
      "min_height": null,
      "min_width": null,
      "object_fit": null,
      "object_position": null,
      "order": null,
      "overflow": null,
      "overflow_x": null,
      "overflow_y": null,
      "padding": null,
      "right": null,
      "top": null,
      "visibility": null,
      "width": null
     }
    },
    "7025cac0d55744dcb5a9c471a476e1d2": {
     "model_module": "@jupyter-widgets/controls",
     "model_module_version": "1.5.0",
     "model_name": "DescriptionStyleModel",
     "state": {
      "_model_module": "@jupyter-widgets/controls",
      "_model_module_version": "1.5.0",
      "_model_name": "DescriptionStyleModel",
      "_view_count": null,
      "_view_module": "@jupyter-widgets/base",
      "_view_module_version": "1.2.0",
      "_view_name": "StyleView",
      "description_width": ""
     }
    },
    "7091d837fc0d4d48b3bc14e1dcaed082": {
     "model_module": "@jupyter-widgets/controls",
     "model_module_version": "1.5.0",
     "model_name": "DescriptionStyleModel",
     "state": {
      "_model_module": "@jupyter-widgets/controls",
      "_model_module_version": "1.5.0",
      "_model_name": "DescriptionStyleModel",
      "_view_count": null,
      "_view_module": "@jupyter-widgets/base",
      "_view_module_version": "1.2.0",
      "_view_name": "StyleView",
      "description_width": ""
     }
    },
    "7a86e2a9100b4e76b606bbb22cd11464": {
     "model_module": "@jupyter-widgets/base",
     "model_module_version": "1.2.0",
     "model_name": "LayoutModel",
     "state": {
      "_model_module": "@jupyter-widgets/base",
      "_model_module_version": "1.2.0",
      "_model_name": "LayoutModel",
      "_view_count": null,
      "_view_module": "@jupyter-widgets/base",
      "_view_module_version": "1.2.0",
      "_view_name": "LayoutView",
      "align_content": null,
      "align_items": null,
      "align_self": null,
      "border": null,
      "bottom": null,
      "display": null,
      "flex": null,
      "flex_flow": null,
      "grid_area": null,
      "grid_auto_columns": null,
      "grid_auto_flow": null,
      "grid_auto_rows": null,
      "grid_column": null,
      "grid_gap": null,
      "grid_row": null,
      "grid_template_areas": null,
      "grid_template_columns": null,
      "grid_template_rows": null,
      "height": null,
      "justify_content": null,
      "justify_items": null,
      "left": null,
      "margin": null,
      "max_height": null,
      "max_width": null,
      "min_height": null,
      "min_width": null,
      "object_fit": null,
      "object_position": null,
      "order": null,
      "overflow": null,
      "overflow_x": null,
      "overflow_y": null,
      "padding": null,
      "right": null,
      "top": null,
      "visibility": null,
      "width": null
     }
    },
    "7b110c7a10364d5d8fc97a1ddf1e3a17": {
     "model_module": "@jupyter-widgets/controls",
     "model_module_version": "1.5.0",
     "model_name": "FloatProgressModel",
     "state": {
      "_dom_classes": [],
      "_model_module": "@jupyter-widgets/controls",
      "_model_module_version": "1.5.0",
      "_model_name": "FloatProgressModel",
      "_view_count": null,
      "_view_module": "@jupyter-widgets/controls",
      "_view_module_version": "1.5.0",
      "_view_name": "ProgressView",
      "bar_style": "success",
      "description": "",
      "description_tooltip": null,
      "layout": "IPY_MODEL_be7c65b5556347e2988cd5aa8a42401f",
      "max": 3,
      "min": 0,
      "orientation": "horizontal",
      "style": "IPY_MODEL_57c20c1e10f14cc693fcf9c3085e6ee4",
      "value": 3
     }
    },
    "7dfb016feffe4b21a8eab54cfad80c35": {
     "model_module": "@jupyter-widgets/base",
     "model_module_version": "1.2.0",
     "model_name": "LayoutModel",
     "state": {
      "_model_module": "@jupyter-widgets/base",
      "_model_module_version": "1.2.0",
      "_model_name": "LayoutModel",
      "_view_count": null,
      "_view_module": "@jupyter-widgets/base",
      "_view_module_version": "1.2.0",
      "_view_name": "LayoutView",
      "align_content": null,
      "align_items": null,
      "align_self": null,
      "border": null,
      "bottom": null,
      "display": null,
      "flex": null,
      "flex_flow": null,
      "grid_area": null,
      "grid_auto_columns": null,
      "grid_auto_flow": null,
      "grid_auto_rows": null,
      "grid_column": null,
      "grid_gap": null,
      "grid_row": null,
      "grid_template_areas": null,
      "grid_template_columns": null,
      "grid_template_rows": null,
      "height": null,
      "justify_content": null,
      "justify_items": null,
      "left": null,
      "margin": null,
      "max_height": null,
      "max_width": null,
      "min_height": null,
      "min_width": null,
      "object_fit": null,
      "object_position": null,
      "order": null,
      "overflow": null,
      "overflow_x": null,
      "overflow_y": null,
      "padding": null,
      "right": null,
      "top": null,
      "visibility": null,
      "width": null
     }
    },
    "83c57fb416e045b6960818d52d02d60f": {
     "model_module": "@jupyter-widgets/base",
     "model_module_version": "1.2.0",
     "model_name": "LayoutModel",
     "state": {
      "_model_module": "@jupyter-widgets/base",
      "_model_module_version": "1.2.0",
      "_model_name": "LayoutModel",
      "_view_count": null,
      "_view_module": "@jupyter-widgets/base",
      "_view_module_version": "1.2.0",
      "_view_name": "LayoutView",
      "align_content": null,
      "align_items": null,
      "align_self": null,
      "border": null,
      "bottom": null,
      "display": null,
      "flex": null,
      "flex_flow": null,
      "grid_area": null,
      "grid_auto_columns": null,
      "grid_auto_flow": null,
      "grid_auto_rows": null,
      "grid_column": null,
      "grid_gap": null,
      "grid_row": null,
      "grid_template_areas": null,
      "grid_template_columns": null,
      "grid_template_rows": null,
      "height": null,
      "justify_content": null,
      "justify_items": null,
      "left": null,
      "margin": null,
      "max_height": null,
      "max_width": null,
      "min_height": null,
      "min_width": null,
      "object_fit": null,
      "object_position": null,
      "order": null,
      "overflow": null,
      "overflow_x": null,
      "overflow_y": null,
      "padding": null,
      "right": null,
      "top": null,
      "visibility": null,
      "width": null
     }
    },
    "8498e4e3ed8a4502af9011cac5c46204": {
     "model_module": "@jupyter-widgets/base",
     "model_module_version": "1.2.0",
     "model_name": "LayoutModel",
     "state": {
      "_model_module": "@jupyter-widgets/base",
      "_model_module_version": "1.2.0",
      "_model_name": "LayoutModel",
      "_view_count": null,
      "_view_module": "@jupyter-widgets/base",
      "_view_module_version": "1.2.0",
      "_view_name": "LayoutView",
      "align_content": null,
      "align_items": null,
      "align_self": null,
      "border": null,
      "bottom": null,
      "display": null,
      "flex": null,
      "flex_flow": null,
      "grid_area": null,
      "grid_auto_columns": null,
      "grid_auto_flow": null,
      "grid_auto_rows": null,
      "grid_column": null,
      "grid_gap": null,
      "grid_row": null,
      "grid_template_areas": null,
      "grid_template_columns": null,
      "grid_template_rows": null,
      "height": null,
      "justify_content": null,
      "justify_items": null,
      "left": null,
      "margin": null,
      "max_height": null,
      "max_width": null,
      "min_height": null,
      "min_width": null,
      "object_fit": null,
      "object_position": null,
      "order": null,
      "overflow": null,
      "overflow_x": null,
      "overflow_y": null,
      "padding": null,
      "right": null,
      "top": null,
      "visibility": null,
      "width": null
     }
    },
    "850ed4f5d8674462b3f295b636539c9e": {
     "model_module": "@jupyter-widgets/controls",
     "model_module_version": "1.5.0",
     "model_name": "ProgressStyleModel",
     "state": {
      "_model_module": "@jupyter-widgets/controls",
      "_model_module_version": "1.5.0",
      "_model_name": "ProgressStyleModel",
      "_view_count": null,
      "_view_module": "@jupyter-widgets/base",
      "_view_module_version": "1.2.0",
      "_view_name": "StyleView",
      "bar_color": null,
      "description_width": ""
     }
    },
    "86b71d35054447f0a04f54bc7777f240": {
     "model_module": "@jupyter-widgets/controls",
     "model_module_version": "1.5.0",
     "model_name": "HTMLModel",
     "state": {
      "_dom_classes": [],
      "_model_module": "@jupyter-widgets/controls",
      "_model_module_version": "1.5.0",
      "_model_name": "HTMLModel",
      "_view_count": null,
      "_view_module": "@jupyter-widgets/controls",
      "_view_module_version": "1.5.0",
      "_view_name": "HTMLView",
      "description": "",
      "description_tooltip": null,
      "layout": "IPY_MODEL_11b589d29ed544638e50843e95aea34b",
      "placeholder": "​",
      "style": "IPY_MODEL_1f84b8ab3f254a2b817b51c32884281b",
      "value": "100%"
     }
    },
    "880c8fa426a84d70be449a5e237a153e": {
     "model_module": "@jupyter-widgets/base",
     "model_module_version": "1.2.0",
     "model_name": "LayoutModel",
     "state": {
      "_model_module": "@jupyter-widgets/base",
      "_model_module_version": "1.2.0",
      "_model_name": "LayoutModel",
      "_view_count": null,
      "_view_module": "@jupyter-widgets/base",
      "_view_module_version": "1.2.0",
      "_view_name": "LayoutView",
      "align_content": null,
      "align_items": null,
      "align_self": null,
      "border": null,
      "bottom": null,
      "display": null,
      "flex": null,
      "flex_flow": null,
      "grid_area": null,
      "grid_auto_columns": null,
      "grid_auto_flow": null,
      "grid_auto_rows": null,
      "grid_column": null,
      "grid_gap": null,
      "grid_row": null,
      "grid_template_areas": null,
      "grid_template_columns": null,
      "grid_template_rows": null,
      "height": null,
      "justify_content": null,
      "justify_items": null,
      "left": null,
      "margin": null,
      "max_height": null,
      "max_width": null,
      "min_height": null,
      "min_width": null,
      "object_fit": null,
      "object_position": null,
      "order": null,
      "overflow": null,
      "overflow_x": null,
      "overflow_y": null,
      "padding": null,
      "right": null,
      "top": null,
      "visibility": null,
      "width": null
     }
    },
    "8cf8086a727449d98ed840154c05f2c8": {
     "model_module": "@jupyter-widgets/base",
     "model_module_version": "1.2.0",
     "model_name": "LayoutModel",
     "state": {
      "_model_module": "@jupyter-widgets/base",
      "_model_module_version": "1.2.0",
      "_model_name": "LayoutModel",
      "_view_count": null,
      "_view_module": "@jupyter-widgets/base",
      "_view_module_version": "1.2.0",
      "_view_name": "LayoutView",
      "align_content": null,
      "align_items": null,
      "align_self": null,
      "border": null,
      "bottom": null,
      "display": null,
      "flex": null,
      "flex_flow": null,
      "grid_area": null,
      "grid_auto_columns": null,
      "grid_auto_flow": null,
      "grid_auto_rows": null,
      "grid_column": null,
      "grid_gap": null,
      "grid_row": null,
      "grid_template_areas": null,
      "grid_template_columns": null,
      "grid_template_rows": null,
      "height": null,
      "justify_content": null,
      "justify_items": null,
      "left": null,
      "margin": null,
      "max_height": null,
      "max_width": null,
      "min_height": null,
      "min_width": null,
      "object_fit": null,
      "object_position": null,
      "order": null,
      "overflow": null,
      "overflow_x": null,
      "overflow_y": null,
      "padding": null,
      "right": null,
      "top": null,
      "visibility": null,
      "width": null
     }
    },
    "90d793ea6f6c49fdab65d9843f3e5ce8": {
     "model_module": "@jupyter-widgets/controls",
     "model_module_version": "1.5.0",
     "model_name": "HTMLModel",
     "state": {
      "_dom_classes": [],
      "_model_module": "@jupyter-widgets/controls",
      "_model_module_version": "1.5.0",
      "_model_name": "HTMLModel",
      "_view_count": null,
      "_view_module": "@jupyter-widgets/controls",
      "_view_module_version": "1.5.0",
      "_view_name": "HTMLView",
      "description": "",
      "description_tooltip": null,
      "layout": "IPY_MODEL_6f853ae3619542da87aed9242e13f5f8",
      "placeholder": "​",
      "style": "IPY_MODEL_3bb7fb54ae3c401b92c33c585dea99a3",
      "value": " 2/2 [09:28&lt;00:00, 280.25s/it]"
     }
    },
    "915825bda3ba4f838dd4de2fa334601f": {
     "model_module": "@jupyter-widgets/base",
     "model_module_version": "1.2.0",
     "model_name": "LayoutModel",
     "state": {
      "_model_module": "@jupyter-widgets/base",
      "_model_module_version": "1.2.0",
      "_model_name": "LayoutModel",
      "_view_count": null,
      "_view_module": "@jupyter-widgets/base",
      "_view_module_version": "1.2.0",
      "_view_name": "LayoutView",
      "align_content": null,
      "align_items": null,
      "align_self": null,
      "border": null,
      "bottom": null,
      "display": null,
      "flex": null,
      "flex_flow": null,
      "grid_area": null,
      "grid_auto_columns": null,
      "grid_auto_flow": null,
      "grid_auto_rows": null,
      "grid_column": null,
      "grid_gap": null,
      "grid_row": null,
      "grid_template_areas": null,
      "grid_template_columns": null,
      "grid_template_rows": null,
      "height": null,
      "justify_content": null,
      "justify_items": null,
      "left": null,
      "margin": null,
      "max_height": null,
      "max_width": null,
      "min_height": null,
      "min_width": null,
      "object_fit": null,
      "object_position": null,
      "order": null,
      "overflow": null,
      "overflow_x": null,
      "overflow_y": null,
      "padding": null,
      "right": null,
      "top": null,
      "visibility": null,
      "width": null
     }
    },
    "91dc9dcdbbfe48f49e68272daebcd45b": {
     "model_module": "@jupyter-widgets/base",
     "model_module_version": "1.2.0",
     "model_name": "LayoutModel",
     "state": {
      "_model_module": "@jupyter-widgets/base",
      "_model_module_version": "1.2.0",
      "_model_name": "LayoutModel",
      "_view_count": null,
      "_view_module": "@jupyter-widgets/base",
      "_view_module_version": "1.2.0",
      "_view_name": "LayoutView",
      "align_content": null,
      "align_items": null,
      "align_self": null,
      "border": null,
      "bottom": null,
      "display": null,
      "flex": null,
      "flex_flow": null,
      "grid_area": null,
      "grid_auto_columns": null,
      "grid_auto_flow": null,
      "grid_auto_rows": null,
      "grid_column": null,
      "grid_gap": null,
      "grid_row": null,
      "grid_template_areas": null,
      "grid_template_columns": null,
      "grid_template_rows": null,
      "height": null,
      "justify_content": null,
      "justify_items": null,
      "left": null,
      "margin": null,
      "max_height": null,
      "max_width": null,
      "min_height": null,
      "min_width": null,
      "object_fit": null,
      "object_position": null,
      "order": null,
      "overflow": null,
      "overflow_x": null,
      "overflow_y": null,
      "padding": null,
      "right": null,
      "top": null,
      "visibility": null,
      "width": null
     }
    },
    "960c1761360d4363bd2f3f2c78456bdf": {
     "model_module": "@jupyter-widgets/controls",
     "model_module_version": "1.5.0",
     "model_name": "ProgressStyleModel",
     "state": {
      "_model_module": "@jupyter-widgets/controls",
      "_model_module_version": "1.5.0",
      "_model_name": "ProgressStyleModel",
      "_view_count": null,
      "_view_module": "@jupyter-widgets/base",
      "_view_module_version": "1.2.0",
      "_view_name": "StyleView",
      "bar_color": null,
      "description_width": ""
     }
    },
    "97933e6c87e74d90a60fdfb72586b6d9": {
     "model_module": "@jupyter-widgets/controls",
     "model_module_version": "1.5.0",
     "model_name": "HTMLModel",
     "state": {
      "_dom_classes": [],
      "_model_module": "@jupyter-widgets/controls",
      "_model_module_version": "1.5.0",
      "_model_name": "HTMLModel",
      "_view_count": null,
      "_view_module": "@jupyter-widgets/controls",
      "_view_module_version": "1.5.0",
      "_view_name": "HTMLView",
      "description": "",
      "description_tooltip": null,
      "layout": "IPY_MODEL_ca01452831ac48909e41fb6b65c9e28e",
      "placeholder": "​",
      "style": "IPY_MODEL_6cbfecd18d5e4a3fb09b11fb4675e468",
      "value": " 2/2 [14:25&lt;00:00, 413.16s/it]"
     }
    },
    "99299f81d707435ea65bd9eb580165a9": {
     "model_module": "@jupyter-widgets/controls",
     "model_module_version": "1.5.0",
     "model_name": "ProgressStyleModel",
     "state": {
      "_model_module": "@jupyter-widgets/controls",
      "_model_module_version": "1.5.0",
      "_model_name": "ProgressStyleModel",
      "_view_count": null,
      "_view_module": "@jupyter-widgets/base",
      "_view_module_version": "1.2.0",
      "_view_name": "StyleView",
      "bar_color": null,
      "description_width": ""
     }
    },
    "9d1d5e5d254a4492912d849501e822dd": {
     "model_module": "@jupyter-widgets/base",
     "model_module_version": "1.2.0",
     "model_name": "LayoutModel",
     "state": {
      "_model_module": "@jupyter-widgets/base",
      "_model_module_version": "1.2.0",
      "_model_name": "LayoutModel",
      "_view_count": null,
      "_view_module": "@jupyter-widgets/base",
      "_view_module_version": "1.2.0",
      "_view_name": "LayoutView",
      "align_content": null,
      "align_items": null,
      "align_self": null,
      "border": null,
      "bottom": null,
      "display": null,
      "flex": null,
      "flex_flow": null,
      "grid_area": null,
      "grid_auto_columns": null,
      "grid_auto_flow": null,
      "grid_auto_rows": null,
      "grid_column": null,
      "grid_gap": null,
      "grid_row": null,
      "grid_template_areas": null,
      "grid_template_columns": null,
      "grid_template_rows": null,
      "height": null,
      "justify_content": null,
      "justify_items": null,
      "left": null,
      "margin": null,
      "max_height": null,
      "max_width": null,
      "min_height": null,
      "min_width": null,
      "object_fit": null,
      "object_position": null,
      "order": null,
      "overflow": null,
      "overflow_x": null,
      "overflow_y": null,
      "padding": null,
      "right": null,
      "top": null,
      "visibility": null,
      "width": null
     }
    },
    "a230300c103e43b8aeedfd55bceb38e7": {
     "model_module": "@jupyter-widgets/controls",
     "model_module_version": "1.5.0",
     "model_name": "HBoxModel",
     "state": {
      "_dom_classes": [],
      "_model_module": "@jupyter-widgets/controls",
      "_model_module_version": "1.5.0",
      "_model_name": "HBoxModel",
      "_view_count": null,
      "_view_module": "@jupyter-widgets/controls",
      "_view_module_version": "1.5.0",
      "_view_name": "HBoxView",
      "box_style": "",
      "children": [
       "IPY_MODEL_afa43d5b26274fafb21df5e464880a69",
       "IPY_MODEL_b700940d5148475ca80dacfbf95edbc1",
       "IPY_MODEL_97933e6c87e74d90a60fdfb72586b6d9"
      ],
      "layout": "IPY_MODEL_b11ffae3432e4c3dbfeadee2408a57a7"
     }
    },
    "a9a16b6d1e1f46fa8fbdfc646f40e9b6": {
     "model_module": "@jupyter-widgets/base",
     "model_module_version": "1.2.0",
     "model_name": "LayoutModel",
     "state": {
      "_model_module": "@jupyter-widgets/base",
      "_model_module_version": "1.2.0",
      "_model_name": "LayoutModel",
      "_view_count": null,
      "_view_module": "@jupyter-widgets/base",
      "_view_module_version": "1.2.0",
      "_view_name": "LayoutView",
      "align_content": null,
      "align_items": null,
      "align_self": null,
      "border": null,
      "bottom": null,
      "display": null,
      "flex": null,
      "flex_flow": null,
      "grid_area": null,
      "grid_auto_columns": null,
      "grid_auto_flow": null,
      "grid_auto_rows": null,
      "grid_column": null,
      "grid_gap": null,
      "grid_row": null,
      "grid_template_areas": null,
      "grid_template_columns": null,
      "grid_template_rows": null,
      "height": null,
      "justify_content": null,
      "justify_items": null,
      "left": null,
      "margin": null,
      "max_height": null,
      "max_width": null,
      "min_height": null,
      "min_width": null,
      "object_fit": null,
      "object_position": null,
      "order": null,
      "overflow": null,
      "overflow_x": null,
      "overflow_y": null,
      "padding": null,
      "right": null,
      "top": null,
      "visibility": null,
      "width": null
     }
    },
    "afa43d5b26274fafb21df5e464880a69": {
     "model_module": "@jupyter-widgets/controls",
     "model_module_version": "1.5.0",
     "model_name": "HTMLModel",
     "state": {
      "_dom_classes": [],
      "_model_module": "@jupyter-widgets/controls",
      "_model_module_version": "1.5.0",
      "_model_name": "HTMLModel",
      "_view_count": null,
      "_view_module": "@jupyter-widgets/controls",
      "_view_module_version": "1.5.0",
      "_view_name": "HTMLView",
      "description": "",
      "description_tooltip": null,
      "layout": "IPY_MODEL_83c57fb416e045b6960818d52d02d60f",
      "placeholder": "​",
      "style": "IPY_MODEL_ba7bded16b9b4e6fbdc93d680bf79371",
      "value": "100%"
     }
    },
    "b11ffae3432e4c3dbfeadee2408a57a7": {
     "model_module": "@jupyter-widgets/base",
     "model_module_version": "1.2.0",
     "model_name": "LayoutModel",
     "state": {
      "_model_module": "@jupyter-widgets/base",
      "_model_module_version": "1.2.0",
      "_model_name": "LayoutModel",
      "_view_count": null,
      "_view_module": "@jupyter-widgets/base",
      "_view_module_version": "1.2.0",
      "_view_name": "LayoutView",
      "align_content": null,
      "align_items": null,
      "align_self": null,
      "border": null,
      "bottom": null,
      "display": null,
      "flex": null,
      "flex_flow": null,
      "grid_area": null,
      "grid_auto_columns": null,
      "grid_auto_flow": null,
      "grid_auto_rows": null,
      "grid_column": null,
      "grid_gap": null,
      "grid_row": null,
      "grid_template_areas": null,
      "grid_template_columns": null,
      "grid_template_rows": null,
      "height": null,
      "justify_content": null,
      "justify_items": null,
      "left": null,
      "margin": null,
      "max_height": null,
      "max_width": null,
      "min_height": null,
      "min_width": null,
      "object_fit": null,
      "object_position": null,
      "order": null,
      "overflow": null,
      "overflow_x": null,
      "overflow_y": null,
      "padding": null,
      "right": null,
      "top": null,
      "visibility": null,
      "width": null
     }
    },
    "b1b5f6744ede40ea92af78399df34551": {
     "model_module": "@jupyter-widgets/base",
     "model_module_version": "1.2.0",
     "model_name": "LayoutModel",
     "state": {
      "_model_module": "@jupyter-widgets/base",
      "_model_module_version": "1.2.0",
      "_model_name": "LayoutModel",
      "_view_count": null,
      "_view_module": "@jupyter-widgets/base",
      "_view_module_version": "1.2.0",
      "_view_name": "LayoutView",
      "align_content": null,
      "align_items": null,
      "align_self": null,
      "border": null,
      "bottom": null,
      "display": null,
      "flex": null,
      "flex_flow": null,
      "grid_area": null,
      "grid_auto_columns": null,
      "grid_auto_flow": null,
      "grid_auto_rows": null,
      "grid_column": null,
      "grid_gap": null,
      "grid_row": null,
      "grid_template_areas": null,
      "grid_template_columns": null,
      "grid_template_rows": null,
      "height": null,
      "justify_content": null,
      "justify_items": null,
      "left": null,
      "margin": null,
      "max_height": null,
      "max_width": null,
      "min_height": null,
      "min_width": null,
      "object_fit": null,
      "object_position": null,
      "order": null,
      "overflow": null,
      "overflow_x": null,
      "overflow_y": null,
      "padding": null,
      "right": null,
      "top": null,
      "visibility": null,
      "width": null
     }
    },
    "b3f182adec0d4cae847488e7d2290bd3": {
     "model_module": "@jupyter-widgets/controls",
     "model_module_version": "1.5.0",
     "model_name": "HTMLModel",
     "state": {
      "_dom_classes": [],
      "_model_module": "@jupyter-widgets/controls",
      "_model_module_version": "1.5.0",
      "_model_name": "HTMLModel",
      "_view_count": null,
      "_view_module": "@jupyter-widgets/controls",
      "_view_module_version": "1.5.0",
      "_view_name": "HTMLView",
      "description": "",
      "description_tooltip": null,
      "layout": "IPY_MODEL_bc7dad896a194f9e99b105b719786117",
      "placeholder": "​",
      "style": "IPY_MODEL_e4960129871d484ba7990b7610644520",
      "value": "100%"
     }
    },
    "b700940d5148475ca80dacfbf95edbc1": {
     "model_module": "@jupyter-widgets/controls",
     "model_module_version": "1.5.0",
     "model_name": "FloatProgressModel",
     "state": {
      "_dom_classes": [],
      "_model_module": "@jupyter-widgets/controls",
      "_model_module_version": "1.5.0",
      "_model_name": "FloatProgressModel",
      "_view_count": null,
      "_view_module": "@jupyter-widgets/controls",
      "_view_module_version": "1.5.0",
      "_view_name": "ProgressView",
      "bar_style": "success",
      "description": "",
      "description_tooltip": null,
      "layout": "IPY_MODEL_bfef024734974102ac6331b0d2fb5709",
      "max": 2,
      "min": 0,
      "orientation": "horizontal",
      "style": "IPY_MODEL_c20cbdb7d95943d3b38dcbf9c5f9b735",
      "value": 2
     }
    },
    "b8f54502a90749f7b5f5273f318418d0": {
     "model_module": "@jupyter-widgets/base",
     "model_module_version": "1.2.0",
     "model_name": "LayoutModel",
     "state": {
      "_model_module": "@jupyter-widgets/base",
      "_model_module_version": "1.2.0",
      "_model_name": "LayoutModel",
      "_view_count": null,
      "_view_module": "@jupyter-widgets/base",
      "_view_module_version": "1.2.0",
      "_view_name": "LayoutView",
      "align_content": null,
      "align_items": null,
      "align_self": null,
      "border": null,
      "bottom": null,
      "display": null,
      "flex": null,
      "flex_flow": null,
      "grid_area": null,
      "grid_auto_columns": null,
      "grid_auto_flow": null,
      "grid_auto_rows": null,
      "grid_column": null,
      "grid_gap": null,
      "grid_row": null,
      "grid_template_areas": null,
      "grid_template_columns": null,
      "grid_template_rows": null,
      "height": null,
      "justify_content": null,
      "justify_items": null,
      "left": null,
      "margin": null,
      "max_height": null,
      "max_width": null,
      "min_height": null,
      "min_width": null,
      "object_fit": null,
      "object_position": null,
      "order": null,
      "overflow": null,
      "overflow_x": null,
      "overflow_y": null,
      "padding": null,
      "right": null,
      "top": null,
      "visibility": null,
      "width": null
     }
    },
    "ba7bded16b9b4e6fbdc93d680bf79371": {
     "model_module": "@jupyter-widgets/controls",
     "model_module_version": "1.5.0",
     "model_name": "DescriptionStyleModel",
     "state": {
      "_model_module": "@jupyter-widgets/controls",
      "_model_module_version": "1.5.0",
      "_model_name": "DescriptionStyleModel",
      "_view_count": null,
      "_view_module": "@jupyter-widgets/base",
      "_view_module_version": "1.2.0",
      "_view_name": "StyleView",
      "description_width": ""
     }
    },
    "bbd7d60740a94b2aa2b2da9da3aa1d62": {
     "model_module": "@jupyter-widgets/controls",
     "model_module_version": "1.5.0",
     "model_name": "ProgressStyleModel",
     "state": {
      "_model_module": "@jupyter-widgets/controls",
      "_model_module_version": "1.5.0",
      "_model_name": "ProgressStyleModel",
      "_view_count": null,
      "_view_module": "@jupyter-widgets/base",
      "_view_module_version": "1.2.0",
      "_view_name": "StyleView",
      "bar_color": null,
      "description_width": ""
     }
    },
    "bc7dad896a194f9e99b105b719786117": {
     "model_module": "@jupyter-widgets/base",
     "model_module_version": "1.2.0",
     "model_name": "LayoutModel",
     "state": {
      "_model_module": "@jupyter-widgets/base",
      "_model_module_version": "1.2.0",
      "_model_name": "LayoutModel",
      "_view_count": null,
      "_view_module": "@jupyter-widgets/base",
      "_view_module_version": "1.2.0",
      "_view_name": "LayoutView",
      "align_content": null,
      "align_items": null,
      "align_self": null,
      "border": null,
      "bottom": null,
      "display": null,
      "flex": null,
      "flex_flow": null,
      "grid_area": null,
      "grid_auto_columns": null,
      "grid_auto_flow": null,
      "grid_auto_rows": null,
      "grid_column": null,
      "grid_gap": null,
      "grid_row": null,
      "grid_template_areas": null,
      "grid_template_columns": null,
      "grid_template_rows": null,
      "height": null,
      "justify_content": null,
      "justify_items": null,
      "left": null,
      "margin": null,
      "max_height": null,
      "max_width": null,
      "min_height": null,
      "min_width": null,
      "object_fit": null,
      "object_position": null,
      "order": null,
      "overflow": null,
      "overflow_x": null,
      "overflow_y": null,
      "padding": null,
      "right": null,
      "top": null,
      "visibility": null,
      "width": null
     }
    },
    "be7c65b5556347e2988cd5aa8a42401f": {
     "model_module": "@jupyter-widgets/base",
     "model_module_version": "1.2.0",
     "model_name": "LayoutModel",
     "state": {
      "_model_module": "@jupyter-widgets/base",
      "_model_module_version": "1.2.0",
      "_model_name": "LayoutModel",
      "_view_count": null,
      "_view_module": "@jupyter-widgets/base",
      "_view_module_version": "1.2.0",
      "_view_name": "LayoutView",
      "align_content": null,
      "align_items": null,
      "align_self": null,
      "border": null,
      "bottom": null,
      "display": null,
      "flex": null,
      "flex_flow": null,
      "grid_area": null,
      "grid_auto_columns": null,
      "grid_auto_flow": null,
      "grid_auto_rows": null,
      "grid_column": null,
      "grid_gap": null,
      "grid_row": null,
      "grid_template_areas": null,
      "grid_template_columns": null,
      "grid_template_rows": null,
      "height": null,
      "justify_content": null,
      "justify_items": null,
      "left": null,
      "margin": null,
      "max_height": null,
      "max_width": null,
      "min_height": null,
      "min_width": null,
      "object_fit": null,
      "object_position": null,
      "order": null,
      "overflow": null,
      "overflow_x": null,
      "overflow_y": null,
      "padding": null,
      "right": null,
      "top": null,
      "visibility": null,
      "width": null
     }
    },
    "bfef024734974102ac6331b0d2fb5709": {
     "model_module": "@jupyter-widgets/base",
     "model_module_version": "1.2.0",
     "model_name": "LayoutModel",
     "state": {
      "_model_module": "@jupyter-widgets/base",
      "_model_module_version": "1.2.0",
      "_model_name": "LayoutModel",
      "_view_count": null,
      "_view_module": "@jupyter-widgets/base",
      "_view_module_version": "1.2.0",
      "_view_name": "LayoutView",
      "align_content": null,
      "align_items": null,
      "align_self": null,
      "border": null,
      "bottom": null,
      "display": null,
      "flex": null,
      "flex_flow": null,
      "grid_area": null,
      "grid_auto_columns": null,
      "grid_auto_flow": null,
      "grid_auto_rows": null,
      "grid_column": null,
      "grid_gap": null,
      "grid_row": null,
      "grid_template_areas": null,
      "grid_template_columns": null,
      "grid_template_rows": null,
      "height": null,
      "justify_content": null,
      "justify_items": null,
      "left": null,
      "margin": null,
      "max_height": null,
      "max_width": null,
      "min_height": null,
      "min_width": null,
      "object_fit": null,
      "object_position": null,
      "order": null,
      "overflow": null,
      "overflow_x": null,
      "overflow_y": null,
      "padding": null,
      "right": null,
      "top": null,
      "visibility": null,
      "width": null
     }
    },
    "c06d6a28f94e404b93f5d87b2a89e5d4": {
     "model_module": "@jupyter-widgets/base",
     "model_module_version": "1.2.0",
     "model_name": "LayoutModel",
     "state": {
      "_model_module": "@jupyter-widgets/base",
      "_model_module_version": "1.2.0",
      "_model_name": "LayoutModel",
      "_view_count": null,
      "_view_module": "@jupyter-widgets/base",
      "_view_module_version": "1.2.0",
      "_view_name": "LayoutView",
      "align_content": null,
      "align_items": null,
      "align_self": null,
      "border": null,
      "bottom": null,
      "display": null,
      "flex": null,
      "flex_flow": null,
      "grid_area": null,
      "grid_auto_columns": null,
      "grid_auto_flow": null,
      "grid_auto_rows": null,
      "grid_column": null,
      "grid_gap": null,
      "grid_row": null,
      "grid_template_areas": null,
      "grid_template_columns": null,
      "grid_template_rows": null,
      "height": null,
      "justify_content": null,
      "justify_items": null,
      "left": null,
      "margin": null,
      "max_height": null,
      "max_width": null,
      "min_height": null,
      "min_width": null,
      "object_fit": null,
      "object_position": null,
      "order": null,
      "overflow": null,
      "overflow_x": null,
      "overflow_y": null,
      "padding": null,
      "right": null,
      "top": null,
      "visibility": null,
      "width": null
     }
    },
    "c0755b34468841acb13446f9890a2f90": {
     "model_module": "@jupyter-widgets/controls",
     "model_module_version": "1.5.0",
     "model_name": "HTMLModel",
     "state": {
      "_dom_classes": [],
      "_model_module": "@jupyter-widgets/controls",
      "_model_module_version": "1.5.0",
      "_model_name": "HTMLModel",
      "_view_count": null,
      "_view_module": "@jupyter-widgets/controls",
      "_view_module_version": "1.5.0",
      "_view_name": "HTMLView",
      "description": "",
      "description_tooltip": null,
      "layout": "IPY_MODEL_915825bda3ba4f838dd4de2fa334601f",
      "placeholder": "​",
      "style": "IPY_MODEL_e54fce05fa1d4f69abe40123067f4418",
      "value": " 3/3 [32:40&lt;00:00, 615.73s/it]"
     }
    },
    "c20cbdb7d95943d3b38dcbf9c5f9b735": {
     "model_module": "@jupyter-widgets/controls",
     "model_module_version": "1.5.0",
     "model_name": "ProgressStyleModel",
     "state": {
      "_model_module": "@jupyter-widgets/controls",
      "_model_module_version": "1.5.0",
      "_model_name": "ProgressStyleModel",
      "_view_count": null,
      "_view_module": "@jupyter-widgets/base",
      "_view_module_version": "1.2.0",
      "_view_name": "StyleView",
      "bar_color": null,
      "description_width": ""
     }
    },
    "c456037e312e4c0aba78e7c3a8ada5b5": {
     "model_module": "@jupyter-widgets/controls",
     "model_module_version": "1.5.0",
     "model_name": "HTMLModel",
     "state": {
      "_dom_classes": [],
      "_model_module": "@jupyter-widgets/controls",
      "_model_module_version": "1.5.0",
      "_model_name": "HTMLModel",
      "_view_count": null,
      "_view_module": "@jupyter-widgets/controls",
      "_view_module_version": "1.5.0",
      "_view_name": "HTMLView",
      "description": "",
      "description_tooltip": null,
      "layout": "IPY_MODEL_330c77e0e5c642afa59a55e67859c779",
      "placeholder": "​",
      "style": "IPY_MODEL_19429c1df6184a82ad30417f7f962f6a",
      "value": "100%"
     }
    },
    "c91306f75e5d41acbd08a9accf1ac83d": {
     "model_module": "@jupyter-widgets/controls",
     "model_module_version": "1.5.0",
     "model_name": "DescriptionStyleModel",
     "state": {
      "_model_module": "@jupyter-widgets/controls",
      "_model_module_version": "1.5.0",
      "_model_name": "DescriptionStyleModel",
      "_view_count": null,
      "_view_module": "@jupyter-widgets/base",
      "_view_module_version": "1.2.0",
      "_view_name": "StyleView",
      "description_width": ""
     }
    },
    "ca01452831ac48909e41fb6b65c9e28e": {
     "model_module": "@jupyter-widgets/base",
     "model_module_version": "1.2.0",
     "model_name": "LayoutModel",
     "state": {
      "_model_module": "@jupyter-widgets/base",
      "_model_module_version": "1.2.0",
      "_model_name": "LayoutModel",
      "_view_count": null,
      "_view_module": "@jupyter-widgets/base",
      "_view_module_version": "1.2.0",
      "_view_name": "LayoutView",
      "align_content": null,
      "align_items": null,
      "align_self": null,
      "border": null,
      "bottom": null,
      "display": null,
      "flex": null,
      "flex_flow": null,
      "grid_area": null,
      "grid_auto_columns": null,
      "grid_auto_flow": null,
      "grid_auto_rows": null,
      "grid_column": null,
      "grid_gap": null,
      "grid_row": null,
      "grid_template_areas": null,
      "grid_template_columns": null,
      "grid_template_rows": null,
      "height": null,
      "justify_content": null,
      "justify_items": null,
      "left": null,
      "margin": null,
      "max_height": null,
      "max_width": null,
      "min_height": null,
      "min_width": null,
      "object_fit": null,
      "object_position": null,
      "order": null,
      "overflow": null,
      "overflow_x": null,
      "overflow_y": null,
      "padding": null,
      "right": null,
      "top": null,
      "visibility": null,
      "width": null
     }
    },
    "caf391abc31b43ffbf0122ddcf08918c": {
     "model_module": "@jupyter-widgets/controls",
     "model_module_version": "1.5.0",
     "model_name": "HTMLModel",
     "state": {
      "_dom_classes": [],
      "_model_module": "@jupyter-widgets/controls",
      "_model_module_version": "1.5.0",
      "_model_name": "HTMLModel",
      "_view_count": null,
      "_view_module": "@jupyter-widgets/controls",
      "_view_module_version": "1.5.0",
      "_view_name": "HTMLView",
      "description": "",
      "description_tooltip": null,
      "layout": "IPY_MODEL_8cf8086a727449d98ed840154c05f2c8",
      "placeholder": "​",
      "style": "IPY_MODEL_51a206a4714e485a89c173468a0f9678",
      "value": "100%"
     }
    },
    "cc4af3089a9045d7a094d49006adb9bb": {
     "model_module": "@jupyter-widgets/controls",
     "model_module_version": "1.5.0",
     "model_name": "HBoxModel",
     "state": {
      "_dom_classes": [],
      "_model_module": "@jupyter-widgets/controls",
      "_model_module_version": "1.5.0",
      "_model_name": "HBoxModel",
      "_view_count": null,
      "_view_module": "@jupyter-widgets/controls",
      "_view_module_version": "1.5.0",
      "_view_name": "HBoxView",
      "box_style": "",
      "children": [
       "IPY_MODEL_c456037e312e4c0aba78e7c3a8ada5b5",
       "IPY_MODEL_df37ca08d3034b8c8516e5dae4bd743a",
       "IPY_MODEL_d9673706209f485aa96f67b85c159ecd"
      ],
      "layout": "IPY_MODEL_d0d5183646ff485b8c3433049417bb3a"
     }
    },
    "d0d5183646ff485b8c3433049417bb3a": {
     "model_module": "@jupyter-widgets/base",
     "model_module_version": "1.2.0",
     "model_name": "LayoutModel",
     "state": {
      "_model_module": "@jupyter-widgets/base",
      "_model_module_version": "1.2.0",
      "_model_name": "LayoutModel",
      "_view_count": null,
      "_view_module": "@jupyter-widgets/base",
      "_view_module_version": "1.2.0",
      "_view_name": "LayoutView",
      "align_content": null,
      "align_items": null,
      "align_self": null,
      "border": null,
      "bottom": null,
      "display": null,
      "flex": null,
      "flex_flow": null,
      "grid_area": null,
      "grid_auto_columns": null,
      "grid_auto_flow": null,
      "grid_auto_rows": null,
      "grid_column": null,
      "grid_gap": null,
      "grid_row": null,
      "grid_template_areas": null,
      "grid_template_columns": null,
      "grid_template_rows": null,
      "height": null,
      "justify_content": null,
      "justify_items": null,
      "left": null,
      "margin": null,
      "max_height": null,
      "max_width": null,
      "min_height": null,
      "min_width": null,
      "object_fit": null,
      "object_position": null,
      "order": null,
      "overflow": null,
      "overflow_x": null,
      "overflow_y": null,
      "padding": null,
      "right": null,
      "top": null,
      "visibility": null,
      "width": null
     }
    },
    "d2b82da7457247138d10104a5088eabf": {
     "model_module": "@jupyter-widgets/controls",
     "model_module_version": "1.5.0",
     "model_name": "DescriptionStyleModel",
     "state": {
      "_model_module": "@jupyter-widgets/controls",
      "_model_module_version": "1.5.0",
      "_model_name": "DescriptionStyleModel",
      "_view_count": null,
      "_view_module": "@jupyter-widgets/base",
      "_view_module_version": "1.2.0",
      "_view_name": "StyleView",
      "description_width": ""
     }
    },
    "d9673706209f485aa96f67b85c159ecd": {
     "model_module": "@jupyter-widgets/controls",
     "model_module_version": "1.5.0",
     "model_name": "HTMLModel",
     "state": {
      "_dom_classes": [],
      "_model_module": "@jupyter-widgets/controls",
      "_model_module_version": "1.5.0",
      "_model_name": "HTMLModel",
      "_view_count": null,
      "_view_module": "@jupyter-widgets/controls",
      "_view_module_version": "1.5.0",
      "_view_name": "HTMLView",
      "description": "",
      "description_tooltip": null,
      "layout": "IPY_MODEL_118297a05b474a65a2f6742f4f388d93",
      "placeholder": "​",
      "style": "IPY_MODEL_52a6e62c150d409a8de173e4d5cd1c9c",
      "value": " 2/2 [08:46&lt;00:00, 262.88s/it]"
     }
    },
    "dd4122694a4f4325832fa1a4e4cd86d5": {
     "model_module": "@jupyter-widgets/controls",
     "model_module_version": "1.5.0",
     "model_name": "ProgressStyleModel",
     "state": {
      "_model_module": "@jupyter-widgets/controls",
      "_model_module_version": "1.5.0",
      "_model_name": "ProgressStyleModel",
      "_view_count": null,
      "_view_module": "@jupyter-widgets/base",
      "_view_module_version": "1.2.0",
      "_view_name": "StyleView",
      "bar_color": null,
      "description_width": ""
     }
    },
    "dd5a4e08c6984895bc91a8160106144b": {
     "model_module": "@jupyter-widgets/base",
     "model_module_version": "1.2.0",
     "model_name": "LayoutModel",
     "state": {
      "_model_module": "@jupyter-widgets/base",
      "_model_module_version": "1.2.0",
      "_model_name": "LayoutModel",
      "_view_count": null,
      "_view_module": "@jupyter-widgets/base",
      "_view_module_version": "1.2.0",
      "_view_name": "LayoutView",
      "align_content": null,
      "align_items": null,
      "align_self": null,
      "border": null,
      "bottom": null,
      "display": null,
      "flex": null,
      "flex_flow": null,
      "grid_area": null,
      "grid_auto_columns": null,
      "grid_auto_flow": null,
      "grid_auto_rows": null,
      "grid_column": null,
      "grid_gap": null,
      "grid_row": null,
      "grid_template_areas": null,
      "grid_template_columns": null,
      "grid_template_rows": null,
      "height": null,
      "justify_content": null,
      "justify_items": null,
      "left": null,
      "margin": null,
      "max_height": null,
      "max_width": null,
      "min_height": null,
      "min_width": null,
      "object_fit": null,
      "object_position": null,
      "order": null,
      "overflow": null,
      "overflow_x": null,
      "overflow_y": null,
      "padding": null,
      "right": null,
      "top": null,
      "visibility": null,
      "width": null
     }
    },
    "df0f6629bb224b65be26530eecc3d9a0": {
     "model_module": "@jupyter-widgets/base",
     "model_module_version": "1.2.0",
     "model_name": "LayoutModel",
     "state": {
      "_model_module": "@jupyter-widgets/base",
      "_model_module_version": "1.2.0",
      "_model_name": "LayoutModel",
      "_view_count": null,
      "_view_module": "@jupyter-widgets/base",
      "_view_module_version": "1.2.0",
      "_view_name": "LayoutView",
      "align_content": null,
      "align_items": null,
      "align_self": null,
      "border": null,
      "bottom": null,
      "display": null,
      "flex": null,
      "flex_flow": null,
      "grid_area": null,
      "grid_auto_columns": null,
      "grid_auto_flow": null,
      "grid_auto_rows": null,
      "grid_column": null,
      "grid_gap": null,
      "grid_row": null,
      "grid_template_areas": null,
      "grid_template_columns": null,
      "grid_template_rows": null,
      "height": null,
      "justify_content": null,
      "justify_items": null,
      "left": null,
      "margin": null,
      "max_height": null,
      "max_width": null,
      "min_height": null,
      "min_width": null,
      "object_fit": null,
      "object_position": null,
      "order": null,
      "overflow": null,
      "overflow_x": null,
      "overflow_y": null,
      "padding": null,
      "right": null,
      "top": null,
      "visibility": null,
      "width": null
     }
    },
    "df1293fbee9c4d049c2b1079f5ef7075": {
     "model_module": "@jupyter-widgets/controls",
     "model_module_version": "1.5.0",
     "model_name": "FloatProgressModel",
     "state": {
      "_dom_classes": [],
      "_model_module": "@jupyter-widgets/controls",
      "_model_module_version": "1.5.0",
      "_model_name": "FloatProgressModel",
      "_view_count": null,
      "_view_module": "@jupyter-widgets/controls",
      "_view_module_version": "1.5.0",
      "_view_name": "ProgressView",
      "bar_style": "success",
      "description": "",
      "description_tooltip": null,
      "layout": "IPY_MODEL_60e502053be24b7f92a32b060aa7bc05",
      "max": 2,
      "min": 0,
      "orientation": "horizontal",
      "style": "IPY_MODEL_dd4122694a4f4325832fa1a4e4cd86d5",
      "value": 2
     }
    },
    "df37ca08d3034b8c8516e5dae4bd743a": {
     "model_module": "@jupyter-widgets/controls",
     "model_module_version": "1.5.0",
     "model_name": "FloatProgressModel",
     "state": {
      "_dom_classes": [],
      "_model_module": "@jupyter-widgets/controls",
      "_model_module_version": "1.5.0",
      "_model_name": "FloatProgressModel",
      "_view_count": null,
      "_view_module": "@jupyter-widgets/controls",
      "_view_module_version": "1.5.0",
      "_view_name": "ProgressView",
      "bar_style": "success",
      "description": "",
      "description_tooltip": null,
      "layout": "IPY_MODEL_500ea9357cf54426a1e629af24b758c5",
      "max": 2,
      "min": 0,
      "orientation": "horizontal",
      "style": "IPY_MODEL_bbd7d60740a94b2aa2b2da9da3aa1d62",
      "value": 2
     }
    },
    "df53c027887c475596af09ea280cf249": {
     "model_module": "@jupyter-widgets/controls",
     "model_module_version": "1.5.0",
     "model_name": "HTMLModel",
     "state": {
      "_dom_classes": [],
      "_model_module": "@jupyter-widgets/controls",
      "_model_module_version": "1.5.0",
      "_model_name": "HTMLModel",
      "_view_count": null,
      "_view_module": "@jupyter-widgets/controls",
      "_view_module_version": "1.5.0",
      "_view_name": "HTMLView",
      "description": "",
      "description_tooltip": null,
      "layout": "IPY_MODEL_ed9c30b434d440c1ac57a8c419a7137c",
      "placeholder": "​",
      "style": "IPY_MODEL_0982bebda668473582106f79d9b21398",
      "value": "100%"
     }
    },
    "dfb56d7f77e04e56af83cff598b4e295": {
     "model_module": "@jupyter-widgets/controls",
     "model_module_version": "1.5.0",
     "model_name": "HTMLModel",
     "state": {
      "_dom_classes": [],
      "_model_module": "@jupyter-widgets/controls",
      "_model_module_version": "1.5.0",
      "_model_name": "HTMLModel",
      "_view_count": null,
      "_view_module": "@jupyter-widgets/controls",
      "_view_module_version": "1.5.0",
      "_view_name": "HTMLView",
      "description": "",
      "description_tooltip": null,
      "layout": "IPY_MODEL_2e2e3db77330412aa8039f9e8e809746",
      "placeholder": "​",
      "style": "IPY_MODEL_267422f1aad94b1b8b06e99807c13856",
      "value": " 3/3 [07:18&lt;00:00, 140.45s/it]"
     }
    },
    "e1152a21859b4ebf9681f906878eb7a0": {
     "model_module": "@jupyter-widgets/controls",
     "model_module_version": "1.5.0",
     "model_name": "DescriptionStyleModel",
     "state": {
      "_model_module": "@jupyter-widgets/controls",
      "_model_module_version": "1.5.0",
      "_model_name": "DescriptionStyleModel",
      "_view_count": null,
      "_view_module": "@jupyter-widgets/base",
      "_view_module_version": "1.2.0",
      "_view_name": "StyleView",
      "description_width": ""
     }
    },
    "e2db6cdeb26649c3abd7eb0b30090cae": {
     "model_module": "@jupyter-widgets/controls",
     "model_module_version": "1.5.0",
     "model_name": "DescriptionStyleModel",
     "state": {
      "_model_module": "@jupyter-widgets/controls",
      "_model_module_version": "1.5.0",
      "_model_name": "DescriptionStyleModel",
      "_view_count": null,
      "_view_module": "@jupyter-widgets/base",
      "_view_module_version": "1.2.0",
      "_view_name": "StyleView",
      "description_width": ""
     }
    },
    "e4862370152d4ab4bd45d870a32742e8": {
     "model_module": "@jupyter-widgets/base",
     "model_module_version": "1.2.0",
     "model_name": "LayoutModel",
     "state": {
      "_model_module": "@jupyter-widgets/base",
      "_model_module_version": "1.2.0",
      "_model_name": "LayoutModel",
      "_view_count": null,
      "_view_module": "@jupyter-widgets/base",
      "_view_module_version": "1.2.0",
      "_view_name": "LayoutView",
      "align_content": null,
      "align_items": null,
      "align_self": null,
      "border": null,
      "bottom": null,
      "display": null,
      "flex": null,
      "flex_flow": null,
      "grid_area": null,
      "grid_auto_columns": null,
      "grid_auto_flow": null,
      "grid_auto_rows": null,
      "grid_column": null,
      "grid_gap": null,
      "grid_row": null,
      "grid_template_areas": null,
      "grid_template_columns": null,
      "grid_template_rows": null,
      "height": null,
      "justify_content": null,
      "justify_items": null,
      "left": null,
      "margin": null,
      "max_height": null,
      "max_width": null,
      "min_height": null,
      "min_width": null,
      "object_fit": null,
      "object_position": null,
      "order": null,
      "overflow": null,
      "overflow_x": null,
      "overflow_y": null,
      "padding": null,
      "right": null,
      "top": null,
      "visibility": null,
      "width": null
     }
    },
    "e4960129871d484ba7990b7610644520": {
     "model_module": "@jupyter-widgets/controls",
     "model_module_version": "1.5.0",
     "model_name": "DescriptionStyleModel",
     "state": {
      "_model_module": "@jupyter-widgets/controls",
      "_model_module_version": "1.5.0",
      "_model_name": "DescriptionStyleModel",
      "_view_count": null,
      "_view_module": "@jupyter-widgets/base",
      "_view_module_version": "1.2.0",
      "_view_name": "StyleView",
      "description_width": ""
     }
    },
    "e54fce05fa1d4f69abe40123067f4418": {
     "model_module": "@jupyter-widgets/controls",
     "model_module_version": "1.5.0",
     "model_name": "DescriptionStyleModel",
     "state": {
      "_model_module": "@jupyter-widgets/controls",
      "_model_module_version": "1.5.0",
      "_model_name": "DescriptionStyleModel",
      "_view_count": null,
      "_view_module": "@jupyter-widgets/base",
      "_view_module_version": "1.2.0",
      "_view_name": "StyleView",
      "description_width": ""
     }
    },
    "e6f17efbaa8e4e7fb1fc5f5ce241e3ad": {
     "model_module": "@jupyter-widgets/base",
     "model_module_version": "1.2.0",
     "model_name": "LayoutModel",
     "state": {
      "_model_module": "@jupyter-widgets/base",
      "_model_module_version": "1.2.0",
      "_model_name": "LayoutModel",
      "_view_count": null,
      "_view_module": "@jupyter-widgets/base",
      "_view_module_version": "1.2.0",
      "_view_name": "LayoutView",
      "align_content": null,
      "align_items": null,
      "align_self": null,
      "border": null,
      "bottom": null,
      "display": null,
      "flex": null,
      "flex_flow": null,
      "grid_area": null,
      "grid_auto_columns": null,
      "grid_auto_flow": null,
      "grid_auto_rows": null,
      "grid_column": null,
      "grid_gap": null,
      "grid_row": null,
      "grid_template_areas": null,
      "grid_template_columns": null,
      "grid_template_rows": null,
      "height": null,
      "justify_content": null,
      "justify_items": null,
      "left": null,
      "margin": null,
      "max_height": null,
      "max_width": null,
      "min_height": null,
      "min_width": null,
      "object_fit": null,
      "object_position": null,
      "order": null,
      "overflow": null,
      "overflow_x": null,
      "overflow_y": null,
      "padding": null,
      "right": null,
      "top": null,
      "visibility": null,
      "width": null
     }
    },
    "e96c182346914e96bf516a809a762be5": {
     "model_module": "@jupyter-widgets/controls",
     "model_module_version": "1.5.0",
     "model_name": "HBoxModel",
     "state": {
      "_dom_classes": [],
      "_model_module": "@jupyter-widgets/controls",
      "_model_module_version": "1.5.0",
      "_model_name": "HBoxModel",
      "_view_count": null,
      "_view_module": "@jupyter-widgets/controls",
      "_view_module_version": "1.5.0",
      "_view_name": "HBoxView",
      "box_style": "",
      "children": [
       "IPY_MODEL_3e608378f68c4d348e4991c23cc12c35",
       "IPY_MODEL_3c5872b7800a4d9f971a238e847cb230",
       "IPY_MODEL_61e7094cb4a34a5da5e82efff7263b8c"
      ],
      "layout": "IPY_MODEL_8498e4e3ed8a4502af9011cac5c46204"
     }
    },
    "ea5fe136fd944daabc3e8134eea176c8": {
     "model_module": "@jupyter-widgets/controls",
     "model_module_version": "1.5.0",
     "model_name": "DescriptionStyleModel",
     "state": {
      "_model_module": "@jupyter-widgets/controls",
      "_model_module_version": "1.5.0",
      "_model_name": "DescriptionStyleModel",
      "_view_count": null,
      "_view_module": "@jupyter-widgets/base",
      "_view_module_version": "1.2.0",
      "_view_name": "StyleView",
      "description_width": ""
     }
    },
    "eac5aa6e7bf345619a9a07a05fa3bfb1": {
     "model_module": "@jupyter-widgets/controls",
     "model_module_version": "1.5.0",
     "model_name": "HTMLModel",
     "state": {
      "_dom_classes": [],
      "_model_module": "@jupyter-widgets/controls",
      "_model_module_version": "1.5.0",
      "_model_name": "HTMLModel",
      "_view_count": null,
      "_view_module": "@jupyter-widgets/controls",
      "_view_module_version": "1.5.0",
      "_view_name": "HTMLView",
      "description": "",
      "description_tooltip": null,
      "layout": "IPY_MODEL_0b86b015850f409dba6e9a53b425da75",
      "placeholder": "​",
      "style": "IPY_MODEL_7091d837fc0d4d48b3bc14e1dcaed082",
      "value": " 3/3 [20:25&lt;00:00, 389.65s/it]"
     }
    },
    "eadfb6d6651f41bfb9ff19a82084ac29": {
     "model_module": "@jupyter-widgets/base",
     "model_module_version": "1.2.0",
     "model_name": "LayoutModel",
     "state": {
      "_model_module": "@jupyter-widgets/base",
      "_model_module_version": "1.2.0",
      "_model_name": "LayoutModel",
      "_view_count": null,
      "_view_module": "@jupyter-widgets/base",
      "_view_module_version": "1.2.0",
      "_view_name": "LayoutView",
      "align_content": null,
      "align_items": null,
      "align_self": null,
      "border": null,
      "bottom": null,
      "display": null,
      "flex": null,
      "flex_flow": null,
      "grid_area": null,
      "grid_auto_columns": null,
      "grid_auto_flow": null,
      "grid_auto_rows": null,
      "grid_column": null,
      "grid_gap": null,
      "grid_row": null,
      "grid_template_areas": null,
      "grid_template_columns": null,
      "grid_template_rows": null,
      "height": null,
      "justify_content": null,
      "justify_items": null,
      "left": null,
      "margin": null,
      "max_height": null,
      "max_width": null,
      "min_height": null,
      "min_width": null,
      "object_fit": null,
      "object_position": null,
      "order": null,
      "overflow": null,
      "overflow_x": null,
      "overflow_y": null,
      "padding": null,
      "right": null,
      "top": null,
      "visibility": null,
      "width": null
     }
    },
    "ebbb841d1e55442092a54b169b692371": {
     "model_module": "@jupyter-widgets/controls",
     "model_module_version": "1.5.0",
     "model_name": "DescriptionStyleModel",
     "state": {
      "_model_module": "@jupyter-widgets/controls",
      "_model_module_version": "1.5.0",
      "_model_name": "DescriptionStyleModel",
      "_view_count": null,
      "_view_module": "@jupyter-widgets/base",
      "_view_module_version": "1.2.0",
      "_view_name": "StyleView",
      "description_width": ""
     }
    },
    "ed9c30b434d440c1ac57a8c419a7137c": {
     "model_module": "@jupyter-widgets/base",
     "model_module_version": "1.2.0",
     "model_name": "LayoutModel",
     "state": {
      "_model_module": "@jupyter-widgets/base",
      "_model_module_version": "1.2.0",
      "_model_name": "LayoutModel",
      "_view_count": null,
      "_view_module": "@jupyter-widgets/base",
      "_view_module_version": "1.2.0",
      "_view_name": "LayoutView",
      "align_content": null,
      "align_items": null,
      "align_self": null,
      "border": null,
      "bottom": null,
      "display": null,
      "flex": null,
      "flex_flow": null,
      "grid_area": null,
      "grid_auto_columns": null,
      "grid_auto_flow": null,
      "grid_auto_rows": null,
      "grid_column": null,
      "grid_gap": null,
      "grid_row": null,
      "grid_template_areas": null,
      "grid_template_columns": null,
      "grid_template_rows": null,
      "height": null,
      "justify_content": null,
      "justify_items": null,
      "left": null,
      "margin": null,
      "max_height": null,
      "max_width": null,
      "min_height": null,
      "min_width": null,
      "object_fit": null,
      "object_position": null,
      "order": null,
      "overflow": null,
      "overflow_x": null,
      "overflow_y": null,
      "padding": null,
      "right": null,
      "top": null,
      "visibility": null,
      "width": null
     }
    },
    "f2a3a83d3e944532b92d32d3d4712262": {
     "model_module": "@jupyter-widgets/controls",
     "model_module_version": "1.5.0",
     "model_name": "DescriptionStyleModel",
     "state": {
      "_model_module": "@jupyter-widgets/controls",
      "_model_module_version": "1.5.0",
      "_model_name": "DescriptionStyleModel",
      "_view_count": null,
      "_view_module": "@jupyter-widgets/base",
      "_view_module_version": "1.2.0",
      "_view_name": "StyleView",
      "description_width": ""
     }
    },
    "f532e3b831ee4a92861a081e35b8de42": {
     "model_module": "@jupyter-widgets/controls",
     "model_module_version": "1.5.0",
     "model_name": "HTMLModel",
     "state": {
      "_dom_classes": [],
      "_model_module": "@jupyter-widgets/controls",
      "_model_module_version": "1.5.0",
      "_model_name": "HTMLModel",
      "_view_count": null,
      "_view_module": "@jupyter-widgets/controls",
      "_view_module_version": "1.5.0",
      "_view_name": "HTMLView",
      "description": "",
      "description_tooltip": null,
      "layout": "IPY_MODEL_2c934e1052544346ae7d43c3a301705e",
      "placeholder": "​",
      "style": "IPY_MODEL_ebbb841d1e55442092a54b169b692371",
      "value": "100%"
     }
    },
    "f53f0f3b1ee64e4c87f790cc4a57df5a": {
     "model_module": "@jupyter-widgets/controls",
     "model_module_version": "1.5.0",
     "model_name": "HBoxModel",
     "state": {
      "_dom_classes": [],
      "_model_module": "@jupyter-widgets/controls",
      "_model_module_version": "1.5.0",
      "_model_name": "HBoxModel",
      "_view_count": null,
      "_view_module": "@jupyter-widgets/controls",
      "_view_module_version": "1.5.0",
      "_view_name": "HBoxView",
      "box_style": "",
      "children": [
       "IPY_MODEL_083bd8caa43c471680474b8a79e9cf39",
       "IPY_MODEL_39174dfc443947e19601119d73a46b30",
       "IPY_MODEL_3450882617664db7bcb196679e4a573b"
      ],
      "layout": "IPY_MODEL_088d83c2329b4d3db196fbc2ba75589e"
     }
    },
    "f95bcae04df9411094e58ab907c298d3": {
     "model_module": "@jupyter-widgets/controls",
     "model_module_version": "1.5.0",
     "model_name": "FloatProgressModel",
     "state": {
      "_dom_classes": [],
      "_model_module": "@jupyter-widgets/controls",
      "_model_module_version": "1.5.0",
      "_model_name": "FloatProgressModel",
      "_view_count": null,
      "_view_module": "@jupyter-widgets/controls",
      "_view_module_version": "1.5.0",
      "_view_name": "ProgressView",
      "bar_style": "success",
      "description": "",
      "description_tooltip": null,
      "layout": "IPY_MODEL_dd5a4e08c6984895bc91a8160106144b",
      "max": 3,
      "min": 0,
      "orientation": "horizontal",
      "style": "IPY_MODEL_99299f81d707435ea65bd9eb580165a9",
      "value": 3
     }
    },
    "ff1582b34cda4e428f5f9ed467806577": {
     "model_module": "@jupyter-widgets/controls",
     "model_module_version": "1.5.0",
     "model_name": "FloatProgressModel",
     "state": {
      "_dom_classes": [],
      "_model_module": "@jupyter-widgets/controls",
      "_model_module_version": "1.5.0",
      "_model_name": "FloatProgressModel",
      "_view_count": null,
      "_view_module": "@jupyter-widgets/controls",
      "_view_module_version": "1.5.0",
      "_view_name": "ProgressView",
      "bar_style": "success",
      "description": "",
      "description_tooltip": null,
      "layout": "IPY_MODEL_eadfb6d6651f41bfb9ff19a82084ac29",
      "max": 3,
      "min": 0,
      "orientation": "horizontal",
      "style": "IPY_MODEL_55e27422a3f547ef97f80c442d9d6339",
      "value": 3
     }
    }
   }
  }
 },
 "nbformat": 4,
 "nbformat_minor": 4
}
