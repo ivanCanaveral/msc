{
 "cells": [
  {
   "cell_type": "markdown",
   "metadata": {
    "id": "SSEAJJKcf3yv"
   },
   "source": [
    "# Práctica 3\n",
    "\n",
    "**Alumno**: Iván Cañaveral Sánchez\n",
    "\n",
    "En este notebook se afronta un problema de clasificación binaria de textos, apoyándonos principalmente en laa librería tensorflow.\n",
    "\n",
    "Durante el desarrollo de la práctica se cubrirán los siguientes aspectos:\n",
    " - Carga del dataset y vectorización\n",
    " - Pruebas para entender el funcionamiento de las redes recurrentes.\n",
    " - Primeros entrenamientos con RNNs simples\n",
    " - Entrenamientos con LSTM\n",
    " - Entrenamientos con GRU"
   ]
  },
  {
   "cell_type": "markdown",
   "metadata": {
    "id": "MGlEWFA_f9Gf"
   },
   "source": [
    "# Imports y constantes\n",
    "\n",
    "En esta sección importamos todas las librerías y herramientas que vamos a utilizar, y a continuación se definen algunas constanates y ajustes que se aplicarán a lo largo de toda la práctica."
   ]
  },
  {
   "cell_type": "markdown",
   "metadata": {
    "id": "vUygBOAZgGGP"
   },
   "source": [
    "## Imports"
   ]
  },
  {
   "cell_type": "code",
   "execution_count": null,
   "metadata": {
    "id": "HT2YehjXhzK8"
   },
   "outputs": [],
   "source": [
    "import os\n",
    "import re\n",
    "import json\n",
    "import time\n",
    "import shutil\n",
    "import string\n",
    "import itertools\n",
    "import numpy as np\n",
    "import pandas as pd\n",
    "import seaborn as sns\n",
    "import tensorflow as tf\n",
    "import matplotlib.pyplot as plt"
   ]
  },
  {
   "cell_type": "code",
   "execution_count": null,
   "metadata": {
    "id": "u-Kb9shzivoR"
   },
   "outputs": [],
   "source": [
    "from sklearn.base import BaseEstimator, TransformerMixin\n",
    "from sklearn.metrics import confusion_matrix, ConfusionMatrixDisplay, classification_report\n",
    "from sklearn.model_selection import train_test_split"
   ]
  },
  {
   "cell_type": "code",
   "execution_count": null,
   "metadata": {
    "id": "1Nc1TAoPjIlJ"
   },
   "outputs": [],
   "source": [
    "from tensorflow.keras import layers\n",
    "from tensorflow.keras import losses\n",
    "from tensorflow.keras import utils\n",
    "from tensorflow.keras.layers import TextVectorization"
   ]
  },
  {
   "cell_type": "code",
   "execution_count": null,
   "metadata": {
    "id": "YJnoB7o4o_DV"
   },
   "outputs": [],
   "source": [
    "from tensorflow.keras.layers import SimpleRNN"
   ]
  },
  {
   "cell_type": "code",
   "execution_count": null,
   "metadata": {
    "id": "DfzJKlUxzRBW"
   },
   "outputs": [],
   "source": [
    "from tensorflow.keras.callbacks import EarlyStopping, ReduceLROnPlateau"
   ]
  },
  {
   "cell_type": "code",
   "execution_count": null,
   "metadata": {
    "colab": {
     "base_uri": "https://localhost:8080/"
    },
    "id": "4Fn0kE8pjMxB",
    "outputId": "fad09622-7047-4563-c3ba-4b57272d026d"
   },
   "outputs": [],
   "source": [
    "import nltk\n",
    "from nltk.stem import *\n",
    "from nltk.stem import WordNetLemmatizer\n",
    "from nltk.corpus import stopwords\n",
    "\n",
    "\n",
    "nltk.download('omw-1.4')\n",
    "nltk.download('stopwords')\n",
    "nltk.download('wordnet')"
   ]
  },
  {
   "cell_type": "markdown",
   "metadata": {
    "id": "j_JurFUugOHA"
   },
   "source": [
    "## Constantes"
   ]
  },
  {
   "cell_type": "code",
   "execution_count": null,
   "metadata": {
    "id": "X0ojL6GGiOBA"
   },
   "outputs": [],
   "source": [
    "BATCH_SIZE = 32\n",
    "VOCAB_SIZE = 10000\n",
    "MAX_SEQUENCE_LENGTH = 50 #250\n",
    "EMBEDDING_DIM = 64"
   ]
  },
  {
   "cell_type": "code",
   "execution_count": null,
   "metadata": {
    "id": "AQjhilx2nhX6"
   },
   "outputs": [],
   "source": [
    "sns.set_theme()\n",
    "sns.set(rc={'figure.figsize':(12, 6)})"
   ]
  },
  {
   "cell_type": "code",
   "execution_count": null,
   "metadata": {
    "id": "S5N4Ienbh5r7"
   },
   "outputs": [],
   "source": [
    "# Sets all random seeds for the program (Python, NumPy, and TensorFlow).\n",
    "tf.random.set_seed(73)"
   ]
  },
  {
   "cell_type": "markdown",
   "metadata": {
    "id": "O5nRcOQTY078"
   },
   "source": [
    "Vamos a crear una función que limpie la sesión de keras y fije una [semilla para procesos aleatorios](https://www.tensorflow.org/api_docs/python/tf/random/set_seed)."
   ]
  },
  {
   "cell_type": "code",
   "execution_count": null,
   "metadata": {
    "id": "FrNE8GkQwMxU"
   },
   "outputs": [],
   "source": [
    "def reset_session():\n",
    "  tf.keras.backend.clear_session()\n",
    "  tf.random.set_seed(73)"
   ]
  },
  {
   "cell_type": "markdown",
   "metadata": {
    "id": "kNwlHlTegSpN"
   },
   "source": [
    "# Dataset\n",
    "\n",
    "Vamos a proceder a cargar y procesar el dataset. Este apartado es muy similar al desarrollado en prácticas anteriores, por lo que no entraremos mucho en detalles."
   ]
  },
  {
   "cell_type": "markdown",
   "metadata": {
    "id": "PAXd8vK5gVOG"
   },
   "source": [
    "### Carga"
   ]
  },
  {
   "cell_type": "code",
   "execution_count": null,
   "metadata": {
    "colab": {
     "base_uri": "https://localhost:8080/"
    },
    "id": "d8KSLqQydPKR",
    "outputId": "d8d9961f-3de2-4f1f-9e81-b986ee620695"
   },
   "outputs": [],
   "source": [
    "!git clone https://github.com/ivanCanaveral/msc-datasets/"
   ]
  },
  {
   "cell_type": "code",
   "execution_count": null,
   "metadata": {
    "id": "inJimHfWhLsX"
   },
   "outputs": [],
   "source": [
    "raw_test_data = pd.read_csv('msc-datasets/movie-reviews/test_reviews.csv')\n",
    "raw_train_data = pd.read_csv('msc-datasets/movie-reviews/train_reviews.csv')"
   ]
  },
  {
   "cell_type": "code",
   "execution_count": null,
   "metadata": {
    "id": "6oZZMoc5jRH7"
   },
   "outputs": [],
   "source": [
    "raw_test_data['partition'] = 'test'\n",
    "raw_train_data['partition'] = 'train'\n",
    "dataset = pd.concat([raw_test_data, raw_train_data])"
   ]
  },
  {
   "cell_type": "code",
   "execution_count": null,
   "metadata": {
    "colab": {
     "base_uri": "https://localhost:8080/",
     "height": 237
    },
    "id": "MtpaTjU8jYKj",
    "outputId": "9444ecdf-5431-45af-d5f0-fa3c3edf231e"
   },
   "outputs": [],
   "source": [
    "dataset = dataset.set_index(dataset.id).drop(columns=[\"id\"])\n",
    "dataset[\"length\"] = dataset.review.str.split().apply(len)\n",
    "dataset.head()"
   ]
  },
  {
   "cell_type": "markdown",
   "metadata": {
    "id": "tpx0oEIAgg6P"
   },
   "source": [
    "### Exploración"
   ]
  },
  {
   "cell_type": "code",
   "execution_count": null,
   "metadata": {
    "colab": {
     "base_uri": "https://localhost:8080/",
     "height": 206
    },
    "id": "GbqEWSHrjYHU",
    "outputId": "1439dd7a-115e-4c07-86e8-ad97b0f65c20"
   },
   "outputs": [],
   "source": [
    "dataset.groupby(by=[\"partition\", \"sentiment\"]).count()"
   ]
  },
  {
   "cell_type": "markdown",
   "metadata": {
    "id": "_Ih7I14OgqOk"
   },
   "source": [
    "### Procesado del texto\n",
    "\n",
    "Como en prácticas anteriores, vamos a creamos una clase que hereda de las clases de estimadores de Sklearn para encapsular el preprocesado del texto.\n",
    "\n",
    "⚠️ `WordNetLemmatizer()` no es un objeto serializable por joblib (una de las librerías que utiliza sklearn para paralelizar cálculos), por lo que ajustaremos la opción njobs=1, para evitar potenciales problemas.\n",
    "\n",
    "Para, una vez más, aportar sencillez, vamos a establecer 3 tipos de preprocesado, que serán incrementales:\n",
    "\n",
    "    * `basic`: únicamente se hace una limpieza básica, pasando a minúsculas, filtrando caracteres indeseados y stopwords.\n",
    "    * `lemma`: sobre el tratamiento basic se aplica lemmatización.\n",
    "\n",
    "    * `stem`: adicionalmente al lemmatizado, se aplica stemming.\n",
    "\n"
   ]
  },
  {
   "cell_type": "code",
   "execution_count": null,
   "metadata": {
    "id": "XADr0rODjeP9"
   },
   "outputs": [],
   "source": [
    "class TextPreprocessor(BaseEstimator, TransformerMixin):\n",
    "    def __init__(self, level='basic'):\n",
    "        assert level in ['basic', 'lemma', 'stem'], \"Wrong level value\"\n",
    "        self.level = level\n",
    "        self.apply_lemma = level != 'basic'\n",
    "        self.apply_stem = level == 'stem'\n",
    "    \n",
    "    def clean_text(self, text):\n",
    "        letters_only = re.sub(\"[^a-zA-Z]\", \" \", text)\n",
    "        words = letters_only.lower().split()\n",
    "        stops = set(stopwords.words(\"english\") + ['br'])\n",
    "        words = [w for w in words if not w in stops]\n",
    "        return words\n",
    "\n",
    "    def lemmatize_words(self, words):\n",
    "        wordnet_lemmatizer = WordNetLemmatizer()\n",
    "        lemmatized = [wordnet_lemmatizer.lemmatize(word) for word in words]\n",
    "        return lemmatized\n",
    "    \n",
    "    def stem_words(self, words):\n",
    "        stemmer = PorterStemmer()\n",
    "        stemmed = [stemmer.stem(word) for word in words]\n",
    "        return stemmed\n",
    "\n",
    "    def parse_text(self, text):\n",
    "        words = self.clean_text(text)\n",
    "        if self.apply_lemma:\n",
    "            words = self.lemmatize_words(words)\n",
    "        if self.apply_stem:\n",
    "            words = self.stem_words(words)\n",
    "        return \" \".join(words)\n",
    "\n",
    "    def fit(self, X, y=None):\n",
    "        return self\n",
    "\n",
    "    def transform(self, X, y=None):\n",
    "        return np.vectorize(self.parse_text)(X)\n",
    "\n",
    "    def get_params(self, deep=True):\n",
    "        return {\n",
    "            \"level\": self.level\n",
    "        }"
   ]
  },
  {
   "cell_type": "code",
   "execution_count": null,
   "metadata": {
    "colab": {
     "base_uri": "https://localhost:8080/"
    },
    "id": "Z5Ut-NqOjeOE",
    "outputId": "202f4545-a145-4cfa-a8cc-2f155896fc97"
   },
   "outputs": [],
   "source": [
    "for prep_type in ['basic', 'lemma', 'stem']:\n",
    "  print(\"Procesando...\", prep_type, end=' ')\n",
    "  t0 = time.time()\n",
    "  text_preprocessor = TextPreprocessor(prep_type)\n",
    "  dataset[f'{prep_type}_review'] = text_preprocessor.transform(dataset.review)\n",
    "  print(f\"{time.time()-t0:02f} s.\")"
   ]
  },
  {
   "cell_type": "code",
   "execution_count": null,
   "metadata": {
    "colab": {
     "base_uri": "https://localhost:8080/",
     "height": 143
    },
    "id": "Hu3DQOm7jeLM",
    "outputId": "1b82a040-e1ae-4b4b-da93-0e5a358a26d1"
   },
   "outputs": [],
   "source": [
    "dataset['label'] = dataset['sentiment'] == 'positive'\n",
    "dataset['label'] = dataset['label'].astype('int32')\n",
    "dataset.head(2)"
   ]
  },
  {
   "cell_type": "code",
   "execution_count": null,
   "metadata": {
    "id": "ilMQm_lMju2F"
   },
   "outputs": [],
   "source": [
    "train_df = dataset[dataset['partition'] == 'train']\n",
    "test_df = dataset[dataset['partition'] == 'test']"
   ]
  },
  {
   "cell_type": "markdown",
   "metadata": {
    "id": "09T19ZI2dk6Q"
   },
   "source": [
    "Vamos a partir el conjunto de entrenamiento y validación para monitorizar los entrenamientos con keras. De este modo tendremos 3 conjuntos de tados:\n",
    "* test\n",
    "* validation\n",
    "* train"
   ]
  },
  {
   "cell_type": "code",
   "execution_count": null,
   "metadata": {
    "id": "rCkoiRPtbu4G"
   },
   "outputs": [],
   "source": [
    "train_df, validation_df = train_test_split(train_df, test_size=0.1, random_state=73)"
   ]
  },
  {
   "cell_type": "markdown",
   "metadata": {
    "id": "1xsrMnCCjZZ3"
   },
   "source": [
    "### Vectorización\n",
    "\n",
    "Vamos a crear objetos Dataset de tensorflow para llevar a cabo entrenamientos de manera más eficiente."
   ]
  },
  {
   "cell_type": "code",
   "execution_count": null,
   "metadata": {
    "id": "xz43kSqHhx0X"
   },
   "outputs": [],
   "source": [
    "raw_train_ds = tf.data.Dataset.from_tensor_slices(\n",
    "    (train_df['lemma_review'], train_df['label'].values)).batch(BATCH_SIZE)\n",
    "raw_test_ds = tf.data.Dataset.from_tensor_slices(\n",
    "    (test_df['lemma_review'], test_df['label'].values)).batch(BATCH_SIZE)\n",
    "raw_validation_ds = tf.data.Dataset.from_tensor_slices(\n",
    "    (validation_df['lemma_review'], validation_df['label'].values)).batch(BATCH_SIZE)"
   ]
  },
  {
   "cell_type": "markdown",
   "metadata": {
    "id": "NMOwwX_8ePYy"
   },
   "source": [
    "Exploremos como se almacenan los textos y sus etiquetas en estos datasets. Utilizaremos como ejemplo en dataset de entrenamiento:"
   ]
  },
  {
   "cell_type": "code",
   "execution_count": null,
   "metadata": {
    "colab": {
     "base_uri": "https://localhost:8080/"
    },
    "id": "tJ-vJV9pjwhO",
    "outputId": "b13ab1dd-3fc6-4261-ea67-8e27f17068a1"
   },
   "outputs": [],
   "source": [
    "for text_batch, label_batch in raw_train_ds.take(1): #first batch\n",
    "  for i in range(2): # first 2 elements form raw_train_ds\n",
    "    print(\"Review: \", text_batch.numpy()[i][:80])\n",
    "    print(\"Label:\", label_batch.numpy()[i], '\\n')"
   ]
  },
  {
   "cell_type": "markdown",
   "metadata": {
    "id": "ggwHN-M6kl1x"
   },
   "source": [
    "**Capa de vectorizacion:** Para las pruebas vamos a crear una vectorización de tipo 'int', que genera un vocabulario y asigna a cada palabra el índice que tiene asociado en el vocabulario."
   ]
  },
  {
   "cell_type": "code",
   "execution_count": null,
   "metadata": {
    "id": "LWNfTICej0hP"
   },
   "outputs": [],
   "source": [
    "seq_vectorize_layer = TextVectorization(\n",
    "    max_tokens=VOCAB_SIZE,\n",
    "    output_mode='int',\n",
    "    output_sequence_length=MAX_SEQUENCE_LENGTH)"
   ]
  },
  {
   "cell_type": "markdown",
   "metadata": {
    "id": "1D4Qb7Nrkig5"
   },
   "source": [
    "**Ajuste del vectorizador:** Para ajustar el vectorizador, vamos a hacerlo únicamente sobre la partición de de train. Para ello vamos a crear una función que filtre las etiquetas, ajuste el vectorizador, y aplicamos la capa de vectorización sobre los datasets."
   ]
  },
  {
   "cell_type": "code",
   "execution_count": null,
   "metadata": {
    "id": "xbADjBXskkpV"
   },
   "outputs": [],
   "source": [
    "def filter_labels(text, labels):\n",
    "  return text\n",
    "\n",
    "train_text = raw_train_ds.map(filter_labels)\n",
    "seq_vectorize_layer.adapt(train_text)"
   ]
  },
  {
   "cell_type": "code",
   "execution_count": null,
   "metadata": {
    "id": "AHheHiUrkMnj"
   },
   "outputs": [],
   "source": [
    "def seq_vectorize_text(text, label):\n",
    "  text = tf.expand_dims(text, -1)\n",
    "  return seq_vectorize_layer(text), label"
   ]
  },
  {
   "cell_type": "markdown",
   "metadata": {
    "id": "-E0knBA7k4z3"
   },
   "source": [
    "### Pruebas de vectorización\n",
    "\n",
    "Vamos a revisar paso a paso cómo funcionan los pasos de la vectorización y qué impacto tiene.\n",
    "\n",
    "En primer lugar tomamos una muestra, tanto el texto como su etiqueta:"
   ]
  },
  {
   "cell_type": "code",
   "execution_count": null,
   "metadata": {
    "colab": {
     "base_uri": "https://localhost:8080/"
    },
    "id": "bfyblW4mke2Q",
    "outputId": "f97a89d3-d3c6-44f1-fdd9-131abea67c1f"
   },
   "outputs": [],
   "source": [
    "text_batch, label_batch = next(iter(raw_train_ds))\n",
    "first_review, first_label = text_batch[0], label_batch[0]\n",
    "print(\"Review: \", first_review.numpy()[:100])\n",
    "print(\"Label: \", first_label.numpy())"
   ]
  },
  {
   "cell_type": "markdown",
   "metadata": {
    "id": "2OTCIDlWfhTC"
   },
   "source": [
    "A continuación vemos el impacto que tiene aplicar la capa de vectorización definida previamente:"
   ]
  },
  {
   "cell_type": "code",
   "execution_count": null,
   "metadata": {
    "colab": {
     "base_uri": "https://localhost:8080/"
    },
    "id": "BsKI_EdUkS8a",
    "outputId": "330bb92c-af68-4b95-f146-903129d144e8"
   },
   "outputs": [],
   "source": [
    "print(\"Vectorización secuencial:\")\n",
    "print(seq_vectorize_text(first_review, first_label)[0])"
   ]
  },
  {
   "cell_type": "markdown",
   "metadata": {
    "id": "GhyK_eh6gNr0"
   },
   "source": [
    "Cada uno de estos índices se corresponden con una palabra del vocabulario. Por ejemplo, vamos a ver a qué palabras están asociados los índices 2 y 3 del vocabulario:"
   ]
  },
  {
   "cell_type": "code",
   "execution_count": null,
   "metadata": {
    "colab": {
     "base_uri": "https://localhost:8080/"
    },
    "id": "gfcyoeY7kZTw",
    "outputId": "6782336b-61c9-41e1-bc8d-9a2ffc3f95ad"
   },
   "outputs": [],
   "source": [
    "print(\"2 ---> \", seq_vectorize_layer.get_vocabulary()[2])\n",
    "print(\"3 ---> \", seq_vectorize_layer.get_vocabulary()[3])\n",
    "print(\"Vocabulary size: {}\".format(len(seq_vectorize_layer.get_vocabulary())))"
   ]
  },
  {
   "cell_type": "markdown",
   "metadata": {
    "id": "Okrxa1kCgXXe"
   },
   "source": [
    "Vamos a hacer entonces una pequeña prueba, aplicando la capa de vectorización, y después recuperando las palabras del vocabulario. Es decir, vamos a vectorizar texto, y después a hacer la operación inversa."
   ]
  },
  {
   "cell_type": "code",
   "execution_count": null,
   "metadata": {
    "colab": {
     "base_uri": "https://localhost:8080/"
    },
    "id": "DKfao3ZTks83",
    "outputId": "2f349360-caa9-4ec1-8dad-a87aad4ac07d"
   },
   "outputs": [],
   "source": [
    "print(\"Reverse vectorization:\")\n",
    "for word_index in seq_vectorize_text(first_review, first_label)[0].numpy()[0]:\n",
    "  print(seq_vectorize_layer.get_vocabulary()[word_index], end=' ')"
   ]
  },
  {
   "cell_type": "markdown",
   "metadata": {
    "id": "3vb5iGnAgmJP"
   },
   "source": [
    "### Configuración de los datasets"
   ]
  },
  {
   "cell_type": "markdown",
   "metadata": {
    "id": "AqJWCWWIlWyT"
   },
   "source": [
    "Finalmente creamos los datasets que consumirán los enterenamientos. Aplicamos la función de vectorización definida anteriormente.\n",
    "\n",
    "(!) Aplicamos la vectorización dentro del dataset para mejorar la eficiencia de los entrenamientos en caso de utilizar soportes de cómputo tales como GPUs. En caso de desplegar este modelo en inferencia, lo más práctico sería incluir la vectorización dentro del modelo."
   ]
  },
  {
   "cell_type": "code",
   "execution_count": null,
   "metadata": {
    "id": "CyT6AHr8kvAZ"
   },
   "outputs": [],
   "source": [
    "seq_train_ds = raw_train_ds.map(seq_vectorize_text)\n",
    "seq_test_ds = raw_test_ds.map(seq_vectorize_text)\n",
    "seq_validation_ds = raw_validation_ds.map(seq_vectorize_text)"
   ]
  },
  {
   "cell_type": "markdown",
   "metadata": {
    "id": "ursqbCrEldYl"
   },
   "source": [
    "Aplicamos algunas optimizacaiones de rendimiento. En este caso, paralelizar los cálculos de la vectorización."
   ]
  },
  {
   "cell_type": "code",
   "execution_count": null,
   "metadata": {
    "id": "4N9Lij9ikz7o"
   },
   "outputs": [],
   "source": [
    "AUTOTUNE = tf.data.AUTOTUNE\n",
    "\n",
    "def configure_dataset(dataset):\n",
    "  return dataset.cache().prefetch(buffer_size=AUTOTUNE)"
   ]
  },
  {
   "cell_type": "code",
   "execution_count": null,
   "metadata": {
    "id": "xhOS_T4Lk1Z4"
   },
   "outputs": [],
   "source": [
    "seq_train_ds = configure_dataset(seq_train_ds)\n",
    "seq_test_ds = configure_dataset(seq_test_ds)\n",
    "seq_validation_ds = configure_dataset(seq_validation_ds)"
   ]
  },
  {
   "cell_type": "markdown",
   "metadata": {
    "id": "QMVvVOjCTh6n"
   },
   "source": [
    "# Redes recurrentes.\n",
    "\n",
    "A lo largo del siguiete apartado iremos explorando y aplicando diferentes arquitecturas de redes recurrentes, y midiendo su rendimiento.\n",
    "\n",
    "Se estudian arquitecturas simples, apiladas y bidireccionales, sobre los siguientes típos básicos de redes recurrentes:\n",
    "- SimpleRNN\n",
    "- LSTM\n",
    "- GRU\n",
    "\n",
    "En el primer apartado nos detendremos un poco más para entender las funcionalidades de la librería, así como los aspecto internos de este tipo de redes."
   ]
  },
  {
   "cell_type": "markdown",
   "metadata": {
    "id": "5fdSliBSmECr"
   },
   "source": [
    "## Unidades `SimpleRNN`\n",
    "\n",
    "En keras, `RNN` es una cláse básica de la que heredan los distintos tipos de redes recurrentes. El módulo más básico de red recurrente, el de red recurrente básico es [SimpleRNN](https://www.tensorflow.org/api_docs/python/tf/keras/layers/SimpleRNN).\n",
    "\n",
    "\n",
    "Cada paso temporal de esta red recurrente responde al siguiente cálculo:\n",
    "\n",
    "```\n",
    "h_(t+1) = x_t * W_x + h_t * W_h\n",
    "```\n",
    "\n",
    "Donde `x_t` y `x_(t+1)` son los inputs de la red en un punto concreto de la secuencia, y el siguiente punto, `h_t` y `h_(t+1)` con los estados de la misma, y `W_x` y `W_h` son las matrices de pesos asociados al input, y al estado respectivamente."
   ]
  },
  {
   "cell_type": "markdown",
   "metadata": {
    "id": "QD3nDWcTu6DY"
   },
   "source": [
    "### Pesos\n",
    "\n",
    "En el siguiente apartado vamos a explorar en detalle cómo se gestionan y se accede a los pesos y estados internos de las redes. \n",
    "\n",
    "Para ello partiremos de una capa de vectorización tipo Embedding (este punto es poco relevante, dado que en este apartado queremos centrarnos en la red), e iremos revisando algunos detalles."
   ]
  },
  {
   "cell_type": "markdown",
   "metadata": {
    "id": "BvWi0Y1Op5vt"
   },
   "source": [
    "En primer lugar, supongamos un embedding sencillo con dos dimensiones, que mapea las palabras a un espacio con las dimensiones (E1, E2).\n",
    "\n",
    "![i-am-groot-embedding.png](data:image/png;base64,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)"
   ]
  },
  {
   "cell_type": "markdown",
   "metadata": {
    "id": "_JwFj2kwlLR2"
   },
   "source": [
    "Para simular este embedding, vamos a generar un vector aleatorio que representa, como en la imágen, una frase de tres palabras, en un espacio bidimensional.\n",
    "\n",
    "Por tanto, tendremos una matriz de 1x3x2:"
   ]
  },
  {
   "cell_type": "code",
   "execution_count": null,
   "metadata": {
    "colab": {
     "base_uri": "https://localhost:8080/"
    },
    "id": "dUu70GS8pzqB",
    "outputId": "65738f4f-e455-4592-aa35-dfe3c3d7f912"
   },
   "outputs": [],
   "source": [
    "# n_sentences, n_sentence_lenght, dim\n",
    "x = tf.random.normal((1, 3, 2))\n",
    "x.numpy()[0]"
   ]
  },
  {
   "cell_type": "markdown",
   "metadata": {
    "id": "vZGtxrgvlZCd"
   },
   "source": [
    "Ahora vamos a crear una capa recurrente con 4 unidades."
   ]
  },
  {
   "cell_type": "code",
   "execution_count": null,
   "metadata": {
    "colab": {
     "base_uri": "https://localhost:8080/"
    },
    "id": "BGsjy-gAyCd-",
    "outputId": "df50e447-cd8a-4a0f-c7d9-7a49a522dff8"
   },
   "outputs": [],
   "source": [
    "layer = SimpleRNN(4, input_shape=(3, 2))\n",
    "output = layer(x)\n",
    "output.shape"
   ]
  },
  {
   "cell_type": "markdown",
   "metadata": {
    "id": "UTF5kIdVl2ER"
   },
   "source": [
    "Esta red, internamente genera las matrices de pesos correspondientes a:\n",
    "\n",
    "- la entrada `x`\n",
    "- el estado anterior `h`\n",
    "- y el bias.\n",
    "\n",
    "A continuación podemos ver las dimensiones de cada una de ellas para la red planteada:"
   ]
  },
  {
   "cell_type": "code",
   "execution_count": null,
   "metadata": {
    "colab": {
     "base_uri": "https://localhost:8080/"
    },
    "id": "t8GSkKyHvGrn",
    "outputId": "03cb63fd-f07b-4195-ef62-c086d0aa18e9"
   },
   "outputs": [],
   "source": [
    "for w, name in zip(layer.weights, [\"W_x\", \"W_h\", \"b\"]):\n",
    "  print(name, w.shape)"
   ]
  },
  {
   "cell_type": "markdown",
   "metadata": {
    "id": "rak7T0GWmKgm"
   },
   "source": [
    "Si queremos explorar un poco más, podemo ver en detalle las distintas matrices:"
   ]
  },
  {
   "cell_type": "code",
   "execution_count": null,
   "metadata": {
    "colab": {
     "base_uri": "https://localhost:8080/"
    },
    "id": "XqxwyuKQu8t_",
    "outputId": "31ad0e6c-c595-477f-d43a-c850b2a28e7c"
   },
   "outputs": [],
   "source": [
    "for w, name in zip(layer.weights, [\"W_x\", \"W_h\", \"b\"]):\n",
    "  print(name, '\\n---')\n",
    "  print(w.numpy())\n",
    "  print()"
   ]
  },
  {
   "cell_type": "markdown",
   "metadata": {
    "id": "26EPN-aVp0BB"
   },
   "source": [
    "### Estados\n",
    "\n",
    "En redes recurrentes, se denominan estados a la información que la propia red envía de un paso temporal a otro. En el caso de las redes recurrentes simples, este estado además es el output de cada aplicación de la red, y es un vector que tiene tantas variables como unidades de la red."
   ]
  },
  {
   "cell_type": "markdown",
   "metadata": {
    "id": "AHiDGm5cqXRH"
   },
   "source": [
    "![rnn-default-keras.png](data:image/png;base64,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)"
   ]
  },
  {
   "cell_type": "markdown",
   "metadata": {
    "id": "OKM87H--m4nw"
   },
   "source": [
    "Vamos a crear una `SimpleRNN` de pruebas, y vamos a comprobar que su output se comporta como se espera.\n",
    "\n",
    "En este caso, la red iterará por las 3 palabras, y dará como resultado un output que tiene tantas dimensiones como unidades. Este output corresponde con el estado final de la red."
   ]
  },
  {
   "cell_type": "code",
   "execution_count": null,
   "metadata": {
    "colab": {
     "base_uri": "https://localhost:8080/"
    },
    "id": "GxW3_55WqhmG",
    "outputId": "28165c5e-2012-4741-cd74-e98952d392b1"
   },
   "outputs": [],
   "source": [
    "layer = SimpleRNN(4, input_shape=(3, 2))\n",
    "output = layer(x)\n",
    "output.shape"
   ]
  },
  {
   "cell_type": "code",
   "execution_count": null,
   "metadata": {
    "colab": {
     "base_uri": "https://localhost:8080/"
    },
    "id": "GErXLzRHsDcg",
    "outputId": "f9a3693c-b293-4b2c-d5e6-ee7a770648e7"
   },
   "outputs": [],
   "source": [
    "output.numpy()"
   ]
  },
  {
   "cell_type": "markdown",
   "metadata": {
    "id": "8el3iXoGnWOn"
   },
   "source": [
    "**Secuencias interntas**\n",
    "\n",
    "Sin embargo, la red emite outputs intermedios, que a priori no están reflejados en el output. Si nos interesa obtenerlos (para poder explorarlos, o para reutilizarlos en arquitecturas más complejas), keras nos da la opción de obtenerlos si marcamos el parámetro:\n",
    "\n",
    "```python\n",
    "return_sequences=True\n",
    "```\n",
    "\n",
    "En este caso, el output contendrá todos los outputs intermedios."
   ]
  },
  {
   "cell_type": "markdown",
   "metadata": {
    "id": "9CKkEAyrqW2t"
   },
   "source": [
    "![rnn-return-sequences.png](data:image/png;base64,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)"
   ]
  },
  {
   "cell_type": "code",
   "execution_count": null,
   "metadata": {
    "colab": {
     "base_uri": "https://localhost:8080/"
    },
    "id": "IbUF2xOLquWI",
    "outputId": "6193450e-d1cd-4119-b545-41286fb396ae"
   },
   "outputs": [],
   "source": [
    "layer = SimpleRNN(\n",
    "    4, input_shape=(3, 2), return_sequences=True)\n",
    "output = layer(x)\n",
    "print(output.shape)"
   ]
  },
  {
   "cell_type": "markdown",
   "metadata": {
    "id": "ERE9304-oI8V"
   },
   "source": [
    "Como podemos observar, hemos obtenido un output con la forma: `(n_timesteps, n_units)`."
   ]
  },
  {
   "cell_type": "code",
   "execution_count": null,
   "metadata": {
    "colab": {
     "base_uri": "https://localhost:8080/"
    },
    "id": "8dcxIRN3sNCv",
    "outputId": "8c4eff81-78d9-416e-83e4-f773d8aca45d"
   },
   "outputs": [],
   "source": [
    "output.numpy()"
   ]
  },
  {
   "cell_type": "markdown",
   "metadata": {
    "id": "TSRk36XeofBM"
   },
   "source": [
    "**Estados interntas**\n",
    "\n",
    "Del mismo modo, podemos obtener los estados internos finales de la red, con el parámetro \n",
    "\n",
    "```python\n",
    "return_state=True\n",
    "```\n",
    "\n",
    "En este caso, el output contendrá todos los outputs intermedios, y adicionalmente los estados internos de la red. Los estados internos cambiarán en función del tipo de unidades recurrentes quue estemos utilizando."
   ]
  },
  {
   "cell_type": "code",
   "execution_count": null,
   "metadata": {
    "colab": {
     "base_uri": "https://localhost:8080/"
    },
    "id": "CHiL1T6DrZGw",
    "outputId": "9843fbfc-0d06-465d-c80a-9f41ffc6d49e"
   },
   "outputs": [],
   "source": [
    "layer = SimpleRNN(\n",
    "    4, input_shape=(3, 2), return_sequences=True, return_state=True)\n",
    "sequence_output, final_state = layer(x)\n",
    "\n",
    "print(sequence_output.shape, final_state.shape)"
   ]
  },
  {
   "cell_type": "code",
   "execution_count": null,
   "metadata": {
    "colab": {
     "base_uri": "https://localhost:8080/"
    },
    "id": "DJVo1yVJsozo",
    "outputId": "70e3a35b-b62e-44be-989f-b9d5056f26ad"
   },
   "outputs": [],
   "source": [
    "sequence_output.numpy()"
   ]
  },
  {
   "cell_type": "markdown",
   "metadata": {
    "id": "Xeui5Vi_1lMa"
   },
   "source": [
    "En este caso (`SimpleRNN`) coincide con el último estado de la secuencia."
   ]
  },
  {
   "cell_type": "code",
   "execution_count": null,
   "metadata": {
    "colab": {
     "base_uri": "https://localhost:8080/"
    },
    "id": "9qES0ez-sspo",
    "outputId": "ce841c69-fe68-4161-b095-d591e3c7675d"
   },
   "outputs": [],
   "source": [
    "final_state.numpy()"
   ]
  },
  {
   "cell_type": "markdown",
   "metadata": {
    "id": "jVIPRVYvVbFt"
   },
   "source": [
    "### Pruebas\n",
    "\n",
    "Vamos a llevar a cabo algunas pruebas de entrenamiento para entender las dinámicas de este tipo de redes. En este punto no nos centraremos tanto en explorar el resultado de los entrenamientos, si no a las dinámicas internas de los modelos.\n",
    "\n",
    "Antes de comenzar con las pruebas, vamos a definir algunas funciones que nos serán de utilidad."
   ]
  },
  {
   "cell_type": "code",
   "execution_count": null,
   "metadata": {
    "id": "MOib2oeZFoGG"
   },
   "outputs": [],
   "source": [
    "def format_history(history):\n",
    "  \"\"\"\n",
    "  Cast keras history into a pandas DataFrame\n",
    "  \"\"\"\n",
    "  hist = pd.DataFrame(history.history)\n",
    "  rows = []\n",
    "  for epoch, record in enumerate(hist.to_dict(orient='records')):\n",
    "    for metric, value in record.items():\n",
    "      kind = 'train'\n",
    "      if 'val' in metric:\n",
    "        kind = 'validation'\n",
    "      metric = metric.replace('val_', '')\n",
    "      rows.append(\n",
    "          {\n",
    "            'epoch': epoch,\n",
    "            'kind': kind,\n",
    "            'metric': metric,\n",
    "            'value': value\n",
    "          }\n",
    "      )\n",
    "  return pd.DataFrame(rows)"
   ]
  },
  {
   "cell_type": "code",
   "execution_count": null,
   "metadata": {
    "id": "e2XqwrPyMLO1"
   },
   "outputs": [],
   "source": [
    "def plot_metrics(hist_df):\n",
    "  \"\"\"\n",
    "  This funcion plots a history DataFrame.\n",
    "  \"\"\"\n",
    "  pal = dict(validation=\"#6495ED\", train=\"#F08080\")\n",
    "  sns.relplot(\n",
    "      data=hist_df, x=\"epoch\", y=\"value\", col=\"metric\",\n",
    "      hue=\"kind\", style=\"kind\", kind=\"line\", palette=pal\n",
    "  )"
   ]
  },
  {
   "cell_type": "code",
   "execution_count": null,
   "metadata": {
    "id": "_SH9x74VKvFZ"
   },
   "outputs": [],
   "source": [
    "def plot_history(history):\n",
    "  \"\"\"\n",
    "  Plots keras history\n",
    "  \"\"\"\n",
    "  hist_df = format_history(history)\n",
    "  plot_metrics(hist_df)"
   ]
  },
  {
   "cell_type": "code",
   "execution_count": null,
   "metadata": {
    "id": "xWsTbtWbEaJv"
   },
   "outputs": [],
   "source": [
    "def plot_confusion_matrix(model, test_dataset):\n",
    "  \"\"\"\n",
    "  plots confusion matrix\n",
    "  \"\"\"\n",
    "  preds = model.predict(test_dataset)\n",
    "  true_labels = np.hstack([labels.numpy() for _, labels in test_dataset])\n",
    "  pred_labels = preds > 0\n",
    "  cm = confusion_matrix(true_labels, pred_labels)\n",
    "  ConfusionMatrixDisplay(\n",
    "      confusion_matrix=cm,\n",
    "      display_labels=['negative', 'positive']\n",
    "  ).plot(cmap='Purples')"
   ]
  },
  {
   "cell_type": "code",
   "execution_count": null,
   "metadata": {
    "id": "KKf702CKEfWx"
   },
   "outputs": [],
   "source": [
    "def get_metrics(model, test_dataset):\n",
    "  \"\"\"\n",
    "  Shows classification report\n",
    "  \"\"\"\n",
    "  preds = model.predict(test_dataset)\n",
    "  true_labels = np.hstack([labels.numpy() for _, labels in test_dataset])\n",
    "  pred_labels = preds > 0\n",
    "  print(classification_report(\n",
    "      true_labels, pred_labels, target_names=['negative', 'positive']))"
   ]
  },
  {
   "cell_type": "code",
   "execution_count": null,
   "metadata": {
    "id": "4hZEJh9bafo_"
   },
   "outputs": [],
   "source": [
    "def get_gradient_overview(model, sample, n=5):\n",
    "  \"\"\"\n",
    "  computes gradients and show them\n",
    "  \"\"\"\n",
    "  x, y = list(sample)[0]\n",
    "  with tf.GradientTape(persistent=True) as tape:\n",
    "    y_pred = model(batch, training=True)\n",
    "    loss = tf.keras.losses.BinaryCrossentropy(from_logits=True)(y, y_pred)\n",
    "  grads = tape.gradient(loss, model.trainable_weights)\n",
    "  for grad in grads[:n]:\n",
    "    print(grad.shape)\n",
    "    print(tf.reduce_mean(grad))\n",
    "    try:\n",
    "      grads = grad.values.numpy().flatten()\n",
    "    except AttributeError:\n",
    "      grads = grad.numpy().flatten()\n",
    "    pd.DataFrame(grads).plot.hist(bins=20)\n",
    "    print()"
   ]
  },
  {
   "cell_type": "markdown",
   "metadata": {
    "id": "cbhBZgCirAEm"
   },
   "source": [
    "También vamos a definir un par de callbacks de keras que serán de utilidad durante los entrenamientos."
   ]
  },
  {
   "cell_type": "code",
   "execution_count": null,
   "metadata": {
    "id": "TarK9CE_F2mC"
   },
   "outputs": [],
   "source": [
    "early_stopping_cb = EarlyStopping(\n",
    "    monitor='val_loss',\n",
    "    mode='min',\n",
    "    patience=3,\n",
    "    min_delta=0.001\n",
    ")"
   ]
  },
  {
   "cell_type": "code",
   "execution_count": null,
   "metadata": {
    "id": "0xYc9GJkF637"
   },
   "outputs": [],
   "source": [
    "learning_rate_cb = ReduceLROnPlateau(\n",
    "    monitor='val_loss',\n",
    "    factor=0.1,\n",
    "    patience=2,\n",
    "    min_lr=0.0001\n",
    ")"
   ]
  },
  {
   "cell_type": "markdown",
   "metadata": {
    "id": "gdAwbJtNcGko"
   },
   "source": [
    "#### Prueba 1: primer entrenamiento\n",
    "\n",
    "En esta prueba simplemente vamos a llevar a cabo un primer entrenamiento. Para ello definimos un Embedding y una única unidad de tipo `SimpleRNN`."
   ]
  },
  {
   "cell_type": "code",
   "execution_count": null,
   "metadata": {
    "id": "mK0DY8iqcJCB"
   },
   "outputs": [],
   "source": [
    "reset_session()"
   ]
  },
  {
   "cell_type": "code",
   "execution_count": null,
   "metadata": {
    "id": "O3kuRA8dcI4t"
   },
   "outputs": [],
   "source": [
    "inputs1 = layers.Input(\n",
    "    shape=(MAX_SEQUENCE_LENGTH)) # No ponemos el batch_size. (32, 250) fallaría\n",
    "emb = tf.keras.layers.Embedding(\n",
    "    input_dim=VOCAB_SIZE, output_dim=EMBEDDING_DIM)(inputs1)\n",
    "rnn = SimpleRNN(\n",
    "    1)(emb)\n",
    "model = tf.keras.Model(inputs=inputs1, outputs=rnn)"
   ]
  },
  {
   "cell_type": "code",
   "execution_count": null,
   "metadata": {
    "colab": {
     "base_uri": "https://localhost:8080/"
    },
    "id": "EnYVCs7PcIvH",
    "outputId": "62a4e050-c18b-4de0-ec54-08074c455d69"
   },
   "outputs": [],
   "source": [
    "model.summary()"
   ]
  },
  {
   "cell_type": "code",
   "execution_count": null,
   "metadata": {
    "id": "XNZfLbCncIlS"
   },
   "outputs": [],
   "source": [
    "model.compile(loss=tf.keras.losses.BinaryCrossentropy(from_logits=True),\n",
    "              optimizer=tf.keras.optimizers.Adam(1e-3),\n",
    "              metrics=['accuracy'])"
   ]
  },
  {
   "cell_type": "markdown",
   "metadata": {
    "id": "WGXK4ngStI3P"
   },
   "source": [
    "Dado que estamos haciendo pruebas para entender el funcionamiento interno de la red, vamos  autilizar el dataset de test como validación, por contar con más muestras."
   ]
  },
  {
   "cell_type": "code",
   "execution_count": null,
   "metadata": {
    "colab": {
     "base_uri": "https://localhost:8080/"
    },
    "id": "seB5NGdFcbax",
    "outputId": "64cafa6b-4ce1-4232-c880-b73e641e6525"
   },
   "outputs": [],
   "source": [
    "%%time\n",
    "history = model.fit(seq_train_ds, epochs=10,\n",
    "                    validation_data=seq_test_ds,\n",
    "                    batch_size=BATCH_SIZE,\n",
    "                    verbose=1)"
   ]
  },
  {
   "cell_type": "code",
   "execution_count": null,
   "metadata": {
    "colab": {
     "base_uri": "https://localhost:8080/",
     "height": 365
    },
    "id": "7pvoddZWckOU",
    "outputId": "4f05d24e-c6b2-4b41-fd81-dbed97d656f0"
   },
   "outputs": [],
   "source": [
    "plot_history(history)"
   ]
  },
  {
   "cell_type": "markdown",
   "metadata": {
    "id": "E9egaTgasyNS"
   },
   "source": [
    "Como podemos observar, aunque en el dataset de train el entrenamiento avanza, en el conjunto de test apenas ha habido ningún cambio. Esto suele indicar un problema claro de overfitting, sin embargo, dado que el modelo es sencillo, y que ejecutando este experimento la variabilidad de los resultados ha sido alta, esto nos hace sospechar también de problemas con la inicialización.\n",
    "\n",
    "Para paliar esto, además de incluir funciones de regularización, vamos a explorar la manera en la que se inicializan los pesos."
   ]
  },
  {
   "cell_type": "markdown",
   "metadata": {
    "id": "0TXj4_NPkuSZ"
   },
   "source": [
    "#### Prueba 2: Inicialización\n",
    "\n",
    "Com se indicaba en la conclusión de la prueba anterior, vamos a explorar los inicializadores de pesos, además de incluir cierta regularización para intentar desbloquear los entrenamientos."
   ]
  },
  {
   "cell_type": "code",
   "execution_count": null,
   "metadata": {
    "id": "FteaWgRfWLxZ"
   },
   "outputs": [],
   "source": [
    "reset_session()"
   ]
  },
  {
   "cell_type": "markdown",
   "metadata": {
    "id": "gJoLQHAQ2n9n"
   },
   "source": [
    "Vamos a hacer una red de 1 unidad, por lo que no hace falta capa densa."
   ]
  },
  {
   "cell_type": "markdown",
   "metadata": {
    "id": "YfkjAP1EYhQt"
   },
   "source": [
    "##### Initializers\n",
    "\n",
    "A continuación exploramos algunos inicializadores de pesos de los que disponemos en keras. Por defecto, en estas librerías se suelen utilizar algunos inicializadores complejos, y es importante entenderlos."
   ]
  },
  {
   "cell_type": "markdown",
   "metadata": {
    "id": "A0KCsUwyuM5D"
   },
   "source": [
    "###### HE\n",
    "\n",
    "Este tipo de funciones de suelen tener en cuenta el tamaño de la muestra a generar. Como podemos observar a continuación, cuanto menor es el tamaño de la muestra de pesos, mayor es la variabilidad.\n",
    "\n",
    "Por tanto, para redes con pocos pesos es fácil obtener comportamientos muy variables y dar lugar a entrenamientos que se quedan atascados, dado que las funciones de activación suelen estar centradas en el cero."
   ]
  },
  {
   "cell_type": "code",
   "execution_count": null,
   "metadata": {
    "colab": {
     "base_uri": "https://localhost:8080/",
     "height": 394
    },
    "id": "BOvtBqTSYmgp",
    "outputId": "b0a0ea9f-1773-425b-df35-d2315fa6388e"
   },
   "outputs": [],
   "source": [
    "initializer = tf.keras.initializers.HeUniform()\n",
    "pd.DataFrame(initializer(shape=(10,))).plot.hist(bins=10)"
   ]
  },
  {
   "cell_type": "code",
   "execution_count": null,
   "metadata": {
    "colab": {
     "base_uri": "https://localhost:8080/",
     "height": 394
    },
    "id": "ImMyY185Zmcw",
    "outputId": "ee1c77f1-2c24-4e40-c540-01e52861cc0f"
   },
   "outputs": [],
   "source": [
    "# cuando más, menor rango\n",
    "initializer = tf.keras.initializers.HeUniform()\n",
    "pd.DataFrame(initializer(shape=(10000,))).plot.hist(bins=100)"
   ]
  },
  {
   "cell_type": "code",
   "execution_count": null,
   "metadata": {
    "colab": {
     "base_uri": "https://localhost:8080/",
     "height": 394
    },
    "id": "YgJn44QNYmFy",
    "outputId": "c1823062-16ba-42c1-c5b9-1e605875020e"
   },
   "outputs": [],
   "source": [
    "initializer = tf.keras.initializers.HeNormal()\n",
    "pd.DataFrame(initializer(shape=(10,))).plot.hist(bins=10)"
   ]
  },
  {
   "cell_type": "code",
   "execution_count": null,
   "metadata": {
    "colab": {
     "base_uri": "https://localhost:8080/",
     "height": 394
    },
    "id": "tIwTsfNGYmC3",
    "outputId": "4edbb5f0-e045-4f36-dc88-b98c7571b448"
   },
   "outputs": [],
   "source": [
    "initializer = tf.keras.initializers.HeNormal()\n",
    "pd.DataFrame(initializer(shape=(10000,))).plot.hist(bins=100)"
   ]
  },
  {
   "cell_type": "markdown",
   "metadata": {
    "id": "Hnw5fzxouQ-B"
   },
   "source": [
    "###### Glorot\n",
    "\n",
    "En este tipo de funciones se repite el mismo comportamiento."
   ]
  },
  {
   "cell_type": "code",
   "execution_count": null,
   "metadata": {
    "colab": {
     "base_uri": "https://localhost:8080/",
     "height": 394
    },
    "id": "y_AbJdZPaApQ",
    "outputId": "19b21e68-0c3e-4239-971d-c29fb9ced49c"
   },
   "outputs": [],
   "source": [
    "initializer = tf.keras.initializers.GlorotNormal()\n",
    "pd.DataFrame(initializer(shape=(10,))).plot.hist(bins=10)"
   ]
  },
  {
   "cell_type": "code",
   "execution_count": null,
   "metadata": {
    "colab": {
     "base_uri": "https://localhost:8080/",
     "height": 395
    },
    "id": "GjNkuQAgY9yi",
    "outputId": "ff439b82-7a91-4d4e-ccee-e248501b9744"
   },
   "outputs": [],
   "source": [
    "initializer = tf.keras.initializers.GlorotNormal()\n",
    "pd.DataFrame(initializer(shape=(10000,))).plot.hist(bins=100)"
   ]
  },
  {
   "cell_type": "markdown",
   "metadata": {
    "id": "IGqHY1fNuU8P"
   },
   "source": [
    "###### Orthogonal\n",
    "\n",
    "En este tipo de funciones se persigue que la muestra generada represente una base ortogonal en un espacio vectorial asociado, y como podemos ver, también tiene un comportamiento similar a los casos anteriores."
   ]
  },
  {
   "cell_type": "code",
   "execution_count": null,
   "metadata": {
    "colab": {
     "base_uri": "https://localhost:8080/",
     "height": 394
    },
    "id": "rmuJoLhxnKZb",
    "outputId": "a23a1749-b230-450f-f89d-216a5879dab3"
   },
   "outputs": [],
   "source": [
    "# Standalone usage:\n",
    "initializer = tf.keras.initializers.Orthogonal()\n",
    "pd.DataFrame(initializer(shape=(1, 10)).numpy().flatten()).plot.hist(bins=10)"
   ]
  },
  {
   "cell_type": "code",
   "execution_count": null,
   "metadata": {
    "colab": {
     "base_uri": "https://localhost:8080/",
     "height": 394
    },
    "id": "sFM_JeFWn09B",
    "outputId": "b6f87d11-0056-4ed0-b7f1-6fc6bf82648c"
   },
   "outputs": [],
   "source": [
    "initializer = tf.keras.initializers.Orthogonal()\n",
    "pd.DataFrame(initializer(shape=(1, 1000)).numpy().flatten()).plot.hist(bins=100)"
   ]
  },
  {
   "cell_type": "markdown",
   "metadata": {
    "id": "gPMnu_KSuYte"
   },
   "source": [
    "###### LeCun\n",
    "\n",
    "En este caso volvemos a tener un comportamiento similar. No vamos a reproducir varios experimentos. Simplemente vamos a generar una distribución \"normal\" para ver cómo queda su forma."
   ]
  },
  {
   "cell_type": "code",
   "execution_count": null,
   "metadata": {
    "colab": {
     "base_uri": "https://localhost:8080/",
     "height": 394
    },
    "id": "5J4Lw8rJY9lk",
    "outputId": "8824d70e-6bec-44d4-8078-e421d82a548c"
   },
   "outputs": [],
   "source": [
    "initializer = tf.keras.initializers.LecunNormal()\n",
    "pd.DataFrame(initializer(shape=(10000,))).plot.hist(bins=100)"
   ]
  },
  {
   "cell_type": "markdown",
   "metadata": {
    "id": "wJDW6Tn5udNu"
   },
   "source": [
    "###### Básicos\n",
    "\n",
    "Llegado a este punto, para redes muy pequeñas, una opción sensata parece ser utilizar los generadores básicas (truncados o no), en los que podemos controlar la variabilidad de la muestra de manera sencilla."
   ]
  },
  {
   "cell_type": "code",
   "execution_count": null,
   "metadata": {
    "colab": {
     "base_uri": "https://localhost:8080/",
     "height": 394
    },
    "id": "mj2cO8QKc-0W",
    "outputId": "13f7d5ba-d49b-4adf-c20c-5f2427a9e15c"
   },
   "outputs": [],
   "source": [
    "initializer = tf.keras.initializers.RandomNormal(mean=0.0, stddev=0.05)\n",
    "pd.DataFrame(initializer(shape=(10000,))).plot.hist(bins=100)"
   ]
  },
  {
   "cell_type": "code",
   "execution_count": null,
   "metadata": {
    "colab": {
     "base_uri": "https://localhost:8080/",
     "height": 394
    },
    "id": "71XGE_NzxDwi",
    "outputId": "bb4d71de-ee46-413c-f902-3d7704102793"
   },
   "outputs": [],
   "source": [
    "initializer = tf.keras.initializers.RandomNormal(mean=0.0, stddev=0.05)\n",
    "pd.DataFrame(initializer(shape=(10,))).plot.hist(bins=10)"
   ]
  },
  {
   "cell_type": "code",
   "execution_count": null,
   "metadata": {
    "colab": {
     "base_uri": "https://localhost:8080/",
     "height": 394
    },
    "id": "ptn_wl04c-hA",
    "outputId": "44201eac-548c-49ff-b9d4-201985808665"
   },
   "outputs": [],
   "source": [
    "initializer = tf.keras.initializers.TruncatedNormal(mean=0.0, stddev=0.05)\n",
    "pd.DataFrame(initializer(shape=(10000,))).plot.hist(bins=100)"
   ]
  },
  {
   "cell_type": "markdown",
   "metadata": {
    "id": "lsbN4eqOaWLI"
   },
   "source": [
    "Con valores tan pequeños, normal y uniforme dan un poco igual"
   ]
  },
  {
   "cell_type": "markdown",
   "metadata": {
    "id": "0_ECe6adxLEN"
   },
   "source": [
    "##### Segundo entrenamiento\n",
    "\n",
    "Vamos a ver qué ocurre si controlamos la generación de pesos inicial y aplicamos regularización."
   ]
  },
  {
   "cell_type": "code",
   "execution_count": null,
   "metadata": {
    "id": "Gwy-nYdua5Gy"
   },
   "outputs": [],
   "source": [
    "reset_session()"
   ]
  },
  {
   "cell_type": "code",
   "execution_count": null,
   "metadata": {
    "id": "VPHPh1_mleOI"
   },
   "outputs": [],
   "source": [
    "inputs1 = layers.Input(\n",
    "    shape=(MAX_SEQUENCE_LENGTH)) \n",
    "emb = tf.keras.layers.Embedding(\n",
    "    input_dim=VOCAB_SIZE, output_dim=EMBEDDING_DIM)(inputs1)\n",
    "rnn = SimpleRNN(\n",
    "    1,\n",
    "    kernel_initializer=tf.keras.initializers.TruncatedNormal(mean=0.0, stddev=0.05, seed=73),#HeNormal(seed=73),\n",
    "    recurrent_initializer=tf.keras.initializers.HeUniform(seed=73),\n",
    "    bias_initializer=tf.keras.initializers.GlorotNormal(seed=73),\n",
    "    kernel_regularizer=tf.keras.regularizers.L2()\n",
    "    )(emb)\n",
    "model = tf.keras.Model(inputs=inputs1, outputs=rnn)"
   ]
  },
  {
   "cell_type": "code",
   "execution_count": null,
   "metadata": {
    "colab": {
     "base_uri": "https://localhost:8080/"
    },
    "id": "Y45auvLJm72z",
    "outputId": "8bbbcdab-7783-4e3b-f3a5-648c2217499c"
   },
   "outputs": [],
   "source": [
    "model.summary()"
   ]
  },
  {
   "cell_type": "code",
   "execution_count": null,
   "metadata": {
    "id": "5BpA2XB9lFiY"
   },
   "outputs": [],
   "source": [
    "model.compile(loss=tf.keras.losses.BinaryCrossentropy(from_logits=True),\n",
    "              optimizer=tf.keras.optimizers.Adam(1e-3),\n",
    "              metrics=['accuracy'])"
   ]
  },
  {
   "cell_type": "code",
   "execution_count": null,
   "metadata": {
    "colab": {
     "base_uri": "https://localhost:8080/"
    },
    "id": "JFMYG2Io4DSh",
    "outputId": "910996e4-5636-4b31-927d-4858a10944de"
   },
   "outputs": [],
   "source": [
    "%%time\n",
    "history = model.fit(seq_train_ds, epochs=5,\n",
    "                    validation_data=seq_test_ds,\n",
    "                    batch_size=BATCH_SIZE,\n",
    "                    verbose=1)"
   ]
  },
  {
   "cell_type": "code",
   "execution_count": null,
   "metadata": {
    "colab": {
     "base_uri": "https://localhost:8080/",
     "height": 365
    },
    "id": "EXwKmpqwN1Yl",
    "outputId": "5ffeae09-cf67-4c61-e860-5ba13ccebb44"
   },
   "outputs": [],
   "source": [
    "plot_history(history)"
   ]
  },
  {
   "cell_type": "markdown",
   "metadata": {
    "id": "WaIMf_YRxqxv"
   },
   "source": [
    "Como podemos observar, únicamente conteniendo la variabilidad de la matriz de pesos del kernel y forzando la regularización, el entrenamiento comienza a avanzar en el conjunto de test."
   ]
  },
  {
   "cell_type": "markdown",
   "metadata": {
    "id": "xdiBsR3mx7-g"
   },
   "source": [
    "##### Exploración de la red\n",
    "\n",
    "Vamos a revisar los aspectos internos de la red para entender mejor lo que ocurre.\n",
    "\n",
    "En primer lugar, vamos a revisar cómo han quedado las matrices de pesos, y la magnitud de sus valores."
   ]
  },
  {
   "cell_type": "code",
   "execution_count": null,
   "metadata": {
    "colab": {
     "base_uri": "https://localhost:8080/"
    },
    "id": "rBH18vM5Wl1l",
    "outputId": "76100380-bc2f-4134-9aab-e4cc674a6e33"
   },
   "outputs": [],
   "source": [
    "for w, name in zip(model.layers[2].weights, [\"W_x\", \"W_h\", \"b\"]):\n",
    "  print(name, '\\n---')\n",
    "  print(w.numpy().flatten()[:10])\n",
    "  print()"
   ]
  },
  {
   "cell_type": "markdown",
   "metadata": {
    "id": "HyKpaijF4C8O"
   },
   "source": [
    "Para poder entender bien cómo funcionan estos pesos, vamos a generar una red que genere outputs intermedios, y vamos a cargar los pesos del entrenamiento que acabamos de realizar, para ver cómo varían los outputs intermedios a lo largo de las frases analizadas por la red."
   ]
  },
  {
   "cell_type": "code",
   "execution_count": null,
   "metadata": {
    "id": "0uKPJk28yCOI"
   },
   "outputs": [],
   "source": [
    "emb_weights = model.layers[1].get_weights()"
   ]
  },
  {
   "cell_type": "code",
   "execution_count": null,
   "metadata": {
    "id": "Qhi6G2hzyTbl"
   },
   "outputs": [],
   "source": [
    "rnn_weights = model.layers[2].get_weights()"
   ]
  },
  {
   "cell_type": "code",
   "execution_count": null,
   "metadata": {
    "id": "u_WT2gUly4aB"
   },
   "outputs": [],
   "source": [
    "inputs1 = tf.keras.layers.Input(shape=(MAX_SEQUENCE_LENGTH)) # No ponemos el batch_size. 32, 250 fallaría\n",
    "emb = tf.keras.layers.Embedding(\n",
    "    input_dim=VOCAB_SIZE, output_dim=EMBEDDING_DIM)(inputs1)\n",
    "rnn = SimpleRNN(1, return_sequences=True)(emb)\n",
    "model = tf.keras.Model(inputs=inputs1, outputs=rnn)"
   ]
  },
  {
   "cell_type": "code",
   "execution_count": null,
   "metadata": {
    "id": "EA_FAzdwy-Oh"
   },
   "outputs": [],
   "source": [
    "model.layers[1].set_weights(emb_weights)"
   ]
  },
  {
   "cell_type": "code",
   "execution_count": null,
   "metadata": {
    "id": "1cBkrEL_y9pt"
   },
   "outputs": [],
   "source": [
    "model.layers[2].set_weights(rnn_weights)"
   ]
  },
  {
   "cell_type": "code",
   "execution_count": null,
   "metadata": {
    "id": "vaQ8xfhbzhxT"
   },
   "outputs": [],
   "source": [
    "batch = list(seq_train_ds)[0][0]"
   ]
  },
  {
   "cell_type": "code",
   "execution_count": null,
   "metadata": {
    "colab": {
     "base_uri": "https://localhost:8080/"
    },
    "id": "FV56K3Ndy9Up",
    "outputId": "40f7636e-2b7b-47b3-8b10-b02a09284bd9"
   },
   "outputs": [],
   "source": [
    "preds = model.predict(batch)"
   ]
  },
  {
   "cell_type": "markdown",
   "metadata": {
    "id": "ZVBplZqgyzN2"
   },
   "source": [
    "Una vez montada la nueva red, vamos a explorar cómo responde antes distintas frases del conjunto de entrenamiento:"
   ]
  },
  {
   "cell_type": "code",
   "execution_count": null,
   "metadata": {
    "colab": {
     "base_uri": "https://localhost:8080/",
     "height": 451
    },
    "id": "vYwYik7vhlXY",
    "outputId": "b0053c36-ed05-452d-f7ca-c086eb6a2415"
   },
   "outputs": [],
   "source": [
    "n = 5\n",
    "x = preds[n].flatten()\n",
    "words = [seq_vectorize_layer.get_vocabulary()[word_index] for word_index in batch[n].numpy()]\n",
    "plt.figure(figsize=(12,6))\n",
    "plt.xticks(range(MAX_SEQUENCE_LENGTH), words, rotation=75)\n",
    "plt.plot(x)"
   ]
  },
  {
   "cell_type": "markdown",
   "metadata": {
    "id": "PCfGUeEQzPCF"
   },
   "source": [
    "Como podemos observar, la red comienza a mostrar comporamientos con cierto sentido. En este caso, palabras como `lazy` o `crummy` hacen que la red mueva la clasificación claramente hacia polaridades negativas, mientras que ante secuencias como `best scene` tiene el comportamiento opuesto. "
   ]
  },
  {
   "cell_type": "code",
   "execution_count": null,
   "metadata": {
    "colab": {
     "base_uri": "https://localhost:8080/",
     "height": 448
    },
    "id": "EpFCOPam6Ii9",
    "outputId": "8f0ad8fa-1ab2-4425-c52e-c5da534eff7f"
   },
   "outputs": [],
   "source": [
    "n = 6\n",
    "x = preds[n].flatten()\n",
    "words = [seq_vectorize_layer.get_vocabulary()[word_index] for word_index in batch[n].numpy()]\n",
    "plt.figure(figsize=(12,6))\n",
    "plt.xticks(range(MAX_SEQUENCE_LENGTH), words, rotation=75)\n",
    "plt.plot(x)"
   ]
  },
  {
   "cell_type": "markdown",
   "metadata": {
    "id": "bt2_zUWN0How"
   },
   "source": [
    "En este caso vemos como la secuencia es en general positiva, hasta que aparece `viewed glass claim bad` hace que la red cambie completamente la polaridad de la frase."
   ]
  },
  {
   "cell_type": "code",
   "execution_count": null,
   "metadata": {
    "colab": {
     "base_uri": "https://localhost:8080/",
     "height": 462
    },
    "id": "aDsSZ8jA13B-",
    "outputId": "1522c34c-72aa-419b-c02f-d9e8715fcdb5"
   },
   "outputs": [],
   "source": [
    "n = 9\n",
    "x = preds[n].flatten()\n",
    "words = [seq_vectorize_layer.get_vocabulary()[word_index] for word_index in batch[n].numpy()]\n",
    "plt.figure(figsize=(12,6))\n",
    "plt.xticks(range(MAX_SEQUENCE_LENGTH), words, rotation=75)\n",
    "plt.plot(x)"
   ]
  },
  {
   "cell_type": "markdown",
   "metadata": {
    "id": "BRjLoz0U1aAl"
   },
   "source": [
    "En este caso podemos observar algo similar, al encontrar la secuencia `making got painful drawn prettig boring attempt`."
   ]
  },
  {
   "cell_type": "markdown",
   "metadata": {
    "id": "cyMoNp49OhcQ"
   },
   "source": [
    "#### Prueba 3: Incremento en el número de unidades.\n",
    "\n",
    "A continuación vamos a ver qué ocurre cuando incrementamos el número de unidades recurrentes de la red."
   ]
  },
  {
   "cell_type": "code",
   "execution_count": null,
   "metadata": {
    "id": "5t2c3f3Jom27"
   },
   "outputs": [],
   "source": [
    "reset_session()"
   ]
  },
  {
   "cell_type": "code",
   "execution_count": null,
   "metadata": {
    "id": "2i7Ow8o-OgIA"
   },
   "outputs": [],
   "source": [
    "inputs1 = tf.keras.layers.Input(shape=(MAX_SEQUENCE_LENGTH))\n",
    "emb = tf.keras.layers.Embedding(\n",
    "    input_dim=VOCAB_SIZE, output_dim=EMBEDDING_DIM)(inputs1)\n",
    "rnn = SimpleRNN(\n",
    "    4,\n",
    "    kernel_initializer=tf.keras.initializers.TruncatedNormal(mean=0.0, stddev=0.05, seed=73),\n",
    "    recurrent_initializer=tf.keras.initializers.RandomUniform(\n",
    "        minval=-0.05, maxval=0.05, seed=73\n",
    "    ),#tf.keras.initializers.TruncatedNormal(mean=0.0, stddev=0.05, seed=73),#HeUniform(seed=73),\n",
    "    bias_initializer=tf.keras.initializers.GlorotNormal(seed=73),\n",
    "    kernel_regularizer=tf.keras.regularizers.L2()\n",
    "    )(emb)\n",
    "dense = tf.keras.layers.Dense(1)(rnn)\n",
    "model = tf.keras.Model(inputs=inputs1, outputs=dense)"
   ]
  },
  {
   "cell_type": "code",
   "execution_count": null,
   "metadata": {
    "colab": {
     "base_uri": "https://localhost:8080/"
    },
    "id": "NCEYAGBwO7Ym",
    "outputId": "f8bfda79-5238-4303-f228-90c077649af0"
   },
   "outputs": [],
   "source": [
    "model.summary()"
   ]
  },
  {
   "cell_type": "code",
   "execution_count": null,
   "metadata": {
    "id": "rQIUurhkO3Y-"
   },
   "outputs": [],
   "source": [
    "model.compile(loss=tf.keras.losses.BinaryCrossentropy(from_logits=True),\n",
    "              optimizer=tf.keras.optimizers.Adam(1e-3),\n",
    "              metrics=['accuracy'])"
   ]
  },
  {
   "cell_type": "code",
   "execution_count": null,
   "metadata": {
    "colab": {
     "base_uri": "https://localhost:8080/"
    },
    "id": "UPeZr6bOO3WJ",
    "outputId": "c65718cb-446c-4a3b-dfdb-763afa02bb63"
   },
   "outputs": [],
   "source": [
    "history = model.fit(seq_train_ds, epochs=5,\n",
    "                    validation_data=seq_validation_ds,\n",
    "                    batch_size=BATCH_SIZE)"
   ]
  },
  {
   "cell_type": "code",
   "execution_count": null,
   "metadata": {
    "colab": {
     "base_uri": "https://localhost:8080/",
     "height": 365
    },
    "id": "c1H0YFILqW9P",
    "outputId": "466eaf8c-7270-403e-e33a-1973c154c887"
   },
   "outputs": [],
   "source": [
    "plot_history(history)"
   ]
  },
  {
   "cell_type": "markdown",
   "metadata": {
    "id": "TKZN7oQS2q2L"
   },
   "source": [
    "##### Exploración de la red\n",
    "\n",
    "Vamos a realizar el mismo ejercicio del apartado anterior, y ver cómo colaboran las diferentes unidades."
   ]
  },
  {
   "cell_type": "code",
   "execution_count": null,
   "metadata": {
    "id": "iBTn4n7UO3Kk"
   },
   "outputs": [],
   "source": [
    "emb_weights = model.layers[1].get_weights()\n",
    "rnn_weights = model.layers[2].get_weights()\n",
    "dense_weights = model.layers[3].get_weights()"
   ]
  },
  {
   "cell_type": "code",
   "execution_count": null,
   "metadata": {
    "id": "qG_NnpsvK78N"
   },
   "outputs": [],
   "source": [
    "inputs1 = tf.keras.layers.Input(shape=(MAX_SEQUENCE_LENGTH)) # No ponemos el batch_size. 32, 250 fallaría\n",
    "emb = tf.keras.layers.Embedding(\n",
    "    input_dim=VOCAB_SIZE, output_dim=EMBEDDING_DIM)(inputs1)\n",
    "rnn = SimpleRNN(4, return_sequences=True)(emb)\n",
    "dense = tf.keras.layers.Dense(1)(rnn)\n",
    "model = tf.keras.Model(inputs=inputs1, outputs=rnn) #rnn para tener sus outputs"
   ]
  },
  {
   "cell_type": "code",
   "execution_count": null,
   "metadata": {
    "id": "UfNgePocK76E"
   },
   "outputs": [],
   "source": [
    "model.layers[1].set_weights(emb_weights)\n",
    "model.layers[2].set_weights(rnn_weights)\n",
    "#model.layers[3].set_weights(dense_weights)"
   ]
  },
  {
   "cell_type": "code",
   "execution_count": null,
   "metadata": {
    "id": "CAY9DZzfzDe8"
   },
   "outputs": [],
   "source": [
    "batch = list(seq_train_ds)[0][0]"
   ]
  },
  {
   "cell_type": "code",
   "execution_count": null,
   "metadata": {
    "colab": {
     "base_uri": "https://localhost:8080/"
    },
    "id": "j9HBary5K70l",
    "outputId": "3e99cb1b-1d34-4f52-e949-cb84e197f19d"
   },
   "outputs": [],
   "source": [
    "preds = model.predict(batch)"
   ]
  },
  {
   "cell_type": "code",
   "execution_count": null,
   "metadata": {
    "colab": {
     "base_uri": "https://localhost:8080/",
     "height": 521
    },
    "id": "1PhruuFiLYF_",
    "outputId": "f7ce8eb8-4231-400a-acac-7cc0808f3ac4"
   },
   "outputs": [],
   "source": [
    "n = 5\n",
    "x = preds[n].flatten()\n",
    "words = [seq_vectorize_layer.get_vocabulary()[word_index] for word_index in batch[n].numpy()]\n",
    "for i, w in enumerate(dense_weights[0]):\n",
    "  print(f'unit-{i+1} weight:', w[0])\n",
    "\n",
    "plt.figure(figsize=(12,6))\n",
    "plt.xticks(range(MAX_SEQUENCE_LENGTH), words, rotation=75)\n",
    "plt.plot(preds[n][:,0], label=\"unit-1\")\n",
    "plt.plot(preds[n][:,1], label=\"unit-2\")\n",
    "plt.plot(preds[n][:,2], label=\"unit-3\")\n",
    "plt.plot(preds[n][:,3], label=\"unit-4\")\n",
    "plt.legend(loc=\"upper left\")"
   ]
  },
  {
   "cell_type": "markdown",
   "metadata": {
    "id": "AQ87RMgB3CMt"
   },
   "source": [
    "Podemos observar como las 4 unidades tienen comportamientos muy similares. De hecho, la unidad 2, que es la que tiene un comportamiento un poco distinto, en realidad tiene un comportamiento opuesto, pero si observamos el peso que se asicia a esa unidad en la capa densa del final, este es negativo. Por lo tanto, todas las unidades se comportan de manera muy similar.\n",
    "\n",
    "Esto nos indica, que la ganancia al añadir nuevas unidades no será muy grande. Al menos, la precisión no crecerá de manera lineal con el número de unidades ya desde un bajo número de unidades."
   ]
  },
  {
   "cell_type": "code",
   "execution_count": null,
   "metadata": {
    "colab": {
     "base_uri": "https://localhost:8080/",
     "height": 517
    },
    "id": "m-sS8riALWv3",
    "outputId": "57bb644b-de6c-41cd-f783-0a543c6bb7c9"
   },
   "outputs": [],
   "source": [
    "n = 8\n",
    "x = preds[n].flatten()\n",
    "words = [seq_vectorize_layer.get_vocabulary()[word_index] for word_index in batch[n].numpy()]\n",
    "for i, w in enumerate(dense_weights[0]):\n",
    "  print(f'unit-{i+1} weight:', w[0])\n",
    "\n",
    "plt.figure(figsize=(12,6))\n",
    "plt.xticks(range(MAX_SEQUENCE_LENGTH), words, rotation=75)\n",
    "plt.plot(preds[n][:,0], label=\"unit-1\")\n",
    "plt.plot(preds[n][:,1], label=\"unit-2\")\n",
    "plt.plot(preds[n][:,2], label=\"unit-3\")\n",
    "plt.plot(preds[n][:,3], label=\"unit-4\")\n",
    "plt.legend(loc=\"upper left\")"
   ]
  },
  {
   "cell_type": "markdown",
   "metadata": {
    "id": "t2PzEgD03tLM"
   },
   "source": [
    "Ocurre lo mismo en este ejemplo. Podemo sobservar como el comportamiento de todas ante la palabra `fascinating` cambia drásticamente."
   ]
  },
  {
   "cell_type": "markdown",
   "metadata": {
    "id": "YrRLH-Labaai"
   },
   "source": [
    "#### Prueba 4: Arquitectura bidireccional\n",
    "\n",
    "En esta prueba vamos a ver qué ocurre si, sobre las pruebas anteriores, modificamos la arquitectura para que sea bidireccional."
   ]
  },
  {
   "cell_type": "code",
   "execution_count": null,
   "metadata": {
    "id": "sWRCEylqbaai"
   },
   "outputs": [],
   "source": [
    "reset_session()"
   ]
  },
  {
   "cell_type": "code",
   "execution_count": null,
   "metadata": {
    "id": "pKP7MwlLbaai"
   },
   "outputs": [],
   "source": [
    "inputs1 = tf.keras.layers.Input(shape=(MAX_SEQUENCE_LENGTH)) # No ponemos el batch_size. 32, 250 fallaría\n",
    "emb = tf.keras.layers.Embedding(\n",
    "    input_dim=VOCAB_SIZE, output_dim=EMBEDDING_DIM)(inputs1)\n",
    "rnn = tf.keras.layers.Bidirectional(SimpleRNN(\n",
    "    4,\n",
    "    kernel_initializer=tf.keras.initializers.TruncatedNormal(mean=0.0, stddev=0.05, seed=73),#HeNormal(seed=73),\n",
    "    recurrent_initializer=tf.keras.initializers.RandomUniform(\n",
    "        minval=-0.05, maxval=0.05, seed=73\n",
    "    ),#tf.keras.initializers.TruncatedNormal(mean=0.0, stddev=0.05, seed=73),#HeUniform(seed=73),\n",
    "    bias_initializer=tf.keras.initializers.GlorotNormal(seed=73),\n",
    "    kernel_regularizer=tf.keras.regularizers.L2()\n",
    "    ))(emb)\n",
    "dense = tf.keras.layers.Dense(1)(rnn)\n",
    "model = tf.keras.Model(inputs=inputs1, outputs=dense)"
   ]
  },
  {
   "cell_type": "code",
   "execution_count": null,
   "metadata": {
    "colab": {
     "base_uri": "https://localhost:8080/"
    },
    "id": "JXQWdLt5baaj",
    "outputId": "224028eb-9774-43a4-a635-0e31fb0a12f9"
   },
   "outputs": [],
   "source": [
    "model.summary()"
   ]
  },
  {
   "cell_type": "code",
   "execution_count": null,
   "metadata": {
    "id": "70aX-UADbaaj"
   },
   "outputs": [],
   "source": [
    "model.compile(loss=tf.keras.losses.BinaryCrossentropy(from_logits=True),\n",
    "              optimizer=tf.keras.optimizers.Adam(1e-3),\n",
    "              metrics=['accuracy'])"
   ]
  },
  {
   "cell_type": "code",
   "execution_count": null,
   "metadata": {
    "colab": {
     "base_uri": "https://localhost:8080/"
    },
    "id": "GEQBxe8kbaaj",
    "outputId": "bde58dd2-c6ff-4405-8f40-1041a3a0c136"
   },
   "outputs": [],
   "source": [
    "history = model.fit(seq_train_ds, epochs=5,\n",
    "                    validation_data=seq_test_ds,\n",
    "                    batch_size=BATCH_SIZE)"
   ]
  },
  {
   "cell_type": "code",
   "execution_count": null,
   "metadata": {
    "colab": {
     "base_uri": "https://localhost:8080/",
     "height": 365
    },
    "id": "TBosUErYbaak",
    "outputId": "0375cfba-5dfa-471a-b67c-74534b18a364"
   },
   "outputs": [],
   "source": [
    "plot_history(history)"
   ]
  },
  {
   "cell_type": "markdown",
   "metadata": {
    "id": "n9L7nWka42AV"
   },
   "source": [
    "##### Exploración de la red\n",
    "\n",
    "Repetimos el ejercicio de las pruebas anteriores."
   ]
  },
  {
   "cell_type": "code",
   "execution_count": null,
   "metadata": {
    "id": "WkRvedNmbaak"
   },
   "outputs": [],
   "source": [
    "emb_weights = model.layers[1].get_weights()\n",
    "rnn_weights = model.layers[2].get_weights()\n",
    "dense_weights = model.layers[3].get_weights()"
   ]
  },
  {
   "cell_type": "code",
   "execution_count": null,
   "metadata": {
    "id": "o8xIzDFMbaak"
   },
   "outputs": [],
   "source": [
    "inputs1 = tf.keras.layers.Input(shape=(MAX_SEQUENCE_LENGTH)) # No ponemos el batch_size. 32, 250 fallaría\n",
    "emb = tf.keras.layers.Embedding(\n",
    "    input_dim=VOCAB_SIZE, output_dim=EMBEDDING_DIM)(inputs1)\n",
    "rnn = tf.keras.layers.Bidirectional(SimpleRNN(4, return_sequences=True))(emb)\n",
    "dense = tf.keras.layers.Dense(1)(rnn)\n",
    "model = tf.keras.Model(inputs=inputs1, outputs=rnn) #rnn para tener sus outputs"
   ]
  },
  {
   "cell_type": "code",
   "execution_count": null,
   "metadata": {
    "id": "X9J2uxKbbaak"
   },
   "outputs": [],
   "source": [
    "model.layers[1].set_weights(emb_weights)\n",
    "model.layers[2].set_weights(rnn_weights)\n",
    "#model.layers[3].set_weights(dense_weights)"
   ]
  },
  {
   "cell_type": "code",
   "execution_count": null,
   "metadata": {
    "colab": {
     "base_uri": "https://localhost:8080/"
    },
    "id": "v4ZinZgIbaak",
    "outputId": "42c0c3b7-f2d5-4c3c-da0b-aa7824a142f0"
   },
   "outputs": [],
   "source": [
    "preds = model.predict(batch)"
   ]
  },
  {
   "cell_type": "code",
   "execution_count": null,
   "metadata": {
    "colab": {
     "base_uri": "https://localhost:8080/",
     "height": 593
    },
    "id": "BExPSQ8Zbaak",
    "outputId": "cb5757eb-1ba0-4a24-b07a-8cdbdc1c8dee"
   },
   "outputs": [],
   "source": [
    "n = 5\n",
    "x = preds[n].flatten()\n",
    "words = [seq_vectorize_layer.get_vocabulary()[word_index] for word_index in batch[n].numpy()]\n",
    "for i, w in enumerate(dense_weights[0]):\n",
    "  print(f'unit-{i+1} weight:', w[0])\n",
    "\n",
    "plt.figure(figsize=(12,6))\n",
    "plt.xticks(range(MAX_SEQUENCE_LENGTH), words, rotation=75)\n",
    "plt.plot(preds[n][:,0], label=\"unit-1\")\n",
    "plt.plot(preds[n][:,1], label=\"unit-2\")\n",
    "plt.plot(preds[n][:,2], label=\"unit-3\")\n",
    "plt.plot(preds[n][:,3], label=\"unit-4\")\n",
    "plt.plot(preds[n][:,4], label=\"unit-5\")\n",
    "plt.plot(preds[n][:,5], label=\"unit-6\")\n",
    "plt.plot(preds[n][:,6], label=\"unit-7\")\n",
    "plt.plot(preds[n][:,7], label=\"unit-8\")\n",
    "plt.legend(loc=\"upper left\")"
   ]
  },
  {
   "cell_type": "markdown",
   "metadata": {
    "id": "vg2diDWN5RPF"
   },
   "source": [
    "Podemos ver en este caso como, en el caso anterior, hay unidades que tienen un comportamiento muy similar, mientras que otras tienen curvas prácticamente planas y con una variablilidad baja. \n",
    "\n",
    "Si nos fijamos en los pesos de la capa densa, vemos como los pesos de una de las direcciones son notablemente más bajos que en la otra. En un caso muchos por enca de 1, y en el otro, cercanos a cero. \n",
    "\n",
    "Este comportamiento indica que la arquitectura bidireccional no está aportando un gran salto en la calidad de los resultados. Podemos observar un comportamiento similar en otras secuencias, como se muestra a continuación."
   ]
  },
  {
   "cell_type": "code",
   "execution_count": null,
   "metadata": {
    "colab": {
     "base_uri": "https://localhost:8080/",
     "height": 586
    },
    "id": "Y2-ZGdOPbaak",
    "outputId": "48349d65-2714-4e56-cbb7-94b3e71e430e"
   },
   "outputs": [],
   "source": [
    "n = 8\n",
    "x = preds[n].flatten()\n",
    "words = [seq_vectorize_layer.get_vocabulary()[word_index] for word_index in batch[n].numpy()]\n",
    "for i, w in enumerate(dense_weights[0]):\n",
    "  print(f'unit-{i+1} weight:', w[0])\n",
    "\n",
    "plt.figure(figsize=(12,6))\n",
    "plt.xticks(range(MAX_SEQUENCE_LENGTH), words, rotation=75)\n",
    "plt.plot(preds[n][:,0], label=\"unit-1\")\n",
    "plt.plot(preds[n][:,1], label=\"unit-2\")\n",
    "plt.plot(preds[n][:,2], label=\"unit-3\")\n",
    "plt.plot(preds[n][:,3], label=\"unit-4\")\n",
    "plt.plot(preds[n][:,4], label=\"unit-5\")\n",
    "plt.plot(preds[n][:,5], label=\"unit-6\")\n",
    "plt.plot(preds[n][:,6], label=\"unit-7\")\n",
    "plt.plot(preds[n][:,7], label=\"unit-8\")\n",
    "plt.legend(loc=\"upper left\")"
   ]
  },
  {
   "cell_type": "markdown",
   "metadata": {
    "id": "soHhWesWUxBQ"
   },
   "source": [
    "#### Prueba 5: Variaciones en la longitud\n",
    "\n",
    "Hasta ahora hemos estado trabajando con una longitud de secuencia fija. Vamos a ver cómo varían los resultados si esta vambia.\n",
    "\n",
    "En las siguientes pruebas, iremos aplicando la misma arquitectura, variando la longitud máxmia de secuencia en la vectorización."
   ]
  },
  {
   "cell_type": "code",
   "execution_count": null,
   "metadata": {
    "id": "vUIMM9CNYqGq"
   },
   "outputs": [],
   "source": [
    "long_vectorize_layer = TextVectorization(\n",
    "    max_tokens=VOCAB_SIZE,\n",
    "    output_mode='int',\n",
    "    output_sequence_length=500)"
   ]
  },
  {
   "cell_type": "code",
   "execution_count": null,
   "metadata": {
    "id": "XkEEaHwibjY1"
   },
   "outputs": [],
   "source": [
    "def filter_labels(text, labels):\n",
    "  return text\n",
    "\n",
    "train_text = raw_train_ds.map(filter_labels)\n",
    "long_vectorize_layer.adapt(train_text)"
   ]
  },
  {
   "cell_type": "code",
   "execution_count": null,
   "metadata": {
    "id": "5trE5EmxYp4_"
   },
   "outputs": [],
   "source": [
    "long_vectorize_layer.adapt(train_text)"
   ]
  },
  {
   "cell_type": "code",
   "execution_count": null,
   "metadata": {
    "id": "8yv6pq8-c07z"
   },
   "outputs": [],
   "source": [
    "def long_vectorize_text(text, label):\n",
    "  text = tf.expand_dims(text, -1)\n",
    "  return long_vectorize_layer(text), label"
   ]
  },
  {
   "cell_type": "code",
   "execution_count": null,
   "metadata": {
    "id": "AuEjWJauYpqy"
   },
   "outputs": [],
   "source": [
    "long_train_ds = raw_train_ds.map(long_vectorize_text)\n",
    "long_test_ds = raw_test_ds.map(long_vectorize_text)"
   ]
  },
  {
   "cell_type": "code",
   "execution_count": null,
   "metadata": {
    "id": "FT0e9-dLZFLN"
   },
   "outputs": [],
   "source": [
    "long_train_ds = configure_dataset(long_train_ds)\n",
    "long_test_ds = configure_dataset(long_test_ds)"
   ]
  },
  {
   "cell_type": "markdown",
   "metadata": {
    "id": "3wgYiRAo6oWt"
   },
   "source": [
    "Vamos a iterar entre 0 y 200 tokens de longitud de secuencia."
   ]
  },
  {
   "cell_type": "code",
   "execution_count": null,
   "metadata": {
    "id": "1LKpg80aZE-z"
   },
   "outputs": [],
   "source": [
    "lengths = [(i+1)*20 for i in range(10)]"
   ]
  },
  {
   "cell_type": "code",
   "execution_count": null,
   "metadata": {
    "colab": {
     "base_uri": "https://localhost:8080/"
    },
    "id": "o_l20zy3XhhO",
    "outputId": "d82bc9b0-338d-4e85-fe69-7ab6d9013737"
   },
   "outputs": [],
   "source": [
    "%%time\n",
    "accs = []\n",
    "val_accs = []\n",
    "for NEW_LENGTH in lengths:\n",
    "\n",
    "  reset_session()\n",
    "\n",
    "  @tf.autograph.experimental.do_not_convert\n",
    "  def shorten(vects, labels):\n",
    "    return vects[:,:NEW_LENGTH], labels\n",
    "\n",
    "  new_train_ds = long_train_ds.map(shorten)\n",
    "  new_test_ds = long_test_ds.map(shorten)\n",
    "\n",
    "  inputs1 = layers.Input(shape=(NEW_LENGTH))\n",
    "  emb = tf.keras.layers.Embedding(\n",
    "      input_dim=VOCAB_SIZE, output_dim=EMBEDDING_DIM)(inputs1)\n",
    "  rnn = SimpleRNN(\n",
    "      1,\n",
    "      kernel_initializer=tf.keras.initializers.TruncatedNormal(mean=0.0, stddev=0.05, seed=73),#HeNormal(seed=73),\n",
    "      recurrent_initializer=tf.keras.initializers.HeUniform(seed=73),\n",
    "      bias_initializer=tf.keras.initializers.GlorotNormal(seed=73),\n",
    "      kernel_regularizer=tf.keras.regularizers.L2()\n",
    "      )(emb)\n",
    "  model = tf.keras.Model(inputs=inputs1, outputs=rnn)\n",
    "\n",
    "  model.compile(loss=tf.keras.losses.BinaryCrossentropy(from_logits=True),\n",
    "                optimizer=tf.keras.optimizers.Adam(1e-3),\n",
    "                metrics=['accuracy'])\n",
    "  t0 = time.time()\n",
    "  history = model.fit(new_train_ds, epochs=5,\n",
    "                      validation_data=new_test_ds,\n",
    "                      batch_size=BATCH_SIZE,\n",
    "                      verbose=0)\n",
    "  t1 = time.time()\n",
    "  accs.append(history.history['accuracy'][-1])\n",
    "  val_accs.append(history.history['val_accuracy'][-1])\n",
    "  print(NEW_LENGTH, accs[-1], val_accs[-1], f'{t1 - t0:4.2f} s')"
   ]
  },
  {
   "cell_type": "markdown",
   "metadata": {
    "id": "c2Qvuocv88-G"
   },
   "source": [
    "Visualicemos la precisión de los conjuntos de entrenamiento y test en función de la longitud.\n",
    "\n",
    "Recordemos que, dado el carácter de estas primeras pruebas, estamos utilizando el conjunto de test como validación para tener un mayor volúmen de muestras."
   ]
  },
  {
   "cell_type": "code",
   "execution_count": null,
   "metadata": {
    "id": "URhJlbguWVWA"
   },
   "outputs": [],
   "source": [
    "results = pd.DataFrame({'lenght': lengths, 'acc':accs, 'val_acc':val_accs})"
   ]
  },
  {
   "cell_type": "code",
   "execution_count": null,
   "metadata": {
    "colab": {
     "base_uri": "https://localhost:8080/",
     "height": 411
    },
    "id": "9vOLGzCQm_iA",
    "outputId": "c759dbe7-0b5f-4e21-fe53-79300aecf0c6"
   },
   "outputs": [],
   "source": [
    "sns.lineplot(results, x='lenght', y='acc', label='acc')\n",
    "sns.lineplot(results, x='lenght', y='val_acc', label='val_acc')"
   ]
  },
  {
   "cell_type": "markdown",
   "metadata": {
    "id": "Ff-cSADj9TdM"
   },
   "source": [
    "Como podemos observar, a partir de secuencias de más de 60 tokens, la calidad de los resultados cae claramente. Se reproducido numerosas veces este experimento con los mismos resultados.\n",
    "\n",
    "Como conclusión, estas redes simples no parecen apropiadas para tratar secuencias de textos largos."
   ]
  },
  {
   "cell_type": "markdown",
   "metadata": {
    "id": "TYWZ1OSCx4NE"
   },
   "source": [
    "### Entrenamiento 01: SimpleRNN\n",
    "\n",
    "Despues de las pruebas anteriores, hemos profundizado en aspectos que nos ayudarán a plantear los siguientes entrenamientos, no sólo pen el caso de `SimpleRNN`, si no que también son útiles para el resto de tipos de unidades recurrentes.\n",
    "\n",
    "A continuación, vamos a hacer un entrenamiento con unidades de tipo `SimpleRNN`, que será consecuencia directa de los últimos apartados."
   ]
  },
  {
   "cell_type": "code",
   "execution_count": null,
   "metadata": {
    "id": "8JBTjIcWo1K9"
   },
   "outputs": [],
   "source": [
    "reset_session()"
   ]
  },
  {
   "cell_type": "code",
   "execution_count": null,
   "metadata": {
    "id": "ca2ocIuHo1Fs"
   },
   "outputs": [],
   "source": [
    "inputs1 = tf.keras.layers.Input(shape=(MAX_SEQUENCE_LENGTH)) # No ponemos el batch_size. 32, 250 fallaría\n",
    "emb = tf.keras.layers.Embedding(\n",
    "    input_dim=VOCAB_SIZE, output_dim=EMBEDDING_DIM)(inputs1)\n",
    "rnn = SimpleRNN(\n",
    "    4,\n",
    "    kernel_initializer=tf.keras.initializers.TruncatedNormal(mean=0.0, stddev=0.05, seed=73),#HeNormal(seed=73),\n",
    "    recurrent_initializer=tf.keras.initializers.RandomUniform(\n",
    "        minval=-0.05, maxval=0.05, seed=73\n",
    "    ),\n",
    "    bias_initializer=tf.keras.initializers.RandomUniform(\n",
    "        minval=-0.05, maxval=0.05, seed=73\n",
    "    ),\n",
    "    kernel_regularizer=tf.keras.regularizers.L2()\n",
    "    )(emb)\n",
    "dense = tf.keras.layers.Dense(1)(rnn)\n",
    "model = tf.keras.Model(inputs=inputs1, outputs=dense)"
   ]
  },
  {
   "cell_type": "code",
   "execution_count": null,
   "metadata": {
    "colab": {
     "base_uri": "https://localhost:8080/"
    },
    "id": "2lKoC1Y7o0-K",
    "outputId": "2f292dec-5422-45b5-e6fc-921fab584da5"
   },
   "outputs": [],
   "source": [
    "model.summary()"
   ]
  },
  {
   "cell_type": "code",
   "execution_count": null,
   "metadata": {
    "id": "dL3XDYnmo04T"
   },
   "outputs": [],
   "source": [
    "model.compile(loss=tf.keras.losses.BinaryCrossentropy(from_logits=True),\n",
    "              optimizer=tf.keras.optimizers.Adam(1e-3),\n",
    "              metrics=['accuracy'])"
   ]
  },
  {
   "cell_type": "code",
   "execution_count": null,
   "metadata": {
    "colab": {
     "base_uri": "https://localhost:8080/"
    },
    "id": "_X6t0eNvo0zK",
    "outputId": "1ab4398c-2c74-4f3c-ac7c-efa18f6a2db5"
   },
   "outputs": [],
   "source": [
    "history = model.fit(\n",
    "    seq_train_ds,\n",
    "    epochs=20,\n",
    "    validation_data=seq_validation_ds,\n",
    "    batch_size=BATCH_SIZE,\n",
    "    callbacks=[early_stopping_cb, learning_rate_cb]\n",
    ")"
   ]
  },
  {
   "cell_type": "markdown",
   "metadata": {
    "id": "tI7DsBCm-qWB"
   },
   "source": [
    "#### Results\n",
    "\n",
    "Vamos a explorar más detenidamente los resultados del entrenamiento. A partir de ahora vamos a utilizar el conjunto de validación para monitorizar el entrenamiento, y el conjunto de test para evaluar los resultados.\n",
    "\n",
    "En primer lugar, revisemos los resultados directos del entrenamiento."
   ]
  },
  {
   "cell_type": "code",
   "execution_count": null,
   "metadata": {
    "colab": {
     "base_uri": "https://localhost:8080/",
     "height": 365
    },
    "id": "TA9dXh62o0r4",
    "outputId": "88bc39c7-840a-4a59-ea47-bf8875693a41"
   },
   "outputs": [],
   "source": [
    "plot_history(history)"
   ]
  },
  {
   "cell_type": "markdown",
   "metadata": {
    "id": "ewhzOpgH-hpN"
   },
   "source": [
    "En el conjunto de validación vamos hemos llegado a una precisión de casi el 78%, aunque como podemos observar a partir de la segunda epoch, tanto la función de pérdida como la precisión no han conseguido mejorar. Esto nos hace pensar que todavía sufrimos de cierto sobreajuste. Podría deberse a que, como hemos visto, existen unidades redundantes. Además de esto, dejamos para más adelante la inclusión del dropout."
   ]
  },
  {
   "cell_type": "markdown",
   "metadata": {
    "id": "tyDlSiAE_P9o"
   },
   "source": [
    "Veamos a continuación cómo se comporta el modelo contra el conjunto de test."
   ]
  },
  {
   "cell_type": "code",
   "execution_count": null,
   "metadata": {
    "colab": {
     "base_uri": "https://localhost:8080/"
    },
    "id": "IB_VNaMR-_Qo",
    "outputId": "8ceb336c-0737-48b7-f87d-8e18fd30ef75"
   },
   "outputs": [],
   "source": [
    "model.evaluate(seq_test_ds)"
   ]
  },
  {
   "cell_type": "code",
   "execution_count": null,
   "metadata": {
    "colab": {
     "base_uri": "https://localhost:8080/"
    },
    "id": "yK9D3ruI_FsN",
    "outputId": "835800cc-1fad-4249-9526-e93501f8b778"
   },
   "outputs": [],
   "source": [
    "preds = model.predict(seq_test_ds)"
   ]
  },
  {
   "cell_type": "code",
   "execution_count": null,
   "metadata": {
    "colab": {
     "base_uri": "https://localhost:8080/"
    },
    "id": "X1yNBBOpEKrz",
    "outputId": "51b6f41d-597f-43ab-b3e8-a8036347c294"
   },
   "outputs": [],
   "source": [
    "get_metrics(model, seq_test_ds)"
   ]
  },
  {
   "cell_type": "markdown",
   "metadata": {
    "id": "H0R-QVT3_YE2"
   },
   "source": [
    "Como vemos, las métricas obtenidas son algo menores en este conjunto.\n",
    "\n",
    "A continuación tenemos el detalle de la matriz de confusión."
   ]
  },
  {
   "cell_type": "code",
   "execution_count": null,
   "metadata": {
    "colab": {
     "base_uri": "https://localhost:8080/",
     "height": 411
    },
    "id": "imMp41zZBmYc",
    "outputId": "951ab005-d68e-4e27-fba7-f941f8aebd9c"
   },
   "outputs": [],
   "source": [
    "plot_confusion_matrix(model, seq_test_ds)"
   ]
  },
  {
   "cell_type": "markdown",
   "metadata": {
    "id": "APU6W1Qw-mYU"
   },
   "source": [
    "#### Explore\n",
    "\n",
    "Una vez evaluados los resultados, vamos a explorar en detalle el estado de la red, dado que esto otorga una visión más detallada."
   ]
  },
  {
   "cell_type": "code",
   "execution_count": null,
   "metadata": {
    "id": "OEuKxZ4F9kZN"
   },
   "outputs": [],
   "source": [
    "def get_gradient_overview(model, sample, n=5):\n",
    "  x, y = list(sample)[0]\n",
    "  with tf.GradientTape(persistent=True) as tape:\n",
    "    y_pred = model(batch, training=True)\n",
    "    loss = tf.keras.losses.BinaryCrossentropy(from_logits=True)(y, y_pred)\n",
    "  grads = tape.gradient(loss, model.trainable_weights)\n",
    "  for grad in grads[:n]:\n",
    "    print(grad.shape)\n",
    "    print(tf.reduce_mean(grad))\n",
    "    try:\n",
    "      grads = grad.values.numpy().flatten()\n",
    "    except AttributeError:\n",
    "      grads = grad.numpy().flatten()\n",
    "    pd.DataFrame(grads).plot.hist(bins=20)\n",
    "    print()"
   ]
  },
  {
   "cell_type": "markdown",
   "metadata": {
    "id": "C8jEEX1k_9-F"
   },
   "source": [
    "En primer lugar, vamos a revisar rápidamente los gradientes por cada elemento de la red, y sobre todo su magnitud. Dado que es la primera vez que exploramos este aspecto de la red, el objetivo es simplemente que sirva de referencia de cara a las siguientes secciones."
   ]
  },
  {
   "cell_type": "code",
   "execution_count": null,
   "metadata": {
    "colab": {
     "base_uri": "https://localhost:8080/",
     "height": 1000
    },
    "id": "G_4FRKPM-lbd",
    "outputId": "9d971590-0235-49b8-8095-316991c6c9d3"
   },
   "outputs": [],
   "source": [
    "get_gradient_overview(model, seq_train_ds)"
   ]
  },
  {
   "cell_type": "markdown",
   "metadata": {
    "id": "IkfT5BIYAZOv"
   },
   "source": [
    "A continuación, como en secciones anteriores, vamos a revisar el comportamiento detallado de la red sobre textos concretos."
   ]
  },
  {
   "cell_type": "code",
   "execution_count": null,
   "metadata": {
    "id": "8Qw_ISomo0k4"
   },
   "outputs": [],
   "source": [
    "emb_weights = model.layers[1].get_weights()\n",
    "rnn_weights = model.layers[2].get_weights()\n",
    "dense_weights = model.layers[3].get_weights()"
   ]
  },
  {
   "cell_type": "code",
   "execution_count": null,
   "metadata": {
    "id": "lGoLtt2i537r"
   },
   "outputs": [],
   "source": [
    "inputs1 = tf.keras.layers.Input(shape=(MAX_SEQUENCE_LENGTH)) # No ponemos el batch_size. 32, 250 fallaría\n",
    "emb = tf.keras.layers.Embedding(\n",
    "    input_dim=VOCAB_SIZE, output_dim=EMBEDDING_DIM)(inputs1)\n",
    "rnn = SimpleRNN(4, return_sequences=True)(emb)\n",
    "dense = tf.keras.layers.Dense(1)(rnn)\n",
    "model = tf.keras.Model(inputs=inputs1, outputs=rnn) #rnn para tener sus outputs"
   ]
  },
  {
   "cell_type": "code",
   "execution_count": null,
   "metadata": {
    "id": "MCCLOzbX535W"
   },
   "outputs": [],
   "source": [
    "model.layers[1].set_weights(emb_weights)\n",
    "model.layers[2].set_weights(rnn_weights)"
   ]
  },
  {
   "cell_type": "code",
   "execution_count": null,
   "metadata": {
    "id": "UTN-It6fAiG3"
   },
   "outputs": [],
   "source": [
    "batch = list(seq_train_ds)[0][0]"
   ]
  },
  {
   "cell_type": "code",
   "execution_count": null,
   "metadata": {
    "colab": {
     "base_uri": "https://localhost:8080/"
    },
    "id": "8ILSpqVO5316",
    "outputId": "ffcb77f4-c183-4b14-d947-76faffb8ecab"
   },
   "outputs": [],
   "source": [
    "preds = model.predict(batch)"
   ]
  },
  {
   "cell_type": "code",
   "execution_count": null,
   "metadata": {
    "colab": {
     "base_uri": "https://localhost:8080/",
     "height": 521
    },
    "id": "Le_6nnGo53yF",
    "outputId": "b06ab1c3-25a7-481c-b817-a434ec0d9c81"
   },
   "outputs": [],
   "source": [
    "n = 5\n",
    "x = preds[n].flatten()\n",
    "words = [seq_vectorize_layer.get_vocabulary()[word_index] for word_index in batch[n].numpy()]\n",
    "for i, w in enumerate(dense_weights[0]):\n",
    "  print(f'unit-{i+1} weight:', w[0])\n",
    "\n",
    "plt.figure(figsize=(12,6))\n",
    "plt.xticks(range(MAX_SEQUENCE_LENGTH), words, rotation=75)\n",
    "plt.plot(preds[n][:,0], label=\"unit-1\")\n",
    "plt.plot(preds[n][:,1], label=\"unit-2\")\n",
    "plt.plot(preds[n][:,2], label=\"unit-3\")\n",
    "plt.plot(preds[n][:,3], label=\"unit-4\")\n",
    "plt.legend(loc=\"upper left\")"
   ]
  },
  {
   "cell_type": "markdown",
   "metadata": {
    "id": "HF1i6MscAx9S"
   },
   "source": [
    "Podemos comprobar que, las unidades tienen comportamientos realmente similares. Únicamente una de ellas tiene un comportamiento inverso pero está asociada a un peso negativo en la capa densa.\n",
    "\n",
    "Esto sopora claramente la hipótesis sobre el sobre ajuste. Tengamos esto en cuenta para nuevos experimentos, y avancemos para explorar otras arquitecturas."
   ]
  },
  {
   "cell_type": "markdown",
   "metadata": {
    "id": "3M3WyTcJr9Rx"
   },
   "source": [
    "## Arquitectura `Time distributed`\n",
    "\n",
    "Por lo general, para problemas de clasificación, se aplica una red densa sobre el output final de la red recurrente si es necesario. También se puede aplicar sobre la secuencia completa aplanando esta. \n",
    "\n",
    "Sin embargo, existe la posibilidad de aplicar una misma capa densa sobre cada uno de los outputs intermedios de la red, y ejecutar una red sobre todos los outputs.\n",
    "\n",
    "Si bien no es una técnica óptima para clasificación de textos, si no que tiene más sentido en problemas como detección de entidades o PoS tagging, nos servirá para introducir un problema muy común en redes recurrentes: los problemas con la escala de los gradientes.\n",
    "\n",
    "\n",
    "![keras-time-distributed.png](data:image/png;base64,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)"
   ]
  },
  {
   "cell_type": "markdown",
   "metadata": {
    "id": "rijhYZ06toZl"
   },
   "source": [
    "#### Prueba 1: Time distributed + capa densa\n",
    "\n",
    "En esta primera prueba vamos a llevar a cabo justo el ejemplo mencionado. Una capa densa procesará cada uno de los outputs intermedios, y sobre ella, otra capa intentará llevar a cabo una clasificación final.\n",
    "\n",
    "En este caso, para poder llevar a cabo el entrenamiento, tendremos que forzar que las unidades recurrentes devuelvan el output durante el entrenamiento."
   ]
  },
  {
   "cell_type": "code",
   "execution_count": null,
   "metadata": {
    "id": "rewwNXFBFoH4"
   },
   "outputs": [],
   "source": [
    "reset_session()"
   ]
  },
  {
   "cell_type": "code",
   "execution_count": null,
   "metadata": {
    "id": "gQHw9qqcFn3O"
   },
   "outputs": [],
   "source": [
    "inputs1 = tf.keras.layers.Input(shape=(MAX_SEQUENCE_LENGTH))\n",
    "emb = tf.keras.layers.Embedding(\n",
    "    input_dim=VOCAB_SIZE, output_dim=EMBEDDING_DIM)(inputs1)\n",
    "rnn = SimpleRNN(\n",
    "    4,\n",
    "    return_sequences=True, # <-- Input de la red transversal\n",
    "    return_state=False,\n",
    "    kernel_initializer=tf.keras.initializers.TruncatedNormal(mean=0.0, stddev=0.05, seed=73),#HeNormal(seed=73),\n",
    "    recurrent_initializer=tf.keras.initializers.RandomUniform(\n",
    "        minval=-0.05, maxval=0.05, seed=73\n",
    "    ),\n",
    "    bias_initializer=tf.keras.initializers.RandomUniform(\n",
    "        minval=-0.05, maxval=0.05, seed=73\n",
    "    ),\n",
    "    kernel_regularizer=tf.keras.regularizers.L2()\n",
    "    )(emb)\n",
    "time_dist = tf.keras.layers.TimeDistributed(\n",
    "    tf.keras.layers.Dense(1, activation='softmax'))(rnn)\n",
    "flat = tf.keras.layers.Flatten()(time_dist)\n",
    "dense = tf.keras.layers.Dense(1)(flat)\n",
    "model = tf.keras.Model(inputs=inputs1, outputs=dense)"
   ]
  },
  {
   "cell_type": "code",
   "execution_count": null,
   "metadata": {
    "colab": {
     "base_uri": "https://localhost:8080/"
    },
    "id": "mX1cMr0VFnpr",
    "outputId": "f2ae2069-b9ce-4091-ba0c-ab56d7f6c735"
   },
   "outputs": [],
   "source": [
    "model.summary(\n",
    "    expand_nested=True,\n",
    "    show_trainable=True\n",
    ")"
   ]
  },
  {
   "cell_type": "code",
   "execution_count": null,
   "metadata": {
    "id": "LcRcIcnLFnQ5"
   },
   "outputs": [],
   "source": [
    "model.compile(loss=tf.keras.losses.BinaryCrossentropy(from_logits=True),\n",
    "              optimizer=tf.keras.optimizers.Adam(1e-3),\n",
    "              metrics=['accuracy'])"
   ]
  },
  {
   "cell_type": "markdown",
   "metadata": {
    "id": "YGDzijySCcX7"
   },
   "source": [
    "Vamos a forzar el entrenamiento hasta las 10 epochs."
   ]
  },
  {
   "cell_type": "code",
   "execution_count": null,
   "metadata": {
    "colab": {
     "base_uri": "https://localhost:8080/"
    },
    "id": "NH2yaBRSGp-s",
    "outputId": "4e2908f3-c7fb-4232-f96f-85f4ae722940"
   },
   "outputs": [],
   "source": [
    "history = model.fit(\n",
    "    seq_train_ds,\n",
    "    epochs=10,\n",
    "    validation_data=seq_test_ds,\n",
    "    batch_size=BATCH_SIZE,\n",
    "    callbacks=[learning_rate_cb] #[early_stopping_cb, learning_rate_cb]\n",
    ")"
   ]
  },
  {
   "cell_type": "markdown",
   "metadata": {
    "id": "p9TeB692FBDN"
   },
   "source": [
    "Como podemos ver, el entrenamiento a penas ha avanzado en sus métricas. Para descartar que sea un problema con la inicialización, repetiremos el ejercicio, pero esta vez sin tocar nada de la inicialización."
   ]
  },
  {
   "cell_type": "code",
   "execution_count": null,
   "metadata": {
    "colab": {
     "base_uri": "https://localhost:8080/",
     "height": 273
    },
    "id": "SzZrr5GZGp1y",
    "outputId": "433818cb-b0b7-46b1-a954-f10b8c355182"
   },
   "outputs": [],
   "source": [
    "plot_history(history)"
   ]
  },
  {
   "cell_type": "markdown",
   "metadata": {
    "id": "hxmbboxTttiV"
   },
   "source": [
    "#### Prueba 2: Time distributed + capa densa\n",
    "\n",
    "Repetimos el experimento, dejando la inicialización por defecto."
   ]
  },
  {
   "cell_type": "code",
   "execution_count": null,
   "metadata": {
    "id": "Hl0MTtSWtxC6"
   },
   "outputs": [],
   "source": [
    "reset_session()"
   ]
  },
  {
   "cell_type": "code",
   "execution_count": null,
   "metadata": {
    "id": "ZmjyviY-tw_b"
   },
   "outputs": [],
   "source": [
    "inputs1 = tf.keras.layers.Input(shape=(MAX_SEQUENCE_LENGTH)) # No ponemos el batch_size. 32, 250 fallaría\n",
    "emb = tf.keras.layers.Embedding(\n",
    "    input_dim=VOCAB_SIZE, output_dim=EMBEDDING_DIM)(inputs1)\n",
    "rnn = SimpleRNN(\n",
    "    4,\n",
    "    return_sequences=True, # <-- Input de la red transversal\n",
    "    return_state=False,\n",
    "    )(emb)\n",
    "time_dist = tf.keras.layers.TimeDistributed(\n",
    "    tf.keras.layers.Dense(1, activation='softmax'))(rnn)\n",
    "flat = tf.keras.layers.Flatten()(time_dist)\n",
    "dense = tf.keras.layers.Dense(1)(flat)\n",
    "model = tf.keras.Model(inputs=inputs1, outputs=dense)"
   ]
  },
  {
   "cell_type": "code",
   "execution_count": null,
   "metadata": {
    "colab": {
     "base_uri": "https://localhost:8080/"
    },
    "id": "ALqb1IsKtw5A",
    "outputId": "89a6bbd9-ba22-4a44-e1b8-a6ec3a3a0096"
   },
   "outputs": [],
   "source": [
    "model.summary(\n",
    "    expand_nested=True,\n",
    "    show_trainable=True\n",
    ")"
   ]
  },
  {
   "cell_type": "code",
   "execution_count": null,
   "metadata": {
    "id": "e0uEFdUHtw1Q"
   },
   "outputs": [],
   "source": [
    "model.compile(loss=tf.keras.losses.BinaryCrossentropy(from_logits=True),\n",
    "              optimizer=tf.keras.optimizers.Adam(1e-3),\n",
    "              metrics=['accuracy'])"
   ]
  },
  {
   "cell_type": "code",
   "execution_count": null,
   "metadata": {
    "colab": {
     "base_uri": "https://localhost:8080/"
    },
    "id": "BDuGdquSvN3K",
    "outputId": "eee33faf-2745-42c9-ba58-4f3737c2660d"
   },
   "outputs": [],
   "source": [
    "history = model.fit(\n",
    "    seq_train_ds,\n",
    "    epochs=10,\n",
    "    validation_data=seq_test_ds,\n",
    "    batch_size=BATCH_SIZE,\n",
    "    callbacks=[learning_rate_cb] #[early_stopping_cb, learning_rate_cb]\n",
    ")"
   ]
  },
  {
   "cell_type": "markdown",
   "metadata": {
    "id": "aDcQF5lRZ3nF"
   },
   "source": [
    "No es necesario explorar más para darse cuenta de que no ha cambiado nada.\n",
    "\n",
    "Para entender mejor lo que está ocurriendo, debemos atender a los gradientes."
   ]
  },
  {
   "cell_type": "code",
   "execution_count": null,
   "metadata": {
    "colab": {
     "base_uri": "https://localhost:8080/",
     "height": 1000
    },
    "id": "l1GIG0UiKird",
    "outputId": "1b181c36-fb24-4819-b6c3-02c401e1e2e8"
   },
   "outputs": [],
   "source": [
    "get_gradient_overview(model, seq_train_ds)"
   ]
  },
  {
   "cell_type": "markdown",
   "metadata": {
    "id": "Fsf8tdJbaabE"
   },
   "source": [
    "Como podemos observar, los gradientes de todos los componentes son varios órdenes de magnitud inferiores a los del modelo anterior entrenado. De hecho, todos ellos son prácticamente cero.\n",
    "\n",
    "Dado que esta arquitectura tiene flujos algo más complejos, nos hemos encontrado con un problema muy típico en redes recorrentes. Lo que en inglés se conoce como *vanishing gradients*, que el modelo no es capaz de aprender porque los gradientes se diluyen. También es común el problema contrario, *exploding gradients*, que da lugar a entrenamientos altamente inestables.\n",
    "\n",
    "En este punto, no vamos a pararnos a resolver este problema para esta red en concreto (ya comentamos que la arquitectura no era la más idónea para este problema), pero no sha servido para intruducir la importancia de vigilar los gradientes al entrenar este tipo de redes."
   ]
  },
  {
   "cell_type": "markdown",
   "metadata": {
    "id": "_gt9VmvUMsF5"
   },
   "source": [
    "## Stacked\n",
    "\n",
    "Vamos a revisar ahora otra arquitectura común a la hora de trabajar con redes recurrentes. Ésta consiste en apilar varias capas de redes recurrentes, cada una de ellas con un número concreto de unidades.\n",
    "\n",
    "En este caso es importante devolver todos los outputs intermedios, para que la segunda capa pueda leer éstos.\n",
    "\n",
    "En esta sección llevaremos a cabo varios entrenamientos completos, e iremos comparando los resultados con los obtenidos sin apilamiento.\n",
    "\n",
    "![rnn-stacked.png](data:image/png;base64,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)"
   ]
  },
  {
   "cell_type": "markdown",
   "metadata": {
    "id": "solQCzEcOkET"
   },
   "source": [
    "### Prueba 6: 2 stacked layers\n",
    "\n",
    "Vamos a apilar dos capas de redes recurrentes iguales a las utilizadas anteriormente, y ver el impacto que tiene.\n",
    "\n",
    "Utilizaremos `SimpleRNN` como las utilizadas previamente, sin aplicar ningún tipo de regularización o inicialización específica.\n",
    "\n",
    "Al tener más parámetros que el ejemplo anterior, deberíamos tener problemas similares. No vamos a intentar corregirlo en este punto para comprobar que sigue siendo así, pero también para ver, en la exploración, cómo se refleja esta situación en la que el modelo no generaliza bien."
   ]
  },
  {
   "cell_type": "code",
   "execution_count": null,
   "metadata": {
    "id": "CY0x0jQhOYOh"
   },
   "outputs": [],
   "source": [
    "reset_session()"
   ]
  },
  {
   "cell_type": "code",
   "execution_count": null,
   "metadata": {
    "id": "dK2j8zGMRXVo"
   },
   "outputs": [],
   "source": [
    "inputs1 = tf.keras.layers.Input(shape=(MAX_SEQUENCE_LENGTH))\n",
    "emb = tf.keras.layers.Embedding(\n",
    "    input_dim=VOCAB_SIZE, output_dim=EMBEDDING_DIM)(inputs1)\n",
    "rnn1 = SimpleRNN(\n",
    "    4,\n",
    "    return_sequences=True\n",
    "    )(emb)\n",
    "rnn2 = SimpleRNN(\n",
    "    4,\n",
    "    )(rnn1)\n",
    "dense = tf.keras.layers.Dense(1)(rnn2)\n",
    "model = tf.keras.Model(inputs=inputs1, outputs=dense)"
   ]
  },
  {
   "cell_type": "code",
   "execution_count": null,
   "metadata": {
    "colab": {
     "base_uri": "https://localhost:8080/"
    },
    "id": "cYQui_tMRXSJ",
    "outputId": "3a8bf432-714c-4d23-ef58-41ca384a2141"
   },
   "outputs": [],
   "source": [
    "model.summary()"
   ]
  },
  {
   "cell_type": "code",
   "execution_count": null,
   "metadata": {
    "id": "UTYKVMb7Spyf"
   },
   "outputs": [],
   "source": [
    "model.compile(loss=tf.keras.losses.BinaryCrossentropy(from_logits=True),\n",
    "              optimizer=tf.keras.optimizers.Adam(1e-3),\n",
    "              metrics=['accuracy'])"
   ]
  },
  {
   "cell_type": "code",
   "execution_count": null,
   "metadata": {
    "colab": {
     "base_uri": "https://localhost:8080/"
    },
    "id": "ozfZJHnMSpue",
    "outputId": "702f0eeb-6a37-4d51-eb84-2b5bcf174ca0"
   },
   "outputs": [],
   "source": [
    "history = model.fit(\n",
    "    seq_train_ds,\n",
    "    epochs=20,\n",
    "    validation_data=seq_validation_ds,\n",
    "    batch_size=BATCH_SIZE,\n",
    "    callbacks=[early_stopping_cb, learning_rate_cb]\n",
    ")"
   ]
  },
  {
   "cell_type": "markdown",
   "metadata": {
    "id": "nUp_HrMBS666"
   },
   "source": [
    "#### Results\n",
    "\n",
    "Como esperábamos, aunque el entrenamiento ha progresado (no debería haber problemas con los gradientes), hay problemas graves de generalización."
   ]
  },
  {
   "cell_type": "code",
   "execution_count": null,
   "metadata": {
    "colab": {
     "base_uri": "https://localhost:8080/",
     "height": 365
    },
    "id": "DY9CYZX7S-95",
    "outputId": "b7417eb5-fc2c-486e-f9c3-0ce054ea7460"
   },
   "outputs": [],
   "source": [
    "plot_history(history)"
   ]
  },
  {
   "cell_type": "code",
   "execution_count": null,
   "metadata": {
    "colab": {
     "base_uri": "https://localhost:8080/"
    },
    "id": "eUqUaDPjS-65",
    "outputId": "3bd8a1c1-7dde-448b-ef06-ebb2c28b972b"
   },
   "outputs": [],
   "source": [
    "model.evaluate(seq_test_ds)"
   ]
  },
  {
   "cell_type": "code",
   "execution_count": null,
   "metadata": {
    "colab": {
     "base_uri": "https://localhost:8080/"
    },
    "id": "k2NOPAEOTNmQ",
    "outputId": "4b9a81ea-0ed9-4f46-f216-19704af48043"
   },
   "outputs": [],
   "source": [
    "preds = model.predict(seq_test_ds)"
   ]
  },
  {
   "cell_type": "code",
   "execution_count": null,
   "metadata": {
    "colab": {
     "base_uri": "https://localhost:8080/"
    },
    "id": "e_rB3Y8VTPwk",
    "outputId": "e0a5635b-6ac3-4de9-f2eb-f95d47bc72ff"
   },
   "outputs": [],
   "source": [
    "get_metrics(model, seq_test_ds)"
   ]
  },
  {
   "cell_type": "markdown",
   "metadata": {
    "id": "FPc5YQ4XgZV5"
   },
   "source": [
    "Las métricas sobre el conjunto de test, como era de esperar, no son buenas, pero no es lo importante de este ejemplo. Lo interesante será ver qué ocurre internamente en el modelo."
   ]
  },
  {
   "cell_type": "code",
   "execution_count": null,
   "metadata": {
    "colab": {
     "base_uri": "https://localhost:8080/",
     "height": 411
    },
    "id": "0DBE_E-nTVDX",
    "outputId": "6ae7e6d7-d9e1-4c22-a33a-703e46cf1e89"
   },
   "outputs": [],
   "source": [
    "plot_confusion_matrix(model, seq_test_ds)"
   ]
  },
  {
   "cell_type": "markdown",
   "metadata": {
    "id": "TmXxPwIgS8Xt"
   },
   "source": [
    "#### Explore\n",
    "\n",
    "Vamos a hacer una exploración análoga a las anteriores, con este modelo. En primer lugar revisamos los gradientes."
   ]
  },
  {
   "cell_type": "code",
   "execution_count": null,
   "metadata": {
    "colab": {
     "base_uri": "https://localhost:8080/",
     "height": 1000
    },
    "id": "ftVXMJR_Spr8",
    "outputId": "cf79c684-0752-47f5-d005-9b0e0380a9b4"
   },
   "outputs": [],
   "source": [
    "get_gradient_overview(model, seq_train_ds)"
   ]
  },
  {
   "cell_type": "markdown",
   "metadata": {
    "id": "_fnHNJFRhA_2"
   },
   "source": [
    "En este punto, aunque se podría profundizar más, a nivel de magnitudes no hay nada llamativo, como era de esperar.\n",
    "\n",
    "Vamos a revisar que ocurre al procesar secuencias."
   ]
  },
  {
   "cell_type": "code",
   "execution_count": null,
   "metadata": {
    "id": "V-kXPIOYSpoY"
   },
   "outputs": [],
   "source": [
    "emb_weights = model.layers[1].get_weights()\n",
    "rnn1_weights = model.layers[2].get_weights()\n",
    "rnn2_weights = model.layers[3].get_weights()\n",
    "#dense_weights = model.layers[4].get_weights()"
   ]
  },
  {
   "cell_type": "code",
   "execution_count": null,
   "metadata": {
    "id": "vBwe1xlcSplW"
   },
   "outputs": [],
   "source": [
    "inputs1 = tf.keras.layers.Input(shape=(MAX_SEQUENCE_LENGTH)) # No ponemos el batch_size. 32, 250 fallaría\n",
    "emb = tf.keras.layers.Embedding(\n",
    "    input_dim=VOCAB_SIZE, output_dim=EMBEDDING_DIM)(inputs1)\n",
    "rnn1 = SimpleRNN(4, return_sequences=True)(emb)\n",
    "rnn2 = SimpleRNN(4, return_sequences=True)(rnn1)\n",
    "dense = tf.keras.layers.Dense(1)(rnn2)\n",
    "model = tf.keras.Model(inputs=inputs1, outputs=rnn2) #rnn para tener sus outputs"
   ]
  },
  {
   "cell_type": "code",
   "execution_count": null,
   "metadata": {
    "id": "VOyq0j0eSpiC"
   },
   "outputs": [],
   "source": [
    "model.layers[1].set_weights(emb_weights)\n",
    "model.layers[2].set_weights(rnn1_weights)\n",
    "model.layers[3].set_weights(rnn2_weights)"
   ]
  },
  {
   "cell_type": "code",
   "execution_count": null,
   "metadata": {
    "colab": {
     "base_uri": "https://localhost:8080/"
    },
    "id": "9H-hrCawSpeZ",
    "outputId": "caa91dea-3f5e-422d-c65b-6606da48d782"
   },
   "outputs": [],
   "source": [
    "preds = model.predict(batch)"
   ]
  },
  {
   "cell_type": "code",
   "execution_count": null,
   "metadata": {
    "colab": {
     "base_uri": "https://localhost:8080/",
     "height": 521
    },
    "id": "5z6t45VUTsrD",
    "outputId": "763937d4-00a8-4fec-a6b0-024afef11e9d"
   },
   "outputs": [],
   "source": [
    "n = 5\n",
    "x = preds[n].flatten()\n",
    "words = [seq_vectorize_layer.get_vocabulary()[word_index] for word_index in batch[n].numpy()]\n",
    "for i, w in enumerate(dense_weights[0]):\n",
    "  print(f'unit-{i+1} weight:', w[0])\n",
    "\n",
    "plt.figure(figsize=(12,6))\n",
    "plt.xticks(range(MAX_SEQUENCE_LENGTH), words, rotation=75)\n",
    "plt.plot(preds[n][:,0], label=\"unit-1\")\n",
    "plt.plot(preds[n][:,1], label=\"unit-2\")\n",
    "plt.plot(preds[n][:,2], label=\"unit-3\")\n",
    "plt.plot(preds[n][:,3], label=\"unit-4\")\n",
    "plt.legend(loc=\"upper left\")"
   ]
  },
  {
   "cell_type": "markdown",
   "metadata": {
    "id": "cbJjl2kFh3yk"
   },
   "source": [
    "Podemos ver que tras la segunda capa recurrente el comportamiento de cada una de las unidades es bastante errático, y no se observan patrones definidos claros.\n",
    "\n",
    "Vamos a explorar lo que ocurre en la primera capa recurrente, para saber si provoca estas alteraciones."
   ]
  },
  {
   "cell_type": "code",
   "execution_count": null,
   "metadata": {
    "id": "MwZXPQqmUw-g"
   },
   "outputs": [],
   "source": [
    "model.layers[1].set_weights(emb_weights)\n",
    "model.layers[2].set_weights(rnn1_weights)\n",
    "# Lo mejor sería modelo nuevo \n",
    "# con pesos de capas 1 y 2\n",
    "ws = [tf.ones(weights.shape) for weights in rnn2_weights]\n",
    "ws[-1] = tf.zeros(rnn2_weights[-1].shape)\n",
    "model.layers[3].set_weights(ws)"
   ]
  },
  {
   "cell_type": "code",
   "execution_count": null,
   "metadata": {
    "colab": {
     "base_uri": "https://localhost:8080/"
    },
    "id": "TLf1GzaiUw67",
    "outputId": "b884dfec-7550-427d-9d25-44be68217e76"
   },
   "outputs": [],
   "source": [
    "preds = model.predict(batch)"
   ]
  },
  {
   "cell_type": "code",
   "execution_count": null,
   "metadata": {
    "colab": {
     "base_uri": "https://localhost:8080/",
     "height": 521
    },
    "id": "rqoHVJqgV5KO",
    "outputId": "351a6855-770e-4c6a-e517-196785ecfa17"
   },
   "outputs": [],
   "source": [
    "n = 5\n",
    "x = preds[n].flatten()\n",
    "words = [seq_vectorize_layer.get_vocabulary()[word_index] for word_index in batch[n].numpy()]\n",
    "for i, w in enumerate(dense_weights[0]):\n",
    "  print(f'unit-{i+1} weight:', w[0])\n",
    "\n",
    "plt.figure(figsize=(12,6))\n",
    "plt.xticks(range(MAX_SEQUENCE_LENGTH), words, rotation=75)\n",
    "plt.plot(preds[n][:,0], label=\"unit-1\")\n",
    "plt.plot(preds[n][:,1], label=\"unit-2\")\n",
    "plt.plot(preds[n][:,2], label=\"unit-3\")\n",
    "plt.plot(preds[n][:,3], label=\"unit-4\")\n",
    "plt.legend(loc=\"upper left\")"
   ]
  },
  {
   "cell_type": "code",
   "execution_count": null,
   "metadata": {
    "colab": {
     "base_uri": "https://localhost:8080/",
     "height": 517
    },
    "id": "cJnASq2TiW8K",
    "outputId": "3835bae7-ca46-462e-dc2a-9d42eff9610d"
   },
   "outputs": [],
   "source": [
    "n = 8\n",
    "x = preds[n].flatten()\n",
    "words = [seq_vectorize_layer.get_vocabulary()[word_index] for word_index in batch[n].numpy()]\n",
    "for i, w in enumerate(dense_weights[0]):\n",
    "  print(f'unit-{i+1} weight:', w[0])\n",
    "\n",
    "plt.figure(figsize=(12,6))\n",
    "plt.xticks(range(MAX_SEQUENCE_LENGTH), words, rotation=75)\n",
    "plt.plot(preds[n][:,0], label=\"unit-1\")\n",
    "plt.plot(preds[n][:,1], label=\"unit-2\")\n",
    "plt.plot(preds[n][:,2], label=\"unit-3\")\n",
    "plt.plot(preds[n][:,3], label=\"unit-4\")\n",
    "plt.legend(loc=\"upper left\")"
   ]
  },
  {
   "cell_type": "markdown",
   "metadata": {
    "id": "Sc1btt4-ib1i"
   },
   "source": [
    "Como podemos ver en los dos ejemplos anteriores, en ambos casos la red toma una decisión prematura, y se estanca a lo largo de la evolución de la secuencia, lo que contrasta con la inestabilidad de la segunda capa.\n",
    "\n",
    "Si observamos la distribución de pesos de ambas, vemos que la distribución de los pesos de la primera capa se distribuye principalmente en torno al cero, y en la segunda es más uniforme, lo que se corresponde con lo que acabamos de ver.\n",
    "\n",
    "Cabe destacar, que la inicialización de ambas capas ha sido igual (por defecto).\n",
    "\n"
   ]
  },
  {
   "cell_type": "code",
   "execution_count": null,
   "metadata": {
    "colab": {
     "base_uri": "https://localhost:8080/",
     "height": 394
    },
    "id": "xskJfmsNV4_V",
    "outputId": "003558d2-07fc-491d-d74f-cb0f171fd09a"
   },
   "outputs": [],
   "source": [
    "pd.DataFrame(np.hstack([w.flatten() for w in rnn1_weights])).plot.hist(bins=20)"
   ]
  },
  {
   "cell_type": "code",
   "execution_count": null,
   "metadata": {
    "colab": {
     "base_uri": "https://localhost:8080/",
     "height": 394
    },
    "id": "RmmuPoQOZ6K0",
    "outputId": "ddee440c-f1f2-4eca-e19a-e005679a6de8"
   },
   "outputs": [],
   "source": [
    "pd.DataFrame(np.hstack([w.flatten() for w in rnn2_weights])).plot.hist(bins=20)"
   ]
  },
  {
   "cell_type": "markdown",
   "metadata": {
    "id": "qhmBsEFcUWGi"
   },
   "source": [
    "### Entrenamiento 02: 2 stacked layers\n",
    "\n",
    "En este entrenamiento vamos a corregir los problemas de la prueba anterior, y ver si mejora la precisión respecto al entrenamiento sin apilar capas.\n",
    "\n",
    "Cambiamos la inicialización e incluimos regularización, como en ejemplos anteriores."
   ]
  },
  {
   "cell_type": "code",
   "execution_count": null,
   "metadata": {
    "id": "3emA1LRRUWGj"
   },
   "outputs": [],
   "source": [
    "reset_session()"
   ]
  },
  {
   "cell_type": "code",
   "execution_count": null,
   "metadata": {
    "id": "LxOoYRQxUWGj"
   },
   "outputs": [],
   "source": [
    "inputs1 = tf.keras.layers.Input(shape=(MAX_SEQUENCE_LENGTH))\n",
    "emb = tf.keras.layers.Embedding(\n",
    "    input_dim=VOCAB_SIZE, output_dim=EMBEDDING_DIM)(inputs1)\n",
    "rnn1 = SimpleRNN(\n",
    "    4,\n",
    "    return_sequences=True,\n",
    "    kernel_regularizer=tf.keras.regularizers.L2()\n",
    "    )(emb)\n",
    "rnn2 = SimpleRNN(\n",
    "    4,\n",
    "    kernel_initializer=tf.keras.initializers.TruncatedNormal(mean=0.0, stddev=0.05, seed=73),#HeNormal(seed=73),\n",
    "    recurrent_initializer=tf.keras.initializers.RandomUniform(\n",
    "        minval=-0.05, maxval=0.05, seed=73\n",
    "    ),\n",
    "    bias_initializer=tf.keras.initializers.RandomUniform(\n",
    "        minval=-0.05, maxval=0.05, seed=73\n",
    "    ),\n",
    "    kernel_regularizer=tf.keras.regularizers.L2()\n",
    "    )(rnn1)\n",
    "dense = tf.keras.layers.Dense(1)(rnn2)\n",
    "model = tf.keras.Model(inputs=inputs1, outputs=dense)"
   ]
  },
  {
   "cell_type": "code",
   "execution_count": null,
   "metadata": {
    "colab": {
     "base_uri": "https://localhost:8080/"
    },
    "id": "gizZemGaUWGj",
    "outputId": "b16832d4-89de-4a22-91cd-fb4f93e6e465"
   },
   "outputs": [],
   "source": [
    "model.summary()"
   ]
  },
  {
   "cell_type": "code",
   "execution_count": null,
   "metadata": {
    "id": "_mFmZRFdUWGk"
   },
   "outputs": [],
   "source": [
    "model.compile(loss=tf.keras.losses.BinaryCrossentropy(from_logits=True),\n",
    "              optimizer=tf.keras.optimizers.Adam(1e-3),\n",
    "              metrics=['accuracy'])"
   ]
  },
  {
   "cell_type": "code",
   "execution_count": null,
   "metadata": {
    "colab": {
     "base_uri": "https://localhost:8080/"
    },
    "id": "bj9iplrTUWGk",
    "outputId": "880515ae-c67d-4cd3-9bc5-08c8677656c4"
   },
   "outputs": [],
   "source": [
    "history = model.fit(\n",
    "    seq_train_ds,\n",
    "    epochs=20,\n",
    "    validation_data=seq_validation_ds,\n",
    "    batch_size=BATCH_SIZE,\n",
    "    callbacks=[early_stopping_cb, learning_rate_cb]\n",
    ")"
   ]
  },
  {
   "cell_type": "markdown",
   "metadata": {
    "id": "YN60RIqdUWGk"
   },
   "source": [
    "#### Results"
   ]
  },
  {
   "cell_type": "code",
   "execution_count": null,
   "metadata": {
    "colab": {
     "base_uri": "https://localhost:8080/",
     "height": 365
    },
    "id": "v2eD3bTxUWGk",
    "outputId": "66abae4a-a82b-46e8-fba1-8e38bc3f2bbe"
   },
   "outputs": [],
   "source": [
    "plot_history(history)"
   ]
  },
  {
   "cell_type": "code",
   "execution_count": null,
   "metadata": {
    "colab": {
     "base_uri": "https://localhost:8080/"
    },
    "id": "XLZpCFFIUWGl",
    "outputId": "ea610ed5-6ed8-4ca0-8b1d-f59ea2f9b761"
   },
   "outputs": [],
   "source": [
    "model.evaluate(seq_test_ds)"
   ]
  },
  {
   "cell_type": "code",
   "execution_count": null,
   "metadata": {
    "colab": {
     "base_uri": "https://localhost:8080/"
    },
    "id": "LfzDOjKRUWGl",
    "outputId": "5a89035e-5bf3-4a7f-e2ef-1b4e2af2ff0b"
   },
   "outputs": [],
   "source": [
    "model.evaluate(seq_test_ds)"
   ]
  },
  {
   "cell_type": "code",
   "execution_count": null,
   "metadata": {
    "colab": {
     "base_uri": "https://localhost:8080/"
    },
    "id": "b-9KkpTmUWGl",
    "outputId": "94ed3d23-2b4f-45fa-a933-e09c8b842016"
   },
   "outputs": [],
   "source": [
    "preds = model.predict(seq_test_ds)"
   ]
  },
  {
   "cell_type": "code",
   "execution_count": null,
   "metadata": {
    "colab": {
     "base_uri": "https://localhost:8080/"
    },
    "id": "0bKp1TznUWGl",
    "outputId": "66af14c7-f33f-4b97-8851-05a26445512a"
   },
   "outputs": [],
   "source": [
    "get_metrics(model, seq_test_ds)"
   ]
  },
  {
   "cell_type": "markdown",
   "metadata": {
    "id": "iyOgwtpAlqrB"
   },
   "source": [
    "A pasar de adolecer de cierto overfitting, añadiendo una nueva capa las métricas han mejorado en el conjunto de test, llegando a un 78% de precisión, cunaod sin apilar capas nos habíamos quedado en el 72%."
   ]
  },
  {
   "cell_type": "code",
   "execution_count": null,
   "metadata": {
    "colab": {
     "base_uri": "https://localhost:8080/",
     "height": 413
    },
    "id": "O-BN022rUWGm",
    "outputId": "aea00c55-c6f2-4df5-850e-92950ec67ca2"
   },
   "outputs": [],
   "source": [
    "plot_confusion_matrix(model, seq_test_ds)"
   ]
  },
  {
   "cell_type": "markdown",
   "metadata": {
    "id": "4rlWlqLSUWGm"
   },
   "source": [
    "#### Explore\n",
    "\n",
    "Vamos a ver cómo se reflejan estos cambios dentro de las mecánicas internas de la red. Exploraremos por separado los resultados tras la primera y segunda capa de redes recurrentes.\n",
    "\n"
   ]
  },
  {
   "cell_type": "markdown",
   "metadata": {
    "id": "zleLPOApcD7X"
   },
   "source": [
    "##### 2nd stack\n",
    "\n",
    "Vamos a explorar cómo reacciona la red tras su segunda capa."
   ]
  },
  {
   "cell_type": "code",
   "execution_count": null,
   "metadata": {
    "id": "_FUPoXkqUWGn"
   },
   "outputs": [],
   "source": [
    "emb_weights = model.layers[1].get_weights()\n",
    "rnn1_weights = model.layers[2].get_weights()\n",
    "rnn2_weights = model.layers[3].get_weights()\n",
    "dense_weights = model.layers[4].get_weights()"
   ]
  },
  {
   "cell_type": "code",
   "execution_count": null,
   "metadata": {
    "id": "mes-Ee_LUWGn"
   },
   "outputs": [],
   "source": [
    "inputs1 = tf.keras.layers.Input(shape=(MAX_SEQUENCE_LENGTH))\n",
    "emb = tf.keras.layers.Embedding(\n",
    "    input_dim=VOCAB_SIZE, output_dim=EMBEDDING_DIM)(inputs1)\n",
    "rnn1 = SimpleRNN(\n",
    "    4,\n",
    "    return_sequences=True,\n",
    "    kernel_regularizer=tf.keras.regularizers.L2()\n",
    "    )(emb)\n",
    "rnn2 = SimpleRNN(\n",
    "    4,\n",
    "    return_sequences=True,\n",
    "    kernel_initializer=tf.keras.initializers.TruncatedNormal(mean=0.0, stddev=0.05, seed=73),#HeNormal(seed=73),\n",
    "    recurrent_initializer=tf.keras.initializers.RandomUniform(\n",
    "        minval=-0.05, maxval=0.05, seed=73\n",
    "    ),\n",
    "    bias_initializer=tf.keras.initializers.RandomUniform(\n",
    "        minval=-0.05, maxval=0.05, seed=73\n",
    "    ),\n",
    "    kernel_regularizer=tf.keras.regularizers.L2()\n",
    "    )(rnn1)\n",
    "#dense = tf.keras.layers.Dense(1)(rnn2)\n",
    "model = tf.keras.Model(inputs=inputs1, outputs=rnn2)"
   ]
  },
  {
   "cell_type": "code",
   "execution_count": null,
   "metadata": {
    "id": "C4ybcOK2UWGn"
   },
   "outputs": [],
   "source": [
    "model.layers[1].set_weights(emb_weights)\n",
    "model.layers[2].set_weights(rnn1_weights)\n",
    "model.layers[3].set_weights(rnn2_weights)"
   ]
  },
  {
   "cell_type": "code",
   "execution_count": null,
   "metadata": {
    "id": "z1g2oy-2nLEh"
   },
   "outputs": [],
   "source": [
    "batch = list(seq_train_ds)[0][0]"
   ]
  },
  {
   "cell_type": "code",
   "execution_count": null,
   "metadata": {
    "colab": {
     "base_uri": "https://localhost:8080/"
    },
    "id": "v_Zq_1MOUWGo",
    "outputId": "2aa5cccf-8fa1-4437-ab0e-44745c432f0a"
   },
   "outputs": [],
   "source": [
    "preds = model.predict(batch)"
   ]
  },
  {
   "cell_type": "code",
   "execution_count": null,
   "metadata": {
    "colab": {
     "base_uri": "https://localhost:8080/",
     "height": 521
    },
    "id": "YIu68CvpUWGo",
    "outputId": "cf0715d2-4874-4f89-f812-b5197686da4b"
   },
   "outputs": [],
   "source": [
    "n = 5\n",
    "x = preds[n].flatten()\n",
    "words = [seq_vectorize_layer.get_vocabulary()[word_index] for word_index in batch[n].numpy()]\n",
    "for i, w in enumerate(dense_weights[0]):\n",
    "  print(f'unit-{i+1} weight:', w[0])\n",
    "\n",
    "plt.figure(figsize=(12,6))\n",
    "plt.xticks(range(MAX_SEQUENCE_LENGTH), words, rotation=75)\n",
    "plt.plot(preds[n][:,0], label=\"unit-1\")\n",
    "plt.plot(preds[n][:,1], label=\"unit-2\")\n",
    "plt.plot(preds[n][:,2], label=\"unit-3\")\n",
    "plt.plot(preds[n][:,3], label=\"unit-4\")\n",
    "plt.legend(loc=\"upper left\")"
   ]
  },
  {
   "cell_type": "markdown",
   "metadata": {
    "id": "XNa6caLrnZku"
   },
   "source": [
    "De la imágen anterior se extraen rápidamente dos cosas:\n",
    "\n",
    "- Existe una replicación clara entre las distintas unidades. La correlación entre los outputs es incluso mayor que en los casos anteriores.\n",
    "- La variación según se procesa la secuencia es más suave que en casos anteriores también."
   ]
  },
  {
   "cell_type": "markdown",
   "metadata": {
    "id": "M3WcanN-cH3x"
   },
   "source": [
    "##### 1st stack\n",
    "\n",
    "Vamo sa explorar la primera capa de pesos."
   ]
  },
  {
   "cell_type": "code",
   "execution_count": null,
   "metadata": {
    "id": "0QR_1xYQcKuO"
   },
   "outputs": [],
   "source": [
    "inputs1 = tf.keras.layers.Input(shape=(MAX_SEQUENCE_LENGTH))\n",
    "emb = tf.keras.layers.Embedding(\n",
    "    input_dim=VOCAB_SIZE, output_dim=EMBEDDING_DIM)(inputs1)\n",
    "rnn1 = SimpleRNN(4, return_sequences=True)(emb)\n",
    "dense = tf.keras.layers.Dense(1)(rnn1)\n",
    "model = tf.keras.Model(inputs=inputs1, outputs=rnn1) #rnn para tener sus outputs"
   ]
  },
  {
   "cell_type": "code",
   "execution_count": null,
   "metadata": {
    "id": "4VWOFVeIcKj-"
   },
   "outputs": [],
   "source": [
    "model.layers[1].set_weights(emb_weights)\n",
    "model.layers[2].set_weights(rnn1_weights)"
   ]
  },
  {
   "cell_type": "code",
   "execution_count": null,
   "metadata": {
    "colab": {
     "base_uri": "https://localhost:8080/"
    },
    "id": "XV49GDmNcKTO",
    "outputId": "26b2360d-af17-48e0-99ed-56ca80c01c90"
   },
   "outputs": [],
   "source": [
    "preds = model.predict(batch)"
   ]
  },
  {
   "cell_type": "code",
   "execution_count": null,
   "metadata": {
    "colab": {
     "base_uri": "https://localhost:8080/",
     "height": 521
    },
    "id": "2Dlb7p8VcKPA",
    "outputId": "8a5b4ee6-a219-4083-ed30-e7996d414d1f"
   },
   "outputs": [],
   "source": [
    "n = 5\n",
    "x = preds[n].flatten()\n",
    "words = [seq_vectorize_layer.get_vocabulary()[word_index] for word_index in batch[n].numpy()]\n",
    "for i, w in enumerate(dense_weights[0]):\n",
    "  print(f'unit-{i+1} weight:', w[0])\n",
    "\n",
    "plt.figure(figsize=(12,6))\n",
    "plt.xticks(range(MAX_SEQUENCE_LENGTH), words, rotation=75)\n",
    "plt.plot(preds[n][:,0], label=\"unit-1\")\n",
    "plt.plot(preds[n][:,1], label=\"unit-2\")\n",
    "plt.plot(preds[n][:,2], label=\"unit-3\")\n",
    "plt.plot(preds[n][:,3], label=\"unit-4\")\n",
    "plt.legend(loc=\"upper left\")"
   ]
  },
  {
   "cell_type": "markdown",
   "metadata": {
    "id": "l5mbW82CckCp"
   },
   "source": [
    "En este caso, los comportamientos de las distintas unidades no son tan similares, y los cambios dentro de los outputs de cada nidad para la misma secuencia son más bruscos que en la capa anterior.\n",
    "\n",
    "La hipoótesis en este punto es que a mayor número de capas apiladas, más estable es el comportamiento del output. Veamos qué ocurre si añadimos una tercera capa."
   ]
  },
  {
   "cell_type": "markdown",
   "metadata": {
    "id": "Tq_oYYEZc-Fo"
   },
   "source": [
    "### Entrenamiento 03: 3 stacked layers\n",
    "\n",
    "En este punto, vamos a probar incluyendo una capa adicional, para comprobar cómo impacta en la red y los resultados."
   ]
  },
  {
   "cell_type": "code",
   "execution_count": null,
   "metadata": {
    "id": "J5aWNJ_qc-Fp"
   },
   "outputs": [],
   "source": [
    "reset_session()"
   ]
  },
  {
   "cell_type": "code",
   "execution_count": null,
   "metadata": {
    "id": "5Njv2eSEc-Fp"
   },
   "outputs": [],
   "source": [
    "inputs1 = tf.keras.layers.Input(shape=(MAX_SEQUENCE_LENGTH))\n",
    "emb = tf.keras.layers.Embedding(\n",
    "    input_dim=VOCAB_SIZE, output_dim=EMBEDDING_DIM)(inputs1)\n",
    "rnn1 = SimpleRNN(\n",
    "    4,\n",
    "    return_sequences=True,\n",
    "    kernel_regularizer=tf.keras.regularizers.L2()\n",
    "    )(emb)\n",
    "rnn2 = SimpleRNN(\n",
    "    4,\n",
    "    return_sequences=True,\n",
    "    kernel_initializer=tf.keras.initializers.TruncatedNormal(mean=0.0, stddev=0.05, seed=73),\n",
    "    recurrent_initializer=tf.keras.initializers.RandomUniform(\n",
    "        minval=-0.05, maxval=0.05, seed=73\n",
    "    ),\n",
    "    bias_initializer=tf.keras.initializers.RandomUniform(\n",
    "        minval=-0.05, maxval=0.05, seed=73\n",
    "    ),\n",
    "    kernel_regularizer=tf.keras.regularizers.L2()\n",
    "    )(rnn1)\n",
    "rnn3 = SimpleRNN(\n",
    "    4,\n",
    "    kernel_initializer=tf.keras.initializers.TruncatedNormal(mean=0.0, stddev=0.05, seed=73),\n",
    "    recurrent_initializer=tf.keras.initializers.RandomUniform(\n",
    "        minval=-0.05, maxval=0.05, seed=73\n",
    "    ),\n",
    "    bias_initializer=tf.keras.initializers.RandomUniform(\n",
    "        minval=-0.05, maxval=0.05, seed=73\n",
    "    ),\n",
    "    kernel_regularizer=tf.keras.regularizers.L2()\n",
    "    )(rnn2)\n",
    "dense = tf.keras.layers.Dense(1)(rnn3)\n",
    "model = tf.keras.Model(inputs=inputs1, outputs=dense)"
   ]
  },
  {
   "cell_type": "code",
   "execution_count": null,
   "metadata": {
    "colab": {
     "base_uri": "https://localhost:8080/"
    },
    "id": "RdhLMILfc-Fp",
    "outputId": "126edb68-6408-4317-83ba-5067332d3108"
   },
   "outputs": [],
   "source": [
    "model.summary()"
   ]
  },
  {
   "cell_type": "code",
   "execution_count": null,
   "metadata": {
    "id": "5BXOSqkGc-Fp"
   },
   "outputs": [],
   "source": [
    "model.compile(loss=tf.keras.losses.BinaryCrossentropy(from_logits=True),\n",
    "              optimizer=tf.keras.optimizers.Adam(1e-3),\n",
    "              metrics=['accuracy'])"
   ]
  },
  {
   "cell_type": "code",
   "execution_count": null,
   "metadata": {
    "colab": {
     "base_uri": "https://localhost:8080/"
    },
    "id": "XThuC5xDc-Fu",
    "outputId": "037bcdfd-6a48-4253-aa0c-7c49811985eb"
   },
   "outputs": [],
   "source": [
    "history = model.fit(\n",
    "    seq_train_ds,\n",
    "    epochs=20,\n",
    "    validation_data=seq_validation_ds,\n",
    "    batch_size=BATCH_SIZE,\n",
    "    callbacks=[early_stopping_cb, learning_rate_cb]\n",
    ")"
   ]
  },
  {
   "cell_type": "markdown",
   "metadata": {
    "id": "oukAvgyWc-Fu"
   },
   "source": [
    "#### Results"
   ]
  },
  {
   "cell_type": "code",
   "execution_count": null,
   "metadata": {
    "colab": {
     "base_uri": "https://localhost:8080/",
     "height": 365
    },
    "id": "l3XXkpbxc-Fv",
    "outputId": "900a8a22-7819-4cfb-e618-a24bbd5badff"
   },
   "outputs": [],
   "source": [
    "plot_history(history)"
   ]
  },
  {
   "cell_type": "code",
   "execution_count": null,
   "metadata": {
    "colab": {
     "base_uri": "https://localhost:8080/"
    },
    "id": "SIgvnIdQc-Fv",
    "outputId": "862efdba-788e-49b4-fe98-89b723d29d95"
   },
   "outputs": [],
   "source": [
    "model.evaluate(seq_test_ds)"
   ]
  },
  {
   "cell_type": "code",
   "execution_count": null,
   "metadata": {
    "colab": {
     "base_uri": "https://localhost:8080/"
    },
    "id": "mW9IjlE-c-Fv",
    "outputId": "d2a910ea-6412-4955-eb7a-32b52227f3c7"
   },
   "outputs": [],
   "source": [
    "model.evaluate(seq_test_ds)"
   ]
  },
  {
   "cell_type": "code",
   "execution_count": null,
   "metadata": {
    "colab": {
     "base_uri": "https://localhost:8080/"
    },
    "id": "gym3sP_3c-Fv",
    "outputId": "31e177f5-611c-441d-cc1b-b27015c4147a"
   },
   "outputs": [],
   "source": [
    "preds = model.predict(seq_test_ds)"
   ]
  },
  {
   "cell_type": "code",
   "execution_count": null,
   "metadata": {
    "colab": {
     "base_uri": "https://localhost:8080/"
    },
    "id": "4gqGU0fAc-Fv",
    "outputId": "187d969f-e7dc-486c-e78e-aa6e4a314f4c"
   },
   "outputs": [],
   "source": [
    "get_metrics(model, seq_test_ds)"
   ]
  },
  {
   "cell_type": "markdown",
   "metadata": {
    "id": "FRLhKvPzrrxp"
   },
   "source": [
    "En este caso, no se presenta una mejora de los resultados, quedándonos cerca del 78% al igual que en el caso con únicamente dos capas apiladas.\n",
    "\n",
    "Por lo tanto una nueva capa no ofrece mejoras, y hace el modelo más proclive al overfitting. Sin embargo, nos da pie a poder explorar cómo se comporta esa capa adicional."
   ]
  },
  {
   "cell_type": "code",
   "execution_count": null,
   "metadata": {
    "colab": {
     "base_uri": "https://localhost:8080/",
     "height": 411
    },
    "id": "NUxQAOkZc-Fv",
    "outputId": "aafd3ffe-0cae-4675-8be3-7d0883f9ba16"
   },
   "outputs": [],
   "source": [
    "plot_confusion_matrix(model, seq_test_ds)"
   ]
  },
  {
   "cell_type": "markdown",
   "metadata": {
    "id": "vY1qeg7wc-Fw"
   },
   "source": [
    "#### Explore\n",
    "\n",
    "Revisamos rápidamente los gradientes, aunque no hay nada interesante en este punto."
   ]
  },
  {
   "cell_type": "code",
   "execution_count": null,
   "metadata": {
    "colab": {
     "base_uri": "https://localhost:8080/",
     "height": 1000
    },
    "id": "eACe4rVhc-Fw",
    "outputId": "c4279f5a-3e84-45ab-e74d-5f98199a764d"
   },
   "outputs": [],
   "source": [
    "get_gradient_overview(model, seq_train_ds)"
   ]
  },
  {
   "cell_type": "markdown",
   "metadata": {
    "id": "TSCYqF_Sc-Fx"
   },
   "source": [
    "##### 3rd stack\n",
    "\n",
    "Revisamos los outputs tras la tercera capa."
   ]
  },
  {
   "cell_type": "code",
   "execution_count": null,
   "metadata": {
    "id": "rZEeMx8oc-Fx"
   },
   "outputs": [],
   "source": [
    "emb_weights = model.layers[1].get_weights()\n",
    "rnn1_weights = model.layers[2].get_weights()\n",
    "rnn2_weights = model.layers[3].get_weights()\n",
    "rnn3_weights = model.layers[4].get_weights()"
   ]
  },
  {
   "cell_type": "code",
   "execution_count": null,
   "metadata": {
    "id": "H45KZNi0c-Fx"
   },
   "outputs": [],
   "source": [
    "inputs1 = tf.keras.layers.Input(shape=(MAX_SEQUENCE_LENGTH)) # No ponemos el batch_size. 32, 250 fallaría\n",
    "emb = tf.keras.layers.Embedding(\n",
    "    input_dim=VOCAB_SIZE, output_dim=EMBEDDING_DIM)(inputs1)\n",
    "rnn1 = SimpleRNN(4, return_sequences=True)(emb)\n",
    "rnn2 = SimpleRNN(4, return_sequences=True)(rnn1)\n",
    "rnn3 = SimpleRNN(4, return_sequences=True)(rnn2)\n",
    "dense = tf.keras.layers.Dense(1)(rnn3)\n",
    "model = tf.keras.Model(inputs=inputs1, outputs=rnn3) #rnn para tener sus outputs"
   ]
  },
  {
   "cell_type": "code",
   "execution_count": null,
   "metadata": {
    "id": "lFRb4QZUc-Fy"
   },
   "outputs": [],
   "source": [
    "model.layers[1].set_weights(emb_weights)\n",
    "model.layers[2].set_weights(rnn1_weights)\n",
    "model.layers[3].set_weights(rnn2_weights)\n",
    "model.layers[4].set_weights(rnn3_weights)"
   ]
  },
  {
   "cell_type": "code",
   "execution_count": null,
   "metadata": {
    "colab": {
     "base_uri": "https://localhost:8080/"
    },
    "id": "UkV-CRGbc-Fz",
    "outputId": "8bcf2cde-924f-42d9-f4ed-2159be9b008d"
   },
   "outputs": [],
   "source": [
    "preds = model.predict(batch)"
   ]
  },
  {
   "cell_type": "code",
   "execution_count": null,
   "metadata": {
    "colab": {
     "base_uri": "https://localhost:8080/",
     "height": 521
    },
    "id": "SPYKs8Vpc-Fz",
    "outputId": "c87046d5-1a1b-4349-a8f2-2d5803e941f3"
   },
   "outputs": [],
   "source": [
    "n = 5\n",
    "x = preds[n].flatten()\n",
    "words = [seq_vectorize_layer.get_vocabulary()[word_index] for word_index in batch[n].numpy()]\n",
    "for i, w in enumerate(dense_weights[0]):\n",
    "  print(f'unit-{i+1} weight:', w[0])\n",
    "\n",
    "plt.figure(figsize=(12,6))\n",
    "plt.xticks(range(MAX_SEQUENCE_LENGTH), words, rotation=75)\n",
    "plt.plot(preds[n][:,0], label=\"unit-1\")\n",
    "plt.plot(preds[n][:,1], label=\"unit-2\")\n",
    "plt.plot(preds[n][:,2], label=\"unit-3\")\n",
    "plt.plot(preds[n][:,3], label=\"unit-4\")\n",
    "plt.legend(loc=\"upper left\")"
   ]
  },
  {
   "cell_type": "markdown",
   "metadata": {
    "id": "ViaAL7UtszrC"
   },
   "source": [
    "Como era de esperar, todas las unidades presentan un comportamiento similar, y las secuencias de outputs son claramente estables.\n",
    "\n",
    "Vamos a revisar las capas inferiores."
   ]
  },
  {
   "cell_type": "markdown",
   "metadata": {
    "id": "kEfz9bXEeMXV"
   },
   "source": [
    "##### 2nd stack"
   ]
  },
  {
   "cell_type": "code",
   "execution_count": null,
   "metadata": {
    "id": "Q77SocwZeMXV"
   },
   "outputs": [],
   "source": [
    "inputs1 = tf.keras.layers.Input(shape=(MAX_SEQUENCE_LENGTH)) # No ponemos el batch_size. 32, 250 fallaría\n",
    "emb = tf.keras.layers.Embedding(\n",
    "    input_dim=VOCAB_SIZE, output_dim=EMBEDDING_DIM)(inputs1)\n",
    "rnn1 = SimpleRNN(4, return_sequences=True)(emb)\n",
    "rnn2 = SimpleRNN(4, return_sequences=True)(rnn1)\n",
    "dense = tf.keras.layers.Dense(1)(rnn2)\n",
    "model = tf.keras.Model(inputs=inputs1, outputs=rnn2) #rnn para tener sus outputs"
   ]
  },
  {
   "cell_type": "code",
   "execution_count": null,
   "metadata": {
    "id": "d-L8O5NEeMXW"
   },
   "outputs": [],
   "source": [
    "model.layers[1].set_weights(emb_weights)\n",
    "model.layers[2].set_weights(rnn1_weights)"
   ]
  },
  {
   "cell_type": "code",
   "execution_count": null,
   "metadata": {
    "colab": {
     "base_uri": "https://localhost:8080/"
    },
    "id": "arS6p-RCeMXW",
    "outputId": "f959ee1e-67e2-49ab-afd1-5aaf331286e1"
   },
   "outputs": [],
   "source": [
    "preds = model.predict(batch)"
   ]
  },
  {
   "cell_type": "code",
   "execution_count": null,
   "metadata": {
    "colab": {
     "base_uri": "https://localhost:8080/",
     "height": 521
    },
    "id": "Qy6ZNJ4seMXW",
    "outputId": "f7262143-7e55-46c9-9597-f2636044ba71"
   },
   "outputs": [],
   "source": [
    "n = 5\n",
    "x = preds[n].flatten()\n",
    "words = [seq_vectorize_layer.get_vocabulary()[word_index] for word_index in batch[n].numpy()]\n",
    "for i, w in enumerate(dense_weights[0]):\n",
    "  print(f'unit-{i+1} weight:', w[0])\n",
    "\n",
    "plt.figure(figsize=(12,6))\n",
    "plt.xticks(range(MAX_SEQUENCE_LENGTH), words, rotation=75)\n",
    "plt.plot(preds[n][:,0], label=\"unit-1\")\n",
    "plt.plot(preds[n][:,1], label=\"unit-2\")\n",
    "plt.plot(preds[n][:,2], label=\"unit-3\")\n",
    "plt.plot(preds[n][:,3], label=\"unit-4\")\n",
    "plt.legend(loc=\"upper left\")"
   ]
  },
  {
   "cell_type": "markdown",
   "metadata": {
    "id": "NIatfaMPtDoN"
   },
   "source": [
    "En este caso vemos como esta capa es mucho menos estable, y sin patrones claros entre las secuencias de las distintas unidades.\n",
    "\n",
    "Revisemos la primera capa."
   ]
  },
  {
   "cell_type": "markdown",
   "metadata": {
    "id": "-_heVbtEc-Fz"
   },
   "source": [
    "##### 1st stack"
   ]
  },
  {
   "cell_type": "code",
   "execution_count": null,
   "metadata": {
    "id": "BHPwwQfVc-Fz"
   },
   "outputs": [],
   "source": [
    "inputs1 = tf.keras.layers.Input(shape=(MAX_SEQUENCE_LENGTH)) # No ponemos el batch_size. 32, 250 fallaría\n",
    "emb = tf.keras.layers.Embedding(\n",
    "    input_dim=VOCAB_SIZE, output_dim=EMBEDDING_DIM)(inputs1)\n",
    "rnn1 = SimpleRNN(4, return_sequences=True)(emb)\n",
    "dense = tf.keras.layers.Dense(1)(rnn1)\n",
    "model = tf.keras.Model(inputs=inputs1, outputs=rnn1) #rnn para tener sus outputs"
   ]
  },
  {
   "cell_type": "code",
   "execution_count": null,
   "metadata": {
    "id": "tCba2T_zc-Fz"
   },
   "outputs": [],
   "source": [
    "model.layers[1].set_weights(emb_weights)\n",
    "model.layers[2].set_weights(rnn1_weights)"
   ]
  },
  {
   "cell_type": "code",
   "execution_count": null,
   "metadata": {
    "colab": {
     "base_uri": "https://localhost:8080/"
    },
    "id": "iN49oCDVc-Fz",
    "outputId": "31af30b2-4ff6-4a27-d02d-efc230dee9be"
   },
   "outputs": [],
   "source": [
    "preds = model.predict(batch)"
   ]
  },
  {
   "cell_type": "code",
   "execution_count": null,
   "metadata": {
    "colab": {
     "base_uri": "https://localhost:8080/",
     "height": 521
    },
    "id": "kFtOxlUjc-F0",
    "outputId": "585ee2df-eb1d-4869-ce46-d4a855815e6e"
   },
   "outputs": [],
   "source": [
    "n = 5\n",
    "x = preds[n].flatten()\n",
    "words = [seq_vectorize_layer.get_vocabulary()[word_index] for word_index in batch[n].numpy()]\n",
    "for i, w in enumerate(dense_weights[0]):\n",
    "  print(f'unit-{i+1} weight:', w[0])\n",
    "\n",
    "plt.figure(figsize=(12,6))\n",
    "plt.xticks(range(MAX_SEQUENCE_LENGTH), words, rotation=75)\n",
    "plt.plot(preds[n][:,0], label=\"unit-1\")\n",
    "plt.plot(preds[n][:,1], label=\"unit-2\")\n",
    "plt.plot(preds[n][:,2], label=\"unit-3\")\n",
    "plt.plot(preds[n][:,3], label=\"unit-4\")\n",
    "plt.legend(loc=\"upper left\")"
   ]
  },
  {
   "cell_type": "markdown",
   "metadata": {
    "id": "2P5LWMqDtYEF"
   },
   "source": [
    "Vemos que las secuencias son menos estables aún. Sin embargo, cuando entrenábamos redes más simples, no se generaban outputs tan inestables.\n",
    "\n",
    "Por todo esto, continuar añadiendo más capas apiladas no parece tener sentido."
   ]
  },
  {
   "cell_type": "markdown",
   "metadata": {
    "id": "xGMDAFRcuEAG"
   },
   "source": [
    "Hemos generado ya una intuición clara sobre las arquitecturas. Es momento de estudiar otros tipos de unidades."
   ]
  },
  {
   "cell_type": "markdown",
   "metadata": {
    "id": "MquZw_Sve8Lf"
   },
   "source": [
    "## LSTM\n",
    "\n",
    "\n",
    "Vamos a relaizar algunos entrenamientos a continuación con unidades tipo LSTM, y a comparar sus resultados.\n",
    "\n",
    "![LSTM_Cell.svg.png](data:image/png;base64,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)"
   ]
  },
  {
   "cell_type": "markdown",
   "metadata": {
    "id": "e6Lgh2K4f7_n"
   },
   "source": [
    "### Prueba 7: Red simple\n",
    "\n",
    "Vamos a probar con un entrenamiento sencillo."
   ]
  },
  {
   "cell_type": "code",
   "execution_count": null,
   "metadata": {
    "id": "NcgIe0HKf7_o"
   },
   "outputs": [],
   "source": [
    "reset_session()"
   ]
  },
  {
   "cell_type": "code",
   "execution_count": null,
   "metadata": {
    "id": "f8vDGnLQf7_p"
   },
   "outputs": [],
   "source": [
    "inputs1 = tf.keras.layers.Input(shape=(MAX_SEQUENCE_LENGTH))\n",
    "emb = tf.keras.layers.Embedding(\n",
    "    input_dim=VOCAB_SIZE, output_dim=EMBEDDING_DIM)(inputs1)\n",
    "rnn = tf.keras.layers.LSTM(\n",
    "    1,\n",
    "    kernel_regularizer=tf.keras.regularizers.L2()\n",
    "    )(emb)\n",
    "dense = tf.keras.layers.Dense(1)(rnn)\n",
    "model = tf.keras.Model(inputs=inputs1, outputs=dense)"
   ]
  },
  {
   "cell_type": "code",
   "execution_count": null,
   "metadata": {
    "colab": {
     "base_uri": "https://localhost:8080/"
    },
    "id": "mPYU4dM_f7_p",
    "outputId": "6be277e0-6521-43da-f555-763c7cd3abba"
   },
   "outputs": [],
   "source": [
    "model.summary()"
   ]
  },
  {
   "cell_type": "code",
   "execution_count": null,
   "metadata": {
    "id": "68YVw6whf7_p"
   },
   "outputs": [],
   "source": [
    "model.compile(loss=tf.keras.losses.BinaryCrossentropy(from_logits=True),\n",
    "              optimizer=tf.keras.optimizers.Adam(1e-3),\n",
    "              metrics=['accuracy'])"
   ]
  },
  {
   "cell_type": "code",
   "execution_count": null,
   "metadata": {
    "colab": {
     "base_uri": "https://localhost:8080/"
    },
    "id": "r6Zsi9Fkf7_p",
    "outputId": "de3611ea-b579-41e7-dfbf-95eec120d991"
   },
   "outputs": [],
   "source": [
    "history = model.fit(seq_train_ds, epochs=5,\n",
    "                    validation_data=seq_validation_ds,\n",
    "                    batch_size=BATCH_SIZE)"
   ]
  },
  {
   "cell_type": "code",
   "execution_count": null,
   "metadata": {
    "colab": {
     "base_uri": "https://localhost:8080/",
     "height": 365
    },
    "id": "6SN0g91yf7_p",
    "outputId": "6244f9d3-e79a-40b6-c9d3-2460d63b2359"
   },
   "outputs": [],
   "source": [
    "plot_history(history)"
   ]
  },
  {
   "cell_type": "markdown",
   "metadata": {
    "id": "RKl0bbEivQL7"
   },
   "source": [
    "Vamos a explorar cómo reacciona la red a las secuencias."
   ]
  },
  {
   "cell_type": "code",
   "execution_count": null,
   "metadata": {
    "id": "1kSOgJ8Wf7_q"
   },
   "outputs": [],
   "source": [
    "emb_weights = model.layers[1].get_weights()\n",
    "rnn_weights = model.layers[2].get_weights()\n",
    "dense_weights = model.layers[3].get_weights()"
   ]
  },
  {
   "cell_type": "code",
   "execution_count": null,
   "metadata": {
    "id": "GAGwhO5Zf7_q"
   },
   "outputs": [],
   "source": [
    "inputs1 = tf.keras.layers.Input(shape=(MAX_SEQUENCE_LENGTH)) # No ponemos el batch_size. 32, 250 fallaría\n",
    "emb = tf.keras.layers.Embedding(\n",
    "    input_dim=VOCAB_SIZE, output_dim=EMBEDDING_DIM)(inputs1)\n",
    "rnn = tf.keras.layers.LSTM(1, return_sequences=True, return_state=True)(emb)\n",
    "model = tf.keras.Model(inputs=inputs1, outputs=rnn) #rnn para tener sus outputs"
   ]
  },
  {
   "cell_type": "code",
   "execution_count": null,
   "metadata": {
    "id": "Zo3olDMcf7_q"
   },
   "outputs": [],
   "source": [
    "model.layers[1].set_weights(emb_weights)\n",
    "model.layers[2].set_weights(rnn_weights)"
   ]
  },
  {
   "cell_type": "code",
   "execution_count": null,
   "metadata": {
    "colab": {
     "base_uri": "https://localhost:8080/"
    },
    "id": "1jVsXxpmf7_q",
    "outputId": "aa600ab3-6d2d-4ebe-bf69-aaa249131b8f"
   },
   "outputs": [],
   "source": [
    "preds, state_h, state_c = model.predict(batch)"
   ]
  },
  {
   "cell_type": "code",
   "execution_count": null,
   "metadata": {
    "colab": {
     "base_uri": "https://localhost:8080/",
     "height": 472
    },
    "id": "WLn8VNYYf7_q",
    "outputId": "acb72a45-a59a-4d65-afe5-fcacc4708586"
   },
   "outputs": [],
   "source": [
    "n = 5\n",
    "x = preds[n].flatten()\n",
    "words = [seq_vectorize_layer.get_vocabulary()[word_index] for word_index in batch[n].numpy()]\n",
    "\n",
    "print(f'state_c: {state_c[n]} \\t state_h {state_h[n]}')\n",
    "\n",
    "plt.figure(figsize=(12,6))\n",
    "plt.xticks(range(MAX_SEQUENCE_LENGTH), words, rotation=75)\n",
    "plt.plot(preds[n][:,0], label=\"unit-1\")\n",
    "plt.legend(loc=\"upper left\")"
   ]
  },
  {
   "cell_type": "code",
   "execution_count": null,
   "metadata": {
    "colab": {
     "base_uri": "https://localhost:8080/",
     "height": 465
    },
    "id": "X6FTu7ejf7_q",
    "outputId": "de594bfb-52ad-4e71-b13d-fdb677a8b0b4"
   },
   "outputs": [],
   "source": [
    "n = 8\n",
    "x = preds[n].flatten()\n",
    "words = [seq_vectorize_layer.get_vocabulary()[word_index] for word_index in batch[n].numpy()]\n",
    "\n",
    "print(f'state_c: {state_c[n]} \\t state_h {state_h[n]}')\n",
    "\n",
    "plt.figure(figsize=(12,6))\n",
    "plt.xticks(range(MAX_SEQUENCE_LENGTH), words, rotation=75)\n",
    "plt.plot(preds[n][:,0], label=\"unit-1\")\n",
    "plt.legend(loc=\"upper left\")"
   ]
  },
  {
   "cell_type": "markdown",
   "metadata": {
    "id": "WIxplrMfv1uU"
   },
   "source": [
    "Por el momento los resultados son mejores que con la red análoga utilizando unidades tipo `SimpleRNN`, y el comportamiento de la red al procesar secuencias es similar."
   ]
  },
  {
   "cell_type": "markdown",
   "metadata": {
    "id": "20EANeD5mMLQ"
   },
   "source": [
    "### Prueba 8: más unidades.\n",
    "\n",
    "Vamos a ver cómo cambian los resultados añadiendo distintas unidades."
   ]
  },
  {
   "cell_type": "code",
   "execution_count": null,
   "metadata": {
    "id": "qCv5U78fmMLS"
   },
   "outputs": [],
   "source": [
    "reset_session()"
   ]
  },
  {
   "cell_type": "code",
   "execution_count": null,
   "metadata": {
    "id": "RxL80pO5mMLS"
   },
   "outputs": [],
   "source": [
    "inputs1 = tf.keras.layers.Input(shape=(MAX_SEQUENCE_LENGTH)) # No ponemos el batch_size. 32, 250 fallaría\n",
    "emb = tf.keras.layers.Embedding(\n",
    "    input_dim=VOCAB_SIZE, output_dim=EMBEDDING_DIM)(inputs1)\n",
    "rnn = tf.keras.layers.LSTM(\n",
    "    4,\n",
    "    kernel_regularizer=tf.keras.regularizers.L2()\n",
    "    )(emb)\n",
    "dense = tf.keras.layers.Dense(1)(rnn)\n",
    "model = tf.keras.Model(inputs=inputs1, outputs=dense)"
   ]
  },
  {
   "cell_type": "code",
   "execution_count": null,
   "metadata": {
    "colab": {
     "base_uri": "https://localhost:8080/"
    },
    "id": "tSvRxXp1mMLS",
    "outputId": "db354906-73ec-4180-d61a-271f89ca6968"
   },
   "outputs": [],
   "source": [
    "model.summary()"
   ]
  },
  {
   "cell_type": "code",
   "execution_count": null,
   "metadata": {
    "id": "VT-a_v5QmMLS"
   },
   "outputs": [],
   "source": [
    "model.compile(loss=tf.keras.losses.BinaryCrossentropy(from_logits=True),\n",
    "              optimizer=tf.keras.optimizers.Adam(1e-3),\n",
    "              metrics=['accuracy'])"
   ]
  },
  {
   "cell_type": "code",
   "execution_count": null,
   "metadata": {
    "colab": {
     "base_uri": "https://localhost:8080/"
    },
    "id": "rUWrIOiDmMLT",
    "outputId": "2fc6cc47-4864-48b9-f02a-d0d29cdd70cc"
   },
   "outputs": [],
   "source": [
    "history = model.fit(seq_train_ds, epochs=5,\n",
    "                    validation_data=seq_test_ds,\n",
    "                    batch_size=BATCH_SIZE)"
   ]
  },
  {
   "cell_type": "code",
   "execution_count": null,
   "metadata": {
    "colab": {
     "base_uri": "https://localhost:8080/",
     "height": 365
    },
    "id": "widOpYoTmMLT",
    "outputId": "b6120354-d0b1-4387-df3d-96a61eaed582"
   },
   "outputs": [],
   "source": [
    "plot_history(history)"
   ]
  },
  {
   "cell_type": "markdown",
   "metadata": {
    "id": "2kflRuhJwlLh"
   },
   "source": [
    "Los resultados por el momento son bastante similares a los obtenidos anteriormente."
   ]
  },
  {
   "cell_type": "code",
   "execution_count": null,
   "metadata": {
    "id": "IygPDknPmMLT"
   },
   "outputs": [],
   "source": [
    "emb_weights = model.layers[1].get_weights()\n",
    "rnn_weights = model.layers[2].get_weights()\n",
    "dense_weights = model.layers[3].get_weights()"
   ]
  },
  {
   "cell_type": "code",
   "execution_count": null,
   "metadata": {
    "id": "6sdiEpK2mMLT"
   },
   "outputs": [],
   "source": [
    "inputs1 = tf.keras.layers.Input(shape=(MAX_SEQUENCE_LENGTH)) # No ponemos el batch_size. 32, 250 fallaría\n",
    "emb = tf.keras.layers.Embedding(\n",
    "    input_dim=VOCAB_SIZE, output_dim=EMBEDDING_DIM)(inputs1)\n",
    "rnn = tf.keras.layers.LSTM(\n",
    "    4,\n",
    "    return_sequences=True,\n",
    "    kernel_regularizer=tf.keras.regularizers.L2()\n",
    "    )(emb)\n",
    "dense = tf.keras.layers.Dense(1)(rnn)\n",
    "model = tf.keras.Model(inputs=inputs1, outputs=rnn)"
   ]
  },
  {
   "cell_type": "code",
   "execution_count": null,
   "metadata": {
    "id": "0xl6h4gKmMLT"
   },
   "outputs": [],
   "source": [
    "model.layers[1].set_weights(emb_weights)\n",
    "model.layers[2].set_weights(rnn_weights)\n",
    "#model.layers[3].set_weights(dense_weights)"
   ]
  },
  {
   "cell_type": "code",
   "execution_count": null,
   "metadata": {
    "colab": {
     "base_uri": "https://localhost:8080/"
    },
    "id": "794nokCVmMLT",
    "outputId": "4536b1a2-1de4-4893-b85b-01ae6b08a09d"
   },
   "outputs": [],
   "source": [
    "preds = model.predict(batch)"
   ]
  },
  {
   "cell_type": "code",
   "execution_count": null,
   "metadata": {
    "colab": {
     "base_uri": "https://localhost:8080/",
     "height": 521
    },
    "id": "RyCOEjeqmMLT",
    "outputId": "e5a0302b-e820-4d1b-87c4-48234900f119"
   },
   "outputs": [],
   "source": [
    "n = 5\n",
    "x = preds[n].flatten()\n",
    "words = [seq_vectorize_layer.get_vocabulary()[word_index] for word_index in batch[n].numpy()]\n",
    "for i, w in enumerate(dense_weights[0]):\n",
    "  print(f'unit-{i+1} weight:', w[0])\n",
    "\n",
    "plt.figure(figsize=(12,6))\n",
    "plt.xticks(range(MAX_SEQUENCE_LENGTH), words, rotation=75)\n",
    "plt.plot(preds[n][:,0], label=\"unit-1\")\n",
    "plt.plot(preds[n][:,1], label=\"unit-2\")\n",
    "plt.plot(preds[n][:,2], label=\"unit-3\")\n",
    "plt.plot(preds[n][:,3], label=\"unit-4\")\n",
    "plt.legend(loc=\"upper left\")"
   ]
  },
  {
   "cell_type": "code",
   "execution_count": null,
   "metadata": {
    "colab": {
     "base_uri": "https://localhost:8080/",
     "height": 518
    },
    "id": "9QYcf8JvmMLT",
    "outputId": "ac356e89-5026-4727-bac9-9040bac02bcb"
   },
   "outputs": [],
   "source": [
    "n = 8\n",
    "x = preds[n].flatten()\n",
    "words = [seq_vectorize_layer.get_vocabulary()[word_index] for word_index in batch[n].numpy()]\n",
    "for i, w in enumerate(dense_weights[0]):\n",
    "  print(f'unit-{i+1} weight:', w[0])\n",
    "\n",
    "plt.figure(figsize=(12,6))\n",
    "plt.xticks(range(MAX_SEQUENCE_LENGTH), words, rotation=75)\n",
    "plt.plot(preds[n][:,0], label=\"unit-1\")\n",
    "plt.plot(preds[n][:,1], label=\"unit-2\")\n",
    "plt.plot(preds[n][:,2], label=\"unit-3\")\n",
    "plt.plot(preds[n][:,3], label=\"unit-4\")\n",
    "plt.legend(loc=\"upper left\")"
   ]
  },
  {
   "cell_type": "markdown",
   "metadata": {
    "id": "XK0c1Xyewzb6"
   },
   "source": [
    "Lo que sí llama la atención, es que con este tipo de redes las secuencias de outputs asociadas a cada unidad son mucho más estables.\n",
    "\n",
    "Claramente, la división en dos canales de memoria, uno más estable y otro más volátil, tiene un claro impacto en cómo la red representa las distintas secuencias.\n",
    "\n",
    "En este punto, cabe preguntarse cómo se comportarán con secuencias más largas."
   ]
  },
  {
   "cell_type": "markdown",
   "metadata": {
    "id": "q7ykkv_toV4z"
   },
   "source": [
    "### Prueba 9: Variación de longitud\n",
    "\n",
    "Si bien con las unidades de tipo `SimpleRNN` vimos que había problemas al procesar secuencias más largas, cabe explorar si este problema se soluciona al trabajar con este tipo de unidades, dado que han sido diseñadas para mejorar cómo se procesan secuencias más largas.\n",
    "\n",
    "Por tanto, vamos a realizar una prueba análoga para comprobar cómo se comportan este tipo de redes frente a distintas longitudes."
   ]
  },
  {
   "cell_type": "code",
   "execution_count": null,
   "metadata": {
    "id": "JwzrpsEa41mV"
   },
   "outputs": [],
   "source": [
    "reset_session()"
   ]
  },
  {
   "cell_type": "code",
   "execution_count": null,
   "metadata": {
    "id": "R4jSJE2xoV40"
   },
   "outputs": [],
   "source": [
    "long_vectorize_layer = TextVectorization(\n",
    "    max_tokens=VOCAB_SIZE,\n",
    "    output_mode='int',\n",
    "    output_sequence_length=500)"
   ]
  },
  {
   "cell_type": "code",
   "execution_count": null,
   "metadata": {
    "id": "Mt2Im7ygoV41"
   },
   "outputs": [],
   "source": [
    "def filter_labels(text, labels):\n",
    "  return text\n",
    "\n",
    "train_text = raw_train_ds.map(filter_labels)\n",
    "long_vectorize_layer.adapt(train_text)"
   ]
  },
  {
   "cell_type": "code",
   "execution_count": null,
   "metadata": {
    "id": "lr5ZzrSboV41"
   },
   "outputs": [],
   "source": [
    "long_vectorize_layer.adapt(train_text)"
   ]
  },
  {
   "cell_type": "code",
   "execution_count": null,
   "metadata": {
    "id": "gSE0-scEoV41"
   },
   "outputs": [],
   "source": [
    "def long_vectorize_text(text, label):\n",
    "  text = tf.expand_dims(text, -1)\n",
    "  return long_vectorize_layer(text), label"
   ]
  },
  {
   "cell_type": "code",
   "execution_count": null,
   "metadata": {
    "id": "541gP9c8oV41"
   },
   "outputs": [],
   "source": [
    "long_train_ds = raw_train_ds.map(long_vectorize_text)\n",
    "long_test_ds = raw_test_ds.map(long_vectorize_text)"
   ]
  },
  {
   "cell_type": "code",
   "execution_count": null,
   "metadata": {
    "id": "0E4KOV3JoV41"
   },
   "outputs": [],
   "source": [
    "long_train_ds = configure_dataset(long_train_ds)\n",
    "long_test_ds = configure_dataset(long_test_ds)"
   ]
  },
  {
   "cell_type": "markdown",
   "metadata": {
    "id": "LhHQtjYxxsIO"
   },
   "source": [
    "Esta vez, vamos a iterar entre 20 y 200 tokens."
   ]
  },
  {
   "cell_type": "code",
   "execution_count": null,
   "metadata": {
    "id": "ZVJfSEWAoV41"
   },
   "outputs": [],
   "source": [
    "lengths = [(i+1)*20 for i in range(10)]"
   ]
  },
  {
   "cell_type": "code",
   "execution_count": null,
   "metadata": {
    "colab": {
     "base_uri": "https://localhost:8080/"
    },
    "id": "V5nJwlA3oV41",
    "outputId": "c981fad3-4549-4663-ac2f-81eb7622a694"
   },
   "outputs": [],
   "source": [
    "%%time\n",
    "accs = []\n",
    "val_accs = []\n",
    "for NEW_LENGTH in lengths:\n",
    "\n",
    "  reset_session()\n",
    "  \n",
    "  @tf.autograph.experimental.do_not_convert\n",
    "  def shorten(vects, labels):\n",
    "    return vects[:,:NEW_LENGTH], labels\n",
    "\n",
    "  new_train_ds = long_train_ds.map(shorten)\n",
    "  new_test_ds = long_test_ds.map(shorten)\n",
    "\n",
    "  inputs1 = layers.Input(shape=(NEW_LENGTH))\n",
    "  emb = tf.keras.layers.Embedding(\n",
    "      input_dim=VOCAB_SIZE, output_dim=EMBEDDING_DIM)(inputs1)\n",
    "  rnn = tf.keras.layers.LSTM(\n",
    "      1,\n",
    "      kernel_regularizer=tf.keras.regularizers.L2()\n",
    "      )(emb)\n",
    "  model = tf.keras.Model(inputs=inputs1, outputs=rnn)\n",
    "\n",
    "  model.compile(loss=tf.keras.losses.BinaryCrossentropy(from_logits=True),\n",
    "                optimizer=tf.keras.optimizers.Adam(1e-3),\n",
    "                metrics=['accuracy'])\n",
    "  t0 = time.time()\n",
    "  history = model.fit(new_train_ds, epochs=5,\n",
    "                      validation_data=new_test_ds,\n",
    "                      batch_size=BATCH_SIZE,\n",
    "                      verbose=0)\n",
    "  t1 = time.time()\n",
    "  accs.append(history.history['accuracy'][-1])\n",
    "  val_accs.append(history.history['val_accuracy'][-1])\n",
    "  print(NEW_LENGTH, accs[-1], val_accs[-1], f'{t1 - t0:4.2f} s')"
   ]
  },
  {
   "cell_type": "code",
   "execution_count": null,
   "metadata": {
    "id": "pRwjuxxcoV42"
   },
   "outputs": [],
   "source": [
    "results = pd.DataFrame({'lenght': lengths, 'acc':accs, 'val_acc':val_accs})"
   ]
  },
  {
   "cell_type": "code",
   "execution_count": null,
   "metadata": {
    "colab": {
     "base_uri": "https://localhost:8080/",
     "height": 411
    },
    "id": "BLOzyRu7oV42",
    "outputId": "3fefff7c-396d-4257-8710-c9fbea654bd7"
   },
   "outputs": [],
   "source": [
    "sns.lineplot(results, x='lenght', y='acc', label='acc')\n",
    "sns.lineplot(results, x='lenght', y='val_acc', label='val_acc')"
   ]
  },
  {
   "cell_type": "markdown",
   "metadata": {
    "id": "vaeWe0j9x0cy"
   },
   "source": [
    "Queda claro que con este tipo de unidades podemos procesar con mejores resultados secuencias más largas que con unidades de tipo `SimpleRNN`, sin embargo, los mejores resultados se siguen obteniendo con secuencias relativamente cortas.\n",
    "\n",
    "Esto puede ser algo concreto del problema que estamos tratando, y habría que probarlo en clasificación de textos más largos."
   ]
  },
  {
   "cell_type": "markdown",
   "metadata": {
    "id": "Wbzlv7d0q1PH"
   },
   "source": [
    "### Prueba 10: Variación de longitud y unidades\n",
    "\n",
    "En el apartado anterior hicimos las pruebas con una única unidad, para que los resultados fuesen equiparables a los del primer apartado. Sin embargo, cabe preguntarse si el comportamiento cambiará con más unidades.\n",
    "\n",
    "De hecho, cabría hacerse la misma pregunta, apilando más unidades. Sin embargo, no entraremos ahora en esa comprobación."
   ]
  },
  {
   "cell_type": "code",
   "execution_count": null,
   "metadata": {
    "id": "wzjjRU_D5R9q"
   },
   "outputs": [],
   "source": [
    "lengths = [(i+1)*20 for i in range(10)]"
   ]
  },
  {
   "cell_type": "code",
   "execution_count": null,
   "metadata": {
    "colab": {
     "base_uri": "https://localhost:8080/"
    },
    "id": "XEpTXDi5UWGp",
    "outputId": "67e98454-e1d0-4a3f-bded-2cb213b944ea"
   },
   "outputs": [],
   "source": [
    "%%time\n",
    "accs = []\n",
    "val_accs = []\n",
    "for NEW_LENGTH in lengths:\n",
    "\n",
    "  reset_session()\n",
    "  \n",
    "  @tf.autograph.experimental.do_not_convert\n",
    "  def shorten(vects, labels):\n",
    "    return vects[:,:NEW_LENGTH], labels\n",
    "\n",
    "  new_train_ds = long_train_ds.map(shorten)\n",
    "  new_test_ds = long_test_ds.map(shorten)\n",
    "\n",
    "  inputs1 = layers.Input(shape=(NEW_LENGTH))\n",
    "  emb = tf.keras.layers.Embedding(\n",
    "      input_dim=VOCAB_SIZE, output_dim=EMBEDDING_DIM)(inputs1)\n",
    "  rnn = tf.keras.layers.LSTM(\n",
    "      4,\n",
    "      kernel_regularizer=tf.keras.regularizers.L2()\n",
    "      )(emb)\n",
    "  dense = tf.keras.layers.Dense(1)(rnn)\n",
    "  model = tf.keras.Model(inputs=inputs1, outputs=dense)\n",
    "\n",
    "  model.compile(loss=tf.keras.losses.BinaryCrossentropy(from_logits=True),\n",
    "                optimizer=tf.keras.optimizers.Adam(1e-3),\n",
    "                metrics=['accuracy'])\n",
    "  t0 = time.time()\n",
    "  history = model.fit(new_train_ds, epochs=5,\n",
    "                      validation_data=new_test_ds,\n",
    "                      batch_size=BATCH_SIZE,\n",
    "                      verbose=0)\n",
    "  t1 = time.time()\n",
    "  accs.append(history.history['accuracy'][-1])\n",
    "  val_accs.append(history.history['val_accuracy'][-1])\n",
    "  print(NEW_LENGTH, accs[-1], val_accs[-1], f'{t1 - t0:4.2f} s')"
   ]
  },
  {
   "cell_type": "code",
   "execution_count": null,
   "metadata": {
    "id": "sVu0V6vAUWGp"
   },
   "outputs": [],
   "source": [
    "results = pd.DataFrame({'lenght': lengths, 'acc':accs, 'val_acc':val_accs})"
   ]
  },
  {
   "cell_type": "code",
   "execution_count": null,
   "metadata": {
    "colab": {
     "base_uri": "https://localhost:8080/",
     "height": 411
    },
    "id": "sfWKICsrUWGp",
    "outputId": "9c642c6a-f82a-4e8f-923c-a00e0f677606"
   },
   "outputs": [],
   "source": [
    "sns.lineplot(results, x='lenght', y='acc', label='acc')\n",
    "sns.lineplot(results, x='lenght', y='val_acc', label='val_acc')"
   ]
  },
  {
   "cell_type": "markdown",
   "metadata": {
    "id": "WMxXVi079tzk"
   },
   "source": [
    "Tras esta prueba, las mejoras con longitudes mayores no son signficativas. Vamos a pasar a realizar entrenamientos."
   ]
  },
  {
   "cell_type": "markdown",
   "metadata": {
    "id": "tSjoB0dtJBTP"
   },
   "source": [
    "### Entrenamiento 04: Stacked LSTM\n",
    "\n",
    "Vamos a reproducir las condiciones del entrenamiento con mejores resultados hasta el momento, pero sustituyendo las unidades `SimpleRNN` por unidades tipo `LSTM`."
   ]
  },
  {
   "cell_type": "code",
   "execution_count": null,
   "metadata": {
    "id": "EMN2xic8MPR1"
   },
   "outputs": [],
   "source": [
    "reset_session()"
   ]
  },
  {
   "cell_type": "code",
   "execution_count": null,
   "metadata": {
    "id": "zhf5DYLkMPR1"
   },
   "outputs": [],
   "source": [
    "inputs1 = tf.keras.layers.Input(shape=(MAX_SEQUENCE_LENGTH)) # No ponemos el batch_size. 32, 250 fallaría\n",
    "emb = tf.keras.layers.Embedding(\n",
    "    input_dim=VOCAB_SIZE, output_dim=EMBEDDING_DIM)(inputs1)\n",
    "rnn1 = tf.keras.layers.LSTM(\n",
    "    4,\n",
    "    return_sequences=True,\n",
    "    kernel_regularizer=tf.keras.regularizers.L2()\n",
    "    )(emb)\n",
    "rnn2 = tf.keras.layers.LSTM(\n",
    "    4,\n",
    "    kernel_initializer=tf.keras.initializers.TruncatedNormal(mean=0.0, stddev=0.05, seed=73),#HeNormal(seed=73),\n",
    "    recurrent_initializer=tf.keras.initializers.RandomUniform(\n",
    "        minval=-0.05, maxval=0.05, seed=73\n",
    "    ),\n",
    "    bias_initializer=tf.keras.initializers.RandomUniform(\n",
    "        minval=-0.05, maxval=0.05, seed=73\n",
    "    ),\n",
    "    kernel_regularizer=tf.keras.regularizers.L2()\n",
    "    )(rnn1)\n",
    "dense = tf.keras.layers.Dense(1)(rnn2)\n",
    "model = tf.keras.Model(inputs=inputs1, outputs=dense)"
   ]
  },
  {
   "cell_type": "code",
   "execution_count": null,
   "metadata": {
    "colab": {
     "base_uri": "https://localhost:8080/"
    },
    "id": "sIzgUIldMPR2",
    "outputId": "75458aee-fa85-49d0-aea7-06a650109480"
   },
   "outputs": [],
   "source": [
    "model.summary()"
   ]
  },
  {
   "cell_type": "code",
   "execution_count": null,
   "metadata": {
    "id": "anWAQ-7GMPR2"
   },
   "outputs": [],
   "source": [
    "model.compile(loss=tf.keras.losses.BinaryCrossentropy(from_logits=True),\n",
    "              optimizer=tf.keras.optimizers.Adam(1e-3),\n",
    "              metrics=['accuracy'])"
   ]
  },
  {
   "cell_type": "code",
   "execution_count": null,
   "metadata": {
    "colab": {
     "base_uri": "https://localhost:8080/"
    },
    "id": "Ka-0-k8hMPR2",
    "outputId": "374e6415-f293-4d77-c97f-3700941f774e"
   },
   "outputs": [],
   "source": [
    "history = model.fit(\n",
    "    seq_train_ds,\n",
    "    epochs=20,\n",
    "    validation_data=seq_validation_ds,\n",
    "    batch_size=BATCH_SIZE,\n",
    "    callbacks=[early_stopping_cb, learning_rate_cb]\n",
    ")"
   ]
  },
  {
   "cell_type": "markdown",
   "metadata": {
    "id": "lN6tEwhdMPR2"
   },
   "source": [
    "#### Results"
   ]
  },
  {
   "cell_type": "code",
   "execution_count": null,
   "metadata": {
    "colab": {
     "base_uri": "https://localhost:8080/",
     "height": 365
    },
    "id": "PSqjCaptMPR2",
    "outputId": "67da08b7-8209-4622-fb2f-e01fb618bbdc"
   },
   "outputs": [],
   "source": [
    "plot_history(history)"
   ]
  },
  {
   "cell_type": "code",
   "execution_count": null,
   "metadata": {
    "colab": {
     "base_uri": "https://localhost:8080/"
    },
    "id": "VJxFJXEVMPR3",
    "outputId": "be645260-7390-4b43-a393-9324aa035c26"
   },
   "outputs": [],
   "source": [
    "model.evaluate(seq_test_ds)"
   ]
  },
  {
   "cell_type": "code",
   "execution_count": null,
   "metadata": {
    "colab": {
     "base_uri": "https://localhost:8080/"
    },
    "id": "1V4qtPLeMPR3",
    "outputId": "de8cf7bd-46bc-45ac-e5f6-8356569089c3"
   },
   "outputs": [],
   "source": [
    "model.evaluate(seq_test_ds)"
   ]
  },
  {
   "cell_type": "code",
   "execution_count": null,
   "metadata": {
    "colab": {
     "base_uri": "https://localhost:8080/"
    },
    "id": "mhhtX6oVMPR3",
    "outputId": "5a0771ba-7915-4395-d65b-70940019441d"
   },
   "outputs": [],
   "source": [
    "preds = model.predict(seq_test_ds)"
   ]
  },
  {
   "cell_type": "code",
   "execution_count": null,
   "metadata": {
    "colab": {
     "base_uri": "https://localhost:8080/"
    },
    "id": "TT9lZlFgMPR3",
    "outputId": "847c81d0-8cad-40b6-c2d2-9738fc964304"
   },
   "outputs": [],
   "source": [
    "get_metrics(model, seq_test_ds)"
   ]
  },
  {
   "cell_type": "code",
   "execution_count": null,
   "metadata": {
    "colab": {
     "base_uri": "https://localhost:8080/",
     "height": 411
    },
    "id": "RXZWnOM6MPR3",
    "outputId": "645bcce5-8c55-46f1-9c14-9c8a048d2b90"
   },
   "outputs": [],
   "source": [
    "plot_confusion_matrix(model, seq_test_ds)"
   ]
  },
  {
   "cell_type": "markdown",
   "metadata": {
    "id": "v7eGHzzOHMkx"
   },
   "source": [
    "Las métricas obtenidas son levemente peores que en la mejor prueba hasta el momento, pero la diferencia es tan pequeña que no es significativa (78% vs 77% de precisión).\n",
    "\n",
    "Vamos a explorar internamente el modelo."
   ]
  },
  {
   "cell_type": "markdown",
   "metadata": {
    "id": "zbGT89BwMPR4"
   },
   "source": [
    "#### Explore"
   ]
  },
  {
   "cell_type": "markdown",
   "metadata": {
    "id": "Vn24XhCqMPR4"
   },
   "source": [
    "##### 2nd stack"
   ]
  },
  {
   "cell_type": "code",
   "execution_count": null,
   "metadata": {
    "id": "Q_FNIe9iMPR4"
   },
   "outputs": [],
   "source": [
    "emb_weights = model.layers[1].get_weights()\n",
    "rnn1_weights = model.layers[2].get_weights()\n",
    "rnn2_weights = model.layers[3].get_weights()\n",
    "dense_weights = model.layers[4].get_weights()"
   ]
  },
  {
   "cell_type": "code",
   "execution_count": null,
   "metadata": {
    "id": "gdllzRZGMPR4"
   },
   "outputs": [],
   "source": [
    "inputs1 = tf.keras.layers.Input(shape=(MAX_SEQUENCE_LENGTH)) # No ponemos el batch_size. 32, 250 fallaría\n",
    "emb = tf.keras.layers.Embedding(\n",
    "    input_dim=VOCAB_SIZE, output_dim=EMBEDDING_DIM)(inputs1)\n",
    "rnn1 = tf.keras.layers.LSTM(4, return_sequences=True)(emb)\n",
    "rnn2 = tf.keras.layers.LSTM(4, return_sequences=True)(rnn1)\n",
    "dense = tf.keras.layers.Dense(1)(rnn2)\n",
    "model = tf.keras.Model(inputs=inputs1, outputs=rnn2) #rnn para tener sus outputs"
   ]
  },
  {
   "cell_type": "code",
   "execution_count": null,
   "metadata": {
    "id": "RuBGfgl2MPR4"
   },
   "outputs": [],
   "source": [
    "model.layers[1].set_weights(emb_weights)\n",
    "model.layers[2].set_weights(rnn1_weights)\n",
    "model.layers[3].set_weights(rnn2_weights)"
   ]
  },
  {
   "cell_type": "code",
   "execution_count": null,
   "metadata": {
    "id": "kcjfxUh8Ho5G"
   },
   "outputs": [],
   "source": [
    "batch = list(seq_train_ds)[0][0]"
   ]
  },
  {
   "cell_type": "code",
   "execution_count": null,
   "metadata": {
    "colab": {
     "base_uri": "https://localhost:8080/"
    },
    "id": "4dIRk3oPMPR4",
    "outputId": "77f4ca09-226c-452f-bd89-3aef78534189"
   },
   "outputs": [],
   "source": [
    "preds = model.predict(batch)"
   ]
  },
  {
   "cell_type": "code",
   "execution_count": null,
   "metadata": {
    "colab": {
     "base_uri": "https://localhost:8080/",
     "height": 518
    },
    "id": "BNH_HbgxMPR5",
    "outputId": "cc441040-1e61-4bb0-a3b9-b07838a4a5fe"
   },
   "outputs": [],
   "source": [
    "n = 5\n",
    "x = preds[n].flatten()\n",
    "words = [seq_vectorize_layer.get_vocabulary()[word_index] for word_index in batch[n].numpy()]\n",
    "for i, w in enumerate(dense_weights[0]):\n",
    "  print(f'unit-{i+1} weight:', w[0])\n",
    "\n",
    "plt.figure(figsize=(12,6))\n",
    "plt.xticks(range(MAX_SEQUENCE_LENGTH), words, rotation=75)\n",
    "plt.plot(preds[n][:,0], label=\"unit-1\")\n",
    "plt.plot(preds[n][:,1], label=\"unit-2\")\n",
    "plt.plot(preds[n][:,2], label=\"unit-3\")\n",
    "plt.plot(preds[n][:,3], label=\"unit-4\")\n",
    "plt.legend(loc=\"upper left\")"
   ]
  },
  {
   "cell_type": "markdown",
   "metadata": {
    "id": "CH6ez2gEHuTk"
   },
   "source": [
    "Como podemos observar, el comportamiento de los outputs es el más suave de los obtenidos hasta el momento. Veamso qué ocurre con la primera capa."
   ]
  },
  {
   "cell_type": "markdown",
   "metadata": {
    "id": "_QO5PPEyMPR5"
   },
   "source": [
    "##### 1st stack"
   ]
  },
  {
   "cell_type": "code",
   "execution_count": null,
   "metadata": {
    "id": "fma65w_UMPR5"
   },
   "outputs": [],
   "source": [
    "inputs1 = tf.keras.layers.Input(shape=(MAX_SEQUENCE_LENGTH)) # No ponemos el batch_size. 32, 250 fallaría\n",
    "emb = tf.keras.layers.Embedding(\n",
    "    input_dim=VOCAB_SIZE, output_dim=EMBEDDING_DIM)(inputs1)\n",
    "rnn1 = tf.keras.layers.LSTM(4, return_sequences=True)(emb)\n",
    "dense = tf.keras.layers.Dense(1)(rnn1)\n",
    "model = tf.keras.Model(inputs=inputs1, outputs=rnn1) #rnn para tener sus outputs"
   ]
  },
  {
   "cell_type": "code",
   "execution_count": null,
   "metadata": {
    "id": "_eJuG5VXMPR5"
   },
   "outputs": [],
   "source": [
    "model.layers[1].set_weights(emb_weights)\n",
    "model.layers[2].set_weights(rnn1_weights)"
   ]
  },
  {
   "cell_type": "code",
   "execution_count": null,
   "metadata": {
    "colab": {
     "base_uri": "https://localhost:8080/"
    },
    "id": "clSaEjlAMPR5",
    "outputId": "8faf4fd3-cbf8-4aa6-a575-5c5a8225963f"
   },
   "outputs": [],
   "source": [
    "preds = model.predict(batch)"
   ]
  },
  {
   "cell_type": "code",
   "execution_count": null,
   "metadata": {
    "colab": {
     "base_uri": "https://localhost:8080/",
     "height": 518
    },
    "id": "RHmtsCvrMPR5",
    "outputId": "8df0bc29-9547-4856-b24f-6ee4b94146cf"
   },
   "outputs": [],
   "source": [
    "n = 5\n",
    "x = preds[n].flatten()\n",
    "words = [seq_vectorize_layer.get_vocabulary()[word_index] for word_index in batch[n].numpy()]\n",
    "for i, w in enumerate(dense_weights[0]):\n",
    "  print(f'unit-{i+1} weight:', w[0])\n",
    "\n",
    "plt.figure(figsize=(12,6))\n",
    "plt.xticks(range(MAX_SEQUENCE_LENGTH), words, rotation=75)\n",
    "plt.plot(preds[n][:,0], label=\"unit-1\")\n",
    "plt.plot(preds[n][:,1], label=\"unit-2\")\n",
    "plt.plot(preds[n][:,2], label=\"unit-3\")\n",
    "plt.plot(preds[n][:,3], label=\"unit-4\")\n",
    "plt.legend(loc=\"upper left\")"
   ]
  },
  {
   "cell_type": "markdown",
   "metadata": {
    "id": "eEERp_g7H6yB"
   },
   "source": [
    "En esta capa, las progresiones son algo menos suaves que en la segunda capa, pero son mucho más estables que usando `SimpleRNN`.\n",
    "\n",
    "Vemos claramente que se cumple la hipótesis de que a mayor número de capas, mayor estabilidad de las decisiones de la red, y también vemos que en este caso, la estabilidad es mayor que con redes más simples."
   ]
  },
  {
   "cell_type": "markdown",
   "metadata": {
    "id": "OLMjyjztP5qw"
   },
   "source": [
    "### Entrenamiento 05: Dropout\n",
    "\n",
    "Durante los últimos entrenamientos los modelos que hemos entrenado han sufrido de cierto nivel de overfitting, que les impedía mejorar. Vamos a intentar corregirlo introduciendo mecanismos de dropout en los entrenamientos. Adicionalmente vamos a reducir de 4 a 2 unidades, para intentar reducir el overfitting."
   ]
  },
  {
   "cell_type": "code",
   "execution_count": null,
   "metadata": {
    "id": "dSMEqM1dP5qy"
   },
   "outputs": [],
   "source": [
    "reset_session()"
   ]
  },
  {
   "cell_type": "code",
   "execution_count": null,
   "metadata": {
    "id": "5g7zmhM6P5qz"
   },
   "outputs": [],
   "source": [
    "inputs1 = tf.keras.layers.Input(shape=(MAX_SEQUENCE_LENGTH)) # No ponemos el batch_size. 32, 250 fallaría\n",
    "emb = tf.keras.layers.Embedding(\n",
    "    input_dim=VOCAB_SIZE, output_dim=EMBEDDING_DIM)(inputs1)\n",
    "rnn1 = tf.keras.layers.LSTM(\n",
    "    2,\n",
    "    return_sequences=True,\n",
    "    kernel_regularizer=tf.keras.regularizers.L2(),\n",
    "    dropout=0.4,\n",
    "    recurrent_dropout=0.2\n",
    "    )(emb)\n",
    "rnn2 = tf.keras.layers.LSTM(\n",
    "    2,\n",
    "    dropout=0.4,\n",
    "    recurrent_dropout=0.2,\n",
    "    kernel_regularizer=tf.keras.regularizers.L2()\n",
    "    )(rnn1)\n",
    "dense = tf.keras.layers.Dense(1)(rnn2)\n",
    "model = tf.keras.Model(inputs=inputs1, outputs=dense)"
   ]
  },
  {
   "cell_type": "code",
   "execution_count": null,
   "metadata": {
    "colab": {
     "base_uri": "https://localhost:8080/"
    },
    "id": "p7aF7fFtP5qz",
    "outputId": "ba2d6440-8d28-4384-dffd-e8f294c54204"
   },
   "outputs": [],
   "source": [
    "model.summary()"
   ]
  },
  {
   "cell_type": "code",
   "execution_count": null,
   "metadata": {
    "id": "CQP_0Y2YP5qz"
   },
   "outputs": [],
   "source": [
    "model.compile(loss=tf.keras.losses.BinaryCrossentropy(from_logits=True),\n",
    "              optimizer=tf.keras.optimizers.Adam(1e-3),\n",
    "              metrics=['accuracy'])"
   ]
  },
  {
   "cell_type": "code",
   "execution_count": null,
   "metadata": {
    "colab": {
     "base_uri": "https://localhost:8080/"
    },
    "id": "wTEB24Y8P5qz",
    "outputId": "4d1221ad-9a63-46ca-f4ed-222d8b33c544"
   },
   "outputs": [],
   "source": [
    "history = model.fit(\n",
    "    seq_train_ds,\n",
    "    epochs=20,\n",
    "    validation_data=seq_validation_ds,\n",
    "    batch_size=BATCH_SIZE,\n",
    "    callbacks=[early_stopping_cb, learning_rate_cb]\n",
    ")"
   ]
  },
  {
   "cell_type": "markdown",
   "metadata": {
    "id": "4aO_Q_N8P5q0"
   },
   "source": [
    "#### Results"
   ]
  },
  {
   "cell_type": "code",
   "execution_count": null,
   "metadata": {
    "colab": {
     "base_uri": "https://localhost:8080/",
     "height": 365
    },
    "id": "sr2gble2P5q0",
    "outputId": "3b5ababc-d7b3-44f5-e15f-d0043fcaeb75"
   },
   "outputs": [],
   "source": [
    "plot_history(history)"
   ]
  },
  {
   "cell_type": "code",
   "execution_count": null,
   "metadata": {
    "colab": {
     "base_uri": "https://localhost:8080/"
    },
    "id": "PGrFlom_P5q0",
    "outputId": "4dc53252-a0d3-4bf4-f0a6-1b27507ccb4b"
   },
   "outputs": [],
   "source": [
    "model.evaluate(seq_test_ds)"
   ]
  },
  {
   "cell_type": "code",
   "execution_count": null,
   "metadata": {
    "colab": {
     "base_uri": "https://localhost:8080/"
    },
    "id": "zsU3vr8EP5q0",
    "outputId": "5bf6ff06-7dc0-4bbe-a4c1-c7accf0f24b5"
   },
   "outputs": [],
   "source": [
    "model.evaluate(seq_test_ds)"
   ]
  },
  {
   "cell_type": "code",
   "execution_count": null,
   "metadata": {
    "colab": {
     "base_uri": "https://localhost:8080/"
    },
    "id": "dJBg9pDrP5q0",
    "outputId": "88897560-1f59-45d2-b117-78c7e2f0b779"
   },
   "outputs": [],
   "source": [
    "preds = model.predict(seq_test_ds)"
   ]
  },
  {
   "cell_type": "code",
   "execution_count": null,
   "metadata": {
    "colab": {
     "base_uri": "https://localhost:8080/"
    },
    "id": "HbIMKz1CP5q0",
    "outputId": "33da306f-46fd-4913-d54b-6b776b3f3802"
   },
   "outputs": [],
   "source": [
    "get_metrics(model, seq_test_ds)"
   ]
  },
  {
   "cell_type": "markdown",
   "metadata": {
    "id": "rHGlcDt4LIFq"
   },
   "source": [
    "En este caso tampoco hemos encontrado una mejora clara de los resultados, obteniendo métricas ligeramente por debajo del 78% de precisión."
   ]
  },
  {
   "cell_type": "code",
   "execution_count": null,
   "metadata": {
    "colab": {
     "base_uri": "https://localhost:8080/",
     "height": 411
    },
    "id": "lUYufjW_P5q1",
    "outputId": "011ada36-e1a8-4207-d172-f3ca14e0dd08"
   },
   "outputs": [],
   "source": [
    "plot_confusion_matrix(model, seq_test_ds)"
   ]
  },
  {
   "cell_type": "markdown",
   "metadata": {
    "id": "7Fm43CF4UwCP"
   },
   "source": [
    "## GRU\n",
    "\n",
    "Finalmente vamos a probar con unidades tipo `GRU`. Son muy similares a las unidades `LSTM`, con lo que vamos a reproducir directamente los últimos experimentos con este tipo de unidades.\n",
    "\n",
    "![RNN-vs-LSTM-vs-GRU-1024x308.png](data:image/png;base64,iVBORw0KGgoAAAANSUhEUgAABAAAAAE0CAYAAACyzkGfAAAACXBIWXMAAA7EAAAOxAGVKw4bAAAgAElEQVR4nOx9d7hU1bX4mrkX7gUEkSYgCIpI0aBSBEtiiR2DPSCgWBOj0fiZWH6amORpokaNkZigErvY0ATRJ4Ii5KlYMIpRlIiiKFIUQZpcbju/P3hn3j5rVtv7nLlc8K7vm2/m7L32anu1s6fl6uvrI3Agl8sBAEAUJYYhl8sVxuLXMa6L746FAqZt4cGt0XhgPTFQOJiPS8sig4Qn6Z6F3iGyufpTe26Zi+clWqXWL8SvrLQ0P3KBW2exhzbni99Q/qb5FYAt92jj1pzUUH4VaisJfPwnCz2zjBtfHtqaGCx5yeJXFv/JIl9o46Fr3HkXD9uqIWua75qsa5oP/1LUtC3RK0lzIfVDAynGSgHbSk2j/Icbd+lsbb1SvIbzJYv/ZNkrlbIXtMgl0YohpKZxIOUpl05WfaXvmpCaFo8D2GsaNddQvVJjrGm56H9n0wiY5c1KqXn6zGUleylk3RLylAqa5Nk6ZEkjT6n02FZiqzHt5ZaSBcC/sW3yq6aatqV4hsiT5c1/FtCYbJNmrrHJsy3lHgkakzyNSZY08nxb/GpbkadU0BDy5HFBiq+tJ0vUWjyn0fThxRXQKIoKj9DCKxnbZ9xK17IuhLePPV189yQsFEL22nIybOFplUGjofmPi5vGVhwPbj+0E84QXtZxC3Anj5pfhbybgNf65p4s/crHd6xz2v6E7JN1z0vlV/GDA46v5lfUuLTOAlI9tPhVaO7B46E1Tat3DVHTqDhpqJqGeVpxpXHfmkZBLpcz2SDrmsbRknwnBDS5tf3YEjUtpP6Uqqa59tkWeiWJd1YyxNfbUq/E8ciypuG5LG1nyWNZ90pZ1jQrrTS8tbovrcuqphU+ARDKQGO8Jd9tCMXV8NxkQzmjG2iWd1+ylAtAbvpwErAEWlp/sOqdFs8Xt9Ry+9BMK2sIv8ZKJyuchpQnS5myhi3hA2lj1DpmhYa2QVayZpXrfOQGsNUQC63GaHPfuh0K1v3Iqo9II3toTbP2Sr6ypemVrL1nVvJkxaux5elQmmnolFqexlCjS5FrrPzS4IbW7TQybYm6lQU0hntWi5/lKWLSSRFmQI3FzLgTFW4dBxQdnwMGVyaL/Fh/jIdv/mP62mZxc5aTJyueJDvmz+0zV+is/sDZC+Nx8mCgDi2svOJrjIfHLPpRcsZ7bvVvTnaKjg9QulC+TK2hZKdk4/hZZOLmqX2g7InxKL18X8d0rPlIG/PJm1Z/seyNJqfVryw25+LIGvNU3tQKlyanBc9KjwIuN0hyhMQylRd964k1D0h74+ZMzdck8G24Quoxt0aro1LNs9ZjTQ6JjmtjSj8sj7Wm4WtrXaNqrEQby2mpaZI9pP3gxjm9fGWn8Lj6p8mZpqZpcnDgk3stdC1+FQKcHdxnSz2m6PjKga+pvaHWpLFrDFSuCalp1BhXt7U1FK62N5Ts1jpr7ZUoWbn4otb4+JVlnJMJj6WpfVQd0HIFV9O4fF7AiTyjiDK2z3wolIpuGj54g9LIJ63nHNz39C1EXq54pznBytJuacHXZgCl+QERqqhlbRcso+8+xjKVKgdoyUrjU+rco+11iD0BbDa18pFs4ssz1L6+ucwKDVVbGtqv0sqXFZ80kEX9SstXqitWvCz0yUK3NPnAx1/S1Hdr/vCtaaH1hasfDdUrUbiliD3fOmmlmbb+lGq/NfyG6CdDa24aulnClqppWfRKeE0p/N8XstrzUviKj33y7gLq2X1wRC0Br9HG8xRtjY4ElnnsYBwPyhbcOqsM3AmVy4eal/bOwkO7zuVyCf6Wwum+xnah6Ft14mSUZLDOY7mxrvFraS8wPQkHz8d0KR6UHSi/97WThovj3pURr3Ofsb9Y4hPTpeSifMfHDpY8Z5GLaiZdeTja1J5ztCQ6PoUP5ygt3nxyKSejJo9P7GC/0uqFJiOej2WSZLT6pVYvJH0lGTn5rHQtfknpxemG5yWf5OaoPBqS57iaJjVnVN2W6hLeS8wTy635i3ZN2UyKTa4m4f235iCNnisjt1fufMxD6pF8cgmXQ7hcSslH8ZR0o2TTZLDkaku+xzL69ggW/lrfjl9TMmL5LDJqoMWmtI6SMbReSJCmXlC9ErXGIqNPzPjWNKuMGlj8TdLBfW2VkZPBck3RseQoaa+s9RvTo/pujocrn5jnov8dpRhop6YWnFAFLTi4yHBjWeoTqrMPbUqftPx9QOLJ2TdU1ixtngVtKkH52DervWhInUNxrHJrOBIvSyxIOD76fBtsHhrbGp20ckljlphsSDq+sCVjK5R/Y8PxhVLKCqD7kIYTyt9H11L2EduqL0q6+dYZSx7loCH6zMaCYwWf2k7hAGRTQxrrvki1OY3ttpQ+WeOUgnZIjGdl8yzqTC7aDAVlYoLxa/caj0tAFSCKNl6DhaRwJVkpHGnMqh9nE2kuxF4hMoXg+spksXk8B2Dbb4qPlb7Lw10j7Xsae4XYtqH5SGus4/EcQGn30OqD1BrcYDWWmNXGsewW3IaIWStY7Keto8ZD42Nr2cMYtsW8G0I/NGY53FBf9M0jPv5l9UG8b740QuLDAhy9WNYt0ZdouFoPEMvu4qaRyRKnITQaS3xYaWQhk7TW1wfdXBXjWkDbN0pPzCNt3rXw8NHDvS61X0nyYPmtMrnrSlHTQvMulq+UPUyIX5r5RIhavLCxwJaSB/NtTHbRZGkoWRuTTUoJOHizoMVdS+PWsSbgwcdeDWlba0xv6/tt1a/U+xiSY0sh+7cFSmmTbcnejVEXqqYBFN+IhdJrKJD4Nka7x9CYZHNl2ZJ9akP1SlnSLEWdSruuqaY1TsjK3kX/AuBz4hQyH0X27wRzQczRzVJWq9NbgcOVxt056lSQs4Umu48tJNxQG1FySz7h4y++YxZbaEXMStcnmXJ0rLbQ6GY1H49p++fLy8Wz+BBlJ2oNdRrNgfROQprcJ8nF8ZJOmEN8PMt5aSwet/pxrKfF1lYZQmqadCPAzWeZD61zGt0QWdLMW/hSeFpN0+Yk/tZ3dHxoUnJp+dGXPkXTkr9Kkee5eZy7uPgI7dvSrveZp2yr5QONj28dsOQ+F8e3pklA8fWpeQDF74pK9Klc7877xruP/lnlvtBPG/j6M97zGNJ82kFa4+pnyX3WcY2G+xziF6WoeVb6obbwifcYsrg/jaII8pThJSYWZTTGuRz9F4E+zRlXhLjEpSUbaX3Mk1vDyYll1nSjkjrFP6TR8Ek2Li9sN60wcHaPr6WGQfIJSX8fHEo/jqc7L8mN57HeFC1qjTtGvdsbj2syxa8lH+YKCgWSfeMxLJeLR41TenN+JNmI041bQ+0bJTNlF2tzg0HShZIdg2tjSUYpf3C0rbmPyk9czuL2P76WcifFE+eQeF67aZT8W8t9MU1LnFA+LK3RDg84+7vzXI6xyEnRDam93I0HJZeUW/FaruZYDnK42LQc4ko5gKpjWGZNNok3JwcX85yNqDUcnpQPrPnYxaXysovnyuPS8s0XWj51r7U8aD1YDdlTKTalmsb1FK7Mbk3gfFTTKb621hxKN5/8Q9GneLjj0qEM9g3JbtiHNB/Vej0MUo7SaoCldlnsxeU5aT+oOsLFI5drJB+l/EXTzYcnNYfHuXxhzRFazdIA2wLLJt03+OypZFdu3vtvACWgNs4SSCFG3VZBSjaabZvsWAxSEdUaiSZ7y6DZ1mqfJlvKTUeTn9ohVF/Jl92xb5MtLWD1U6kPaAIatH7JGu/f9hyg9VRN/siD5k9NPVV24BO733ZbacDlAAA9n0o4FO2tGTI9ANhWobFseGORA6CpidvaoTH5UmOBxmSTJlloaGhZJH6NyS4hsLXLnwa+zbpvq9DY9rSxybMtQ2OydWOS5dsKWbwR8G2Aot8AwIA/jsB9NMIKEr0Q0OhlQT/UIaSPaaSRJ0taofS4j7VI9Cz0pTWl9r9S+HOaPSqVPwOEHdxQsmSp35b0ZwDbR8Eayv98Pj2RpXyYtnSSHkoPj/msx7KklUeTT9oH6t2aLO2PaWTtfxT9LS2fD/0QWtK7PmnouWM+6zV6vvJkSQ/TbOz1l6Iv4frS97Wnbz0JkS3rfiMNNLQ/N4Z6SdHjcktj739DIGt/toxZAN+b+KzjoLH1q3iNRo+ir34CADt0lh/rlQKYavY4HImXj8ylAkpPX7ks9sD8tI8ObWnbWH3EImNaXUrpQxY/bShoKBnS7m1Dry+l/2Qx7yNDFraLoVS+koW9AcLzKZbDxxd8/canTkl1zqpLGkibq7LKdaWyK7V3WdShLOwF4Pf9Xm1NKIT6aQgfAL1P8ZWRoy/5go/MVB9myQmhPaxEs1SQ1p996IXYxer7oX1yCD0LvxBft+JkBVJtzUpWqx2zrGmhslrwS9nLhshqxS38CGC8CIOlSXTHNHqYdvzQcCneFgVj2lb6FC7WSdKRsyGW1aqzq6vWmLu4GF8LakkWSkdNdslmWAcLrkaXa46stDl7YjtxslC8MG3cOHB0ODkk3hK+5De+MWvBdZO3r9yunJb8wdGV4sOVkaNl3VtMy8fX3WtuXtIBX1MFU/IDLZa0Au1ro5AcT9GKZeNymUZXs5nkCxoupYPFnpge3g+LvbX9ssz5Nl2xXJwsIX4SyyHNuzgSLsah9LLYl6unWBaLjhRvSQ9M361LljxplcVS71w7pq1LWC+r3NY84tqHkt1ajyU/oPyKo0vtFZbJXUPlZJ9YwuCzV9RaSw7h/EKKD+qasgvmQ9nTmudcGtp6ar85HUJ9yorjzlnpY7DYXrrhT8PL5WGZl+zpW9MseVWjb+kzfOPQKoelJuNcJ/GOomjL/QaAT5OxtcK3QUcrNNmiCbZWaPLdbzdszfufRvatWe8m2Loga19r8t0m2FqBu+ne1v3526BjYwP1NwBKBaXc6CzONDga2omrdGqXlvfWDNtaYGt7n3YPNfq+a9Py/jaD7yeUOPDZU593v7LeL993hrKm2dhgS+SurOxqefcGv/PIrfXhvTXv97YAlnfpfPco1Cct6yzvxFJ8tHcQQ6DJd3lIk5fSfAJBolEqXlsKuE8pbevgo2Pofmp+0Rj8pCFlKBwAWBpRbbyxGM/ysUzu2jKHP5KR9qbfeuPY0M12Qx2k+I758soa0pzQcjpadLfSt3z8RwIpfiz800LIR6i48ax8wvqRKl8a3OEC95HSUoOv/2hftZDwJHwN0uxrlv7je+hnrT9We/l+DJb7CLO779KNFSUjhW/xi8bQL4RAFjWtofOqdFMRUhdckPTGfmUF6iPxvjRCIeQwQoPQQ1xrbyDRyAq42iDleypXSf1zfG3tgzkauIdJ2xOVot6E0sqiJy6lT1lqZtobeOlrepwMlr6E6n2pPCTRTAtpvnJB4Un47CcAKENrAkjftXDXWhJ7jGfBwTK48zhBSBuOxyl98PeGtM2h5MdjPjJRtCkZOd7Ua07GkO+dSbpZEjeWS9IF+5LP968421mSl/U7W1QCoWQMPTiggPrOnCWWQ5IbZUdpX61+o8nhxqWlmHB7rfG1yGX57qcUb1Z8aQ+zuLnm6FuKCJ6XfBDjUvkP06X2L8TWPvHmyibp7s5bPimi4XC+weWQmCZ1rdVp91o6cLLkf0tNpOS0+idFF89JOR3HkW/+oXI5XmfZ23j/uPpA4VtiUNNN82EXl6ItgdRjWXsWaixe6+Z7fGCl9ToUX44fVU8wTy0WODlwnpCAi02u3mG6Wp31zT8cniUXc75B7TN3Ta3H+JLu1gMdKYdYDke1fCvlJ4mWRV5NNkyLy1U+tZlbZ5njDvh8eVH5FNN3x6wHQa7u+JnzfXdtaC6W5NDyhyX3YDnI3wCQgpMSzDJO0efefdAaQisuxcu6Dq/HNCiZMN1Q+SzrJRtqvHzXaXJSMmdti6zXZWELjWeoLajEZYWtwRY+fHzjnZOvFPEewosqwKW0RUgcYlldGTn6WcS7Vb+m3MevK6UtfPJSY7CFzxp3XWPKfTF+Y8l9aXk1ZB1oqNxnHafoN/bc59Jo7PHeVAcad+5rqB7YXZ8m3htTHUiT+yRb5KLNoBIsLGCKEVZOWicVNk0WjgdWluPL8ZfktsjF4VpsYpWXw/GljeWNZZbocbK56636Snvow99C07pO8h9q3EfmeD3Fyyq3C1a5LbpI+kk2omzJrefoSbJq+K4tfHQMtZtlTAKr71r3TePDvfbVxZKPrLRCIK3c3FwMIfXGJzdrcmux4LP3mow+uYbSwbq3VL6y8pd0sO6FT56x2MlnvzS5s4oPK18AObdL6+Mxl4ZF/ix8NgafnGfJo1Julexm6Q98+xJKD6vOlF6+dU7S0ceWUp+StdwWWr61VNIlbez49g3WHIljxLc+czGWtj+wzvmsDwVfvqH1xkIT4wHw/b+l3kh12scG7L8AUAHdEMAlEkmWhpLVwicrnCzWbE1QKruVChqLLFvSJ7Pgs6Vid2u3W0NBQ+WqLZkTG0ssh0BWMfdtq0mliv/GVP8bc85oTHmzFDVpa9/jrSm2S2W3xtwzNGZoTH4cwicLnMZ8H+tCg/wNYFYNx5aArUH2xiZPE/wfbCn/afIJHax7szXkgCb4P2jawybIGpp8pfFCU7xvXdC0X1s/NLa9aWzy+MCWlD1vuf93caKo+McsuHmJnvsRBoqmxp+TQVvPXWMaMVAb48ou6W3la9GL4hFfW21plc+63kLTgmfVU1tPPaxyWmSw6GOxnXYKyMkgjeH5+KM/vrblrqX4knSwXONxzpbcPEU3NC9hfI4n9dGqEB+z4GsxaNVFopllfFp9yNenrLbjPt6Y9lrTg5NT0zuNT4T4R0hsYNqaHpouvj7h61Maf44m9Qxg9ylfW6b1Keu1pndan8J4aXzCih9fa/1PWp9IG5/UMwZfvan1pfYhH5+i8OLXUk9NrdFs6ONTWecpbn1aW1JgwZNslyYe8Xq3v9T01HKdj46c7Szv2IfaAfPV9LSu12yp6a3JpEEURf/3CQB3AfWxl/hZIuauxfSwsmk/IiJdc7qk4eeOx3Qlm4Xydu1N0bXq6LtfFO9QHSj+2I8oXUrxsTuLzUL80V3r0sSB58Nbs4PFphQPCy0NSrFfmkwhfujj95pOkp5aPvKRsxT2xPRD864vzxiy4CfZSLuWaFnmOV3S5EZqTzhdsqqTeM6VPWu/s/DOMo6l2qXZ0se2ll4jizqZtuZrcnPzpazJlCxUD+WjY9a+EaIDt56LcV/6Ur+cRZ2UeGuyuHxK2WtrvC3rKTrc2lBdtD0vxX5Jsrh0tZxCrfftHbleI4Ys7k+oGA6RlaOv0bDi+srhzlE243KzNcdINAEa6CsATeAPpW7Wm6AJmqAJmkCHplzcBE3QBNs6NOW5JmiCbxfksyZoPU/AePE1tZ7D3VqB01GyAcbR6G3NEOtp9REXf1uyhbTX7rOLF2KHrdVmlA3w2LbmExxwMeHOfZtsoeUIn1y6rTXFVltwa7dW0OoudS3hfFtyrNZ/fZvySvxM5VY8t7WB9Z3E+FqyAcbZ1oHqTUNz7NYAllyKx6V7HB96WwP49O4WHUtlhzzlsPg1FkDCc8EHLwb8UYgoKv6OF/WRHYpXWl2kxiANXqwjtgf3URVNb2yfLGS04El244ql5MiufSgbaB/l4dal1SVU51LEkvVjyJSPcXypmLPo6WsfKw0rHqU79VFBLj4wbEldsvAVdw7bIrYXtdcNJWPa/CHNuTFH5cnYHq7PcHk4jS7UnAVPws2atxsXWoxwMee7t1nEiBVPihGMJ30NA49TNrT4Kcc7jS5Z+wqHy9kDr/GpN6WOJcn/QnhjW7hAfRQ5i36Mkjc0f/jytsy5esZzWm+ixaaksyXOrPYphZ+6OlP+4tZeX96hOmflf9Q410e4Orpj2AaWezp3banygjYXmj+k+1j32hojoT26pAuA8hUAKZilNdT3XRrqXZTGzg/bhxtryPUurFixAiZMmABffPGFSCefz0O3bt2gU6dOsPfee0OfPn2gsrIS8vm89/dqli9fDvfddx8sXry4ML/PPvvASSedBO3atfPSL4b58+fDgw8+CGvWrIHWrVvDOeecA7179xbX1NXVwUMPPQSvv/461NXVAQBAhw4dYOzYsdC7d28vG8e6rVmzBu655x744IMPoLy8HA477DAYMWIEuSZ0X7PwiRjSfI8vzfqYRuh37xqCX1rIgp+PnbPyiyxsnEb3hvSLLeETAOHfOQ3lmbVfhOwRpuEDWwO/LZ2bGrI32RL5PwtoyH3KghdAw+fjND192lzR0P18Vjy3trjJIr81dCxsbbkiDa+QXB6DtCYXbQYSGTPFJzWaMFSy4RyHEpRbr8nJyeLq6CM/JTc+N3FpcrSzuqGz6utjsyiKoK6uDs4//3yYOHGiKiOGLl26wPHHHw/nnHMODBw4MMGD4u3yHTNmDDz88MNFNA877DB46KGHoGPHjiJvyu5jx46FSZMmFXDOPPNMuPvuu9n1AACPP/44jB49GmpraxPznTp1gieeeAIOPPBAUQ5KnscffxzGjh0L1dXVAACw3Xbbwbp164p4UyegnC9ledNA+TWHh3lqclD7H3IDa5WRWsuN+ejtk/MkGazNUJq8a4k5ThaL7Fiu+Dq0OKbZ2zQ+bbUHZXsLro8umJZme0320Lix1DtNTiv9NHwlSNsfaDVTy8kaDUyLomvpl3z9G/PhdJPsYdE5RE5uvY9uEljzrkYjxD5pam4ovobjkw8BsvsxRo6Pz/760tRoAYT17ly8W2zoG4ch/p+FndL0IRy+T9z55MMYLHsY0quEyu3K5bMm1J996n4URZt/AyCXyxUeLuAx7jUHMY62juItrdfk5GRx8Xzkp/BdepgmR9vqQNh5KFks+kr41N5WVVXBp59+apIRw7Jly2DChAlw0EEHwX/913/Bhg0bRL9yX7/99tskzZkzZ8L1119fZAsMlj3FN/V4fS6Xg/nz55N4X3zxBfz85z+H5cuXi3JY5KmpqSlKDNReSTQs+8/JpI1LeL5xR+0/vpb2lrOBb+xSYz56+/CVaGqx4Cb/0LxriTlOFgs+t5e+tpH4pI13y95y+ml518UN4Uut0XxCywmcv/jKY6l3Ej18TdmS2ltfvhJIeUrLNZaaScno4nM0JFtgulq8h/g3pu+bH6w6h8gp7Y1VNwks+lpoSDR95EwTlxZ8DccnH/rSCeHD4Wi5wkJTk1+KPY2H5ANU3sZ4PjnV52aSw/G1k6SfjwzuDai0t9x63zyk7aFv7PuuwfurrcX2SePPFI5kjzzeCGljooj+3o5lzDLnA7484rF43CIHxgmRnZNFw3cDJZQGNc7hunZxoaysDNq3b1/0qKysJHmvX78errnmGrjyyith/fr1qpwAAPX19ez8Aw88APPnzydlS2Mb7Afa3v7rX/+CRx55RKRv9Y244fH1Lw5f2lfLOKZJ4VP28gFOdi45WfbVcu1jM4oGN2bhac011piXgNPVim/xR4stLbpScrhz7g2BD0/fPc3Cvlh2X3tx8oUCRz8k5rWxEOAaQJ+4keZ97CvthzUPU3JTNHCeo3KfT+7JIl4teSatr1pzBL558skzVruF+oFmU4mHxYcpfmlyU0iekeS0jlvk1ta419abLp+8z8kZss8Wv9Zk0vKya4tQf/TxMZ+91nhSsseg5T5f/6XWaLbBOJxtNHuFxIELlH1cea08QmK+nDq1ip8xsnSigxXiwOc0RJqXbhw4mXz1k07jOAfG9C32kXT2HXdlsKzR9qNPnz5w7733Fo1v2LABli9fDjNnzoRp06bB0qVLCzxra2vhjjvugAEDBsBZZ51VtFbbQxe+/PJL+MMf/gB33303lJeXq7JrgWfZHwrq6upgwoQJcNxxx0HPnj1Z2rEM3B6489x6Dkeb53AlGTGu5UTaTUzcHqSRnbOfNT4lHvgm2xLjPna2rMd5SMpXUq5yc441trnmypJnfOzLgRR/1M2hZF8OB8sm2ZeT37JHLj5+tuRfSx6U4ouqZ9QeaXFgiSPNh62yc3M+NFxduRxh5anpr9GxyE3FnO8+STykfGiJJZeGxt/HDyy5RvNhixxSfPvEMEfDKodFFownxaELWpxZ6hU3nlX/aekFOB+l9siSY1waWi32iTOfHGDRU4sFSjbf+NTqGcUf07but7ankhw+9pdqHacDRVO7f7XEgE9Np8A3znzyIZbTol8ul4NyioBWnCyJSgtaDjSntziw5mSaQX2C39c+Gr0Qm2k0MfjsTatWrWDIkCFF6+LXo0aNgvfffx8uv/xyePrppwtBsmnTJvjLX/4Cxx57LOy4445evHfffXf44IMPCtcPPfQQ/PSnP4UhQ4aowWXRi/MhDLvtthssWrSo8AmFhQsXwu233w7XX3+9KkNoY6w13BwNLsFxYE2iofKHrnfnQ+zny8Nn3idufIoPt5ajoa1317h4vjlZKx4alPKgS8sD2OabNm2CTZs2AQBAeXk5VFZWQllZGSuvxcbYPrW1tbB27Vp455134M0334SPPvoIqqqqAACgb9++0LdvXxgyZAi0bdsWKioqSD2rq6th48aNLM+0kMvlYLvttoN8Pl+kw4YNGwo/fhrPNW/evEhWd11IvXL3qLq6GjZt2pTIv2VlZdCyZcuCjBINS5xK/mRp1vAaaxxpNcmS6y3+L9nAN19h3hx9vE7riSzrQw8VfWQLpZF2fZqeIIv1MWSRy339P4a6ujqoqamB2traRJ4pKyuDsrIyaNasGZSVlYn7FuIjPn6QhQ9mfd+i8cd9p+/6rHzLAr60pHps6aUoviH7G9ob+8io8faVwcK7nBxFjH0hdB2GkGbbZx0Gn9MlzCsrnS1gKcwSZL03/fr1g9tvvx2OPvpo+Pe//10Yf+edd2DOnDlwwgknePE+77zz4IYbboAVK1YAwObC8Zvf/AYee+wx2G677VR5OJAaOWr9oEGDoH///jB16tQC/kZwauIAACAASURBVF133QWnn3467LHHHmwzmcYXLElYKzAN5ReUH1I3X1pD2VCxQ/G3NPe+zTSGUuyNNVf58JZ091mD+VniLqvmn4rnjRs3wtFHHw0vvvgiRFEEPXr0gD/96U9w/PHHi7wsfhnjLFiwAG677TaYPHmy+A8qrVq1goMOOgh+/OMfw/DhwwuHEDGfG264AX77298mGuQsoVWrVjB9+nTYf//9E7Z/5pln4Cc/+Ql89tlnBdwWLVrAPvvsA1dddRUceeSRRQcmoRDzXbRoEVx88cXw/PPPFw5KAAC6du0Kd9xxBwwfPrzIb+L1loZfm7M2vaE3TBqE8Hbpc/FvlTGUtw+NhlhnhazqjNuQA9hvVH33EoN0E+CTq7AOoTlWkyF+vWLFCnj++efhn//8JyxcuBAWLVoEn332WQG/c+fOsNNOO8F3vvMdGDp0KBxyyCGw++67k/wkWZ977jl45ZVX1NzZpk0b6Ny5M3Tv3h0GDhyY6Cl9bPj555/D1KlTYfny5dCiRQs45JBDYOjQoaa6F/PCtXDBggXw7LPPwurVq6FVq1Zw9NFHw3e+8x1RprQxG3KgI63xpRcalz5r0vQxvrykdT46W/rO0MPpAtTX10cu1NfXJx7xmDuHQRrnaEtrORmk9T68OP4UDU0nqx6afj4yU+PcHlltHkVRtG7duuiII46IAKDwGDJkiGnf6+vrowkTJiTWAkD0y1/+UtQjiqKob9++iTVTpkyJLr300sRYPp+PHn74YVIX9zl+PWbMmMT60047TbXj1VdfnVgzZsyY6OWXX47Ky8sT46ecckpUV1dH2gDTfeyxx6LmzZsX1lZUVJB2xOslm/n4VRb+w+lmjQ/N37PSmRrXcK05AetAPaz6+sjKgS+/tHJI9vDlFeI/nA0se/z1118X5aVf//rX3ragxquqqqJbbrkl6tChQxEP6VFeXh4deeSR0bJlyxI0Tz75ZC86vo+ysrLovvvuS+i0adOm6MQTT2TXdO3aNXrjjTfMdrfs9erVq6Ojjz6a5XnCCSdE1dXVJD9pz9xny15y++sbG6E8rXGr2dciV8iYlhcpnTSwxm2oLXxymFUGSY/QfBc67iMDthnWR7OvhCfJWlNTE82ZMycaN25c1Lp166isrMyUn/L5fNSyZcvo4IMPjh5++OHom2++IX0N85s3b17Url07E49cLheVlZVFzZs3j9q0aROddNJJ0ZNPPhlt3LjRy5a/+c1vonw+X6A7cODAaOXKleZcQME555wT5XK5gpwHHHCAl5+E5iSLjUPzj0UmHx04sNjYx4/T5hkfGhKeVTcOT5I3T51Suo94zJ3DII1ztKW1nAzuI0LvBvjw4vhbTmylU3uLDJx+Vpk5vbk9stpcAuu+77///kU4S5cuZeXgYMmSJTBu3DjYeeedC2P19fUwfvx4+PLLL8kTT8spqMWOLnz22WcwdOhQOOqooxLjU6ZMgddff72IZqiNJf9L61dWGpL/cLq5cYjxNbkwr5B4psYxHY2GNSdYcpJVX04uym4c+PILlcPHf3zta9XZEs8W2i5Y/U3iWVdXBzfccANceeWVsHLlyiLcVq1aQYcOHWD77bcvmqutrYUZM2bAyy+/nKBZUVEhyp0FNGvWLHFdX18Pa9asYfGXLl0KEydOLHwVypp78LgLc+bMgVmzZrE83R+Q9fFf9xnj++YqatyiM4cvyabFrSWHanKFjGl5kdJJg9A8w9nCt3ZofsL5FadHaL4LHfeRAdsM66PZV8LjcBcvXgyXXHIJHHvssXDffffBunXrzJ9oqq+vh2+++QZmz54NZ555JowcORIWLFiQ4Id1ANj89cz169ebeETR5r+8rq6uhrVr18ITTzwBo0aNgtGjR8OCBQvM9qmtrU38gHX8D0/WXEBBbW1twZ+j//1alo+f+OQkKb+6zxZ+HB71SKsDBxYb+/ixD25aGhKeVTcOT5K33C2KMQIeo645R3JfY1qYObWOU4aaj6KIlQ/LasWVZLfYR5Idr+fWSrJR9ChZJXqaThgoO1D41Mfz16xZo9oHQ01NDfTt2xdGjhwJN910U2H93Llz4bHHHoPzzz8f8vk8S5fTRfNrDLW1tVBWVgYXXnghvPjii4UmuaamBq677jp44IEHoHXr1iw9Hzmsfuyul/xb2m9uvSSPRCOWyRpfEh/NjyV54iRniS+NlsRDsw9Hz2e/KFwA297jeXedpCu1l75+qdknbY3QnikaHHCyW+wDAPDCCy/ALbfckvjOfkVFBRx66KEwcuRI2H333aFFixZQU1MDS5cuheeffx5mzpwJH374YaFZXLFiRYLHuHHjIIoi8W9LAQA++OADmDdvXmJs+PDh0KpVK3Fdy5Yt4YADDiBriAuVlZWJj+U///zzsHjxYthll13UG2ktPurr6+Ghhx5K0O/cuTP5N6tSjFlyCiWHZa+lcVx3fX1ei0tujcvbGs9aTrDmu1A+PjEq5Ttf+1BrQ/Y8pNZRtCQZtTrA6eKO+9ReDqzxJMk+Z84cuOSSS+D1118nZd5hhx1g++23L/wOSRRFUFVVBevXr4eVK1dCdXV1Ab+qqgqeeuopWLNmDTz88MPQtWvXBG9Xxnrin6RatGhR9MPR9fX1sGHDhiLcjRs3wj/+8Q/4/PPP4Z577oH+/fsn+FD24cA3njTalpzGjUuxGNIf+UCaXtKdj8Eqq6UX8Om7tJzlI0MoHam2palHiX8BwEKFXGu41nWaTL7y4GeLDGlldwPNdy03xzVb3LhGj1vvKwcA/Xd+PXv2VPeWgrKyMjj33HNhypQpsHDhQgDYfEP+17/+FYYPHw677LILS9c6bpXr4IMPhuHDh8NDDz1UGJs2bRo8//zzcMIJJ5h8yyKH1U+s/m3hL60LibmQXOGTByzgE5vaemmcSrxWeXz2PGTvpXWSTmnoaus4nqG5x8rPQtsnhnO5HNTV1cFNN90EX3/9dWG8efPmcOONN8I555wDLVq0KFp33HHHwfLly+Hxxx+H8ePHw6JFi6B9+/YJHocffjgcfvjhotxRFMEtt9ySOADI5/Pw5z//GXbZZRdFaxsceOCBMHfu3MKh5yeffALPPvssnHfeeWY7c/Hx/vvvwwsvvFCYa9u2LRxzzDFw9913izQ0Hu61pa6H5mtfftJ8aI8RGls+eV6at/IJqUtZ2Icas/ZEGu1crrjx1mhx9QHzofB8awu+ltZL9NxrLQ9HUQSvvvoqjBkzBj755JMEXrNmzaBPnz4wduxY+O53vws777wz7LjjjtCsWTOor6+Hr7/+GlasWAFvvfUWTJs2DZ577jn48ssvC/3kSy+9BIsXL04cAGh7X1ZWBtdeey0MGDAgMV5XVwdLly6Fd955B5555hn46KOPEoetr7/+Olx88cUwZcoUaNmypVet0nB866I7jvcwi3pu9Qsf/7H4OTUn3fRrdqMOp3zqhk/ukuj4zIXQCaltmp/kAfSTlSiy/fcpNe6uxTSoB8fXfdZeW2TjdJP4c6egEl9NBk53jC85iPW0SwIJR7NPPP/+++8X4ey6664qDQ569eoF5513XmJswYIFMHHiRC86Ep5k/xiaNWsGP/vZzxL/ZlBTUwM33XQTrFy5ko0Nq925OJDiR+Il6SjR4GS27J0lztzCQ9HR9oHKBZg2JxcnC6cPpxP3mtPNxbXsn5QjLOtC4syai7Vray62yEStlfKuRWaJtrV+xM+LFy+GGTNmJHBHjRoFF154IbRo0YKVZccdd4Sf/vSnMHfuXLj99tvh4IMPFuWl9lprLKz5WoIdd9wRRowYUbiuq6uD++67T/1kAgdxkxdFETz55JOJd/tPPfVU6NSpEyuzdO0zZp3XegJpPW5mNd5cLGsyaLVBktGCz9Hmxjh5fGuj1e4+MRsDztHWeKNwXH+26EDd1ON5XCPjh9b7abbm1km41noSP3/yySdw4oknFt38t2vXDm655RZ46aWX4PLLL4f99tsPdtppp8LXkHK5zZ8K6NevH4wePRoeeOAB+Ne//gXXXnstdOnSBQA2v7FUX19v8rEYcrkcDB48GA477LDE48gjj4QzzzwTbr75Znjttdfgd7/7XdGnBGbPng1PP/202X6afaSarsWwq4+Fv4WWtI6Sj/N1ihd1826JE0o/H12kw4E09rfsM+bhG4dSDdB0oHhY9im+zgPYklPoiXr8wInMnXMfHF/3mXtNgWXeerrKnWxp49ZTVIm/hONz2uXDX1vv7tuGDRvgrrvuSsx36dIFDjjgAJUGB/l8Hs4++2zYa6+9CmNRFMEdd9xRdNiQ5oRbs2Eul4MhQ4bAGWeckRh/5ZVX4JFHHmFjw3parPk0dXIr8ZJ01HyKupG1xocvLrXW9yQU5xUqz0iyUOPYvlwe8KWtyWnNMZLdrbpxPDQ/4ZpSzocpGty1C1yDTPGjrrXGmZLdx/dee+21xHybNm3grLPOKsLHssTP22+/PZxzzjmJQ0XNZqE5zh2PH1pjUl5eDueee26iOX733Xdhzpw5Zv7UHq5fvx7uvPPOwlxFRQWcfvrp7D8MWHX2XaftNZ6XckIa3lwsS/5IxWm8p1Tett4MWPKclBOl2iXR5GSQxrV8aaEVGm94n3xvtqy8Xf24GwBtnyReVB+B11hssHr1ahg7diwsW7YsgbPXXnvBnDlz4Pzzzy/8DopUN2LYaaed4IorroA333wTfvzjH8POO+8Mbdq0MfmYFXK5HGy//fZwySWXwC9/+csEjZqaGrj//vuLfrfA0hPheUtND9FD2hdr7aN8xPUJqaZTNU2SxdIPcPyzzuUUfc5mFt6Yh0/N5tZyeRP7INeLxeAewuBclcvlIPFHu1RCsJ4UavhaIrPQ1xKtJRlrpyV4XNtAiZ9VFmwbTaYQCDndssL69evh2muvhWnTpiXGjzvuONhjjz1S0W7Tpg1ceeWVif+EXr16NVx//fWp5ff1rXPPPRd22223xPiECRMKp95pT121hk3zybT8sSwh8R56Au0jH5UE43FLnrHQjMewPpy+HD63Fu9h2twngWYfiz/hwhyP+ZxwW/A5mSjZJV8MaQotcsTw0UcfJa5btWpV+LQTlikrWayQVf0YNmxY4u+4NmzYAJMmTSK/6kXtBc4hURTBf//3fyfe/R84cCAMHjzYLJN2M6OBNS9wudlC1yKLb19lAeqGlDogjXElWdLkci33Sbpr+BIvC32JHpeftDGtAc+Cv9YbhAAVN75+XFdXB3/729/glVdeSYzvvffe8Mgjj0CfPn1E+0jQuXNnuPXWW+HVV1+Ffv36mWXSwKVRVlYGF1xwAeywww4JnDlz5iQOALLI45Y+IIQGntf8j6LnymOJN8s9osVmvvw14OLH0t9b6Vn5++Y+SibNnlIf6eJzeIkDAOkEhNtMSSDriYorpFR4fU+1uHmu2feh44sXg6VwSCdqEj0JQk63JD5VVVWwYsUKmDVrFpx55plwyy23JH7AZdiwYfDzn/+86ONVvpDL5WDEiBFw4IEHJmSZPHkyzJ07NzVt6jUHPXv2hAsuuCAx9sEHH8Cdd95ppsHxt8iV5iQ0BD8k3jUfxiD5rzUOuFNTKz0JH9Pm9LXIEsKfKri+YLWPJJNmH4mGRCckf3H2LEWTzMHq1asT1/X19Yn8h2VqSPDNKxw0a9YMRo0alTh8feKJJ2DVqlUqT2qP6urq4J577inYqVmzZnDaaaelrhEUfx+8kNqIm0rKtlpuk2Lbp4mX1lpuvrjY8s3lmAbXgFrks/qqVR9tTTyehX9oN3hSz+lTB7LILb79O4aFCxcmPtEDANC+fXu4/vrroW/fvglcHz+OeVdUVECXLl0KOSJrnXO5HHTo0KHoEHL16tWwdu1ack1avlnEtuTDPgcMafok7JP4HjH0fi3EPlou1WhyfNL01L65z0pPw7fUlfi5XNtEibDPTbP1pIdqEClcSgZuk7WC7PLwpSEFBBWMFB+OrsU+PvKGJLGPPvoIRo0aVTS+fv16WLZsGbz77ruJxjeX2/xx+bvuugt69eql0pf2JIbKykq44oor4K233oJ169YBwOZfbf39738PDz74YOKXry2NG8aznJLmcjkoKyuDMWPGwL333gtvv/02AGxuau+++24YO3Zs4ZTaYmfrvlj8wne9D3+NBrXWJyY53mliz6IzNx6S21x87t0aLt41flnZx7Jek9mHhlRDNFv48qRyLIUfSpMa79GjR2J+zZo18MYbbyRyXoiN09RYX10scPLJJ8Ntt90GX3zxBQAArFq1CqZMmQJnn302mQcknd977z2YPXt2Yaxbt25w3HHHqe84ZamzFTdNX+ETu3jMGjdZxamFRmgNyqI3oXwLj2k1SOPpUy8s/YNVP8teWHsTSQ5prSSzRiOKIpgyZQp8+OGHifFx48bBoYceqt4Qajpb8H1uoCXd2rZtW4S/evVqaN++fab8QnIx53PcWpwvfO8BrLFK3Ytw9yxZ9iZp+mvqXs/NKy5+2hpguc9zcfGYRTdKBp9cWo4XWBZTjLWELDmrxE8rplzypwzPBZD7TDkI5melz+Fb7aM1ENx+cDJxYxKsWrUKHn30URNuixYt4LzzzoNf/vKX0K5dOxFXkwPPxb+O/fe//70w9vTTT8Mrr7yS+NVsi37YV33s0aFDB/jFL34Bp59+emEfVqxYAePHj4cJEyaYaVnjzOoXWcSdj89LcRIS63ie81uLnml05nxCSq5SsbXGoJbwLfg+NKyxpzUaFF4W/onXSfvik0c0HEtOyOVyhb+JiqGqqgpuvvlmOOGEE6B58+bm+NDmtbpq1ce9ttKKogj69esH++67b+JHsR566CEYOXIktG7d2uxX+N1/gM1/W+j+sremi4Tj498WHpyfpamnkm/51ixtjQXPGqe+eZ6i58ovySbFu6+dKcB5muvbOH5paywHPnWFs18WNcQyF9Nbu3YtPPzww4nxzp07w7nnnlv4kT8JQvzSN86xrVw6Guy8885BPi/hhuQPSl5rvsCvffpjCz/cF4X6lNbfuevxHlp7VkpOjQaWj9PFKkND2Eej79LIc8nPvbY0WZwhpUALMQY+raH4UEkTB5FmRKpQcGu1mwhrwqH04mS00HRxJHtlASNGjID33nsPbr75ZvXmP5bNfeagcFJVXg5XXXVV4kez6urq4Oqrr4avvvpKPf2KaXG+qvmpu2bMmDGFHzeM4Y477ij8LRdnc0k/l5eGw8now8dHNqpo+sanxlvzZy4uJUhjN2pffG5GYhqWwkI9U/icPj56+uQMfG3ZHw6Xar4k3bW4sMR7CGj1K57fd999oUOHDom5uXPnwrhx42DlypVssQ7dQ6ueWmNi9WN37dlnnw0VFRWF8RdffBHeeecdcg2nx5IlS2Dy5MmF67Zt28KYMWPENRJdn4YY+7OPDTT6Vr4YV+q1JHrWnkLKa9Z1Ur63+rXUF0n4Gn0f3aWcar3By6reaGvd/aEadl96PjJShzUS3ptvvln0q/9HH3009OrVy7u/sMqo1RkKn+pjsD1xPuvTpw/k83mvXs4HqD2WQOoZKLrcNTWetq+w5ECf/k7Si9tDyj5cHqDqgaUnoXhRYOmTNVkxTsi9JJbFpRWPi78BYL1Jk3DSJFSJnvUExiJLCD8LHx9H8MWz4mL5ffYUYPO7+gMGDCg8+vbtS35cavbs2XDjjTfC+vXrreJ736DttddecNpppyXm586dW/RL/Boti69I87lcDq6++mpo3bp1Aufqq6+GDRs2ZBI3vji+NHzixcduaeKlVL7vA1nIErL/IXbTxkNxs9RHmpN013hmERMW4Pi0bt0azj///KJfr3/sscfguOOOg5kzZ5p+EyA0LzckDBs2LPF93traWrj//vuhtrbWXGOnTp0Kn3/+eeF66NChhf/oTuOTFrA22VlD1jmQupkOkWlL9yJZ0M+6xmZBIw0fVx/NTqXK4VY+8firr76a+J48AMAJJ5wAzZo1S1UrtD4D3xD58MFxE0URzJw5s+hHXY844ggoKysrWV7OMhbwnOXgjqq1PnysYOFj4etzH6Ppk7Y3weBzGG2VVcLJMm/m4xNH7QEAwTjUuOuoHG78OobQdwrwqbePHhK+hhfrSJ0qpbWlhR5lFw6Hs+3uu+8O06ZNKzxmzJgBL7zwAlx//fXQvXv3At7atWvhzjvvhMsuuwyqq6tV/hpQ+uTzeTj33HOhd+/eBby6ujq44447YPHixeKpHUdTwqfkjh8HHXRQ4n+yAQBmzJgBM2fOVHXU9koDbn81v+B4W/1Zmw/xaSyvD12LjK59NPtpNpf2wbI+xI6Yv9UmHG/J9j6+4rMPmr9a7C3trWRfn33x9eULL7wQhg0blqBXX18Pc+bMgZEjR8IZZ5wB//M//wNVVVWZ2ZGyjcV+2rgEnTp1guHDhyfGnnvuOfj4449JmthvV61alXj3v6ysDE4//XRo2bKleY/wtRQfGEfDpfDdMW4er+X09/Fzacx9uL1FVvGp2SwkRqx8KT4+e6XZD6/Vxiy8qfU+9pB0tvgzR1PzZYmuZiN3Dr9rXlFRAUOGDCk2OgEcX2xvi82k/ca4btzU19fDv//9b7jooosSh7Xt27eHc845pyjGOFk03SQdJZu79Cj6+GY/Bu4GkfNxzs8p+Xx8WdNbw7PytsQcpbPkQ5xeFOADJcneVt24OYs9NB7uIx+fOGqPWFFpDBvFsjZ25PgRX1PGlRw7VpbaDE0+SS8sH5aFWkPNu3pZbYtlxYDloWhQdvE5NWvevDl07doVunTpAl27doXu3bvDPvvsA5deeilMmzYNBg0aVMCtra2Fu+66Cx5//HGWPmUjCji79OrVC37yk58kcOfPnw8PPPAAqSumye2RrxzNmzeHiy66CLp06VLAra6uhj/96U+watUqNjlzsmgJiMJxxyTfk+KV8zlJRo6+FkvUWjzG0aXG3diM57GMVELmYkxK3tw+Sb6D91CSW9LRxzaUTJrtsV24vMLJIdHW/IuzGTfHjXF+Ie0PlsXiw+51hw4dYMKECYkcGMNXX30FjzzyCIwYMQJOP/10mD17duHTQdb4pGzK2UYD106WJgXb5qSTTkp88uvjjz+GF154geSD/WfOnDnwxhtvFMb69OkDBx98cGHewh/XeItPWeMD06TWUNdUruH6F64hxfuB13B6afJRPoPHsN6cHTja2gPz5WKTy0Gcr3P7L+UOvJbKy9jm7rxLW4pHKQ9KvaTkq5zNME9XHo4PJydFm7KRixd/5TGGPn36wHbbbZcY43I25xdYTso+nDwa5HI5qK+vh40bN8LSpUvhvvvug5EjR8J7771XwKmoqIALL7ww8ekki4ySvFLu4WIZ41A5wpWHy+luzuFiiXtN3bPgOSmfcPwoXSTanI0kG3N6WWR013D3FJbDAC6n4NzBxR+Vayjd8RpKDu6R+AqApBiFx20wpzgF2CGwI1B08LjVSJLcmDaWB/PSbu4sY9zNCtcgaM7qM2fRQ6KTz+ehf//+MGHCBOjYsWNhvKamBn7zm9/Al19+WRjj9tHK011XVlYGY8eOhT333LMwVl9fD3/5y18K70hJIN0gWsDFHzRoEPzwhz9MzP/zn/+EJ598UvQzzqcwjjvGJWNKrpA99T08oYBrnixjmAYV4xiPS4CW8RC5ccGlXmMaOCFjXC7Wtf0IjSWrT1JjVhqSvFY/o2ShfNDXv6z8OHp4//bcc0+YNGkSHH744STfNWvWwOTJk+HII4+E0aNHw8yZM6Gurk6sB9y1Fn8ccLGCX3OQy+WgT58+iU87RFEEkyZNgm+++UakF0URPPjgg1BVVVUYO/bYYxO/5aLJ4DZKUnOr3TC7ayge1DXlr1SPIuVHLXdy9Z/SicvZ0v5KcazlH01WDRfjaTnFsoccj5CYknhiPpyM0qGPpX/TfJLqDfC4pT778NZyeXV1NXz11VeJ8W7duhX9pSeVD+rq6qC6ujrxqKmpKRqLH3V1dWysc/LX1dXBrbfeChdeeCFcdNFFcNFFF8GFF14IF1xwAYwcORIOOOAAOOuss+A///lPYU1lZSVccsklcPnll5M20uofBRa/9aHDHUJor6m8ofXCUm31jTsfX7XUdI6/JJfk69R+aHnVpSnVj5B+CdOhekkrDUzLfZ3nErRGQEpmWsLDIDXEFB2cdF2emAYlP8aXwMfJ8ZzLh3vN8ZAcSHM+aY6jZQW8v0OGDIErrrgi8V3YhQsXwhNPPFEkv68NORk7duwIv/zlLxNjK1asgD//+c/etKxBSO1RWVkZXHTRRbDLLrsUxurr6+HPf/5z4gDEKksa3DgmuBj28XdLbFM0qXiU/J6iLTXyWEaNFiUjxot5SPnElYWyMVVopPiT9OMKNrZhaBFwaUg3N5TsGk0J0vikxjcLOlZwfSC+7tOnD0ydOhX++te/ws4770yuq6mpgaeeegqOOeYYGDNmDCxevLgwZ2nCrXpSvmdthCRo2bIlnH322YmxefPmwUsvvSTSfvvtt+Gf//xn4bqiogLOPPNMyOeL3ntgwdLghegkxVBIs+/DV5JXy+UuaHpjX9VuZqx6Y1pUXZD8kPJtrC/VQ2myUMDlW2vOkvIlpsX1r1LtlG7O3HGtr9V0omhItUu6cfniiy+gpqYmMd6+ffui30TBUFNTA2PGjIGKigrzY8yYMbBq1SpSJqlX+fvf/w633XZb4nH77bfD008/nci/AAADBw6Exx57DK655prCD55yseCbhznwOQTAe4L7AS1WuPsJbr+1vg33YFxfg32fkhXLaAUqrig9qPE0gGlSeVo6eKFkkXpOixyuLNxaqo7mOSNyDKhxKYFTNDVekkNrDY57UiIlXNdYODi4a00nrJt2cEHhxfM4gLCcFEgBqOH7FFDsM6NHj4Y+ffok1tx9992wYsWKIvm1AuTy5PSOoghOPPFE+N73vpfAv+OOQGn+QAAAIABJREFUO2DBggUmXaiExOFLBb9nz55w8cUXJ+b+/e9/w913383KIMlilVNLnhJN9xoncKkB04qvi0cVB63RcX1WyjUuPSnGOdCKmSuz5BtYD82PKF4WHq4tqPjT8gOVl6SmBtP2zUGS70nNsA9Nt95wfqXZVeNNraf2IIoiqKyshB/96EfwyiuvwG9/+1vo3bs36YPV1dXw6KOPwve+9z2YPn061NXVsfLg2PNpGDk9uP3U1udyOTjooIOgR48ehfF169bB5MmTi2i7PCdPngwrVqworBk+fHjiwNSyP5QtLLFO0bbWQ8zbQpuKIc7XJTqxnFyMUnmKktdHfy6+KH3ia+pAgcoz1E0L5qE1yly+x7pQ+YXzd26coknJSNHC/o9tQeni2pbrNbh6iPXA8lH2pfT08QlrDqLwqqur4c033zStj+Hvf/87fPjhhwmanJ19oU2bNjBx4kSYNWsWHHvsseTBJLaDdiPJ5SlXXgpHykuSD3MyUX7lxgeOTwycT3N+Id1TubS4mo2vrX7HHYpwtpBoSjkU25LL7RQPKoaxH0j3rZLckm04/WKeeZe51uBz43i95JScw+HmX6JJySvR5HTk5JX0oG5SNHm5Z4vMoXJyNDVe1vWu/J07d4ZTTjklMT9v3jyYO3dukXxa8qToU8/NmjWDK664Alq1alVYU1VVBX/84x+LTqYpXai9s+Dj8Xw+DyNHjoS99tqrMFdfXw8TJ06EZcuWqTpyPDQ5Q+cxf8kHrHGmrZd0pXSnChy+ttiMk9c3Rqk8QtFKkwe0uJDk0PKAT66hdLHy4OSS6IfS1HTysStHjxvj9Mjn89C1a1e46qqrYMaMGTB+/HjYe++9iz4WCwDw6aefwmmnnQYzZswgmwBOfqufULSwvhZ6Ls4OO+wAxx13XGLumWeegaVLlxbRyuVysHr1anjssccK+sU//te8eXMzf0ofap2Prazjkg/5+LiUo7RcJfHUcomPD2nx5ROzmn0p+fBNCieLlgO5cavNNPtYeKSxg0Y/K5qUvJpeUjwAbO57KJlcyOfzRf+epEFNTQ3U1taSNCV5unbtCr169YJevXrBrrvuCp06dSq6wd+4cSPcd9998Omnn7L0fHIlpmHJKRp9S2xSfKX4D8k12oNbh2lytgjxOx8f5uxDyWOJaYv82n776CTJKPkbvnbHCtFgOUWTTias0BjXWU6BKTwJB49xtCXekjxW3hJNH9BkOu644xLf66ytrYUHHnigkLitcko4eOywww6DY445JjH26KOPwvvvv6/S95FFW9exY0e4/PLLE4G1ePFiuOeee0w0SrmXvn6l0QhZ53tKH9vRV04XN9RGFn4NFbMUTkPkz1Cfscop2SVLO5bCthacsrIy6NmzJ1xwwQXwzDPPwG233Qa9e/cuaj6//PJLuPLKK4v+S1vjV8qYlWiVl5fDGWeckfiY7xdffAHPPPMM+Y4E/qhtt27d2N9KSAM++6aty8rXQmp8CJ9SrMsit/jKSeV8Hz5Z7L2EY+n9rDJb1pSyflE4vnvYpk2boo/7f/nll1BbWyuuq6yshKuuugouueQS9jFmzBhVZk3O8vJyuOmmm2D69OmFx7Rp02DixIkwZMiQguw1NTXw0ksvwWmnnUb2jVnk0VAf9aFt5SPR8JWzlD2Fb9619huhNd43fn1gS+bdQkfiFmVOIHwyEUXFH1nSjK2ddmm8rc1DvJ5ap9F29ZJk505vsA7Wk1eKBrWG04fiLfHxAU3Ofv36Ff0l1ssvv5z4hVVOF4mfNNasWTO4+OKLEz9CuHbtWrj55psTPzrly8dnXRRt/nvCk08+GQYPHlyYj3+E5osvvlBpWPabWxfLoOFS6zQ+GAfHgpZs8AmlbzGV5NTWWfwd5wiONzVniS8uZqmcIoHvfmk0rPvmy0/ytbippWqG5qOu3NR6Dj/UtthWlOxW2p07d4Yf/ehH8Nxzz8Ho0aOLmuZ58+bB/fffz8ZGGr2oOuQLWK599tkn8Wmn2tpauO+++4rW1dfXw/3335/4NNaYMWOgZcuW3jJoIPkaxpHWxeCu9fE1zFPio/maD+94rQTa3ru+kkWO8a0rUmxjfGq/LOukMW3fpN7PUsO4fEaNWeuXi49phuQ+TEui0bp166JYXrJkCdTW1orr8vk8nHjiiXDzzTezD/yVSixzLKem60477VT4BMBuu+0GAwcOhDPPPBOmT58OF1xwQeKTWfPmzYOrr74a1q5dW8QvhtA86uNrFuBi1afnoXhL8YX5WWuhG9fSPZnWK2m1UJJF4+3yscongWQ/CZ/yNenm3hKz0j04ABT/C4C70EcRvNGcg1hPOazG4J5xceFoa7xDAtOCZ8GVmmAKjyoGuKng+PqeHOHxiooKGDduXGL8888/T/z/M6ZhtYMky/777w+jR49OzP3jH/+Azz//3ExDkkGzV2zvZs2awe9+97vEVxK++OILeOSRR4re+aP2g7o5tMokNRcYl4oXLslYE5e0FuNLhwA++5DFzYyEwz1zMvj6sWYrd46LeW5vNbpaQ4J9gysyln1z10j2kvzCctNj1d3K0+XtPijbUI8Y4nU9evSAv/3tb/Czn/2siOekSZMKv6iNGx6qgdJ0c2XnGicLcGvPOeecRPP88ssvF/4TPF4zf/58mDlzZgGnY8eOMGbMGNHmFnm0uIz5cz6q8cJ+apGHyqFa/8Lxdp+ltZSfUa8pf+V4++iO12p5U6s7WG4XJLtxMku9D7abFCOWWKPyKWdrqd6GAHXjFFpj3Xxj8dV+/folxj744ANYs2aNVfSEbBa+uBaF9Oa5XA522GEHuPbaa4v+wWnq1KkwZcqUIplisNZ7a5y7uCF+4NMzUrw5oGognrf6CneYZfExzA/LRsW2JIfvvE+PJuFg/Sl8315N64043hjyHHPttIVKfJaTJ85ppXkpSUsnR24zQCVe6tonsK2bRs1zidpCg0tE+KTL3a+QAOBwqAY3l8vB/vvvX/RjgJMnTy76uxgfni7g5jiGCy+8EHr37l24Xr9+Pbz++usiHWtjzN1oUXtw6KGHFn1H9uWXXy76NIJ0wKTFh/WaokfJjePDEvfueomvxW6Sb3K+LYFkF0yDookTJpdA8T5Zb4qxzpwvuXw4G3Ey4HnLGLdXUmG0Ns1aLrfkds1uIUA1JNxeUM0n3hv3mtr/5s2bw6WXXgqDBg1KjK9evRo+/PDDIvrcHoTmcipeLTcEmN7w4cOhU6dOibGJEycWvu5VU1MDEyZMSMwfcsgh0LdvX7NPcvJocUnR1XxF63+kXoXae4s8HH8uR1E+YJWRW4PxpYY0pPfRekRsO0tPaJWR6n3wM45pjT41xvmzZGuL73JgqYEheS1EtgEDBiSua2tr4dVXX1XXcTJb4kfyEw4o/NatW8OvfvWrxI+a1tTUwO233w7r1q0rksdid1dOa8/ojtXU1MDGjRsT6yorK9k17rWW27V7GxfHp76E2MjSW3D8KL4ujlVHjqc7z/XFWs+o6YPX4deSr3D9k8RTuk78BoDW2Ll4nBO666nEghXknI4rhFZ6GEdzGCrg3WZeklErGpgepQOHh+WQ7BZfc3bDz2mAotG+ffuiG+DFixfDc889l5DHXa8lG8kH4vmePXvCeeedlxjHP0iDwSdpWWWO/xbQ/S0EqVHikrIl4WhFwFLAqfigEiC1xsKHsrGvjBK9mJYlL1DXMT6mg1+7IPmL1mhh+TSavgWckl1ap+VXLq9xTb2UJzXe1Livr0gyamBpeiR/1upXDDvuuCP84Ac/SIx98803sHLlSu+aKAFVi7UGm6JB1cNu3brBEUcckcCdOnVq4etOS5cuhaeffrow16JFCxg1alTik1BWf3Z1sTR3lPw4z0k5A6/3qfucr2r+7ZvLfWhgmTk9qfyP5yUbUPNSjeXmtFyF/VmTicvllr1ybeKukWTkciaWkaOHfYWrvxRfqn5xayianN04XYYNG1b4y7wYJk+eXHjDg9tb7f5CAy1PWtf37t0bTj/99MTcW2+9BdOmTWPXuDI2a9YsgbNx40ZYv349G48YsK6bNm0q+gRFt27dTHlByhHxvNY/+dYHbh+0/knKhxJNSk+KB0c7pAZSoOUuKu9a6l2oziH9WDyXtxhFSkJUQuZoUo6sFQlrgaDWSutw0aPmKB3jZ58Ei3EsRYLibW3mqOJPPVttSQUpZd/y8nI47bTTEt9zraqqggcffBDq6+vNDYkmB7ZPPp+HMWPGwN57722i4/K22kIKdpfGoEGDxB+xofTgkqC2XkoWFr+iijzXMFOyY5+22FK6kdJueLCOXAzgPEPRlwqkmxd8mw3KRzXeHB3r3lJ5wX1NNZ0WWSxxgu1rydkUnm9TQ+2ttXHFYOVN+RXGtfg+/uhsdXU1bNiwIYi3xIvC87ENrtPxdfzPJ9ttt10B99NPP4UZM2YAwObDgCVLlhTm9txzTzjwwAO9830sIxdz2Ke1/OGOU3QooJpaTF9qriXeXONGXXN7iXn79FNUTtN6BOz3XC735a3VHmlvrX6s5VNqD91xN59yfHwA29oFn5xG2U2SyaeOuNd4zeDBg6F79+4JGrNmzYL//Oc/hTVcHITkNCkGpTVUrxJFEZSVlcFpp52W+FeCqqoqePTRR4v6VSrf77zzzgleq1atguXLl5N242RybbBx40ZYuXJlAnennXYS40ACiTeFx/m9tk+STFofJMU7vub6VUpH6rWlTlO28eVN2U3rVSn5LLXHxafk42pdPJ7XkoU7bimUHB3J8aSkivGlhCbJKhVXd4PdxMXxxq853pK+0hqfBB+D1gxxertrOLDyBgDo27cv7Lfffon5WbNmwaJFi9SGx8Kbs0+nTp3g5z//uUgTFx1MV1pHJSSKTnl5OZx77rmw6667eulEzbm8Xfk53tzecsXYwluSXdKJsrUWgxa6Eg63txxvrjnheHN7g2+SLLyxvJpfcYVS8mmKJ7U3vryx7Fbe7jptjQVHktfSUEryWXMw51eYngv4h6ZatmwJHTp0KOCH5H8XXBo+e0sBx3vo0KFFX/d66KGHYPHixfDYY48lxn/4wx9Cx44dvXlT8ro6pvE99zqkVmr25PTT+hJp3LenwTJrfsXRcddmHafcGi6nUfnDldESp5Rt4tecX0nA1RHfvZVyoxQHaeq0xptbAwDQvXt3OPjggxO4X375JYwfPx6qq6uLZLfoZMlHvmuoXBiv6dGjBxx11FEJ/Oeffx4+/PDDovVYDnwAsHr1apg3b54oA6cDAMBnn31W9KPZe+yxh7gGy0Tx9fUrqkew8pbyhCU3W3OaKyfG13yEy4ecnBRdar2lTlO9gZTTJN4++ZTjXfQbAFpDTCVOaR3eWG6judMMzegcLylJUq/jNZLDWOhZC787ptmOk9td78pP4Wn7arGrtD6mUVZWBuPGjUv8SNTGjRth0qRJRaeqGvjIlMvlYPTo0UV/CxhD3GBbkiQGLulx+9GnTx+46qqrin7x25VDouVeu3tjSUJcUgqJp3ie8g/OZpqsWgLk6PnM+foNl9M0cHMF1WxbCo3UxEg5C/O22BLztTS4UoMZYn8LbWttkcC3iafWSTWAk0+Tta6uDt58883EWOvWraFr164JvlxzbtVBqgdWWV08LMcOO+xQ9EmnOXPmwL333guvvfZaYaxLly6Jr4W5tNLUAq6++9D0zetSzGi12pcvNa71JNq60FynxYF1L336GYssmpw+uVCjL+2NtW+kZOPyuFUGdz+tfSclu3vTZ/WNXC4HZ5xxBrRt2zYx/uijj8I//vGPoLztu8a6x5zfNm/eHMaOHZvoV9etWweTJk1KrMc3xVEUQf/+/aF9+/YJeo8++mjhn0+kvouSffr06fDNN98Urtu1a1f0ezEWn6L6A25NCEhxHFq7qDWWnlPSD+8ZXhNiF1wLfPsXKlf49ijSGi13Yr/IawJIDaCLw91Y4HFpUyhBNXqSDJiexpdzPEoHnHgtzT43xt2kacWOw9OuXXB5NmvWDPr37w8tWrQAgM2N6f7778+uoWjkcjk44YQTYPDgwYWkWllZCXV1deweDR06tPBdso4dO8Iuu+xShMsFEdbznnvugdGjRyeK0m677Vb0DwWU3P379y/coLds2RL23HNPNaCo5jCXy8GYMWPg1ltvhe7duxfG27ZtC7/4xS9IOaR4svgvFx/Ybj7g8qXk4/aAS4pU3GhypWlYqZj0tY+lCGHellwlXVPy4NeaPXwacsnGWflTbDe8/1Je1Pj43ARZ1nM08dg333wDkyZNKvzTCLVPnH4LFiwo/NJ0DN26dYOePXuKfhDarGH5QtdTDc9RRx0FXbp0KVxv2LABrr322sRf/x199NEJ3VxaVrm0mxupFmI9tNjEcxYZKfm02KX8TKp3HG0JQnOdlDcpmqHySHa25GJtztKXWfKZz95g/tY1Wi6z9Le+NH1ouTRcOoMHDy76F6YNGzbAxRdfDC+//DJLg7v2yQkWfIuPHXHEEYmvMkRRBPfccw+sX7++iJcbB23btoVDDjkkQXPu3Lnw5JNPFvHQ9nPBggVwzz33JHAGDx4Mu+++O6sPZzcOh7rmAPecmJfWU0n13ecmlZvz6aE4e1j6Hw0s+ZCq3xb/1e5HfXIEphm/LscIIcXG0sT50rSu4RxNK8oSD0szkWaNRit0XlojFY8YKioq4JprroELL7wQ6urqoLy8HDp06KDaEV+3b98ennrqKfj6668hijZ/KqBjx46FH4HCezN+/Hi4+uqroa6uDiorK6Fz587BftixY0e48847YeXKlYWPobVu3Ro6deqk0jzhhBNgv/32g02bNhVk9tU9hoqKCjjvvPPg+OOPL5zqNm/eHDp37kzKbaEZElM++w9gi5sQPw1tYtPQ9NXdgpPFmlBbSIcmaXKXJofvDVEp9t/CJ4s6ZKH56quvwhlnnAE9e/aEyy+/HEaMGJHIFRzPTz/9FK644gpYtmxZYSz+Hmp86MrJk4W9MJ20dXiXXXaBgw46CB555JHCWF1dXeF1Pp+HsWPHFv1YVhqeAPLhkS+tLNY0ZC6zXlv5UvNp+h+fAwGNFjdvmbPqUqoa4EtDk7ch/DbEFhUVFXDppZfC7NmzEx9fX7FiBZx66qlwyy23wIgRI6B58+ap+GK8LGIuhsrKShg1ahRcf/31hRukzz77DGbMmAEnnXSS2OOdccYZ8PjjjxfGNmzYAL/4xS+gf//+0K9fP9N+rlq1Cn79618nvnYQ/66V+zsrmk6+eSVNzgjpRX34alAKH+L2iuu7fO4x08RaKWjGr4sOANJCmgIQAmkSOwe+OjS0zqWE7bbbTkw6VujQoQP7cXdsqzZt2kCbNm1S84yhVatW0KpVK+91zZs3L/peVxooKyuDnXbaKTN6DQGl9uNtKVYwWHULtUFD5rTGBKWQfdmyZfCvf/3LjN+sWTPo06cPVFRUwOeffw61tbXw4YcfwgUXXAATJkyAE088EY488kjo0aMHtG7dGiorKyGKIqiqqoJVq1bBrFmz4NZbby36+P/+++8PJ598cqa6NRRUVlbCaaedBo8++ij57snQoUNhyJAhmfNtbH68tcSW9kmzLGhT9CQ+aWTYWu1eqjUahNDT5IiiCHbeeWcYP348nHLKKbB69erC3JIlS+Ccc86B0aNHw49+9CPo3bu32JfV1tbCJ598AlOnTvWWMy2ceOKJcOeddyb+svrBBx+Eo48+Glq2bEmuyeVycPjhh8MhhxwCs2bNKowvXrwYTjjhBLjhhhvg0EMPZXvbmpoaWLBgAVx11VUwbdq0RA79/ve/D8OHD89IuyZIA773mFnFbkPkt1QHACHvsofSteCGGgyvy/J0cUtBYy6O0kc6pdO3LHEbChqCd5MtaB7x6yx8yAISL4xXKuDyoZYjs7BFaN7W1pei0E6cOBEmTpxoxq+srIRnn30WDjrooMInlKIogurqanjzzTfhzTffhOuuuw769+8PO+64I7Rp0waiKII1a9bAJ598Au+//37RTXKnTp3guuuuIz8VlJWepaYxbNgw6Nu3L7z//vuJ8Vxu82+ycM1zFpBFjktrl4beG1+dpRyQ5WFl6DuCaWzn2/eF1Mks+ksfSPPplqx4u6Dl3vhx6KGHwsSJE+Hcc89NHAKsWbMGJkyYAJMnT4b99tsPvv/978OAAQNg1113hYqKCqipqYElS5bA22+/DS+++CLMmTMHFi9eXCRDqewR67HXXnvB4MGDYfr06YW5559/HhYuXAh77bVXEX4MzZo1gxtvvBGGDx8OK1asKIx/8MEHMHr0aPjud78LI0aMgMGDB0OPHj0AAOCrr76C+fPnw7PPPgszZswofJUshi5dusAf/vCHxO8LbElozPcSPpD1vaJPvxLCr5RvJsVQHhPhGGqnxiFG1U6Efda6vDm8NJvt8tBk0QqMpQBRPDk5fIqXSycGbDtKF05HvEaSMR7HxU3aS0n+mIbl4MZiX2ybUtle8xUNfBKOZuN4ThrL6kAtZI1PnpFu9KV9ovA0uTW5tLUAcoxw8oXcnGsNLL454GKb44nxrHpxOUDbQwu/UjUqVVVVhcZ0yJAhcMABB8BLL72UwNmwYQPMnTvXRK9bt27wt7/9rfCPKVz+oa4lkGzuC5abyrZt28IPf/hD+O1vf5vAad26NZx66qlkTo/lS7tfIbGK12l9CBUX7jqfGKNkk2q0bx2ichEXZxrdEMA6WWqhT7+D18ag+RKX22M+lJx4v336CC5+rbFp8Rmst698aezI0TjxxBOhZcuW8LOf/QwWLlyYWLty5Up46qmn4KmnniJpS9CtW7fEv6RQenGgxWP8ury8HEaNGgXPPfcc1NfXAwDA+vXr4YknnoABAwawsZPL5WDQoEFw++23w9lnnw2rVq0qzG/cuBFmzJhR+HtUC7Rr1w7uuOOOxKEDJ7tFX22dxSel/tB97ZP30o5Tc1Jf6LMG68yBNbYoOTQeUs3Bslplp2yZ15pWN3lJjuEykWjizdD4SfPuc5zgKfqSQSQHw7w0WTU+Eo0YjypUmI9WIDmZpQCzFANpX6UCKyVPyjYY37WvVMQ1nTV/oPZb4ymNc01XfM3Zk6NPySHtN6aHgdv3kLh2cSjdpP2O+Ury4rVUHIQkcmuO4PBwIfQptC4Nl47r6y5NSQ4ur0qFXCu4kv9ZfIECLrfha5/ihn0Kry0vL4devXqJ8lqgZcuWEEURbL/99jB9+nS47rrrxL/7pKBVq1YwevRoePHFF+GII44o/C4K3utYD86O1D+MlJWVibncBS1vlJeXk/uN/Safz8Ppp5+e+BVtAIBTTjkl8Q4W5YfWJh6Dlou43OpjX46OlB/jeU5eKi652OZiTaMT42AalN5cTdX0scriPnP+R4HPPmn9pCsHJS/VT1L7YOnTNHm5XE7hYJ/BvYRkW4oOtgVnX0uvQ9GIXx911FEwe/ZsuOSSS6Bdu3aEdfzg0EMPhQceeAB69+6d4GXpRyjAddaNg8MOOwz69u2bwH/yyScLv9mCbeHKcdxxx8EzzzwDw4YNC9Izn8/DwQcfDDNnzoRjjz2W7RMsOvv0jXje0qdJ+0/1aJp/cb1IjG/tGbm6R8ks1SAp52H/keTB41TOp+hgWlSuofIeh8fZOIoiKJeSmGRQPO+OY6Eketx6zdmlxEzJYtlobj1lE83o0hxlP0oeX1mlxoEC7EScXJQMbmByskk6SfNSkeZsxvkeJQuVjCgcaZ+oeWn/OB2lOLLS43A1GtK8ltwsPsw1Upa4pPbSR0fJZzAPCrh95XKDBpLsXJHCeJxvWnKylmvdZ9wEaPaVdNb2WgMul2N63OsoiqBFixZw5513wt133w1VVVXeMgBsfkf7oIMOKtBu2bIlXHbZZTBu3DiYM2cOPPXUUzB//nxYsWIFLFu2DGprawvrOnToAD179oRhw4bBySefDP369YMWLVoUNUZSTsH6Hn/88bBs2TJYtGgR5HI52HfffQt/JUjZD4NLv3nz5nDZZZdB9+7dYd26ddCxY0c444wzitZTPgQA0LNnT7jjjjtg1qxZsHHjRth1113hvPPOS+BivpjOiBEjYM2aNbBs2TJo06YNnHrqqYVDBanGUfOSrNgGXDNM9QFareLqipZnLbXSJ5dLPQzVI0j0qX6MszGng7R/ln3ibEDpKPUjFtkseUqzn1QfqFzuPku9CmdjqdZZ662mK1WT3fFYpyiKoGvXrnDdddfBueeeCxMnToTnn38e/vOf/8CmTZtYPjG0atUKdt99d9h3333h1FNPhYEDB8J2220n9hkAm/89qlOnTvD5559DLpeDbt26QdeuXdXcF0Ms98iRI+Gmm26CdevWFXA2btxo6nn23XdfmDp1Kjz++ONw7733wjvvvAMbN24U9W3Tpg0MGjQIzjrrLDjmmGOgXbt2qu9Ye3RqPYXv08tyvbmPDFL8Y5nca4keh8P1TBIta69iiRtM332W+i5rHdJytlYrcxFhtdBmzYeGb+JtaHxfuj4F2gJSIbPS9HXoUtm21PQbSh7u2gdKxbOxxFOp9yIUf0vw3FrjI3QP8foQKHVMlsoG9fX1sHLlSvj6669h9erVhV/Db9GiBbRp0wY6deqUaGTT+kZD1BsrrcYW840tPtLuXUg8paXRWGxQ6vhI43uhNt3SOjVk/1ZfXw8rVqyARYsWwfz582H+/Pnw2WefwfLlywFg86eWunfvDl27doU99tgDvvOd70D37t2hY8eO5KecOH61tbWwcOFCWLNmDQBs/ieqXr16QVlZGSkvZ4O1a9fCRx99VLhx79ixI/Ts2ZP8RJSUL7/66it4//33Yd68efDuu+/CokWLCn8r2LFjR+jevTsMGDAA9tlnH+jTpw+0adOmUcQTR7dU/Z7vXIhOvvgNGR9buh/L1dfXRzFRgOLTFumaambwuLtOEoqsZAMuAAAgAElEQVRTTnM8jSbHG49LOnDrKV05e0l41BwnU9Z7k3YPKDtY94sCbs8oGg2xN/hak8t3r6xx47s3mmwcjkTDd28wrnVvKF8KiRsLDelaosHxk2wizfvsDSVbmr2x5AiJhnVvfPaXig9Klobam5AaFEIjtAZw+cQ3brR1lr3BuBQvX7ty4w25v5Y847M3FA13Hcaj5rQ6jmXBclF6cbpLeUaqxVJ8amDZGy3uNXvga586gq8lGj6yuPjUmM/eUJDV3mAanG9RvCx5BF+XYm8sMcrZhtsLfJ12b7QanBWNNHWdW+e7N+vXr4d33nkHVqxYAf369YPdd99dlYOyQ9q98clp1vphyRGcXtb67K5T9yZyMQTFQyFLWo0ZtkY9t0aZm6AJtjT43IikodkE2UGTfZvACo3BVxpahsag87cFfG3dtDdbFzTtVzpYvXo1TJo0CW644Qb4/e9/D2PHjjXdyFsgxo1/6DH+DZ5tHTgbJX4EMIr473SHAj694GhhObTXlrUaaPR8aPmemqaBeJ+kMYu9pZPDEJm0cd99DZHLV/5Sy50WfPhRfiGtpXzIwscX0sRtqewdaktuXdqcmWXO5cDX3r5rJfysfACPW+tKSEOm8Q2tHw2RN0L4WuI/izruI1Ma2qGQRfNu8Q1JbvzuTdY9Dsah3lFz561y+/Ck6PvQa+ganWWfYl1L3exkBVntU1a9XEjvpvlrWn6lqsOS3FnYOEvQeKet7xh22GEHGDRoELRp0wYGDhxYlI9Db/5dePLJJ+Hxxx8PyjtZg0+fGVp/uRySlz4moN0gUHjcXGiDi+XTaHCFk5KV0tV1KK4o+thHC2jfZ1d27jrWwX32sSGFLzmeywfjUvtH6SLZVLNfGv+12IfyXS7x+NjOojP1ES6OBhXklKwhiQ37spYDKLm4nCDpxn1EyyqPlI+keLV8pAvPcbpp9qFocPJJPLU531zqzmm+5+ql7ZvGAz8kW7q5WrKHJDP3jGm68sQPaq1W6yR7+OQuqy6cDfBr6mOwFlravlvjW5OVw6X2iZI99JmTR8N15cH24XI1x8MaT1oe0mTlaHM9kSVuJJ6YvkUHTTepLlv2mrOpRlOSlbMPlpvShYsBKf9S41gXS99F9ZnSPlA6UDYKlQeDhZZLg9PNJ2diebg8IfmRazMsj6+NNR2oPbDga/zceU5/rh5wfAE2/57Ou+++C9tvvz3stttu4hoOpLhetmwZ3HjjjfDHP/4RPv74Y1P+tdD3pcHRBJDvTV2bS3axxAb5FQAfoBxAcgppnJtvTNBYZAy1sQV3S4HmB77j2xqE6BlFEXzwwQfw4osvwtdffw09evSAY489Flq0aJGKL07qITRKBVtzDMTga9/GDFnsR9b7JNErpbyN1d9cyELG0FxVqprW2PJPaK1rjNBYZG2M/pNlHPjgNpY92VaBq8+NbT+0PqIx+to333wDl1xyCVRWVsKll14Kq1atgu233x522mknyOfzqXjV1dXBzTffDL/61a8gl8vBZZddBr/+9a/NPziZFXD5v6F7V/ULENr5AHWKxgmljVtO5FKeVwSDFPCNCXxsX4qElMYelB9Q89ZxfJLZkCCdmIZCyH69/fbb8P/+3/+Ddu3awTHHHAN//OMfYfbs2YXvQFnk4XzHRx5r3GSxTyExkKU8WekQGp+l8vWs6abNSaHyaIXT4j9pal0paloaGr7vqmTJ2wUtFq00uHdDQiGKIli7dg0sX74cVq1apdrBsvehtc6taRa5s8Ap5fosIbYvlimLniit//hAmrpqodGY9gwgW3l8aVH41p4oi30K4e0DmpyaXPid4xAavrB69Wp47733oEWLFvDWW2/BV199Bddccw289tprqehGUQQff/wx/PWvf4Xq6mrYtGkTTJo0Cd5++23z+qxAuueV8LOGxAFAnDy5jwv4HAZgoJoerpi5DZqb1KnTEkyDoxs67urGFZdSNHBW+1h0yMo+rh9QN9dcY6vZlrOBNqfRiZOfJkcp7MPx89HNByj8+vp6uOGGG2DAgAHwgx/8APr27Qs9evSAt99+G+rq6tj9xLpReobGkSvrlraPC1wixvkH07ToxtktC1tS4yE5yYLP3aBp8vrkbG6cokHp4Gsfq89hfOlAS9PNt6Zx41nRwMDZJ6uGV5PLah9tPDS+sH3q6uvhyalT4dBDDoZfXf3rQu7ED+mm3WIXzj7umFvTNB20mJHysJZ/tLjheFH4kr4SD2rMxz7cmPsc4j+avpp+Fn198an8l1a3NDbWdON00Gj4xhdV09LYJ22t43SWdLDIFgqUfTgdOHl9bfnJJ5/AypUrYcCAAXDsscfC0KFDIYoiePHFF03rsbwxVFVVwV/+8hdYvHhxgtctt9wC9fX1qi+mqfl4jhvzqeOhNd8dz2OC+MTIZWQpcNQ1tRbzcpOKhuvi4XF8cCDRwOMUvisbd5qWxbuIIfbBTmM5TaL05WyJ12BZNZtxhzicrL4nlRQNzn8oGpKukv9ofkXp7eK68lJyUMGtAaXLJ598Au+99x5897vfhWbNmkEURbBkyRLo0KED5PN5mD9/PsyePdtkn/r6enjjjTdg48aNQfaRbGaNL84+7jiVlLlk6eJIIOUOzAvbAceWawtsdykPU3bA8mm4UrGUihvFTxrDtnBjn9p7bB+sV6h9pBjjfF7SURrncFw+eO+xDppukt0kXAsNV4YY19pIUrgYpL1wZbPUNEk3F9diBy2H5XI5KMvnYdSJx8IO1auhW//vQS6fh7r6+sRDAovP+NQDF0eyJTWWpiei+FlzNheb1vXaHKWbJAeXZ3Df4hNfHD8uH8Qg3cBk1QtwOL41xtc+Ul3E/CwxYMn7WYC0v1YZKFx3TKoH3E0exy/EPlx+5+7fKFmzyjOuzvPmzYNdd90Vjj/+eAAA2LhxIyxevBh22WWXBO6SJUtg+vTpUFdXJ8ob47/yyitw3333JfDq6+thypQpMGPGDNU+eJyKa80+GJeyQ8yDso+LL9Hg4g7LkHcvqOY5fs09sGFiwaVmnOODjSPxwjhYaXyjTNHCMmG5cRByNtFkx3JwcnM4mAeF747jJM3Zy7UTJ5s7h5MAhSPRcZ8l/7HYBa+jAk3zU2lM2jdu3F3LgXWNhZ/k0wAAK1euhObNm8OOO+5YSJjLli2DQYMGwWeffQa/+93v4OGHH4aZM2dCTU0NaZd4bz///HM444wzYMqUKYWEy/kW5aOS/pT/SD6gxSlnR1cn17ZWWanXmA6nG0cf06ByJweWvMHRonRwx7m95da5IDUtEg3JB3AcUDpj3rgOaPpY/Y/jLeHE15yfSHajZKb4+tiS4kPJJ+nH8Q59LdmWyhUSf1wPOXvidXh9PLdqyX9g0brmsO+wfSAPAPnc5oOB+CHJbdkHLJfmF9QeaP5FyaThWMc5O1J2wbFsjSNNburmkqIh1Ruul+Hk4/j51DRKZ6wTtqfVRjFIfZd1nLIdJY+2n9SNCuc7FEi5wuJLnM4WH9fWaq+tcuMeheIt+a3FXtR9Dabl0tB82hrHlC1jqKqqgjfffBMGDhwIlZWVEEURLFq0CNatWwd9+vRJrJs+fTpMnz698Fd+UsyuXLkSxo8fD6tXry7iv379erjhhhsSX++S/FHzXWkfLPdKUtxo8R6/pvIGdQiQdy+oEw18mkGdbmBc/Np1YokPZWh8goGdl5KDeh0iNycrNSfJTq2R5OZsT9lMsqVG3wfHV1aL3Nw+WHhp+mj2s9rYaierD1F6+uoax5Pk0wAAnTp1gor/z96Xx91VlPd/5777mzdkJXtCQoAAAQIIhH0TcAGpVn7VVttq+7MKxVZbW/WnrW2ttKhVqAoWFEV/qAhlKwVklSWBBBIiZGMn+77n3d975/fHOTPzzJxnlnPvG+2vZfiEe8+cmWeb5/k+z8w9975tbdi2bRt2796N66+/HpdccgnmzJmDnp4ebNq0Ceeddx4mTpyof1yF8+mBgQHcdNNNeOmll3DNNddgzZo1LECW8ZPhHhMaH1oDbk5Zfily1Kun28rQ5XyjHn/laPr4hubRMSHeZeTmbOGzV0yfUDylyhSbk2IzX7/PPi7tkHxl5Pa998VSaD1Ca8bp1Yi9Y/0hubn7gMSLS5dg5KTZ2PvqElzxif+Nj37iz7F6/Q4gIK9PN84+PF/+nk/XlBgJycLVaWX0iNk5RW63PzXX1ROLoViK+fRwj4m9Tx2f7tP1y8HZ0l2nEB1OnpDMqbK648rqVo/cPh4+HRqJJ99cd7zLP2ajRngPly3V686dO/Haa6/hpJNO0v2PPPIIZs2ahalTp+K1115Dd3c3FixYgEcffRQtLS149dVXWf3V+2q1invvvRcPP/xwgbdqTz/9NG677Tbrw62U9fTZ07cOnA1D/BpdB5/MqkV/BLCeFjp9DI2j/b4NRoxX6FTGd53y3nddRiYfj3pOJ+m1AuBU3r5/dJ24U6XYqVPo5JGjE+r3nRqm8gq11HGqhRJTWZohWqF4CI3xnSLOmDEDn/jEJ3DPPffgW9/6FsaNG4cvfelL6OjogJQSI0eOxEUXXYRjjjlG/woqZ+/ly5fj5ptvRrVaxdKlS3HLLbegv78/eIJZNo7UK7VPLB5S+Pn8iuMdk7GMb4bs4oujmK6/rrhJ8cOUft+44Y6nlDWN6ZnyPnYd88HQdag/RnM45nE0fHkllYZvni9GYve5sSl066FhyVwdxNIli7Fv+zrcfvsvcdy847Hg/jtx1/2LAVm0idt8/VxhVzaWUvu5cSk0ysYN5y+x69A6hWQeDt70OiVGuTmp87h48vrcbyBufLZMoRGzn6/PZ99QKxNPjbRUWUPjQvUMfT8cvptC382Xw8m7bBxxc9544w309/fjyCOPBAD09/dj8eLFOO2007Bjxw4sW7YMlUoFg4OD2LBhA+bPn4+WlhZWDtW3Zs0afPe730V3dzd8rb+/H9dff731ZwFDOoTihvOH1LGqz/VfH02ulYmlim/xaZ9vYX3jfILEDgKok3KBowzjXrs8QuMoD05frqBMld8dx9EP0XXliNGn/e6pj09G7uTI5eXSCp02ceM5vWLjQoBN18SVwbVByJ+pHCHfpmNjyY+jydEJvVL5Q/cVnxRbqXEf/vCHcfXVV+Ozn/0sPvOZz2Ds2LEAgFdeeQVTp07FiBEjgn8RoLe3FzfccAPWrl0LIPszKt///vexbNkyS2buFDLV393GxajPl7i5Lm/uVDQEkqGTakqfO53lePn8NxZ/Pp93x/nsxNmBzud0DcVHCmbGElVqnikTT5xO9DWGp3RsTDdubTgMcnn78pTbl7IpdGn6/NW3Zql9vvu+WI/5V0r+8OWZkKwxuu68UHzT+er9wEA/nv3VKowYNxmfv+pv8b6LL8K4MV1o7WoHYNaG+y5qSny4NvO9T4mPUG7zYWIsV5bFWvrKjQvFRyxOfPERy4k++X28UjDRNy8lhn0x4ePti4uUfOPKxcWdK5tLI5RvOL7utc+XfBgeqsd8Pp5S03H3G6nH6DhfS8k31Max2oTDAW7NfPPcfi5fltUztK6KtxunnD8sX74cs2bNwqRJk/T40aNHY8SIEVi2bBlOOukkdHR0YOTIkRg3bhzOPPNMzJo1qxAnqlWrVfzoRz/C888/75VdtRUrVuD73/8+BgYGojmf09cXB3ROPfWYy8flx8mRUo9JKVHxgYBPMY45B0Blmm9eCgCpcZxhQvKEgjIlCDm5fDxS7eJLnhyvmE4pMsbGh4AvVR7fuJjzp9Dn+mMJJuYbnE24JJxCK8bTB7ihxEzH+/zLndfa2oq2tjbr/oYNG9Dd3Y3bbrsNK1as0P0uAD355JO466679CEBAKxZswbXXnst9u/fX7AbB/ypSS3Fl2J064m1FLCsh36sMI1hUCzJpPIJyV82PmL0fGsS20yo5ss3sU1Giqyx+SGsDfkvnZsyPsVmvvH15BsffXc9QjndXYMUnUItJGMs33C+5G4OYjZzaYSwtnffdqz41Uv44ys+gyNnTcSWdS9h2879OOWY2fk4ie49O/Hmuo1ePV3eXF9sLdxxZfONj39qbg3FNR3j85MU3wjVcb7xKWtNX0P5xhcDnG/ReyHdOf+NFeacPO442jiduLk+3X1j3ffu/FiN68s3vk1lyOdi+qTiZEhGbm1S802ZuozyCckdwvqY3Nw4Ot7X6sHyWA2i1ieGDRdffDG+/OUv46CDDgIAtLW14eqrr8bs2bNx9tln45BDDgEALFmyBLNnz8aYMWPQ09Pjpf3CCy/gpptuwuDgYFAHIDssuOWWW7Bo0aJS8eS+pvieK2+9WO4bTxvl42JR8CsAnNKhYtntTw3AEP/UOWWTHUfblT1FTh+whWQO8eZAxAeiroxl7Z3qdKH7ZYAkNi7Wn8IrhXds4+X2h2jENgaxlhJPZZOqO45r73//+3Hqqadi/Pjx+nErl87u3btx7bXXYtu2bYX59913H+6+++7SBYCvhRKdjy5N/CEfSlmjlIKp7Fq7sUnXy5ckUnw8ZZ1TE0eseAjx8MkckickQ2hubH6KPKk+yK13CGs5H0zxG64I5MbQ1zJ2SL3n8vLND/lKKh13HOdjvuIolOO5PEnvcfpw8nJjN65ahjXdTTjv/FMgZBW/WrQATeMOxdwjpgMAqoP9+P5X/w5f+datGBjoRy2C5WXjg45JrZ2UbUMbDZ8MZeqCWBy4MvloujVNqo18+cYnd735mvNBiuOc3KGNIJWFG9doLLstBctD60PHpNacKQcVPjqxcSk5w6dTSPZQvRfK265sXEvZX6SurYvFrv/F8kU9PpRKw8XiMnXE9OnTMXv2bGvs+PHjce6552LSpEkAsl/uX716NebMmYPVq1fjiSeeKNABssf6v/a1r2H9+vXJOm3YsKHw4ZZP1kZtWwbPFU+ORwzLXayi9ys+Ir5EHwLoWBHpE7LMHDrGBzIphVUZeVJljJ2CceNDG5wDEbwpBZxvHkdnOIDEx889ueLkKEunUTlUCxWj3ByfDL54Kuu/ZWNv0qRJuOKKK/Cud70LLS0tVuJQ7++8804sWLCApbN3715ce+212LRpUyn7+vzIZ69QMvbZzG0xG6aCKdfq8ccQzdSNQEiOVCwP0WzUvmXjzlew1bPZrBeD3f6YX6TQCcmTUgCEisoyOBMaUwZryowJYfZwFqipm6UYlrNNSry4dh8OmnEsDpnQhaGhPix54WXMOPpk7Fy1GC+seA13//QGfPOHt+PFRQ/iyj//LLb1DGGoWrX+dfd0Y3/3fgxVq9bTVJwsZbE8dL9skVmmlakZ6Ss3J2Wdysjiayk1Y5lWZqM+3DWjSzd0wNFIbHN1aoo/NlrTlMnbrpwc39QW2/sciFZGbt9BUT37nkbjLGUf0Gid5uokhMC73/1uVKtVbNy4EfPnzy/QqdVqeOyxx3DPPfeUrk8fffRR3HPPPaXySoheSl/ofszGqbHNjWv2EanH0es90XKVKwNWjZyilZEpxqNensNFpx5+qcnnQNm4DM/hsq+vz2eLsnyHo6BNXRc1rl6eIRtv2bIF1113Hfbu3eudv2zZMtx000343Oc+h+bmZu+4VJ4p/fXOSW1l+Q6XfzTaQvhZ1g/K9JWhWc+cemSPNRpf9eqekrMORMzH6Jc97KqnqC1bwP8m8gfX6vIVAEOVCk44fh66WpoghERrZwfefPxxfPbv1uKv/vGfcNyxx2LitBn4wlVX47S5h2BsRxNcTv95739i7769+KOP/tGwxWPofj1+4L7G2oGsGctuTBrFpuGSvcz4GKZwfTHZD0RcDRcuDwcelt0I/Sb3MWVo/KZqi+H24V8XzwsuuAA9PT1oa2vTtScdt3fvXtx6660YP358Ye62bdvQ09MDAOjo6MCECRMsvBFC4I477sCll16Krq6uhvT5dWA5bWXrCCFzzSn4K6ZcQgj1+QTyKcHx4ni4i+MqmypLjK/vXigZceM4GX3y+vj6eLlj3fmcTCFe3FwfvZg8vvGcX3Fy+niF+Id8iJMzxCvVHrG5MR5lbKFabM19NqhHzlqthm9+85v4whe+gIGBAYTa5MmT8eCDD2Lu3LnR9UjBlBS9uZaKUamYERvH4UZZjEzFV44Hp7+yU1lbxPiGePn0p62Mb3NzfTKU4e/214t9qT6bmjdCvH3jfPjB2YLSjMnEyejKFMIWbm5ovq8vlm8o/5AsKWsXkkf1b9iwAdt29+OIQyejvbUVm9a+hiUvvoSj552Mww6ZhKfu+7/4/Nd+jp/dcSumje0s8Ojr68M73vEO9PX14c4778SUKVO8NuL8PSVfhLCCw76QPbmWOrcs3oR4pdIrg30p+qbaImQf1erNebE8XY+9KZ9G19PVkc7l9PbZIoYfPjlDGB0ax8nI0Yj5UAxHU/CI9sXucXL71iOmT4qOqVjqysXxiOlQ1meozBxNAPqvBHBPW33605/Gf/zHfwAALrjgAvzbv/1bQd9KpYIpU6agra2tFH75bOSOSY2LEM6UwVLfmMLHdnQQNyG1j96TUnoF5pR3BXYX2lXGnRtrIR25ezGaoXFl7MXpWy/NMuDKgb+PXkz2mIzc2rnj67FZGRqxcanyh0DVR8sN7FBMlC1gYoVLqt3XrVuH6667Lrr5B4BNmzbhG9/4Bq699lqMHDnSC14uPy5+3X7uOlW3EEb4ZFMtNM6NDw7XfJhG6bu83HEhPwrZ1/c+xT4xW3CycC3Fnj4bp9B378dwiYstl06sUPTxL3vPp0OsL2Qv3zXne+69lELCtYfPd3wFKpeLYtjJ+WgsfsvY00eDGztt2jRMm4bsz0gJgWmHzsG0Q+dkMtVqeOWF5Zgw+1CM7WrCzp17MWbMSIveo48+iqeeegpNTU24++67ccUVV1g8YlieEtshvOGwl8Mg95qTixuXmldCflZmbWO5JGQfeq8MtqXiFYfzsfG+2EiZk2rv2Bgf/zKxkjo3lg/odQxLY3mL0g/5q/s+5C/1bEhT1jt1XUPvObqpfSm+4MMEn31TZK3XL0N+3dLSYv11APVaq9WsT/U7Oztx6KGHAvB/iFA2X8RaWUyL8QnhlQ+X1HXFdVb1jw52CbuG4saEBPbR9Snt8gjRct+n6ELfc+O5cS6NlPuuzegcnz6cLCly+FqIl48v5yMx+r4Cg/Mzny4h2WNr59OVsyNHI3V9YvpSuj6AoSDFNXovZANXRgp83Npx1319ffjWt76FN998k5WFaz//+c/x8MMPo1arsbqk8FV6+sbQcb51dDHCZzOOh49fLJ7UONfGnA2obOrVlTO0zpS2z8YxP3bl860FfZ+CR2VsFsIZX14JXbu+zRV5bjz4aFD5XLo+e/kwxaevj2Yonn10XDwJ0fHFh4+HSzOWn0PFvOLJzYmttU93n/+n0kkdH5NlaKiGV5Ytxl988nL86N6F1pjdu3fj61//OqSUGBoawve+9z2sX78+Ke5icoTGp+jnW4NYfcXFR0iXlHXgcDCERSGc88nqs4HPPq6NuDnuPDfGaJ+v/vPJQfn64onDDo5mLM44HIrJydksRpPKQuf45ONswukYk9dXd/nk9eUD2mIy+/i693xyxmLGvZcyPoYH6pWTg4s1aq+QPWK4E7JjaN/hy3+uHUL1tTuW0nVlCdmE3qtnrWI0fOvCzfHZzKXRHDqtcQlxpzuhOWVOc1wBy/Ch90InJ7GTKSqzT8ZUXXx6cA7mO50J8fIllxAfV8/Y2vvmh5q70Q/JUJZHbG1iLWbPFHljuvjGpMgVWhvA7xuu36bI5Zvz7LPP4qc//WkSWKrW3d2Na665BieeeKL+My1l/Cw1/rnxXNz67oUSLpeoU/wqFO8hv/HNcWXwye32l40ZX18KroRwsSyG+Ozmo1E2P7gyx3JATK5YgefzxZhcscatS2p+ivGKxVwIN6hcIR4pa0Pvhfj46MXWJraesfVvbm4u6icEfvuPrsTBR56MUVNm4fSTTwCEgED2VapHH30UCxcu1MNXrlyJ22+/HZ/61Ke89onJ7TafLZV+oRgL4RPnUzEsj62bO4frD83x4X0MD0J1V5lajZOhUeyKYXCMnq+5NvPJmoINqbqE9Arl1nr5cGuQmsNT1yE0r4wfcrq4Gzbuvs/PYvVgLD/E+ITw0Z3jyuXK4MMbn6+Hcg7XYnw4fUJ0OJpuf1nsCmFtiF9KfZ8yx70nhECzuvAZhiMUKw5DtGI8OFCiTkUVdk8zUoE05oyczDFju/0pvFOTVki2UD+dH1sbnz4pPDhn5NbGt86c/rFg4eZy42ObQx/vGLBzc2P+6I7lbOZrIb/wJZQYALjrPDg4iKVLl2Lu3Lk45phjNA0pJZYtW4atW7cCAI499lgcddRRaG5uRlNTE5qamtDR0YGtW7dixowZST7ss1XIL3z+GFsbn/5ci61NbB7X78oVWxtXztSNYkjGFHzk1iPk06F53Jh6scKnJ50faiGf4mIhlAfoNZ0fkjnmGzGf9skdo8HN5Vos74XWhpODk9NHKzVuUnK0Oz7Gg5NR9XF2bW1tZWUYN2UG3nvZDCoAJICdO3fixhtvtL5K1d/fj5tvvhkf+MAHMHny5IKdOX/0NV9scXUINy9ENzQvBcc5H4mtP1ePlY2bkJ4+u8awNeTjZXi798vkAO46Jb9zesZ8JIbjLi1OzzK1qZrnW5sUW/nwyCcbxzvFrxrxxxS9Q2sTqqVoX2ztYmsTkju0Nm5Mp64NhxWcnnRsyEd9dMvUUCH9ONlCcaCuy+KMT5cQD5/snMwAzBMAPuE45X1GSKWV0nyg5xsTCzxKq4xMscWIgXAjthhO2WLy+ujGnN+XEBr1i7Lrn0o3ZVy9a1MWbOrhW0+S8fF116ilpQUf//jH8YlPfMK6v3//fnz0ox/FPffcAwB43/veh89//vOFT8Rcf0+JydS1jcVTaG6jvFNounS5OfX6dBmbhjY6Mbjr8jMAACAASURBVLlD/GKbNB+PGA7EcCXGMzQ2Ns5XUKXydftDfjVcvGMbw1gxGJIpJm8s/8euy8xz74Vwr8za0MZhSqg+SM1Tqvh97LHH8OSTTxbmrFq1CrfffjuuvPJKL49683RKqwcfUzCtjGypOofWvtG4icVSvbXbcNarjfBOjb1UOVP8P3VsmXVQY1J0KBs3ZQ+EUu8diPzuGxvjWzZPp/TXM69erODGptAvk2NTaNbjF/XWJty9emvlUO6scJ2xUy7fuJSTUW5cPU4WkiOVVijxl5WnnjFcoydntI++luWbuk4cb45uTA7ufpmNScg/htP/VJCE7JHaXy/Y+NaWrkVIr5SNmUsvJFNbW5v+19raitbWVrS0tKCtrU2PGxwchBBCf/qv/lUqlai8IVlD88rEUwp/t7itF098LeRX6j7H25UxpZ87bafjQj6WQlPRbQSHfbxT4t9Hr4x9fC1WdJbp52im6pLaYoUGxbTh8GOuxexblm8sVtSYemRLpUn9MTV/+fJUX18ftm3dihtuuEH/uSna+vv7cd1112H7ju0YHBwsLXuqP5ehF8sjKbnS5Z1is9S85M4tU8PQgxmXbsqGuh5/bqSVxQwXpw9E3KfUYKENWKw/1OduZlJo+uqn2N5juGyX4gOpdb4vV8ZitlFduPwfqklja1SWd6hGSGllckY9Mg9HzViGRsra+tbFF18VblLsNMJdGN91TFh1LxUQfDJyCrqGPVDFUIiHb3FDgc4lJVrc1VP0uoEbcqTQvZR19hWgPp/y0ainpfDg9Pfp7CukfSduHA3ftVtwcjL5ipbQdaiFknhobdvb23HEEUfo6127dqFWqwU3I2UKvdQEl2rXGB5w8oZOS8uAraIXG59S3Pg2x5wPhDZ9vlNzOofD8rLrGBqfGnNci+GMT1/fNedvZXAoxb9iWBmSz6WTmru4gs1336Vbphj12beMziGeqeO51ggOh2hwOrl+oOi1tbXh4Ucesb7777aXX34ZP/vpz9DU1FTgO1x2KXO41ehBLNfPbRjK4Ix7HcJoytPnj6Hmq99cbHX18cVJagvFXeo61KMvxyOG9Sn0Q/Hh4xGrdVLqSF/9FBoXoxOSud7m04X6tGsLnx2pfWJ5kLsf0yOEgz7so2PqsVMMF1xe7rwU2m5LxaCYvCk2DuFuGRlCe5bQ/sQdW3EHxpoilhKUKQ7hC9QyMnEyuIb1FUNlQM0niw9wYgVqzG7ca2oC9l27Sdkno49GSJZUm4d4uGNDARMb6yvuQr4buq4nODkarm1ChV9ZEK9HJp/vUnr0vvq1/1DjfKVM8ZiCM6ECIWVsqiy+uTFfDMVaPcUJJ4svHkNYEVqXlHgI6ZEiQ9k5Md8tU4xz68K1soVizNbudWq+ieVHV4aQXr51Dtk8Vc/Q2FQsDxVAIX8uI08oXuqRkaOxb98+3Hjjjeyn/6rVajXceOON2L59u3dMSoxxMqW0MnmfylI236T6UZlNQ6yWS8Umji63tjQO1Rj6yvEK8QnpEqPn0o3FR4h/Cva7NkixcSg+QjzL1AdUhkawPJYrQq3MBjGG+2VyHr0ug2MxWcpgiMvX9RXfnBiflHzjq1d/XTndNybFz2JjuPipp2bl7nMxXKEDUkA4BaBccKTMU1o9yZ6jkULfNXCocPIFjKJRZi7XYsmyXiBz7/uSc8jZYg5cJnGX8a9Q0i5bZMT6U2VSspRN1rGxsXXhbBFLwGVB3Uc/VjxxrYzvx+bWi0muTvWsmcunHv+th1/ofgwjQrZIWdPUpNPIuoT8zdc4nK1H9xQZ3bllGhezIdliG/ZUuWK5qtGxqS2Ub2L0Q3NTeZbdmJbxg5gsDzzwAJ599tmovCtXrsQdd9yBarUKKm0juJnSQjjga64/h2xRBktisez2c/PKYm2Ifpkcm1ILlVnDVP/i5A3VOvXgF5WnDL9Qq8cWoXuNrIu6pv4c8sV6MWm48n+IPref4dY9lh9DdvPVvrG8kppLGjmI4fj+OlrKmpbZL5W1S2xsrPYVQqDiEyS2EfQJFytmUjb39D4H/L7ikfaHilsuifnkDumU2nzzQ7pwcoboxpwnNSh8gOj21+usKX7lu99Ike4LjtRiJWSPWIsl4ZAPuPxS+A9HsqExIYT59CM0vxGwUn1cTFB5YrR86xTj674vs4n0ycy11OTrA+8UOX1yuZgY8ufUjXgj+MzhfIotG8GeFFu4NMtuPlPv+Wzhk5mbG/Nn1RotusrIEPPnUAvZQtHxyRLypxRZOH1iOdSl1dvbi+985zvBT/9Vq1ar+MEPbsKmTZuiMqT4UEyXkB4+uvXWEDEMLhOHvrmp90K28NGhssVsweWqMrKFaqoy8vr4hWRNoeW7nxKHvnmxNUw58PFdp8rq3gvZv96aKjUvNdIfOsyK4V+Kj/hqg9A6xWwaqtNC+vlqi5TWqO+HxnB2dmvo1JaCHzFM8+VDl16z78QotmEPKZV6kkQVoPy50yY6N2RYV+7QKx3HgX1s0+ErODg5fHPc+z69fQEV0o2zo8sntobu2ND4kLP77EzXlBvPyRnjwdmc86EUuu589577Pua7IZldmj46Lr2Qj3Gy+nzEZzMA+gf+fDL6ZInRDiXzULxweBDbPKT4XiiOysYEpwPti+EhNz8W2+51Cla6tH3XPvtRniGaPmx2W8yXYzL4rkN+6a63L6a4MTGM5uj7ZOdocfEWGhuybarvcbmIk4HT1+cXsdj3yeezjUvfN5/DHo4fJ0usuTrs2LEDJ5xwAk444QRN47nnnsPTTz8NADjmmGNw/vnn6/FNTU3YsWMHpk6bZtHj/CWUt32469MpJW44PPDZNNWfuFzqwwiOj3s/VsuEZOb05XyJyzMunRDOh/RKzXfc3JiuofWjfbT5cIyrCUI4x8Vgylr4dHP18fmcL5Y5G/jwK4RB7v2QzK48MbxT13Qu7fOtaWisbw1T7OLyiPWFZORyAMfb1SU1v7q0fNjj04WzSypfOi7kz7H6JJa7uObDC5eu734zB/Y+gPY5jzvG13yAkXKfC/TQmFiQh4BGNW6B1BjOmWi/L2FRujToQ0AZAokUQPPZxm0+QE1toWToc+wYLVc+Tl4uqfoSp69gCK11ig5lfDc0xgdCHH9uvE/GGLDE4oE7AIjZkvNZHwiH9HX18Omd2lLHpmCEK3NKf0gXn4+GkoXvmut35ePkSPWJWJ9P/npwKsXvfXxihXrKOvh8NlYccfYPFQKp2EJl9OW9VF05OcvEE0eH6wthqY8W9562EJ6k2Dxk75hs3P1p06bh2muv1de1Wg1f+9rX8PTTT0MIgTPPPBPXXHONRd+HhqF8xY2NvfetDadXzPa++z55Y3jtxmfq+HrqCB+vEM/QJsaHLb785W4UQrnRl1e4Pm5+rOZKqSnccak299Um3NhYS61NQz6eakvXJvXQjMnq86FYbVEmZ8Zi3zfGfU2Zx+nA7YE427rycT4Sy6kh/evBCN/8kC18dHz5rwydGD66/NQcn5+q/uYU8ONa6nhfIMWSfyrfAzE/FvC+RUgNmJjNY/312CBVJ9/YMi0WUGUbZ1cfMPrAqKxsw61DauPAt+x6lJG9nj71I4ChQiHU36h8B7qlJE4umYXo1Mvf7Yv5qU92LoH4Yv5A2Hy4cLtMkuV4D0cc+e6HxpfNO6l43ChPd2yjMRgrVFI2JDGeKXYvEyduCx1ihN6ra4p/NVlDtVYj18yfJxOAgADqsH0j/lzmgCiVb6M1XZn5vg1Fah1Tr+2GO79y16FDwlQ5U1vqnJhdQxu8RmvMsjKmzk1ZS249QmtYDz6Vla9eOr71OBAypmBL2Zjx1TTqupG6+UC1RuOmHl6xa/Xa7DJLOY10T2C4se54V1l3jgt2tD8mX4h/GVljp1Cc7vR+zGYcv0Z05PSLzeMcK3biVq/NQjL6ZPXJFFpH7n3IVi7dED06n5Or7Bpw7322cfkVCscEGmV839eUb4dk4uKDxgSVPWQPbkxM1npwyUfD1S8lfrn7dEyZtSm7jik2c+XzYXDZGDtQmO3STIk9332fbWL4F+LHyVw21n20XH1S8k49OqRgtq/Vu46ujmXztytzI7GeQsMXY6H3VVkDzTCyJiHJAQCkRE2SawCQ+T8hoMxWEZXSern3LRZ15gyubzgw2ydHPdiRintl/DYlz5eJEx8PbgzHJ4ZXZe3n0qnH7lx/mfxTxv6UT4o/pfCpN0dR2pyOqXmzbH6pxzYxv+VyYlmblZWDtnrwh86jMtN7KT7AyeGbl5LnYvzqWV9f/ZBCOyXGml0lfO85AmXGlrnn9qfIN5yypshcVl+uv6xeIRrDabMYvRQ+KTKG5pXlV68vDieNRtbAN3e47VtPnAL2VwBqpKBt1G+5+43G2IHApbI6hGSK0ahnHX+TuBS7rgd/UnjQvt8EZvv6U2P9QOS5lP7hwING1rEeOX4TuF8Pz+ZKE0D6aqha2CmEQJMzBgCq1SFUhICgY+vQy9eGAy9+E5hdL/6k9NWbA4bD9330Uub+V8HsRmOvrP1T5g5HPo3pNVz0hoM2NyYlNn/dmO0b/+vGbN9BwHDYzDcvxCck63DQjsVYs7rwnc6kJhnfWO4EvwyPMjLE5g4HrxQ7uadJZXiVWYfY2HpsV6+NGlmnEC+gaMdGfSp1bMo6lqFbJkZiOpblnTrG1+8eAMROVF2aQPl1LNNS/bYsr3pwMZVHzPdSsIuzre8Th0ZbSty5snDzQ/RD88vSOtC5q54Wsx2AAgaE5pXlkypLiC/3aUWq//muhxsDUmRspK5Q9Dg6IoE+vWMhaURunzyN+u9w4eevE8uHk45vTX9d9U6I/1vtrfbfsTWyzxjOnH0g9lEpPLj7jdZQZWXRBwC+04NUhqmnFi692KaAvg8leO592U0ipVGrVTEw2I/+wQEMDvZjqDoEeH+u5632Vvvv26QEunv36+uevh5s2bkR+3o70dHeia6OkWhqavYW2KH+lDj2y8U/IunyihVRIb4+XAy11A1OSGZ3TgxffbYoU7y6sqYWwhxfbk4sqSmeMZ/wFcgcrxQdfJvXEK16W2wdfX1lN82x9Wsk7tz87M4LbV58eqToFt14l1izmK+GWsgfG21c7cPJ6MYdt4Yx2UL4wsWu4lm2+K53wx4rzGMtVacQZqbGaz06crlwYHAAe/fvRk/ffvT0daOvvwcDg/1vHQS81f7bNAmgvbUd40dPxJhR49HZ3gkhKt4c4otZ937q3s9tHOb4sMEdF9TTg9GhTX4M/1J4hvDepdHMjixBNDYmpQjkikhf8vHRiSX60HwpJXr6urFt1ya8ueE1vLpuFXbs2Yb+/l709feib7DXeuz5rfZW+5/UhACWPLcK6gBsxavP45of/x2aW5rQ3t6JUSPGYMzIsZh08DQcNuNoTJ84EyNHjPLQKgJaaNMVlit9Ix7rC4E9bWUOFCm/GPBztMoUmdzGoKwevs1AiF4Iz1NaLD9w91LXK0S7bL7gZAvRid2jPMquVWidOHnLFBJlxzVazIQKODrX7eNiI0X+4Vyv1M1z2RbajPpslLqBTTlUDMVGCgZRGikHhz5ZufllcM63XmV0CrUUW3L86NyBwQFs3r4Oaza+jlfXrcKbG19BT183qtUqqrWh7Gm7tz54eqv9d2oyi4PWlja0trThoBGjMGXCDMw97AQcOvUIjD5onPUbKG5Lwbp6Y9qNz0byhY92Sr6ot4YK1Sgcj+gBQFlgS+lPPRRI3RCkjOP6a7Uqduzehl+9/CyeX70I23ZtRn9/L2qyhubmZjQ1NaG5qRldI0agqbkZ5d3prfZW+/+/CSEwYkQnkD3cipaWFowePQZNzQK9vb3YsnMDNmxdg+WvPY8nljyI8aMm4PCZc3HiUadi+qRZaGlujdI/0PKnjEn99LMeHrFPt1I2tGX0iI1JaSFdQ/qk0k/ZcPk2sam28PHh7tVb0Kd+yhzjUYZOqJW1VdmDjXpka2S9DoQcvw4eoVZPgVqPf5aVLRRzZfimFKQpMqbi7XDIGqLVCH23qQ+cXlm7EguefxjrNr2B3v4eVGtVVJoq6GjrQGtrO1paWtDW3o6W5hbgrerzrfbfqPX39aK7pxv9A33YtH0vNmxdi+dXL8LorjGYPX0OTj7mbMyeNgctLVntmHpYrsaGDh3LzKu33ksdw42L4U+Z3BE7sG2mRmmkEKcLxNEsm7xiJyL1ntwqOjv3bMMzLzyO51c/g607N0FUBA4aOQrTpk3FtKnTMX7sOLR3dKCtrR0tzc0QovIWBr/V/ke2SqWCvu0V/OL2pwAJTJsyDe//rcvQ1tGKvv4+7N23D/v27sHmrVuwfsM6bN29CRueXYulK5/G8UeegtOPPx+Tx08v/BhWvS0E5I18ouOj3wjWxAphda+RYtJHvxF6iqYvPxhcByT5VfNarYqh6iCqskrmSoTBM3Y/LK/IBKqTdv33s/VFYP6B4w1l2wOmd2BmQzZXPvFfkXfYJtVq9oN+3liTMp9ODsZqNVSrg1r2am0IPf37UBEVNFVa0Nzckv0JQDqnwYOg1BjmWuqhSIhmrFCl92O86jmIop/e+cak0uLkqWeean0DfVjx6lIsWPYo3tzwMgYGB9De3oEJEyZi0qRJmD5tBsaOGYe2tla0NLeiqampofzwVnur/Vds1eoQevv60N3djb379mDdurVYt2Etdu/diUUvPonlrz6PuYedgHPe9k5MnXhI9sOpgTYch6O0ld1g14s1KfRD1zFesYOQ5tAJbZmiNwX066FbZmFDJyfqtVar4fX1L+GOR36M9VveRKXShMkTp2Deccdj5iEz0dk5wtqoWDSyKwjkCy6QJ+98XDYYEML6IaDCp2UARP5gl5pfHJuPcq7NWFXOCIA6Yc5byWFkN3Jnc43kah50QZvdVzToaL982ayQToW5lhRqNoh9nbv5o0PKEgX6Skeif65JVi8LYisiqc9GKOicoBPxFe0xucBCAtJrT85fUdC5uF5GF1A5LV18fhAZm7+KikBbWxu0lqKCjs5OdHS2Y8SILowbOx4AcKyU6O3txeatm7Bi5Qq8/sareHLpQ3jhledwwfz34IwT3o7mphZwzce7nmLYb89y3wtLmROiH8OilE+aUjDN7U/R33eizPGqyRqkBJocXASAam0I23dvwZotq7Fm28tYt/VlbNu7BT29+1GVVUAS+pwJpfIp1rz5fEAUWQMAatUaIAQqFYZACm8pIbi5yOM2cL9Wren44OeHfU3WIrzhn6++kubmqmxyis1DPp29+kSP29y/XjG9mD201arVKoSo1LXeMb1SeFdEhV8zjx9LCTy/6HV9vXDlg/irGz6AlqZWjOocjUnjZmDmxDk4dPJcTB0/C51tXRDOnwD0xWso/t2YbgRXuDFl5oboxXSqpz716RuTJUQ/VoNyhbm7OdizbxceWHgHFr/4BAaHBtDW1oHj5hyHY+bOw8EHH4z2tvYCHXfd/XkfYA+R9BC+DrDkdGtEXXvYY2lNWJCJ1G0FOqwPApACUtg1jFvjZjWtUtGptaIxwulC6mlHF9MLLRMgcnlMPSkMYbsmzRylUJfpr3IQexT2ENxaEHpCyeQdm2GfVd/C7Dey/+Xr56v/XHqQOc3iOsOxh1vTa4VVvS+z15aWFrS3d2DM6DEApuHoI+dif/d+bNy4AS+ueAFr163B4hefxIpXl+Gi038LZxz/drS1trOxUbZOS20p2BvChTJYQ1sI/6gOjdanQP4bACnJJUSU9oWKTzch0fe+pMEZmC5iSuJRrwOD/Xj8uQfwi4V3obevB1MmT8Wpp5yGmTMPRUtz9m2ILEykCRSheGs4cN7Ta8LfCgg1RoWvM17LTkGbhnr+TgWdIPQVQDiAb83X9yTRRUOWpZ8qgoQWzcw1YklAKtvkVsvl0fIqucjaCRiwoTJBWFqShGaJSYZl/EUhsWX3RC6YncDzmcK2t7JjhnECEDRBwMxVycECPQp2pt/ooSdrEBcEON1KU1I/gKMzSbQAHDpGJx03hXXPbWOdJIDoa/qpXVWjGw1Zq1HzWLbp7OzEoTMPw6EzZ2PDxvVY/NwivP7Ga/j3h3+ETdvX45KzfwcjR4xisYHGtQ9YUzfwMTqxsbECms4JbaBduTkdU+iFEgXF0hSduCI7RCPXwBQwAPb37sbiVY/gwSW3Y8nLC7Btz2Y0NQmMHDEKo7pGoaO9M/+TaB5yb7W32v+AJiXQO7hXX/cPdWNn70YMDg5g9Yb92LN0N7p7u9Ha3IYZE2bjjGMuwjtP+QCOnH4imptaCjEOFDHNrZV8WJW6SQ/VgqH6LlZHxjAmJndIfwDo7e1FX18fKpUKRo8eXeDp21y7tk2xA1e/hnLa6+tfws/u/x42bV+PluYWHDt3Hk4+aT7Gjxufj5FGDrVTU7Wnzq/qprDqKH1qRWoELWee33XtpesLly4gpF0PqvKC1iBaHiWDrhXI2ii6MLyszaSqg5XcWdmVbzIZOdUc7QLCHmO92nWUzcuuf5QNhT4Q1cYnektt8YwzsQ0xjjoCoCWZerXqU1rb5/oX48vIaWp8csIo83V11jpfRC2lWYdccquGV43wIscLtq9nZIXSV7mcskyum97rODU9pLOmHuzpGjECRxw+B4fNPhxr163Bomefwdp1a3D3Yz/Bus1v4NJzP4ixow4uxFcIe5RNY/UfdzjF9bt4EeLPzffxjGFyaG7MDmoMfVX3m93OULFLx3DzUsZx42P3U+7F+PcP9OG+J2/DL597AEJUcMrJp2L+yaeis6OTzJAkBACIfGObbyip02e+LNW+z2zOhEXOgJyeS6/hXFPEJQEP97ahV9BbI5xGH2oQZ4NI5c6BmICmVDak44htDJLS5JQLKqjOwnRLBeQ6YxD1zDhzkEH1IBt2QdZBkyF6OxhETahvEEClyQWEloZTpZ+aI6Szik6SsoDeXn96Ck0TlRknFApDZUU1ThKgtqym7eTqQTuNf6rDDkXfOgiwZM6mZQcAmQy1mr0ZtLOeeT91yjRcevFkrFi1HE8+9TgWPP8wtu/ait991//G+DETC3xiIJ06Zjjm+zbb9dKMHRDE6IXsVFanMnhbqVQgaxkuVEQFO/ZtwT0Lf4C7FtyMDdvewIRxEzH/+JMx74iTMGva4Rg7ajzaWtvzR/YaW6u32lvt//cma8C3azfjhV9cDwjg9Hnn4uq/+ByqooqhoUH09O7H5h0b8dKby7Fs9XO4a+EPcOsvb8DbjjgDHzz3cpw29x1oa+lAb18f2tva0NRUfBQ2BQ/qqbdimBUqLlNqxFTsj+GbEAJ9fX344Q9/iOuvvx6nnnoqbrzxxmT+KfRDtGJF9ktrluPmu7+N/b17MXbsOJx1xtk44rA5ZjNB6zxdi7g1nF17mdRu8jdcEiA53aobnNpL5rWAEKaE1X2EIK0VSa0srJpTOOME4U1rRlKgkfdWraRqRV0zGj7E+rA/nAKpWbka0BhJmAmGHqmF9QEBmWZoeHSxzEt5wV5n3YofECqZzFthupRe+VMTgtLJ7a4OfXRNSOTKDnmgfcYcF1Ah7XUo7jFsg9CDnqyD8pW2fXU3XXNb/0qlgpmHzMK0qdOx5Pnn8PSiBXhuxQJs3bkZH77445gyYQZjmzD2xFq99V4j/OvdA6didQp/9gkA2pf6dIB7ihqaV4ZmCi1XWXf84NAAHlx4F55a+jCam1tw/jlvx9FHzSXJVOr/00deMrqwxthAl/VbmE02Wxq3KAkCjlpOB0+IIYvyCQp25gkDcu7nyGk0o3ZSJ3L0ZC5HeUNNBaYCfAIQ+dmfYVXgWwQ6QBBwIndksc/IXhxjHsOSEO4cZXT7qNdKIHoDruY6yYUDN6Wt4SdyKzqHRoqhoPMUOGagbAM+8R8qgyTZSyj9iYjWBhyAOr0viJL7GgVoRVMNLT4WoMdLSFSE/biv/Rcx3LW25zc1NeHYucdh7Jix+MVD9+PlNctx12M/wWUXfgSjR44hYsbjP/Spi298WZzR5nHw0G2pGBSb7753aVN6Lg9Xvph+Pp1TbNU/1IsFy+/Dv917FdbveB1HzjoSH7j4/+D4Oadg1MgxBktpCBXdioXR6HgeSvw0Qa453in3pDOOjoUz3qXJjedkd/m5MvnmhXTn5OP08a0D1+dbk0bWyyenbzy9747xyRzyizK6hua5slP5AEiR4aceJgREk0CTaEJTcxPa2tsxZszBOGr2sXj3We/H5u3r8cSSR/DLZx/GF276KE6bewH+5OIvYurYwzN6Dg7E4pjyrbfuCmFYigz13nNld/WgfW1tbbjssstwzz334OSTT07+ZNCnM2cPjgYnn2q1Wg0vr1mBW+//Hvb37MWsQw7F+eddgLFjxlq1lE7aMqsZsyuyGVdjpKp9hOVv6tFqtfHKyhlag5BLNR7Kxc08gNRTtCbgakYmGEiVlJdhdmBZ0EBrWwEyxt7UZrRM/WR/um8UE3SK5uSubxaPehNM5Ze5zsLYU/NROmsbK9r5e8eubv2U0aFr5sQT01+klXMjMonCBgOWLbT1qU9buKWeSFVmlGYi6D6DNrKmUsmSy5nX6FQss/KwbVCgawOwhERzczNOOWk+xo0Zi18++RjWbn4NP3/wJvzBe67EmIPG5eqm7w99OKbmGROmx3pqzeir22I1Iyd3Cr5zNDm92CcAfMzoKQNH2AeE7ulE6B7HO3W8b4EXvfgEHn/uFxAVgbPOOAfHzD3WAjIDmzlYqiuZAzEJDIHc7zM0hkB2Aiqt++Y0zgIwEjdCB04ut1Xc0Gup6Vrg62YHK3komhlDBUTqVNd89YBMB8ijUGR8nhQkGS+EhjYDICad5Gorq1LZclnoZlYnGUNBAwkdbyUeaF0sgFT2t/gY+0stvzFzdq2SpAJ0koSI7JZvWEnQAXxGZnNNdFR258bnicr2HWpv6O9TWeN1slDXrmvJHIcN0Ob5xC87nK8ADhVgwwAAIABJREFUSGklEVZXYnchBKZPm4F3XvRu3PfAvXjxlefQ1TkS7zv/w2hrbfcWgmVxo8z4GJ65MnCtLHb5xrjNxTEO2H00QrL45FP8fAlk6+71+NGDX8fdC3+MSRMm4lO//1mcdPRp6Oo8CFJI7VPGJUwcEYbQjka6JOnLIFODHYkmB5MVr+xHNXL8NcWIQr1cA4Nnig8MXik8lKTgNRgPu8bVmJhhhiQVkkWT0Cggg3BeQXRR1wT7dX7Kldfrpc2pS27bVtomytZ22W8X+HYhKyDz3ypR3aoYFLpQNNdMnoFzrUgJootlZ6I7yTfWq3T8QCuW9ygsR47XNBlqHyB2FUTWgg9IXlZ3ndz70pU5UHDSfJj7ZmtbG2ZMnY0PTToUbz/l3XjwmXtw/1P3YuV1S/Gxd30B7zj5d9DZ3pXN9+BTyuaajlP4TftCOMo1bjy3Yde6l8B37to3fvPmzdizZw+OP/54Ftt99Nxc4NPPx9s3b8PWNbjzkR9j+56tmDplGt5x4Ttx0EHZn8el34fWuVOo/E43jmYLJUyI2jlX6Qj32q7bNF8QDKG3NZ6QGpPkcRsLSb2l8rwzPtNR4SCRwVsbcfWDNgGxCaB+N8DaDAkFxwxvjQkSqtY09S3FjBx/dD0FXR9qnWmtaqM7bNSljalV9fqaa12PaTyiRpewl8BgOld3ceuVXRMfIHgHSEiyR9DSkvUBvRZ0/cwagewjDB+St5WOenFJPDD7k8MOOwLNLS34xUMP4LV1L+HfH74ZH77kcnS0deZ002vGECa7mBCbF8dWfwvhIUcjVJv6DoVpnw/DrJ/qSTWOjzB3faCbq5hrmO27tuCRRfdisDqAU06ej+OOI8khDxL99FQeb1l/TkcgBzcbHNUJodoo6/KCBB+dr6sFdQ1hB4+qe+27UBsoODKDgDwUaaKHcK8JXUXHTR4UCDR/wjcTwwRnBqwG1BQoZYFveCEHAs1bZzIaPObkUoEJ1cXSPdcXEkZ2CXtdlewCFl+h8hpU0ChQE/q+0NoIS3bDX+pXlSg1T6oj9TFiN62jycHZfXoNR3alcGC9IOz1grNeIL5m1hg2DVd2IPN1AhW1as0oonRRS6J4kPkS2SZx6tRpOOfs89De3oFnX3wSq15/IQpWtIXwydd8c2J4Nhw4VkZeil1cMpBSDqv+1n0hUK1VLX6qvbllNf7hxx/DHU/dhHNPOQ9fufJanHvSOzBixEh9MErXn6KLEznkFVB4Sfu0HSwsyEDZwgbKRygqBrc1NUl8WMtk+Fo+b8lheAohdeGdrYs0PAUs2SmGSSuW6T331R0HCKnwVI1UsmSyaRvpOIUu3HSBRecRfvxaEN0lHUvXSQtnayFIbtSHizaOWetpyWTzL0pJroWZj9wWBKWhE7niJ/K1K/AqYqrK3kpfc9/VxZFVUJu5vmlwkGtUDurfACCaBCZPmoY/eM8n8KWP/zO6Rnbg6ls/jZsf/Dr29+7Rdlct9IlTCp5VD8DfmueKcbd/OJuUEitXrsSIESMwbdo07Nu3Dz09Pd78wn1yN5ytb6APjz17PzZsXYODx03Au95xsd7863qBfo8b5DBNSupl5P957SIdX1PXFO+suo2shcr9QhT9WtPQhsnjWZB6T+pP0HXdoDfWBFOVLGQ+tKxEpwJOgq3b7EMJkPtmM0kRPOOtUB/mjFPXmgrLyTXs+5q31kWtl2MTEFmd9VI1qjapGpWLrq3vrJdld6OyhUdQ2Evs6m7+9ZMLatNIDwtUPtPjhbGj2c5Y6yV860WsqOt7KQ1f4q9CmmsLVcmaw1ov4JAZM3Hu2eehvb0dL7y8BM+88DiqVb5mAcJ1D72nnlxM2ZBT/PDhW6oMLi/fNaWfuueOHXTQZh0AhIBQFaCphh2u1gjNaq2Kh565B9t3bcEhM2Zi3rEn6F+ylrlzShJBZmOa9Ul1IkA3Owp0KABb30d3kDnb/sAUZ3Do2a/ZBb1i9NeFN4EDgnL6kwxBxzunHHq+KlRU8iF89Xjzqm1Cg4NKr5IBAT5p0aAlKgxvXYJlNPQcgvlZgixuPAsZURJ+ssjbDSSNw7QZpuYfXXfNnNpJobrtM9SOJjjJ+ig/EdRelIbrg0W+0uIPa7zST9L50h6j5rqFoLquCCNvrVaDHZZCm0olNnV6bU68MxsecdgczDt2HgaGBvDgwjvR29eTz43HOYdPMVyKFcqhloJ57nj6GsPTEE93jDpEKdu4xMgVvy5pKSXWbFmNv77hd/HCG8/g479zJa784OcwevRYSFGz0IDMymgqD9b2sz3NeLe0roq+a7bsRc1lzifnocbkeCEILcMr5yJh/NK6SzhrhpoLowvBD6gbModhwo/yBo0y86o3AEz0m9i0P8W2Mc2VRsCmZklqrw/lJUBksxBD2wwWtQzyle11frT0obKLHE6LNqD6Uzw18nH+Rp7ukKbXlltYNNQoo48kPsuPhZa5iJFC2Nbi/dVu1MYCNj9NqSJw1GHH4StXXov58+bjew98Fd+552/Q29+djSNBO0SK4ZRm44ChUx0axL59e9Hd3YOq9VWvA9tScdY3plqt4vnnn8eECRPwzDPP4O6778aXv/xlLF68OGn+cLflryzBstWL0N7WgTNOPxPj87+UQ5+IgRtNOo6YOiJ/UTWbXjmda2FAS6I4n22FrZxVJ1g0rN8DkDYJWtvqUwSHt4VPdr/6YWaFC5zMxZqHvLpfYXRoCM1c6hi2cYbRl5hFuOtVOCkhFBRvrUtRk2K2YXir0brEpzqqIotkEn1QbmTThzyiKGtRp+K6ZESUPlLnTeq/FEMK2pLtibVPye3jNr0nA9mTaHkFjjh8Dk456VTUalU8/uz92LpzY5EIGe9r9CuszerH3xs8EHTXmtZw9XywXm8rW3uyf6yHFr7qH/fJFG3uJ+9c8RwrqDmjuQU8N98n07rNr2PJyoXo6OjAaaeegY6OjowOMlDIfFFkn55QeJKkWFH/cmDMXgUpBrL5me+qfuhCMROV6ABTkGTsCY+8etVzVZ8TXHbpqo2g5VLCGl1oIa3eS+daaP2gdSK6gT7mZEDMwFauk5oPoTe7gtCAfizdyAOtp9LP8MkGkwpTqoyRzxWuPsQWELl9YesiZW4Xma89XRu1zsKsj/oHkT8WJvS6Kt+xClytE01VBADJpksXnDI/rbboOWumdNFrbXQCoWPpodyD2irXR68zkUUQ31EzAWR//irvqdVoiWD8QMsvjJ20Pchh1QnzTsTkSZOxZuNreG7lAtRqNe9GlQNWFx9c7KGvbiuzqae0U+ThTmg5LKVjfPr8/I67sWj5a4ROMcWGdPH1xfRR47buXo9PXfd+bN+3AZ/9o7/Du8+6DKJZn+7kdUH+qn3bgKT5FFZ9qkDsKjNfoZ8zE3AFHW2eJFDCkTv5eFXo6E/O6YFsLqOSU8uV07D0kKZfV0hEVq2PYy9NQxdNpm4SknyapPQhdqP2o582ZTYy6AFtLVpI0QpLanpCklfGvvSJAm07ujbEVnSu0HnS6ANIXV8WPrUUSke6BtCfOmm7KTvnGKFtom3oyGRAGqTXOgO21kcjEaXr6pPLqfSRklpFu4QgGGka0QfUFv4izNYnmyuJPpmdMr5dXQfhL//gS/itc9+H2x7/Pv71zs9hcKg/+ZMebox1gA2B6kAfbvn2V3HRRRfhw3/wEZx9+qk45+3vwOpN+1h6vhqP8gvhi6++TDnQ5fjt27cPS5cuhZQSZ599Nj70oQ9h4sSJuOGGG9Db21vQO5RvQjVrij77e/biFwvvxMBQP4468mgcPvuI7E+pwuRIWh+qfE6+++PURVLnfiAbL1SOVrlW+bJ2W5p/i7URQMJIAmTfClO7iOI/VTfo+bQuIjWndMfRes2uGYWiq30gr0Ek3SqbOHX7JCOPVQfpOsvUIW7dSeuqgtzSsZfmrfgZ+yoMk6omEaauk8rAeQ1rrSmxsVoFTh9IVQuoetvWxV4/o5M1XtuD2Meab+BN+ylZHxBZlM9JacstQPk6/icML+V7Mkt8xL+K8gghcNwx8zBl8lRs370Fjy/5BQYG+4Px6rZarWY9OaAOAHz1WGpzsYvbL6diYao+oboydW6FAzYqPLfpj4Giby73CBYnfOygwZWFa9VqFStf+xX6+nsxe/bhmDhhopqQf8+KhI2qQABTGMH9J/ICM5sv8iJPCPefIDSEKRjzokLkHq9fHZ660LCgSOjxUkcMLcVAdBF6r6V00zJrnrRoK/7L7EzmCsNTz1dFCjMXgLYphU4h6WtRfneN6Tplr9K8WilBl1K2PbSsuT65LmZTIrSOUPYjc9U60X9QviGMnehcrTOdQ3QG5adtLIy9nPWy/ln6SuNzSi+qJ/G3gq9Z60z8T58CO35K1gQAatKcoBo/kEY3tW65/RVv1UaM6MKxc+eh0tSEX720GH0DWYFGMSF20Oh7GkAfOjGFYgzTQte+ebEDiBiW+jDx32+7HU8/vxq12hCGqkOo1aomKzO8YwcflFdxbg1S1lCtVTFUHcKufdtw1U/+FFv3bsAnf++vcdIxZ5CnU4Q5gxOwnvSQkOYMIOOirAnaSz8dN3dzujD0FD9bCbsMQz5HFTGw+BoZbY4EmdR8QT4ZojYUmTvbstDcB9D9oJ6pE4ST0BVPIYkWEmaIST4Z3NpW0jxUIadlyQuwPKDJOakxidIVKu+SAkzxEtTGOTeaLFSvSQfEdm4TxraWfY3NzCtdM4OVNBk7nmbRM/zcZtZJy6152r6mEnpmO2HZXNMXjp9LJSjIWjt0mabpkEQuiK8Z6bP/Wlpb8aFLPoZ3n3UJ/v3JH+Lnj1+HoeoQqrUqqtUqpJQYqmZYwWFXprup2/TcWhWDffvx3S9/Dl/4xk9x5V9fhZt/eBOu+uIn8cqrm3FQVxtbSKZgmstbvbp1ng+XtA0YTHX5bdq0CTt27MDll1+O8eOzT9u3bt2KNucvJ/T392P58uXWoUCKPrVaDW+++SYeeughfOMb38DevXvZuQDwxoZXsGXHRoweNRonzDsx3zSRXKjytnoPks8VTbdWork4Y6prAuivJeW+pPjoHM7M1/WAkUfXjFbd4dRRSj7nH4Et6K2bW3Nq3Zg6RL83dV6+6JnP0PUg8FCQRapayICbVcsCli42DVKvkTpI13qwdTR9Zm8AmcWrtrGqGfN0AFVnEXlAbI4cl3X9qO1lr7VQfkd0UnOkrvGlJa/WVclj2aO4R4Dm4RxnKj9VuiicJHJba+qkDwPrTi1P/JRbHwDZh7mnnAYhKlj1+gvYvntr7ib+jTdtUkoMDQ1p3XxPAPjmu7QobzqfttAHQ9wYWs+F6lXfYaarB3df9QV/A8B37RJ2QT403y3QQ0AfOmCg9LjW3bsXq994AUIARxx2BJqb8oXOCEBFJVkCm5fGH3JN5kGq+Y6OcGR3izaRyS8Vf2kXCqqoQ1556us8atWnAiBOEpQ5p6lQQ+SFI1TBaNmXXuf38/H6IEPNN9UP4WfrrG1MIlnbQYGlx2ck4W3RkrDWjRbiBd2Z+S6ffGDRJgqalK3VnULQkxNObTciI32VxC6MzLYZhcVb2Uzzsb4moWDc1qUwP/e1bL7LW+kCkiGMnUWFpOiaLKy95UEWT+Vz9vgZMw7ByK6RWLPpdezYvZXFBN8m3/fKbfpDc+j9UBGbwtuVgdM5hKfu66knz8dJJx4HIZrQVGnKfoSRgTpfUeyT2e0H8gJGCFQqFVRrQ7jtie/iyeUP4SOXfgzzjzsboqL83y7Eshg2qVoYyNCRZOIKMJ/s5HdzN9SPzCtfgfrUxI7IXFNaysB8WkowVOOYkTVbjyLGiwItoqF2fjNe4YBZK3tZtKVUDOrfilH4oYoiNUsSGYz02m7C0JEgMQ8DZxTT9X2prV6whf17J3auyMYqGys8MeuvaakCTuVCwtuYNx9InoJQdiYWyWVVuc74h7lWAkq9Rqb+MHa0VCQ4Tr0IoHYxsmXYKMj6qGth1kTbztARhJvK6Yqvva5OMydo0AdYRE9znfmABNDZMQK/9+4/xvFHzcMN9/4TVq5ZjIqooFKpQAigqdKU//lNvtGaTY2tCIFlT92Pq757Cz7z9/+MSy+cj1EHjcLpF74X37num5jQ1aLnFlSI4CF3EJBaM5bF1KVLl2LSpEk48sgjAQB9fX148cUXMXfuXLS0tGj6q1atwj/90z9ZG/gQf9Wq1SrWr1+PN998EwsXLsTg4KAeR+dUa0N48eXnMFStYtrUGRgzZmw2xq0DTAo2udfNxRLFOgLUt2G/0lDm6g/KT9tSaB30QSSdow7FrJg2TGm9qzHCmk/xyfB26w9jf8Pft3Gidbc1X5ocYbBT4Qkdpvgz2ChMXOZC2LzVeCn0RKtWpeO13e31suo/adtcz6Z7E1rvu3bT1yp3wmCySsiWjraPwZVd8zI2tfkRnRU5srcwspvxwtknub4Ga5/A+LnDc/r0GRg7Zix279uBV9eu0riWginVahV9fX25mALt7cUfoU5toYNMjrcrm/vhj7vxD+lSFk/pNeVTcRXXYMD0hZQKGS9UlFMD+Azko6nmuXIAwNZdm7F5+3qMGjUGkydOMRM1SWXI7L1O4WSjRMfr71mpsUKd9KliJe+XDh9FRgCqgJYgJ7aA7lPjhCqmnOqSwlumf04j68gLBfOqcc/grdGZfG9KBaik95V0Cq8VfbXO6hMsq8omCqv10KVQFuRaf1DQMAGu7BRcL4NOxHfs+6Qk0+/NhoXYSCttA6U+pZVKrqzwk8TmSnZRsKO01sWslyByGGDUOpD1IvmL+I56ukQQf7RtrscL6mvGxibBoCgDiAyEltJNx0KtBuorxfVy/Jz4qtJ11EGjMHnyFHT37sOaTa8V8IViCr12WwywQ4WkD+dcTPHNjwE+B+x0jKsvvffnn7oCZ86dTjVlefh09snqw3Lk3rX8jWfws19ej/nHnoKLz/pfqDRVLFwzdYQKlDyG1BBBNy/ZDI0C6lNgIU1RJqX5zRIlj5KR+JbMCy5dNIHgkvoaDPkuquGT0TZFBJFf45rQchicg3lyQNoFTB6+xlesdcx1J5hpJhnZBAnEbBwpiHJdoHUz+Ka/3iWpbtAym6VR+OwUy8LIIBUc0sMTNUbRBnSdqPQ2GhnZQXlrn8iFUnakdlW6IsNaqXVWq6TwhuAyta3WQa2XIDIQuxCM13ZW9C0fyOlrHxA6j9ieY9Mz+4Bcdu2jDi66jeRsk2iVzxODqzXP9R110Bj88fuuRKVF4Pr/+Afs7dkJdRDCFYNcfUTHDfXtx89+/GO0TT0eH77s7Whqyj4TGjn6YFz2ngug/1AygyWhus2HoyD0uBrOpeHOce+r1+eeew6HH344Ro8eDSkl1q5dizfeeAOnnHIK+vr6MDAwgJ07d+Kpp55CR0cHhBD6yQlfbqH0W1tbccYZZ+Coo46ynihQhb+av3f/Hqx+80W0Nrfg0JmHorm52eRAQOdcCHtjZHJv/ipMLaRWn9Ybqv4z92HHC8npep661vcLKueKG1puvaoqOBNHhjclp7DZqkFoLnTwkdbb2Tw1Phcoj0Wts0lbCunynGDqGJFjjPmUWhjZFOYApvYjBpDqqQqNvURm9b5QK2UdlfxzVWu9iOwguqp/2tdoXan9w+huZIDJPUY1UqtTnQ1vrbLCCLpeju9A4SDRXemsa9FKRdf3md1tneGsF4uJ+ilaI4vxNbKm+dS2tnbMPGQWhoaG8PKaFegf6LPiOFQz9vX1YefOndk6VSoYP348W6f5asFQn2qcLKqfa1zN6K/Tijy4WjWEnRTDK8rA6pU7zXD7uFeuGPYVoTEeLi3uJJDjTd9v3bEJ/YP9OHj8wWhvb1eq58CiTQEVgTmFnA6hr/iZTK1cXwM67SluCkEoCDKf6iFIDebMZ2WgNlKba/Pe4IpLw8wnlUd2R9pyaRAmAZ/xJfoIYnODplpOIQSEwycDZtdXLOtDSCOJsGQu2lLzEWScUHLm7wGYT6EkoUA/zTEyUy56gCR8HVtZ89111r5JRtLiV/UKTmdnjm6UjylmHcmtdyo5WmtICgIli60VSZoVYfW6uqvP9JStLe9TmxoSE5VKBRMnTAIA7Ni9TX+twMUBhRs+DNIyBPDAh10+rIlhncu/DD/1nsNDOj77VC+Ohz75Q7IWxuTve/r340cPfxMQVXz0vX+KSksF2tf0V6byf4K+l6C/Jmyu7XEaM1Q/fZwR5FrJqPlJck/qeyb2HTr0P0VHEB3UYEj7vn6l+srsn1S6mMNA/ar1gemHGQ8lE5ETrl5Kfzi2o//g8BAiH09oaT70HkND2Uoq2Vx9hJERlCe1tXR0BayvIlGerh8V/EJYssOdo21OZNLrRXwDVHdXdp3FCB/X/s76KbkgYK09OBsTnVU8eJo9j9gdwukzPpJNlJgx+VD87jt/H8+s/CV++au77UwRiXUbEyS2bHgdjz/3It713t/G6I5mlsbAwIAuIEN4GcUZZp4rN0eDo+fOWblyJebNm4fW1lZIKfHUU09h+vTpmDp1Ku677z5s3boVixcvxp133omRI0dixYoVGBwc9Mrp6/MV8WrM7n07sWvvdnR1dWHy5Cn6MErLLYRVf1oYpf6vcyXJofo71o5MOhIkHCpqZs5KjclkoL5pfC2XU0hCl/5fyUA523wEjJxGRtUlzAEIoHkCII/1i9zX1WaSUiY6C6OzyTvUJjLXU2sJvVuWlI8ZT2twLbmw+StMoKMqogIpJdat2YDFC5biiYcWYvmy1eje36P/fDJnLaqPkcGJE2ssWQntt7mY1O7EZsr0Lh9YI4rSGPvnd3P7VkSmz/o1G/Hko4vwwN2PYOHjz2LDuk26ZjH+SOgRW1u+Bg4nXV8zOiN/PWTGTDQ3N2Prjo3o7t3nxTq3r6+vDzt27ACQff9/woQJ+h59pTQAWPjnw7oQ3xjOlME6bn4KH258MxKaD/xTmi8BuPQVuJbl4Zuze99O1GpVjB49Wn+KJaSAruS0g8n8oEsFi3Tc0TiiBDQNaceHIxO9p95I6B/AywFOf9BgbTyzIDZ60UAwJ3qKkB4nbVZQdPNgKuqlFSrqLwkpdQor1OcmBmjM/7P8IizZHEPk78ne1wgs6ZpAf7ot9D3yinwN9VyQax9/p9+yhNHHAKbUjyVL0ktf9HqK3AaWSPnJN13D/ORYb8SJbIqfFFQy1a92HvSxKsf3iG3oSalW1YovqrOB/ULTzpnRzn4EkNic2iP3Z2pyJYfxb7UExte7urpQERXs2rs9+457UzNhb8d1WWygmJU6tyw/bkyK3L7TWJ/8ptPPP/vLDNL6dCokt0U794tFqx7C4lVP4Hfe+UEcMuUw1DBEQth8GqEeIaexYadxLqErBVRCBUwR56iWHyJkPIVGL81Ryuw72rlvmgi2MUnx1uidTxcwfu/qYPiTqBcE+bQ9DDYonkonYdF1pVf6q5jM6BPtIO2RxPbkfiaYiTVtJxrTLgXFBVB/NtCSUq2J/nRREJ62XbUPC/riyQ1aNpq/qOw0r9CVIHGkRqlPDy1+hKPOB5Sq40VOfqA2ESS32+tBuRmp6LoZSV05is3YX62Yko9yy3vVjwMqLKsIXHTGe/HQ0/fhZ49dj9OOvgjjDprs5WV4GrxQn85ufHU1tm3rxTlnvs07Tz3u3traWlcNGJIDKGJ0PXXgxo0bMX/+fAAZFq5btw4nn3wyNmzYgPb2dkybNg1dXV1obW3FH/7hH+L4448HAHR3d2PBggXWL4PTdsghh2DOnDl6I6fk5TBeSomtOzdiqFrFqFGj0dnRySnvxChgsIkAlIR+io8k0vw9QOsfk19pYaBRL/PQHGvUpovWO3Cn6omS3KNx7USCwmMVt1p2gmnCxDS7vhZvgshqnDXcQUhp62/ym1PbqoMNoouujVCsy2gsF90xm7d/bzd++oM7cf+/P4SmfonJ4w9GR2sbtu/ZjU27t2POCXPw+x/7Xzjx1Hn6MIgii5sb7T/j5wARTWCh5jxRZ9bc4mTlPmNk4zfQdgUgBHq6e/GfdzyI226+G3L/EGZOmoyRI7qwe99erN2yGZWDWvGHl38QF15yDlpbWzV/LZaw+Su6ZkVh6t08R1hJV0p9DjZy5Ei0tLSgb6DX+g0pH26oe729vfoAoKmpSR8AuOMoncHBQdx0003YvXs3Lr/8cowaNYroVH+NmtJC9WsKr9jeujn0WJWwgknAHetj4nucy0dX0QgJzdH0KQog/3VIoK21jYAtDTzTRYNAGIIFoM0uidzEWfVGEMpXVREFXXQI8oijqUHI6b6SywpaG+R0qe08NkP5Z+MF9KNPFo44RZoGNxWAMAGoEgtT+lBz2roIA/akSFeN2lcfGgjTp4xhTiHzWeQrGBnTHOw1YNIkR5lRoDFzVVdBdpXEdN6h60vpZMYyJaYpFvVpLvXhnKj6kRkD6MbmZv1Uv7DHET2t5KF8MJdd1ZYaPw37nLrZdNFtB9sUi4qw5utwdJKLSsTUViaHUB4CI0Z0oampgv29+zBUHUJLcyuLEe6rD098eOUWlimYpppvjg//aJ+Pt3rl9HLHdu/ahlfWb8dRRx6BpoqbUA29oeoQakM1VNor6N2/C88//wKOOel0jOps9SYBs4kTGBwawN0Lf4Qxo0fjvJPfiZqs6qLOHDKqOMw9SBd+mV8rL5VW8WKcsXAIpTZzegx0MaYLEBoVZHNqxhoQkjkfs91zQ4XmElNcaCQVjl/o4BHWOCsvQVq4ZYoUk1UoPc1avVeDlEk0XoHIoO6rzSBZB2I7FWk0MwgLCAxGalwEkSUHRKHXRA2jhxXEntoVVTENa4A5pJGEnsEDqQs7pRsK1w4bqxYW5FBa5nyyQWojrw6KoNdEHy7nh7fZuiqQM3LqfKv8jI5Ta6oWL5fbrlEk/WaEpynDK62E9mHtmzpe7fhqb23Hb53/AXz7J9/PRVGEAAAgAElEQVTAwpUP4tLTPlKokbScXryqYfvOLRho7sSUsZOce+Z18S9ux08fW4t/veZv0N4UxmAfbx+mu32hw9IQ3T/7sz/DzJkzoQ5BP/axj+HOO+/Ezp07cc4550BKiY0bN6JWq2H69OmoVqua18DAgP5lcCqLlNkPhnG6cfJKKdHd2w0pa+jo6EBzc5PJtbkfWTWDm8ItJWG8jeKpFXyKHiwihTBVU4UhJ3T9lTEr1KDWY/F2fWF7tSSyCufa+LKg8koTX5oG1VHHKOVCaxaDCgabSH1M8gvd/ArKix4GSKJzDi56vTQ9gss5vReWrMBXv/gtHDNpFr7zF5/H7EMOQXtbGyoAhmo17Ni1C4888wz+9YvX45izjsEn//pjaG1vJfaEzpum9iS+rexNF9Gt/ygg6vwGXWsJei+fq9ecrYPJEuTMRUXg9VfexNf/9jsYU2vHVz/+Kcw9/HB0tLejAqAmJbp7e7H85ZfxrZtvwaP3PYFP/83lmD5zqqWTWknNx/IwheHCEsKoR/0K6OjoRHNzM/oH+tDb15NUI9ZqNaxatUr//kdnZycmTZpUqL8UHRr3mzdvxlVXXYW77roLn/vc53DhhReis7OTrftS6lO3heaUocvVtKE5zS7gqmv31X2fOqceuu6Y0MmKj64xSMXM1zQILY6sBkcCqBx/Qq+A3wrYiZzmRNMUDcTlzGiD6Ia+e4uALQCy4VOAm4/hyCosZnWy31gFO61UQWwO6VxT+3I6GSDSG2ZpxrqfYBXfc2MzxdyDEzPVzrYuByOmTU/30iK/uNqOmoaXcOcI8l4vhEOO9QOVpAqSGxmozCIHePIoqn5l2fL2Vf2VCjlGq9V0EuTnFi+KlpMY0dEJUamgt68bA4P96GwfkbP244gRj4/7MrgS4pFCtxHeMd2klBgc6MNt3/82/vOFHnz9n/8KE8aNRnNbU2GsLoZkFQsffwA/uvkHePSplbjnkQUYNaM1ylsCWLNlNZa++jQuPP0CTBw/xfgHHZv3qY2TXdhl/kUiJqNNMMmWISeoMUzoX0Y3NQD9xCmX1cET7dOKHokZbRklGwl2M4wegZkYEg4fu0K359jwJcw+WE2mxQuVz8FaJXVBTloIOYU5p7e2FRkjqa6CRi8pHPQmw8gmKVZaNhEOApgNhZIw00XYemvcJp2CyimNWPmG3CrMiAxmK+XKRm1D9TZ2MGyLa2nkJbjurL/1f2HLQLcb9maJUBD5PYoZhJ7SVcmitl5KBykl3nb0aTh47MF4ZOkdeOdJH0RH2wgPL3/8N7W0QIgKBHly6IVnHsHKDRIf+O3zsWLJE/iHq76GLWIivvrVNnzoDz6Cw6ZNjNJN4e2OodeqZkvF5z/5kz+x7k+dOhV/+qd/qseo4n/27NkYHBzE448/jtNPPx0jRozAJZdcwvLgmpRSP21VqDkhMTCYfR85+3VxoT20UAdY8V/QjrzSvC+de+TVqvOEPaLQT/xcb+zzK2mvh8Ec77OCjOwkCwhY9JVAwp0jnGuqAKFZqGUc+9pkXFvxl6pWoryK62WLtWTRr/Cvf/ddfPTC9+B33vlOtDY3m0iXEk2VCqZMmIDfv/RSnPm2t+ErN/wbvvb338FffelKtLa3GA2I6iaX2TpamAAHeQu4798rFexBsV3lKOVnhMaGtZvw5b/8Ot51/Gn46G//NkZ2dOTnNdm4CoBRXV04821vwzFHHIF//fGP8c+fvwZf/OpfYpLGCionL6PBcMciZKjaj7S2tKC9vQN7du9GT+/+JOwZGhrCggUL9N5w+vTpmDVrVlJtB2RPAixatAgf+chHcPHFF+OTn/wkTjzxRP20A9fcjfxw1bT01d0fp9aeIl+732ijn4TRPtpCRivFK0ud+sp+pQwNsJjU6xLj5tM+6XRb5QoJCHUCKTRN+hh3QU72Um2ojczWqaaroyo+LBkJYWnu0Q1GcaxF0JlPeUhmjlsm2XaUjnymMCzeK4gA57Z0bxD7SqovV6wpO9Iu20b2XHstWR3Mqjl8qK1d2oLI7fO5XFSZx5Dlx64udL0pH1mQEwCEMFChClB3jOU7lv/ytmpta0NFVDAw0I+hqvlV5d90Gw4ZytBwT6+zixqee+JefPma67FqxTP4x3/8Cl5dv8XzSRQyk9cGsWbzLpz7rkvR2mRocxhr8ZYSi1Y9gmptAKced1b+ew/kCQUdq8YzMliwN4GQGVaqcS7ecl6vfuQuc1f1KLTZ6Cjl1P9V0apxo+CHFB+kclaox6sFoQFNq6ifgQeqCzRdUZDHtpWSIzeTXQBLKiWdl8sh3ZwjoH7oUD0BYB4az2dLGrfURpSm+ymaoa+KdKFjuEhDa5XLn+GL1HLQstVIZ3DbWMW2FZVbIC9qdHXsW//iGgCUB5Xb0BBaTuMjdP2FNBL61kfzUR8ywBTlNFZs/BSoCLrRcfHetogrt16LfB2lkBg9cgxOOvoUrFr7K6zd+jIb675PrtVTMDNnzcWkzhoefeQJ7Nq1Cy+/8DT+z2f+Gs+/uQUAMGrsWPT29+EDv/f7uOjt52H8qJFBPAnxpf2x+VzNVxaX3QOEgw8+GKNHj8aiRYswbtw48ttQ8TY0NITHHnsM999/P/bs2YNbb70Vr7zySlFGtf7CV1rb8WC/53IqYPxE2PPoeOHMk8wY/aryM4MEwpmXYzOtd7j6wKZfQC/nno0nbuxyMhc/mCFjtHw+nektYn9ddxdEtu0nqc7A1s3b8b1/+RF+7/x34cOXXoqmSgVD+aFQprAA8kOnWq2GWVOn4upP/wXWLn0d99z+AKHPyczop+XmD5LoOFtjaqMiFlu87JMT/a6vtw/f/Mfrcc4Rx+OKD34QXWrzD6B/cBA7du1CNf/6TE1KjOrqwl/98R/j6HEzcN2/3IRajcOjgB9reV09VFxlPZWmJnS0t6Naq2F/7z64zcUZKSU2bdqEBx98UI857rjjMGXKlMK8GM7s2bMHP/nJT3DZZZfhS1/6EtasWVP4ClHsQ6bYnrdM8+2PU7C2WQ3wCRnbfHOPT/jGxU5zfeNS5Ig17nEKHQ/kWSNVvhissgsZ/WmW+TgBqhiifyKIfqE729Crky/DKeMh8rdKmNweVlyTIiCPHSV/Vid5HmVW9B0AU3NUv8g/9TH4JdThntZR1WKqjFL5Rj9ypTYDIj/11faWej4k3UAQEMgLZEsH9T8qo5W38pMvTVsVsaYkNKYmyUyvnzS2Vgkkl8msNElW1F6KizSCSkm55jTckznrsVqqKFWWbqpobEkrf5p1EMRYzlpp0Bd6jfSjIiA06Hy17gD0n2sT2RMAIPFjwEXJ5Pg2CNi7iUsqmhUAAjVZs3yPthR8aRSDYieoHI8YrTJ4xY0dGBjEUfNOxaSRLfizf74W7z71MEgJbHjzFazdtL0wZ+ykaZg4ZiR+69L3Yu0rSyAqEgP9fejubkJra6v+cSxXh/7+fgwNVfH0ikcwafwkzJw0W/uFcgmhsYHgEmD7jdoC5bFpPlfVo018SKDWP4i+tdvQ+8YmVPd0Q7S1oG3yOHQeNgXNo7syVkIz0XPVQYEKJbYgInFuy0jrCvdzMtMn9ffTPfRB4IJQ0rZy6LrPG2V2UjyEmadMpgjXgMHd+9Dz8gYMbNkJOTiE5tFd6Jg5CW2HTESlpUljOUlnuXzC4KqlB5HH/KSzLSPRi8qqZ2vMg/6U2vZG8+SGzOHG5CTmyQfrt3GMPTJbFZ8qoXYUei14e+v1kSj4q7YVnakgT8OhyYtwfIF+4i+ka2dlW4mTz5iHT/3NH0EIgXlvO0r/1QtqI0Xf9nbt9UQOYm8BnHDUyfjFwvux7JWnMX3skajJqn40Vcnoxj39U1hTDjsWX/zcJ/Ev11+LJU/ehh2bNqF97Ay848xj0NPTAwz2Yc/gCFx44Tk4btYESNTQ19cX3TzH8G+4PtQBirUdR79SqeCss87CnDlz0N7ejoMOOihKy51//PHH49hjj0VzczMGBwfR2cl8x58lmj3dJJw/lymggwMkALI7CgyEzqD6q4ImrwI6t5JaL+tVRQbJ75SHMPndhKOpMXTuB0yNoUSy6hAo6awxhb+covi4v9+kp+S60seIqO+SfKLjjNaToPWg0DWGJaNwbK1qpFxeKA6CKKn0yJObqFTwH7c9gKkdY/F773kPZK2G9Vu24MbbbsN7zjsP8487DlJKbN+1C9++5Racc8opOH/+fIwfMwZ/e/kV+Mx3voGzzpuPiVMnmGJWqNg2tbi2jKprC2Ngii93LYn99OoITw2j180+QBZ5Tnn26eexedUGfPe6L6KpqUmvQqVSweIXX8S3b7kF3/r7v8fBXV1QT+x1tLXhEx/8IC7/yj/g2QXP49Rz3oZataYX3Iox6rdERu1TtO6QuYZCoiIquqbp7e8xXubUXwr/du/ejW9+85tYsmQJgOzx/3POOQdtbW3svJS2YcMGXH311bjzzjvx+c9/Hu9///sxYsQIzTO0jw09GTBcNa9PDipLM0ekjDFSN+s+gKZCspt0RhHf+7RGP12ROunaG1YtNezNC5nH6JYRVsndfOIv8n5TICsqZNOoixgFVzC/BitIuaIPL/JHLvO/Q6SAyzqdVWigfpDF2qTpW7qapY+507LL+rEoBa4asNUwSb7zKMyaQeTfa8xBRQGuNq/QshrR7M09XS8KfhrsAJNg9XiNKCTpSf53meiyqyLMqvDtDZECJynVIYDxHXpwotZdr7leD5Afs7J9wHynz5bdqg/UOqgbVEcQWSVN3sTxcjn0Y29OshQ572ytszn2VwAkPbvRdrNiiNhR/8U3GD9Qc6lf0+ZiUCzOQ6egKcVo6jgfzRTMpNjHYRid29rWhp3/j70vj7OjqPb/Vt87d/ZJJvskIXsiAQIhIYksRmJQdkEU8SmgKJv+EBERfILAw+WJIgoqoBgQgkCCLGENEAiQsCWEkBBCyB6yb5NJZp+5t+v3R9epOlVdfe+dgL/n82flk7n3dledOnXq1Le+p7q6e88GrGnug6PHjUBFZRXCMIe357yC22Y8D16LSKVxwte+g/84bjwypWXIlJchCAJkSstQWVlpxrRHt9KyUmTb9mHllqWYcOgEVFbWKJyS2iWhSaTpQ37OKELIx1CMP9lSSiAbouHV99D48nuoTFWjZsAByFQNRNjcgabXtmH7rEUQQ2vR+4xPoaS20rl9Xc0THJtYXYL5Nw+aaNjpK/IKV6WlulTqCgiGd5L9NWOa+pCy8WXRqM0cJvkY52OEP4hPantHRL9j2x7sfvINhOsa0L1uEGp69UKQTqP9w33Y98bb2BHuQ/fjx6Fm/CiIErrayMa4PuLOR9qYMIuBajwL3QL1yfxVN1VazxSxscvUKVibhOodNqlZOEnCdL16nIBblZFDNZdQ6zRUGtnGPTjmSe0P+jkNDNNNHwu3R63ypJxlK2bLSAclOxA4cvI4HD15vLZNiFDbjBbQqTbeT3wKogVWe0EEGNxvGGqqqvH+prfx5c98B77E7dbSEj2ZvLKqSp2sxBfPvxxf+tZl6MzmkC4piXYqqPTu8iXoPmg4hg3ojdLycqSCwGC7U8f+8EW3bCHi7OOKxcwRdK5v375563OJOP0OggC1tbXe+t32BYFAKgiQDtJI3Ajw7/S/MAnsa2jEa8+/iWvPvTDa9h+GGNCnDzqzWfzgxhsx/Ve/wsB+/XDNLbdg3aZNuOgrX9Hjb9zo0RjdbxBeef51nHP+l5GV2f/h9uRPne2deObhOfjm6WeguqzMem4GALS2tWHrzp3IhqHBSbUo0793b5wx5Tg88sATmPKZo9EhOj5W3QIpkEqlEQTRziofX8xms1izZg1effVVTJ8+HfPmzdN9ceyxx+KUU05J5G18nAOwHgLq5vvggw/wzW9+E9OmTcOPf/xjTJ06FSUlJVYeoDD2UUrCoGIuVLkpSRZ9encA+MDWFeo7ltQwn3xfgJ9ULmkrgwvG+QytA1fBrhELLsepmy8USCIaZjVQCDAGQ4GfMNO3Jr2MwSJOrki+pQcdJupksRwiDapu3SwBHbRBxp/KygNNSE3OGLsylJe4jNbCWYm1mRs4sRVKthCsH3hTSW0tgtlOR5XOoNBEWmjbCc3iYLfbGBj6IVHUf0o2kU3qF76ooMko54YsGCcbWj4nlZ1U8MDjcdYkLYqzX2NbHWoZg1n+SYsizhjQxJWTY+o3Q8adZrCMqr/Jh4jA6rZGuokg0PqEMmQNI7OZ8SIZ0eeLPvoKBteJt8Uh+O4xXwDtYku+xcQkMOQyk77zzyT5SfhTaDHTr7fEBwvfweAxB6I8yGLd+q0YPLgfPnXaN3DUKefGbBdtN4TuF7oS4rOjNdYksK1+I+obd2LogBFIpVIIZWjysLHOdzKxjof2Y0IZE8mZ81IgbOnEtulzUNFShtGfPhllNd2se8x7jT4IuY5O7Fm7GptufQI9vnw0KkcfYAXqZiTbgaRUGEfRnWQPd5KkKwgytDOyOQFarv2EfNVm4bGBMCEbzRF8zHIw19bXwSVsXVnexsWrse/Jxeg/6jD0+MIIBGn2dgwA/Q4fh7aGBmx8+XXs+GAzep35KaQqMga33eia2kg+xrDNTCt2f5vRzOZfYSYMqRrL5wn9IThK0Xdqo9A+EZXn/cl5hUYTK+g2fWr6RfJ+pjYLdl4H1JSfYaw7jykw5D6lvxNmCz1lgp7PYOoiUWQPgVCECJ23LtCcYdqs6ubjTji60XjS+YGa6lr06dEX67Z9gDDMIRWkWD/G8eXNN9/ET3/6U1x66aWYOnUqqqurIWUIEQTIZOJvENm5vQHtzQ1Yv3oZeo2b4MW8JAKtTZGHT7qY7MpIIrmFSLKvLh+m0/eFCxdixowZ+o0H+5s2bFmDtZs+wAdvbsVrzyz5SLL+nf7JkgAa6vch1Q6MHDYMMpcDhEAqlcIPzjsPqzZswNW/+x0mH3EE5i5YgPt/8xvU9e6teFv01PnJ4yfg1rvvx3vvrvifbk3B1NbajvcXvY+fnHUhwjCMx4j0W30X9F2dP+Kgg3Hz3+7Bjy77L4ShjFfwEVIYSqxbvwZ79+7Fxrcb8Wi/ZyFlNBc0Nzdjx44d2LhxI9atW4e2tjZrXKdSKXR2duKGG24our4FCxYU0CfEvHnz8OUvfxknn3wyrrjiCowbN06fzxdH58OvYi4ocVm+mNutlyfvDgAulH/6VhBcZXznfQ3yAX++1Y3EoL5AHjsDNA+JKo7+CEUKeXFLlGAbO90rWpoUCF0FEWKLiAk75LGetu+e07KZ0voEC6jg2JIFdIKX5fIpkGUkLLaniwd/vL8o2HVsY50X3I6S2TU6b7as87IAD+I5IdQZ6Dxvm+FGrJ9cvR17OLazA3KjtxWI21GzZXNdKsF3bZd07Kf9z/Vb2w5kF3tRJD5mLNtZ/WgU0X7JlWP59NV/Oq/yBIHQikvJQcW9hYAtnMUGHFg/x1MxY9w9noQB+bDLV66Y1dWunC9Gp3z6A0CQKsXONe/jumt/gkFjj8P3zzsNqSAF35v+Ojo7kMvmsOTNuXj473/Htm1b8Ld7/4wvnnEaDjtwpHVVj9clpcSOPRsRhhL9evVXfcV3CxmHFTqwio4bXZ2xAFWOnQ87ctg+8yXUit7o/6nxOqgVDp6kMiXodeBolHbrhnWPzEfwtQzKh/aNhq7lWWx8w5koaeHPBnEdiFr+ytugy/HWqOOStVJweTCLAIQrLvayrfZS6y71eSnN+GtZuRlNTy/FsInHoqpvX2VKhmdK5/LaWgw/9jhseutN7Hr0VfQ561ggbc6bftGK6wfouYtvgh2XnvN8/PI3vBib2OYCCDm5JDUONQRzXRhBURhPUnRdrO188ZHPAxSI2zr5dOflHK/lWMjOC8enolPMAwS3H2kjjN8Kxx6Oj9ECrHTGlWkTMzbrj0ymFL179MEHq1ejtb0JVeXd8vKgzs5OvPLKK1i0aBGOPvpoXHDBBTj22GNRW1vrxcQJU07A5MWrsHzFenxywif1uST8dc/7jhXCbKo7H5b7jhfDU93zlOf999/Hn/70JzQ3N3vb0/W0BsDrH5Osf6d/pvSN009HdXm5daxPjx74zwsvxPk/+QleevNN/OyyyzBu9GibD0mJwf3rsGHVRixasPT/ud77k8aOHo1e6rV3LW1tWLF2LTo7OxEEAVasXYum5ma8u2wZNlZWQgLo0a0bRgwejJQQ6NGjFiUyhWl/uP8fquOS11d2KX8ul8Pzzz+P559//mPXpbGxETNmzMC8efNwwQUX4KKLLkK/ftEbVpIuxvCUD7cKLQwknc83H+gdAEkZ811R81Ve6HwhkC5U1reKkm/1WR+zAuPoiB3jEWWBJmqGLJpA0Lp4AFhTPsy1HZhNhDyINGdMCXNOH5O+yYzJE44Mlt+oIzXR0s840LxJwr3vUhN+IljEs/iWdF0F2VKCNVhdDZLqFUu0+8BsGdU2NZY2thfKMtKjE8AvwhmbUdVkH4tHGuub80yeNIGAFKYf+W4Qzg11+MD7BhKxISOd4/RaKa/NzFV9E5MLS5j0LhLEfdduFxnc9Tmh+1X7tdJXd69eO+AeKiBEwPzNXHWz6uAdwBdd2MKHE+/lTb4rNr48xQJrsTKKwUGuW6HV13zfk7FXYMKJX8StmVqU9x6ISRMOj3ayFChXUVmNCZNPwKRjT4KUEuWlGQASYZi8ANvQvAupVArdKnuAxqdUQYlqPXRgJtT2dp0PLNYxmOLuBGhaugYlWzow4IQJ0W6SyAgGkJ3v1XX9MWDUWGx9+i2UfvN4BOVpJg8MU1j7FV7BCrhN5kgVETtuLWjo4tEXHY/yNqvjUTZhbuOVJi8ooEtweJLBVZcdWdTPegNDxkxEFW1V1ualAWTslMpkMGD8RKx5eQ6alq5F9bjhjm2cNjJT6/5yp0qaOyB0f7JYVoew5qq1MTm3r9VWNw/ZU9ctmM0Ij0TMcFpvWnxgUx6ric3fSjphHLVHzzUG4wRbZCDZHHuN3/AKaSxZtcfWV7kRJbe7DbF6jnBve5FUPxlBwPi0CNC9qgda2pvQ0t6IqvJuiRgW6RRhQGNjI2bPno1XX30VxxxzDC688EJMmTIFNTU1Fr70HXUI/vu3v0NpaWki/kVqFcKzOIbyY76UJMvlgb6A3jd3dGWHwb/Tv1NSKs1k9K0wAPSALy8tRSAEQikxeMAANZ/YPldGZf+XpJJUCmnV1i07duCaW2/F9l3RM4gam5uxffduXHXTTUgF0dvWPjNpEn5xxRVIAdFtML6rFf/iSUqJvXv3YuXKldFzVNhxzr8KYan7PSkPl+87l4+DprkSvuCaF0oi5PlAP5+8fLLzfXdTUdsddDwnNSGhQNoEK4wnOUEaiI94xJv7Bdl91Tw/Iw6aOGqSyXgAIziQ/P5GqcsZUmJk6/5Qcm0CYrdP60yBqFVPZBjL7tooFPAZ2Sz2MzYmokz2ZQ+WiXWI+1OY8iSWFjEi4XEdII19dBkqp6/QcLJguKWmhLqvTT4t27JB3KaWrR1bCiXT9D3vJ2nKKcWFzS4BmCs/Zhwwvdhxp5WW7mwTbIzw8+dIWAYEgYnSLWDEXvJtuR6fVIpaPkldSPoVIIiRCHuLVLEY4cOlJMJYCPN8dfBPnwzf8aTvvmMku7x7D5zyxS9pG0jdJz5ZEbEfecgRGHlIXJcwgQQDEm0drQiCAGUlpephZtIZriyi0m4i6IxzHLHjueZO7HtpGUZ9cooJ/lmuSCWze4f239QOG476DWvQ8sGHqD5sOLRTe+ozzWFHpJFq5fccpzYa7BdxGbBl6N+uLkxHN69PBpVrWr4BlbIaNQcMYmMnvnuL+2K6tBT9Dx2HtXPmofrwEQBhLzxtdGxg6WzpLrz9aOvv2JU/RIvnZfObiPWBWy+Mvf1DqkAb8vWZ7Rf2EWHraenn+oVfJ14bL2f9TtCf6xTPI5w+EDFblZeWI5vrREe2zSKBRqE41lJqbGzEM888g7lz52LKlCn47ne/i8mTJ+sH3AkhEASBl1BybE46XsxCwUfleD4i7OOiSZgtpUSfPn0wceJEdHR8tHuV9+zbjd17d6Kqsgq13Wu9OjTua8LqD9Yh22nuAe9e2w3DRg1BKhCJbrZfSQAylFi9Yi32NthPS+8/sB/6H1CHZMf+d+JJCIGmxmbs2bcPbZ2dqKD7vIXA3qYm/HraNPTr1QufGj8e191yCz7xu99hQO/eEV8SEXnc2dCA8qpyHDFq7P9sYwokIYD2tg60tXSisa0N5aWlGFxXhzt/+tPodoAgwMsLFuDW6dNx289+hj7V1QCiRZASNc6aW1rQ2tmOCUeOZTzx40oSWzZvQ1NjE6ora1BVWYMgCJBOp1FSUoJUKqX/fxxp48aN+PDDDwvmKykpwdixY3HllVfilFNOQVlZWUF8c48XCvgLLWR2ZVEh7VuR4JX4lMn33ffb12D3+/7U4x7Pu/IN6NX36LsEYK6w6G2YLDAzMZEhxe5WP1ocsAItbks2e2s9dUjLt6M6pFtwEibVX6d9wsquD/CHWJmjLOiir877XQ0Bd2wteP3Q2mtHU/JMX6q+sGygrqzDBKbautZ7qalHnPbBXJ2P24B0sKiWE8gI6IchEklWnSyYXaw9ycKVxQiEYNfIBM9vbMCboS9KivieEfJJ7isSpJuxkf3UbpJnt1VfKBK2zain+QKGZM3Wekq3b6Lz9MR+AOrVLqGVx6wUwJSmhSxl6wKwsN9Y8HF99+mS9Nt3NYvnTVq53Z/6hRBoa2vDvHnzsGfPHm+ZXC6HMAyth8/wRPfwxctKvLliAfasDvHiM29iWc8PkxdR9ysJ9IHAsI40Knr2sie6QOjX5wTqCoJGUikQpFKoOmAonrr/WaRXfQKQob+Kf4GUDgIMW7cbhxx8jLd/AyGgR5xzvrJnL+zY2oyF9zyJdGXZx820/p3+iZOAwNJF67BzZRueenw2akzNnTkAACAASURBVKv6xPJItTAdCIGl7y6NvbIKANra2vDMM89gzpw5+PSnP41LLrkExx9/PMrKyiAC/5bSj4q77gKCm8dqZxF5ks4XWgwQQuDEE0/EiSeemFcuTz7cz+ayeP6NWXh87gMYP3YCTvzsyXBftB2IAEsWLcMVF12H95aY+8CDlMDZ3/oSvnLeGdEzdj6mJCAgQ4mH/jYLv/v5HdiwdpM+V1ZRhmt/eQWOOHqs1yf+newUiAAb1m7Cf37rOuyor8cQtbVbSonbHngAy9euxV2/+AUG1dXh9O98Bz+77Tbc/KMfoby0VNOixcuX4wtnn4Irr/0ucuKf1+YC0ULV5d+6Bu+vWoW+EyYgnU6jf69egIgectm7e3eUlpSgrndv1KmdQ4Dhk6vWr0f/EQPwwFN3IhtmP1Zekcvm8PdHZ2LlqpU4bcpXMXXSyRCBQDqdLogPXU0dHR345S9/ieuuuy5vvmHDhuHSSy/FN77xDWsnVRIeFcK0JI7pxrsfBZv104WSVhGKXV0tNm9So/JtaUhafe7SwoOgsF2HQuo4Bdj0k9tA6mjVXPGSVCxWJ7+/XegI0OkQrbcdUJrgyXe5iOWXLOAE5fe322z7Znnc8nTFQOsYv+JEpNx6kJ22h9LYUcPpSZPfV79WkdvFLCzoPrBN6qnLDq1NkA/Wh2aRBvrTBK+C24lJp2CW2q7rFBSwOH1OefX2YxPcCC6X16XtwnaS8OUZ7R+mjVQXtYkg2H47AatHGFmW3dzFE734EB2z3gLAdwBAxvtEskUk16ZFgHPSamhXMGZ/yq9duxbTpk3D4YcfjtNPPx2pVKpo7CmkU1f1dyfLxsZGXH/99Vi4cGFivfubpAyRC0NcN/cPDiZ9DEkInHboaPz6/AvA0ALbdu3CG0uW4rSpn0GYC/HUyy9h3MEHoX/v3pY9ctXV+ONDL2Llb+/9ePX6J0uVpRncfsYpmPip02Pn2tvbcfP0+3DBmV/S92MCBBsSIp3GB6HAlRf87OPuvX+n/wUplCFkKHHJc98vmNeHLTx1dnZizpw5mD9/PiZMmIDvfe97mDp1KjLdMl5ZXeF8hY4Vm7ervLCY8vlSIbx384ZhhKfZMGt216nyOeRw0GGfwPQnbsPvb/wL/vaXh9DR3on6XQ34ryt/jbb2dpxz4Zmeh6Y5k6yW6eEDnvxf/NqpGP/Jsbjx2lvw7KwXkc3msHblelx2/o9x4+3X45OfGh97yruW4zy409NqGM7jclM6beseu8iUj8e69o/xJb5wzLk21NuhSDTPz3/n0YHVlUMOffv3Qr/hdXhu3jxcfNZZkFLipQUL8PfnnsPVF1+MMSNHAlLid//5n7jguuvw4NNP47wzzgCkRP3evXh58Vu4+PoLkJU5hOohglZduk+VfpyzKR2tizTcBrF2wtMnrE1W+XjesopSHD11EmY89TQ+PXGi5sA+9HC0RnNrK2bNfRGf/fwUZHNZdGY7WR/KuE/o+pP0t2OYbC6HIBWgJFOC0tIMMqWZosdpMbEnPwcg7wJZjx49cP755+Pb3/42Bg0alPjGAMCPOYXwqJjjXcFYnvQCQKFV0v1R0l2p4Me6ukrrHtu/VR7azm+u/LsBj30MsLaF082e0Vke1oLc34YQwXJGgZB0cvvL21KkHjCO41qLEXwIsiCIXo1EMlz9hGo71c6wXOelQUh5OVAIllm3wMgwgWxUJmoGDxA5sFHQqXTWTWJX8gUsEKJFCwJGwASupK/dZsc+WgY1n/zcaQ/A7s2UMTAUTEFep3kWQiRbryMYLDNBsra9O9aklRds8cjagaLHmZmw3edNCDUpsphf9YvxUVO3VEtmQgfzVKfZahrltZ6ezXTX/izZd2+PmFTMQiAdLxY3ko7zY3V1dXj99dcxdOhQuCurPG+hlduuLFAmHQtlaPkoEcts9h/36qBc9h9zRSJs60BJWXnkjcou6VQKT8+bhw1bt0IIgXdWrMDEQ8foMnp1u6QECAJks7l/iG7/LCkbZCEgkCpJmzlCSuTCEG2dnVi8YgX2tbaie1VVtDAFPpaAdHk5cv/iNvp3yp8+Tmxoa2vD0qVLMWvWLIwbdzi6dYs/W8BHQLvK43jZpLxdkZePc+Yrv7/1FSlAz8M0tnv27oGrf/F9DBo6ALf+4s/YU78Xexv24dfX/wHDhg/GUVMmqNu2lAz9BotIgGBk1b5l0szBnF9KKTF42ED84tZr0K9/X9x7x4Po7Mxi7eoN+NW1t+CWu/4bAwbXWQv/8XjS3lHIOQQ9RwiWzqbt0UUKxhktvgddgMeAvH4rryUThoMSFbT4BhlG8S8YzmlxYp4RjP8yHiglkC5J4wtfPRl333gvph51FEYMHIhxo0fj8dtuQ5/aWkgVKB4yahQe/+MfkU6l9LF7H5uFvqP647BxhyAnQ9tXmb1NzGtuV6Ydp1xLe1GEynOCSbef2na2ubNzXPNJAREIfPaUY/H9mc/h5YULMfmII6Jdvco43WtqMGbUKGRSKWvOghB4/rXXsGHfDlx62vfQmevUfmpcSfFncglmbMufYeY5s8Ma3lTsmOxK8J9PZlVVFT73uc/hBz/4AY444ghkMvFF0mJkF7sQmi9xX6LfxZRPuwe6Sqp95Yq5J8FXvph6PlqS1kBnGpp4VuWjH4IPTQYGqpT6bi8F8N86Hw0swfNx1YRdBUsi9i2pfnPeuhoNNYgs25pAzDqsnZK1gYvyjEARO8ZlqN9ShZKCNGeLBiyIjbWWAJ1aocBM30RB4CbcZzBHK79aN2d10b5NgtDTe7cvS87igDBX3PlTCnnwbCY9195GlraEOm76ztWF7Y4wKuj2CctWYLVTwM99wcjkOU07BXg/Rdv+lVS2JdTyZ6U31988v4HX4bYtfyo2oO8qaPrS7t27cdhhh30kOcXsFCikayqw713LZDIYP348KisrEycMKWXe99UCflvu2LMJ67avwoFDRqO8rCJRp/1KAhjeoyeyHR2Rf4jIo3rX1uLqiy7EV674IYQQmH7jL9G3Z8+YnukwxIH9e6PH0F5J8/6/RCpNp1BWXoowl9N935HN4rf33IvVGzdi8fsrcP2tv8egujr8+ILzUVFWZoBIStQGASZNPBiZmoquDq9/ibS3oRHLl6xCNptDaVkGRxx5qHpzyb9+2rpzC3bW78CYYRNQWlIeO8/HVH19PRYvXpxXXm1tLaZMmYLzzz8fkydPRrokrcv70seBu/lk5pO9v3y12Lrz1VFcu1XYqfgBnwNLMiX4+sVfQTqdxs0/vR17djdgz+4G/Pyam3H7fTdh0LAB7EIOtYs3kj6I37g81lIWEED3Ht1w+U++jVw2h+l3zkQum8PiBe/id//9J/zi1qtRkimBCSUJSBiPdDgEXQDQ3Iu/UUrrLJgOjHtznkNXVzhP0t+knZe0ES7T5nzLPm4/sJlxE3tbq5Fj8WfidVGfjz9yLN6avAQ/ve02/OqHP0Sf2lrUVFfrVQMpJQIAfXv0AIRALgwxe958/H3+HNz4p+tRVlGK6BZKsilpY3Nk7i9CXbikhsWeFMHbK2yd2ZUjJj+e3EUQSKBvXW+c/4Nz8LNf3YFfVf4AYw88EALRFfHxBx2Ewz7xCWRKSkxfCYFXFy/Gn2f9Hef+4Guo7dUtunruu5Jv9RH/xnVl3z8GBlDsLUd0zrdbirjYJZdcgpNPPhnd2K48Xz1d2a2ebyE1qQ355BbCqNgCQFeBzr1KlaT8O++8g+7du2PIkCEfG2B3bdsDH8xAPPhzy3IAJKQDrEc+Cy7HyIpiSQearCU46UAL/ZDsYFxXfh+6PZ5cfXhdgH6NVcwsPllcKVa/+m0w1CfQE7RKYzK7mLG/WT0kPbhsEsD7hwfA/j51t/8bFfn2M7aqYdBT57EBiAOT0luyKpRv0BV/mhjJ/lTa7B5wJkvY/Wv3uW1bSTLz+oBrR5VRV8nrhy6r9WZJAMhls1qHVBBYgabBAKnzuxO2vY0wOe3vNq6oyq6BH88jpcSGDRtQVVWF9vZ2zJw5E2edddZ+4dJHxTKf3jXdavCbm29OnAKzuSxy2RxKS0u958Mw9C4OSEjMeu0vuHHGD/HbH16FIQNHQeLj3Akg0LpyI5qeXG7p3p7N4sU33kTfnj0RBCm88NrrGPyF05FOp60hW9rahh997STUnXciJP6Fr3BnQ2yb9gzaG/aiondvANETmM84birq9+3Dpu3b8dVTT8Xgvn1QmrGf8xCGIcaUpjD9/l+ibGAvFBpj/2pJQGDhq0vwzTOvREP9PvTu1wPTH7sZJaXpf3lLCAjc//RdeGLuo7j3R39B/57DYnkkAChMeeGFF/D5z38euVx8LFVVVeG4447DRRddhMmTJ6O8vBxCCLR3tOfXQeS/wLM/CwT5sNCXz5e4Tl3Z9uvL1xUSH5NHfySbz1XZVCqFr37ri9hT34Df//Iv6OzoxLLFK/DHm6bhv276ETJlJRQLOr7MdvuxYzbHNfO5VKeFkKiqrsQP/+v/YPXKdZj/4hvIZnN46uHncOTkCTjz7FORzeUMf/UFbtYFj+i3zeukpY3+xjmWpaPQVRBn4le8pdI7oj3C5qjEhThfZJa3dmN6ObDuIYuXe+tQ+UpK0vjGd76CP9w4DRf85Cf4+fe+hwOHDYuelg/bL/bsa8SDTz+FB16cjat++X0MGzVEbyc3MYJwbBjXy98+sPMqv87r8j3VBotLc3m8Yru/P3PCp7Bzez2u+O1N+PaXzsJJkyejorTUesielBKtbW34+7PP4u6nZ+Frl5yFTx93VPy2Eqv/BLO523jb36Im+m4d6VoqtqwPz4QQGDBgAL773e/inHPOQb9+/YqStz9X8gvpVeyu2ELyYgsA+ZTKB4IuULp5X3/9dbS0tOCyyy6LSJ7TAB8BzgfaSecKGtt+x471W+ggSlCU5YAW9CCKxpMkI1jgoYNLZ2Aa5zUPvtPidcdymzAwEtFkH20XMiu9BrAIalkQ6c4Hqm06D60aa7tINkkxUGIAbnRiNmBRsL6dgBpGQB4LAFnrdV4fANBEY/rWsxnK6WQGfmCDhfWVHb1Lrb9lNo0/1H57UhQ8gCe7aZdw2gazCGAsTH7G7cT8T7BnVWjAJim0vYsBqvWb+RctTGjQjfeDsTafOGgiAbKdOW3HIGUvAMR8UdtMG92edDyvCqN+KjZgL4QDkV5dey3VkiVL0NnZiZdffhnHH398IvErNuWrM5/+XlkQKClJx3YG0C0gQTZAmAq9CwB0+wB/mreeSCCjLeUBkCpJIV2aQihV3+rFLPJ9cjXugXRE1aV8mPtE+cA+2JtdgI7mJpSURzsM1m3ahPmLF+MvN9yAMMzhmt//AceMOxwHDx8OqRfgBPZsXI+qwwchlQngDg++yGSQgJEG9ltq7Vj7CVNVBn1VC0D0CkCDyYTZlhRaNGNoZDCWRhXMN2UXm6IqS2ZSqDx0CHa+uwKDevfW88ioIUPQ0taGnt264ZARwzFQLQ5wv+lobES7bEGfwX0gUgan7Eer0lgQul+h+paIoJNb249Ls29jM4uddpBgTzzMOqaMQRpPDcZ3DBY57XDmw1SajwuBdEkKqdLo1ZFSGNvz2kwddpu1xnpR1N61Ra/kM/5hsF5Axm2q5nRtYcd3iftK0sGaQyQbf8x56CG0UiCVEhBBtD25tLQ0hilhGN1ORE/JdlNpaSmmTp2KK664AscccwxKSkq8uNeVq1qFtqL6zhcK0vNxRl8ZH/4XO3+4+fb3ipyZa/l56tfoVzqdxnnf+SpWvrcGTz78HKSUmD3rRZx8xufw6c8eFQWMwjc3s0o454Q5b64qGx4BSFR3q8a1v7oCF3/lB1i7agOam1ow7ffTcfLpx6G0otTI0mAL2wfVWNKY57ZZ6wvmsw5nVBpqHiV4WWYt1TbaRaE5KKERcTiuG8nh+lv6kW4cr5TOblcK/UeXr6quxA+u+w6e+PuzOO+GazBm0Ah87qijMGLIEJRlSrFrTz1effttPP/G66g7cAB+fdcNGDJ8UPQwXlsw9FwluP6sH4mzW/3O+kfHHwrXDeiA/My6+Zi/glZzQmtiBRMEQOCsr5+O4aOG4PZf3407H5qJzx55FI44+GBUVVWhYe9eLHrvPTz36quoGtgd195yJQ467ED94GHdDobzeoxx81qckfSL9KI8Qkp7AvWkQnEjyNZFngeAiooKfP3rX8fVV1+N4cOHF4xVi72I5ctbCJPypWIWYHm9aX6gGAH5ADWf4gDQvXv3GCgnrbQUSvkM5CfR5Ii2gzMsg2KBLDufjNVBz1YuQiRDSLgMNQgJ32KBnDMZsoFtBqkBTK0GyWEAJ4W5ymx0Vs3VPIrrZ79ZQCrSy/W0FjM0WBNNEjEZhigJ1lZjV9612nd4KMHtR+AVA4QYzlNPOLYnQslz8hV4yS6EmwmSgFgTeE7WNGljbQK0TxgQZgBMtmIdKFjbrFs5eN/yetgkpN9AIOx7/HmbTW44c6ttP+3PBmFNm7XzB8hms/pnEAQIUnz8UTv0EWcSNf4Y5XUJkZ0KXXVxyaNL+lw5Sb95ymazWLx4MWpqanDRRRehZ8+eibr59PDhYjH6+vTykdNonMR1p/PpVBpIxeul8+7V/2ScBIg8WP2p+ZXxJD0qJONRoEWeCI8AiVS3clQeORKb3nwDQ4/9DABg1ODB+NN11+r3BN/+k2sQKIJIdTdu3YrG9t3oN3Yi7F1MgukkFPlRxwSNONJcQgdgkgWZCrd0MCmEGmpmrFNgK0D3KhJGqBwMFnQwaOGbyiS4nTmW0L2sUa01Ez6BzXMfRe/du1HRs6fWqSyTwc1X/hA9u3e3bCAlIMMcti55GzWTD4ZIBertNjR2CfiF0Vf3l9nhJjnIskAZUlo7mqL2qTLaG6l9DBd1txD+WROQka0yautoDuqCvtHNDtFdnHGSNPryudjYg/uRdnCYBRSAFoKIqvIpV+r2QMuJXvdlUNnMbrYdzYDiwZnyHz3l0jk22+nKzTzgpnwBMk9VVVU46aST8O1vfxtHHXUUSkpKvLiQTsVvASgWh5O4ZSE+6eYvJvhPSr75JF8gUIjHJrXFm/RYVR7EfM6Uk+jWvQaXX/sdLFn0Hjau34w9uxsw/c6ZmHDk4SgtjwLySBRNtJJXQGLYIePDxkXNWJChxIEHj8S3vns2brjyJrS3tWPFslV4bOYz+Mo3vsCeP+CMMdd/NbeN94t9zz2NWzOWIQwRobwm0NXIYRoleJ8ZvmQmn0gm55D8vnHBROmK+S4Gy2IOZnNMUlhWUpLGGV89GcedNBmvvbQAL8x9E/fNfxatrW3o0bM7Dh57IG6482qMOHAYgiDQCznabpLsw/pH82net5RPcqvabdWxAzRm2/O4nqhY77G5gnNca74yeh1x5Fjc8eBNWPHeKsx9dj5um/MI2lraUFFVgVGjh+Pq26/CJw4ZiZR6o0+cF0VtMBe6jH15O0ydxM95nGYvbLvJt0iZFGfq2hPGL5UvKSnBd77zHWQyGes+f99iYxJ++Or0LSJwfZIWIfNhYTGLGVSXlBJpX4Gk5APRQhXT98rKSowcOVIT0eeeew51dXUYM2ZMrLxbX2trK2bPno2dO3fiG9/4RuI2V8uIQQB7EJOzG0ePtqYzMqKNZQigNb9ToKRIgj5v2QAaaPUgUwCp7euQKT7WzVhkOvITgkgD1PhmOw8IxDSBiCrTY8+obga5hAYc4VSj28wA1uZmUc1C1UP8ifRSbmtAXbWTr/zxRQA+QVFDhH7wjbRwiUCECKMgoJO2DQyws/pVPq2DgAZPdwIxRJXhIuXhZFEykqfr5/3LlJeS9SuMLymldVH+AEHqb5g2A6YvrB15gvkz82ULd/V3ajf3X+ihQjLb29r1w2zoPask2J6/yHHg9AONNyPfTT4SmQTo+ZJvUbJQ0N3S0oLFixfj/PPPR48ePbBt2zZri5eLaT7Q5sd9bSsmFQPk+bAyiUh3aRWZEyCpsMtwEVDwrHFJYYB+rSRhiMZZgZojD8KWJU9h1wcr0PMTB0KI6EGA5AspNS8QvWnftw8fLnoN3U4di1RVmdZNowobA4C5iiTZYOVjR/siI6qGm6r26fEnzIMyiUQpf6YyhBEkl0iZ0GObcIicXaoFEUBQfRQIRCogVVGG7iePx4bn52P45M8gU1Wt7BigLy1ISWMjKUPsWPYumtJN6HfU0QBCmLCeWUswFNT9Z+YHIomS8A8cZ5QURtxoYcfqbMltw+yrdTazAfWCniUlJ7R8rBD2Q5ch/ay5iE/zPOk50vyQSik9Z5keN34Fg8N8nrQVl5b86JDxH5o3JNueLFl5ujKr+0EYPbVWZDwyqibzQu9qSEpJXE5Kierqahx//PG48MILMXHiRJSVl1m7gyI7mHHi7hwqtNhaaMHTzeOWd/O5JJ7KFYvthYJ/37zS1UXbpERzLHWh5m68bkSeMHT4IJz1jdNx0/V/BAAsmLcI8+e+geNP/QxyuayeowHm93zyRZwH6AxePgl87tQpePyh2Xhz3iJkszk8cNfDOP7zU9C9Rzedh3MGhj6wBh7jOsQjyOs1TVIZvNxE5TU4wLBLjTfD1c33iKdIM86ddtqbNpXRNDehOUMyTIi+6DHJ82t+Spw2ylTTrRonnDYVnzt1CnZs2Ylpt92PS390IaqqKywsM/UbTmlzROUfZFnGeU0bWaDP7UDzjjDzt+k3jZjm+ie1SeOYw5s1prF+lEBJpgRjDj8IYw4/CFs2bcOm9Vsw/pOHIUgFVlu1i7n6Md/jHJEhPqxFTd0PrO+RP+XjQXTM/e1yJZ6EEKisrEyso1DdSdiXr+5CgTzHpHyLB0n6UZnAB/puSlogSCrrrloIITB8+HAMHDgQUkqsXLkS119/PWbPno233nrL3iriUXjmzJmYPXs2FixY4H0dQ6FGq1zmQwEwvyor9AQs3RL6pNCFzWHujbpqARPssEyRLez69QqgBjlWOdWplVOgy/PwKiTXmbfJsYJRws6jvwv9Q99zpY7HzSu1rqAWkQxlTy4SsNtkFlzod8z4CvQ0utn9AmeA8QFnmmEmClDVXB7PyCdo4arCbC7sPFSv2wYb3YyOuk7TRp1B6Ue+obtASCu/sHS0O5y+0jQttAzjy9wXYT6Mr+mJQGL3ngb9aqLant3NVlLe96wNenGNKaOtmYc4+QLbpHNAYaB083BZFLADwN69e7Fu3TqMHz8eQggsXrw4L6ZxuTzwd3EvX5t8C6VJ7faBP8nIN0G48orBSn6V17AoqbvaBDvkhzDjQuGBoTUCEBJBRSn6nj0Vmze8i62LFyHb1gadhadQonHrVqx66VmUHzsKlWOGQKp/5EPa49kYiWpmACgFJMxVXDdI1GVBGED2ZGVUqzUvZPmiINr4vKlWgAe8pgsYrRHmSDQeDUZWjxuB9Pj+WDPvBTRt26rJKVhZAYHOtlZsXvgmdu7bgF5nTkZQVgII2lFAxJ91DLSZtE4c+7WexPr0/OBgvtDW179Jru51jl+wcZc13uCghaumKknzE4XkQmj1zGKFsO3jJFOn2kqvJEsI9VvYein5tl8ZnaUisgZDjT3c9tFvDasAW0+w7et0sRpnvP+EJsC6dwrgqO/8iBEjMGPGDEybNg1TpkxBZWWVt6yb8l1Bc4/78KqQfm5wnYRp+fT0EW4fBvM8Lhl3A/9i6ublfO1052RVCsQ1aDEwSAX40tmnYuDg/gCAvQ378NQjz7Mrx1wvchrDGYzLUkXkk5LAy8IgKSX69OuFM8/5PEpLoyubHyxfjbffWIpABPaYJN8Wxp81LhpwtPxeY4g1xqXGBy2P2qT15pyS2006vAJaPj+msYcFmtoOrE5qoM0vGYYxWwlhKWL1K08vPjsf9/15Jp6d9WJkw0hrloO12QjW8ynsD/u3rk8wO0srj26wbh3DcnNQ6cA6l+M8M6/QhnB5NvDQ9Mdx889ux+4d9XoeZCRXzZGufky+EE5f8jzcf7nOXFA8FcvBgPjY5zLcMm6gTWXccvkww83POVwxdbuyuD7FYK5v4SHwnUgyDBfsHk8CQTrWq1cvLF++HMuWLUNjYyNaWlowZswY1NTUQEqJlpYWNDc3W/87O6N3R375y1/GiSee6L1/zZf8k5RxTq6mff2cDUTwq0L2IJbCzufWogebfZBV7A4WaIcn4kqn6MoyrNxESqgMgTG1gzILRWhZmxxbaHlOexhvVWpHOpvvvO306bYPznklWxtH0Rmelck3/kS0h2vPfZQVpx+SHSeZMdkkj2dkhE+rH4G1RcikhA3scf2Z8UAIyHvSgml3PJnQ3fovHVtx+1nX/ZUeBP2m3xw/ko5dtGxTnwwldm3frRff+vTtye65TfJ/Adc8fKW/2JRErOhcIaB75513MH/+fHR0dCQCthACK1euRHV1NXqre6zXrFmTVwc+IRQzOfjwMR+Bd+vNSzATyhR1zoUCLhvQ/sFHOMGii6NEQPQ6FRMuhESmbzf0veB47EnXY+Wcp7B1ydto2r4NTXvq0bp7N+rXrMLauc9jzZJ5qP7SBNQcfVB0TzvAR56lrx0fC62bENEVGvoOYfSxcIWTfiLlkKAt/Tr4lIiNV20Ta9+/qjsKX9lMQIDk+w99TqQFao87HOUnHIw1S+Zh7UtzsGfdWjTt3o3Whj1o3LoVW995GyueewKNte3oc+5UZPrWWH2mOZXuYrZbQ0qtn0EYai+di+OrhRzW5MDqhZ2kdY6117E33HN03vJLNosRIQXr1oQk9WQooPuW5AlTL58PLKGS+ZEyKtXrYrEuyuc0KdG4txlbPtyOLR9ux949+3TbpdNuyfyD+oVkRe2moMHfYCmj10aGzn/qSyklhg4diuOOOw7l5eXK90NVvYyXY9jmLpjmw6akc8XmA2yemU8eJ8JuUF5sPYWIs68cP5602KJysL98JNj8jdKAA/rjhNM+o7aMSyxe8tg+ZQAAIABJREFUsBRbPtzG8MfSHja34vyEfdBiJpvn9XOshMDRUyZh+IFDAQAtza145YXXkO3M6jpt7iDj9E7bQtUlGY8A50l8/4+xn5UvWtkzeKV01QvOVuUCNgcjHuvYSHDuRuPLjHfbP1QZaju3ZSyf0VwIgQ1rN2L6n2eipbkVd956L7Zv3ak0cLmgKkXjXYJxYmF95OfY9OlyQ1oYpbbDysttxO1gxLPFc5CKTIoA1q36EA/c9TAWvbEEDz/wpBqDvIl0tZ5safNYu0LVz3mHkO1HsSweXPL9jvSPj9ck7EhKHBcLlSsUpCfxtHx68LLFYF0STqVdBZIIdVdWRH3H16xZgxUrVmDSpElYsmQJDjzwQEydOhWZTAabN2/GT3/6U9TX11vlzjvvPJxwwgmoqKjwXvnnuiVNBHZmEB7oA5yg0b3gWgbxBqhBrJiQ4h+wkFCVdcFJAOZePc8qWVRWTepKhjVkiWmz+/042VaZ2GtCYEiCtx1ash6g2nbWNGXay9tnXu1H4AxYW81IimTOye9JgmqfbisdV06v28L7kGyiWq2ZpZInmGzLR3kfma1VRKZMe9mkKYwfgPRQn4LbQ1A5soNUYOtsYaI+5zKU7rwPBVfOHNU9BZAI1iFkPwHT19QmR2DkBtLS2dpCpo7z2xrIQrnOHLZt2a6b1LtfL6TT5umvxhaUTP9yXy8U8PJUmFjFQdsFVCklli5dissvvxxnn302LrvsMgwZMsQrq62tDV/84hf1a/YmTZoUk+vTz9XHp3cxMnz5i8Vb33cfIU6caGKKQfdd5F/Rd1psoi3gBC3kY9G4N1ii3BLkaxASJT2q0PfsqejYshuNS1Zj9dsv4vE5C/DVE49Gpq47KqcOw4CDBiMoTRtlhPFYqo482fi18UG3PUQ5DC5Bt4WpT9yHD0MrgBQwt+pYMpy5QDKs5LoIwVHI5oPWuE4LVB8+HJWjB6F5+QZsWbYKT/ztFQyv64MDRw9FZkgf9Drps8j06WZ0J2wi6LRuDTNti/KKGGa4ehGmSqabZCc1dprJMJIhzS424240LoweBtFtXKa+pc7SPqQxnvdZbFKLJ923tt66CkS6xB7Ky3XW1Trjxahp7Mh8ilR+8O7Hcesv/oogEPjS2Sfh2l99DyHYnMvmfcclI+2EtHzF2NuZayIxCGLjXAABL+mYSD1Y1D3n459JV6Lou5snCY98+ZJwr9jFT15PMbKT5BXC4iTc9iXyGFbaucddWPkA4LhTjsWDdz+KpsZmbNuyA0vfWY4BQ+qQC3PQSKi5HQ1W23PoPnDbj2zuAAmECNG3X28cOXkCli/5AADw7jsrsLehEbW9uhmRhiKAFgGIOxKXMbgv7HoZn7MRmnRiswjnUDSAYlyN2s0xX1p1SoZtDPhAA5qbTrDzFMhSXRK0dZ1hPgzuUUty2Rxm3jML77+7EgCwcvkaPHD3w7j0qgv12CO+ZnyKGdUytLKz4KZ3kcFGK8PV+YxsMIzbhBBf5+MPZdbzPrOrgEXxOzuzuPOWe7F1U8QJZ/z1MXz25GMxcvSwaEGR9ZSeQ5gD6dnUijs4N2X80eUiponelA+LiimTFNQXc7EmKf4slie6+ZPakk/fQnG4q4P1EMCk1Qy3wnxk0leZlBInnXQSTjrpJADAokWLMGbMGJSURK8zqqurw8033xwL8vkDFwqlwh1N6EWkxqJ5xql424h9EJBo1OAkSStgbKCLswlel3cDLyhBapR5Z131R/cTb4+TkddF8nh+GOjg6purYEJVZS8K6PvkIVhez+Rj+ZLbTk/lnDGBAY3kiwaWoqw9sG3AFlHMHGEAB6oNNkmzB5luEgcs0ofNGmoTKWuPmlj8zgHyPfCJzZqYYNtSwnzXkyf3JS4baputtIDazHd0BUswNybZTFfdHIP4QgB7Gvbi/XdXAYheWzR42AHRszy0H+jOsdeCeNuV3QXc8/7EiV8hXErKT+DY1NSEW2+9FY888gguueQSnHfeeejTp4+Vn+OTlBITJkyw5Lq4V8ziA9eBJxe4813FKnpxM49t8q6KC8dV1UETxFIZMIKnvR9m/KlARRcQemsrzeMMGFE6oCcy/Xri4RXr8Lf33sNpN1+CIYeNRIicHh9Sv3I1wmuzZCbtYS+MLnzniTkO3R4TGAvrhTCxl2mowaMhSxoKIhU7I0Kod9gIbne25VyYCgzsxXHAkiskgvISVI8bgbb+PTH9xjsxqUc5plxwKkQJlWO+x8iuXrTgvii4XVQ+PWbId1Ub2TSi9WeDVjD9rUUQB/ck+8P7wpq2RNyudNwOiQHEFi6ijNFtatE9qCJQ40oEgAzAd3LofjcoFyGTpApNXZLZUvNQmg90fmYQLgdmroSUaGttx+6dewABNDe16kJmHnLmCqnq1/5nVWDGgnO1Uwhhth0XgQUas+h4DOMs8Yk4xs/7sCYJ02J65ME+V/d8OrhtLYS1rk5J3LYQMfclwf7afM8EPIbPRW9sGH3wSAweNhDvLfkAHe2dWPjaYnz+jOP1qxulLgPdZ1Z9NNcznNSjTzLcVi6cKknhk58aj2m/vw8AsG7VemzZtBU9+3RHGJpdFprfaJ5l6x59E0472WmLHzO0ZbTNUEpnjrI4FB+PgDmgR7Tf54XJJzW/ZPoJ3h9gfWT0EfYfCEiIIMCb8xfhoemzdF1hGOL+ux7GsZ87GodPOBShpLcoOWOd6pV0xRx6ntI4wGxpzTe8nQy+oibaY1j7DM1TVj9RKfap5z9dIDoWCLwxbxEee/Bp3YoNazfi9t/cjZv/fEOknTAyjC7SiNX6cHRzxp8greNTi2Q4rS2ZZ0zm44x0Ph9GuOXz8cEkXshTMTsFCqV8mJV0zKezfjS0b4XAt7rgM0qhFVEuS0qJffv2YcuWLbjrrruwceNGBEGAiooKVFVV6f+VlZXIZDKQUmLTpk1Yvnw5PvzwQ6xYsQIdHR2WbLeuBJOpgUVt4uAh9Dk+65lVSE5YorImOBbGhbkTGfak8tJVMJi6Baz6AK4HmJyE/D69rTxC68tOWhBEIBKJEHZWlVsItaaryRmRLJpMhAUfnJxpmwnalgRdxj6nAIKRU6O7MHXE+pe3X1htJx05Kafjuk0wg4XsoOsUZAGY/iY/J52s7hPWbSMa9HQ7TbM16dXIZvdRJMu1jdAPlXIhRPcsk6VdwvI5sgH1E2uAZavoM0CAlcvXYOP6zQCA3n17YvSYUaoadyzZ/WBPKaY/rDpZcoHRFzzTcV9Kyk9p06ZNuPbaa3HKKafggQceQEtLS6xsEu7RZ1d0TAL/fPoX+kwiwXwSS8JyX1v9enAIskkC+RKdE9qXWDaw8hyW2DkA2LF1F6bf+Xfs3rkH9/3lYXS0d4A99Ujlk5ZsS4Z+KKtUtx3Q4ir3SKnz0xgxutvnKD9HHUPK1DlrTNnBkhuwah1ZnZaNwc8R1jIWh2j8PTT9SaxfvQlznp6PJW8ts2CRYxuVd6DG2E4Y/c0x+q+pVnScFg0NRMbab/c1XV1ibZR2X2jZHLJ1U7j+ZkmArKP9TAJhSwfaNuzE3gUrsPuJ17H13udQNe89XDf5KNx08udw5fjx2Pbnp7B12jPYMeNl1L+4GE3LNyC7qxEyG0IgiPU332FHulj+xYIVTlwFpOLqfB41tkxO0kCl7iuaaww5tm1mBhXvC19yOZd73NKkAH/LVweVd4+5v33y8wX2Sfl98pMwNT/GJefPh/E+WyYRepWLC2IDSrDzti7V3aowavRwAFEgueK9VegMs2b+VD4guQRn0GtepjGCORvprvIIAEOGD0LP3j0AAK0tbVi/ZiMEApvPcVDX87uzSMd4dswG7nFpZJnBwAJOX36lAw8qSbSpylxVJvnaBqz90lWF2Y0bU/I2CbZwp/K2NLdi2h//hl076vkJbN+yE3ff9gBaWlojO2vdEUv2+IbObzgpX/SQJj/3Au8YtpDF9g8bnGHQUMmS3JZR/j27GvCXW6ajuclwpzAM8cIzr+CVF95QbwBQdWi7G3+3fZjpaAXhcTzhPNONYGw7Fh7DwP5jFv0udDHGV47q7SpnTMKfpDqScNLVA/DcAuBLhVY6ujJ5BEGAc889F8888wzGjBmDfv36efNxWVu2bMGQIUMwYMAAbN68GSNGjNC7A4rpCCUxyg/E3IfvgLEultBiR0J5A6FmZY7y0FHtrALWd/rCqYKtg4VoznehsdDViS3LWPrw84amsStcsRwibitHffc8lx1rk5XX119Ct9vXR7G83jab+cM+T7ZgAKAlsat3AMw7nC3YcmzEZZhJQjg5+AQt1QHh2NCV59rLrZeHCz6bGv+VVl5Th55CLN2477F5AvsaGvHQ9FloamwGAIwcPRx1A/oiH+chea7+Pr/gaX/IZ1dTR0cHFi5ciAsvvBCzZs3CpZdeinHjxqGsrGy/Qb0r6R9V/qPKzVOj+usb6XwilDaQ6tI+HAPCnMQTf5+DtSs3AhKYPetlfOXrp+LQCaNhFkrzY4Z5QKlnpAjBxkDyyLJbxI7RnMYOSbgI4LeJycvl0R+X/MdapaqPQKx+VwPunzYL2c4sdm7bjfvuegxjJx6sZm6PLpZNoGXZvu2fU3QLpV3eYdexOdC+8M/B087vJ252/T6sEhDINbWhdd02tCzbgNzWfSjJpVBWXoPKmm7IVPfDoMMOxvgJnwVE9PafXGcWuY4OdLa2oH3tPrQuWYWmjhagWwalI+tQMfoAZPrUQqQFm5tt5DILSq4t2NVDZ2dH3L75U2RvCe7D9piTsfzFcx5S2Zm38lw1z5eSFgr2B3u6uuBQzMJpMeWTCHOx8oopb9ULP0pE3+OIIhG9Xu6AoQO03ls2bkVHewfSJep1jHAuAAgBd55lJ61jApxjGYTq0as7+vTrid0769HR0YlN67d4+YztpR5+4RkPSdyWXlsN67y5CBPnn/aiB8+jLSlpZ1ccq5yNUJYdOZ5F5Wz+ZLWdcVQRCDz/5EuY98Lr3t0vc5+dj7mz5+GUL34OuTD08khw/SFifsG5mp3XMycJHzdODpmNbFWO8WdfP85+/EW8/srCmJyG+r24/ea7MOmY8ciUlZABlD62/lZ9iPuCQVc3KuFtyp94wNzVMeumYrb158ubVK6rOM7LJy2kFstf6VPfAuCShHzHiklJtwkIEb0R4JJLLtHHCtU3ceJETJw4saj6NdCzBlvG8hmFfRL4RB80GFneBC+0g7R83/LRr2j4R1zAGTSO4sIqgxiQcSCxg+I4BCWSF5vZ0UEv6dE6CLtNUQm+GOGb9OiKi2NWTr4dVeyJyFYkntf1Q+e8/i4TfSWf3/jqcI+RP8XyFKivkN/E5SXrk0+uWZyKeqCjoxPbNm3HnbdOxzOPzoGUEqlUCp8/83hU11TpAEXGBwL0Czhlcpuscan7WMYmUV9Keh6ILyXJa2pqwowZMzBv3jyce+65OP/88zFkyBDzesOPKSVt1Sq03auY7f7FrkTzMlRn3nJS/4EOTPh+ea/P8hGpK3R8XmqQ2LZpOx685wmt07bNO/HgX5/AIWM/AVEidPaIsUnzSTpZVRHAubrlGUWc7bBQ02x3pawGxeh1qIRVzr5EGIcX+r5XNt0jhlY++/ASocSjM57FulUbAQBhKPH8k/Ow7J2VOGT8KFWf0B9mVc6xmRA+6PHU69iQy3Ow1/gIky25LNMW+ypQfKaydLDqB3LN7WhesgZNC1ajPFeGPoOGoWr8eGSqKiHU++nzrkaytmTb29FaX4+9azagYeE8YGANuk85DJl+tephk46fuGOE79bivpd0BUHw9rpqOf6sbeLpQ6f+rlywcY8lbW/1YUI+jPi4uGA+zukuOOwPYfZt7+Xy3O/0uxj9fXk9GiBptvZzhuhv3YB+yJSWoKO9E82NLdjX0IgevWvNSOWczsON9HeVz3VPy+MkUF5Rjm7do4eJ5rI57NpVH9tqna+lPl7n1cfKEreNDtAloG9VYnLIPhaasnFi39pL33zH4lCXxBl5SO3OKA31e3Hn7+5Fc6O5Is5TQ/1e/PWOB3HUpyeiW4+aZBsyFd2FCeFkyd8P8fz8nCuTw5gQBspsJIww/sO1m3DfnQ+hrbU9Xq+UWDD/bTz9yHM4/asnq4IeDE1ohz2FeMY57+OktidgWRJXKmYMf5w459Ntf2R+lHOuLRIfq++CYiGBvvJuviSCzxcB+GfSsXyJ8rU0tqKlqR176/di+9ad5um2uRAylPp7dDz6LXNhtEpH50OJnMwhl80hl8tFT9jNGTnR71xUXn3mwpyVR+cL3XK8fiU7GyKUvJwEEAVeJSUlSGfSyJSkUdO9Br379UKvXj3QvUc3DBxch0xphtkACvRp2zyzj541VD/p46zv6LceQFyGiI1ATltcmsdrUUPAkWf0jECBgT7XUfhlx6aQuHp2QEP5pdHH1TNG2nRejy9K+qBzdJyVsL6bvEywyuLIgCzqOxPD5EXBSGdHFm2tbZDqXj4ZSoTSPPGZfD3XmUNHRwf27NmLdas34I15i7DkrWXYsW2Xbu+QEYMwcEAdlix8D1KqcSND5MIccjk+vsyYCiUdV2OMPWG6ubkFyxetQUXpdtzf8QDKM5X6HLczfYZhiMbGRuRyOeucixf899KlS/W9k760ZcsW3HjjjXjsscdw2WWX4eyzz0ZFRUVeoO7SQmSCnGInhaQF2CRi3FU5iYlPlESHJPRKvYmFWD7hLja6VyNUsBgCTz86FyveXW3pN/vxl3H2t07H6HEj9cC25JD+MDhgEcIEouElRSzI1FcfJDvOGFLUVnVlSTIdhNM+V46Dm1ZsqHSwdRTQ8aQE6nc24J47Hrb8edfOPbj7jpm45c7rkIXj1yRPMpuwT8smnPyCXf+2bCxMbEt6meaYNjl94K9P+Nus+9nsTKK4o33jTux66FV0S9di5NhjUVZbywEWCAlXadHGUFx34R4A0qWlqK6rQ3X//gg7O9Cwfj02/3kOSo8chh5TDgcyKe4Wsf6F438AGw/wty9f0uOB9Yd1dU+NJ2P3wrvjir0C5eKHiw88T1eSD2eKCajd+oqR0xWZPhnFYHASD/Yd96XY1XoYN+VYwCQBALrV1iCTyaCjvRPZbBatzW0QvaOzLn9yuVv8GAvPRby8AJBKBSivLNdtaW1pVW+QiPty9JsJIbwR0mqUtPLHddQ8jxXT8oQ5T+UNr7Wz0UjXfC7WPsMnrfZobI/Xz5854+5s0/VLiYf/9iSWvr0c+dI7C9/Fw/c/gQu/93Vkc1mv/V17cVOQfUwb/TwYzm+dx/UXZkddroA/haHEzHvNQw59qbMziz/dcg+OmjIJfep6RbKEiOlKc4mbYn7BWyLcnWae8s7Y5p++8Zk0hn0Ysb/8ysVZn8wkOa7+Pmzy/c6nr1smnW8lNklZ3pB8K8Zc9pw5c3D33Xfr4y6BT/pPeSgwoNcF0nk6Tv8pONixYwcam/fi4ZIXkUqlrGAnKscCEgqMunBl8Z8llZZlcMCQgZh41OE49vijccxnPomq6kplu4RVWREHDJfaWKX0/ZHR+TgJkQ7ZtzcpUQ02eTRntZ845fy7Kpiuyv8a9zZh3aoNeP/dVVi1Yg327G7Avr1NaGpsRlNjE9paO6L8kiYuVQNHfMknACKW9nl9zPyxg3LnnDnvyesgootPGphkXA8ZPwHp/lblOzuz6GjviI2rMJRd9v01H6zDf5x6UcF8+5Mevfe5f4jcYpKUEitWrMDFF1+Me++9F9dddx2mTJmiH1Lq5vWtLFPyXcFKIsBJQO/KcWW75wvlcet22+GxCHQQCx4AKUok1WjXV715vggFiNSYBT2pt+xvXr8Nf5s2C2Fo67Zt805Mu20mbv7zNQjVQ5CEIpX6SdL6w8U2yYhNxOx8mELtkqDgk2ieAL8PnBlMNU+wDQOEdwwXBS/Jx6JhmUJDKKeuTFfqTykhQ2DWjOex8r21tjqhxOMznse3v38ORh482GABjI5WQCwMARa8LS59pq232s52m8wGEHuHhLsJ1/J9ZpuYn2j/k+aYPgc0Ll2LxkcWYfhRU1DVrx9kKE0ZqR5CqXQy/hmfO6SUaG1rR2lpBqlA6P4I0iXoMWIkug8dio1vvI5tHz6HPl+dglRVWawtLvMkX9T9T35KnkS2k7H9UVaynrug5RlrGDnKZ3Tb40TOyEwOZMke+X5zGe65JC5YiLAWwsOkNiQtouYL1JPyFku2k+zhq6f4NjFccX3J+SS4Li8v07vRsp05ddVVQCC0oyDlQpx7WdiixzvVI73lgyBARWWFPtza2oZcLoyy0jhlRS2cZMSuEJeTCpM4BrHnflpfuAxhZaAWqrnGNX2sK2z+yn9Loa1iYR1MDmgz8vaIAKtXrMVfbp3uVhZLba3t+Mvv78OJp01F/0F1gAcVkppgpuH4fMfbZF04s+QlxGR8njY1eX8JIfDOW8sw46+PIpdNvpgCACuWrcb0O2fi8qu/DQQMO6zGmX6wP51+ZhzEPPgyP3ZQG63q2PgsxK8oT77x79bli42TMKiYhdZCGOSr13fc1cX3mXYPuIbLRxR9xvR9AsDKlSvxwAMPeOX8I1MbOgpn+l+c2ts6sHrFWqxesRaPPPAkDjviEFxx3SWYePTh0ICgBz1ALJkgAIB+rRdgyBk9zZsTeH2eyrHZx3AvRY74RCeNBF0zDWYd6NJkYCDMWmXm4C0Esh05LHpjCZ74+7N4Y95b2LJxG9rbO5DtzH50o/47/X+ZUqkUgiCwgBOITwz5AmxfSsLXQpjJdaCUL6j3pYLYLOPlJStnAhBAv8EEhBZOkMiDRzBaQvxRSIhQ4LGZz2L1Bxu8dnruiVew7J2VOOjwkQoeGEHQQaWRTdgmSDdJpI3lF3xilLpclIdwRqOhbSNVG49jTTAtFGwJg7ES5rgmzRZDh0WUeUBNakFg68btuP/uWd4+bW5qxZ233o9f3HIVUqUBjLWpz13fYjRLP71f2KWc7bbw+ovjI5J9CoPNFmeQBuKt4DXmX5KYN1o37sS+RxbhE8edhNLqGtWPUbkX3ngDA/v1w6ghQ8wrVU3EYAU8EkBrezuu+f3v8d1zzsawujqYbol8I0ilccCRR2Pr4kXY9ehr6PsfU4CUCZyiKvjODkbfnT7VvkH9y0aKm6wxqPvf9VXyB/MJZYc4gY/KhWGoMSwftyu0aEnH3bxJ6aNgnE8fVy9fffn092FoPix08+VrX9J8kGAY5euAF1skC4JYval0YOiTlMjlogV61ipqPAtfHWyjNjF8Ii+SxMkENEZar49kY4mC9mgMcP7GM0rz+mQ9O1gDRCXWbqc6rrdgeseXW21bScIPxmsF4qal5wuYGUwt0jHss/iv5PpL621Qba1tuPu2B7D5w60oJm3dtB23//Ye3HDTVUBg5hDz1hypp05BPJjNLfr12NyG+g0nqm1GU9VfzEbG/NacFu02M22zJ7mofEd7B+74zV+xc/vugu0MwxAP3/c4pp7wKYybdBhCGbJYgCyvkUzXHVXPbCCEfn26xmyRvKiabyx2FRvylXPLFxP7JtXzUeX62urDcFcPfiztq9RVOp+CvvM+As1XYbiMrqYgCPKWo3OpdAAJiUymBJlMaVR/IBCQLvQ9COLnEP2GEAiCAKlU9D8IAoggQCAEglRULggC9T+SFQTC5KPvOp99LqoziJ8TRhYQDapcNodsNodcNot9extRvyu6yr23YR/21Dcgl41Wid+ctwjfP/9q/PYvP8OEo8eZOBsw4KjeK6ydBWAga7DVgC7l53LY+iM/LsxWSJ1PSFs+q4+AwQz1JNJkJq6Vy9fgzlum4/kn56Jhzz7/QFCvgwoU2Yx7DM1oyck6zXxOWCeFc1r4injymUwxNdxjuj+EdUzYJ93aAQGEuRDZbFaJNaBgfD7ys1Q6hUwmgyAVRDUFMONBEYfoO8zvQERlLZ8m/2W+T+OMjblACOTCHLZs3YySkgyG9B+JUhqnDCv4WKe3hQRBEGuPMZ2df82aNXjllVfy7nAIggAjRozABRdcgHPOOQe9e/f2LgTk+55ElpPIYRKIJ+WnsZoPY5MmkLz1CsTyqJZoMqR+KrnQARn4eVYuEio1qTGfAls37sDM6U8lXkmo37UXf73jIfzmjmuQQwhBREgrIGNfCcM04mjyBs0EhfOpGyUEf/ubyQ+TX+rfpmlkQ8Z3mXwOD0ZfGpPC6ieujyocCjz92Fx8sGyN10YA8NQjc3HOBV/EmCM+EZUnQs3rp2PaR1QjtH6M7JF6LL/02EK3UxlCn2Nc2dRt1WK+uPpo20qEbVk0zH4Lg8cdidLqGiNGRMH8PY8/gQmHHIJBdXVoam7G8jVrUVZaioNHDEempARbd+5ENpfDxm3bMHroUFRWVKJ+7z5s3LYd6zduxNABAzG4f50i2dGcFQQB+o05DM3z5qD5g42oPGgQAOOz1qxHz+YhImr5pvENq22eROetfjLdoDtRUH9RfgnzW7oy7atMLj+j725KIr48P/+dJL8r/LCY364++eS7n/tL1LvSnqKS6qgo4I9N0qCFAPuSDJALza+IP9JYMvmZFBbSwn64niZzDsYLR4oEcmyODILonOBkx+IhNCbYNXrGgXhtmjuqL1xHAxvRObcNbj57OYDzT8rn8lKyvVkAtphmTD50PlA5K390/s15i/D0o3NQbArDEE88NBunnXkCjjhqLCBDYwtmZ8OlDT5J4tLCeIlBViovHRtIu00uZ7ds6cknTCzw0vOv4qXn5idyEzdt2bQdf73jQYweMwql5aXgsQCBlq5V+5eZX7T9eY9qh7aGj5UK8TFf/FloITLpt8vHfOXdugrJL9Qm/jtJt2L04fhlvQWAA59vxdPXEF9+n4Ljx4/Hj3/84xi59xF+HuTTOTpWWVmJqqoq65j7PwgCvLtmAd5b9zYOHzsehx16mA7U6SpfoAL6FPseBAECEeggRwgBBCzYQAr6AAAgAElEQVSIFCoAIiKnENLSFYgWD9Rg1qRPqIUFQYdIJpfHy7AVPSkhIfV93J0dneho70Rbazu2b92BdxYtw4vPzMOb899Gc2MzNq3fgp//583484zfom9dbzPxgE0gGuPU6jQBENSQU5noN58DzDus2XkrP+zfeonPrMDq1WIJswqqAU213bn3Ssroqaq/vPoWfLDc3D+cLkmjW/caDBxUh6EjBqFPXW9U11SjuqYS1d2qUF5RBiECuMm4NbeP9cfkY/0R61vz1TnGYJp9N4skrO+ZHrZsLoPXbcrCkRXJiL5kO3PoaFcPbRGBCez1wlYKqVQKmdISVFSWI51O6zEU6KBdBfXcZ0XCd663MHpYNlRjpqmxEffcfzdqq3vhW1+4DD279/FiDf9N+vnO+8rdd999eO2116xXh/LUu3dvnHnmmbj44otx0EEHxbAH8IOuDzN9x33li5GT1J4kPdzjvvrytUcnNR6tZylJTlLyHOeifG8EkAKPPjgb61dtirWRUhiGePyhObjosq9h+OjBME91tuXr7d8seI3iKBdLlI0Yy7FU4w1wTa9lSjsPjTG3btcdNRiyurk+6gSJpHG/ZeN2zLz3SX3Vz5fqdzXg/rsfww0HX450OT0MT+kiYD/8i+vB9UGEzZpvkS1obtC1GfLJjReVJXZPx5hPqv7gz04Q3A6OPlIC2YZmyO3NqJkwyNStdNyzbx9WbfgQqVQK6zZtxm/uuQc9unXD9vp6jBw0COeedhr+z89/gT49ekAEAtnOLH5++eVobGnGrfdOxwF1/bBy/Xrcce1PcEC/flZ/pzIZ9DhgGHYsXYvKg4YACFlX01/yRQHLJSSfG1RbQP6RRPC4f/r7hvua9d3K5Eh1+Fikn7Q+k4gsX0Cg/EkLAa4c/jsfX/TpmnSc88Jig3rKm8Rfk467bUvSxyc/X9mogLDGpO1VpBfNo+p3LmSyoRe9TQFYeEb16LHOMIlb2DxTQtjuJaOLBZSieZDJt/ydzesweYRWSZo3tKgGUFCr9YCRSSEh4blVVNWnM7qyePuZbYQGF2HKK4nR2BQaHzU0Mn3MGBeKz1J+gT31DbjnTzNQv2sPupLqd+3BtD/chwMPHonKmgqnDwWYyqwNwj4PYweryeztVdROwfJJ5ze1zbYpKQCyAOp3NeDPv70HrS1tRbdTSomXnp2PF9XbD7JhCP52BxvL3PZB25vya/9gurrJN0ZdPKPj/HsxiwJu2aQyhfhVoYVVV05X+WJX8VBKaR4CmA8YfcYq9N014qRJkzBp0qS8MvOlYoGc6i15qRO7shswYvQQHDru4HyS4UAxLBRlAyJZ33jeOArTiHaOJ+kkIyDVgbQEhJoEUuUplJWVoqZ7NfrU9cJhRxyC//j6GXjgrofxq//6A/Y1NOKdhcswe9YLOPeis5TOUqumh5B2NNsObI6ills6u2uG0XYtJJRnjqr0sLaKCSrvk0+2iALSuc/NxzWX/gKbN0bbroIgwCGHH4jTv3wSjpn6SRwwZAAqqyqcPpLsbxfTfhX6f50KKZlvfLFrDvyLFXFRv7CJUbN94RHvGz/Cey4XdqKkJI2STBoVFRWoqqoyUgrgkVVjAjbkS+l0GscddxyuuuoqHHnkkfq1okkgmrTo4CPEhfLwvL7jvnI+/C20WJBvNTpx5ZkzMxo7RBj1MFVLitakba6wRJO0NCRDsbr63Xtx352PobPAbTr7Gppw9+0P4YabLkeQoXe2M7mCCJo6JqMlQyHMWNf2dH2XthWSPfktR3rLYcLcwusGq1sPA16G36ut/J4/S0XhnVQ2p8ULEQo8+eiLWLHMvvffl55+dC7+4+ufx6ETRyOUodaNrk5bV+qobfqqPaw+5jaK9aWExmiSA8s2Bv9pbjFTAscP0ojZV+Uhu+Va25EOSiFSKUBfkYw0G9CnD44eOxZHHzEO/fr0xknHHIMjDjsUc996C48/NwdfOvEEZLNZ/OTbF6N3bS2+duVV2NPQgJKSElx41pfxmQkTcPaVV2H9li0Y1L+/km/6N1NRhdzmFmMDi0A7/QzHDlKyd67za3D+RH5jJktp+QH37ZjPMUu6AJyP1BYK3t2UhIH58hXDEV09i8W+JNLrk+u7ElaIbPvala+9+fKwiqN8IKyhQI/xIXaOxmMYhmZoCrMDAHD4lfZJ5hskl8vXXBIm+HU4KN8lJ9ROQI1Z1nNLADj+x61g9DOIohpiykjXl3l526/1szL081pM/bp2k0Wd4tzS1tcs6HL9zFyg9eEf1HdC4NW5b2L50pXo2avW0rqzsxON+5q0X9V0q45e3ch8cfHCZXhj/lv47CnHKnszrCW8ifFhlUhNJ86w+8fxB4axpj2s37k8wctHD/576uHnsHjhMqRS9gJUGNpXm4P/S953x9lVW90u3T59xuM6buNxb2CKMaZjeu8mMT0YCAG+UBNCAgkkkBA6IYFQA4QSSAi9BWMg9I6NjY1tjHsv02fu3Hv0/jgqWzo6594Zk/ze957Ac0+Rtvbe2lpa0mnxGGgrNjW14MG7Hsce++6KiupyrbyqmimbmGVgVPvQxSc7ReENPV7MRD5sIu5K3Z0bu+pz4VAUPtnHo/AtSodEGAjbTnKtHtDjYQaFpe5O/u1tWi89Jo/L5zrl6ocCW7EaS5PxLI48Bjmok2tKOmaDeaFf4aOPQT9LT8FPCKPd2J4cqdAX/ZYT/cF0eQYfuOPJOGbMPB6Lv16KB+/6GzjnmPXiWzhuxhEorywDV53PJId6eLDs1/0VFLClLqoMpzGjzZMHVBszZndn/9cCPWMAZxowVixbhd/87CY1+a+oKsclV/4IJ55+DMorStULxTj3X3DHmNlOhvdJe0t1ydQBClQ5jOeQZDsFfAVJ92GufAuRxleiiG/tVqeF7EFRj9WizSxfm9FD+xcPyLDrNH1ABwqy2m7oTIk+aWPul9Iv0QnzlW2d1C9I7MLANwwcCy0cxGIxjB8/Hj/5yU9wwgknIJ1OG2XDFhRdAGvr7NLblcJAvtCqLq3PxthiFx5oCtWPPCfO5F/KGRjAuZ7iMM4QwDd1tw/8Yx7H4395FsuWrnLWaaenH38VJ888BmO3HwEO/yowrdu2W8cpjccgvZRXInQeFey6PNxxJP2gMJpxAl2y3Siam1ebgnSZ9DXxu27NRjxy79NFvctkw9pNePiep/C7ST/zP53oz9SdXyPwm0dPVo3GFHntUwCxX4aKADAOKk+apOtm0Lin2kcKZ8wsS/LEy0vQ5XWAd3WBxePG2EfH861NTXjkxRfx0ttvI5PJqGdNK8vL0a9XL8RjMWTSaXieh9JUGoP69gX3PKQSSeTEV0G4pX9H41Yk+1SqZ4KFRWDiPw3m5iKP1F8/z0rGsQBb0Pn9WGPGYKsfz5NtouNJ9ik3ehI/FklWC3G+KAJa6EJRIRx24XvYQm4hchyFfVHyXGWjiHSUbWFYan/fXKEkaVdmnPOP06/hgDFyBwDhbA6uZPIsOlIz8T/XvI5wIA7zRcCxWEyVNW8615jFpcZM4KJa4ND4pupWR7T9lMIo6JTcgfBPPbKQvqBs4uZCBqP+1c/yMwVIgpOQSbZuf0Zkm7xP+tzzPOy532549t87GfwrxmL46N1P8dMfXYOtmxtRXlmGPz50PcZNGuMvzmqxKClNI5/Pw+D3kOOlic2cuo8p90Bis+LkEj+kmdbAEuB6sr3E2G34VPzN53KoHz4EN/75asNWAHj9pX/jmb+9BAAYOnwwfnjR6SgtKyEVAPFEAu0dHahAeaB9lI8NfJNhrLGRK4MFDhvlgymMK9nnovZdk3+X7Ch8i9KDbhfCStfc2lWPS99CmM1Ygc8ARh0rZjsqFZvPJb/Q6qtTd/mX2bFsHyNnmT3UMjuHcc513FU+eo859kz9g+X9hk0mk9j/0H3w5MPPobWlFYsXLsWaVWsxsmq4cfsZtdWuxxaujrOgh5iRwcgSWoYepoMJSADTXzCGeCyOP914P5Ys/BYA0Ku2GtfdcSUOOXo/AAi8TZzZuts6BNo1xOsESF0+M8uHV8rMXWcbRkWGUNmsycrCEE3YqIywNg+NX9s0ReQtbwRc0J3+083+XCCv63x9fT3OPvtsnHHGGejbt69xW2WhCXTY8SgcK4RxxZDWYuvrDp7SMk7iarSj1MnMoJ8h5bRjEdnmkY6OLDau24zDjp2m8mzeuBXvvvEJAKC6VwWm7L4Dkmn95YVFC5ZizMQGIMagyQIL9gVaM1WU9HMCJ05bFdVkzDgcbAt9VmEDcwzw1HvMPKbqs3CIAVi88FuM324kRo9rUGU+fOdzrFuzEYwxTJg0CvXDB6uJZSKVwIb1m9BvUG+iF7VNEsog1gbzBv3DrIbUMWoprrSVfnThHrO2eUCXZHUZkiP6Yv38+eg3cSKRo/VobG3DJ18tQCqVws0/vwJ/e/ElfLtqdeA9H3KxRk4I/CkRB5lXKR2yba3YuHwRqk/eDYAHV/toZXTU2X4Iixtnkj4AM1ZeVIzZ0OqKVVf3jcDLKLJaLP655BX6jUrF4F7U8Z7iY7EctxjbQut1bJvHmPOcZzwCwNTdnwbmBbiSXTdzHLaP6fjzyOdy4zERf9zGLbckiovBPGZdpq2u8UUXNJHWJZM57NarCRR3ZCcyj7m8Y2tn9uvKqnKgqlwVl48NVlZXqraIMYbqXtXo378Pcjzvf8XEkYLt79LHXsh2xB8RUijmNG4xq4xZTyKVwJ777erUe/2ajXj2iZfBOUev2moceuT+qO5d6WjIYKLtY+pvjw/B9gjaYsmO6JOFsKk7OGTnLfYugCidC9XbEwwrdDx0AeD/5tQTshu1avS/P/n+8LiHMRNGYMCgvli8YCnWr92IJQu/xcixw//X2s8ArFy2Gq+98Cby+TySySROOXs6DjxyXwD/r7drNxNj/x1/fAf1dL8H9yxxzlFdXY2jjz4a5557LsaNG6du9zf06QGm/G9O226vm1qEpXRpCpdfcy4pzfDRe3PUAsDQhsG44Q8/R1Uf/RgIi8eMq8j/2bQt8ntSNliGA5iyxyRM3nU7dSzuxXH69y7Buhc2Ip6I4/s/OBKn/eB45KDvEIin4/9x3f4zZR3kJRFHzYE7Yt09r6CkphqVgwb7J7g/R566/XZ45d33cNqRRyCTSuLia3+Lur59UFVehpWrV2Pc8Ab/paSMYWzDMJSVlGBU/VCUpFIAZxhVPxTVFeW+MBFcuY5OrPjoPSR3GIj0oD6WbttmT9FlWHfq+277wv9v2PffTD0dJ/07APxtxoBYXE7Rvuuk70pQ7xwhk1ov5M6Gntb130n/uXrkWJTt7MLa1evxzaJv8dXcr/HtkhX4ZvEytLe2IxGPo72tAzf/+o8YM3EURo4bjpGjh6F+xBBUVPrjW/e8+p9q+0L1uHkeC1GmeP3+38Ob/60Y6lwA6M7t+T0tW+gWiu+6nMxJb4Xh1nk7gJmVH448dt6welzyu6ObXTe1XMnnQFVVJYaNGIrFC5aiK9uF1SvX6ducBOfpjn3Oeqzz9vFC+kf5OvAbY/jk/c+xacNmAMDQhkE49qTDEY/H9ABp6RhmXxiYuep1nUdEHrl66rLXVX/UfphPZS0g9RTTflH2ucoyRz32+Z7ZRz0ZTD15LKjQbVhjxozB/fffj2nTpiGTyXS7Hpq/J7jYHTwEuj+QbCuORuch8xI5X5IXjMTh0NiQZdViP0OyNGkIS6T0xJUxhkQ6jmSJvgNA1uOL0H+j6gnDYMA8ZwdnMdjFyEZR9XBrP+C3IGbEUnHEk3GVKZ6Pkat//rOWydKEKkHtKVSPkZe5/RLZrlYd9nm7rEpF+gzw2zJZW4Hak/fBssfeRr+mRtSOHIV4MgXOOY6eNg0H7LYbyjIZbD96NFra29GnuhptHR1IJZPYe6edkUz4tObymT9AKpHERaeegpQ4dvGppyIRj4v+xtG+eTOWf/oB2Nga1EybBB4LiRc4YoD0j7B2DUvBMUU7yfkKlhB/G/rxnuHIfxsPi9Hv/0Y87En+6PHXvs0c6m9ePB8O+D7w71bjhkxXPe59+ihAUC9ZrbyDhoEFXjpYHH+Krue74IfF2BOFSdvCDwGgcWsz3n79fbz63GwsmfcNvI4c6uvqMHJoPUZPnIITd9sfmVQKjS0taGptxYqFq/HYqx+huaMd1f1rsOd+u+Kgo6Zh2PAhiCfikT4pltu58oT5NKwee2yw63HVH5W6a0+hNu+JDv+tOWZP58vdqec/hYfGSwBlBXaBqOdUXcLDnqOlBtDfQs8+uIyKMjYqyQEaBHp5YN/Po95yTEDafjYpKFtu6+7mvhWL0jIzr2vAYI68ARIIjmQyabycZMumrer5KsZMHYIEx6wjbMLGrNKMHHcRdMlmmCFT+0WXsWzjHMgxvPvmR+rFYZMmT8SgIQMAbmsm2zCYDP0UmdI2BtvH9rV53EW8/FtMiVxC2uCU5G57U2crD5f9wdX2xEZyPBgt9r7tB0s2l452RCZZWJLC3X1Ctk3Qd0beCAyRx2Q+1znXLVO77LJLQHZYfnrc9RxY2G+U/CgsddkVpYfreKFb0cLky+18Lo9sZ1fAD6ptZXxY78JQL4UTcaOfwwxGHLdkRSYj3PX0mAPmJ9ZofVzrx2hsCr253W8sXfWuv6H7jhXnxAKmQNWBa+S12canlriwhElDNSZRjDQ6ryspOVb7UD9Y/jEAmTHz04eg/qb9WeiuHvkRtqkxUeYnXMD2sYoTiif0GV+KO1C6Zgb3Rp8z98fG5z/Alte+Qf/x26Ni4CDE43FUlpUBAMpLS1FeWgoOjgpxTOMZkEmlADDx66d0yl9I6GxuwoaFC7Bp/VJUHbwDyrdvAEvEAKPNhT6Wr9WrylX8kD4ns0Q0HwD9SJ7sz9I/jPpUHGcyFqHPMRNNOTiynV3oyuWQSiaNugrxt2K5l308CnPsumwsdaWw22i7wz+LwcxC9Rbjg+4kZrWXfQu0qoETm8lL1uQCAHfItD/+ZvIJX7rNrxR0WfFDH6X0P6NMz4a/eULzijA9mO5CQp7NM+mbA4JcyazH1Nwqo/qT6WvT47JMNAej9eZyObz9+vv40w0PYMuqTTh49z1w9gVHY/igQZi/eDEWfvstVq5bh+3HjMGR06b5iymMIZ/Lob2zEyvXrcPsDz7AP198DU/99XkcePQ0/OC8Gejbvxba7SEczPa1EzuZmUeJ1GMvAwu0JLdkylMUq51yQ5IdL9qz1lji0CdoSWF/2CnsMdgo/ubijd3BikLHbV0K6Un1CKtnW/gnza8WAFxKuJ4Nc4F/WN4o2S4S61K8GKe4DA8chw5EFUyCMFGQ1ITJnPz7shGIQAU09oyPwCLp36DzJb2KyYwyshP5/ICJzs4cZ7Vg+ZmlWJyhple1OrN181bk8nkkYwmS2w2eTA4OgsEYE3Siu2mf3iKcRvVmzZs0cZE2q7aWdUhJ8rM5jKGtrQ3z5iwEAMQTcew8dRKSqZS6NU2Cl/x0mfElHIJuajhktC5O2oAaIEc+ZrWZnVfIJX5Rb9gl7ez7T78gi5N88qVkXBJrtU/6mNRVEUVmxKL2HwVzmdP0BW17BSJECleZpHA62FqxJ/UT7jJ4MREBFcNRNKIwUXPl8+sJB3pXubAydD8sFcIyO5/ruKscrdPGPZfexepr56XyOOeIJ/xPQDoK+TEodyUmMH3eP072ZT+U+QF1NUH2wMKLtJzIJmMMjUPOAzFoPFnKtf6Afk5b0UGpE5e66nr1vJXoqQPZIDHUA0b9LHiccdEtGO0BLn3scSQkqfiS2ADVyc0FF+1WkE/26beFW20ss6sJMAju6DqUrYGBwcYG6WM5lpqLD8z2H8GJZK9y9DtlP7QvXYsVs7+A98l76DVgCKrrh6GktjfiqZRvA+eA6gNmqyg9PA9dLS1oWrkSm79dgna0onTycAw46WjE6V0nRH89FDKYzcJUMxtfTIDARvmyPm60gJlUmJL2Iq6lL1Ok/qHjAul9YGBIZ5JIJhMBfPHLuRcMZSrmwo7N+eSxQkSayo+q20VWwzhld+QXIthR8m3fhOWNwmDXS5NptEp+JWMfCL4EkMVYQKZfXo/fsg7G6Xn/r2YDuh5jCYlzcG6+BJAgo8BuwF8EFDLU1wSkTBBuIhf5yCKWxCDKr4iWkicZeGPpSb3MYWtI6tMdiYxBRL6BaxrTNa/SXKW5sQV3/P5ePP3XF/Cj6Sfi9KuPQf++fQHO8ezs2fjRNdegfuBALF2xAuWlpThi2jT/JX+i3UszGYwaOhSj6+tx5nHHYdb77+OmBx7Aqa+8jev+8HPsOGV7tWBgjqEyHogBFBTkefJJQ6G6ultPxZooS7kjUxIY4em6PFTcch23RXAzOn4pjJRxypilM+mboh4a21KKqXPhFDZnjJqk0/MFbYTpD7v/h81ji/GhzOPCNNcibDH8L0w/5yMAhUCuEPkOS2GOC2ugQmQ9bPVDnzMD0f8leUknMHIxs6fRcd9OqrzseQqmgnUT/A2eE3LsyZapY3C1lGbyMZWhpneN8m1TUwvyuRySyYSSYdMHQx/rczRqiFGd0m2jIU9tyF6rQcYAbBYsa5jOgNbWNmze5H9vtaKyHEMbBhn5JQGT44lhk9pnRr20ZYyrjPa4RHWx9WR0iOBq0hH8HItuF6kxU3XRSYbQQ31uxlbBkmnEmxnHdnegNrl0ov7QVyipf9ztbO9r/0kybNcTDd+FViujtl3HwsDSridMJi1vY16UjGL0CQP4KFlhV8LCFhvCykdPwFVmv72idFHndZQwY6Ip9aG2FapX4gUUgdR9RElx4KZYhBX51GRa9ktQEdLnVAbVV2KfJip0Ul3Yfw59JCE2YNPsW4x2VNdqs6GqbEsY+UysEUfUVWVhmyCaarWD6K3HEtPnTPjCx1tBCMFUfve4FNAMZPYAMsMW7e3ro5vZ3y9p6I+S+v7INbehZe5SLJ3/KbxPmpHkKaRLypEur0BnIomlHR3gLI5kjGFceTny2Q5kW1vR0dqEbLYNXmkc6eH9UH7ijug1qA9YKm65WNgoX+pIYycwMAD6W9XEJtmminWHJ43lemyQVFl/ndK6SlYg9ORCHeDGzzCMCCOaxfKtsEl9ofrD+J8L08JIrCtFnQtbOAizJ2z8oOcjCT39FfFiMhI95kqp9jsA4uKWfENWYJurOgycc+oTPEdfVBdj+vOrZuzp+GKWMrTfahwiHMUqbyeKXXJZQzNxm7uZJcP8YVanxzN7SHGNMQDQ3NSCX//0Riz5ZBH+cett2HnCBIBzcPG4xLQpU/D5P/+Jrnwe37voomAfIXHhcY5EPI6Ddt8dU7bfHrc99BB+fNoVuOWBa7Hz1O2dk1x7vkLnGOryjo1hhA+rH9mHwIlKVgwole35C23zaAAyx08p3441aqQ5n2DGcahzxXAWGx8KTbLlL+3TYf1byg/jfa5FSxf/7K5eUfZF8blC+sjthC3YpXhP9l0g7wLyqBUMlzzaAHaj0X0EnAXJSdWvH1tM8SFVr7wCLfmf+FXnYU6PVR3kGCdxbdSnf0h+MQxYn5Az+Zl1t4DUiYsOy5laOUymEqrOXC6nBzupreQrUpqxz4z66CquL0SuFuqVVWqPYRvJ6/MjJvq+Hlpsf6p97rd1R1snWppaAQCZTBrV1VWG76Ti5I7M4J0AhJ6acEN1g/o14oTmt+WqfUbqZ4b8wK/yifCramPHVQG5H1IvAv5jBr+XjnLaY8Wj4qtEfzp5MiE92F6moTS4dHIcMs9b4FuIOMo8UXjimri76g3Lb9fl0qcn+Bm1UNGd8oXqK9Y3Whl11mhs47lkv7DKrj9NKg5wO7Bg7BeKA4UbpLyKf65gm8SdrE/EncREiQ2ijFE/tQ0iv4pbBuPRL058C0bX+AyMpnipdOR+52NMjyWykLwDIdBpGYzPhzmTlV8pQH0Fpj5xqzFIYoT2lZJhPLoAvZgDpsYOY2GA62oZ0SfwDDtRUY2tIr9fBe1LlizZVnEgUVWK6j3Go2rXsfA6ssg1tyG3uRnZLS349KP5uPS396K5tQP9aqvwj1svR6quFPHK/ijrNRJV1eWIl2YQSycA/UU1U0duXREEwecAO9dWKT9Dcwn1iIjRAXQyYlLtW1dNRTVGHDD4o5n0o1N6ND7Z5wvlL4RvxZZ3EdFCE/1t4aNUNyrLJb8YPHbpYy/k2skYFqHj2wgP2t4i+S/kI34S32F3RRXt24HxXUKLve8oT1/4J+8AoEuU3MpPy6sxgvRf+Uk7Wp7aqPuWAT1KqpmfYpJZH4g95ieWmXFMdWFZH5Gv7FH+8TM9fPcT+OazJfjTlVdh0tix/sSftHVZSQnKS0qwYcsWGHMOTi7mqQaQSjJUl5fj8pkzkcvl8Juf3oQ//vX3qBvc3zlPMXmofacHLH4YzT+lo/VVf2ZkCMQRbW8bAh3JFYfR8UfujpHlOcTnG2V76bkGbTOjXkcfjFo81E0RfgeTPG+XD8OkMDyj5YvB02LxtZj9KPmccxhv+qCkshjyGOWkMEMKyZN1FyLqcj8sb7C+4C8DwBgHJ+Gn+wQXz1NCBD0nHJeGqwk+6jlVmV/Kl8FP8wNGV5M6qRwKyLiV36+MKXuYAjbAv1VeFs7n8gp7CLZa+/QJVm0TXZmWdSuyK30DmPkDtkm/ck0KoQkQs/JTnQCgra0dXV3+M8qpdAqZkoyVn+v2kf6T7Uf87YMR94kaJ/U64kK2F7WJypX7Gju58zxoeUUUfONpPGh7zPLMkKvzme1n5WemPF1Qt4Wsn3EeqF+HnpTFIfuF3ctoe9O+AtUm6qzWNwSI7RTVp1393gXk9nnXIFBoMm1vUxk20IaRyULAHqaPbRs9H3UFi+Z34WNBvAx0VE5wh/Z9Lq7acnW1m5M8Wh7tiOIKchF1c+5jMJXPmI5HLuoGJ9jCQGJd6CiwnCsGaepGCQkX8nwjaB+QvjG612AAACAASURBVJO2CDkqPwjRFOdkfaKzMyFfesq828aXZRNTZ5LFmPAPF7gty6r6RT8U+8oWRiZByl/S10zhpMH8OB0ZqG0CBwioqn5OMUe1j2gPlV/4R+rKLFuYrh8Sm5MxxMszSNf1QtmEoajecwIqdh6NDi+P1vZ2ZBMMtYftgpr9dkDlziNRMrw/Er3KwUoSZvszy2c0zkVbaZ/RtoWOJYKhpiwAEXHOoPUw+ISym+t+ZMegiDN1hwlJUUST5nHt2/mjOJkLg6IWWrvDJ8P2w4htd+S5sJ6mQhOFQroFytFfCjuKH/onZJ+R+TkndwCAISYeATD4htq36gHBScljJN9QMSpDVPdzakOMqft7nPxT4b80S473RBHG1I3fymbTN1wpL/1B+5crv7qdn2mubujGzPzypHHlmwW7p/KFso9h5bJVePHJV/HD6Sdi0rhxevLvmOgHEpNX4d08AvDfR3Lx6acj0xXHc0++DLUcLMYd6gOtOuHq4s4uysWDv7q84rVMLnDD8InKpyAnyA+jhm5aLyGS4lfyQz1+G3xfZlXG+TyBxpmG63Al7AvChm4ODLDP2fmj5rzFzFFd+W0Miqq7p/xQblNfuGyJRRkT5rCwvMXk667cbdHDSFwDmXrWxC+BYLcxj/sciIECoUI9WoUkCb4iZOoEAb4UOHT9Wr48ZesvZAliaucHNGcFgERcv8o4l8ur25WU2jI/tdXwh9SP6qR6JjGWKmD6g3PtA/1LfcDJX6kPsYnKl1jCDDwlMGLrKsorUGOmAEbykV/bH3LbzKfjwMgPMz+3y1PlZQeVJE/9p9ueB/wfnZw+cOgob9uWq/OU1tOu4FgaCJNmHKExTYdTXYc9rBOZERPTKLB2nevusagJ87bmK5T/P4mdhcoFMwImUzSxUc/zJHNj9LS1K/uaPCgxJFpX9QwgkxEm6lGM2LLBqFRGFzkm5DChi2k6g/kiIo0PkXJVbukDTnzASD3Uf1zoIagPGSukouG9w6iW1A+oW/zFNpSdynjiD7HkzPRVFYkb+lZf2wdMwBfXuhpMMOgDg/ha7c9hxrvpA2qLkEnkMRWfunZOkEYf5DDbRE42GGSbG0Kkj4zYM076uoXGnry7jvgoKs6Z9pmKOYXHWjdz7CJlaR81xBaHca4y24ol/22+1918hcrJbRuru4PzdjLGY9mH4NMTPUaK8ZLgjZe3XgLI6LU6Rv6G1OWKP0bOG9gDfyJrPQKgORhT5cwlMji36S8HE1yGyuGaC6jHBXUf0FmZ4qWyvKtPSpkI8B/LYPmXG4dIFt3/4/E4Pv1gDqpSpThg993NyT8di6ISY8jn8+jo7ERHNouOzk7kCBcHgNrqahy577748J1P0drcZpomMUFSbnmQcEv/hPar+evnCXBRF1cn5dRxpttdVRMNDU75VFf/DjS9LCHzM5qNSzOD8wfDbio9hGfZF12+c760DfmjLlbZtvQEO8NwjP7GgiLgXHWI2i+Uvuvy3T0PAPoFSQAEgdFX6+WvSQuMX7+IntwxI1b9xiS/flDLlSumhRB5MvoZrcw3yFytkf+YLk9vs/QncwplEY/HFVTmc3mjYyubAuBnkSim65ULD9JaxXFsH6mrgPrKiT4vVrRU/eYgxhSumcRNfo8WQg9O67D9Q/Y5uZqjp9faYm6aGpDntzcPnud6GDKazNbH0T/lCrNeSBJyuDLe8IdpE7VAxppbF3vllubXNgsAIuW5Uc4YQgOJQwoM6qV14Ibedr8qNkX172Ku4vy38SbsPL1iti35uyuvu/a7W0jeyaRxRss387hkmIuvUe0JciVGYo7EBKYyaZtoHvjkQrEQKUPqostQfZiRX48AzomlSkQmNymXmYcH8Fz2Ddl7zXqKJJeqPoXSCGph68/Jj42fTJ2j7Sl/DTSgYkgeUzP7uDkG0fNqudBkeZbabg+HHwxmUJMvetXeyGHHgI63YEzQ+ITOZwBtIcWkI7VMTZBd9dC6rLqjavkO8Kz7GNK95Lqzqpi83ZVdbP7ujDlRec07PehxfYVdcic9dgKel9dxxPyXOxsySZ8weUjweHDclbGmj3NiB2PQnx4lSit9LXOd9XDCPZjVq3kwr+xZAd7B9DFXnbIfyJdgKx6qXQfN3chBmPGmdCVVLVu6AgP79ENlZaUqqxdpBE5HLPwwxvDBnDk4/sILcdgPf4jDzj0X//zXv1QZWdW4ESOwZf1WtDa2QmEAJKXX+GhwZTnfAOXiDi4IU0UXN/W5N6nXwe1p20QlxZ1pWa79z8GNO2eNYBB16C/6BGOLziHCUtSdQIXyF5u+C7wKXTTsJt8tJhlzJyKjqJcAuvbpbV/Fro6E7RdK3ZXvSqr7SE5mTUD1woAx3qsApquD6qqFkg3oVSpJ7URX5nA+EsvIH1KdkmHqHiyvjQf0W9b93Ri5A4A+16XGDAsQ6BatQ2VVgKUrCeikDVI2EVpp2GUOhKa/AWbs0+/Rck6DV/iNcw3KNCOjfjX1Nq6zaSP1hFjmM/S1VyGp1+R5o0Y9Psi66coktZ/4jtM/jBn6Ge1vtQNt14A/ZDsQcc72MOKaGSoYdcjfQJzSwKIZSR8Sh6J6bHfwIurqTDHli5UZdd6+7bbYK1uF6uvulbIweZH2cNK+9DDBdzC/x8jINh+BMq90O1oDcfifV8vD0zARMo5RWbKv2vKsxxbNWuVtkZaOlMKwwGETg2ldNKOUqbGBG/qEWGSc1IRN62giL7Oe/2dIJONIJRNIJOLG27npqEEvTKl1EoV0jiv8VB9LN3NMsK+VS8Jmy7BizvI+ArmlbPLEKHPoI/wrVobU2K3RVlzpiMWRTCWRSiSQTMQBJp9h5oZuFNejk71YrUc00yYb8xCwwymdk9t8bTxhIXGvJgOkLkMmnPizrfypu/hpk9Riyhe64r4t+nwX+cOu1hWWb3NFu59Y/FEc9ByfATRkSE4g+aUDzwz5Rp3med8+k1vF5DsHFJZYSitJFqeQZ5juv8HytH5m8h8L3NXz4A47pC7aH7Ry0vNVfUKw+MqXxkopnxlwXVFZgdaOdnTlciiJx8nYwY16nIsAYqLaMHgwzjnxRP+ljgAmjhwpna3iprGpGenSNJLppDm3YNQ/pmzfJoHtAbBxxK/1S3Ma/DbsvGyHEHPtegxNyNzIrpPKVzFN5MixWt+M0j0sKSZ1N79dpjvlezJfLvZcsTLpdsKlkP0cQRjhLXRMEUiH4q7nxsKORz2z5srrTvTWQnGEvj2DQb+4xwA94gtd1JSnD5l8AFKu/2vYQfIa2KVEEXrLQYToPiAhTrnGxzXLV/RZMvnHQWE4V0BM9TEpmrv3U0qkYdck3PZZ2sWpSA6rrUNmCspPzEE1GfGiJFh0pKJtyoh+tJOQRQRtttaZ02PqbdD2bT1KGGy/GvpSt4oFDRqrtPk1AYTVjK42MKtj9C4YpnMHyaYy0yinsrHgtIC2mNZSAj7X7cTMcnZy9eVisCMMs1wLld2pw9526en6LXZRICpvIRlhcruru8VQTQwzSA6H6juC4Oh5sAI5SPbX0dyMD2Z/iLlfLkOqph9OPvNQlKZFnrAYIOSKkW11dRUMxtvijZkvlA6MlJN6Bm71l/rTPkCx2qibmf2FgqqsmzOsWrEOqXgCfQbUamChdkhnc+IBm0gK8prb1IwtXyzBmfUjMH16bzAwDFjejDWPvY7SHYejtKE/WCLu66b6qiwv2wm6zQzM0Tap5wTBQZyllNR3zxu0TLeD1U6cxI053vk6ZDu6sOybVRhaX4d0SVqQQ0IJrfY14lcSX+7n5bk8Wr9ehdqvVuDGg/cHz3pIpOJY/8ArKBkzEOUTG5CsrdC4rxtN6aX0NQMg0P7+Wa79oQPIGtup791J+UceIHUwztUiAA0LpbtqBrsP6Wc+u4MBYRP2QjJsObaMqDuXCukYtYgQhd89td/GXJdNLv0L2eoaX01mFBw7AcDLe6SZzQUAP3r1xQrKZww+IPqcq3ZGtmW8KxsYEBcLAJp2Uowk4wH5EkZgEZABG9ZuQmlZCcrKS13wI6ojHpHnmbZP9UzOCc8i4W9gp9SX0BUu5DFhKz0h+KemhoL3cY6xE0biibufwtLlyzFp9GiF4+qlqhI3xT+Qf7I9+vfujSP22Qd2kjLy+Tze/PgjDKqvQ3l1mT38yuYQpkmfWFhuFKA8UB+zWT0txBzlZIypaGFG5tDhW0kQjWnWFIx5H0+NRg7GLHnELXy9Jbzfd3eOua380iVDmVIAW4vVo6e4Z+d13gFAM4WBoG1cMQaEyQlTtlDdNukulAKTWTD9Ag0OcuWUEgV9FUx2KS4QRl/Z51Z5yRu4JmdKCSHL6rScdBgA4o3EnDx3o0FbQzj1A72xnAaiwi0NbiDXyGQbUR8ZupD2UySIjjPcWqEkQUpBxerYeg6g28QsL/wfCB09gvBAm9BOAOVTs35N8Gh7S74rC6rYUj6DKiefs+WiDeQAqECP+pT4whxATcjV+lNwhDqm7YCyQ62c036mquCGLUb9zCQRNK/ykYxnRtqH2MVIOzHif5PEyl5E+ziMfDRFAZ0uH3yuKQqQwzCi2Em1q35a3t6mdYVhXxSIR9UbtZBQaAAMxVbmbAqzHIk9rbe58Kgj2b8q5XW247eXXI8tqQHYbXw1nn3jU5x61uEAZKw5zdD45yth1GvrYOhGEJvb+nMfrLs6OpHPAZmylPqutmlTMPaUPO0ZpafLt+0tHbj0optw4OF74rCj9kXfQb1NB1NixJiEAhM3sh6aP1yA1rcXoKpqAPbd70ikysrBYjHkOjvQsmEDNv79EzTXlaLXoTsj1bcalKRzSWoD7U6xiZBYyuqsctqHIPtWHmqLAl7LJtk2HEjE43j+77PwzdfLcfJZx2DHyeORKkn6VTAYd0BoMkoxxz+b3dCITc++j8SGHOrrR2D8SbsikU6Dcw8djU3YMv9bbHj/NZTuOQpVU8aCJWPG2OK2LSIWRF5pr2pS28/UFxGrAK4YMmKWDBfKA7KdVRYTC+lE0dbNtiUKb104GlXero/+FsMD7fKFMDFqDCgku5jxwtY7yhfRyRxfFVdTxWh7a3ke9wz/Mqtd/XDQFzg4PSGPKW5L+IooJzsWg//JwcbNzejszCoR69ZuwJrVa1HduxrJZBzqsRSKl4ofaPz1LQa8fB4fvvsZbvnNXfjFby7GdpPHgzOPcDLKwmFghuKEio/A8A9TL27VYxiIr1T/5Fx/cYTEgG8302MG9b3I63ketttpPIaMHox7n3wSN1x2GTKplDkmMIZ1Gzfi5r/8Bc1tbVi6ciWyXV1obWvD6Pp6/OC445CIx81mE+VlHL372ed449OPcNWtP0UqlUSexp2MD5i66TkCV5RUnlN5Qe02WKaB/b5/9f1y0tccWqYuy+B5Hpq3tGDL5kZ9zuPwjD6lY4u2s0IrFY9QGTk0Z6TYD8MXMjzcfc7uizb3szHChRfdnVcWwp4obHTVG6ZrId3CeCktK4/R4wmX4mEE2K6kkIOi8nenUWi+MEJdMImg5BbwcPGPjKg6u4xkqRv5lbclaiKtr4Rwcd5JAAj4+Xm5dVFUyzDz0qdryWSPkgTZkWLu9tPQJfOTibrBuJiqjepm3rJqkXXlWUbAVJdSZEAWYMqTWkfi4MDAYCXu+muVl/Ur2VxendIDMh1DEIgv6VTZeUBuz+RQAzkTBpH3KOgBUvvSGEBJXNAB1Xx2lgK+OUDaBEK1oRwn1DEag1yfh74NV8WpbC/lMmqL7XemyslYkuXpgoEGeqoT7VVmsgHORc5cZQpN+F3gGUbuXPq4wDssb9S2rQ8l3PQc1c/W34V3UbbYg0IkbpM+q7doX5FyKI4yHY8ilBa+/z5emPU17n3+x5g0qhcOndGBdDIY22E6SOmSaPndQ8c6k1huxLPQV+RX8cgYWB548Pd/wNL23rjyV6fB/5iIaZPZgXRbqIknNHlSflZ5/PIjRg3FkGF1+NWlt+LxvzyL759xFI48YX/06uNP0jVB1Rjs1yOOdeWx+cUPgAVbMWLX/VFSUyO7LcA5kuXlKKntjV4jRmLDvLlY/9Bs9J6xN9J1vYi9CGk/ZvmPGXhCz8myqrWknwx/UbdxA/dVdBjN7MtmiRgOPGxPnHH/pZj10jvY/9A9cMZ5J2DCdqOQLEmqtmXQTaGJrS+8c+VGbHjkTfSvG40+B05ALBYndgCpikpUDhqE9k2bsPzf72Ljpib0OXwqWEwvXILaJFbaueU/7Tp5ThNzRXQZ7Z8c8lOvUU+rShxUfVmSX+Uvis2+mv6XLMgI7KAXqnQB/Avjby6MdJWncmxscS0i2JhVzMTeuTBSZP5ibCuWuEfx10KJ3tHIZXuTJpR55JYMAC/vEd6hvwIQiCkSZwqH7XgUQay+YOILBQCsWbUOz/ztJbzzr/dRFS/FCQcdhEQigXULVuPCU36GhgkNOPWc6Rg+apjfdxgn/YBrbCJ3Oba1tuOpR5/Dbdfdja2bG7F+zUZ/8ij0VVihUQJqwq74g/aFbm9z8U69WV7Yo3yjxipyaUn0H83J9XEwkY/yPwaUlZfizAtOxq8uuh5/ePhhXHjaaUgmEroOUbwrl0M8HsdR06YBALLZLHL5vCMWYNg0b8kSXHbTDdjvqH0wde/J4nFdE2NkXulvOnKqUYtwPG7tt7a04asvv8Z2O4xDKp1SJXU+exwSwSm/biP9nedY+NViPPvEy5j36Vdo29yKyRMmoK2jAy2bW3DrdXfiuJOPwMQdxiEWjwkPq6UG4gMm+J/ZDkz6xuDkTLcrJ2WK6LN2f42afLtkuDAmjKO59u06w+qwMdOle9i8N0wXirkuzJP7jLHgHQC24YVIt21UIWC0nRKlYFi9YboU08AEAUl3kp1ebAtQ4GpCJ8E3KMrokkzLl9ALsmdMhoREBlmPrEGEuVE3AXhZJ9NyKbBIO9SeR8COkgtC4I2T8hNRcvBgFEbNRQgKOrD3VTkNYrRjcwrCBLA04wKRTUwjNpr+MT3u1JKUMQYYWsoYmJnhM2Mib9tLw8AAcKbyyramcKh8R31A7NftqkZ2/xhZmTFsZo5jgTjhTm9Jf6lnbUncQvmCDNCa6Vv+4KY9Sv1wEPNVc2NAsZhSTAojcoXwp5iFBVfZMLJZaDHBVd51PErHoif9VpKTbfrsJWPyqgHUMZJZxyvnyLa04+/3PYeSPgNRghya2rtQWVUGzuF8zMg0gginsc/0FRuKW5IzBLCV6Xx+OHehPZ/E2HH1SGdi4PBkJoJXgHqgljFykMiCjnI9jpF8ceDkM4/GK8++ibmfLsSXn92Ah+7+B2ae/z0cOX1/VFSVQ165M2wRghvfmw8s2IIR0w5CPJWCT4qlDXohJBZPoP/2OyDxdQlWPTobdecdCVaSVKSLMehbVUF9zqG+q0wgV18H0n1a3vop8Y1b/uKivX1XKfBTceArodwMTp63Gj2xAYccvQ/uue1x/P2vL+LlZ9/EIUftgzPPPxHb7zQGiOm6Nbz4NuSa2rHxb//GoIbtUDtqjF+XwExGHuvjnKOkthYj9j0QX7/yAhr7LkDVrmNELJmhJpuQSz0BPfYZYwIJMUm0qJ/s7SBr0OWNvMRHMt6N56ElLwgVJ8oXN1GNwp8wjhZqRwTJ7Ul512JsGA4WqiPKljA8do0nhXA/ykY5gVFUQDYqDW7r60iepx/d9OOayvfz0xjTd/fpMTs4AdNxzxjD+//+GDdeeQd2GT4WN59/KcY2NCCVTAIA8p6HFWvW4rnZr+PHJ12OUy+YgeNPPhLxRAxyImpzAsYYNq7fhBt+dQf+8cjzyHZmEYsxrFm3DjzGgTwjPtDeUfxSck6zRxhcglugEORicqzQvEW5HHZvZMpPdl0+1nrYZY8dccnV5+FXF/8e36xahWsvvBC1VVVqIOzfuzdu/dnPyFglRflXxVUjEk6e5xwvzJ6NX9x+G8ZPnYCLf/EjpFJJmFxZ9EsHnujFScI/1Xm9H2NAc2Mzrrzwtxg+ahguvOIcjBzbIEKPeNkKLT0A+G2Tz+dxz60P45UnX8Oxe0/Dmeddivq6OpRmMujo7MSKdesw67338Mtzr8NeR+6JH116BjIlGce4rMDMaDd73OYC74zWYrRMcSmsHxfsrwXKFdv37TKu8y4ZUdzO1rHQQq7MGyYn8BWAKKLrAvkochm2QFDsJN9eXd6WJAms8Y/DfYz5IcrUfzLs/C36F6SsAhtQ8PX3tCRO8ulStC4YRxF6RlJi+g/wv+EqE7e6H7WHOY8x5SvDf4AgYFQXs2abbnIl29GhHP5UXmF6W9014NDH9I/tC1tL2m50n7QN13rYdzsYgyy1V8W1GRO0DttiKNlUB9KuzIw7I28gjq2yPoXVx9T4Q2SSz7AQr6vWkxMI0xJ7nPBzM0bPUK1p/6E2BWOLJtfV77BUzAJBdxcTaB6JP2F6uIB7W/R23Q1glynGhp5O/E35DIzLOOKKxGpslP8gRmx/P9vSjAduuw9/e/5j5Nu34IarbsOsdxYiBgb5Xd8ojfwYB3yWwtVdWLQ+uU1pkdaV6uPjea4zi2UL1+CI6Sdg+vF7ImbIoQgmJ5G0T0PLknVyTax9H3NVJxgwYYfROPKE/VVbLJi7BJeecy0OnXo67rv9b9iyrhFxxATHkT4Euhrb0PzyHAzbYx9/8i+skzgjb331lfRxsXbkaPSqGITNsz7RuM3kpIP4R9pHcIhJ+JIYAQAex4aVazHng6+weMFqNen2B0auyiicIYs09Nviej1A56Ptn0gmcPJZx6L/wD4AgJamVjz58As4au+ZmHni5fj03S/Bcxwx1RW0zK2zP0dN2QA9+Zf6SSvIrdEARzydxoj9DsbW5z9Gbmur0ZZ0WUl5W9qo/KfbnEHHpI4RvTRC45BF4IA5rpB4FVcp1XnhS98SbtblHBkL40fUMft4sQuUYfgUhWk0T7GTfRvTuoO1UTzVdYdElPxixxNz3GZgnPAQRnBE5fWP5HJ59QLnmEP34MgNjSUqj1JW6yv+vDXrPVx/yS24duZ5uPnyn2HiyJFIxOPwPA+e57+sdciA/rjg5JPxz5tvx6xHX8NdNz8AnucS5sg/X/7H732Okw77IR67/ylkxeMEnsexavlq8JxH7DTtoP0wwAY5tVGCirbO9ALBNqME5d+mn6UuJt8yueL+h+2FB56+HYsbV2PqiSfihvvuw/K1a8E5RywWg8c58p6HvPCd53nwJG9lDCwWQywWQ1t7O1555x0ce8EFuPjWG/H986fj5nt/jUxp2tSLaa30KEf9RfWU/rM4Gtflc105PPfkyzh239Pwu1/chg1rNyIeixOcMrkZ/e3o6MQvL74eS95ZiH/ecjt+etZZGD98OEpLSsAYQ0kmg1FDh+K8GTMw69770bxgAy7/0a/RuKXJiDmzdQhcGzWL/iAGRMbNdi/EHWkqtICn3ET6frHzUjtvMfywp1wsLG0L96X6Oj8DSAW4bt1y3QoRtkAQprx0nAtoXQ6lZDyqrtCGBiA/EUWvvviy6dVdAUVkqZ2DywsMYvVMlBakgIsVNbqIy8D8X/GJN1WnWOFX8gz9SAXEPClfZ5TymLCJ+EMRH2GbRwXRKpgSZvhEydegSdeahTK+/twkkJKiMMDQh9PP3HHtcynT0N3ycSzGUFldgepeVaioKtdvp+V6DZPSXNrOpq8MT2sX07zUFuuyj2xnOYDr41pZOwZo0qKlf+QBBmK+qZ/Mw6VPuA4PEsOqPFlyNW0yg0ldZJL7pH5pm4wTn7ToOiVQ0wUu4wuSLv8pE7jznFaNG9hgE7EorImS5ypP89DzLkAvhijbcl162vXbOkVhWCE/hNkWhZnOZGCP7LfMekxJ4It4mzIYEzjHkC6vwPfPOAZ9KpI454rz8ee/XoejDtgOHnmJaci8RdTvy1EYxmQZUR/ZVp/PZICaHYoylCpk21pwz7W34oQTrsDSNU0GhTJs5va+399j/nQdDDEwxBBjMYGM4pfH1DnGGeLxGE489QjUDe5nmLZ4wTJcfdmtOGbaObjn9sewcfVmxBAT9QDNHy5AnyEjkSqvEH1Y47P2jd5mAuv7jhmPto+XgmdzyiZJ6gx/U3/RJGaYXU2tuOvnN+F/fngj/vXye7j4pEtw/a0vINfFRQxY9YO0B/Wl7yXEQPxC/SX+Gz5iCI6bcYihSmdHFi889Tq+f9j/4LxTrsR7b32GrvYcmPBTvqUd2a/WoM/Y8WosgsA9Hd8EyMX4mCwtRZ+Bw9H86WJLZ2a0t9H+MGMqsE3lcDm2EXlRhE/FGoMR26Rx/K6l6zLlG3Q/KL5ILHKVCcMVe7vQMd+GIKaFYa5dZxT+2/LDfFCMzq4F3+6Q9chFXzXGu87rtuXq1x8lc1051fETyYT2I+EfgfHaiEuYHIvoumzJCvzh6rtw48WXYu/Jk+Hl86HjVC6Xw5C6Otz2syvw5Ztz8OKzs5AQt8HLEh0dnXj4nidx9okX4au5XwesXLdmI7wuT9sq+yzpb/TuIts+tb4KqAU2YwzhmkdKTApw2gA/kT7nqi9aPcbA3xFjGvDnx2/GxdddgJfmvo+Df3g2TrjwQtz64IN448MPsXj5cqzftAlNLS1oa2/Hpq1bsXLtWnwyfz4ef/FFXHL99djzlFPwkztuwdCdh+PBZ/6I08/9vogdVWMAi/x1V72wo+YNKisnnFqUUX9ETIs5QOPWJvz5lgcx47Bz8NgDT6GjvdMPGfIYGieC8nkPj9z7d7R+uxV/+uUv0b+2VsCaORFnzOfdZSUluPGnP0V/Vom7bn7A/wQ55yoOOdeL8mqer9qH3H2m+Aa5089ou2BfKjTBp/3e7q82NhXDlaIukBeaH9s6FYs1xWByWJkw3SM/A9idq04URIs1qNBKc1Sjdnc1xe8UsiMxdZDDuopJ3j6qy+p9Zka+swzlCrK8vH1FX8Fx6afPBavxYVxu/sN8owAAIABJREFUG3zEEma8AwDkdlMhV790U/qcgJ+SS9pBgjOpSw4qjGQ1rpGLgx75CoHM5U6O4AUwYFB/3P34zfC8PJLJJPoN7OMDS0F57sQYEIsRnxFf+76RV2JcsSmrFDGj2ku0bUicyOGFeEf53KxLD38UxA05qloyYKo6deW0qPFZMbnNzH068AbqZ1R3ob+lmLLA6gvqlmSRMYoXR+FBd7AoSl5Y+ai6bZLY3fLdPe+qo9jyxaxkRyYGaPZBg5hECbN+oX/AGdavXIEVW+IYP2EYEhn/eUAvn8fm1U3oNagGMYbwbsvIjX5My+Zc7ooBD0Hcs5PE9tLqaowd2R8fLGfoJ960HLTZ2veATeu34OuvlmLeF4uwcvkatDa3Ie94ttOVurI55HK54PGuHL6e/w2uuew2PPHQC/jeaUfgkKP3Qb9+tWj7ajkGjd+b6MTQ3tGBdCoFxmLIcw/ZbBYlmYzRNKnyMpQky9G5chMyDX1979B4gt1//aPUcOYBT9/9Fzzy4nzc9MCvscv2dRhb3Y5r7n4Kp560Lwb0LSFjJdfxYIwTQFtrJ5YuXoGv5izCogXfYuuWJmQ7uxDW4GtXrg8e5EBzYwuefvxV/HvWR9jnwF0x48wjsdOU7ZBbuRElyXKkKypUpXmPI9vZiZJMBgDQ3tGBVCqFOJNjqa9jzbDhWLrwI1TvOREsJb9zbtrg9J0BWlzHHsU441uQNpo6UoAFWw6wUZmMPc7BQYoli6f28UIpagHSxhq7jrB6i6nHJStqe1vxv9jzPa3LPGFtkJiRB5QfZKxyHydkSiQSZCx2iLa3A7ro/p/NduGJh57B/jtMwdSddgI4x/zFi/GXp5/GjMMOw47jxoExhjlff42HnnkGMw47DDuNG4eGQYNw1jHH486H/469p01FWWUpGGNYvXIt7rzhfjz512fR3tbhdMGGdRvR1t6OkniJQm/jyqjktrGYvyXHr4DbdN9kjrFH8x/Ze2Qfk6V5MA+jriWPQSmOpn1XWlaCo048BPsetAcWzFuEt19/Hy989C7+OutF8KwHnvOQz+URi8XQlcshmU4inoojVZbBkIZBOOuKM7Dz1EkYMLAf4gn9ckCtEguxl6lj+nN40kZShuKRlGBNDPP5PL6evwRXXfQ7vPLs6/jRJT/ApMkTxCKTVogxhkVfLcEbz7yFO37yc1SUlqK9vR3Pzp6NyvJyHLLXXgDn6Mrl8NLbbyObzeLY/fdHeSaDi089FT++6Xp89O5n2G2fXeB5XqB9TJvI+CTHeKbP2223zX2SnIviYMUmF9YWg2k9WWgsRndbj6h6Qr8C0F2lXPtRFYedK6ZMT4itv7JlDbjyygFAxluyOmTXw8UfMmlSZaQ8MbOTEzySSXdeY5mTZCbnGRNBqHs12Zar5jDtEbvGIwDkHQBcFtBihN2c2CCyyIVRsTInrxrbNtAyalVVdNbGLU24+9YHsWLZqp5NRqR5PeyYduKco2//vjjvsh+gprba8B/9ni6X4E95GGDEiHQbQvyitq1BCBE+B9crnmacKkeoQ4zUqePMbQ9AtsUvs49Re2QBYq+hk4vfEh1VSIuOxRmMrwIEOHcPUk+wxZWKAeOeLD5sC/YVM3BFpe4OMMGrhTAxDnY3MG8+9s/JFXwPC9+di7I+A9AwtAYcAPeAVXPn4NJfPo37H/0lSjP6pVYBXRQdlLc400Uj+8EqqldwSUDuedkcPp+7GCO22xnllSmfGHIVoECMLIJxoLWpDU8//ioe+8uzWDR/KZqbWgv6sLupqyuHuZ8uwFdzF+NvDz2HM2Yei123tCNVWelbw/2F2weefgY1lZU47sAD8NJb/8b8b5bgiplnwV/YFR6IxVBaU4vOdXIBgBGPkDHOFyx8STzFgVxHEx69/xVMPmQ6dtp+EBDzkClNI9vZjK583scTT5C1GH0HiN8iXt7DJ+9/iQf++ATeffNTbFq/Gfm8t81+2rRhC/7xyEv+ywIP3wNn77cbhlfVgMXj4J5vy+r163HLQw/jolNPQTqdxq/vvAs/PvUUjBg0SPmIMSBdVQne3AmvowuxVBqUaOpocsSQ4SoZnTT2mBoLjZiNsIvegWfgOpkaqqHDWAjQj6cFZHIOz/MCXwJwpW3FsUIktzvyCpXryQWfnsrbFl7qPgcZVma7ypixOIZ8UWBXV5eSQe8AoPFsoLYVcCY/8U/EYgxrV6/HvA/m487LrwIT36Yf3L8/Ojs7cdkNN+DJ22+Hl8vhN3feiXg8jpH19epRhD122gmPvfwiPn7/M+x70J745IMvcP1Vt+Ojdz6N7OtzP/sKl/zwKn9i3JUD5x7SmTQymTTSmQwyJWmUlGQwYGA/DB9dj7ETR6G6V1WQ4xqfiyN+cw8Igsub5wP8Sr0PRU+2Df6i5gOaD1VUVWCX3XfELrvviM6OLLZubcSGtRvx4duf4eZf/wnNTS0oKy/F1Tf+FJN33wG1fXuhtLQEyWRC+dLmte5kEEnnEUOCnLbIybXQ17PGdwDoaO/ArBffwhcfz8NxJx2OU86ejkH1A1XccO7hrX+9i8kjxmHs8OHwcjmkUyk0t7biuj//Gb2qqjB10iS89u67+NUf/oCfnHmm/wgJ5xhSV4eDp+yOZ594GbvvM0XNY5TuAf4XbGe9eBPWTsHUE5wIu1jSnQVNlw7FYEhP8bI7yS5ry0sUU4l9vtC+XXlPy9vnt8VhzAYKX0G1r1aYFDhLWklW9xXoErLJCOpYEyVG/1D0Nyb8FopxSX2tq44kHyfEK3CeMfFPiSNOECWsOak9cpDxCWqSSvWB1X7M8i/8ttq4YTNee2E2Dt1/FAb0r7JGrP9yYsCGDU146rnXccKpR6JX7xq4FNI+15MOOZDY77ALRJnN3IwteV6iNB393Yne3mVUIuKR0Xx2zDMSXqZEyNVzwx6biNgW2INrwGainviVA5C8asVc+YtILryIOm+DtwsTCoFxdzCxu/gZVldPV4ZdsorWSXZ2dQIGPlEJOh5of5dY6J/1sl34dO7XGLL9aNSk4wDn+HbOHFz1Pzdh3tJmXHHebzH97NOw59TBkXYwWpuBlQBsfxoLpdzEVc6QbWvCl1+uxBGHn4lkUtiW9/DSI/9E+Yidsddu9f7ElgOtjW247Ee/xfN/fw25LvNqf2DiXCAVs1iZTCUwcEg/DBzYF7E1y8Tb7CHiAThq2jSc9ctf4YO5c7F05Ur85sc/hmoDhccM8WQK2WyXqtcfAuSgRSb9agJpYs/mpUuwcFUzTpq2E5JxIJ/n+HrxWmTK+6IskUKuswNP3vMUJh50CMaPqhFjosaGJx96Adde8UdsXLfZNJDptgzxEgq5icUYKirLMGJ0PTKpBOL5pLDfL1/Xpw+GDxmMi67/PTLpDMYMq0dDXZ3hI1+OH4/wPOITOqJrbOXUZ9D5mPzrmpwDajD0F2DD7dZ3FdhYJnQmC8Q252VWleRMUcSzO/tRWNLdiTItEzXRjpLvqqe79kVhvbQ3Stfu3GGls9BFHHmEXpEWsSfO5MgdAKlU0tBPUYgCY7K9GMUYsHjhN6iMZ9BQV6fsqCwvx09mzsT0iy7Cb++6C+lUCqvWrcN9112HitJScM8DGENlWRl2224S3pr1HlqaWvGbn92MNavWFfTBlk1b8fIzrxfMBwDJVBIjxzRgxpnH4cTTjkEylfDxI8CVtB/sRQC9TiDs13N7zU2IGP832MHUIVd7CTnpdAp9+/dB/7q+aG5sQTLpX1NNJBIYM2EkGkbWw+Oe0ibXlcOWzY1o2tqMttZ2ycgEbZe8TvRjMQbIRUg5JkBwBYlPsizNB/iL7GtWrFPvY3Cljes34e5bH8JrL7yJmT8+FcefdARS6SRaW9ox58N5uODw6YC46y0Wi2HG4Yfjy0WL8NObbsJNl1+Oa//8Zxy855447uCD/Sv9Qrepkybh6TvfwJaNW1FRUw7Aj4N4PIaqmip4noe2tnaUlpYovc0+YnMS2k7uAaOnc8owPtkTPhZVphj9bP7W04XKYufkiWKMK7Ri+12WL4aIRx0L1UWOqSA4CxJXsK++yiNMlTVJqN7X1ICLiY8oScBIT4pEA4iAZ2JCr/irzEzfRKyIniFIbetGJUAi/aJmZFIPv6ysxveH0MOYFGgCAuO4ts+Y5AnklT6UKpSVpnDS93bH+HEDiyLEPUnm6nh4nkWL1uK1NxdZ+MHVpEc+6y5fbuDHix601UDC9TUY339Mx5WYUDHlHOs5JgJgxq35KoNWT+kjFwKYdU4NdNJ+HRZ62Ke6MtFMpBQz3aFCRy4EMHFjnNFHEWhnuQhF70pQUStsNvWLTpRkuUA1Chhd54udsBez2EhBltYVpl8hcuoq6wJyl22FFj9oOZpH6c/MsRagMCfbjMYXaXw12db52hsbMXfeSkw6fC/EEn7W/kOGoLaqEt+/4Hs47/S9UFJdBm52QrNu2zZFDjQZIuhlBq1ht59j3bLlWLqyEzvvMAzM48jnc/j8jQ9w/S/uxt6n5xDPNWHy7hPgdXbhFxfdiKcfe0XJqKmtwo5TJmDMhOGorC5Xb8mOSgxAR0cWjz7wDJZ/s9qZJ1OSxsFH7YWZ538fO04ZD96Vx8o5K5HvyiIRz6i+Mrh/Pxyz3zRceccduPi00zBx5Aj1TKfu50BnSzMSFUMV/lAnqD01nIkYIVmb1jUhx9IYNKgKHBydW7fgXy99iKkHfQ/lGQ+v//1F3H7zIziZl6N98wTsNLkBLO7Lef2F9/DT865HtsMnmslkAuMnjcL2O49Fn/61KC3NOBcBGAO+/upbPHrfM6G+HD56KE456xhMP/kw1PatweYP5yP70SYxRvp54vE4TjjwIDz5yqtobG7B7y+9GPFYTC8siKrz2SwQZ2DyiiqXC6I0xCT510BGH33zhwvRNxWy+pl8uJdONq/xB40XcuRCCidlIies1mqA5U8XZtjbxfK3Yi+8uHCvpwsBYWN5MXhY7MTczmdjeZQN3b2DQY911l1TgnP4GCXGV8Kl6CMASbEAoHwiQ1GGDsh4JDkFAzjtc8z/INTaVesxqF9/xBIJ5Lu6lD2D+vXDH37+cxx53nlIJhK4+5prMGbYMPB8Xujpv/Cuvq4O1/zyTjxyz9/R0dEZ6eeepK5sF+bPWYhfXnw93n3jQ9z052tQWlFqcAjJyW2vc2tb8hHZtzkhH5SDaJjQDyzquYIx+wzMIZhDD5oYY2htbsO7b36El5+ZhTmfzMOGtRvR2tKmFmyjyqpfiUHi18casggAa59gQUd7dDtxzrHk62/x8wt+g6cefQ4/+dUFGDhkALKtnRgyaJDxNYOyTAY/P+cczLjsMhxxzjnYY+ed8ZMzz0QyFlN5wDn69eqFDEti09rNqKgpx5uvvoNZL76FjRs2Y9CQAaiprcYuu++AnafuoOYYkoPLNmHysNzndnsU9p20rxAGhpWl+2F4EFVfWB5bhr0Q0V2Mc819XHYH7gAolKE7BLRQWRe4d4ccF7Mq4nKOLcOYiIu/xm0zqpD8w1QedROqJL4AWc0naKBmO+LXeI5aklmQKNcEQ31j22YwUh+1q2VKQqdWD2VNnoNq04FCiJQLDXJSoCuRNNO6IiLyceE0ZaajKvlmVN3sPpDrCQhDkCDK2a/lU7EvN2OM4eNPvoHncey80zDD9XTmzZh/e2TAGZwOBnRaD7VYIjMxZafVkpxrkqjco5eUVHswbbNsS30hjazUc674rfQ5bV8AxnNTynPy7dcAWVxg4vZ74Qc6QWCyX5BQ9xUWoatjjRINKUG2gZpMkOO+TG76TI/ETgx3TVTpuTByG4UNtFwxV3YKAXwhslsIL126yW2XbNdgFLbQEKarPbgUnyTiSVokD2sWZXBSDmxeuxqrvl2P7+00AvK18F1tbVi7sRHH7L0TavpW+rEdpg7pvBShQWLNtxHGcYkpTOEjU123aetWdKZLsPyLT/DGE6twziUzsGjel1jZksHAXgk0N3UCHjD7lffw1CMvA/CvzB994kH48eVnYGjDQMST8WJ4h/Lav1/7CHfd8kjgXFVNBfY9aCpmnn8itttpHBJp+SxoHIm6arSsXYPq+mGq/z07+w08O/sNPPr763HfP57Cff/4B2YedxzpcwxeVxatWzagz5DJlm8oXnLQUDL8B6B3w0DUpDi+mvstJtRV4G93PoIVneX43bmHgWc7MefDL5FL16CEeWjN5lTZjWu34HdX/UlN/sdOHIHLrzkXe+w3GZlMBiyGUL91tnbisvOuCxyPxRhGjKnHKWcdi6OmH4De/XoBcSCPPDID+6Bx1iLku7KIJ5MAGLY0NePSG2/CEfvsg+rKSpzzq6vx4HXXopd4nEKOlK3r1iIxoBosk9B9AyZ+GU4B0zgrsVDhKjc+PEBWj6FPRPU5DmtuoQCfafQnv/DHGfhjma9OOM+RKWxCTfPbybUQSWUXs+hYDAYWWrAvZINLZhS2u8oVWqgIW+y15YbL4Oqv5o+UWtJR3R/XOYd6BIAxIJnUCwB+rDJaVO1LvinZZWAs5kC2M4t0KiUmw6bt8tv1qUQClWVlUAqQlEql0NnRiWw2/KqynWKxGCZNnoCGUfWIx2NgLIZsRyey2S5ks13oynahra0d69dswOqVa9HZkUU+n8dLT89Cr941+OXvL0MqkzJ8SMgRaUPdIUkLSycJv1PODH1ccbig2ZL7SK6qhxjC/+2+yIBsZw7PPvEy7rrlL1gwb1HklXhXovOf/0byPA8fvfMZzjzhxzjg8H2Qy+aQKSkx5icc/h0jo4YOxXuff47JEyeisqJCY5PIk0qlkEok0dbeDs45Ro4djt322gXZriy+mrsI5RVlGDNhBAA1XEPuqBiX3JQz1XbE4YEUxueiMLBQ/6blwvAwTAe7XFjdheRGLUjIfVpH2IKCizcmopSwKys0mIQBblheW2HXQGI7y9at6M7B6NVpZhBQueInJ7QKSiyWRKfSOhh1OaGcr6eqTz9DpIZyCdRqYqivtFM9aadT+3LiKFBIPc8q64KrHTiRw7QY4g9aj3k3hBgo1DGLLIkrH5xp/zDy10z6ds9YIo7b/vAyxoyqw4H7T6A0R2nhI62AbBPz1W8szvDqrLnI5zxM3rnBJLqBSYKtDYI+pkEg244x3caG7+TsR7YnqUx+61vJ5zo7+QwfSGxQPWibaDP06j4tY5gmJ08cgfZS+hBA178O35ATnPiDyRhVokT/oVxVyRExTRYTIu5hDSVY9nZY3jAMicIKVx1RE2y7PlqnjWn2ti3LtXBRaCLvwmGXDNfAVgxeygEYDIooyskPjSFNlnSnWDJnIbbGarD9pAZ1R8ymdauxtimJMSP7oLWxFSUVpaGEWd1NI+qhJJaArPhr4o3KInUTddQ1NGD3HQdj1qzPMPPCGaiqLkH/2kqMnDoJZ50/HbGkh9amNjz51xfUlbf9D9kD19xwEar7VZqxrLq8dReUVIsBHW2dePSBp7F1c5Oyq6a2CvsctCtOOfMY7LDLBGTK05DP8TPGwOIMlZNHY/2z81A5ZKh6jrskncZNP7kUo+rrMayuDvO/WUobCmAMLWvXgtcmkexVQZ3k93xxO7pGIabGKIofVYMb8Kvfn40n//k8vnz9dfCSMtz12G8xclgVGOfoXZvBpH32xtkXnIAcuvyyHvDO7I/x1ZzFAIB+A3rj2lsvw9R9dgSPiUVedVWbmX4C8MVnC/Cv599W+iYScYwYU48TTjkUx37vYPQd2FvcZSD9zJDqV41cBUPLmtWoGlLv28Q9HLv/NBy8++6Ix+PoVVmBfC5P2oQBHsf6r+ej/JhJ5B0GxFdSOU7Gf05xWEaZHve5jDo5BDM9GZDlzZHWSqrf6DunjLdfk6Iq1hVs67sMXanwxJTICeFTLiJJ87kWBmgee7sQJhUirYXsCbOlmMVZOsF21ROG7Xa58ETGfPHDpB6U84GBcw85ucgGhmQqSYZLfVVbclY/WQSJsFXKKXr1rsHiLV+Bidu1JRasWLcOV9xyC4454AC0d3Tgd/fcgzuvvhoDamup1tiweQum7D0Ze02bin889hwWL/gm9OV/1HeHH3MgzrrwVPUSVQ4OLy8/m+ffldXa1IYP3/kUf7zxfsyfsxCcczz9txexx75TcOixB5AJu7lEpvmIZp5yHJB71sgd4MmUB9J2UX1TVKj6OQj3YUE205XN4Y4b78En73+Bxi1NxrlkKol0OhV8twMn7catVgzdl3aS88RYz/PQ0d5Z9Dypd99aHDvjcOx/6F6494YH0drSAlRXq7HG4xxPz5qF1z/4ADOPPx5PvPQSdps0CXvuuCPy5GV/7R2d6OjqRHl5ORhjGDi4PxgD0iUp7LL7DpY+lONzyEUAH1qt+UoBPFO+hBtfwlJPsM/F+6IWLl381JZl2xGGXWG22HhkLxLYxxK2wi5CGmaYKxVT3jYiypgoI+08BYNcdlglCKpTU27CzdOgsxpdHTPKG5NGWl7+IXkoWBHpxi1KRv0alYTtTJEN+SUuWa+PT2RFWQEL9IU7DkMfMwWJrUGO1CTALq/zhMztfM3EubaOLD7+dCm8vIdxY+tQVVmCsrI0Nm5qwdq1W1FakkJdXS+UlqbAADQ2t4MxoK0tiw0bmlA3oBq1tf6boD2Pw/M41m9owuo1WzB4YC/U1JTp2CiAGbQljE/kSQCC9pmOCV3Sz0snRyIuGYkn67l93aZW8DEtl2aVkyG1L/WhMSVpviTbkkySgPSrJHFmtZcZ+w7bKTlVsUcLcaUrJzariR3CUxg4FpPCykThVtgkv1g8cmFnMfpELXIW0icMo8MWA7qjsz4uh2R5QA3RUDMOFULiHgHPw+YVa/Dck29i50P2xvABZQByAGLobG9HR3sb3vj7C1i+fiv+55JTkM6EtKuMH1EnJ3XZ5E/ZAK2Txnh9rNeQobj36ZsRSySRSifAc1l8/sk8bLfLjojH/W82r129AXM+XQAAyJSmcfq5x6O6XxU8eLo/yzqgiRYlJ4z5JObDt7/Am//6AGBAVXUF9j5gCk475zjsOGUiMmVpePDA4YHnOTqas0iWpJBIMsQH9UVHyWfYuvQb9Bo+Aowx7LfrFOWXYYMGoUG82E4S2K62Nqye9xmqj9gRiOkrhBrEzOHHbF+m2zbOcMhpx2Gf4w5D3uPIlGaQSMYAcOQ6WvHJx8uw0/F7wONd8ITsXDaHN197X73l+aAj98bk3baDF+Nm/QCY9XWHjpZOPHLvP9G4pRmJRBwNo4Zi+qmH4ajjD8DAYf19vZhe6JZX4Vkijso9x2LNy1+grF9/JNJp9KqqwjH77adi+dj99vNjRM2AOLYsXYLOCg+1w+tgBTbod0zlWCr1t+NMxqEReyrUtD9prLiShn/S/0hsyaFBn2I67sSW+7GKwv0+rEzYdhR3k+cLXQ0rpFsxfK4YDloMJoeVj9KrkP7hSXMEOY6quaVf2OJ4/r+ukHcAOHmb5B20n3M9caJ9f8iwgfjnpg1obm1FaToNMIbmtjbc8uCDyHZ14eoLLkBjUxPOvuoq3PLAA/jtxf7jNGAM2a4uzF20EHsfsBvOOv8UHHniwXjvzQ/xzBMv46N3P8PWzY3O8SSfz2Pd+o3+s/BCzxgYGIshrjA7jbLyMhwx/WAMHFqHi2f+At8sWoaWplY88fAz2HPfXVFeXa58R1xleFr2e8Y05yCDFR2+AlyEltc8TrpY3hVJfE+5sJXaWtsw++W3lT9S6SSGjRiKPabtivHbj8aAQf1QVV2JGJOPKnHy6yONP5GDmtBxj+tt4x/AuWfl8WWtXrEO1191OzZt2BxUkqSKynLsvu8UnHPxaZi08wR0dmRRXlOOxUu/xaghQ5DP58EAfL5gAW5+8EHMPOEE/GjGDFz6u9/hd3ffjWG//jXqevdW8lavX4dcnKP3gF5gjKGpsRkL5y1G45ZGTNxxPPoN6GPwaP0+C6tvGe3EyN9gippch6UobtUTTAu7+BRVZ5j+hbAzDK8KcWZ6PvAVgLDCUYILTea7s4pbbCoGwI1zkITC35MkiPRw47ZqSVdUX1d5Ne0FyOofIxVBg5MR08ZbW/xfemVd2uBzEq2b/xO2zzW4wQQtLVVsEz3856OEDXqqZww0UktZnSY+2ndkuCa6hbQDIffzv1yBzz9fhuXLNuLzL5Zj+vFTMHZMHX525RNIpxPYurUNgwfX4porj0W/ftW4+77Z+HLeCgBAc3MHWlo7cP+fz0J9fR+wGMNnXyzDZZc/huaWduTzHn5/3fcwatQA8bwsQ1TIUTKsSRkFGwIqxDpOj6g24GJQ11NpKlOTYNOXzIilYP20LAMn7x3QMasiV8aQFeMGmFpxa/IK6TPzV+eTVxC1XjJISHeyAkff/OgirkqtbuBEMWDbnbJh5YtdiChWXhhQdxfTCuXrzgKKFqT+wNyykc8cmNs2rsN1V96B/IDhuObKUwGWh2Rcg8eNx9nnH4Y1m1vw/TOORbokFmRfyg5dF61fozG5hdaISX+LQLQ8AjCOdHmJypXrzGLpN1sw7MgKvPXSm6iuH4ctq9aqF9gNrq/DhB1GG2OA2lKydb9nRMl8l4eH73kKXdkuHHrMPjjj3OmYuteOiKfi4PDgwVNyPnjhRdzxp5cxcNQo7D6lAR9+uR6/OOdIrHzodSQyJagcOFD73lrFYwDynZ1Y8cG7wMgalI0bak4sbLKk8An+5MD/8fFEXX4GMhUlVpszZJuasXpLB3arLMXLjz+DiQcehP61GbQ2t2PJwmUA/Nt899p3FyQzSXiQL09kqterdhJ1f/7RPLzx6gcY2jAQJ888Biecchj6D+wNz3FJm9x0DzCOsgnD0L5kDZa98xaG7bUvYomEWOgW2EsWSMA5mlavwvIv3ke/8w9FLB03R/b/Q9ybx+lRVOvjT/W7zZqZ7HsCBLJBErYEwhIIiyKbgnBFRHFBcUEFRFC5Ki4XV1yyjCL+AAAgAElEQVS41+vCVVTUKwIioBdRFEQRiCyGJSEJECAh+zJJJjOZmfft+v7RdapOVVd19xvw9ys+ZN7uqjrn1KlTzzm1dLdgvxUXjnZ8x81sHvBTcALm88IubgfN3OYpfeNXpPwuvx+i+/9FKoIpzWBPM1hcNGUF/y6/oou+RSYEqfoenHDfQcV9tRACMdhLAEXyTg2Lh+B1eAyRZPIYQvtwNcHcd/+pqI1ow18fewynHH00ZBzjt/ffj/uXLMF/fvrTGNnVhVFdXfjEe9+LT1x3He687z68+XWvg4xjrFm/AU88vwKfuuRMDDWGMGJ0N8449xSc8sYTsfzpVbjtZ3fh7jvuxeYNW1JfBdi4bhPqg3WUKiWSxownwUadlDh4/kG48P3n4bMf+woAYOmjz2DFs89j/lGH6F1mpUndNje24kf9wfRBt6QzViWrIX1lBVsE4J4hYzASZo8dPxoXX3YhzrngTAwf2Q0g2bCCVTU994D+t8mkKkUiwvMrVqNWqwaLlstlzJt/EC6+7EKccMqxqFYrkFKita0FBx85F7974C84dfHxEHGMrT09+MoNN2D/yZPxwbe9DW2VCq686CJc/NnP4hs33oivffzjEEi+OvDAo49i6owp6Bo+DI24jr6+fjxw70O49Wd34ts3XotxE8cAsdEkxbFCnfj1qbYIHPg2SIrOXan+q0lZ9ZuZnOeVzcLMZrBXLwA0o6S9VVpRBTQD0E3RpqHOdil1ff6MvuWQlYFK1wCzB6gI/LaurV1hHlJIFsCyWiwYMJNBoXcRdKAlhLmK+VTUlV041+E2uN+Cdydxnqeu0kkpMI6Bw+fvj6OPmo4jF0zDhW8/FpDAwMAQfvT9i9DZ2Yrduwfw0Y/dhHv++BQufMex6Ns9gM2bd+F/vvsejBvXjUsu+ynu/O3j+PCHXgdIYMeOfnz3P9+FceO78f4P/gh3/+FJTD9gvAoCfcLwIM2RVhpn7LbH7lc2FdKBpKtbox8Ndilb9etfLwwo2zN2A+bY09ZjUzaPMaQXL8xvZjEgR2wM3m0Lb5O61uXJFtniAJMqpetXkYqCZVZdSlknD5qhHcKuPJqvxkkVCaCb01EaMZIr1bfshWXUsx1jJ+AbN30ZEaJk15zRaR8xAhdd/i4AUDvqQYTQtewJkjTjWADcmgwK8mt3kUlYT52UqlUcOm86fv6D/8WmE47GZUcuwMrHt2FAPcc+YeIYtLe2Gg1Y3ylmwabnUZaljy9Ha1sLfvG763H4kXMhKsmRXndBWTYG8MBDq3HeRefiyYcewR23P4h3X3ExWqeOwoi3HYMXfvEARq+bhnHzDkZFfd9eSsKPGLvWvYKXH3kQpUMmYPRpRwIRjUMWTEFCv2REsNHqLkQLd5RyvQOVzk7MmzMJP7/uuzj6pOOw6M1JQNm3ew929OwCkLwzYfJ+E1jwKpkfZf0igKE9ddx/78N4/+Vvw3nvOB2jxo1EA43kZAFDJvOlAXVNcpcFRp5+JLb+7hEsu+M27HPM8egYOxZRqaT4CsRCoN7Xh41PLsWmjc9jzEUnozp2OICYHbN37YT3kYOolj/mOMfLmkc6+KJ6XnI9p2XL3s8X5UUf2SmESTwvdB1sQ85i5l4tRsJMopqeeDeR92oWWbnPCNSy/pifbr8aXy6lxFBdvQMAySMAaau0ydLYNwVc3538HdbdiTdfeAau+8qPcNShh6KjpQVnnnACzli8OME8KREDOPHII/GXm26CABA3Gqg3GrjxN7/GfgdPw4zZ09CQsYotYpQrZcw5ZBbmHX4gPvzJ9+KeO/6E237+W/zzH0+hrh7F2bp5Gwb7BtHaRbjqjhwzEqMowvGnHINx3/gxNryyETt37MRjDy/FgqMPZboz8Yc7Ku1YBrqs99pjX6GyZpECevFCuGp30sTJ4/HV734Wx73uaDQaDXVayoe3fv5mrhL2mS6O0SkwieS9V/QVAjftu/8UfPDj78EZ57webe2t+kQB6ePEUxfhyl//CUuefBLzDzoI5SjCx9/zHkybPBltlQokgKkTJuBH116L9Zs3Y3BwEC21Gp59/nnc8+hDuOprl6ERNyClxISJ4zB7znSMHT8a06dPQ9yIk0k6s09qh+25c8OFVMraSfeVtfTmibOK0grRyTtVkCeXj3YWHjaDs/ozgPyvK3woZYEz3fcJlhfsutdEh6eiMppCMMGjgOVq9c6BKcKqqAEfssAc45QA2813QdkQMJM9Z+LJJ/2CQE6qXRtDl8AvgtKNqpMMfsk4Gbps48dqK/2hxPdxrDfl83ZIptGQqvSc0ukvdTk01MANN96PpUtfRhxLPLN8LaZOSY4VNeIYRy88AGPHdqFcjjBvzmS8+NIWxOrI08Ij98fYMcNQEsDsWROwYeMONOIYJRH+JrLWCn1jlETX+jeOmU+JrDCMOQPSFUD2amyNchOHQcf+7L429B26QjBZZOpREfC6UlGzdgzc8QkmlyFEMiVyC8cGHPth+iEZTcDvmejTXMQTdhu5igV77mTdl0JHP0N8QjxDvELlmwku83ArbxeL6HM5mznymhBKHqGxY1HWP5LdhmDRFZ1UgmWHsWwYe2ODqoHYG+ykk8c2CJsF9A4yvXRT26JkdX32zviKShUXfObDeMsn66hUKyhFEfrZm5I7hrUnk0k9KN2QBNauudEPMP3AffGNH/w7StXkpYExmO0yXUalGt757rPwxNJlmDrzABx0ZBdGdVchIdG633iM//AZ6Ll/KZ6++zYs3zGA3lorSuUyptWqGBUPoN5dwvDzj0TrARP12/gJ97Ufof5ifiXl00inBCmSjW9lB6XWDlz97c+gXm+gUquCILU+VNdvsq5WK2jvbGXj3Pgg/o4aCECUBD585TvR3tmmbMN8btF6V4CqS33PHVNULWPUG49C/6xX8Pzdf8PO+/uxfE8DoqUVLZHAgs5W7Bnahdq8KZhw3htRHqZOgEjm571Bs2s+TgeTPbE+dfUFUB8gmMgmua/WOCyNH9W267TfN4RknAT89P4Im18aF3x40cxmDqeVl5cV+2XhK8no0szyB0XwOiRLXl6z+CqdC+GYk9kUIDoApMTQoPMVAHZsIGVWFCsIHp+YzQNuK0ICi046Co888Cg++fWv4z8uuwzdHR3QJ2iouBB6ETSWEjf86ld4csML+OJ/XY0GW9DUX7+QEo1GjJGjhuP895yDN59/Bp58fBlu/vHtuO8PD2L71h7s3N2Ltu42I78TpuhIWAJjx43GzIMOwIZXNmJosI7HH1mKgf4B9TJWMw4onpR8RLNBbMVl7peUKIegXGcwhOB2RYokG/Q5QJaqtSred+k7cOxJC9FoNFifs4VgLbP6JbhtKP4S9pebWN3kh+ANt0pJCf3VGErjJ43Fee86CxdefJ46kWDbNcWBE6eOx9s/+BZ84hvX4afXfgmTxo7F4erFqrz8hNGjMWH0aAghsHHbNnzmO/+F4990HGbPm6EWvwUajQaeemIZ9t1/KkaOGY6GTJ/k4FhrPTVNDj4Q97qpSFwFZGMXz+c42eyCKZ9bu/iaN39uRsai7XLzynmNyttZcsvzfLfxPD/vCEMI8H2dW2hVxh05HHiENjXwVT5tj25AoFfl3Dy7LkEQp08eXWjgMSGDZDLo0wreyRuv68gNAcEnvRIGKfQM3KZLA14KPmFlLooHZU6woqNG0odPwVRDkI8xYMYd3y9veRhPPrkGV11xOrqGteJLX78Lg+xb3LWaeRlOVIr0s6cAUKuWdZBYKkXJpIbJ5k/KSbIdMXvimj7XQBP71LdimdvVDdL0KPIXzF5c+2f0he2ouD4l7b5aDo5sgIr5+oLZljuhkcyORbrNho/Rig4VmE2l9SxNm4XV65ouT6EgsZkVXR+tonzclIVrr8UpqLxFjDw5sxZG8xZGND2RvHXdiorMSp15RtmOSqCti5k32W0Si0htHqmJNK/jF1LRpjYzSyYQYTZLdq+tXgd6BC6sEAAhJEQlQq1SBaRMJr1MX1EpUhib8HF3iTU/SeNVlREymdRKwlT1D9OlgADqDdz3yzvx9W/dgYNPOAozJnfiO5+/CePmH4uf3nA5ZNRAubsNI884EvKYebj6rVfi/vseQ7lSxic/9nZc+P5zUBo1DFGt7BlG/L0J0ukghiiCtYvP+kmnksZ50r6oWkK1WrLIWM+/R5GZzOoFdQPuGg0lUK6UUO5q0z7LfGGE+JO+mA4t+RSOlQTaZk5Cyz5j8dLvH8Y1F30OO3fuxvhxI3HPb69H95SxKA1rg6AHjWHko+7muKfRm+OhTmxccWymsUD64p8GCL2hT+lcjw1hdG00BQ+kOmOK9yEAEWXvMnG8cAPSLAwqsgBbFAvz5PPJkhVgu/eL4nURWfIWMrICbiaYsS3LZ/OYzcRPVIU/AlCtVJhVMExkp3tgKOk82+8m9SUEqtUKPvzJi/HlT30Tl37pWnz0grdj7vTpKJVKli6llFi3eTO+84tf4OlNL+Lyz30IY8aNVptKTpsULhNm11prmH/0ITh4wRysfu4lPHT/PzAwOAghBOJGA329fWhpa0W5XDJYKcwIaGmt4bAj5uL+e5KXhK5bswG7tvWie2yX0rnWggEKwhxhI3ZSjsYjjXMe66u6upJAJARefP5lfP+bP0G5XMYHPvYuVGtVLHtqBY5ZfATzTeF4Zv+Z++KUM08w/sAyC2MXiWymD42NSEtuq385X0G/0huJUsrkM34ARozsxqlnnYy3X/wWTJ+9H6IoYlGr2ZRK6CUbXyedfjzWrd2Ai7/4OVz1zvfgyHnzUCmX7XhQCDTiGE+vXIlr/vs7OGDhDLzlwjcxysDu3f1Y9uRKnPSGRVi3ZiO29/RgzPjRGDGy28TI6vQaX7wxrpvFDpnBQ34s5oubeL1mYkb3fghjsuQMxbt5/LL4hni5NFPvAHAL+4QIlfPV2Zu6lF9ksp8XxOt6Ji5MHdkxn/FjA9kaX/YAp2+jc/dLoM6pJJhmBigFz5qSuqlX+TQ9oalpzipISkCOxWzpmbkVNMRMh0IY0LPjivRCgwYTz6opd1Q06U6uadfJ3x96EU8CQkp0d7djw4Ye9OzoQ1trFa+8sh1Tp47E/tPGYu367Xh2xXocs7DTSyszMbPxrZyyTNiOmR+/hHaiggXDXN9S25S0+srqMx6kWXp0Qc7sXlL/GqHZCQNGw5QLBCsO/cR8yHMa58Gdqb1Dn9YdtwMuEN/9kp6akt/POjPntIHf82FKUeBz6+bhhg9/ivAN0d+bBdUscG9mMSSLV6CU84v1F7NJwQtJmrSosk7Qa5J3dmXnC07fsTg94XZllYa29UiUMDSl1Jd6gLJsrxb0BE/hoPWCTdfOzThPj0LlC6TEsr89iKs+9n1c8KkrcfH7F6NWkoj6e7A6noxISDRIdyWB8vAOoLWGoUYDMhKoThqF1kmjUde75jTuk982dgjm+LhOYOmWFi+M1zF9odvHFoWydr04BbcE8XHL0ZcKAMFIS6Z/G8lM3USmqKWCyshhaAAYqjcQl0tonzEF5ZYybOThujLXCZZL1r8y3X/KfoQbJxAN5dhMvpWb1pH1eIONzf4xKm38Jvt16RbEA1+gWjRlBcBuejWYnUXDLR8KmH0no3x1szC7qIzecnzEsRiUYkE9cWMmJWOJer1OtVCplpOKPH6CsGILGyUFsTPyOXIN6+rA1V++HL/88W9w1X9/C9PHTcbx8xdg0tixKEURtmzfjoeffBKPLHsK0w47ANd86ipMmDQu2XTRbTCnDkwMbfOqVMoYNXoEOrs68Ntb7sHiU47BKy+vx8Z1m7Gnfw/edtG5aG1v0RtapK1SVMI+06boftm5Yxd6e3dj+Lhu3SIT05iW68m24PGRE8+RltwYmvVBfaiOe+68D7PmTMee/gHc9ovfYmhwEG+58E3OGLR+WOmwI+dh9NjR5uWHMC7I6EqozzRblgILy63+5OcHnJkJtws2Lmu1Kk48dRHe+5G347CFB6NWq0LSG/sZHddfS9V/7/zgWzFyzAh88Sc3YNb4fXDK0Udjn0mT0N7Sgv6BAazduBF/fOjvWLLiGZz+tlNw1ltPR40+2ygBEQmsW7sB61/ZiD0Dg1i+bCUEgB/+589w+ac/iAmTxiZ9KUgW1UY2XozejFcqkprd5AHC+OPmNRsPhlIz8W5WnZDMWfy8CwAhQkUn28QkK4Auwi8L9HlwXEguYYZLqmRoIAfuuwsCbgkLH/Rv4VQhmU2AYYdNigcFXjwO0e2BHZhpWfgRQPMOAC2Hm4R9l0ETk99bzeEbKKjLm0BMxjHeeMah+MK1v8Gjj7+Id1xwDE57w8H4+Kd+iTVrb4SMJdpaa2htrUJKoKWlglqtosnXqmW0tCTPora0VNCox0pqoFYro6WlomTiXtcnv+lNHjgnNgVLv+6k3bRfGH0h1YNpHXmuU/oPmaLmQ/2jbDo02H00VZvs1rCyVpuz5aebafuxLwRjFRqqRSblofI+sMwCaB9u8EWULNANgXOW/M1i596m0KJB0YWPRACf5UoHeDRhx1Z4JAvlsGlnVVhYFmBuyWsKS1OfyWSXoz9Uh/9lTRIU7gTwkDVZ07Pq8mUyYRfniwtI67t/Rw++85WfYMSc+Xjv+xajWkuC/7M/cCHqsoQGeyO9V0epQMLWNR+7ZpHP6IAHV+5Atc4/6WfEeORFtPN0phHSzpAKtYSnrLAIMN0xRbBJhjXj8Ykj3ToeP8Buaey2gdKmqQUPjHchbBkzDD39krI8+2G0vPqlZhffcMnb2c8KevMmy3t7QsqXQvEgx2tXVhcHeTwaKuOTPwvfC50A4EONm58LSczkpORfARCoVCpWT6fmn/BZgrIYy9fb7WjvbMdFH3kbTj3rJNz80ztw/hVXoFqpoKW1hiMWHY4jjjkMV150GWbNmW7qWcITlhAupBE1iiI89shSzJ4zA8/881l8+dPfxhev+xS2bd6O39/5IM4+/wy0trd4vI3EmPGjEEUCjYbE7t4+bN2+DVOiSWryah6TSWQjaOIbbMlNSQtnNhSaSTePsXVVibPPPw1jxo5GX18f/nDX/Zg+axomTpmAOE7euL9541Z0Dx+GWkvV6Fb3kcD0GdNQqZaTx+LYQiGHXgGS2QVk1j7p8VRWv3JiHL0kukd24eovXY4TT12ElpYa9MmV1JyB17TplEolnHXeaVi4aD7u/d1f8P0//Qarl63GYN8g+vr7EbVU8Lb3nYsvX/U5TJ46wcz7SEYh8OzTq9BoNHDQwTNx9OIj0NfbhxuuvwlPP7EckyZPQEM2GF/yO2ypQ6TlclNWzOaO1VBc6BvvRbAzlIrMZUN0i8x/Q/fz+FFemV9kNcD97avjA+es+7yR9LuIUvOOYXjrsAm1Lm8yjdNVDtw8I28Gn7RqSbWCKHRd/nIhU0ftDuvJuxp8dJRbwnpEwIx3FV4KQ8WN2yTlWwNawnoCILb7IVEY/XFAi+sE5pAUzzVHhRQvaq/0O1k7mQBJSuDIBdPwq59fgv7+QbS21tDWVsWt//thrFu/HRPHD0etpQLI5JuqH/3Q67V9xLHEuWcvQCOOIeMY77/oBEgAsQRkvYG3nneUehZSQEojt5t4WAwIvZuvA9BULxqHKh0KHEIpkBZUzrU53V3us2v0fL8BP6pvvIE56AWp+kOYMkRNUjTJfLN5WaR51MC1AeMlmTxESrD+15M6sNV7/siDdZiVtdm3fJadQjaVNfn3lXfvZeW7tuxbwXUxLkv+/LGRTnsTNGdhoe8URFpYNlromLJActydxUjuwzLQNpY+CcJPwNg5XvYM9xhxPjuS5n4yXKRlx8Kip8Y/p6dfvprjjBUe6ACSMSBcJnvWY5yzgV0OAF5Ytgx/e+QFXPrfH0JLi8GYlo42E0PLLA05jXTngm6nCPcmG5X80S6yCV3aqZuik5HY+xGM32PLJZIdfmauyw5zuW0a/5lUdyfFGXJp3BUOH8dWBfPT5qaRibXFSCWM7RmwLiSXdzJr2Y9g9mO3JY8updCENQu3fHlFFlRdGkXKNZN8soTk9t1rNhD3lXfrFl3goB1e7TO1D1X5cPy8tL8CUC6bfTry68k4EnyoMV9MFiINdFJ9MLtVcdiEKeNw1HGH45tfAAaHhtDR1YErr7kEs+fORL1Rt2MHJ3ZOYMGMMdPGJLc+VEckBMaMHoUXVr2I4046GtNm7ouukcOw+A3HYsToZEd/YM8AXlmzAfvuPwU0IR45ejiqtSr6+/ZgT/8AerbvhBCRfqmdEEZvbhxsjT7eb8I+AyvBC1IrBEqVEkaNGYmdO3fh/26/F3PmzcLsudPRUHS2benB5674Kj7xuY9i8rSJEAAGB4fQUC89LJVLGDFiOOszks/4DN3vDm9Y91WcJsH8b/qdB+77vMiJjBk7CqedfTJiKe3TwNp3mZgwkdXEnsQpMaIYY8ePxgXvOxdvf9+5+N51P8G1V38TUkocumAuLnjnOegc2cFOiAjTF1LiiSVPYeFx87Hw2MPRaDSwffsObNvSg7ETxqjP4gKREFj93MvYvq0Hhy6Yg1j7dfuVqsLRGvEIxTR87GZhGr/v/uZ8Qnl5yYfFriy+tuRhn9uOLAx3y0aUmRXA+ojmCe1blW1G0aGGZCW3k608+p/LKKXaMUmiLrPjra5lYsja7UqpMFXoslScgFDqMlIHB4n5Jk9gUR0BWkBgsgG6LLReFX1p2qE0osvA6Qsus5RMd0L1i1XC8E7anPBP/JAwn0hmQTaH++SnoqAdZU4/qb+xBNraahg5shNtbclu/sgRHZhz4GSMGNGB9rYa2ttrkADa25MFAtJna2sVHe0tAATa2mpob6tpum0qj2QJLm7pv7xdwuhVSgOQXP/STH4TG1J/GV0zQTf0dXmhySf5rB/1b8bP2B+DbM6P9A6oBQ+KJYWWM+lbZXlCqnyZ4pPIYxafzBgxYiX3kuBBMj5SB8AsAJHQ44iyQ+bhwxS6nxlgFQzqOE33Om/njGTIuyb88f3OAmgfboXKuWV891xML7IqnBQEdRiSCaIJSYRTzPySoOf3aMKs+RCA6f/NHz97hmuS7JPqspBJGFCkiTfZtTYyJY+Ww4pas+UgFumbguGCHukauwkr9aiXVC75/eSfHsJgywgsPnZ2gseS5DRNTB10SCvJ6IefGAC7r/wNBYOSdKgGrbB42AElL6spEM08PyyUNPr9CdQXMHalfYS7BJO0R5L+mP0IJpMJBfNjAl2f2ZRZomfjg9pvCaTsSS+kGn1LQb5cdaI097QiMuSzTmJo7UurhJBuGw32I5VHzbOD3NAkOBSf+f536blYFIq5isSURXGPy8ll5WVcuX3tDsnB8/M2qZpqq47JqL8ZLTg+HInVNGSs354PJI8AWOc4GRySeVIwQXakfS2d4mF+3n6UMcnTCw5Idu0hRPIGd8DYOXh8q2gTb8nHJnECRCRw4qnHoWfnDuzo2YUjjjkU9UYdXcOHYcy4UWpcCSx58HF897obIeuEO0BLa4t+L0EcxxjYM6hfeSCUzoVk/SpYW6Vk1wSshMsG6+gXxWEEpwIC27ftwD13/BkLjz0csw+egXq9gbjewI7tO/HEkqewc8culCtlxHHyRYT+vn4MDiZfkqlUyhjW3aF1SnISdpGf1DGi1DBitEfyMh+R1BG2nyQ/xzWvXa6EjE0+xfc6TmT6oMqk2wSDCCeV32vE+hOGxhwlW5QxNk7+c/fuPqxa/jwOWzAPUamEKBJY8cwqtLa1YOrUSWqelNjdLTfdgaceW4YoKjH/y3wpc+M8ZWGZW0bL7cRpbioy/9zbeqFYMwu3QljolvX9T/VdeSLKCBXyAZ/72xUkb3W2aKDuC1pDq9qctp++CW2EUK5fRUH0HznlZFdVo6k2OGlHTdARnApmiLbBIxrswuIFzptkYfyT4iYgSfiqQcgkIvoG3ZPBF7EjABL8bZtu5CutfyXJyYMhS07jhgTTj6lmg38wSfYCJB1E8Hx479GEE2rySWUSXJBaFZqsDlqzxXHYqjbTirHSh0JVyfpM5ysbYNpRJqFsluxI2O9aoP6je2STqeBckE0aB2bzpvpke6zBQpj1GQoYTETOuoqFGJaJi9QJFfLAQgUGXG/GxbE2alsxOxZ5KYRJofHv4k4RHOPXPkcQwhmfI+F5IRB3Mc3N9wW0PjldHWU5A598eYG5bULc6ZoxRvaTDDN1OoA9p6onNzR+dB1jr95kGYixOx3MkQ1petCBAQUp2rZNawxZydrhjpWUIugkDesHFVhqK2dbL3oySGIwESEB2RjEM6vWY+z4yZg4voMzUuMzAbO+rbsxuKeBzERySQGmEJjVAyWjDiKTctpWHGw1MGAWCkF9SirQtANRmNNkGvMU5DpvjISxBWnxFS4xA1xWX0iSM1dHnJ5g7XV0oQNMt/OMuBpBnS03qW2C0wvLJiTFIGRDrN0GPFX/mr6l3WQJ4e2DrEXGZlIIM0KY5IvPsuI0yg8F5aF2ufR8gX4oNuX0XTmzAvxQ/OkutngTiyEkwBYpAde+pCrXaDTQYO8AKFfYS9esuMTcszDKijEJl1R7qL2cMewFgFIpQlSKWK40vxVN2szSY9LqAzsmiKIIq597SU34JidH6FX2wMAgXlz1Mv58918xavRwbN26XQtarVZRUnLEcYzBgUEzbgXFFma0aimFtGQh95EXe+j4XgA7e3birlvvwVGLF2DKtEmoD9Vx1233YP3ajXju2dX4w11/RkdHO1Y9+zyG1JdQ4jjWJ26jKEK5Umb9oJdVdRuEklO7LmHmDgRdBH9w+tQuy3HQzAWsGFH7QYPtvmTZjjMfMLFgdtJVVNFN6zZj04YtOPCQmYhljEYc4/d3/BmHH3UIaq1VrH1pHXb07MIDf3oIjz70T9Trdax9eR0Q6WVfJTuJ7h/XvuTiYCheysIPFyvy5qI+jPTJlIVpPvp5C0YkUW0AACAASURBVJhZv922Ul7qKwChYDLUMB/Y59HzdUQzfEP0Mne31IhisGBnATrQsGJDNlYsyrqQ2WXlAzK5l9ykxUg9RJ0Y2NTnnBQDXVaYcWwFpUZg89gCEzMmYVVVaUBHr4SSbgxOWG00nJThCFsjXFduiuMYW7bswvoNPYUn4v+KJASwacsu1Bueb6LqoJ6uTV841mYeWdV9YfTB61u+XdfxAa9tk1KSTSunxY7p6voe3pwPZ6KL8OO+SNflbTO7tzD8oOprwWC3W/MxutSfF8uxf19qBnfy8CQPSF1aoYl2EVl5+RCfZuiFMHZv6fFrIQRkbL8jJKEHCP6CMl1dG6K+Ftaz4szrc1CQalKskDFZ8Q84M/2YCccpRssICDXzYsGSmclqXoIWdW253aOgXlkgNZu0E1C82WMxZjRINUTUro1qS1yvY2ffbrSNnoqWCKAwuK9nN0q1FtRayxjc2YPPXXYdzr78Yhw5d2JQNmvQ6Qkil8+WlU7qmN0/ZmOAkZfGk0ND65h4ZI1fd6BrtSeVzUI3U65+LwP1O+mOY4UwZbjDC8nC2sTCSMYXjLfQOtXiu48FMJ1LqFNQgtMXFj3zRQCfbDQGhDU2YK3GAJZT1gvATF7GIlkML4Z1oQ0WnuerF/rtw7xCcVkGbd913n3KK7o4GqKXVz9PBpsYmFkIK1Y0/Ix/bjQaaFCcIgQq1QpMDMf8sq5MtmAFocY+BGuPE9NRGhoa0r+TXVr+HinWZl3fwWI35uFZUmL5U6swcfIEDBs5DJJ9Am5oaAirVr6ARx9ZinMvOBNbt27DyDEjIARQqVSSz7Ei+VRtskjBmFCs4cZkcGIEkM7TdXnrqH5/3x7c/NM7IBsSP/+fW9Ha2oKNGzZj3IQxeNO5p2L8pLG485bf4+jFR+Ck047HUD3RnetLNX9n7mEwi/GXdnylc4JzBac+YPwq718NoAo7Urqy3Sk3L1+clpojBBLpPCpHePLxZRg7YTTGjRsLQGL3rj4se3IlrvzMh/H8ihexu68Pc0aNQN/uftQH65hz8GxUKmUFhdyzMtt2+eXgk/vbdx1sy78wHtubOfBrSa+8N6vDPGUdlwqlrDJuXhF6XI5gWQVEBiB5cGLu6zDBCV60r9V+lwe3NNFhdAz6aTqSOW43X2jZhR6gfDKveTInouMFC/MlIiFsOYySkhIULzqAY7VJN9SRT5j6mqvTfiETSrVaFYgquOJTv0KtVvGN28JJ6/9V1B8crGNIlpO3oIIdp1T9IID0CifvJwO1KWSkxzl0fspBepyz9duxDVZAwqkPMg4RoG8mJbq+JRNs29eN0K7Q3CVb0RMqh6fWLsnPZTFHi6Urv8eLuLsrWcm3qhrCCt/9PFxxd5j2BueyZGoG45rBv2ZTo9HA0MAgIwRojNBGTciifku3H5N7HEPS41UocgUjCMkPanOahGHKnog9gTNNoBgvM7HVDWRlcmSgsSnTLaL7mo/WlxkP5hA+EFUq6O7sxJ51PRisA5VShN5NG3Dt1T/A6RddhMPndOD6f/827r7nH9hdbsFzxy3Guy5Y5JGL61EPUIPBOpmTbabl5OecfqB+p7ISFoZQHb04GdQZ0xLzn1rtAkxntq40H6tvRLqtToAf7ESrTb7+87WC+TKqKwSDShYM+uwMdNg2xFPV1dlmIcDUtxvlG0t8zCWlJQYHBlEfGkK5UjElM7AldCqK56W0U4AeleP3sni9WtzOu1fUpxSRqdkyvjhQ44l+BtT4SgGgUTePAAghUK1WnWHkYHAgjjR4R/YFE9OBLgAIyV46CJTLJZTUAgCNdRoH1syQjNjiw/KVnAODg3huxYs44phDURIRhmRD1+sc1oFZBx6A1tYWvPm809HR3aE/75yJMTyTx08kC/VNKk5TyOOJmUh/27Zsx6EL5mLBwkPx8IOP4raf34XZc2fg3AvOhIwktm/uwYZ1m3DQ3Fnq04asb/gYIHG1zsD6G8ZVWfGfRUxT0e+RcGXmWhJmcV3LomzO8GHCufMVFk8yxOcu1WqXL3Gd04LG8qdW4sC5M9ExrE2RFxg1ZgQGBgfw4uqXseikhWjvbEUUCew3Yx8cumAuStWSNXZoM8C7KsF5a1UUn2P67v+r4rEidYvKV3RunJXKRVZoQ4F5aMWjCE1e33c/a6Vl75Ia4BIwuw2A3umi8Qd+yYAMfBAI829oxcWVmVb8CZyFXUemVveF4S95We4KOCAz/oy3lNIaudbz3E6bEzGdAWa1g3bSrIY57Zd6gXP8pLG4/sdfxq5dvXg1SQig0ZDJ98pfTZJA+7B2TN53ogY1ODpz22cWa23LsKJgS48GlE28yHczXf3yH3aHkK/gO/L283uMQKrP2A4Tz+f9qxsr7aBeOH9ZMKt1wR0ZeDnSmXm0QQiukzAuZI330LGpEI0i97NWbIscvwrJ6bajCH69Nhjnl8XFb86rVC6hqr6mkQhCkCIVZCrbcHASUup+1n3rTMoSm6ej3TAYSHQ8iab5ib0LtnOtKqnAyGAht2X2bLeybWnVgW6LGQZuNMlkEakflqRpfdKJAF6W2X2pijPfuBj/d/G38V/X/QZHHjYat3/3Z/jrss246LPDUKrWMHpUJ/afNw8f+ujbMXJsN9LnMxyRqHnUFsuHmT7z2i90QUaT65VjCAtGs0xV8xfEWC8mkf8z/WAjJnlAXt3sokvdRPIx+oRGKCS1ZHHog8Jbu316sUm4fesGntQ+n5zCohZWFdXn/UZ6SnTGg25v7Et9B4FaSxWVatUa90XiMMC2j6w6RemFMCdUPxQzFsXdIvdCPLJk8uU3G5taPt+yV7I7WB3bqNetRwCqtYq2JAHjX82cly1wCrctnjZbcWTyky8AlMol8wiAFtutD7jjwT7ZY/LjOMYhCw7CopMWoiHrbIwnDVj17AsYNWYkuru7UceQljWWgUfyFBAItx0aIASMemx8pxd/8pgqgQCzYDBxynhMnDIeDdnA/KMOwRHHHpbs7qvJ9dqX16NWq2L8xLF46IF/4LAFc9HW2YYoiiAishnoZ+WFrUhoKanvuM50Wwi76dFc7tcUBauKO4GRjr5EOLZP2aST9Gk5hMtokgwvkbyw+6y3noau7mEQpQT42zva8LlvXIU1q1/BoQvnorOrE1ICjz28FAcdPBPlWhmDA4PJyRdpY2CIdd4Y3pv7RU8wFcXEPN6+Mnlz6zy5fHV4sh4B8A42D5MQsPK8osGxK6jLo0gnFOsARU8kYKafy6aQU4GHDgk8kyxr6p0KXiwzNXbKg0OLYnJNga25NrtnVjCk25pc6+AVwoAakpc6RMEBKqxYl/DPYCC1iQXqdnWnDbBabWROtFEqlTB12uSALMXTwJ4BfP7Kr+Mjn3gvxk4Y86rpAXB6y9xz28R7ntqXBNz2YggbOW647HC27YBKMFehdU9hpJ5TMYbpwNJIndBL9yDJbfNMaginHc4Id3ga5yuZzL5gl+uATc+8Fpo1jvMC2qJgXTT5MM2XQgsFrwa3svjm0XVPLhSSiXecxhfeJnPfxAlp+7KDRPteEpsKf8enksE9+8iqYL8BvTrHMNYiT5NMN+ah2ClrdhZKbIBwP2Dx8xg4SXb4mafglxMn4Y67HsR996/BPscch7M/PhdTJrYhQoT1a9ZhzvHHYfbcfQARQzY8QnLgEcJ6D6BwuoACzZRMVl+ke9L6q4mEygeSfjzD7QCbgsE742CkwiS3P8H6j/uuoAhgfS34JNq1FTZWqL2CE/FwoQUqZqdum0JGloqh0gVSi7Lehd8A7bwdLB8OFAl08xLRyMLEvUlFcK8IljbT3lAZV79ZNHicqO8RbTj6R2JLQ/WGfQKgVmVD0Xh2s2nECLNxzeO6dNxmxyn0HDsAlNUjAO7ylRvrue0xp40s1EdLSw3v/MBbIaUEvT+ORnwcx3j26VWYv/AQbNq0BSuWr8IRiw5LaMmY9R/05JpLJBUb00bmO9jvVDvY5Fe3i8W/XK+xehyDsKOtrRUjRg/HQ3/7B2otVbR3JDvbJfbohJQx6nWzqMLru4nHnUa3ZK+mv3hTpL4rnfomPpVWeVg+22+Pdt/yhW2jl4J4y+K86bOn6Uyyu0lTJmDSlAm63tDgEF5Y+RLecNqJeOKRpwABHHrEXMSN2IlN/dx9GJM3x+R5eYsHebFpKGVtJBWN5bLohjA8a9GVX5c50WaBlTMqAvJ7o8DQgsLenBBIf9/cmaalgiR7xKZW0LgMoBVQS0qLYBJ38Gs3qjbgnmoR7RLw0cDbklrxc+rCzeJwYcOPFRqxCMr//BmJwWV34cyDwF4gtGFOQiJChFtuuhO33HQHpuw7CRd95AL9ZtgUIU//2IjrTss9/ZMSLd1L1vNT6jo1gVa8jfroFAA7CSKYw6QANUNJXGZtMbrfafxBOT9XBeklAd+o0eNAz5JMn1u7t8zUDE+a4FObTBuFt40O75xxvDc4EUq+iTLdb4ZWHqYVkdmVK8vx5NF9NXWTTIA6mNuOPYu0bdPsYjjXlC/s/MzkjhttU2oMcptiMlnPUCMn37lf+M2UWj+JXPZ4MuOFf66Jyw4hgVKE/efPxeWHz0nI8YnmQB+WPv0K3nL2AYgHBxGXIpT4N10DuiK5aIfKSMSuhX0tRLrfUrQB9rKp1Aw6M5H+Rah/hKe/IJCaSXMdWrZocDVLHt0PQrC2Gjs2fZOWTeTJClq4p93ENOYXSoE2W3p38gqRDSwEhHCgGWzJ4gn448B/Jb7/q/Dw1ehCMVW2lx4/PJ4yMYZAo143XwEQQp8AyGqLvhYWWyOvYzZC/00y3EcAolLEHLUR0sKNlCm6ywrmPpkhH7NEfvK+k7BuzXoseegxHDx/DiIRJYsFsWQycD9tNsw0rlocdRRmycAiGEtGkbpmbeCxjsLYA2bui8v//QOQUqKzqwONOEYURfYCQCytFyua+M/2Y4J1mJlLwOlAad4fYemZytsxpEjJnvZVvn7SdDxxNY8xsxLXZXirJ51K5RJef8ZiPPvsKkyYPB7zjzpYf1LQljmHfwB/Xk0cxmnm0SpC280rijFZi6tZNLNw2FoAKALaLoNmQd6XslZCQnnNr+Q6sknonXPCC+u7wBIWX0k8+eRPCOe9UiZQoWCMj1u9ok9jjwdnUg0ZYUITewixgFzV5TDHh3R6GYINS13JDHfw+vTiNl6W87cJWzz4O5kk31Fhxe328/Kkb9PGKIqwZvUruPE7v8DAnkHc/OPbcdzJR2HWnAOSlxuy8tQ/HHLc/pH0zKRuH+svOG2D6S/hyiucvhSOy2H9Q9fu0g7Zmr3r5fQP42FCVvaX2xCTl4hZtkf9A4/8nL/GeWZfVF7Y9aH063dLvH/oDp9U+lOzu1J5ZV6ro2E+mq/FUdkQfx/YF0lZCxiFTkkwozFFNOAxo2Ey510X3vlnvPk1txkePLOSzV6THYqsyX9W/OK+kNMKpOxfqRzht7NGYwh9vb1Y9diTuP7vf8LpF52PGZNHZshm6AGMpg4Em+snO9NCK6RPW2QnV9/pF1/l9Rcyry05s+bZTuCsAVvJZDfHI4uDX1a+a4tWAE/XRRYBXJ0Kr12l8zIoejCgCF4V3TnKS3uDfaHUrNzN0ng1fHOTsk8JFVfxmFPYFkm/G3X2FQCRvA0fUqZ8Or/WsROg8AXp+MGKzygvIcZPAJTKZfMOACT2bfl/mOPyui2Afq2BAh/G2JkK8nEiBF5/5mJs29KDjs52tLW36omWlPpNTbqNNoZogq7SjX50eymulTCfQ7ZpWPE0YYOni0UUYVh3Z+p+qRxBKL3FUlqfcvT6NYuofW3H08Ie9spnGfk9/cNJ8vICEKBF5YDefBhrlXImoRCIELEXRwboeO8QC4E3nXcqBgYGUK1V1QkUeOYrxdLe4pavfrM0/1XxYSieaya5dVInAF4t0WbrF91xy1qlKbYy7d7ggxHgUzReXqQGrkXCtkhGM1VP05R2QZefJpXm68oQoi0s8iYAceW1RTd1vW1jMnICqtc1SIlQWZecvnD4auyWqA828NMf3IwXVr0EAHhh1Uu4+Se/waeuvRSVir0q7oMc4ehauG0X/nre9rr9k+qvcFkfn1B5s9vkkReOXThmxJ+1t/Ny+sdj/66MqfZSPwlmO56aLp+8kdrMgmKR8b+3gWgWpuXh1Wtx1HVvMbgYFmaUCWU14319c57UPXsxSJBBy3Q1DW1F5OR13QVLqzrn5X98RQuQm1dQOTlzwVKtHe+54kIsXb4J89+wGPtOHm7lW5BZWDYnuWL6VuQ8fZXHT6NSoIyApz/2boiEmBfIcx1aqJKNo8EyVpTdhEwoYDE809kNLLoIkyJZACeL7By9Vo9ZFU17s4tWZAcwrx1FFp6LlEv7f9OHPh9fb/BHAKLkpcVO2Ohudri0UrQD/pvEsR4BKJedzwD66ruCB04Tqevenb3YuWMXstL2bT3Yvq1HVRPYtGEzO34v0bOtB6+sWY96o55FBgDQ1t6K4SO6PfKzeNDRoE+Xvbt2Y2fPLr0QEUpRFGH71h2gow5xHGPzpq1Yt2YDGjLnk65c7rZWDB/ZndI3gNQXWDLjM06U4DuO8ewzz2Hty+tfJfQKrFz+nNZJz/aduO+Pf0N7V9teUyyVSzhk/hx0j+iyxfaMj6al/Rdg1avZ2d9bmZo51VCUb5mvVnBGvorufd5QHoAWeVYsa8ffJ2zWUbZQvkUXJsxzD/Ql/9IOeHIlXeuzAEB4IlNWVp934uBiRq9U1YR+yY9dTlOUwjlOalMy73en8Mv+60rN4U7yO6ldkvz2cK5mtVJqvcLRcdJmdrrAx4f1Tykq4bF/LMWvf/E7/VZYKSV+e+s9OPVNJ2LBMYeZlWenPq1YJyshAT5O8Gb0nncPsN5Krlde2T3Y/ePaiztdlsogBFtytlajYYgKR3umPQJMuU7QmD7AatFmlkFV6aVdtotkI0avTvNRxHpQQp/AcL9mUSQVxZAidUOYlIU9dJ2FaVmY6C4g7I08vrpZ9UP1iuC7yeSMnGurDOtxIchoAABxfw+GNj2LvN4eEa/Du8+dDiGA8ZOGA1ufwMCeWmYdAIjaRqA8en874LTkToxOAGjsXI/69pcyZREQ2KdzC9565n4QQmDOrDKG1i1BvZRnrRKlrokodU821H06U4OqvnU1Gr2bMmV5w+KpOHXxPoixC/U1j6ABgWMOqmJsaRqiqIR9O7eh/+WHEBcYH5YI5QrKY2YiqjhBmllxhR7f9X4MbVgGmRNoV3fswGmLRmPHnBa0tFZR2/kMBl5+BXmiiWorKmNmQZTKSIfhSg7CMquiybbuhfg5980OpYemWzAltAtkju1lyeFJ1pFsX3vc6F7yAs3xaxa7suqF8ng858OePNpF5MmTKatus3iYh+2+a1+yYxN3esb8LgtJGkMN/fy4EOoRAOk+6218uTt23APe9JiTNdSteEVanwEsV9hR9qSBduxHAYAVF5lH/8y9pGhcb+AbX/gu/njnvWhvq+VOpjWbWKK7q4auYVUICNz4nzfiZ9/7eW79wcE6pu6/H3502/UolUsG2gDQy2wlTKxlAIuNaSQnBb71H9/D72+/B+1tLbl8G/UGkxf44fU/xE+++5NCbSW5J+47FT/59X+hVCkBQrBhLlkX2I/nuTGqXmllRxwEgF07e/G5K76K1StWoaurDblAnZUEMHP6eMVvAN/5yrebwj+eYimxcdNOfOZrn8C/vfNNkHGsY1SrPRl+Myue8p1k8pVtBg/zYrA8PHTpNxPv5rWnSHxJ+WUfQTflCdzsykSIXmiXrcgjAnk81VgBIDQI8OeYNDTrAePSc449MTBNTZSEPS3iwKiP9gubCy/PV/psOLXhnY6vpld+bbD2vbzDmrJxz+AuDUOoe+7kyImmhKMzrSvjaKgTrOeXpGTH4oRu866dvfjeN3+MzRu3WHw3bdiC73/zJ5hz6IFoaa05beH2w1vA7IxK0WAC17tkJHjP2om7V6FVaA9OOmqmj6AJZQmsrC2rbQn2wx9gnp/d0zXYUVbXkGF6jmoKu2aaGluIcCRV//JFDIG07fIBZf64n8tyU9HTQFk4oCXNwJa94enDn9CxWbe8r0yIl1s2hHtZtHyLqD7dSJlEnZavEEgHfIJwh0yQ7EPZqF4FS64bu7egsvEldI6Zg6yoYOQ+M3DY1z+tZWk04tygpD6wEz07nkF51LTkjaf0LTZrAVNo8erbXkLLju1o65qaKcsbjj4apx17rCIhUS8gy0DvBvQOPodSt3rRKeGhcPyB4lzf8Cw6o05UW0eGZfHc/tj7L9R9FsexXhAtnCTQs+4pxJ0TEVXbnAkmm3kosIoHdkOuXYYR4w8HZJjXyFGd+NrnP6avG40GZJylMwEpY2xd+0+UR0yDKFVgvgzB/BH7aoRZe2a4obGd+XE/O9NG7oOsgNKZVjHbN4/hcb5ueZj7ttPJToKjJpGS5rE0l0yKHo05dkdK+GIruvZhZAiLiuzyFzkl5ePjw8tm+WWV8ZUP+YNmsNjXtqx7ioHlTy1o5S/sE9okUG809M53FNFnACWLpUy845h4Igv4X8d29WOQzFaRTD4plctllKKSoeHDVk97UksREoCQiKXErh078ckrTsG/nXOkfTT+NU5RJPDY46vx7/9xD+r1BkrlEhdX/7Ak9fadgIwldvXsxMc+cjIuOP/Y1Ev9Xlu5Izzxzxfx6f+4G41GjFKlZPqRx+U6JDf4kxJfMENgHRQ3Ysi4gS987hycd+5C+x0F/38lAQwM1PGOd38ffX39EBCImSXR5yeNnfsanI1l7ljPitl4cuO7vPK8nk+mrHl00Xi36EZWEXpSSvMIQDM7SsQ0tGOWt/IRohlaleV1i+y4heTXdFTQSE6W/jF8FMiyay6H3kGleAVExF0FFdZ9of5LlWfBM2Ami7RgYeIhFpD4JnjaL/CJrKMDJgv/S7IKafaIdVxIRsp0QosnUrfGUEoGrABrgpaPrnUsBWg69GxZuVzGXbf+Hn+/f4m3Lx+8fwnu/d39OOPcU1TQY/rDtNHtH+MQ+Q64fZ30g5Uv1GkCNml1X/ZofW4LzgSODEwI6HcQSKnpCqqvgrlw/5AO3f4hmVU+Gyva8TMbFUJY+qaGmrUPYeZU1FbW51pWRdTIbnSTBBn2eHLp+OzTt9gX2m3x4VXWro4PlN3gMw+/XDpZ8vjuuzK4beeyZJV3r33yhvTgS1ZXSIWM2iRprLMxpekafDO2m6Ra+xh0jj4IQJOT1Zw00LcZOzdtUzLQmFcnTRj2mvERoXXYJAwbfaA1jkJJ+wR2DYBRNtdRuQW9e9aqa2X3zKnQKNUns6Iy2runoWXYRIdLmLfvuuhfXUdK9O56GQ2lM90AsD6ja/W3XBuGzlEHgvpvb3j72oC4gZ6eFZbObO9hcFNqClD2KLT8YU9vJ6kdkGT1BVOE8dr6mtlS2ke6bTWTdqXslA8IysWxWeOkaqzGUzD98AgjvciUkMme3PowJYQRWbji0vP9zppA5y1cFuHn0vNd52F7auG+Cf249UP5HCvJBrXtwL6OIFCv1y05qqVqYggaV3iso24LbtOuz07YU+yQXLL4DECdnwAolxAJepu9K7t9DVD85YklwcarAFpbKujsqKFef219Ak9RJNDWWrUGhhXTB+Mruw18MaOlpYqOjhoa9TL+VSmKBNraqvbcVrI/FDdpfTPfxDcC3fkJjJ+km+VShEq1hFf7Ve2sJKVEf/8gKpUyKpVSdtlY2l94kHY/ub60KB4B/lgp77dbN7R4yK+zYq88Pln3fXxDeBbCPV7H5We9YpivcoRWUkKAlxU88/xQfZ4Xajz/320I/c5TpBDJ5CP5K5OBof7qukI9AkBKF1CjLSkn9HeXTH0qY+jDqpfE0FKVpfLSGphS/UemDiUj8ZKMV7IQwUMkqRcKzMs4VDnaMWJt1484MF1Q2/V8zmqzYN91T4akfqmI0gnVEUjaqk9MkqNSsgvyZoJoEM9E36+8tA433XALdvf2efuwb3c/brj+Juzo2ankof6D1lnyeIVk+dLwV/8n8pr+kkzH1K9Syamvdd8J1qdKVeya2pfcE7oKXSd6ZfQk9bGxFd1PSmC+GEC61wZA/ZhEykldGPm1rYK3QZo2wtgw2YG2BbDyqj+5jND9LS1bkJL0rcqD254/+UCMflO+W973O+86C7+yZAvVzyrP/xbhkbV4EeLtOogQ7VQe73O6JryhfpYM5+g+kmvCHm1Xhoi+DynV4mXyf2KSyf2kiMqXdnnQ/yb6ZX+ZbvQ4ZbK45WD4G2gjeQxPyfmqawn7ni0P1x0rz2S1ZTFtNHQ8tKX/f8HkkUxG3g6zW0h9xfhzbHLwgX93nssmFB3qE7rmMvN87/86LHUT+TsbN339KV25gQBNrn7TfqutvH845ln95VxrHGN/HdktjM6LRahv6ESioH4j2tKWiflUCd4ORU8I9hkyf0CYtTjgYqkbQObFh24qEtSG+IdkKkKnmQUNihmzFko4f/c6t43KNgT3pcp+Ex8N5UuJl0Cj3jD8owiVUtlgMcNrKz7Q8kLbpolNyX4VDyEsuSCdEwCV5CWAhPtCBy9kQ8zeeVxA8YAqb9pEujCj2dYRG6XSi6wevTqV6dIHyxSTAKm4SsuoYzPeT2kZLd6sPQXCgVR9Hz27PIuphTAxtRWfJiX1ow06nlWS8f7xNIbnDAwO4Z9LX0J//2CS55Tx6Zwhs5V6e/fgmi/ejoeXPIcoElY17eYz2i91G3mbjG2lyjv4xu9T8o1fnkJjO4QvIWz1LUiGZAjxz5LRxz8vhfSjl7R8wJgXjGatuvoa4isfWk3JWr0IKTozifSKOQ9JCIh1cVBgYGqZ9SiFuVZtYRkyk9ZblpchmmTYkt9jPJ3m6AElNJUk1dpqiNQRrqGhOgb2DHKChpbga50CEGk+tixMJoe/ZK2RSmpqk68tExqJNQAAIABJREFUbpvoXiQi/OQHN2PFM88hKy197Bnc+avf4/z3nIMoYjswAGsTv2cuydHw/jb1HZtwfnt1AZ/euAXY9UlGK98Z++6uFFQZvvOjwd8sqdiNEsYypEg12W6TsPuQ7+YSL2735h7x99h0foyYSnkLiUXr+q59yTepzlpZzaKTtxobKh/i7167eJiHlS62huqn2pIUQjK5ZI+5pJAmbVOppI8vsXEH6MVEK9MFB5HELlK6eEu1hN+gg0mNHQkTADJ21roFTJyh+UtVljeEyyKZPvRimY2OpoIw79GQsMaKvuY6cHFMqD4F9SdgqYMEMQJr2nYAJVX7Qr2YtEvPMbhcjA2X1+LP5EnjgeBzF0sfhobUnZMsdMBqKPVNSHTqF12WyLpA7oK4z1GxNjiuQiuH+oPqenqeWm5+c/qubJSl9ZI94orggCVHAEPc/DwczIrvfHVDMrl4GKqbF2PmLdaG+GTFnc3Ko3ITHHV8sRsTmK0fIG6YI/KlUoRSOQnTU/GqjrQMnvriFMt/63vk3wUkYtTdlwCq+JHHUtKq7fp6aclny+ne5NGNGWg0pgb2DGHzll3Y3bsHdedxp472GvaZOjopywDJ2gVPJXYKwhqR7lgyOvQtApADE47MVH7PwBC2bNmF3t49ySNkLLW31bDfvqMTO2EnJox0HsG5zTi60uI4tpRqM2CAz02S/RAC27fvxmVX/hz/87334oBpY5LPMBJXHqvA6CEi3+NEuPU4xgurN2HHjj41PmJVn3CSwN4jlwjF1GHky1qYC80x3fru/NdNRRY0fbiXJ2NefOfyz4oP8+JQt345b4U1b5Ukq2wztPi1+7fZsl7eLIpLgEaYezoIghVhidRNWKPO0AT0+XsdzTADkGyn35EFVr7iJTn/5BbJzOtTvnTyW9taUFbHboYGh7Cnfw+DKgbpGj9JJ9C8rWiEO1WuE2nuaf6+Njn5ho6Sm1QWRVj+9Crc8tM7rLfS+pKMJX70nV/guNcdhSn7TGRBWrqfjWviwOu0TwhYytTd6LQZCvZ9beIgyNGK5zOdMZGce8zunTbpoJa3ydEpAaybL12dC8OF9wMF3cJps+T8LXCT+p6WP9XPZHPpyTBPLnA2i0l7c83v5f3NSkXrNINveddFaBWhx5P5YhtbbrKMRurwh55FtMcY48PqWBjBfakQBoc43lA9Pp5t4lomegGpNXjdGScbh669mmVL1k4H92jBQUjf4pynPqT5jBN32KaWfk9Ivd5Az85ejBrRZeTT/aAwH3a/LX1qFbZs24GTFi9IeFr+SOneUbVPZ1o+6gerqKFpLwmC4kZYF64v0DKTnaRl4flJXSfUIxs3gKr1a/xmKEnmA4gOb7+wylkYLlg58snGGTM5+B+O4RkBI7U9NXbc+iQHmLJN+10bbxYH+L08vMqjv7cxWjN4FaLlm/gXkTOvfFE5gm3T/8COeQDoz6M6uDc0ZB4BKJVLyQvhYDAgHZOa+lLL4vp/MNPiSJ3EvkPsefASewSAJsxB/85jIk/MKL365doxY0gI4IUXNuGLX7kTf/3bCuzc2Y96I9bvDIgigcWLZuOO2y5NHiNw48jQFNGKv+3HMEOxrW/kJlkGFyhFQmD1i1tw7VfvxF8eWI4dO/rRaMQY0l9yEFh45AH4491XYWigDutrTRkYodskHfko/mf1+aKE9LbJz4AsoV5v4O8PrcK6ddtx6+1LMHH8cBy/aCa6ulpx75+ewfIV69A1rA0nLp6NmTMmABBYt347nnnmFYwf34V7/vg02ttreMs5R2D4iHbNor9/CDf94kGsWbsVi4+bhfmH7afcTBizBWuzdMaG8dV2yppsW7QD49a3SROqm3e9NzFZHq1mZCmCTXRPnxX3HSvwHZXiZdxUhIavPpUrssISKpe3ekOuWQqR/A/owCAZCckupgT0Xxo4EgJSCpjzOOaIoqZJw1EIdvxZpPMVL2j+BJLqHjvjRfU0TXB+JJ+SXdME2jpaUalUACQLAP39A4o30wOjo+nB0CE5k10moXWl60jB5Ge69LXJ02Ytu+IphMDQYB3fuvZ72Lxxq6f/0un5Favxvz/8NYbU8TXep8mxIQ6KTBaSz22TpXMGDkw/BLCGPtMjbDuwZTJ6IJ3RYxh2WXI/5p605LR5cfo8H/qvx17IpsBsTbfJlhOaF/HxjA2wvnVsypYpFa9aKTSufbiRhRVZOOXDqLyybrlmymaV4/R894vK7dORe6/wirakYI9uCH2fiifvsqAyfFylO9fCExcDhQBKpcRGogiyVDI25GKkjz7jLzRGQ2M1b53QNGBhkbbjKEp4RkqmSKTGuDURc0QREOx0uQrCJNejJzHHvOaVjbj4ki+iHhkdNOIYUN9DhhCQpQgxsYgElq98EX9f8hRklNwHPfqlfYWweJDO9NRAOn2ideqRUTfF+DcZGb2JqAQZRY4vsjEo1XyShf1VhW3747ZnCcOwJ5iEZdNSOywThErFk/6yZwKS+FkSH+ULXV/CfkPaGBxMrM2CbJv9lsYZJJJymWDz95IvgJVZZbJivxD2hHhklQlhXxGMzcPNIvFqXsxalG6QBwATe3J/Kaz4ETD+d3BwUNMrl0oolyPocZfh/yHo0T/iyXywBIt9zQMkJPUg23AplUoaSnSrWH1omlK3RY8hHqsIkTp9nuhKldVjOCnU2zuAK6++GX/68zP46CWvw8N/vQZ33nopjlgwDdVKCR+4+CRcdukpaDSkpsPHY8gMeSyatFkyjIKWGUw33rElVXnJrpFMcq+6+mb8/g9P4oMXn4SH//pZ3HX75TjqyANQqZTw/vedgKuuOB2NoYbxWRrP/H7TJB5TQcdppv+UHrUuweIwyWLgQGJZAwN1NBoSe/oGsbt3AI2GxIoVG3D/A8sxYfxwbN6yE+/94I/wyD+eR7kcYcXK9fjIx27CtV+9C9VqCQ/87Vm8/8M/xp49QxAQGBpq4Nv/dQ+ee34jBgbquOTSn+JvD61KHgmQCIpl/JbqE0n+N4x7fCLP/2qaDC+yYr+iWFEE97Joh/KbxbTQHDvEw+UTfKtFaIVByvBKCV9x8JXzrUhk0XOFdju5KfmcmE3q2xQMaEK+qlZl6/ier6zLjJAD/nUv4bmQ7v0MkLBzJFrbW1GuJF07ODiI/t39VjkvJSFSZSRcO2D9ZjXRDqhSPJw2uXIIxefe392P+37/V590wXTrz+/CiW9YhMOPOlgjs61lc7SMpOD7PuGVyIw+du3aW1ta1NNaTNMn5+3vp+wxEhiRGXnSarvwgGu6V8N83b4Nl88f63k7TnmY0czpgTx6lMcxLQt/mrmXhWl5GJmFpUQra7eMt8km7Py17hM9umesNXMUuXCorKW3bw++e8OtWPrUKjQaDZTLJbzx9EU456yTAXb0M8EiiRQ2u5fCvu0GnyGT2bW7H//z49/gH48tg4wlypUSzjx1Ed78phOMDo3Y/mQciuLl8zbmyvgbYHCojptv+QOWPLYcd9z+R0yZMh7//b1bMDA4iPFjR+Hz13wQ9/7pITy85CmsW78Fvbv78NVrL0UkBB599Bm85+JrsGVLDz7x8Xdh4fyDssehsHkTGmbEVqYq00UM4P6/PIqf/e/dGBiqY2iojpnTp+LSD5+PEcM6rDpJez3KE459uDIwUEllCYY3GfGtVSllhyzblUHLz3Hc9SU2eZtHlrH4+fETCan+EFbV3NTMbhj/7cO7PAzOCoRDdZqRLSRvHr0iWJ8Xs2bRDenIqmf99bSJ/aLfAwNmAaBUKqFcLit7CRiwQ9k7lANxHCAQy9h6CWCpXNLltVTCw4PrhJWxIguP3QoHywVE8vb+J1ZjyaMv4B1vOxof+sDJgAT223c0rv38uXjHu7+PHT19OP7YWRgaaui1W75AkdcHfBwjeM8+Z8ST+eCM0NelSOCJpS/iwYdW4h3nH42PXvJ6AMC++47Bl774b3jr2/8bPT19WLxoZrJwwca99DHJkd8PYEqwVHRVBNSTmpVKCccvmomxY4bhbW89CgccMA4ylpgyeQTmzZ2CzZt3YufuQfTs6Mev73gUi46bBUCga1grPvvvZ2PWjPE45+wFOO2NX8eGjTswYng7pAROP+0QXP3JN2JooI7du/fgz/c9g+OPnw006rm2rO2oCOBpVQjrL5DGqtAOfaicW5Zf+zCDx2F59F4tpuWVzaMX+W66jclKodWKrACdr0yQkHmrMCFF5smnywHWymf6nr0qGsyT6rdM07TrSVZWeGiZY0a6HPsPIVlknnxAR2c7OlUQ1tfbj43rN+tgz19Peu8FZbDysuq5bfXrCgC2bd2OX910B2q1Krq6OzGsqxOdwzrQ1mG+Wy2EQGtbC9raW9HW3orWtlbs6tmFX910B/rUIofmJ92+Mb+F22aP/sO24PRxKi+vXKge2WUWzex2WbaTYye5uuL3pE8nHjtO8Qm0Af7EJ6RZq5e+cr6UtZqbtUgQwrCQc6G/9H8WTZeer05Wm/Z24YPTDC1i5CXr2WwA6SP2BekIgRjA7XfdjyWPPYMvfP4SnPL6o/HSy+sx7+BZQBzDZeVtt8svh7/BW3ZPCNz6mz9jyWPLcM1nP4B/O/d1eGbZCzjkkJl68soED7MQ8AYqic6yI5hKuYSTTjgCB0ybhEWLj8CSJU/j5JOOxCc/9QEsfXolnn72Rax6fi1WPvcyPvGJizB75jTc9ut7AQB9e/bgox99O04/bRF+/NM7QGG8ljMksCSxRXG9sb8vrt2Ir33rJpx77uvw6avfhzVr1mO/aZMxTOE1Jylg8CiXOE/C7isnixlHjuBFUkgO9+ULhW2uiaiV94VLs1kb3wtczMOGvAXPIhgawriii6mhskXk9i2K+uQp2na3TlbK84O2r014DQ0MabsvlaNkQl7Ap9o0w3mJ7OZeLKX1ibtSqQToF7dJPXaz/Tts+uy/VBJCt08qWYQQWLb8FQgBHH3UDJTUEYQ4lpgxfQKm7TcWTz+zFrt6+zUuaE4SmYetLFml89cjO/xSWyf/paokhMCzK9ejFEVYtGgmolLy8kQZSxyw/zjMmD4ey5e/gu07zAutdZuls4iRkjsvFi0Sp4ZaY2My72MtJIBnV6zHu993Az7+qV/ia9fdhcceX42tW3YBjcTGRo8ehtHjuhDHEu1tNbS119DbuwdSJosKs2aMB2KJUkmgu6sd27f3AaBTZBntluy3529e8s0xAXv8UwpNxn20XBq+cllxGC/r2+33LSb4rotgVZFY2XsCIASORQi7yvatFGcFoO5CQDMrHr5rfR+AfqEVkBi4tbwk9G1IWqAUGpwYA17cJsW4SVWG1uZ0jnrm01ppFCIln5SmvhJC8TLrq1Jtg1hBnEg+WzJt+j54YeVqDAwMYuXy55NPbcAAb7JoqPZlNFPTPr+uTBnNTsmgjzPq+i5dXgapMrVaDZd/+oPJt0ll8u1YAWDNi+tw1SWfR19vH0aPHYlPfuFSTJgyDo1GQ30TW6LWUnM6Q+j2GcAWuk8hkVpNl9SWpFH6Hqjp9Pk9IZz+YDpQnW74sMaCyWN1Ai8mdRkJ8w4KqQoJIZC8adw4Dt4tirsRWo8fskLV37oPpSWvNNUs+9c2ZpmCsK5sYUi3QjWJbK+50z6+RUEXXItMiF3aPh5ZPF3+IUeQV97njPJ2utzrkCMLYWroni4vPWU4CFqDAKafrf6WpozvGQ9PnUajgcefWI7TTzkG+0wcg9aTF+J/b/49BoYaRj5VmXAiGIxzGW0ATxWhcnwMPfX0KpyweD6mT5uMKRPG4KvX3Yg4js1Y1200L0T0zu98ugokyUeSEOju7kRraw3d3Z04cPZ++L97HsRDjyzFmrUbMDA4hFIpwoknHIFZ06fi0MNm4+GHnsDUKeNwxPw5mHvgNPTu7MUf730IsWqYfiVNSGG6IUB2o+C8hDApt3bNBnS0t+L4RYehpVrB609aiM2bt6FcLkE2JPTz85qd8T2Wvjge8hk/jW+3PL+ZByU832fTVCYll3QyhFGCc9tuB+eR0flWJU87hPvblQMp+07ElikM8sVjPN+9XxTTeBlfXtE4LUu+vMDdbXveRD8P44vIXTRPl9HBD405Jy6wHu1IZHFPAJTKJUDFL3x3XT/KkxoQLM7gfLifF6Z8HMfWOwAqlbIV5pqwhd75Qvy5qfIxDM2LjwPJ66nxxL9m1Ns7gHKphBHD25QtJ9JWqyWMGN6OTZt2YGCgjtaWKkCRMDv+z5rk9AHFnswWYO+Wax+jdOWbmFvxEbvZu2sPSiWBrmFtil9SuVIuYfSoTqxbvx0Dgw0ji1TtJ5lCuOuNreDp06S0VHkEGTo7DO2WToRgOhBAfaiBH/zwPkyZMhIfu/xUVMolfONbd+OFFzYlNKVEqRRZMac9BpOXWHJI59P3kEg8Nk/6OKksba0EmhOOh0LjP2uuS7T4X/e+e+3DRVc+n4whPH4tMC0Ue5d5pVAwmhdEZgWjPuZFyuUFs3lK8sqrJiFW8ENv5KQJkWYhlC+3gxOpEFEDGAD6HEdyy4Ce5qLRxB70BITmtxFLkyHQVr/1ZJ8+HURtIm4yeW7swHkzce///QVxI8bSR59GX28f2jraWGyS1LGvNUXTH+qehDTfRyaEsAIqqcvxJuu26TbLxJHAXEMCbe2tOGjeDAZugIgEhnUNQ7mUvASn1lLDvMMPxP6z9suwD6MfE4+Rbrh8tLijgFJfSN1NlpvgLztT9KQ0ujH6gObD26c1IcnkpO5L7lRNfEC0jL2SDRtnIM2zbFwWAehvUwO6H+lFZYljUPcszym1E4FjU8aH0Biwx6w1doSmpmWhMeYG+On+s8ewxUNK5OGOex0CQ1/KCpg5/zy53JS1CJDlEJpZQC0qe2rRQTiYyfCPxw2GnW2DOnCS0OZvyUU8GDEpJaIowvDuTqxbvxmxENi5qw9SSrS01tKVGR+XNo8zhRYgPdkkaNVWzUgNG9aODRu3ohFL7OztQ6Mh0VKrJeOLcFfrU6QbCeNfjCwWjKRlocVbyWUR6OsbwDeu/znOOutEHHX0YVizdoPGnJZalY27pHxLrWaUwfjoI/ICti6UjxKqUELbIJ1vaFhrOio4bmtvRX//AHb19qMyvIKNm7bhkEljk1Yw+GAuzfpNN6gd2vcRLttQbvlHDtUaunxJch7KfhiWWX+tkIAFnVoWZvNOexJZ2FgDWJjqxxrbrh2xefu0gVNb7E0Cu6rQ4zuEcSG88gWzWQsHbgDq0uV5Lqb58rL4Zcll682Pvb7fIfmy5Hcx373nSxRb6YkVCBNsX8yxbnBgSNMvlUvJC511mJVEFvxFveR7tX2zgSx0HcVb249ZWI3jONl4UalSLWuj1LGhG0MxnE3w1DzvT2NWKSjdJ1LhjW5GUnj48HbEcYyeHf2JTSm+Q4MN9OzYjba2mpr8J7y1T9HjJTyZho5l1e+U/Uo9tvgmmyU3z6MxL4ARIzoQS4mdu8wpVCGSF7tu3daL9rYaWmtmr5Xwn8Y2Xwy2ZQas2BKmmNARFuE2i0UEmG5FUCdC/Ut1W2pVVCtlrF27DRPGdyMSAj09fZg6ZSS6utrw0urNePDvKzFp4gjWwcWT1P8geZGu8EuWzDVMrK1jdvqiTsj/qj7Nm1dmzTHzxjvd5/VDmBSKCd1YsijuhWQMtSFzLqzyyj5Bswi4eT7FFhXe14A8Oj7eheSgOsSHG5/OY8Edjy7dcjRwBezBpYBXTzj1MLVxkCaG/CVMgphyngxkdCnBqFAxHXAl/BpxjKOOnY//uf4m7NrZi6eeWI7lT6/C4QsPtgcAych4mgmhLbSAsJ5RTEBe/Xaek7QcHZx+spVrwBROv6mfcRwbABACQkTgiUNn4ojI6Qlb5xw4pbmXshcuq+8EgTT9borSAo5g+vPYlOJNcvIAz2oHNxrt4IRy5KYP+CKGxUP9scqxIiw0YE7NkVUIi5eUXLcqn+SCC4qkNOZQubFmpNDYd/OLgniIpg9DXHqubYTAPQTyoWtfXZ88Wfx5O7Pu+5xLFsa6cGZ+2HtPZAwpqHC6g0zZ/Eh4RwDOOfskvOvia9DXP4Cnnl6FhQvmYJ8Jo5XNKGLK7oWPNp3UITtj40QYIpZY9AZ/an8kJc5+4wm47MrrsGtHL55/YS1Oed1CjB03SjfADEeD667VuZPLJEZns7uU7LaSW2pVvLJuE+7/09/R2lbDP//5LFatfBErVr6Mxx99GnG9DhlThE3HB2NIGSvyErGMoYNCPQP3jA+SRyQYx4csNwu6bXuLxBJmzdgX+0ydgEs+ei323WcSlq9cjU994t0KKJh96b6gvvTIQgJxPIMT1MGUYZ81R+obiinigGW71J96lkK7miaDfypRUGGz6qno2AEYbxobwX65LBm1F9bliaUdW3BfrW45bXeHdAjjfPFYCAdDNHjdEMbQ37w40reAGwrmXVmyFkxDbc669uGtb5EgVCfNF3Yf0T/M5Czbg/0SQDoBYODVXloi25GMJnEyGGN2he181Ue+EwCRrmrsmsXJbPioe2ZCJ8wdy4a5loiu0Bgkcci8qRBC4C8PLMfrT54LieQZ+2XLX8HyZ9fj9SfPQXt7DUP1homRUoGTP/liS+4H1C6Qfc9JPMolmnEsMefAyYgigT/ftwyvP3kugGSBe8XK9Xh62VqctPggdA1rQ0zvtRFWN9jj3BIa1glbXorkNHRMDMqB2+c3bRrQcXxXVyv+7ZwjcPVnbkFbexWf/8yb8a4LF+HSK36Gu//wJGrVMsaN7UJbWxVSJo+n1GoVeloEAkBLSwVRFEEIoK2tinK5pPnVqmXUWiqKd3gn38ShwuqPNL6yOoHx68ZYeXNGX/zni9OKxF15MuXx8U3yQzFdUXxz65WzVjbcoDYrOOb5rqJ9NEMBvA90Q3R9dX3BOECYayGgNTFP1dA78/ak10yX1G8d15gAwbh07tyFrg9Nj3hwKVlSxGn6Zsmv85J6Qn2HlWjOPXw29p+5L55Y8hR6tu/AL354Gw4+/CCUyiU1SRXG7zhycF3YecLUBfTqtWDtIRG1Pnhow6M73WJWxskXAHq270BDfU6lUimjXKXv0yb/mgmqtICdLw/b/UcqpICKDTgW4loorfNh82Dya7sQwtGfKSPhtF93pUzVs/pG69tYMVH3ys10Y3wB2a1tS3xpQNPlfaxKcz5aAqVHPlIMCdMmIZh+LLu1UwiEeb4Pr3xYkUWTrn15Pucf4llERl9ZX93QQkKoTUXkzFuBDiUd3PE62liFVcayOB9JZvJ0eoruzZo+FXf86pt4ctnzOPusEzFrxj4oabkTrsmYMztNdnt5wEnl0pN/cBkdLIcUmDN7P9z0oy9g2YoX0TWsAwcfdADKpSiRU1UWun16YDqyMD7EjAdjgURkxo8fhR/94Bp0drThW1/7OB7+x9MYO3YE3v/ec7Dp/7H35vGaFdW58FP7Hc7QfXqege6GZp5BuAwqIA5EBQVUDBhRrhHNl6hXQYkDDjH5oknITXKvmi+KemMM3sQRQxREBUVmkBmZh4Ye6Hk85/R5313fH7tW1VprV+293wb1/u7Pgj7vHlatqVY9tar2tG4TFi+ci067DfT7OOnEI3DUYfth2rRhvPjEo4FeH4cfvAJ/8an3oMuwwgSnlwWLNgltGfcZ4Ff/TEE7OtzFZ//ifbj3gcewfec4LrnobZg9YzqBL8Nyam9Tig/uM2oXBs2RwsYZ0PhlKv1b1NK5iGsaH8tMNsWQNxxeFtlV2ML6sAlSZJwmfM90IP+IyZI2Sfczf75seBUuSfkpvSpwoSbZTE36B9Ujhk8pvE7Jr5OVWmRI8YzpX+UrVgOsWcFzCx3mtL1rcpfvHMUCQJsEsnG56Ig+f/LjrRuNy2AJystCPlLILN0B0OnICYPIEoOuIQ59duhzDOP+SwwJ8g4fFM/6H3bonnj9GS/C16+4ETNnjuI1px2BVas34S8+eyWGhzt4xwUnF49mUV2NXTU4wDNCAPIz4IZblmLA8jQbsp5DDt4DbzjzWHzj32/GrFmjOP01R2Lt2q3487/8LrqdNv7r214Kn7f5P3xQicvkw02oagPusQgy7lxx9Z9fhFM5p5IQ7noAsizDu995Kt7xtpPRtzm6nTZarQzXXfMRrFu/DYsWzMDQSBd5P8euXT285MQDcPxx+6HrPlM5ffowvv/tD6DbacEYgy994Q/RamV+4eM9f/wqwFr06z7x7f76O4adfYbGk1S9GiyJ4ULdhZtUXqn5VWFJTJauG5PTFENj55viVjtWQYNf1fk6g1OrpIM4XjsolYTXA3IYkI0bzK1PJNhQbeETgXLWGa42aXD3wOCSHct0pH7vEyERy6G7ekzg+1w70olNoqwN+wRu08am4XVvejUevPcRTIxP4AffvRanvvqleM1Zr2B+0zYGQOSeCgkT6RyGkQCqwR/Sl7wy85U3mWKJBrRQ+r0cP/vxTZhwnzGcv3AeZswcK3TmE341qaSENSR5Vjy+WXqZi/HDKGun0Gj+1QDMHC6XgxUAcecAT9SMH7HYQA34CYtzASjZ1MkjvzIlubOkVcSrG7ItUTkC8R1avrxDStPI7HTg7z+AlSowvkVSEG7do4AhGw2Cr2MlBdBNJ7GxxcXYiq+mT53XNLH6VYumdRPtGN86TEstHqSK1rFR0kpxTzZQcIaTPkZ94gEeSYwVWyUwFHv0SAgMFs6fjVeecmzgYxn2sASpCKfIIIzQ92OTWGWSj33jsb/QY/GCuVi8sLjqbxy+hLvEwqMx3gsqVAw75pfC/GM4Ea08/+JcK8vwosP397h41uknF/UssGzPhQH+AcydNQNzZ80Io4a1mDF9FDP2HXUmBozxfZkr6lWgVoNrHysntu5PwLuCjmBsdLiL4150sGumMBoUbUdYYVx86IGBZDp/+QaH91lYxALE7bkcP23FtSTro1jED+GtYXKxDClWAAAgAElEQVTIPkP9hfCYgteyCVAIJqEHyYGzKXlnAoglcWS3dYeIU3fYads4hvPDZdrUVaUSXuZ93Hrdj/HoM2uwaJ8jceqLD2u0IEC89dWtphP/JleyCLueTz65O/ge26+72lYW4n5UfmMQbsN3jACYyCMAGShgw6gNhBm4zEPA+5NPekQmwmiLyfdU6REAsLyI8ppgjjE8+tgWz8tYXeaGYAPPD2xxgedPP3g6hoba+Ma/3YR//pefwxiDvZfPx6c+djYOP2wp8n4u6ggN4l2ikB05F/DdjQfcXYl+VLiaMbPFc+6XXHQ6hoY6+Oa3bsXXr/gFAIPlS+fh0o+chaOP2ht5boO+OodLho/LvbhxOs/luafP28Birv5KO/elMQZdelzBjaczZoxgxoyRULFV3B7SamXFyxoJy4zBcLfj/djttkOj2+KdCISdNA9KdR1vE/OZzvNLdRpgQmwSrrdj+eMgE/RYSeFPFc8mfLW+sTqpxUwg8hLA2CARS8Krkms+IMRKzBmpgSm1CKGPVxnpdWR/fV12hGOlAGY6zqrzvhbOG3U+kiWyc4bXc9sMq1UCZgQPoRc7Rpv9fh9nnvNq/OB71+LWG+7Eju078ekP/Q3a7RZedtpLMDTcFTZyPThsk2jvF51usVuBtS+BsBLNVyXJByjtezjG1q3bcNW3rsG/Xv4t/0Ku4096kf+6AQcCaQNEMk58GSZ6o7Tvgi6UeIW6Mb1D/AS9adzV402Q5Wj9owRgskIl4ivAntOTnWSzUW0GU4pZzje1H4yj88YN9lJBPZhz33samphFaeIlBb5NcEHjlebjbVYJK5erafh+Sld9jOtbtZiawtem2ymfpfg3WVgp6gEsmtnLMd0fNqj7CpaRSG7+r+PmJ3QeN/wCQuBVHEfo55ZikNutJPo4tUInsgbgVzxCr/Vm0ABKPrUEbxLgSC9tJk+ivD8cGMn7dhh/37/g7Q4TTAgbvLWCt0rynG7cd2IcYh2XX3HmCy3cZ5a9dJS3cZh7WH9M/OWAVUpaHR/uL+ZfvhhAC5gkn9qC3nFiVDvrwtvOxz8HLxvAmkeqhZELrkbbqH71pBCmSi3Jmz1e5mXxbT6gRPqc4BvBiNTEuYRfxqC3/Tl84mMfwbkX/S1OffFhSWypktkkZ2tat2riXpV/VtHGdKnLbXdHx8CAfmS+yYJKFPkIAH0FQOmPEAJ6bAYMYpBdwgh3TN8B0GZ3APDeLXhC8aRjPC9TOFmuRzEZTiyYPwOf+vjZeNcfvgzrN2zH8HAHe+05p3jBHsMU/mqugNPpwrsLpxPjTmlfxRGzxChm8+aN4RMfPRPv/K+nYP36beh221i6V/HsfEkWr1sWw7Vm7uPtQQyD0cUiJIMrBXWxIvRx45pvCo71bGzwNEpvLl/7Rkz0/XiYbq9AKnPk2oU2bltFn+fbg+aPdfNQrmdq3pySGyt1c2idZ1bxjm236waGQberlK46/0LJT8uOh5xR56mbST7xqwwmsd3kvIbsJE1NzFednrd4Lt57yTtxyVOfwrMr12D1s2vxwXd9Emef91qcdd7pWLH/coxOG0FmjADqgfQ1ZZoUn6iutgjmfr+PiYlJrFq5Bnfecg+u+vY1uO3GuzC+s3ixyj77LcPrz3k12p0WA6rScKq29fk0PSljojVT0ZPyUzleSnWN1DEehz4VTexLOfX2pdu1vn805VO2obyf4Bnpx78OXGiCF88H035bujdK8muOx4kBMQMx/Jf4URZR0Ob5FPKpcRRfjI+XXt9i245dAIBWy2BstFuaV+uS9ybUYKniNnJZIe/vQn9qJ6rSocldfeycKJLgTjvD9NFOtSIA8t4k00KNGfIBWS867086v1SlZrJs3zmFqV7hx5HhNoa7rZoaqlgL2H7QxesIhNmvAfeltbnzWbr9+n2LzdsnkedF9dljQ2i1qhuQv7dANBtYs2nfyRm697WvXglSsq6O27KsYqOYMJRuelbC5D7f4xO0WOHv04GJxY+gDjobhvMsroTZA2JXoMuwcNESDI3MwQlHHxydHP8mMW3wHC9+vi7fTPF/IXThRcYTfzxUluIrAMV2eAQgPrbHpdfkH0ZKznOLXm/K2RO+AsAnhIGHnr4zzFBywx00kkfSZe54t9PG8mXzsffy+QWf2MxdbXt/RHmn848US01kSEaF4zudNpYtnYfly+ZJvSt1C7z06Sp9C7yQVDH++pCFRS/PMdXrI+/3Ewr9Zkuv109PgHeT529qjvl88rHdxZFU3d3Rt/QSQL2iMMgqRYo2tkpRxTfGj5eq2zCSKyZQV4HBn4YCwo2neroFcPBotVp+xbTf62P7jp3YvnU7er2+/zRdv5+7Fza5W0dh6f+wza42wVp5zh3jdQIbC1/R7XMZREH8u+0uXv6ak3HFl7+Fqaketmzeiq98/gp84yvfwfJ998JhRx6MPZfvgUV7LMD0sWlO/77LOdwKpCl8YkyxOjw0RG9iDb4Mt456paWubn9qagqTE7swMTGJyYlJbN64Bc8+vRrPrVmPVSvX4JmnV2HH9p2C+7wFc/CJv/kQ9t5vmbtaSC3Gb7Hl7eddEZIwNzEwXi/XadiEQQ1fnsZGt5V89nZdPSAWR8LwaJlM8QlBnhRaukXYCPnlIRWe3vOEfB4/lnIkXj3l5fMx17I9zpu1uPCvaBHqkxb+ZZG8btyUNB7EsKXqXAxDUjjXFGf4uVj9KjytsjWFZVX2VtFyH6R8EVcK4qVS4Y3oYeJBK/6i11Bi2R7Gtp2rseOx7yVFGGNwzwNr8Scf/iEA4MD95uJvPvFKjE3X2KJUszkwY0HQ020Y1ofBE9fOCDauvQubtzxaqcv3fvgQLvvCzQCAU05cik9cfDKyrNpPNu8hW3hAwcNJL64c0+MTir47jLWrb4LJol/fjSgGZMbgg392LW6+/Vm0Wgbv+cNj8cbTD0a/n56Yx0pugKF2hwGj2HTyXN9stTFpJ/H0Y1ciOsN05elntuCPP/wDrN+wE8PDbXz171+P5ctmhZcVpnTpdNHJWp61f/TJbTvTXfw5X3o8dGdd21eGMiMI6KsRzCGcvwrv2auXwCLgm4cx1V8JTU3gmS5quVY8YkNjgg06wd2iTK/4djrV4WgV/pQwBMCjj96HkVnzsO+yhVj51BNoDc/AnFnT0VXPhXMe3qIajKnCyKpSh/eD5Itcz1ReWpcDp8agWv0N3ZlDWab1uQDnoB8BaLVaAZNBfSP0YTlmW5H3lMZvwnJHa4z+CoBBu9PxNTnfAvPD4pjn6SWFLIdyHuLT7+e4/Y4nMDI67G7jb1a4axPTD0Vv8Oija/x7o7xLRO7B34cEhF5k2Uv3inN5bnHnL5/ErJnTGukt9PV/6kuWGTz62Frs2iUn5TK/5dvqjtpSxhaAi08Q877F//jcNfjOd29HXoPTtYUH7fNglec57rpnJU4+PYueF/EHVAbCoHf7xLCgDpOqrvTX5XlVc+Om2BPTIWZXk/ptTtx0JUEz4rcjxOrFnLE7q7Sp4zH5pToOMNmNreyvo1HDKXWizBhs27odv7r3Edxywx24/ea7sfqZNdi4fhN27hhHz72hOYcFnD+SMUqDeemY2GC2JU0aqPg3kLoyPj6BB+99BA/e+wiABpMCXgYgBVAJDqlFJaD41NSJJx+Liz/5Jzjo8P0FHyN+Q/Lvj1vL7+50I6It3SoWJuey/fnk3kSjRNHSJ/bci8noDz3fKpJVn0XCDcY8k3N8mMj0tXM28IvJdxjcZHLAJ//Sbko2raKUlrozPEmmoybI4Uto3mhhX5lrybIKPKg7V5ec1eFc1bHUuUHrV9FZa5HnOXJrkWUGmckq5TXFXTqX57nHAwsUEzYR4pbFcJjQGB+3fJ8fK0pr1h4YOe5t1TZbwO64Gyuf/RoAYO6SBegceCaGFo5V1gvymJ488kPgAdais+RQdJYcVsktyw123f4drHz2+wCAzeYIDB16DrKReEJS1oX5BGGcCSSFnkMrXgqsGAw8W/0Mm/NbsPLZdWh32piadyiGjzwHPezO1RsL+XJU2gxtDBiY4ZkYedG5lZwMgNboU9i0/UqsXbcJ06aPoLX/qzB88N7FONhIF+JF22oB1h8jnzI8MmRFBT4ynBXYbvm5Ipn2sc31YMBNcRVdWiX3eTyFr5/yhBhdfD5E1Cq5M9JucZ4JsNai1++jlWUiH6rLowgve/0ebrv9NoyMzcbnLv0Abrr7l3jkuQl86z+uxilHLhd1U7egxi7oaHl8u26hIEUTS5ib5otaPk+SY4l8U72TxbBsQrzPgU2m2QR/1yR7BCDL/EKkUTz5MT691QmXAeU+lP/QhQhnf55jaqrv2Xa7HRgD5DbkPuFRF8bV5wEMf0WCVWQY7XYbLz7lePz0mhvwr1emF2J1Gd85geuv+QWmpnpot1s48thDsWSvxZU5I5VXnnEqukPujfOGZzM+44HqhU5lhigtg+NPPhY/vbqZ3hue24g7br4Lk5NT6HY7OO6kF2H27JnN58bW4tTXnILOUFu0b9AxHOHLL+FsGetosccAmDFrDO/98LvwyK8eh6lZ3K4qxhg88cjT+Od//AastZg+YxreeuE5WLh4gZ7ZNCsWOOl1bbzitaf4r34Fu2QOagBUras2ycNS+6m+XYdHGkvq6msez2f+XWVXE14NL0XUM626IqWBNeWMuityTfSpIFJTj9iVTLnSZmAwtWsKV/77D/H1L30TDz/4GHZuHy+ukP9fVpqAaiD+NShgDDqdNqaPTcPS5XvgiGMOwe+9/uU46tjDMDp91MsMKVL5SjaHc5oQ03ka7Kh2eDmUEQOwBNzAtXh3mY3K5kOKfMEe4DNViHQz4kJ9h0oommNI4dkAzRIIQz7g1JpJQgfuH64ntzfw0S9/C9Q8EQ5UEtRTZaDkKlG/Lp6bXnnaHV2aLA6kzpHMLMtQN/1scmUvpU+r1Qq0mVGBZyJXpig6Q8JBWyKwjAqzoFWgozAqEdrIsVgp+nNpHqclG9mnYqxpYa50LqpfWh/5q2KPFlB0P/QT75heln2zu8wutEapY1Ptsk30Mk+hKyAe2vQ4Geer21pDHYyCwBgbR0y4SkayZTuxFdFYTrQrS0SRVMOWHiQuB4aBcH5Jk3KfqF4CMKQP80O1DXxfURlTvJSrolTlZsgnccctd+LhJ3t429v/Hh+45I9x7FGn4skn1sMctU9Jluanz+1uaYJpnO75ytM8miTwMf2ix8FjOIypsiVNCDWD0hv5y7zk2Ay173MaxztMoVQ9Z1KeW3aBqMjDKKblZCz8pX4QdHJ5gO8ycnHtrPNei9e/+dVpB+piDFavXINX/+x27No1hU63g7e961yc8cbT0Ov3aqtnLblobpXHJT7yHE7SnXXua/H6c+r1zrIMN15/G/7k/EswMbEZQyNDuOijf4zDjzkEed58vpBlxdjPdZYjrQRUvqhBlHKhw2VzttDxpFecgJNecXxjfVK23vzzO/C1f/rfsH2LkZFhnPHG03DokQcONo8QhbeGvIOEj+G65QYtg+Z0g9IPklM2XSzYHT2aFv8IACAT56arGbzBdePrc9rwKln6WKpOijZWjN7jK9clCoNdu6bwVx//B1zx5W9j+7YdQrdOt4N2u4WhoS66w0PIsgytzMBkmf8OpiMuyy3lGUw65Sgi0TKxzaC1EXssHy13FSOFRHUryZdVpL5NbCJd3CS/2+2gO9RFt9vBtLFpWLBoPuYvmItFey7A8hV7Yc+lSzA2YzpanRbv+UpmrFPEWtENfKqdSzTc3eAT6NAu5ZYseQ8WbKGr0DJCGdPRW+UA0PgJQqquuBeBTIhO3GTcxADUGD606NqpeoWtsc9SCUpbL79Qvbq/03G+37RualJchStcXkwHTV/FpwmeaVvqFlVjfGI+icnw9WMTFHfIx2/ILEN9RkfNaemKUaRtqLrXPZkn0MzeuE1lA2GNgZxA07YNigX1TOCt+FYOqUTnbQ+6Bd+6REW0R6FPaYLnfFXVluTOOr24SqUOBiMebXJKsgk358Xrsr6sFyrg5seWL7lWOc44mVY8QiLGKKWj4e1XBItY2+GLuNK+aj+V/KN8FuKWdC8E+ufyLWs80tvtBzUKm2XaXeUi1cfJV+BtpnwsvsYSL8Sz6nbRVH6047mVeOCpdXjD2z+MPzjnFVh1zzUY745i6YoFvi20nGBOdUxz+VqnlK5VWB+zJ2UflzFIfts0v6xsj6IGDOvVPnYj47vNLXo9+UZ+Lx+hDxQhTDqVlwFLGUD4Uxql8364I8wYoN1qIyzXM+pITBr/6yLf2yRrZ1kGk4l7A4PNSncqrY5810nWyorvymehXgn6IkXbweVpz5VyOpfPp4rP9TKDrBXoDIzXN+eXrFPGRvXWvra+voTPWJsom4yiiOFLQx0tUDxi4bpBlmVoZ+0CFuvexlghS9xJFDQX1tgE8xgGVPV7XVLYVJWDxuo1mdCn8jcur05uChu1jFQuSXWjXwGIKZ7ab+LwKgVT51IlllindBI8/d8QSpQUwR31K6sWgLX41y99E1/9/BXFJ1IMMDY2HfseuA+Oe8nROODQfTFv3lzMmDmG0bERtFstZK0MrVbLLQC4EOYd1Eh9+TkTDniwptOiKwsSzot1FSP7Nj8XHQyMpivzjxU9kCROyl1jkGXGt1OWZWh3wiBnbbg67/JWD1by+TKw9pMpqaazkaTXD6KFJLYCXHAw7KiMEhUritYA7JuyxL3Of4VO9Mw/EAZby/QTsUuTJKYPxQclB2GGEH65NYpjUIX5T+qp378gB5HUlQmfaAtN4qXJFaVUn9f9v24BQQw4EVyp26/TNwbAKdxL8eEyc2uLF3ZG6FMDWJWMOpzlMQYdSoHQT6D41VE/mTHxdkgWeRuOxC4uW+nmH73xOgH8xYThpUnFIf+W9cpZmtKXv3WZt6VV9Bx4vI7uOJvEWs6fJqFgdZNK0XkDPkBYgH0ai+kR87kGUT7mxAQa+LuMSosIUb5CWQjudJuta6eCPbdd+YztCr2j8sqq+3FEqJSuRKEV0NKUGfAxk2OxCQyMJVxOKAZ4HxjuAx7byj6/rJzI33X+FVsgTOHRow/fjx2tOTj3nDMw1AZuuflWzFx+OA7ea06BPbC46YdXYk1rMc581fEei7Rs2tayYjqmFg64rvxXb6fs5eeb1tfjiKbV9evoHJEfx2nf05LehuUuVn6Sr9UqUvQQ9rJD6Cv95VwhDt38GL23is50/LtCHG7aIqcp5fqOwjD5LmFjWQLXnu76odyb3xOo2x3iXSLGhAl28AD50nregau814n7mfZp8aRsE0o5IveZ2GY52PjOceyaLF6m2Ov1sGPrDm8d1QrDBcN7kT2mclonhUORhMdoLGmQIM+E46GtfF5nVJ6ttMxQXBylkrUydFsd4UMB1cxvOirCcyTUT8p5qtdZ+EeWKgzg56vmtbFFgirsqsoRa/McVlK5YUwvTZ/SqUpnzqvd1CHa2Nh5bXgsKa/ir0uqfkyH1L7nBQ5V4a8VHaAI3iwrnnH5p7//Zw/GRxx9CP700+/Di044EqPTRpDb3ANUrKNo6Avb5dszQ4dJ1HOAyWvpOnEdOBzqgcBG+Wn9efE82a2pfPiRkCWBWpyjRNIdt7llt9dr2DNsAJWAGYCC28janyXAAvRFUs/Oe07hSo6+ZZZ1d7EHSD9rmyuTZkAAMmDUJ/SIB4Ek838xooa4obbhkwzHw0K2MxRFOBRGGQOPzSwqiF4DtVykQYlaR0iVOyLxVzUpgsSL1Mqr3k5hWJMJueaVSmRjg0lqEEnZmrvBK2u1Kgczvp3iXVv8s89gv4YFA3ToKz+4VtYLJi5WRaVSUakCYR/XgXQkct+lQ6rgedD44fVxwVyrR/CD/xQgLAt2F8fcvxaMt0RyvwBhWZLgzaUOJm2KZjpeN/bL/B7Okb6BkVx44KMR69vCHqZEka0FfK18wR08aBjvZxVQbuZv+HPyHq/haVg2wYj0ZrUuhhxN9nhyZ3kYaB29aiP/IkJQcEPGAmfHY6tKqWCDMcrnpfp8oqdjMY2Tg2GAxb233oi5i5Zi+aJ56E3uxC033oJj/8sJmDk6BNgcD993Jz75iU9i6SnnYcGsNo456ggMucV7jkleT5Wk0rHYPte9aoIfS7rr6katrfBJjIceExrjamQM8bxRtt9kBkPDQ35/587xQi7KeZnot54n5TpStAhRdczmFpbfAdCmRQe2iMt4+km3NWLCF7pRqMN18pRs0lz86vyj+On1+shZu7daWQQSZf4S9wbHPsfB8MVH1g4Ub0b7mWc5Es2Kcxl27hjHrl27HBuL3H3tRE7seVZklZZcb+KNErXmUtbTlGJL5LEif5djAEpcQxzw/L23i302st1Gu9WWNawab/wZiGM+Xg3PHmNa1KF8HG9oW88xU/jTBC9i+VxsMVPX17lfSqbGu0Exrg5jOf8sxYwEp1Y1+PmYwdr41LHYAJVaENB66KQ9VQ8IHYDDgE/TxBt4Cxk/vPInWP3MWgDAPvsvx2Vf/DRefOpx6A533dv+OQ8rasvOG7aKfNIoHUJnp/SKA34xxpcnTbyz8/0YYPBOF2qFGnz9VbcU51lYWiQo1lqWSxHHMMmUnBQsmwCbhMCc2nqpxC8sz1jBT92W6KUSAFrBkwYu3k6UgEqQklw5EAcJDjBL+SjxC0Oe9gi3PthLZxItQRMvEVWUvBrmMSmDqoShRkaloPM8gz6FH8kTzD+W0ZPNNsSw8IanTUWZ498AfJuAZxWvGIbFZMUS2iqATyWpHJc0zyrss3kPP/r2Ffj57Q+VksiYHhbAzi0b8LUvfQ5f+/71JX6xJDZZ/ETbJWv8SxU+ro1LokxxNd0N+IbOFcJBCQfHkKqhPGACJSlG1BF8/G3mnKfbLrIKmXwZE3xJtlS5wr1xXaQkxCMASOEHsONeZtCruOPAuP8ZHxPouV8TXcTrLq6YMT+HbesT8aAjgxEEXUUCSsmvZ8nbu/CJPx8rRMNGNZDtAEus2a/3jaQFlw1iF/zofZUqfkBgMUFtpeNFyAuxzBwhY4f71ulorXGphLaxXES/t0yOq2dZvBRHqE+EvmYjtlddTKnaz3tTuOn2O7H3IYdj1qwZmJycwGPrNmLu/Bm47KMX42e33Yfbb70O9z61BmOtCfzqocfQ6+UC02Kymx6rS2xT25y2Kb5qPWJX1FI576AljLthv8id9CQv5GWzZo15WeM7xzG1q1fKHcKIr3ITS2N2sIVrw/NNKvylsCbL3DsAXMzxfImHPzhMWbZuaACWUwW9eXbC8h9KDyw76rpav99jCxMG7XZb5E2EYzrnLHwssd9argF1quBHl87KGGT5ksRJ61wddMltjmefXo0pd2V82vRpWLhkPvOeRIOQ3zofW2mXtyS4CfAaCIpgI40tdMyWc/ci1rkOjifzPx+trYpTys2LhY6CrtNpo9VuMZ5gkRNGQwv4O+8MAB6afhmC5ZXeLtBFJVvqz7qksC82gY/hBT+fmlzHJvKxuXIK+6qwMpbbpjCtcr6bkKHtyIh5bOVEK6K3q1Zi9XktQzsyVaoSds1TJ+yCjwjrIjx5fuC5WmBi+wTuvOUeD4qvPesV2Ge/pb4zEIcwZBvBmf/l+/LxGNeVeYegOuQX1t2LpIAp6TmoAU7wN0GO/6fXkCVQGsGjOFi22bUDT04EjUVZO62Z1sSy+uGcEZykP+iqngkuET7zA5XQ0cBYrU3QmWvL6xpBHUpoK0krfSZBj46FocVIHW1Kjm7PcmvTnRSC0uiaoZ20rykZLceKV604auD8yOhN2WcGxq+vhUGhur/X4YQGxtS/FO+6hU2+HRsUtJ6pBckqG7UMPhhZa/HLW2/GpR+7FFf96Ge47c57MMU+QaTlWWvx6J3X4b+9933427/+G9x6z8OV8qtwsmCs9638Zds+EWWd0G8WmVepalUJevO0OOglVDPFHxORRbiqkxDAtaGRdeLKsPTXum1ex5ogk2SZcN6wbak4n77HfFfdRwQ7lTCB6htaQAnnqY/6bJfrYlV9jgkm4HPR72sa0yXW/jMsjL8h/5mgs5EAruxgPhFGOwCyAFLqcDeqBLsYOqQfgu7BDjplIkm/Hi/kukhN+xkD3/bcfoTDhX5GuMZyP1S0A8et1CIn/+3nU2iPzMOpL3kZpnUzDA1Pw0knvgSP3notOnsdjaMOPQD7LluOeXseiE986uP4w/PfjOmjQ15WDENjWJzKGWMYH1sEqErW63LX1PGY7FieWWdPVI76a7wceYwBEhYuWVA86w5gw7qNWLdqvctzZJ4g8h8UPblYuAoyZX9SY70rvX4ffZfrZsag3Q1Xc/mUU2ZzQiqkm3XOyellfcu/OOMe47IuKeffh88yg3anBSlIZm1CJ0Nb1N+l5Sxrcf/JRRqfu0R6tINX34cNDDau34Sf/PDnnvbIYw7BshVLnf7yDh5+ndvrIRYeglYcU6QPZZ4JxjOWt3pZRued1A6c3gj6cqy6O1PcdrvTRquTSZ4ac6guOyz1DzkktzW0AyJxxvhH+mYsH9P5m84Fdb1Yf286V04dj2FajG8M06ou4FRhvtaf/rVjlVOrpimwq3LE7pxrssrDjaxa5RU60lhqESLNgk3Mi+fT165dh4cfLD770em08V9e8iK0222Ep6QCCHh2bosf1yFeSkh8704lfNbnYiEXMb5DwLIOzQRbSgBJV/ZLA4a/G9IwEGW9lIMcbQfgYKTWhu8zex2MSN74FSbL5Mj6wQ5uU9gGwCa3fmDS+lEdltj5z8Bwn1sgrJKH+oVORtzxDLZNIGYpKfRBILetMezxJsv8x4ZSOk82qZgW2+ATacvqwLe1taxveUmy/bkfDFg/slbd1WuESdEQVbGs45B0l3GZYla2mf/uLmbEzqWAv0pOauFR8x1EflWdu27/BR5cPYFX7FqLhx55EqxcRmwAACAASURBVIccchDarSxp58wFS/H+j34KV/z1e7HJlhPtxn6zcBNZw174VpzwuYClQTkkfxSjBSVvM5LB+qBKTLT8os+E9CseAywwORAHFYv6uj+Rub6DJzVhvnGx7eUE28H6kPEDTJDDsbV8j47xtCUt+Gc9SucCPwOGdQ6XaIMW6kLbhKuMJJDrTAvcqfbkfTu5oEPyEfQr7hhTNjLsY40edOJAS1W8eCP0qyoe64yJx573Jenn2pYBn64VbhiUtYLOzPYKvcjPPg7UCEu4HPwg+1qMf9McTWNQpzuKv/zc5egMjSIzgBkaxXv+9M9wwXsmMH1sDJ12hgd+eTP2Ovx4zOzW42PsXCxxfr65YKxOEx3q5KTGh1idah2tzDkp1whdkLVF0ZcPPuJADI8MY2pqO9Y9txEPPfgo9tx7cTFJ93kTiu1Yoi9gJgjykUzQ4uT2ej3/jXuTGbQ7bceE8NfZC6Y/Qn2dX8RzGRbdFixnZLkW1Xf6Tu2a8hfhsqyFdqfjdeIAa8HbF14nqSvkhYhIrlW2yTL+1AUpLuBSyWLOcON1t+GBux8CUEyIT3vdy9Ed6hT68/yWfArLXo4qmypMeH2AhHZmuRZHZ8+T6vNhkfuB+cKPrSw/TuWPIj+0Fs+tWe8Zjk4bRdc9tiJyVcakZBMf9PyJOF56+5iudaUq5yE9+a/ejtGmZMTqDTLvbTpXbpoTp+YQMd3asdUPXXjCrBnH6pCyeiV1d/ml6seMTpXyRJYN0RaAscVnlzKDtauew4bnNgEAFu2xEPvstzzMPw1kguBO+PVZE/TzIFJoEHSHu32PoZTgTbXUG5eoiufIAc1QJmM8APAE3dM5HQV4kP1OAD2fz+WCvMUGDxjjJrrW3ypamBN8S+Dhgc4EX4dVUUdvEYyy1KZ+pPN6aqAoTVIF+AXAIP+J3Fq8dEwCjIdW50sBvP4Z2oBdvhcZ14I0qFDSrPh6vWjfKyhBXGKj68gqJvy2noAztDesLXzMU33XjlTXOhvloM9sDq7x9hp3m6x1viwnqdXgrVdrvQ0KT+r6fxN84ucGwZNU8lqFZ1X8OP5ymj3nTMPyI47Dhz/8IWT9PrasW4lvfON/Y9PWcVF/9ryl+IPz34yhGfOwZHofgEW/twsTkxMYGhpGFrGP7/d7ffFCHxDkUJwFWAmJFxvUAb7o6er4TkGxGvZ9DKYiwb8gzspDJNvz82Dij5MM2QWYHbAMUlmdxESb89AU5XOcnzSPxgtPZ/kZ6R9hU2VnCQjL/c0gBDF/GTGCMB19+xrPh7dnrP3z3IYXdRH+s3pko8RyMpN0o/pSJ7qbgrtF3MNnBLF/sWyhV47c1wkMvA6lcwHfyPu8Pellfh6LaTWD28SV8foV2/yt7llmaDhz2An/notyscqflp2RC1oWFrsmpzAxOYnhoaFo4liVI+W5xfDwCLrdjqcdHpmG4ZFpsNaiPzWOX93zBBbucRRuvO6HmBhahpcdfyCyLBP4HJNTh48xvKSSwmcup8l4UMUvtl9HH7MzXkw5P+A5HkIsGxSxu8++y7Bw8Xxs27od4zvGcdV3rsErX3sycmMBa9mY69l5CKO44LmWz3OLBMHXpadM+r1+WAAwxSMAhBIhp3V663FVYb+8Y4DEubhg8MbvEvV6q06weeMWTLlnzYdGupg5c8zhDVt+NYSioT9RdyJK8cy7Zb2ccIj5i7q0x1HeeOzdOL7NDPDM06tx+f/8OrZt3Q4AWLr3HnjVGadEFikpRyrst8FB3tthl124ctFi6TEkS3dNGNCAFvJngDWKiyvnaxYTfOEFjFJs2TBCcTvyPMeqlWt8P5g1ewZGZ4w4u4z3v48bhcNFk7BYNEFWWPxluSZkHy2PXvG+OAg+1OFRFT7VHW/KryrnHCS/jR1PyW9XrYBwwtgKcp3QuqtQVVfCdGIcA92qRYa4bvyXoa5H4iKAN2/e5pPimbPGMH36tEJe4BR0cLwEGxPAndJDAkV+V6TxKEyy3YYAGaanlCxpOROr6npyHYicaeiQ3FnBNSbYy/KRAoPCIOfzK4+Zql2JieFclU1BvKPhRgZ/6sJVk0cM2wfL9wMC0qBKh33qTIkzmyTw1DVgldZL7YvBTzcms4ZvGhYIsTaNFL7STMBtkzaGSYlISLxhsi3kKi5rK205X6SxsTaNl0FWWv0iW6JO3apsk1XUFP6krvy8EPyp3H3fvTjmhFMwrdsFAPSmjWHp0mWYvXOXoBubuRDTp42iZXvoTU2h026h1e5ieGhYyNX+ot9Wu+WT/uKEiwa2UGQpcfHKO35gNvqsyzBGYZuudOrrAOUSAJJftw5YSYmSDSFqiYojiktyQFdcKGEk5vWaBJyyYrvIuYzsQ5Qgwsm0CJI9MKnBxtEFe0yAknhYe9MAZrOYCDIif9xCfyWBjnM/w/J9jrm8LUPP7/V6mOoV37judDvo0K3D6vKPbwOmQxEuOlN0viAVRfxQXyJbrGi8brfrb5ueHN+FqckpdEc7IRkFvysrJKkiweTywSdOlg3c1H/AYtJrCbrjgdrI5jm2bN7mOBuMjA4X3i31pyDTZw1hEGV5Aj/HMdigO9TB8FC4EleQmeJFam5/06ZN6PV6mD9/vhef2xwZ+9xZDFOzdheHHXo4PnPF9zCxcT0uvfTS0oS/KkfjJUVfhZFNc8k6zE7RN+Ef268agxwhMWVDqow0MVYag/mL5uL4k47Bow89gTzPce1//gwP3PswDjh0X5FTMchhsRzGWh+uwv002XUnbPEZwCwz6A510em20aFFIIalRRtJPUGmuFiXqSXlLCmUVTHhsSbovOG5jd63o6OjmD1jVriiTupHci8L6i4cw5hevNCE3EOoIC5rrQ5NTkzhMx/7e9x1670AChw8882vxdz5czDVmwqxT/gVQNgPXYb04JNeln9TFc/KqPEP4a4OfhEtcNPmcOwx7HQYGyksY5ds8jzH2tXr/P6sOTMxPDLE+gS3UWKUsEnMMQKe8zb19EZYUiqD5HtNc8YmpWpxsCn+6PMvBF41Pd4edCUhdgWsir5KobqrdLHzTeTHSuUteQyUAWDd2vXI+0ViM3P2DHSG3EtRStVdqiRwxqcUPvw9tZE6FLhZ1ovTcb2lDUb8CKioxdugsInQpCDQW2YooQtDThgTlD3caR7AWD2ebvrMVyfnDChoVTVht0/A/ECoBxpVBxF+DozFoMcGFNVaYgDi2ov2MpSuSw7WjdJVsewT4kQM6zbU2ujV9mBnwdgoX+lb8mItwlMXq36Dl+lOmIq+p22pwZQU0Nfhh6atumIV0yW2mhxLOrUO+nhKrqZ54vFt2P81C3Hz9T/C6JIjcNi+83HmG38fmYnfBTE1laPVamF8ooe+zaM2pfwkjUboz34/TE2KSii3q4clFhm8z3CGVsaS0tL1J7Y4ZcGCq6gv5HsV+KIcxzcefS5SDYvp1LjP+5yHi1CfY11YfmC6WZZUGsZUOxsQV4YqcVzpJa+gy6uCnIfHPYc34YVR7A4G7lOReUrcNE7flU+uwpaNWwEAs+fMLK7QQbUzJetqMlC66u3qcKzxCS+bb4TjAb9hDGbPmoGR0WLRa9vW7VjzzHPYd/ZyAs5gA58slGJAtgH3GZfvlWJ+T417U5M9PPHwSn9oyR4L/NydMJ3bRDgqG86Aj2nlyRcXK3GEdKW+f9ttt+Hd73433vve9+Lcc8/FwoULi8VVY5GZTPCRWNXGW/70U3jzxZei3emIpqu6wl81rvGFXV1f02heqUWEFKbW5aRNFymqbIkVf3Gk2IMYKTUMuu12u4U3vvV1uOY/rsNzq9dh04bN+Mh7/xz/379ehnmL5squXcICiXQiJInesui2FvsfvALf/MlXsWvXLvSn+li4ZIF/g30ic2ChR1gasV8f8pWoQ4WOVcqVbI5n2VXmsZnTMTJtpDgdQJ75ned8sZwkfoxDs1fPSNXpWEDBoq+semYNPnnRX+GH3/uxk2tw0stPwDvf81Zx148EMJ2vcl+VcYQvEoklbjFxp+EuRIbgwN5rwscz0TwW/i5ij0ts0ZtznBifxKaNmwEAWZZh4eL5MJlB3rcRv5UjQ0eTntME02KzgHhJTcLraGP0HJOq+MTOVWGO1lHLGCQn3Z27AKgeP5fpCnWFgLp25bOmfpWSqWOx+k114KtPuli+YSw2rNvoX4oyZ95s/1ZUImEudDqFY7Syb0TXlUAqc7OYXjzo49uW/VpVR/MLtP6anbBD21O2M5wNsqgdrKzKnaF0iFlimBe4Hbr1vc+M8WMncYj5ImY/1PmoL/yKcGzFsexjW9GmRulmIG+lIlK+2hvTMwaB8fYNeamMiVg9498iLXix+gqW/V8L5h+exxspQy89lONNliYLehx/qurVAWLTxcPYgkNTXoPopWkO3mcvfO9LX8D/uvJ6zJo94to2PkBYa7F59RN4/x+/G9feuxZ3XPNNXPzxv8HWnf2BZadojUcy40doGcsG8VvpXcRwfpV6RNIF4/6xq2kA5F0JGjeM7gOctNwv0tqovmPi9Y0xSgOjaGsFyY3aeoYpFHCIAWWEObUdwyHLbeGT/0R9JyLv9fGzH93iP5O77wFLMX10NFThTe4wW/jbsHhivKPob0z5mNJtzsLZ2HPZYgDFs8M//tGNsH1BwlUr+dt4HWUFy+JdqhTzH3EPbbHq2bW4585fAQCGR4Zx4GH7IocF3Yni/R00K48Rgn+sXeIllaOtXLkSH/rQh3DKKafgs5/9K6xc+YzMMxK4ZoxBR03+U3RNSyof1DjbNB/cnbI7k/umF6I0inJMKo+/xfk8tzj0yAPxhvNO929Xv/2mu/Cet/8p7r/7V2wSQLXK/dPrqXIQIuPHOt0OFi1ZgKXL98Te+y3DqJtoE0edX9HYT0jC5ZbDTV8EC3bLzEbaNL5zErfe+Et/fvGSBZg+e5rnoW3TOU4UR7geyiZez0D0Ys/JoJjw7ti2E//+tSvx9jP/BFdf+RNPc+hRB+Gjn/kAps0YlXlPFEvj+mh/0TgS8sd4vhZoy7kv5WGpXCyGh4DxsK2xYXznODZtKBYA2u0WFi1ZENWNc9NqhmNlH6Vy+3C+es43KB7U4c8LUZrIeD752aD16LcNhMSy6S1cfMU2dj5Vt4pX06t4+grcoKV846e+imUwMT7peY+MDPtb4zhtDCAAyhV4V5PnU9tF5wkrufqaaflVRLK+vros6NzVltBFtW7h+l5FOuMkhCRRXkXiyR23qdp+i9AmpSjyMmJ1UDqibYoNAzFw5zS0fqFlxgr3fWqVXA/NmrJuaAg+DJ6Mgay3iYeyKlq6jD2nb4XRUZs8mIsbh6OlPOwr/g3wQp9L0VRhmb41K4Z9VVf1q3SM8ebH+bkUnTEG7/jIR/H6jVswe94CTB8d9ldkUnaOzd8DH/zYJ9FuuxcltbqYNhxu6a26ShdhqgLBRiaFQFgBSvV0zktOjJJFAA7jqYOTZPPA5wsEfmFK2xKpV1WYL/zttv7yLeMtfFER6/xOiJjh/u6ImN6hSHwHSrfaNm1D3m7KBq0a8cyswc+vuwP/+d3riprG4NTfezHaI22pP9ljAPbW2YQ/Sla50+4RCmEb17uwadr0Ebz4lGNw0/V3wFrga//0bZzyyhNwwKH7INyVwKTE4jLiFj6eB19Y5jZT8g/R7dw2jq9+4ZtYu2o9AGDFAUtxwEH7BCzQAByUY76L2F0RF7Er4rHJaq/Xw0MPPYSPf/xS/Mu/fA1vectbcN5552GvvfYSjwIYU7wkrtVqRfG2EkcqaOryPq57XZ7Z1Bf6OD8Xk8Nvt40l641sj+QGOl9h3vRHO90OLvh/zsWv7nsEP736BlhrceP1t+HCN38Ar3vT7+G0170My1csxbTpo+6lfUy3mu1YnlCFNDGaOr5an5CfcpJYTAC7Jnfh2quux22/uBNA8SLuo487HCMjw+jn/UTtat1Keg6wbfMcO8cnsObZtbjhJ7fgqm//CHfffj/Gdxbv4zHG4OjjDsfH/vIirNh/OfI8Z7DAs25hbckT7E1iSZtCzDnurB0t3XGVsNmyaIzl3KmcWZftW3dg04YtAIoXHi5YOF98zUzKLsvReWTparaisaJWtXapW+vr8jHNI1WnKj+swq3UnaOp+nX2xfxWRZvyj0COusn2oEDfZIWjCkhjzub0TRYM/LnAFfKGVsMoiu1+v+8rtDttmCzQlifEcvwOEgLP0vheooeHR8uoZB06FkBCTgl5d1O/xij747x1famv7Lb8uXJ+pTvuj+p9boF4CaLOfZL8YvI5oFi1X68fl5miZzBcogejCeekn1MlJp98xOXq9k/FmNZTy9f6lgFX8klprc/Z0nZ5MBAcFBakEs0mNPpcjH+MT2whYBBMG6RebMAgutGxmVg6NjNMgCwAa/2dSbqYrI1FCxf5t/E6j6CfW8Ba5HnxnK+cUBTnxH7OXk6kS2rBVfMQ54o/of2LklkTXiDnzllbXP2KCIjLTdJURWKknpUJAQDY3CLv20CTlDeIrDo6zdPC9Mt0ed8ir6zfREbV8QhNbtHv5di6eRuuv/YWXPbpL2LNs8VzoHssW4TT3/ByNzyou35cQurfm2AhHzGi/gKHNgx2+Hk67k8bPmYAJgNefeYp+Lev/QeeeuxZPPbQ07joXX+O93/kHTjmhMMxOn0ErVYGcc+jVf62Va3XwG8WgM0xNdnD00+twv/6x2/hii9/FwDQamU4882nYe6C2SHWKvtYExqILyEW3TdSzy0A5nleivOpqSncf//9uPTSS/GNb3wDF1xwAc4++2wsWbIE7XaRHtJv1a3yQVQZXwfJ0zTP3Z38az46h4zRpjCb+6xq7InqoHIDOsrxMOQvlLkUj5UuXLIAH/3M+zExMYmbf347bG6x8sln8fnLvowrvvItLF2+JxYsno/Zc2dh+tg09yLMzL8Q02SmeGTMHff7/lzmzhXHYZy+hmlvmBXebqerII3RFD7Kc4udO3YCgNAxy7JCdpYhz3Ns37YD27Zux9NPPIvbb7rLv1SvOzyETRu24OuXfxO5zb0cn7uSHhHZQXfZpr7tyD6/G/hNTExi88YteOapVXj0oSfw5GMrsfrZtf6FiQDQ7Xbw8tecjA//xfuwfMVS/46C2Oggcttoligxjc6LGDKSFpzeBJ5US8dd0Cl9PnaEy1r51Cps3Vw8+jUyMoxFeyxAjhz8IiVDqPp8W2O5kEk+kw9DpIpu39Tkvapvp/Cn6dwztrjQBNOaYNwgOFiFaVT8AkDdZL9qBSW1KqxXYeqUS12NSxne9K4BQE+9DOIhV5Rer+9T1na7LfXwv7J+el/Lb1Zf/5Y5hS4eJIU6JvqLUl1NX72v/fl865f10b9EWfZfqFvt/9R+dX2tQ6q+aUyfkh8rZf/pmNLe1O2hZQ7SnlWxGNMrHbO6Xry/RT1Qs0qaWmGtuyMgxT91PrVqWye3Dg+r8JVW8uF+rbUY37kT/3rFFVi9ahUb6EPJ+33kee4+lVQyvnjRl8nKda3FA0/djtX39XD5P3wHs2fORd0tdoMUm1tMTfVKE3sDYPXKtX5/1TNr8d8/+yUMjQzhN10MgPvvetjvP3DPo/jMpz4P0xr4CbkXvGQweOTBJwAUbfzD712PZ1euDRO930AxAMZ3TmDtqnV4+IEn8PgjK9Fzt/5PGxvFxR9/J+YvnIPc5K53s1RQxTKsW4p1u/zldrAh3QvkRXIe3k0Q+kRgW0jc/+C98Ucf+ANc+v7LMLWrhztuuhcX/v6HceBhK7Dvgcsxf+EcDI8MJeHH5haTk7vQBJ9iJe/l2LljJ1Y+uRr33/0wnlu93s/Dh0eHsWb1Ovz3v7z8Be1fxhrc89AdePqJnfiHv/08xkZnl2isW+gzxuCxxx7zn1bjpd/v45577sFFF12Eyy+/HBdccAHe8pa3YP78+ckJ76CYVkW/O1fDUrrEjsf4Vl2dayKnKr9VNRP5jM7lQqGxc7+DVuBzX/ssPn3JZbj6yp9g545x2Nxi4/rN2Lh+c61v/m8oO7btwBf+9iu/bTVEabVaWL7vUlzwR+fijW89AyOjIyp2muZQ8VjT8wdbqqfzTVk7LMM2z9GkLnE6ay0ee+RJ/5L0uQvmYK+9lhR3PbD6Ih/1fqnPR42ojwR9vAzaP+sW/FK4NuhVeM27Dl+q6mmb9GJDVf4bw8I2F8IZVilalTBrRaoMidWrckrMEVUGCj4FEWiFj7ktvLHZsev3wh0ArVYLujtaqoeQsBSf1aDVW+tXteDOgZ0rGJVDHIqv1J7uXAh1qUvwlMtzUDZ5WiunrwWpmhTa8nEb6ax6lVFPiwW9DSBmlU7G0jEj+MR9EFwauKCkEzQP/5KtACTWhn3+XBqj8L4N7QrWCnwlv9x+9L1brqf/pQyXnQmha+TBaD8M/pB3Z1iml/IFJdXcRsstNezqHIF3OO47jm8/KYd8EYsDQ/Ypm3WpwpwUTR2GNOGh6ayVn8/SmFOFdfr4IDpSKZJ06zvXjh07cPmXvoRbb721tu7ulstv+9avjXddeW71Bnzp77/xW5PPy2O/ehKf/9WTv201SiXPLa67+mZcd/XNv21VAAAzZ4/hg5+4EOecf0Yx+afxFeyKmjGi31vCFAM/FhoL/xJEoJj0E6B4ZDJUj/Hj0GgMsrbBue94PSbGJ/CZS/8RE+OT2LljHHfefB/uvPm+36hvdNmxbSe++HdX/FplXHbz3z1vHnme47777sPFF1+Mz33uc7jwwgtx4YUXYvbs2bXJLiBzwyZYrH+r8si6PDBFn1poSGE5L3X86uz04x+lgf4YJwgJkWGffi7GZ2Du/Dn4uy//BX78nz/Dxz/wGTzz1KqkvN+VX28ZHh3GUcccite+4ZU4/Y2nYe68Of6uvJAHy1zIimMhuwzzCZ7fm/CEkcqJKTTpiP4CWbFwGu7aKM9TSF48x6bPeYeMl+G1y0knJ3fhnjvu93WW7bMnZs6ewS5a+B9vE0x55uJttjb0C+co3Zuso/MLv5Hsse5CUZPSFEuazF2bYEnd4mmqHj+vJ/SDYqR8eChiSOpc3WS9zjHcgCoH1NVPyS3pXpxk+0ac5LUse97WZOHapeDFtq1LeEIuEsLcZzjg+lGj8Ul7sW/FflmagRXHxWReGax5mAiZOouQW4VkjiYixgT9wtSYayVX6ALfovPqVT4PS5FOX1Y13V6haJhj/jHBbzTxpXAIWvNloTJPajs+3RU2atuTekLEYvpQwYAPIHplONio14jDJ6W8BSHPYDqa8jHeO1QdHUQ6OiMWAKRFQyAu1CoDVtV+qn5qPyanjr5uFTe1etuUn6CHXgCriKXfld+V31AxxmD23Jk48ZSj8a7/9gc4+vhDgFZkwscXCk04WEzkLTtuA7gh4I8/7nmFfSPO87HNotNt48L3nYfDjjoIX/wfV+DWG+7Gpg1bGlyl/V3RZdeuXdi6dWvxSCTieBbLx/T2IBd56n5j8uuOV40fsVKVXw66kMvHzXL+o3dQjmkn55477scXLvsKVj+zFqliMoNWliFrFZ903HPZEixcvKB49CO3Ptcu+oJ1n4cEO0Zd0/UVv/6s9wtCuZDBKN0fOt/v9bF187bi+X0vr6CwNjDtuk8QDg0NodXKmCzOrayjlyYO2ei5or6emDF9mdBWq4XRaaOYMWsMy/bZE4cffTCOPfFo7L3vUv/ehX7eR3mKLXFMX5JSwCayNgOwd2sJE/3EXsqQ8nhIls8DkrOk8Y9rCY3gvtoFGJNhw3Mb8cDdD7l9g4MOOwAjYyM+pop8Vd6tKv2h5Bo2g0l0J5Gn1uRxMZoUPlXlXzG6KplV9XQ+2BTj6vSlYym8asKvHbtSn7oFoopmkG1tBC9N7hxoAs4lvtDdzvrZrp5Saf6+jiMU9H5liunqzxfdyL9Z3ss3pe91ghqN12fyaGUNfgIblLCBa8lWWLAr7g7wqdMRf7by5jSWV2S88haG2cNSMbZywL+3TC5y9nt7iL8J+nn7aMoKhDsRSP9gj7fU3z2A8G1u1haBPwdHU3IwB13pX8uWOZj/g6C4fqJ9XI3y3N3R02IC84doQxvRzwhehSo8QFWMkU8i7aNtjsYPtY9fJWbuY21H9oS7SRDuHiBvWDlQ6RLDjdTxGD7EaHZnuwr39HGug94eRH8q+kVcIyMjOPOss3DkUUclfZZbi1YWv229ChufWP0g7nzsF3jpUS/D2PSZIllqUjZt2IIffO+n6E25FzQZYMHCuVi+Yk8sWDwXw6PDSb1+V/7PL8YYTJ9eJML77LcXDj3qQCxdvgTD04ZowHCEDAvY8QBVxhN6Og6eAkg5LjMmPjb1wMBoWgYnvOxoHHXswXjqiWfx4L2P4vFHV2LT+i2Y6vWS8Z3bHFNTUwPHv9coy9DptFWK/esvDz/1IJ589nG88kVnY3RoBqoMeOaZZ3DVVVclz2dZhuXLl+NNb3oTzj//fOy3335ot9u1eEvHYjQxPNXYqutX4e/u5KNN6bX+TflXLyhA5T986KWJZxgTda566w134KJ3fhxPP/GMr9Vqt7Bkz0XYY+li7H/QPtjvwBWYM382RkdHMDptBCOjw1i4ZAFmzZrhJvphCh1yWhv6qE/iYgboM2W6+Pqak+MerYkuMrC6rZZBlrXQamUwJivxKcur7qh1NiktS+dNZtDudNDtdjA03HV3Aysa4/zJciqeLfK7aX3+6LGP8lVbSkl1EBQ5pcs3eb5Fmov8uZTeFpJZvsq+XhruJKATKl+nnDczwKMPPe7vQBmdPopjTzgKBqb4sgklvlxBys95fGv9qX9U2AOmczzWBsuvNL2mqcsnU/SxbS6vCbbU0cT0G5Settt6ZaQqUUw5M7admsjHtrkRTVdDolfNFC9RD/Adwicj7qB+voSDj3UvxcoAH4FCMxNucyGkNIbx86cCTUme4xN0lSOGs1jSa/6I1HcntabJpwAAIABJREFUad86H/kpq3HXiY3Wx3B2gZ+F4OehzgFYobO82gzOn+znCGXC7T3ko3j7kDLKf3yfgEx8MxlMHxvsY7NXw2T7fS+S33XhWYoNeT7Wvtx+CFphr2gvJk9kytwesskwG1T7g/m3YBavH20fyPZR8RT048qm2ofrKusLj0SALYYJGh/0imhTGr5ftdhYx1/XqdK/iia1PX36dFx88cVJXOz3++jnObqxdwAA7uVJ5VVhay2+e+MX8f9ecSsuvuTt2Huv/aGu7VQW27e47NNfRP6dos7I6DDO+v3T8PZ3vwl7r9gTQ9O67iWqcb1/V/7PLwYo7oRzLwzzEwcDN34EymKBmGEWw6WANKyvAMU4xHFY4GXAdT9W+QmMHGtpIZWGzuGxYRxw2AocePi+xdCcx1+d6Iu1iL6DsqmfTHns/HUXYw3+5aov4sqfPoc//8gnsMfcFSUausJrjMG1116LH/zgB6X3AGRZhr322gvnnnsuzjvvPBx44IHi/Ud1OV8MP5vSD4rvVTQpbK1K7jX/1BW0JmNMrHgSns+xMdmI2ZbMdx576Al84gOf8ZP/dqeNQ484EG++4Gy85GXHYd7CORgeGkKr3Ua4d9yySRKf6Tll/CGZd8kic4j4zDRVYnUgj4kVQKOq1smO2FQSHePfhC8Qt8+y31i+GfQOqRVvY9a+Oh/2cweZZ8l8GIpX8Gc8fphsOsXrs9w/zAe4GKaf49ebynHLz+/Aju07AACL91iAAw7ZF/6CHdnv77aF1McNAmK+IvJv50/IthPzIT+2lEsT/Kg61hQ/dP0mc+Y6ebtLM8iChT4OqM8AxpwQS3J1qXJAijb1G+NXVyc2mJTkgmJKBpeHB4YTWWYYHlh20umnJ6X8kq8JYcuZ+qumvJdxsCsBlgJG6rCMNg3FJqalPK8ra0eIQSEsHsCCXYyhySS1mxxfgi7Eg4OV8gUHJQUYEtADP9aoYJeZqu0WxobfUvuA2NINTTG9lH/IFj0olfjGBlwwG3gbW2c+raBq3WWMCNl6v9TmToZ1NhrePkF2PC51e2k7y7L1LWYl8xM4FCt1GFWHVXU4wulj+sX2ealbTKjCvdgvvTE5dV5fndA0LbSSMoY6xS18vbwP09L4Ijo89MOsm9Ztwb/981XI+zlarQznXvA6fPKv3o/2SAtiJakEDrwfBZ4FmZpEqnNSH2G0l1GQVMj3sR/jyfGE81C6alN0PIguo5QV+lT5OKG348+7ZhgfJK1XRstAvf1hYl7wzKFe9sTvRKKE1ZJE4xDK9XqOb34sKOp5v6k253cx8bEPwi2G+cIEWHS0uS0+y4WswNAQY0bmBNagpfxWuntLYbccthka8rZHszYO8zHu86q4AZADU/0ptLI2uu0hjxM8+aO3/2dZ5s9TybIMixYtwjnnnIMLL7wQBxxwgLj7iH5juFiFr01yNdKvDsOrsHTQMkjemaqj9W6kj87vfHzJvMOyWBsfn8CX/+fX8cA9xQtKu90OznnbmXj/x96NBYvmoe9fvGZhbV7IELkKEw+Gp9puAP2pHmihqNVuIWtlou+VxvMy9zL+SOGcFNBsLPkF7GRKNvvV+Ec5Cf3y3Fxcjaf+p/OaVNG68LbSeklTS/4RslgdP+aydoLs7roNhNY2wsP7lFGX2sf4w6CcT9hd+HPtmudw3TW/AKVER/2XwzF/3lz3AkCSrWIvAG7ERcz3xrC9ivbxTpClSR7YFJua5oWD5J+pCfrAOBKxNVWq5si0X3oJIN/XqwUpQ+om7rH92IQ9tXqR0id2PJmQA6JjBBwqAtSywMpamafXK+VRmBCgpbbEqi9CYiqSIQgQCcmvFiNpJcYy8AWzh261p10PjpDgJYCD66NsMkGOgbQn1setA3YjrgTH2ohsCu3DbSZ7RMJpZEyFMaQGzLnvqX3EwBTAxjC9RDyrRQwhLSJaDo7GWyhqKyaU5MPwfsTiJDLQlxJGricdtq7xBDA44GdgnZrYW6oP6ldskUS1T8kP1jr2kfiOAJWuq4+nsCfFK1aX40cM3+r01Ppp2pieVcln7DeWjKf8xPVpgu0zRmej3+9j+/iWkGBYtvijg5v1kTtvvQ/PPr0GALBsxZ549/vegvZoCwFjQ8IrrvwK+4MMio2gtjunJqK+szMs58lGpFeGiRZYzHPQ8rHv0F8sAiAsErrThsu2rh7rG8zpZV0EjjA5zMTAi086WV9VvFwkBT04FYWm5+na2ED6lPmDsJvNTF1Vro/SQ0zQrbTVKeL7vwmx4XUjX3AcZm0deNEEPsgoQteWBukw0SnwyasJpZ93McMIT+WiWTSbjh/VTJCPbhGNCCLvN97UJtT1AzXVlbpaWGzdsRnD3VGMDE2vzN10WbRoEc4//3y84x3vwH777VeZyGo8jOVtvFRhmZbBMbBK9zq803yr6tSNBzH9krllA1973JFBUIYK98dkBnfffh9+8N0f+3NnvPE0fPQvP4DRaSPo52zMLQ24PL8w4tfLZbZs3rQFn77kMjzy4OPI8xx/+J4/wNlvOV19prWsrBjLec6qcxXWZyUTxj/iWzE+GspPTMJp3FbGw9jQh3ye4wDGcGrjJrbp/ER03XLmJbEVoR+DtUEhg18lV+2ijAqY7jQnkLBwL5hm9RWMWY/BkfaITMrZJR94fPIQneGm62/DYw8/CQAYGuri9LNfhdZQy32RRsabKKW2pcyAjfN+bCZcLrcPr1sWUd2/U/ldjLZqwjwoJqTmtzF5XL8Yneatz6XyvVSeaW3kJYAxQ5oej4FpE16xc4PIreMNsPyHBZUPgZLsDNQB8tx6Qs8jFuTJYkqblnXWVJWa4STC3iUqCrwsl2OY3YbbE0q9XIUyqLHHy9w9n+m3/VvNxnC7mT7N2CNmT9IYY5h/BrGnoJd6qhgsk0dkJnhGK6b2IePd84/5ISWWtY+ww5TbR6vhQT7FuhlGDJLQNSlN8KeJ/EHkDKLrILY0pafBYcHsPWGMxdoNa0BJUiwh030kz3PcfeeD/sjRxx2KJcsW+vPlSKwe2GqUjf9qOSmealJHW+JX9QtJQ1u8n8SWyMp4X10SHIw+x0lSfdWUafypsj06AdQ0pUXH2pjQPJVtsWOVOuo6Unftb6P9UmK/m9jAdDONfFzSKNBGxuOYrr5uhbsAYGpqF9ZtXIs5Y/MwOjSm1ClXsNZi8eLFuOCCC3DBBRdg6dKlsO4/oW1NEpqSsTs4GDu2u3j3QuLoILySi7CyhhxrK0p/qodrvv9TbFy/CQCwx16L8SeXvBPTpo/6T4D6MTeuXUR+uWQG6PdyPPrg47jnjvthMoPn1qyHAVD+WKQWwWQ3xTrDtgfhX8qfauSwX5mTVDAwTE6ilM6l+nNKniE+g8R3oPXxw6qnc8gKW0wsPvQx40Vt2LAJV3zl2xjfOQEA2PegfXD8S48JE9cX1J4qXoPhgq81IE41yS/r6v0m87tB82b6LS0AvBC3WTUpuytnd+sRZapDGHYuywLfPM/Br9bW1ecaWXWc/1bppmliuqfkpYpB+aIQl5PyT53+VXal9E/5IMZ3kH2tv7Yvpl8T+3jhLpS+46unaTlN92P6kxTaC+dD8jZo+xU0Yd011ClfpZAvQ6zXv6xH1dQ/voJZRQsMDpy7g2u7K+s3IeOFwOtFs5dixuhMPLX6ceR99xgA5EUCwMWPa0ILIJ/K/dV/Ywz2cW9HzpHH67JtqH3DCP2+4bTlGC3VHUSOqlCJvRalJwIayYkASUxOSf/IiSpciylRKaeiG1bKaWBPlG2Fz5rqqOuKeGnQNpX2RGyJqCDbVRmaGkd9/CD0h4Fj2Kbrbt+xFc9tXIuD9zwO7Vb8/R9FhaLG4Uccjquvvhr77bcfOp0OrLWluxzrygtxC34TOuA3h4e/rny3evz1NzuXxvItm7birtvCpytPOe3F2HvFUuTuLpx07hPG6JgcsGOAu9s0M2i1W/5wr9fzF7PT+ZOUQ+O7lqNxoSrHSvWhsvzB5fw68sOYzBivwe2r170JTUrXKr8RnvLzWWbw/X/7of/8X3eoizecdwamTR9Fr98LV5Sfhz1Nx4VYG8XKC5GzvdC35KfqNan/QuS7MTkZJ4wJiD0CEDvOz8fq6OOx2x/q+KR0qjvOKGDYr2H7QEgvsyzzEZfn/IUqcPXkNt8vyyqfN0qPENYE7uW6QWeUaIhDTB/DeRlEeYSbHN2+1X6RpcQ38qt10bbK88H/sf2UvxHlEacBo+P6V/s6+EXaIGWT5JhfOE3K9zG99LEg30RkBK102+vBK0ZDlFKWYfvStzpeYz4pywh6piCMA1UdJvDbsOrwQONOFbboulU8Y7gWq5/a1sdit4vV4a/G0Sq/pWwaG52F5QsPwqNPP4SJ8XGqJNpa441xE4ft23a4A8DMWTPYpN/6H1vCE+ve52MFKVBkncYFkGXxRRMhRwICZWNtIUNhOKy79RPOdhbHAdALZpTsGuIJHeflBITkljCc5Dqm1n2+jvQvdq3zr8MgZr9hCliyzSqssGUd6QV43g/M5/KdTDY4VLiDrgI7HbltpKCRv7x9SG3LmXI/QLdbBEuYTt5QOPsjbWylAV4RVlVgJdH682QspI8DHbOB62rk8VCXSLhMF9NevOVivT6lMcbHV9Ef/FV6y3UEVm94Bpu2bsZBy46EtRa9fg/9fr90S2nm8HLRwkU4+OCD/Zv9jTHFewGoNWowLZZE7g7+VtFzWn08hr+6zu7krDGbdgdLY8WouA1jfHk8NDAwmcGaVc/h2ZXF4mrWynDCS49B1s4Ez9RYHHIHna/wXCNMoTNj0G63PZ/eVA8UkcbxsYw36V7OqwzTI55XSV1l7Mt8KpbHyfEglmtwGbyOliGPpXwo9Q+/+lKPHje4rhory9jJ/SNzsHKuVG5jSa/14OMT2Sx9r2QY3c7Ag/c9gi/9w79gYnwSAHDw4fvjDeeejr6f/Ou4Dv6gX4t4vJbGz5Ify/7QPvGWVuSHGgN2BxPq6Ot0SvHXeV+Tua/GwRSdflxA02ZcmRjzKsCuU7iJU+pWP1K0MX2rCqU3lnVAlsP5fcAiy9hVzjxHSEQQkklrwz7VFzRh6hTOkWypuzhnqUsSLf2TusPtF3o7fWA9P1imD0IOY9lxluv4fX+eZOj6UHz5PyHDJm0TPhG2OL9YI/hq26I2ChtY3PC6NsjSv56vt5O3kynJDn4KLVLI4e0U/OFjzNtEPjOldtI2iX8+blnbl/xJvtGppaO0XGumL4tbH98+9hD8YHU/Yn2CtYtvH9YXwHzMfRTioyhV/ZtjTgqjYnX14FBFw8ugjzPVJZQpTNNYmsLjlC/qbgOLLpiY4tNLL9r/RKxcsxJrNj4DcOyyxndECwtrXD8zBTbk/eLqoQHQ6bR83wh3pNiCluOJpQWnMDO0PKJs6CNBX7dU5Uz08USrmhynihM+Zn26yjALCH3KgNvEfC38UBAb8rlPfIyLZ1fXoPARlKLW+Q7BlpBGWq8P2U9to9/pwfHXY51vy+CHYIvztWV+JJaGYqpok0DD9KT+Fdwq2kdiFbPI6e51s+KHoZJhvmY+sgh+gGHvywsYxa8/EsaC+oP3p/F6UcyFcYrLYPEDwiwWQ74PgPlPp96Eh0ymiDmGmUbqByvjyJqwKBtiyPUjG+L0vkfvRoYWDt/7eD+Z1y/xK8JBXmnieBC7nbTqln+Nv8L+ChzW9Ck81DQ6idUlhuNN8tYY/zp7tM+q8l9/nk11Qr4I5UeAxkYDg4cfeAxbN28FAIzNmI6DDt0/xDfFGB+3rZG/LHcLuKfGbadX5j5fWfCC+2QfyTIChz0WIvR5n7sRdot/3F6EeuyX43LV2BfyiDC2WP1reT/n+QzzudfFD2YMG31mFbCE2kfbh+CjgMtUl9kEwIh24bKCTuXcNOCkyGUhefN40v71Y40lHgr3VDxymQCwds16/NkH/xpPPb4SADB9bBrOf9fvY+7COX6MKdtkmE0gDwjbLJMT8JH8ydqJ4lbsp/u1jxXVv3WpmnTrOqn8s4q2DhM05qToNaZpGVV6xmTpknHGenCIgZ1WhtNqkE7RxAaYmIIxPWLOSw1kghfoiib7z7irqSbsA4DJ6B0A7iWAlvSBoDUuCQgvuLOOhq+ghdVWzx+KD8ku+odIb+A1CUlSuArMdTFeR3hZltmI0r6gIdsMazdRT6ah0kafDzHbnC7FiFZYZKQt1B7gv6SDP2bdy7ekTiRH+Nwpom3x/lV89Yo1vGz/mhhnrvXtQ7bB+8j987Fvma4UN5yv9fW5f6ndgxyqR3o5Wiv9JfUIwwhMsIH/s+Q3GwZJ3xLkTx4T2hc+vll/Eu3jG97RyRVn329AQM78UdO/gy9lzNPxqjpVNClaXlIgqvWIDTgaw1LyUv9SheNtzHdaht6npMLA4MRDTsPE5BTu/NWtyDymWNanTPECNYQ+nCpeHGE9WJ9j/GjCTHhHI7wxIVa8fcSX26yEGopld3k58Al6Gd+XiQbhl+EmaJ/6og/8YJOnEXjEfGQptl0di9DnDC0vsPYhpobaJWAKTfyCPqxdOJY5OYQhfoJPmlGbsvaBpXYxjEZNGGGLF3xSu5MNVJdhF3ONBw4vk+9b1j6WcJTbxtoNKOwnbKGsldqZDUhhXLDBRvIR8XI4F/ThfgyYTvERfM3jG2qfx3vwiXFtSBgb8oECA42PKxviiWRbrp/DcGfv5K5x3HrvjVi2YAVWLDkUxhhkJnwthEqj/Eidq0te63C4ik5jVex8TNeq/FMfi+F7lf0xf8T04Hpr/E3yoW1Py/CC9k3oABYWjz/yJHbuKO7Gmjd/Dpbtu5ePlRDHxuckHp5MGHfhY4/nAvy/onSHOpgxK7w/YsO6jehP0WMh1ndQw/gVtsHrE5APAWNYvxR6lPgw/UQfs+W64p8p/QISY3k/N05p3meFLeD2qLilL3wQlmt+cBjp24frZhHGDYb9TJeAScEGGpt1jHlZkPzCLwRfo+v7MYCNgU4fWhbKsgxPPbYSH3r3J3HDT24BALRaGV5z9itxxhte5e8ykrgux8aAg+V20jHooU7EiA3//D6Ls0RJYR/HhNhcVeOSpknldpx/7Hisjsan2L8UhjXB95g+emEVYHcANCkpQNSK6FJFo5WvWunV9FXAW9aB/7LVJEtdjzmF8czZm1D5ShVtU4D7qZcNv3QMTk6pvqexjDZ0G77S5dNFr29Y2eP1rZXdyvOllTnHg6+uyWIc03AFJKSqRd0CnLg9Vtjm0ppCFxO6PecHZr+B9As/V8izHhysJV7MvzbYwSPZ2+bjzzA53J/kNykfTqYxYmrNBYTjJtioSIQ9FG9kubUo+8eE+LIw7o7Twudwgy6PrWAPH4pk+4Yu6Ec+71PPw5I/ef2grYhn5kO/Qk6Ke18ZZi+PoeJnfHwCuc3R7Y6g0+44teJJYZOV3BRYpoC5SalK9Or0aaJrk5IC+CYDAS+xhQFKQg9eeiwO2OsQXH/btdiydRNRKEXAQC+hP8WQiZEY9hcsXlhSZqIVRb/l+36C5BPVkqJSfsj8VCLB6UMaZjlLuQFtpBgpDNxVcEbjuyfhkhE1DfePr8dSJ16XgxUUP1dNLLMa2X/JBxB+A8InQCmOAnZSu4u4M5w27NMVIZ2siZRP45h3FccR5iFP5uoaVkmNt4b8JzNUv0ltQ5MFOhGefw1+KedHRvxY1xjWROzw7NS4YIO/ZCWut+pHqn/c98hdeHzl4zj16DMxNjKrpCvHv9hVrNh+FYY0zbc0XRX+pvLBGH0qMU/pUKdj6rcqHx40/9TjZzk/pP3QV/N+jo3rN/uzCxbPR3eoK/j5bSGfLbdTnmhj8uXYPjQ0hAWL5nsuG9ZtQm9yyvMMvHX+agM/G/QxJF/ld1p37madb3BbiEDo7/NDWZ9PmP2+9dNwX0G3sC3xt2Kff9oU/DjCccrxOf+QN5L/jOIT8sDwG3xZbi+NZ6nfsFtAXRGrxWdAw7/MZDBZcbyVZWi1Wlj/3CZ89QtX4K2v+yP89OobPKuTXnEiPvzn70N3uBv042Mlsx+snaL+pX8+7+ZYKfNLMN+lembqwrJwRSL/SuVQdVgU498kx0vlslX6Vp2vwvJYzsjrRj8DqBXVvyklq+ia8N3dejE6rR/LT4pfT0A3phg/gNMtdAD8N3RFHRf2vJMb2iC2LKGklVtrlXwTassEViZP4ao/ID4ryBgJ+U6QIV+IjgqfVzCP+fP+igTg98E08UFnuA88BIAyFqIvsi1aKTRaReYv4Un4zw16+6xX3Epr3GHlF+5/E1xNa5z+8ygsLsJgZdkAItwMMDnkA2h9RD1GL664GaePpIfyN+lI8ssxqO2W/HxImtAWhb1GuhvsNPMnDZdx+4jYhDYp9S9lk294g+3btyHPc4yNzsBQdzgK4lXAHuv/MWyoqluHJXoB4oXGqjr62G1eg/DV9aL71mK4O4rXnfBWXPbNS3DTPdfh9158FnKTRztqqf8Jh3kJXDpkRPI+Q3FmwyckCbOK1TGE9C30W92fRAeWlrvjDH+FTSHOvTaen+Kv9Pd7jj/vYkEOOGfvb9FBKJP1Mhi9S0Tl+FHGQo7bYPo7RQqu7Fhof6WbR0imm7OluBPLlnSUWK/MQCxe3K3OJR1NoDeS3n+yVrQN00P3AeWD4icee1wP/pJLotMh5e/GcH4JfgwUXi/Sm7UnyI/OB94/In5lXMLJJIjt9/r4/nXfxLwZC3Dy4WcgtzkyZMk+XoWJldhQUX6d+VuKLoX3ul6Mtgn/KhvqxptYEV3BgvUeiYk8L+j3c2zauKWgywzmzJuNVquFXq8X8hONnb7HUkzLfqRhL4SZhckMFi4OCwBrV6/Dth3bMW/6XKcd77+szxt2RLmM97VkfmLUfsJ3LsVwdSgOJJEpVSofM6W/XF93JCPassZKZDGpte727by4c6N4Z5jbt7k/n1sL5MVvOK/+0fncwua558955jaHzXP08xx5nqPfL37zfl/s6+N5nx9z9ft995uj1+th+7YdeOTBJ3DDT2/GqpVrMLVryvvmxJOPxaWfvRhz589BnudlfGa5n2gg7zQ3ThmaMeiGCzFKG769Wb4c8snqUpcXPh8MipVB8rE6PZrktTFM5LjXRB9raz4DqAU0XZGoWiSo4jso/xS9McVzrQAwTi+1Ak+W3FVVE+vo8iWARceO19djvs9fAZ+USZRkgzqTX+wb9olTI+T56kFUsJWOsRxYJGIlHzkdKECcrqS/1JfrQr6iRMaU7IcJwxoleBbwihUgLgeGKD0AMH/QM1Wgb8EKSyh/DskR+TNgjBH+B6NXTRO8qpuO+SC0C/lGeEbl83SFjIOeiw0T+DGkZEAYG7x14AUdmfYRKj5whglDiGk5KMuU3ZT4RX0hkmcumcWQa+MMwI6dO9Dv9zE2bQZaWTvan6swoYr+hcKS3zZ9U+ysK5WY7LZPOvx0fOeGr+LK676F4w47CTNnzo7gRxwzIxJrtnlfcLFE/dfQHQEV9fh5kWxQpDJ6RUYbNlSSNpX4pm3hfSbIibWN1NvPZ/k+UKY3LPE06pzXQCXoJfnSNst+qbY0I+4LSaWLET/cZ56fxwdTtt0E/cuptkH5UNm3QjPRdnIB2pR+OT1Vi/jA1zIJO8tbPtYMLRrLX/KPiIeoTUymBX754C2444HbccH/396bRkt2FeeC387MO9WtWVUaqjSVxpIEEggJIYEkBltiMIjBGFY/T7TbbuMB435ez/YPGmw/0+332n5r9Vs2xjbNAvsZMBj8DJZtjMxkMAjQjIQGJKGhpNKsKtV4b+bpH3n2OXEiI2LHPpn31hW6sVbVzbNP7IgvYseOHXvnycxX/x84Yetp8Vy3QTn1knWtUa78cflT2CeRmye93tRzrDzIji201mFzvb/Yx9NPPl3J3bxlE7roYIEdNvFYGYlpztechhWmTgg44+xT0el0MBgMcO9d9+Haf7seV7z+FZia6VXzcbix7KPfH/4tBsMvgh1uWONPZscN76DczA4wKPkGxQCDftlWlJtRImNQbmrr182/Rdm/5htUG2aOrd8fYLDYZ23lv8Xh9YDfW+Qy+ugv9jEYyPcolhHscSPObKN8ww15UdsyqH1SlL8+1jhkqP6Vm72Rdo0/HiAMR3/0AAIYFAP0F/sj8Ts7N4Mfe8sV+M3fexeOPnZrtfnXau86wHgBTdZZvldqlL/xJj1qjmuWmOmreUKJb3yXMgfl8Hnke/JMqlb25k7xAMB7ArySafvRJ2KqN4WHdz+ExcVFTE1NoS5hClLQCLUF+RLA4XcAlKVizN0gf2O/UJdR9f1mAdPYMDX6N/HU7xI0JFbcPP0DI/VL+YK8Q82KQVpwoSzIKNXy+AluYPfRkM/rohpPszCX+UnxR/Dw00Vx3Oj9gvmzvE/Hn1qljyfDSPEIekQ8ylxqerRKhXXbyHgw/4385fJH/zZODRv9aew2x5v/LY2S9bOYaPSq9yWlxgJ7n9mLoiiwYd3mxlM3Pwz559lGBYAtG7bh7a/4Jbz/r38Vf/fFj+Fn3/DLKDp8ZyEfQI1DdqxJSC2O5pNWHr1yW1qPzOPzj2xzW982c7mXW762ZNQlmSwpIYfleFlKpkyXzXz1knTbcqonFkziMjx67XZJxZ69T+GvPvcXOH7rDlx18TvQ605hsT9avD9XqO0TDF5545BWPzVfNeNmcbGPvXuGv64SQsDGjetAP0IyUoeUMvR6ZfRvUQw3oP2FPg4cPID1G9Zhy9Gb8cjDj2HP03vxu7/1X3H13/0Ljjv+GHQ6HfT7Axw+dBj7ntmHfc/sx/59B3D48AIWDi9gYWEB/cUBBoN+9W71IL4DPqhf1+9kNzfu8R1yel2/2014pP5F/R1dqzQ5WrN2Dc563ul4609fhTe97bWYXTMLQKjbAYy8GxpYbIa6Vq7vk3kRWAwHlgfpdVHwT1OJtJz140pqmT65AAAgAElEQVTKN7kkHgBYpynSYwa0ncvwGOd57EqTz3VH3uO2noD5Nevw+JOP4cCBA5iaqn8jV3qAdXiSNXynuUO/BLAgv5EbbUIzQOM7SZ4yrH43pCDy2AOSbPOqvftq30f1f3ysRsLXPDGW5IWRsm+Un2gjp3tgPHr/Got9nwstxDGR/NfsP3rgMUr6HKhZHOWjoCgZP+IGxihOBXnSdVDjN/1uP0Uw+kBvOj6HgVFj6Pf7eOihXQgAjt58LDqh/uZqLdfE15VcR+GXesQrxRNJyjccVwqvhTn1KJiVdyV9Gr9kW2UjAl7xgqvw9e/+Ez71L3+DC86+GOecfj6GAwewY3ibaNAU7C/jIW8QyHIaiYP6TuhX0GKBYhgyFwV54oUnpAY++pGBJu4i6pFAl8mv5knYDYz4sygaMESq+pYvGr6gQytNVDb0TRyBNcbXdWfuFzH30UUgrgkNmcOLql3BWsRDVhp7jfESchqRpx4GkQ7V02eV38tOhCfwvlF+Qy9jluKKxaFm98impmxbXFjEJ//lo7jj3tvx/p/7/7DtqB0Vqzinjflv5R3al7+W5Ep1Wo5OjXLXA68uT/73YE/3jfWTVf+EkmNI/UEfi4uLVdvU9DRGA4L2b8pvaA/DL4Y8vLCA/c/sx30/eBB33HIXvn/nD3D/vQ9g965H8fhjT+DxR56oPnYAAA89sBuf/dQ/G3at0kSpsax6Fthm3+GfUMop69tAnqQLw7Yhz+j9TidgZnYG244/FudecA5+5LWX4yWXXYD5+TXDpxhMVNITbDUNUzePT7qgxiSta6jXKIPHmJM5dZZVfw0hjD6C732U38JM5XMeSbeVD72HCj3JMRyE9FoyWHJEKlmnNv5a8paMpK83rN2ErRuPxZ333YqHdu/C+vXra77G6l+/DGUB1PgIQL8guZdvbYZtYmirM6K8EeqnAZqLQSxQa12hKsCAoqg3r5WPuB0NWdEvBbGc/s/5Q/O0jlSjEdGoWfWTBvXmu+mAAFLMEV2gY1iAfK5eks9q0dD0XNTUaK3kF+JOY+TzqVUBVhZqlapmJdes6agNoxXnSJyiHpsm3qLeNPDKkVbd0Q7iT+4vazmpP36C2v9FfTOM+Kl5fNN89F8qZ5qlTiiKkY/bPPHkE3jo4YewYe0mnLzt9GSy8h4Q5p6m8qLZKohTuqWDSto/5jPenxLPZ9LCICV5axHRDjcGg0G5iRm+s7LYLzAzPY9fesPv4fYHbsJ/+fDv4Pd++Q9x0vbTED+ygpiZtHq0sTMFqmgvAvjnQqvSlcQyog30dWMnR+Y5macVqNiPfJ9AzJkj83RkB1dDG/LS2834r2QHlsMiuqJo9ImYh4/dAvQz5E37onOZ/Y0VgWYh6otQJfTqOxWq04ZQD1pg+nieGck51H46DBFRXCPLG6H2D2hvqi86d8RPxOkF1RovSh8WxKQQ16xSUxw/lAxVPuOLZDPfhoAmD8g4MOxFUZThJq0tdHKEejwQqp+PrGOe+I1+LC1+ZpbmoUGBf/y3T+MzX/hbvPWy/w0/cv7b0C8GwCDO33p8up2uKw/y3Bnb4nW8nzps1WpE2sbzV4qkWlLDrrVbm3St3apZNRu0NaJeD8uaq5FX5Lnc7w+qn1dFCOhN9Ua2/03sZd3WGT7Of/jwAh5/9Enccev38d0bv4fbbroDd91+D+656wd4Zu8+BecRIFITVDVPnAKxrqH1DWsLnYButzv86cvu8EvsOt1OfV3e65K2TvlFd9XrTgedbrfBM8LfKfm7HXTC0M/DTXMH3V4X3W4XvW4X3d5QdrfbRbfXbdzv9kqeEtewvebvRL5uU2an063tqrB169fU7m4X3U5Ah9pd2tpt2EP4y7beVA8zM9NDn5YfBRkUBfqDflXvSXk65qkqwuk6HmidSPoRkr4fZkQPrf9pPqS9hPpP28tqeSX1RomVQ6ya0TqQ0PpZtaGU03I3/pG3xxOalPCt009OVsLUDhm0PtqiY2GJ13Oza3DOaS/EXfffhptuvhEnn3gyZmZmSx6AvqNR1QICnkExQPwWgCIWPY0CqpwetACgmFhxW9eqzQlSkGJgqKYuHKoioShQ/bZyqa+yf6S4JjZVRTXqorWxIFH+okqw9Ya9tB/Epli8l9/0X1QKaPFcL3OVHVXRXCaPUOvh36I1LOJqO6PegoxPNTCB+LDUP1xNAvFXfFH7Fw3fg4wT01nU90baon3kuk5hpSxSTIZy4aN4SVVQ+YwWDBXyaijr76ZoFqiEFxi1Jc49MpahdEdVjJc/nxXtrHihJNCG/VUgkbGofRTVfP/uu3DgwAGcd+aF2Lhu80g+0Q79tMRN70n9aZtUyHkSqrbh9uRCyW8aTg1Pqr92T8uj3W63alss+uiV19u37sB7f+qDeNcfvxn/9SO/i//40+/BjhNOx6Aov/ynILEnUEPvEFij1G3mnVpWlZVI+6hNzBdVP5I7qs0c6pgv4pwtZVU5ix4u1kgaemuxJP3Xm7imvxlG1PmnTrsk75dG1Tk08sQ/9mZkOO/q13TTWDDbmutMnJ6lF8hcrf0txQ4QAss9GI1PlGVhlf+qNYGsLTE/V/1K35KcGGKhSXxRr1fNNYyuO3RNQ+A8dRw2xy3aMjp36vwJNH4mEfGJCNlvdZxUDq/1k/UnxlkFmqwFAFD0C/zLv38Wf/nZD+HFOy/DL7/xd9Hr9ir8g8GgMZ95nHDSikiePz25RovPHJlWPcdlcl1cDr0vrSke/ZZszacSFaSeaYx9OQ9p7MfNb/w8OIZNmOp1QVb0yr7QCSgGGL6zf88DuO3mO3DTdbfipu98F/fcdR/279uPhcML6PcHSFEIAdMzU1i7bh4zMzOYnp3GzMzw39z8HHq9HmZmp7Fu3Tzm163F2vXzmJ2dxvT0NKZmpjA9NY2pqV61ie2UG9XhhpZuuuPGt7k5rTbMpH+1mY79es0NfKwBQqyZAuq6IL5G87ryXeM1qjUh0PvxHmodMYmLT++YDkb5vVSkPvd3NdfbSVJRDD+CMlQcqjgdqfHi2t6oY1HvN6o6kOdzMidL39ZrHeJurDFn6N/GPBwMqvEatWN0j2rVWoBcY9G/Wh6g9agnR1o5huLhryXbeB6TalErx/U4UwRpKdOM4EAiSf0lx/PXXK70WlosiqJAJ3Twgp0vxlev+zzuf+A+PLDrAZy64zQ0S9eiCr4qyAB0OjX2AfkSwNqkghRMNY4q4MHaAisuY/9qMxoLl2FbfeLW8ACpkFFPsCg7FiZ061lNvFoEnZjx91orXVUNUrYE1O+sEP4aaSwsUSWDup34Klpdjdto8V/3aPqmus/81cihoYYYrxu9SfGO6mWdzKpxAhjGhiHVuAUqqBIfD2GiHHq/IHrjPZJY+Tg1esT4rP02TEYl7qKobY2wApERyDyL8VLUvgk1ehanEKOwEXOh6ccafz0XuEwg4PEnHsUtt96MTifggnNeiqmp6ZHCTSta6V8r6Wm8XLZUBHPZ9FqTw6+tApO3UywajW7ERgtdaRGSFiBp8aG4AwKef8rF+D9/6k/w/r9+F/7oo7+Hd77tP+KsU88lchSgJIbr2KvfXa1CpTG5yGY44ilrrXoDCQSSr0Kg0UnmVzk/i7LYChFsZWOdDOO7yIj8GD6lQN/toO+kx5/jjKKKsgiKG8hYDFXpkuSsmHOGuJmdDRmjOa8eP+o/cq+Rj+haEvNzYPpH1y1p80wyS52JyLg34ohsaBox0KB6bat0xYPugmCrdJb6Qxh+SS7JzTH/Ndf+UOfRYjTvoDH36lGp14ZhzFRFJ8mX3H9RZmWLVOgRO+vxJnM4+q38K/3KQkDA4uEFfO4rn8LHrv4Idp5wPn7r7f8vNsxvYZ6Vc2Y9PKP5g9dzlLTiVZIl9ZP0S3+1jbVUY0oFMm2TcFn53+KX6lfO46FqfW/kQ4yuoYTit7WXytCb6gFh+NHUohhg/74D2L3rUdxy4/fwnW/ciOu+cSMevP9h7H16Lw4dOqxjCQHz6+ax+agN2HL0Fmw74Rgce9zR2HbCsTj+xG04dvvRmF83j6mpKUxN9zA11cPU9BSmp6fLn48bPioeOp3h31D/a0+kUtOXvwlRMXpFaqYRDDTXxZnJ5jCvdRrtZKzr+hBV+0i+j/XoCNLRg9tKTCNn1DZUy2uFNb5hNYKcYQ+N/E3Xq4bygDpTN+ymOElNTNd/4ppmpVsn23rvFAhPnff7/T727d+H0Olg/dqNpT9H4zC1D9Vy3NC/eh7T2q0Dhvha219rGCMfr0m1XFvvEUZrQp7HevSCg+XKJCW8v7UwcIOl5K7J9+jgfJs3bMX5Z12Ma77xOVz7rW9g61FbsX79BuFLJFgB1elUMU2/BJBYi2Zwslk1snWqA3tEBk0MjQ1ffb+RDhqFM9c7mjjokw6NiargbCY58m57JZ/aS/1C2hrYCWeoi5qGHxoFY6j18/aqy0i2JfIjFsLDfvJvtKwl/gy0pem/uvwkOkqsMRk3VhRGzQIwoojYhDGtLmnCqPU0bS5Qj2ktv15RmjYVZXu9AFQpuC7IRuKRjj8bK06NOC3hlYn7+huuw5NPPoGdO87FWTvOrT7/X/moEqHnBy2pevMPb+f5T0vEEg6pryafJ2PvoUSqAE3ZrfFIG/p4gPqK894IAPjDT/4n/MGH3oefuerncen5PzosSC2KvwdMi4VYfQQamYF2qeOwQBVeNXiUm/qIEVWOiLoKKpPOhaKO5Vp/qNaBBtb4pABxSkFlNQCxfMj44nFsIDbXRRiZbw1cqPVXm2Mul1No8FTiqzlb6yuA6hdn6oGgfAwjSS/NfBBzx3D+N/wei7vS8MrPRG5jZaN2lgUnL46HeOmaQOxqtAk5q05ybA0gPFWaJDHTWPsCMY3Ed/RLYDopH03txB/03a/a96G2ogh4as8T+MQ/fRhXf/Uf8OIzL8dv/MQf4qRjzoBEnvyTypupA0SNVztAkF5zzFI9qPFqpOW/1GEFx5uDRcytFcTmKtzMEYSlUZsUlezBoO45GBTYdf9u3Prd7+Fb/34Drvv3G3H3XT/Ao7sfr36qjVO328X82jXYdNRGnLjjeJy2cwfOPOc07Dj1RGw74ThsPmoDZudmMT0zhWH+KEb8W4y8Iut+daeoNnO1PaKhxl/Ox1GEZFMTo8Qo2RBrF1obUd6av6CXUv0j/SwYqYHqg5+at44Q8hQmuN9jriGyKqxFiY05I5SIGzHLMXKbJbvRwDhKzL8Vy+i6Q/vU6y3FEufH0KdFw89AtdcqbVpYXMCB/fsxPTWNdfMbmhoS81jLWby/RdYhYioXavr4Bl+TwfWm6kHpgDXSyBMA4ybSFGkDI+lJyU1h7oQOXn7ha3DbPTfhgQd/gGu//U28/LJXotfrYTRhxGAOzS8BLL8AY8gpJSfauxn48Sqe9IZYqAXhkVgUpMQLDXny5COTw7xP+SRenogLxsInP03+9J09srEvynFmPUffXeYepYuktkhQDDyp03scM/eFbFOTb7RP0RiZUJ3uh+owqErnpbTmZ9iohlE9FpEFZAQzt1O4zxcDyjfiXhqdzSc4QgDqsSaLF7G9fmeTxtTw9U233Ihbv/ddzM2uwY9e/HrMzsyNWmEkSYknN/9MktezwU4Vkx753lyo8ZoLD1D9bCrl7XS6eOUL3oyt64/Df/mb38AfffT/ws13Xoe3XfkOHLNlmx6xjfkb13qaN8iMJKEfN8phpHiJ90nEsTiMnwWvSwnyucRQ663wNCHWLwNQfT4fzVncnN9D8JUtBX1XudY1tLGocj7/nrgooJ5D5CNVlV+az4/xAin6l2bUKK/yC9VL/F07l9gbU0IRn3gKDcB0xtO8h+ilQK5i12gTzRkxpUXJjTRcx0CdP0utRa03+rzCUN6jgSUdHlD/N26R1813zEjs0UPPUN8B4lMlo7grYYGsxjT2G7wBi4uLuPGOb+GvPvcXuOOe2/HGS34Wv3TV+7Blw3EltnZ5JbWRpTxa4WodjFp5yMKXk/Otg4DUG0sWWbakeIHh0A0/RhVw4MBB8rEMsg5SbjoZUb/ukJq2v7iIj3340/jIn34cux54GIsLiyKebreDufk5bD9hG57/wp0474Ln4exzz8TJp56AzUdtwtRUr/oNekrVkwZCNm9aptUp0qSKVNfUTYYor+arn1Ma7V2vCnUs8lwc341uZt9gvJbwFMI9yTCyggWNJwh8o7Lrqpk8pdWwiaeP5hpXlLhH9yZUf8QM6Dbya6v+5mTtQ/g4NvdKtF9Mq1VNXd6T9l8HDxzAwuICZqbnsGZ2XpzzqTzgqSdTe8wUpeo3T67RMHoPMKyc35MMtB79oso18NY9DsjzCIZ2wuIZlA1rN+GNr/gP+Ohn/xg33nwDZmZm8NKXXIpOt1Mt/jxwO526CigGzZ8ZoVvYeFV9SV/87fpGYcmSXShDuvFDmDSRxdP/MukFri0mAdTfjNwoxmr++h7/JKgxrdkjmeC81ZMMZDpWBXPZGmhRxFIO/ZbsSiSNEerHouIdSeVkk9m0EHVL2bGIRSEZBL4sNL9UCijYJqB+aiEwLHVSq++S/tVQ1yh5yVwlxgII8cseqwUtEP31WS99mqD2XKmhqB9jDsR/dCAaHiPfN0EfF64L3tiPLjv1WEc7KuSl/+rCeniodtv3bsVXv/Zl9Bf7uOLSN+HUE84S3yWilEqMqVxjvZvlSfTWaXIKC9UhnQprWLRimPeXdOQUv9X9YhhXWhH//FMuxn//lb/DRz7//+B//Ouf4Gs3fAWvftmP4fLzXgPx06VkwyslmfqhmpKPTMb4mH2c40M7607NWRzqv4G11futkY1mBZO0NeSSi9D4n2fRUM2rkaPMguTAEJpv9AGNTWf9l4xdA2idS2o/RQFlbIKNd7URlm3XIqP5VTL1Rj1UzbVemv9r22qfNOxFfR+ohr5Rl1byAvh+fZimQGxiOT1wQ4WfTUOdMpu+5PbHdg6efsliNUdI/IL4gdXPBYmBCgeD3Ck6OLxwCDff+R38zy/9Db51y7XYtvkk/MHPfxQvPev1mJmZUfNdY+iVXOXJlZy8dV2qUJZyKH1nytvHsonjle7TtlQ966kvqaxOp4sdx5+Jqd4UHnvsEezb98zwiVOAfPFufUAO0Ngrqpph+Ln44Z3BoMBd37tb1D23ZhYnnXICzr/oPFx82QV4wYXPw/EnbcPU1FT103mR6m9yjz4fJttGLUlycuNwPx78k5oo2t6c4PUmvq65hI1kVXfXc6WutZpvLtA+Q/l1FVZZV/avD+xC1aXiLOLTrAXrW8/jSk2Jl9eNzfqv5CTOK4g8yku+cbn0dWgedlLdjaehUMkfyqS1YHQy7UNr9qKS3OxT+2pYGzZr58pjBT1YRjUidUyUvqliIFQ+DnUAgCTuqs9wLjTHsfr+XhIT9Lu+SGgihIB9+/dhcXEB69dswuz06JtInPgTTFI9xfm9h6VSjSjVfVLu9NSVli0SPqvmpH8B1F8CmGK0DNcWCamfR1eqr9dhke/Mk5+H17zsLfjclz+Bb37rGzh8+DAufdnlmJ6aJgmgsqDxm+SDokA9NVhRQgrCeBkYU2kd2bBSRi6QvIPDNnellOpVnJyN6xF85T2SGBWP1vM1JmY2+YbomriqtBdGtdN3fxuF+sh9waeVH5s+aPiCFX/0naHaP5E3Imm+Q9bQH5rLVHMTwPvQ44/miSxIK0AXTM36ul8gJ0ej/8v2F6SwqFUp4zwSl+WrKvEq48P8WN2lOyg0Fxvqv36/j5tvuRFf+uoXcfjwYbzqotfh5Re8Gt1O80urvLlI65PKIW1zTe7prOc61e7h02zPXVQ0rFTO+jVH4Vfe+Pt45flvwl/+y3/D1V/+B/z9NX+H+26rjwAW+4soBsP8GTfIskLlb3xdCPdZrImk7ugT/cYlST5va4vBY5NHv5csXdoYNJdPWENv6qHEdeX603s/pUeT6fW/xFcd8hZYWFjA3meewoOP3oeb7rgOX7/hK/jBg/fimE3b8Quv+y286aU/j6M3bqs6azmM51IRfkYOsfrn5E+LJ6eP9mRBG8wpOW1yZ/y7ecNWbFp/FJ7ZvwdPPPkENmzYWG/UyBjGCJACJZSfs+e0Zn4Ox5+0DeectxMvuewCvOjF5+KEHcdX394eqd/vk171Vj5WE/V7B3V9UZeINZ7q1Yg/4u6U1hzcL/wGHUdWAbFabrQmRyxTanmUp6pPWHzRZFQWLLyWkz8OPOzD68aqz4huIlOo2+tiqbQvjLiLi2Il9ajMxlgx+/mztVxU0cA5ytcEUGsP0u1GodysQUswbI4UJR/pJ7yZxWtYXtM8uOtBLCwsYtP6o7Bmdh4p4pvicfJGitdbk+Y87S71T7V7ZCY+zJkPxFuIek6pc+5pNDyZ7eCS816BbqeLz37lE7j+puuwd+9eXHzRJTj66KMRU0U5M4aPYJX9B/36CYCiYqrfWY2nW1FXdaPKFtV/9akmPRSNb30Uoe5biqTv8lI9wzkUv9SD3gdZbAD6mVkCltwnONivCzTkoeYrmL6ioRsVb3XKR4t56r+iII9m1kk96m74lyqockiox6M6uSia7BxbYKe08egREccIDOI7yX81Y9HQVzTx0YyvxUgYEcL6NDFW7PSJASKzul9iKBpjOoz4+htbSxtQy6udQXDGhhgjgdwnJ8E0bPc+sxfXfvubuPmWGzHoD3Dp+T+KV130esxMz9YSW87rSeeJcTfpRwofpzZ4JV1cTq87heef/BL8zk9/CLfdfz3++dpP4oNf/hiAfRgUBT51zf/AveEb2Lx+C+Zn16HT6Zr7qVVapeciFQAW+oex55kn8eiTj+DRJ3bj6WeeRq8zjdO2nYV3v+UXcOnzX4ttR+1ArztV9Ztk4TdujgCWPo+N06etvHHr0rVz63Hslu247e7H8cCD9+Pkk3aQt4+AuliojwBonVUgVD9BBwzX0VPP2IEf/6nX48JLzseO007E+o3rMTXVQ1y+h5/DJ4suyvWdrPe1HtS66VOo9FZZt1UbxWpPXNeco2UlERLCaDlD6rS63Gn2oe++1PUjq2ErE4X6hGAHQlNmdP1IbRXI98+UnoslUcMXtCgk9T73kVArRj201h5tA6m1SfHZuF/7samqYHoCwyzVnKwmxKiekY9OVbwEXKO+Li8aT0FEu6rCHRRWLYYAoQNC6tHIcXjhMO659/sIIeDUE3ZirjwAaPNGjXUgsNR1qUd2ztPubch1AND2MVypLVKbd6y8DqPv2sU+vd4ULjr3ckxPz+JzX/447rjrdjzy6G688AUvwpmn78S6detq3F3yBMAgPgwdY7eeDQEB9e/WxwRXNB73q3/Pt0obzftF+f51Y56RR/oL8ogOmcexX9WO+AgZxTdUwvNrtQY18k/ZL9QYo8+rpSlUFlQHDCGEaqMfTzfjdx40H12tk1sRk2j5dEX0T4UiujNiI31Gfj4RxG+lslDdR70ohgo1QsUH0rvG3czFUR+Gj26h+e5//L3vxtrDEmWFssp4pcyCer5O6fVjtsSviLm4qBbuEHlRubvWFe9Xj1qhGptoN7W8PsTij24X9XiByKL5umHHsP3AwQO46647cOPNN+Dh3Q9jdnoOV176Jlxy3ivFz/1b1OYx0JyPBsQ+2n3vRwty8OXYJ/VJ6crFlOofn4oKIWB2eh5nHX8hTtx0Fr7+8btx3y1XIwBYO70Re58+iAd23YTDCwfVR9UmSY3acpmpOEJ6gWZ9+JzSXdQF8PLrRqOmH4e6nS5mp+exad1WnH/KK3DacefgrBNfhFOOOxvzc+sBAIcPLeAwhl/yNjc31/pAcanutymaU328+StHZ07+lXK693FgAJjqTeF5p52P2+6+EXd9/048/5xzh08B1FUk2VzGVZW9Y9vpVF+M2+128WNvuRLv/q134vDi4WH8DwtAsoEvK4HGBi5WB6EqParfaK+YyP2qxiWFYVWHNrEDcfkvkVfFB6kjgPpNnhDIr3jUm9dQAQuVrmEup8+6xtop+j3WssMilo1KozaqUFZmkydFo8bIS+rm+ss/S5SBWFtBCaT+rOu5uo4O9RhV4iOeUF3TureW2yj0a1+Fsj4rmo/a176KHy0g392C2u6mX+M9wa+BfJQjVJaXw1RU9Wk1jgV5RqJ8Xc1jGmtkExLxDHU3nxgd6iXepeOFgMceexS7H9mNtWvWYefJzx+Zu0OZvpwQc41Ebeq7cfe82v7V0mn1T5F4AND2EVLeT/pMQsqpXvApXXRgY1u308UFZ1+C7VtPwGe//Ancds9N+NJX/hU33nQ9zjzjLJx91tnYtGEzOiGQidH8DoDAXo0+fM8eP498AfL90JSC0LhqLlygfQgGLqMW1OCnk57yjrqaPe7T0F4no8Cuee8QqAADj4ShmZ9Gba4wjI7IqAUNVE0FpLOMh/QSefh90saNMhICvd+wqOHX0o6RthGkpM2+HsWEkfujEciUlvNjcXERe/Y8jXt/cA9uvf1W7H74IRQAjtt6Al536VvxvNPOrzaSOe+0aDlB+8yTlTipTEknXxhSOqksmnw9uqT7nLQ8R6+pjNy8qZGUP2PfTqeDudlZFIMBpqdmSp4OfuLyX8LP/q8/hf2HnsGhwwdQFPELVNkBEcUzFKwvdLFgU+4PimGJIcZSKbsZw5n3WXFOqV8MyqfFFN0pux33Nd2Dcmw6ht26T23Z/Au2RnUPAARd9xiyk7oHA3V+j+vTwugL+Mbba1e328Pc9DzmZuYxPTVnaBVkOeewNn+t3Cvxp3RqBTC99tqSqgm9+VPiT71RRft67NTWgnPPuBD/+q2r8djjj+GOu+7ARRe+ZBi3pJBsrKqNw/ThnO6QN6EQCmBQVLEPeuJZkDcyiuZGrbS01FaQ5bt+g4njabx3QcqPQAHGOkj4nqR4ETexZKVCY+tfKSFmhqENQ331RrO2t6i+9yoQW0n36MIAACAASURBVCrQoXxjjR50BG7PqM0VjqKUEQ8XKuMCsRkI1bvSMR5CM99WG+Loh1pj7VPqH+oToOpQDXXzc/IA6sOcaHPVkwYTERVtqPrVm/dRmwviizhytTDq+2EdHlAfEvC9AwFdySgqX8anZflpOh1eul9YXFzEt75zLRYWDuOsHefh6KO2JWskSjl1Z2oTHnk8fXIxWbzWfUmu1acn3UwVnCln5xibKvg18FLBzokX45Fn29En4h1v/DVc971/x79d9wXc/9Dd+Pdvfg3fvu5abNmyBbd9957qZ1gOHjyIx594AosD+edWVmmVnqvU7/fx1NNP4cmnnsSTTz6BRx55BI88+jAOHj4EFMAxR23DZS+6Ehec81KsXbMOgL2Bjq+974gXRaEWcqkCkMuyXudg4jIoeZ4ksPB4ForUoSvt55GX8k2Tt4P52fWYn10v2jPptcRz38OrjYF3A+TV5xl/T+x4N3A5vG19z/Xl9Lcop1DzysgZD6lukORTHs0fk7BF6mPNdYpDenOEktVO/aH5RLLdymmW7Vo9x8dEImkt0Pxrxb03ZrQcsXHdZlz0vMtw9Vc/hRtvuh4nn7QDW7dspUgbmx00+g9/vapTfqa/ADBYHB64Uf56j1vzhVBvKOt3iFFtjhs2jhw40YewQ9zTgn4vEcVdMJGklTwVq9hLe/GPHAZ6WYGv8YUAzkgRDl800JTtFHd5p4JV3qu+aLa0v9rgDjsWcbNabV6FGKoOMKDYTIFS+6hNkXiclPOp7FI/7Vl7gPuCf1lz88tnR+VXL8qfGKwPeeL4BKIkNPrUCCrpDfHV4dSIH+IfeupUNG7HW/f84G7cceftWDO3FpdfcOXILwB41nKtrQ1x3ZSofq6PXufUGJ76Uds7S7m4R8FQJVqBYCVibpwF1Bo0SY9VKHNdUjvnmZ6axkXPuwwvPPMi3P3g7fjmzV/B3fffjscffxwP7X4IRTH8cquHH34Yf/03f1n+Xqq9AK3SKj2XqCiAwaCPfn84VzqdDjas3YizTnkhzjvjQuzc8fxy4y/PUytBcx7OT/9qsqQ8JeUaK59xuSlZEk4uT+uT2qhL/Skf/av1kfyh+c1aSHOKcS2PpxZPa71JxYqFX5Ml8aUWUc8YWnwSeTafEp+2ZqYwc3na+GixpfnUMz81ntx4lPBzX0l1DreN3vPOby2+NN96XltyNfwpX2o2W/PG4zPKJ41BSp63nqPkqRk964qW0yyfW/jj65ec+3LcevcNuPfBu/DFL38Bb3z9WzA9PU3fj69loKwsQ6g2ufSLqJtf6odqM1Sw/VtRFKDvctMNcCH0b+gvd2ulCPKb9KHxJdKVP4uapwZS5o0SXP1zmKGUX1pfgKAKDX31nrS5oS1Grgn+AMGfQyXxKKK6Hz/THwrEfTzd0NYmsdwU0PBbUTotII471c38XJCNbUHx1pZx/Ch3+XSoIk/8FYGCOyM6MsRYqMdkaCcNGPqRC1Sxh8ruUMMuSu4SeIi6yVMM1OYQ6vjm/m/Ef3QJwVXFaxmPVewF4JFHd+MrX/0y+oM+Lnre5Tjl+J2gJK0X0vrkrcFycl+KR7qXWgMtPFYNxvMdXx+o3OpXAOhNbUHUFFjKJCdpfClDUjzSwiEtSLRtZnoWO08+F6cevxPPHNiL3Y/vwkef+Qi++tnr0cfwEdetG49Fb7rLsugqrdJznAKwds06bNl4DLZuPg5bNh2DE445GRvXbcZUb1qcv1oeySn+RCiCLCuHaXxaQk/Js3KNxMdz37j9pc2gZad27c392rhotmmkLU7e/ppvUvipLg+fZ13zjI2lR4sBzebU3PCM+zjzS+pvHW5wPBYuKkcrtiyM1thwvJoMr82e/rk62urkbVqd5cVp1W4ePkmnlnf4veUaG4qLx520AfDk0U3rj8LrLn0r/uof/hT3P3AfvvK1L+Hll74SvV6v2ofF99zpZjhuCLvxIwDF8Cf8oobGXi9eR4EhPopdi6vfi29uJQPqA4OiiH2H+8f4+foSZPPL+EI8pCDfQUA3zoiP7ocKJ9AARL4XKyB+W2DVP7DDAtY92hrtr31SVBvLuHkc/sxhs3/cPNP+VFfDd+yABTS/U6yljKH+oY0BxOOBjzHRXwTy5AEIfpDNOMpxbfq1IP6gOumFPh2aI0N5C8JS6WnCL1UOnRS/TDC2jRzuxNcxlkh7ZVO1wQ1ofCam/PPEk0/gmi9+AY8/8Ri2H30SLr/w1ZjqTal5KHcfyw+lc3Kf1l/Sw8nCb+UoSW6bfNWzTjM4eU8krFNXaTHyOJq3WyfiEq9kI3091ZvGpnVHYdO6o7Bzx7nodrpYwAKO23I8fuYNv4oNGzZg9QRglVaJUsDszBymp2bQ7XTNOWwViNbGKZWPeH9Nr5SneML1ylK9keCTFhdpo5OSYdlotVntGta2pJ1sA/YiZvW38nuUZS2iFIcWa9JpvdY/B5d2PzfePfdTh96ajdK1No7emLL0Svjjfc2/1vqfmndaO5XVdt5454vlP83eSN48l8Kn5QuOi16n5o1mp2S3hEWSqY2NZUObMUjVlKn8SmVROv2ks/EjF/0YPvulT+CGG69HCB289OKXYXZm+As47BPgqB/XDuiQn3UcPgFA5AdUj1cXEWO11S+lxk1Ucx9V8VcCiJz6CCJ2oJuy8rra4NUbtRCoFcJusVZVbiZLvGG4YS6aptUHBBFLxct3tPSQgLxbHqi0+LL2x9BGii+2hEp/41eh6MY94qj8HHlCLal0YvRLUR3sDDf7zetaf7UxrmDVm+nA8IQYMSFU/qn9XGOLZykhoOKN/o9jSHGFILxjX5R9Kwh1pITQMLYRC1VMxV9aCLXMiLLGEfs3v2QQAJ544nH865evwQMP3o8tG4/GT1zxDmzZeHRW7VCNnZKHUnnDu0dtWz9KGLX7KYye9S7e71HGlBMk3rb9c+RKvJ5En8KoyaKPX4XQwbo1G7B5w5akPk7jFtFLRZ6N2UrCnYNnpWH30FJvxo4UpXJDqoBqk4+01+Pe9+AZF5ckQyvIU7yp/uPmV/UoNNSPsVq429jN54HXlnH1atcp+V5d0iYokmfhT9mQwpVjozf+IvbUHKd8Objb8HrmglZAeX3rPST04E5djzvfJ1m7jYs7l9dbf3ra2uREj7973Slc8oJXYWFxAVf/29/i+hu+g0MHD+CSiy/Fxg0b6z7V31A11F8CWAx/ijpuu8m+tbGFpR/ubkhtXlet7HP6ocEZmn1Ck6veSzd7FcUor6p/5FrQX8kLrH14g3+PQePrCjSZyvXIvTDKW2/8hZjir8mz69TSEd8KEhrSo1MD4ygPcEa8yHxQuU/zZTWm3OamPO49NPIc189jDQiK7+g1+S2B0vQC9z9wH77wxc/jsccew8Z1m/GmV/0UTjvxLGhE1xvalnrt5c2tEz05Q6trPLgknpz71a8AWO9WaEL56bR2T+rHi582+iz9VLb1zoTUl14PBoPsdxs0uW3eLaIyuS2ed2O00/bUibyFQaKc+EnZbJ3Ic4w5BxhSYvDa6zn9zxkbikGKfwmf5wSR6+RYtNcco+YDra+VdK37mmwrkU/KJ9I88eQUjtOLw/LVJPOg9Q5XSpfn9BhA+agi+3xdMfym6uGvqNjvNGuxl7I5xUPzmzUXuVwJp9SekqnNX2/O8MSQNn70PsduyWtzj9+X2ulfj09TOLxxbsnyYPfkyZRMjYeTFquaXTnjpq1ZqXWMy/TmIG/+9K7NVrtmcwojl23FlpWbvPl6ZnoWr7zodZiZnsWnr/kr3HLrzXhw1y689JKX4eyd5wz7DgUAGL6bHlB/BKAAsNjvNx7Lpu9IV31D/XnpOkOXF+Qd7fiyBi7dr/s2H/XHcCMXQv2ofIkpoIJUYy3irrPGO7wqQB9hCARzAFD/xPXwRlHpRnld20UfMm8cSnA7ybvoRUHffac4UfqwKC2NuGPfQE1puDheNMeAsBbRvtqXqHwRGveav0YSytAY8lUQaBwUxP9Md0HsaQ57yVX9DDk95qifAoh/SySVRcMxKJ97iHOC4Br+ZDZ1Wd07urv6W2msEe7fvw833HQDvvWdb+LQoUM45qhteMuP/jTO2nEeHVQxn1l1TOQbwk7nAamtTf2p9aV6NHxSu7UOa2ubJLMn3aBCLOFakub3uFJr0Yn3pPvcgVpRzzFIASHZFf92u90G/tQirtmm3dMw5sqUfGyNmzYxLB9LPFynhV9q5xi5/61xo+2SfBo/UrxYRY8V9xZ+y25tbLTEYU1ujz6uk8vU5q9kk2cuWsnKmm8Wfq2NxwfFodmS62fabs2DVHLXdEk8KX94cpdHnxa3beZ/SLRTWTz/8HvxOrVmUPLwpNopDk+savGvzSktvqhc73y01j0rZ1h2Uxu1fGH188pL9UvNG2+ul8ZNy+dt6ghLpkaWfVJtweNHyncSFslGC5+UJ3Pwe33Spk6wYlnSl4pVaZ7yvql7Gm5pjGg7AHQ7PVx6/hXYsukYfPZLn8ADu+/FP/7zP+CGm67H+S94EXactAOzs3MNffQp1EG/j/rb8sm2LH5eOjQfR0cRN5NxYxdQbSxDQNwthwDQR+OrTXj8XHoI5WPhVGuoMNBfCIhb5vpb44t6kxiGfQqyqa7cFXFVm9ih3KJ8lxkhVL97Hzf5JVupsbSV6QkB1YHByMchYuygPNwgLEM85XaUPMtfELzVGJOtcnUQEceCvpNdKhh+70GNtxwA8NBq9Ay1/Pqz9FQPqKENfwx9WW/MKfJqNAMRAZTjVx8YNB4MKOMtWhuxVTZSNwdUW/4Ijz7eTzHR5xie3vMUbvvebbjhpuuxZ8/TCABesPMiXPWK/0V97D+VJ3PWSymfWLVrqrbgfXLXFWkf48Gq5SV6DyAHAJZRljCJnyvx9uH3PRsFayHPxSjJ0Z4A0GR4cFiDmsLvKQhT2Dxjo2HMweztYwV+qo913xobq+Dkfdva6/GVd2LnyPe0eTF6E66nn1dvrs+sxM+vc/RrY5DasEjyU3EnyR/Hz977wHAxLqzfVy8L6E6no/q9bFAXYnotjU38m7LX2kyZ2KDHnncRz8ndOfo9fVNk5YycfNEmv49LnnmT6gtMphZok5fa+De1ro4TPxZW7X7bMff2a1Pr8L6evJurV4sfisNTR1g5O16ffcoLsG3LCfjyd/4Z37jpS3jggfvx8MMP4ajNR2HHyadg23HbsOWoozE9NVN/BKAA+osDBASE0EHcgjd2Wqr/+EP6EXODu/kq2sXkhsbfwFrBMBEJI1gEvI1+Qt+gP7Bf2yTbrPmo4hXuh8YLDTWJAYzqbvqd/E9savKJGhpSw4g/JC1N+U1UvEVAy/wh+VLyVrObLpf27ff7OHToIA4cOICHdj+E73//Tux6eBf279uHAsOfa7/s/Ctw/tmXYG5mzswLbanN/s3qq8m3MLZZV9ruTXgf8QBAAmG9Tt3zkLXxkuR5isUULqqH3qOnr3zgqF4Ll4Zb0mf5S+Oz9HL7JP0pvakA8y62S2nnJPyryZ5EX4vPW8hJpMVtjs2TmJ8efgt7W8ye2NNyiXbfwmIV5+PGd8qOVLvGl1OYIwT0BwP0usMvnuJ9B0UBFPJTNR4snNrGvjU/cxZRz7qi6ctZbzQdFE/KD7m+lvBL2JdifnIZXsxan9x5kpLh3Ti3mWu5c0PSa+lI8bbJ917/trHHo5/q8dYi3johpTfF03Z+puzcuP4ovO6yt+LcMy7Et7/7Ndxy13fw6GOPYvcju9Gb6mHN3DzWrV2H3Y88POyHAg/vfghf/9bXsLCwkLRllVbp2UBP792Dp556Evv378P+/ftx4OAB9Pt9zEzN4Ngtx+P8sy7GBee8DJs3bDHrsFR+T61jvG3S9ZyWuzyUym2pfbEHf88ywJvc6D3JMXETbfFogD1tkh6u05LH+ehHAFJPAFiypYCK7VrwUF28sPUGgifQqJ6cTaRV7Ei+9ujgfa1YpHq9E9ZbzGk6eVx5dbQpnKS5IunW/JGr25uYvMWgZ2y4X1OYLZ9weTmx0HZ8tPziWYg0vakxHDfWU3HFcUjkiYHcxcor11P4pza/KX0ejNqBgxb3ueMpxZUnvnPmpySfUk5O0eKKy5KuU/73rJEWrpycqNnM9Xs22p5xypWbotT676nB6OtxsHg25hx3m7jl7VpcpNZQid/KEZKslP8p31RvGqccfwZO3nYaLnvRFbj17htwxw9uxcOP3Y89zzyNvXv24ODBg1EYHty1C1/86jXoLw5MH63SKj2bqNPpoBM6mJ6awZaNx+D0E8/GOae9ECccezLWz29q5CFtDeSUWitTdVNOnZabK73riraPzVkfKUZJd7zuaQ7hnTybW6kASm1OvQu0lZStwZP6pYJkfn4e3fLdsAMHDmBhYSFZUHg3UUXRfCdN4pFkpsbJu+jycbLGQ+pHeVJYU+Ph2VinyKMjxyaPDq3AShVdkh4ei97x92CS+nkwWTaliNuSs5FIxTdv4689Y27p1HyqvdYolRek/JPCm5qnqfGX5hyVFQKw/5mn8NDuJ7H9hBMwO93D4QP78MCuR3D0tm1YMzNl4pNIm5vxWsp/HlkpHs9hAcei6dDWmpRsD0nzQ9PXZrPozasSX05fismz/ls6LR2WXu9961qbU548loNd0qFRan1LkTT/rZzmweuxK7e/Z031zsWUXNo/d63wjHlKTuwbQsAxR23DsVu24xUXvhbPHNiLhx97EA8/+gBuuuZ+3H3rAwACNq7bjBfufAkWFxez9a3SKq1Emp9di+3HnIQtG4/BhrWbsGn9FszNrsmei7SGGKdW9rZpcnPq71SdkbIjtS+wamXetyc5JLWZswyhCqNsT5LlC4M2yF6Hxj7cGXzBlxbIqamp6mMACwsLGAwGI/2ljWzKL1Zgtt1A8+IlNSFyFtGcYNd82YZP8rGHLzUJtTHT+DSfa+TZpNF7NLYtXuk+1+lNGqkiUpsfEp8k38KawyfpSsmzitg2fJ65wPtYuFObPUueFSuWLD6G2nzaded1+LV3/hqu/d5deMu7/jPe/wuvw0++9jX46q4C//j5q3HBGduT9tJ7Vj7nMnJyZkq+FSucj8u15OXEeQpfTtxrY635z/KrZ52y7Gu7ybKuJTneNZ7L88SKtF5oY63J4bo9MaXJluRK+lKxqNloxZy01qV8yXHl1GNaztVs4jlXim1JX5t4TOUPz1yz+OI9Po709dq5dTjthJ3YvuUkHLtle9W+Y9sZ+Nk3vEvUY9mbOzb82rJJ80XOeOTkfdouYZLaNezWuFk+sXxh9fPktHHHMNXPg8eyL2eN4b6NlCvPs8ZbuVWzPZVrLD5JHsWh5Xctp0nyUmNjyc8ZmxACOpJgCyRXzPmkQffK0/joPWviUt2HDx/Gpz71Kbz+9a/HP/3TP2Hv3r14//vfj1//9V+vH69SbO92u9UBQFEMf9qK67ewUjzSIqbZr2HK4ZMWWc+ETOn18FnypFhJXVsxIE2qnLGx/JSaD177pfs5Y+MZj0mMdc7YaPjaxISnPaXLmnv0tXd+SaTN2ZQ879hwPdbY5GL34CuKAvsPL+DXfv+/49d/+vX44mf+Hr/znt/GWa97Fz73iT/FzhO3Dr8oMOIJAapHyByyfJ5aXKV+fM5Li79Xr9SuybPwWLglHDnyJDxSP+u1FD/e3Gfh0bDQ69x5k/KRZ37Q9lRMSH9TfPSfFiuSvFQO0/RqMqScJsnQcl+qaM6Nt5yxsSgVf/y1FDPWvEnp5WNr2aH5XxoL73yN/+ITqAAa7/xbc1ezKXdscnMp76Ph4Lq9ed9qn4TPPZTyhQef1N52bDx4rXZJ7rjrjXQvtd7Q11ZOk2RIfBImD1apfVJj0yYH8b9LMTZA+RGAtsQTpdbm7WvJBEZPgKT+se3AgQNYv349LrvsMnz84x/HHXfcgV6vh6uuugrT09Mm7l6vVx0A9Pt9FMXoTzp57NZsHMfnEuXombTuHGobFzm+Hbd/W8qV5xmbcTDm9B13zh5JTBbRhJk7NjzhjjM2OfOw7ZwdN1ZOOevFOL0TgN0vwx/8ybux60X/Oz74Gz+D2ZnO8BC0GKDoj75T2dBZFBgM+uiEzlgxZfVdjrk97nh5aCny1KR9sVx4lnMueWiljc24dcSk/ZOjZ1I5PNJyre+8fxtZbdeQEELjDajFxUV3raPRpGN3HD4JTxuaVPy2iZ/lrg+Ws/Zajty3lLrHvW/h0dq4fIlvKcZwXJk97+mEBcrTZvWNBXeqv3Z6JdHGjRtx5ZVXYtOmTfjzP/9znHXWWfiVX/kVrF27FsBwY7+4uIjp6ekRufQJgPglgJ7TnnF8YZGkfyn0rBTK9a0nfpZqbJZS3rgyc/rmztm2tBSYcmR55pKkfzniZ1waL1aG/ae6M5ibncFVb3kL5ueGn/vvDwYYLBzCZ/76I9h23o/ikvNPHf5Ochg9le+EDpHZPqbGjZOlGpuc+EnRUuSpSftiufA8G+ZSW9x0o9Cmfw7fc4GWK6bG6b9v3z48/vjjmJ6expYtW7Bnzx489dRT2Lp1K9auXWvWsiEE9Hr1D3QtLi4ma+I2tBLrgxxaivrAK79tzTkOHcl4Xgr/LJXuSdyfBOXsWSYhsw2JTwBM+sRPOhGRTli1kxOvfgnPli1b0Ol08KpXvQrz8/PV/W9/+9u45ZZb8JM/+ZPVIUDE0O12q0ewBoPByC8B5J66UNkp+zTZy3UCp/FKvpZwTQKDp68UPzk4PTK9vsjlHZc8MmnMtT2x9Oi3fOH1Z45MLy6rfblO0seV6cmblkze16JO6ODRe+/Af/vgXyCsWYMbb7obb33li4eP/fcXcO1Xv4Df+93fx5t+dQ49PIPzX3CupLRxuZRxN0leL6Xw5s45Ly/l569z+lmyvHyTxJfrAw8tRYxMQuak66xx15ulyCNt872XUvK8OMfVlaInn3wSV199NY477jh86Utfwqmnnoq5uTncf//92L17N9773vdifn5e1dvpdDAzM1O1HTp0KDnWuTEK5H1Ep83aO+68nkT91bavd88yLh4vxhz+tvNukmsMkL9naat/Ung993N8nepr7VmWOjdHGnkCgIKK1zwRaJssqT/vJxnAeXi7RJoeer1v3z586EMfwtzcHO644w686EUvQggBu3btwvve9z7Mzc1hMBjgbW97G9avX1/15U8AxBNYaZAk30jXtF3qa/lFkqf1t4o5D06L14OXY6T3U3an/Gfh5Pos+1Ntls1a3PE2SYZUdI9D3jiy4sSD35KtyffI1MZT053ylyd+uJ5cjJosCYt0X5LPMXn0a2TNP82vi4cO4f9+33tx3XXfxMve/ks4++TP4DP/89M4fepedI+5AD/+2gvwza9/AT/YO4s1xWO4/8FH8cLzZP3euKB4tPXFM+c1uSneVHy31Z8z51J51Rr7nBySmksSjqKQv7yXx5K1xnmIy/COi/faohxez3h64i5XvzWHrRpEi1+PXVSWVpOlcrTHF23mp+Rvrc9Sx4Yk//Dhw/j0pz+NK664Ascffzxuv/12/PEf/zE+//nP48/+7M8wNzfX8KeGMR4ARJlFUVQ1KbWdzznLZm1D5vGRxithsPyTmueefOuNDasu4nWylte8a6/WP7fO0/ZVKUrh8vCOUxO2yaOp+qSN/1I5JcWXs/9Nrd85+KS86Z3L3vGU+HpWB6kTNzp3glg0qcm+uLiID3/4w/jGN76BN7/5zVizZg3+/u//Ho8//jhe97rX4cQTT8Ti4iJ+8Rd/ES9+8YurjwVE4gcA8VcAvL6xcFPetsHddtPXBncKH8dk9c0tRryxJd2nyd2i3A1WTqKzfNmm+BkHT26/3LHjPJ6FZ9zFxCPfwjQuRiu+vLZp11oBkkMp2ZEWBgNc8/Vv4OVXvQM//7ar8P3TZvG19/whvnn3frz3P7wEM2vW4IQtR+G8y1+B3/yN30DsuXjIhyMnh6fWFw+1XWv4/TabgHFxWfzewiN3XfHo5m0Uw7h+arPeeK/HpZyiN2f9l/p7dXhyWps6gOMeZx2cZPy13fCNExtt4jmEgH6/j/PPPx/bt2/HwYMHccMNN+CCCy7Apk2b8O53vxshBExNDT9adeDAAXzsYx/Dm9/8ZmzcuLGS0el0MD09Xck9dOgQBoNB4wDAWyunaqJxap9xrrWx8+S0SeV3C6NHR+qA1itH6t+WxqkbJpFL266Hnjme0peKnbb5Vroet3732OudPxp5eBoHAJNePCdFuRvHfr+PEAJe/epX44orrsDZZ5+Nfr+PM888EyeeeCL27NmDoiiwc+fOKvFSoh8B6Pf76Pf7E8Wr4fbKXcqJ6V1YPP3a8OTqHVffUsZ8W9lLhdvrz9xDEcozic3HJGklju9Syo79cjYus7Oz+NSnP42169djZqqHcy95Df72My/F9Nw85mZmsHhoL667/kZceNHr0QbVkY7ntn21XEjvr5Sc1vYdidx3rXMweXgmnS9y7FnK9WESNrUtisehlZS7Ix3pdTxH39zcHF74whcihICnn34ad955J97xjncAQOOx/qIocP/99+PjH/843vCGN4zI5gcAnjczxsG91Lm0DaZcHkrLYY+1PkzyAGw5+k1K9nLjHhfTUtSrRzJf5drTkx6FkZINLe6txxQiCKmvJk/rF/k0mbGdy5qensbP/dzPVdcnn3wy3vOe91R9b7vtNmzevBnr1q3D/v37MTc318DEnwCIvwRgEcVg2aT5gvJr45EaG8s/lh9TY6PpTWGi+lO2Sf3oX48fvJgieRZV7guP/7T+fPMgPW7kxcPt8RYI1nzlGHPzQMqWcfOAFYNSX833vN8k55xnbDw5lpKUb1M5ROsn4UEIWL9hPXrloWfodLFh46aq38LB/bjnB4/h/IuncPVn/hYnnnsZzjllywh+rjNet4kJKs+zBnhlpuJUatfGlcvzjI03l0pjZsVNm/zOobldBgAAIABJREFUsXGbNXmctDlH71nzQZp/li3WXB3Hnpw1JTW/qV0Wn2XjOH2pfm9e8/az8Gi8bfK7d70+kvld6ru4uIher4f77rsP+/btwznnnIOiKPD0009j//792LJlC77zne/g85//PADgpptuwkte8pLq4wEAGgcAhw8frp5ClXR61jnL9hhrWs6TyOqbopwc4pWr5YE2NVVq7DUZlC9nzqXW6ZwYlTBRWan+49ZjnnVoEmuvd1wjb8764+mfqqk8c45j0Pp77fGMGb9XfQcAL1Ik8vK2aZOc4rnnwcSvFxcX8fDDD+MDH/gALr30UrzsZS9ryOl2u5iamsLU1BRCCBgMBqp+SQ/F6/UFvcftTfnb4x+rvxSMnn5Wf+meNlYpfVKAp2InZ7xy+FLjY/WXErsHj8c/Xlsk/pxYo+1acrbwTSpfaMTHR4svSW5ODlmKNg1vag5pcrTrkcWFvC6E172ZNTjvrDPxyb/4Uzz48lfjNy+/ckR2Kla8Y8B5c+Ix1Sa1e/JPLr7csdHuaetJTr5firYUT5v6ICWHtnnzb5u116IcPVJ7W59r453yjxWjk66ptH4ck9bXak/hTfVN2ePB413n7r33XnzgAx/Ab//2b+Pb3/42er0ejjnmGBRFgWuuuQann346jj76aGzduhV33nknXvWqV+Hkk0+uas0oM35MAAAWFhaSB1c5vvX6YZw1Jpc0WTkyvfkiR3+qTZOVs4a1GZs2mNr2b7O2e/yn9Z/kWHjlSe3SQSzlm8S4Uj0pPFr7ODVI4wkAKalo9yVKnUxIG0PPKRfH4TFQwhbp0ksvxfvf/35s2rQJO3fuHLF3+/bt+OAHP4iDBw9ienoap512mmmjN8As/3D7UqdSmm7Lfk9ffqolYUvZ6sGUKmqlUzpJvoQ3R7cV/1SXdiopUW58eMYmdXoq2eJJLJO0WzoR5fM3RW3xcGyWT9vmNEm3lJNS8ya3GKFYuB7OL+nU4rs/6AMIAAqgABb7i7FH5BpeTc3iP/3Rn+DX+31MT01hMCiw2O+j2+3i7W9/O857wXnohA4uvPAC9Ad9dDtdM9db1DanpXzhiV3eXyNrvZRkSv1yYsf6q+mX5oUWi6lx8c4RyyYux8orGmZrvfBiy9HP+7WtiSRfSHo1/VxOKlbb5LSUb9rUAZ77nnHR8kfO/MghTadVg8S/N954I77yla/gyiuvxMGDB7Fz507cfPPN+O53v4vZ2Vns3LkTvV4PGzduxGOPPYYrr7wSp5xyyojemZkZdDqd6glU/nPUVn3EqU3NmKq3vPm9bW2m5TfLBym8beNCm28pLN4c49HvWWusvEXxW2ulZCfvk8qJFkmyc8bDWue0thQ2a71JjZFVH3I8EiaJJ2WPRak6IITmEy7iEwASEG8A0tecRwpQiYfK5AnYKrK8i1Cn08FLX/pS1c75+XlcfvnlDcwaPk7WRLQCRZt0UsDwgbSKL65P87uEXbKRt3v8n0rmqUlmybXIkisVlVwm7etNnlqRYtniHVeKVSoAuC1WPKTmiuWHlI88ZC1qFLOVQ+i1tUDxdm9Os/DSdk0+vy/Jy8lpHrne8QghoNftqfcl6pb8neEnBdDrdvHjP/7jpm5rbChZPJaPtMIldV/Sy/WlsFKy1kPOZ8Wvhtm7tkmLvIXJW+ykChYJo5X3tNymYeb+sSgnV0qYKF4p92ljkiqGPeuctS5ZuUAbm9R6w+2SsHvXFS5To5z1PrV+ckze9ZzbLtkpyaV9JX2vec1rsGPHDvT7fbzzne/EM888gzvvvBPbtm3DiSeeWH231K5du3D48GGcfvrp2LNnD+bm5qp3/YuiaBwADAYDLCwsYM2aNSombqvkK8rn9QXPTVY+kuLHU4NJcqUY5Xq1sZFiUMsHKWw5udQbq5KPtXneNodY+VayUyLN91ZO0fJ6SnZqzee1lbbOecY+lRNz1jHP/VQ/bQ306LVs0tYMqrcnTX7NuFS7NhBSEGs8qQXEE7A596Nu7mxpEKQEy/tSPklGCpMU0FZxpMm32jx4tPHzFE+WXE1Pm7FJ4dbkWrise96iQusrxYqlM8dHEi7v3J6Ujzw5RItnK0/kYNIKj9TYeGWm8FgytLlk5YC2+Znfs/SkYiXVN6Wbt2mYrXXAWgw9vveQN045/7hj4+WR7E7NG++cGnetstZta23wrLOp/ObFs5T5UCrevHWEV78mw/JFG59pOlOYvHpiP+86MC4e6V6qdqN8Uru2Nk9PT+Pcc8+t+Obm5rB169aRfg899BCOO+44PPXUU7j22mtxxRVXoNerD2Tn5+exadMmDAYDrF+/vvoeqtR4WbZo93J80WYNzM0t3nyaip9J+alNnNK+HltS+SF3bLRYGXdtGGefOO5aJV1bY6PVNUu5brfJh5IPxlm3vbFSFAVCkbLoOUI0mI5E/1VapVVapVVaGlrNz6s0Dq3WB6s0KSqKAg8++CA++clP4owzzsB5552H7du3N+Jj165duPPOOzE1NYU1a9bgnHPOaXwvwCqt0irVtJqf21EYDAbVAYD2+IZ14h3va6cp/NEK62RGwzAOb+rvJHi5HzR7rVNDD68HX2os+Xh6/DAJDNxHR2KcJmGbxUN9mxsHyzH+44yTV27OGGg842LgvJK8ceSmchqnSeWBlTBXlnv8Uz6SxjbXn3xcLXlteZd6/LnPvOPkyVOTHn+PvV4fcbstuRJvbrzSflTeJONqpc3TcXy01OM/Cbk5OWgSOY3OuXidK5fLG8cPyzn+3K85uiP/pOz28ub6SsPnxSCN7VLYRseB+na5/Evv5fCuxPzHfejNJx67LZ5x5YZiSCMBYSUtek/i8bRLJPFOqs3CB4w+TpRK3lJfq20cH1g8VtJpI2McXJEPkP0n8aT0eMY6dwKm9HrjK0Vev1LcXj7vfJMSGJcZKSceOJ+VQzzYc+bNJGLRg12zg+O05FnYU2NjzXHeX1uscuTl8En8li9z+nhyMZcXaZx5K+WMVH+rCNBweP3vpbbrnIVBs0PTa7V75bWlNjWJhSd3DNr43OrvjblJ0Th5Nme9zs37bcZpkmPryV+TXOMl2bGfN2dOSm9ufmqT9y15lnwveXw5jn6tfvLinmT8anXLOPHZJi/k5gy+bo5b80m8qfHW1quIKaWL86V05PhPy53j1maROpIx9Jq3We30niRLui/x0zYa0LQtpctyioUvhZfbz/HxwOZyJPkSBstPUaelL6WbF61cR8q3Gj7JJ14fSOOt2SHZK/lR8y23RyILR+qvFqcabo/Nlh1aX6mQ4jKl9ty/3G4ao1GH5ndrTks2SvGl2c5JmkO8XerDfWX5QMPNSfNJyrdavGq4OT+3XcMr4ZNwWn2k+Szp9Ma5hMEzJtp8knBpsqR5TO9LcZ+ao/w17Z8797i93nFPjZGER3st4dFkaf80WzW93Ge5c0+LDQ0Pb9dkSUWuZm/K9xY+q53LbuNnyxdS/eMZA2teaAWvNca0r2WzNe6eGNJs1MbKitEUvpQd/J6EU5PBcUtkja+kU+qf8r30OuUn6XXKRmB07U6Nn2Sb1K7VeVZ88X6aLk88UhxabGi+4X25zJx5QeVYYyPZynHkyLBwc5ySTdoeTtvHaH5M+cbCIN2XSItrbXw0vsrWQtMkdJaEcbJOoKS+qde5p34pkvBI9lD92mTPsUN6PQ52it8quimttLHR9NNrzT7af5wxmNTYSLZp2Jd6bGKfSc2dIzk2WnxMyh7NlqWMq+WwRbMv9lkJY6PlMw37s2FsUvPWso/29+YI7fVSjo0XV1vs0msJU649XFYOdqp/HOwrZWyO9Hhwe7gOSz+3j2KZ1Jrf1rZxx6btmi/pXR2bUVukGkai5RqbpbDlSI5NW/KumxqWSY3NUtki2UP1e2qBpRibTmTWJoQkhLaFEKp/3HgNkDQBpIGMbRwj/ctxS/foaws7xyzxSr7ifJq/pGDTbOM8WqCmgtg7NhpeSYcUtJI99D5/zceXxoCFW5vA9L7lC+m15BvJFm2OaDanJqBnbKR2LkNLmJ65wfm4rdrYUH3c51LikvByO/hryQeeHCDxWf5I4ZBiQ5sTlixtHqf8L92T5o0mN4WLY/T4xBob+jqnzZq7Kdzc3lTukuaKZ2z4X+u1lpdS60Vq3mi5S8uRlh2aTdJ8lvBLdkg2txkb2q7lACtHc9usOajlN07a2EivKb+kR5LtmS+ST1MxRe9pceiNsdSckO5Jc43j0nRzPslmqs8zNnztsuaEpIPnYc32KN+KKcsHUqxKfTzzXFsLUzbnrInczsgnzXnNrtTYaHPIkwP4ay1Hp3wgYdTmoScHSrZQmzhu7g8JV+ThMUj7546NhlPC5WnT5HGbvDkuNTbaWpYzH3JyRSrXSu2SvFR+9PhGytXVdwBowrghWnFgGU+VUsMtHgk4nywevRZGibT+HLvWl1Oqj6RXS+iW7yycnoWVy23js1TxwF9b9602LQbaxI+24Kb8a/F65og13h77U2Op2Wvp1+xL2SD5PTVWEl6KOWfeWH3bxEqqLRVP2vjR196cwm2kmFO6OP6cMUnJn7R9ObGl9fHgl3gs+Z61KqXHYx+l1GKv6ddIGzOu00uenKJh1GIxlWstDBaO3NyijYuVO9rEt3VPw2zh1OZcm7WI253KA5yXXls+SWHVMHti35MfuCytfyr/WXKpbM86y/Vr+SFHryYzFf+ptV3T7+lnvU7ZqPGl1kkLfyrfS7ZxXVpcptZnSYd1r23+8eYHzS6qM1e+J/Y0W3LyQ87aZOVd2j+3FpD0p/xkYffISNkr9QUw/BUALflrRqTuSUA8C6okk8vwTHiJUhNbI2/wehISve9ZSHKSXKpfqt1KwDl+T423J8FqZE1uqT0l22OH1HdcnG3mlITTSogSf859bb55YlZLbKnk7cWXwuixmfOkcpcnd7TJP7y/J3F780VOUeORJ92T7ufmyZSNlt9TxZaFUeubmz9T91J2U2qTE73rt3eNsng8+MRCo8W8SRV8qfyXypMSL+fPXYNzcm+uj3PyT2oMcmLdk/c9trWpVSi1qRmltrbr8Djrdk6ceuurnLV50vlasjHy5az3Wv7h/VPzMDd+NJkW1pRe7zqt8UtY29idmvdWX6s9t5+Ey4OD8+fWkqm5r8VVbi2ai8UTkymsmkyt5rOoKIr6AEAaEO4cyQGppOOdBKn2trq0QOL2adhS98dd6Pj9cfp7FijNr5YcLkuSl0qKli4r8Tzb48dTMHn8dSTiR+rXNn64LO+CkJKn4Ur1nYR8j5yVEj8ped74sfB65C5V/PD7XmzLFT85WKz23Jyw3PHjKaTGiR/pfluMXKanoGsrr018tY0f6bWneJRkeu5THo/8NnN30rVaG/KshRqG1Po2Tvzk1jRtSNPljeG2+drr43HGxns/15cpDJOKH07S/LNy/VLEj7f+tvJTCmPb+Bmnvl6q+PHY51mvNQxa/HQ4o7WIUEHehda6z/VJwRzbaRBzfm+7JJPbxO2Ler0TTcKp2SRhseyw8Eq6Ir8VeN4JHm3jGCU+C5c0Nlymxq/1ldo5VmtSLGX8SDZpuHgcaK8l7N74kWJPkqnFreSD+FobF2objUlpvLhPNVypsfH2la45plzSYoBjTMWPZJM3T3r5qa3SHKdYeH7T9Eg6tfxt5VcNY3zNSctRWjxYYyPx58wbz/hZ80ab11JOSOXXtvGzFGNjrSHa/JRstTBa48GLYcv/UqxINvHXEknzxpqrOfHD7ZbslcbGwszjLzU2WvzwvprdXI5kn+YPbosVP5IMCaOlJ3d+RN5UfGj1pIbfM5dy7LNee/O3lBck/Fobl8HnDW2b1NhoWCQ7JHle7Hw/0RajhV2bfxJ+q+by2GflK86fih+ug+OWcOTkr5RN0l7POzZWrqNtWl+OORK3T8sRufmn0V54Rt1J1oCtRLmrtEqrtEqrNHlazdmrtEqr9Gyk1dy1Squ0Mml1bk6WRp4AGIeWamC8cr1nGRM883jO00rz+aT1LJd9z4WYXGljc6Ri97kw1ittkX62zuNnc6xM2ufLNTbPZp8/W2kl5eKlehNrknzLSUdqHq+0+f5srWF/mCj1jn9bWmkxsFzUkx4JAUYfG6GPkvFTGKmdP94hPapgtfG+EmmP6KTk0r6aHZxysPLXVpuFW7rmdqewWW3eR3+0x4e8YxxJ8r8Ha8qPVN64WCfpW21MqS+suEnpzPWT5bvcWE7NUy0OtHFKxY7E651Xmh6vDd55lzM/JT5Olk9y5k8OPk2+pTOV0+jr3Dwp4fTGcspuTlpMeuRZ66HXJqmvN9ZT656EUeOzfKbFyjh5iMpI6fSuIZat3nnRdo6N00b1arnIG1eWDTlzKDeucudxTn5J5SrenrOe5fax2iRcGta2fFLML0U8UjyaztR67o23FB9v98aohLdt35SslM8on2cNybUplUctv1r9UvZ5fcZt5Pam5p8m3xN7mg3atXdtkNqWcm3wtqXyU/URACsZSmQNGL9P2y1K6eNG5rR7JpoW3CmsWrB6yOPvnEVHs8mz8Em4JUzWWKf6pzB5yJJp8Vo2au2peLbGLJIWX5YMjx4t2VsLibXAamQlaovXapP6cexWe6q/lkA13pTPOF9OvsyZbyl+yUYrRlO+T8W+9lfyh6VznHmo9bdsl+5ZZMWAx0ZLv3Tfm2tSeW6cvO3FlupL21NjkxPPmi2pvJy7xqRyWgqDJcczb7xruxVbmu2pvEf7pfzk9Zmml2PPsceD1TM/LV9o/STcubnfep2ilA+sfhJPyhe0LZIVj9bcpH1T8ydFkv2SfTm6c+anZ33wrvOeddk7F1P2WvK5LorVWxtI8ih5eK11xcKXO9c1GSk/efKcJUOz0bvWeec+54+kjk3BWwwQmnEp52uDnZJr8Xrktp0IbfyQgz0HgyXXgyMnWU/KD15ZubGTy5u7KOfa0oY3Z5GQ+lh8FlmFDMeQY2fqOnfO5+Qdr9yUnhQv1cP758QH5Ukl/5x4tmxrM6dyFqY2GCZFbedmrlyg3YZLkiv1S+n1rIUco2b3OHnTg9WSq8mxbMvVa/G2jV9L1jixvVy1koe3TW6x2pdqTWu7zufK5Zi8YzNO7ZSTqydpq3f8c+SmcI1TVwG+OZ+Sbc1prsNaK1O8Ofja5pZcHy5FfpukXGutnJQPU/XPOPk4Jx68clN62vC6DgAoUA52RKAzAeSQVYRRvRIeqd8PI57UeKWuJ41HkyslTsl3k6TUeOXgmaR/qGwrVtoWsm3wUJ3S9XLH7pHAI8m18PB7lqylwGPRkfCPhmGpY1ebS9KiPqmxabNOevHk+mcSeHi/Sc/vI7lOavhSeDxF6Di6U/mP03LiWQm5hspOrZPLgcfjH6mmOBK5ZinxUL0Uo1VLcby87zi0knKNNV45fpkUTXJuLzee5Zrb2qY/hWcp97xUvhY/46zbIwcAkgO0aw24NTiag9sWOpMopDz3x8HIZXgwpgqySWyIxsWYkilhzJ0YKYy5cq1FYlIblTbzxsLpGeu2MlcSRglTKrmNE+OaTKs/b5vUPOT9OcZJxB/VkVq0cvNRG5wSZo57Jcd4G4wpTOPOm1Th0BZjao1dCRglmZMem0nEI5Wp8XrkSRg1ntQ85WNLZbapn5aijox9lmOsPTLbYOQ6PBipzFTezsGoXbeJ8UnKXKq87Z2HKXn02sqJ48ybtjE+6Zp+0vPQU5ukMObWJpOeN3zsPfIk+ZGsenep168OBcIZQpC/dCWlvCjs38KkxHVocuNryemWo6QJxeVqOq1g5TwUH7ebyuDXlg6ui9sd/0nytQBO+YHKkzCmxomOP5Vh9dHstnTQv5zHGifPoqLZ7R1/ad5IY2HhlYjPTY/d9Fqay6m5bclNzWWuI2U395MUb5JOSy7HncLI+9D71tyWxsab07hdWlzz19pc1nKNtGil8rSUc6nNWh8NO22TxtYaf01ujh+sXC5hTNkt9bHkehb0VExLOY2OrTW3vbnHKtAkHZ65nfKBN+4lm9quV5w/tU7zPlasS3ZbeVsbJ82mlN3euU15rLVVw5WapxxD7hzkeKT1VLJJkyvh0HID7WONrYRRw+1drzgmbU5KtvK8LeHU/JCK6dSarFFO7pHGJpUHqVxtbCXc3rltUWrNl+Rb+Sne5/W0pcNaryhGjoNfSzmf46Ky+dy2xkkbW0m+ZFPKD96YTvnB6kNzpcduSZ9mdypPW3KjDE2HlHs69EJb1D3JW5uwtI8E1lr8tAWU9+FtUtKM19rCL+GybKK8HB+/pyVjaxHRbEqRNUkkmzQZVBZt8wS6lrioTDqBpAmoxRufJJpNUoxwjByv5AMqNxWvHK8WexpGC5/Er+m1rlMJgvaRErbmI6nNm6ClZJda1L1xJPlWyisp7FpM85wgjT/Hl8qVGj7LJk6pvKItQpIcT86QdElzVsJnLepSXz7uvI1e8z5Uh5V7tLWH81r5UMOijQG3ibalckQKr9Y/Zz3V5PD2HN2cR8oZGk8qrihJOSPFZ+UFHnuSfssmyb+pfG7NDStnWMT7SFi966sW0zn4+NyW8Flru2ed1nJaKvfk5kGuV+qbqiO4Xs6rxRb3g9cmyx+aXJ63rLzkWXukmMnxubSe8vvemLbw8bZUTHvxSXK9fJpN0tjQa16vSDzSPY3H28eqeySbtPUqhVfzX2r+azZxntS8sWzy6tbmV0of/Tsy/wsrqn5IKTeBLzWtNDyrtEqrVJM0P4/knF3NFzWt+mKVJFqNi1VapVVapVVaJZ3CYDCoDgCkBdNzIk95U6eOqVPGHN4UFotXOrW0Xnt4JfkUi8Yr4dZOaj02aqdFUp8cXqnfUo1Njg7PiZqGJ3X+5R1/D1aLNxUrueNP5Wrz0uKV5KfmhUa5vCn7JLnchlQf/tor38JLKcWbwmrxjptjLfyeWPHyth0bD26OaSnWBopb6mcdCvG5q21I2+DOWUc0ud71TZMfdYyzpkn8Vv7j65S33pCwSDQJXssfyz2PPbzW3OUYcusjb/2zXOuf1CfH38s1NjlyvbmqjXyOfynWP/pam+8cw3Ksf1K/nDVtnFqJYknxetdVSp76xxtTnvEfd/2bdN5M8U66/vGsf15eyy8WL8dd3ecHAJazNBBe/rbt2oKuLfIaSQVEyp6lssnTnkNHCqO1UGuTXrunTcTU4nCk2yVaiRilpO6hlTpvJkFHepysceD3PTlwJc4bidqsH7n8bdYVby7zXFtYlmPeaPRsXG94TLcZC61NKgZXwryZRD2m0ZGaN5z4mj8pjEvRnkMrBbt33njy10qxKdUu0UqIsVReyamdV4pNHno21s05Y/FsrsfMjwBohlvtUXGK19IZZXj0W0lMk++xqQ3unKKEtgPj+awtRu/9VAHllZEap3HGJneSeuIkknccJ4lxKSiFXbM5B99yzBtPQTMOJg9GwD5QyZlLnD83vy1F7El5eBz/5oyB156IL1eXZ2zarD0SnrbrQMrnKZuk/uPk7ByysKfi2RrXlAxPfsudJ1JO9GDMsceD3WrPzZHcHi+NU4+l4p5jSuVcbqN2Lwc7lzlODvLQuDWnB8uRrJW9dWNuvvbaMel6d1LjnOIZt1am2HNzfluaRA3UVlfuGtm2XvLUfZZu2tdqm2RMpuKnwxvpXw8Izp9KwpJ83q4Blu7HAbUGzLPoWU7X/KH19w6MhcfT13uf+i6FReOlCy1t0/Txa49/c8bGku8Zr2gnt5fGUvznkcH5rEVJuqb+Tc0/C0uqTaKI1bLZU7xxPisuLL9J40L7p7DkzFuOh7629EuFJ+3P5wuPK2tstPwm2cr5JR4JD7eHt9M44GOqzRsNnyRD45PwpPDl5kPaj68rqU0Tvebj5Mnl1jhIGD38dHz5vOJxKsnjcj34PP2k8eE+0/Tw+ahh8eYljdfiSfnR0sttTtli+SKFU8vXUhxbOb7tuukpiCUfcDyWTdZ8lOLauub4OR6tv6TfU3ek4lGbb97x4Nd8bLR85cXnbefypDjz1BY8xqycpeXHnLonJZdj8ORj67WWvzVcVpxKuFPz0eqfskOrjawx0nDmEl/bYpt3H2L5wpo3tL8Wq5K+VF8JpyfPaP35vLHqmGhfh9+gDtEKVYvfIi6Xg6c8FmjL4VoyT/FLWCVeCbcHjyRf4/cU3BYeSTdfJKXgogsyxyMlYi0uPAWPJVeTz/tR/JZ/JDzS5kbyU0o3lyGNV8q2nESlyZDGV5v8Vux6FiwqP2WHNE6SLIonNW+1XKGNKe3nGRuuO5UPJf3c/1ohzuVJY6Ph4fi1BSM1z7h/eBv9K42NJ8647VY8p3Jsm/nOX0cbtM2DxE8xe9YBzRdaESz5UbKXYtDiP8c/Vi7Mzc8e/FZcUF9IuKz8bOHzjo2E21tHaPlQyiFRXkq3ht9jp7aJ0WLXwhOJj4uWc/g192Nq3ljjJdku+YyPFx9HKV9bOZDrkeJBwm2tk1JsaHgk/3CSfKzlZ96H8tB/Vptkd2q+p/BEHp4TuXwNA+2fwspJGl8qk9uXwpNTR3jGlP6V7MmJO6uvhiG+tsawTd71tEm2Ux5pneRxq/lFWjvHzYcSRt6f97PiQoszqc701jWhGJLoWCmAva9zyCNjUlgmgddDK9kmj5wc+3Kx5PBYmFJ4c31xpMap7XxarjHw0iTm06Tidyl4tJiU5BypeTuOnEnoWU6eSdNKmE85Y7MSxiA3lwPpdzOO9Bi0pXHHHZCL++VYV7j+SeQ0y9blyo1tcXmwLMX6n6Jcvz8b5tNKzVee1yutXvHSOONm9R1nrkxqPuXgXglx1ZYmEXsdoY+4GFCiiznn57xFIT9i7TVCkk35tb7SQPMBsEiyQ7NBuu+1ieO1cHmCit/TxkmzQ8Kp4bJk89eavyTs1CYtpqy+VL/mA65Hu5+7OHNcsS01rl6bJFze+UmvrQTO5aRkadepvpJuT2xuf63CAAAGMElEQVRqMWHNA8km75yTchD9K/lSS/TULk22xCvZwvta/uN6LT25i5fkX45L4pVImgdWTHj84+X1jpOGJYXDmnOpOJBI82/OejqpOeexKQT5YxtS7I0bMxIOyQ7vmqnxalioLE9e8tiUM+esvpLuODZWTKRyZ8ofVJd0z7JJ4smZ+xYubpPFr/kgZx5E/pR9KZusuJZwaf09OUeLHykHSf299zReb41L8aZydGofk4oJjiuV0zhm7zyQdFnkiRmPLMmmFO5UPW3ZlIoxrw3aWEj8qXolRVauzYk9Se4k8puFpSgK+0sAV2l5yJNoVmmVVmmVVmlp6dmQi58NGFcirfptlTitxsQq/bDRsyGmnw0Ynws08iWAOSfiFsV+Ul/pr1d3jn4Nk8TjOcHU8NB26VrTl3Nv3BMhry2SfM0Wr37Pqa3W3zPmli1arOX09/qJ3m9zWmfhaWuL1C9FOXHmudbmifWX95Vs8c5ZiyYxbyRsElbvvG6L1zunuH7tmsvwjE2OTbl4LRnj2ELbPO/oaPaNO0/4tRZbqXcPLHkeP6XwjaPb6m/d98aTlRP5uyE5/pB0eHORlY81OV5f5OZ2qb92reUxLsurW7NlUjmkTQ6wnobKyQGWLu8YWfq4HM84pOI4dS8nh6TkW/ksR7fVJ4XHO29ycg2/1uZPbux49Kdea7Lb4PHGpYWTyraeTNHIM64S1px544ntFMYcX2kx5OHX9Odg7dALQH4MQnskVHKsNMASsMhD9UqP2KYes0oNriRLwqNh1SZnxEP/aTySzIiH82h9KL8mS8KcmgCSDC7fejSH8liJLGULH3vJLskeDTcnz6M+Gh56LxXXEh4prrlMzWY+D6V5YxHn53KthGP5QtMl2Ubxc0zWo5MeX0tJU+PPsVnSkZJv4dfstPKDdz5581UqR0t4eGxa8zK288eJtVzE+0u6PHnMypmafGkzKPlC4veMmfcRaY3HWk+4fE+8cJnS/PaOjcWv5QC6Rlr5xDM2lr2pRx6pfClWc9Ybqx6xYpnbybFbPN54Sum14pSPk7TetMlLnhpBihNvrNE+FCuXL/W15k0krWZpk39S+DV/UR9pcZnykTWfqBzqG2tsrDVcw2zVe1oO0fwo4ZTs10jCkXrN7YlE2+lfa/3Q8rKGTcLOMWg+1cbemuNaTuZxytu5TePEqTZfJd9Z63Zq3qRq99TYWLEnxaaE1arpeU608ok0Jhzr6kcAVmmVVmmVVmmVVmmVVmmVxiRrU7xKq7RKq7RSqKOdDFHSTsJSpJ2ipfRQ/hw9Xn4JH9ef4h9XV4p3Ejq00z6JPxdfW2xtdXhsa2OPdjpm6ZmUPUulx+q3XPbk4mrTL5WzcvHl5rfcftqprGZP23zI+XP7eGm58iHlH8ce71wYB58k14svV0du/HvzIe/v8eFy5kPpvseeXD0r3Z5x8qFHj2aPJkPiX4p8mGu71idFbflTTzpMUtc4Ojwx2ibvSrqWos84MTBOPpwkvxfbcuSPlJ5nWz6cBD/tZ9lj9eF6VwK+yNvRwNE26bEcz+NZ0mMyUpDHv9ojNZYTqR4Ju6cfTdwaP8eTo4/L1vBI/tced9J8KemgsiS7pGtJhpYwPPc0fZoei5/aIrVZPJJfIlkyYxsff8/jqpIsjz2x3epnTXSPjzR+jl3zm/Y4r8Sv+SGlh8832uYZVwtLKt48dmk8mkzNf97Hw7R8IOGyYkfq43nkTZJnveOVyoeSLqmfR65mTyof8vs5MZpjj5TjtPznGYdUrGnXqTmryZRiNKVfs8XKnanHRFO2SMRzRkqP9ii0pscjSxvflB7LLsk2Lda0e97xkfRo+NrkQ65Hs4/zcrs0XbyPRlaseWIgvvbikR5PtvIbf6zcGzNaPU6xS/PDU+9Sedbc0eRI/N586I01LV+l/G3xe+yRXltt3C6Om8eK9Gi4pFuSQ/m0R+Clejelx/OxhxQ+75hwSsUoxUDbU7Gm3fPoS/VLxVtKloZPmysAVj8CsEpNkibhkdaz0jCNi2fSep4teKTCwMM3Lp5x+y9X/K1UWmnz79miZ5VWqS2tzoXxyGOXthGYtJ5J8D1Xa4YjhWdc8tY6uXKWin5Y88Aq2fT/A3wj1JprEW9eAAAAAElFTkSuQmCC)"
   ]
  },
  {
   "cell_type": "markdown",
   "metadata": {
    "id": "n1UxmGbGVDA6"
   },
   "source": [
    "### Entrenamiento 06: Unidades GRU apiladas\n",
    "\n",
    "Vamos a reproducir uno de los entrenamientos con los que hemos obtenido buenos resultados, esta vez aplicando unidades de tipo `GRU`."
   ]
  },
  {
   "cell_type": "code",
   "execution_count": null,
   "metadata": {
    "id": "nto10Li-VDA7"
   },
   "outputs": [],
   "source": [
    "reset_session()"
   ]
  },
  {
   "cell_type": "code",
   "execution_count": null,
   "metadata": {
    "id": "vFmsbQDOVDA8"
   },
   "outputs": [],
   "source": [
    "inputs1 = tf.keras.layers.Input(shape=(MAX_SEQUENCE_LENGTH))\n",
    "emb = tf.keras.layers.Embedding(\n",
    "    input_dim=VOCAB_SIZE, output_dim=EMBEDDING_DIM)(inputs1)\n",
    "rnn1 = tf.keras.layers.GRU(\n",
    "    2,\n",
    "    return_sequences=True,\n",
    "    kernel_regularizer=tf.keras.regularizers.L2(),\n",
    "    dropout=0.2,\n",
    "    recurrent_dropout=0.2\n",
    "    )(emb)\n",
    "rnn2 = tf.keras.layers.GRU(\n",
    "    2,\n",
    "    dropout=0.2,\n",
    "    recurrent_dropout=0.2,\n",
    "    kernel_regularizer=tf.keras.regularizers.L2()\n",
    "    )(rnn1)\n",
    "dense = tf.keras.layers.Dense(1)(rnn2)\n",
    "model = tf.keras.Model(inputs=inputs1, outputs=dense)"
   ]
  },
  {
   "cell_type": "code",
   "execution_count": null,
   "metadata": {
    "colab": {
     "base_uri": "https://localhost:8080/"
    },
    "id": "RYLqsCxXVDA8",
    "outputId": "f0a76ca6-c53d-4266-cde3-21575397e27d"
   },
   "outputs": [],
   "source": [
    "model.summary()"
   ]
  },
  {
   "cell_type": "code",
   "execution_count": null,
   "metadata": {
    "id": "zRBoDyxwVDA8"
   },
   "outputs": [],
   "source": [
    "model.compile(loss=tf.keras.losses.BinaryCrossentropy(from_logits=True),\n",
    "              optimizer=tf.keras.optimizers.Adam(1e-3),\n",
    "              metrics=['accuracy'])"
   ]
  },
  {
   "cell_type": "code",
   "execution_count": null,
   "metadata": {
    "colab": {
     "base_uri": "https://localhost:8080/"
    },
    "id": "PA21aXdJVDA8",
    "outputId": "22c3b027-1aab-4a11-ff33-afba6c0671c5"
   },
   "outputs": [],
   "source": [
    "history = model.fit(\n",
    "    seq_train_ds,\n",
    "    epochs=20,\n",
    "    validation_data=seq_validation_ds,\n",
    "    batch_size=BATCH_SIZE,\n",
    "    callbacks=[early_stopping_cb, learning_rate_cb]\n",
    ")"
   ]
  },
  {
   "cell_type": "markdown",
   "metadata": {
    "id": "7dYqJ3ilVDA9"
   },
   "source": [
    "#### Results"
   ]
  },
  {
   "cell_type": "code",
   "execution_count": null,
   "metadata": {
    "colab": {
     "base_uri": "https://localhost:8080/",
     "height": 365
    },
    "id": "MK5dcb45VDA9",
    "outputId": "2df08295-81f9-41a9-bf75-5d7901e7d987"
   },
   "outputs": [],
   "source": [
    "plot_history(history)"
   ]
  },
  {
   "cell_type": "code",
   "execution_count": null,
   "metadata": {
    "colab": {
     "base_uri": "https://localhost:8080/"
    },
    "id": "itDK966EVDA9",
    "outputId": "f1872985-8ae5-4299-83be-3e935b8def0d"
   },
   "outputs": [],
   "source": [
    "model.evaluate(seq_test_ds)"
   ]
  },
  {
   "cell_type": "code",
   "execution_count": null,
   "metadata": {
    "colab": {
     "base_uri": "https://localhost:8080/"
    },
    "id": "uDIzQeqfVDA9",
    "outputId": "b50a294b-70aa-4996-e940-857b2196c115"
   },
   "outputs": [],
   "source": [
    "model.evaluate(seq_test_ds)"
   ]
  },
  {
   "cell_type": "code",
   "execution_count": null,
   "metadata": {
    "colab": {
     "base_uri": "https://localhost:8080/"
    },
    "id": "bqaaRRT2VDA9",
    "outputId": "14c5c6ab-473d-4185-d252-64f9ececfd70"
   },
   "outputs": [],
   "source": [
    "preds = model.predict(seq_test_ds)"
   ]
  },
  {
   "cell_type": "code",
   "execution_count": null,
   "metadata": {
    "colab": {
     "base_uri": "https://localhost:8080/"
    },
    "id": "6CJBwkoLVDA-",
    "outputId": "cb44020a-6177-4a36-b4a7-13800c6f0cb9"
   },
   "outputs": [],
   "source": [
    "get_metrics(model, seq_test_ds)"
   ]
  },
  {
   "cell_type": "markdown",
   "metadata": {
    "id": "70b6hdxpMr9l"
   },
   "source": [
    "Como podemos ver, no se presenta ninguna mejora respecto a las redes `LSTM`. Veremos si encontramos alguna diferencia en algún otro punto."
   ]
  },
  {
   "cell_type": "code",
   "execution_count": null,
   "metadata": {
    "colab": {
     "base_uri": "https://localhost:8080/",
     "height": 413
    },
    "id": "o93filR6VDA-",
    "outputId": "09620f75-1ed1-4049-f127-489479dc2c95"
   },
   "outputs": [],
   "source": [
    "plot_confusion_matrix(model, seq_test_ds)"
   ]
  },
  {
   "cell_type": "markdown",
   "metadata": {
    "id": "BncFWWSeVDA-"
   },
   "source": [
    "#### Explore\n",
    "\n",
    "Vamos a, como en apartados anteriore, explorar cómo se comportan internamente los elementos de esta red, y entender si presenta grandes diferencias con las redes vistas hasta el momento."
   ]
  },
  {
   "cell_type": "code",
   "execution_count": null,
   "metadata": {
    "colab": {
     "base_uri": "https://localhost:8080/",
     "height": 1000
    },
    "id": "AEw7yIRbVDA-",
    "outputId": "04c03d6e-4837-448e-c02f-7b9a78afc561"
   },
   "outputs": [],
   "source": [
    "get_gradient_overview(model, seq_train_ds)"
   ]
  },
  {
   "cell_type": "markdown",
   "metadata": {
    "id": "i2Odc-U-VDA-"
   },
   "source": [
    "##### 2nd stack"
   ]
  },
  {
   "cell_type": "code",
   "execution_count": null,
   "metadata": {
    "id": "vtO-CwFYVDA-"
   },
   "outputs": [],
   "source": [
    "emb_weights = model.layers[1].get_weights()\n",
    "rnn1_weights = model.layers[2].get_weights()\n",
    "rnn2_weights = model.layers[3].get_weights()\n",
    "dense_weights = model.layers[4].get_weights()"
   ]
  },
  {
   "cell_type": "code",
   "execution_count": null,
   "metadata": {
    "id": "bAZTLnj0VDA_"
   },
   "outputs": [],
   "source": [
    "inputs1 = tf.keras.layers.Input(shape=(MAX_SEQUENCE_LENGTH))\n",
    "emb = tf.keras.layers.Embedding(\n",
    "    input_dim=VOCAB_SIZE, output_dim=EMBEDDING_DIM)(inputs1)\n",
    "rnn1 = tf.keras.layers.GRU(\n",
    "    2,\n",
    "    return_sequences=True,\n",
    "    kernel_regularizer=tf.keras.regularizers.L2(),\n",
    "    dropout=0.2,\n",
    "    recurrent_dropout=0.2\n",
    "    )(emb)\n",
    "rnn2 = tf.keras.layers.GRU(\n",
    "    2,\n",
    "    dropout=0.2,\n",
    "    recurrent_dropout=0.2,\n",
    "    kernel_regularizer=tf.keras.regularizers.L2()\n",
    "    )(rnn1)\n",
    "dense = tf.keras.layers.Dense(1)(rnn2)\n",
    "model = tf.keras.Model(inputs=inputs1, outputs=rnn2)"
   ]
  },
  {
   "cell_type": "code",
   "execution_count": null,
   "metadata": {
    "id": "IHD1r3kzVDA_"
   },
   "outputs": [],
   "source": [
    "model.layers[1].set_weights(emb_weights)\n",
    "model.layers[2].set_weights(rnn1_weights)\n",
    "model.layers[3].set_weights(rnn2_weights)"
   ]
  },
  {
   "cell_type": "code",
   "execution_count": null,
   "metadata": {
    "id": "6mXB0sw6MW5o"
   },
   "outputs": [],
   "source": [
    "batch = list(seq_train_ds)[0][0]"
   ]
  },
  {
   "cell_type": "code",
   "execution_count": null,
   "metadata": {
    "colab": {
     "base_uri": "https://localhost:8080/"
    },
    "id": "gCdwOpTJVDA_",
    "outputId": "a3867acb-971e-4035-8ccd-4459b76231ad"
   },
   "outputs": [],
   "source": [
    "preds = model.predict(batch)"
   ]
  },
  {
   "cell_type": "code",
   "execution_count": null,
   "metadata": {
    "colab": {
     "base_uri": "https://localhost:8080/",
     "height": 483
    },
    "id": "T8i-21TiVDA_",
    "outputId": "cc230f93-a793-4ca5-e733-9e61f71ee8cb"
   },
   "outputs": [],
   "source": [
    "n = 5\n",
    "x = preds[n].flatten()\n",
    "words = [seq_vectorize_layer.get_vocabulary()[word_index] for word_index in batch[n].numpy()]\n",
    "for i, w in enumerate(dense_weights[0]):\n",
    "  print(f'unit-{i+1} weight:', w[0])\n",
    "\n",
    "plt.figure(figsize=(12,6))\n",
    "plt.xticks(range(MAX_SEQUENCE_LENGTH), words, rotation=75)\n",
    "plt.plot(preds[:,0], label=\"unit-1\")\n",
    "plt.plot(preds[:,1], label=\"unit-2\")\n",
    "plt.legend(loc=\"upper left\")"
   ]
  },
  {
   "cell_type": "markdown",
   "metadata": {
    "id": "eDuiCBmnO4qW"
   },
   "source": [
    "Podemos observar un comportamiento mucho más errático que en todos los ejemplos anteriores. Revisemos la priemra capa."
   ]
  },
  {
   "cell_type": "markdown",
   "metadata": {
    "id": "b5T7ZMY5VDA_"
   },
   "source": [
    "##### 1st stack"
   ]
  },
  {
   "cell_type": "code",
   "execution_count": null,
   "metadata": {
    "id": "Y6NZ-FtsVDA_"
   },
   "outputs": [],
   "source": [
    "inputs1 = tf.keras.layers.Input(shape=(MAX_SEQUENCE_LENGTH))\n",
    "emb = tf.keras.layers.Embedding(\n",
    "    input_dim=VOCAB_SIZE, output_dim=EMBEDDING_DIM)(inputs1)\n",
    "rnn1 = tf.keras.layers.GRU(\n",
    "    2,\n",
    "    return_sequences=True,\n",
    "    kernel_regularizer=tf.keras.regularizers.L2(),\n",
    "    dropout=0.2,\n",
    "    recurrent_dropout=0.2\n",
    "    )(emb)\n",
    "rnn2 = tf.keras.layers.GRU(\n",
    "    2,\n",
    "    dropout=0.2,\n",
    "    recurrent_dropout=0.2,\n",
    "    kernel_regularizer=tf.keras.regularizers.L2()\n",
    "    )(rnn1)\n",
    "dense = tf.keras.layers.Dense(1)(rnn2)\n",
    "model = tf.keras.Model(inputs=inputs1, outputs=rnn1)"
   ]
  },
  {
   "cell_type": "code",
   "execution_count": null,
   "metadata": {
    "id": "9wQ2D8o1VDA_"
   },
   "outputs": [],
   "source": [
    "model.layers[1].set_weights(emb_weights)\n",
    "model.layers[2].set_weights(rnn1_weights)"
   ]
  },
  {
   "cell_type": "code",
   "execution_count": null,
   "metadata": {
    "id": "UgtRUB0OPFSl"
   },
   "outputs": [],
   "source": [
    "batch = list(seq_train_ds)[0][0]"
   ]
  },
  {
   "cell_type": "code",
   "execution_count": null,
   "metadata": {
    "colab": {
     "base_uri": "https://localhost:8080/"
    },
    "id": "g8qog6ZVVDBA",
    "outputId": "f73da0f7-fc1c-4d48-abc0-096a212c72ac"
   },
   "outputs": [],
   "source": [
    "preds = model.predict(batch)"
   ]
  },
  {
   "cell_type": "code",
   "execution_count": null,
   "metadata": {
    "colab": {
     "base_uri": "https://localhost:8080/",
     "height": 486
    },
    "id": "PuFRPVoPVDBA",
    "outputId": "90c75c65-3d4a-4ebc-ccb1-cecd5e9e9408"
   },
   "outputs": [],
   "source": [
    "n = 5\n",
    "x = preds[n].flatten()\n",
    "words = [seq_vectorize_layer.get_vocabulary()[word_index] for word_index in batch[n].numpy()]\n",
    "for i, w in enumerate(dense_weights[0]):\n",
    "  print(f'unit-{i+1} weight:', w[0])\n",
    "\n",
    "plt.figure(figsize=(12,6))\n",
    "plt.xticks(range(MAX_SEQUENCE_LENGTH), words, rotation=75)\n",
    "plt.plot(preds[n][:,0], label=\"unit-1\")\n",
    "plt.plot(preds[n][:,1], label=\"unit-2\")\n",
    "plt.legend(loc=\"upper left\")"
   ]
  },
  {
   "cell_type": "markdown",
   "metadata": {
    "id": "vT0Jd32CPNBq"
   },
   "source": [
    "Como podemos observar, este comportamiento va en linea con lo visto anteriormente, es mucho menos herrático y con más sentido.\n",
    "\n",
    "Esto sugiere que la red probablemente esté sobredimensionada. Vamos a llevar a cabo un entrenamiento más sencillo."
   ]
  },
  {
   "cell_type": "markdown",
   "metadata": {
    "id": "fHnNZX3Je3Cx"
   },
   "source": [
    "### Entrenamiento 07: GRU simple"
   ]
  },
  {
   "cell_type": "code",
   "execution_count": null,
   "metadata": {
    "id": "EcE3hJ-ve3C2"
   },
   "outputs": [],
   "source": [
    "reset_session()"
   ]
  },
  {
   "cell_type": "code",
   "execution_count": null,
   "metadata": {
    "id": "ttEf-DuFe3C3"
   },
   "outputs": [],
   "source": [
    "inputs1 = tf.keras.layers.Input(shape=(MAX_SEQUENCE_LENGTH))\n",
    "emb = tf.keras.layers.Embedding(\n",
    "    input_dim=VOCAB_SIZE, output_dim=EMBEDDING_DIM)(inputs1)\n",
    "rnn = tf.keras.layers.GRU(\n",
    "    1,\n",
    "    return_sequences=False,\n",
    "    kernel_regularizer=tf.keras.regularizers.L2(),\n",
    "    dropout=0.2,\n",
    "    recurrent_dropout=0.2\n",
    "    )(emb)\n",
    "dense = tf.keras.layers.Dense(1)(rnn)\n",
    "model = tf.keras.Model(inputs=inputs1, outputs=dense)"
   ]
  },
  {
   "cell_type": "code",
   "execution_count": null,
   "metadata": {
    "colab": {
     "base_uri": "https://localhost:8080/"
    },
    "id": "ehMooVYLe3C3",
    "outputId": "f6c25e73-88fa-4c12-840b-dc182303a258"
   },
   "outputs": [],
   "source": [
    "model.summary()"
   ]
  },
  {
   "cell_type": "code",
   "execution_count": null,
   "metadata": {
    "id": "vMBQBKIbe3C4"
   },
   "outputs": [],
   "source": [
    "model.compile(loss=tf.keras.losses.BinaryCrossentropy(from_logits=True),\n",
    "              optimizer=tf.keras.optimizers.Adam(1e-3),\n",
    "              metrics=['accuracy'])"
   ]
  },
  {
   "cell_type": "code",
   "execution_count": null,
   "metadata": {
    "colab": {
     "base_uri": "https://localhost:8080/"
    },
    "id": "RsY3jiile3C4",
    "outputId": "c8504409-315e-4c53-f81f-403d0f971e43"
   },
   "outputs": [],
   "source": [
    "history = model.fit(\n",
    "    seq_train_ds,\n",
    "    epochs=20,\n",
    "    validation_data=seq_validation_ds,\n",
    "    batch_size=BATCH_SIZE,\n",
    "    callbacks=[early_stopping_cb, learning_rate_cb]\n",
    ")"
   ]
  },
  {
   "cell_type": "markdown",
   "metadata": {
    "id": "MTVUNeoQe3C4"
   },
   "source": [
    "#### Results"
   ]
  },
  {
   "cell_type": "code",
   "execution_count": null,
   "metadata": {
    "colab": {
     "base_uri": "https://localhost:8080/",
     "height": 365
    },
    "id": "KkwrgUKIe3C4",
    "outputId": "fbbe07af-8891-4d88-904b-d1e3f6b5832b"
   },
   "outputs": [],
   "source": [
    "plot_history(history)"
   ]
  },
  {
   "cell_type": "code",
   "execution_count": null,
   "metadata": {
    "colab": {
     "base_uri": "https://localhost:8080/"
    },
    "id": "kBi2hAWAe3C5",
    "outputId": "6f56a40d-a682-4a1a-f8cb-677f57299c10"
   },
   "outputs": [],
   "source": [
    "model.evaluate(seq_test_ds)"
   ]
  },
  {
   "cell_type": "code",
   "execution_count": null,
   "metadata": {
    "colab": {
     "base_uri": "https://localhost:8080/"
    },
    "id": "_ahkx9vNe3C5",
    "outputId": "8b891183-cccc-404e-bac7-5300d727147c"
   },
   "outputs": [],
   "source": [
    "model.evaluate(seq_test_ds)"
   ]
  },
  {
   "cell_type": "code",
   "execution_count": null,
   "metadata": {
    "colab": {
     "base_uri": "https://localhost:8080/"
    },
    "id": "yl3ZHph3e3C5",
    "outputId": "9badb46b-3b28-43e0-8714-d3883e33f96a"
   },
   "outputs": [],
   "source": [
    "preds = model.predict(seq_test_ds)"
   ]
  },
  {
   "cell_type": "code",
   "execution_count": null,
   "metadata": {
    "colab": {
     "base_uri": "https://localhost:8080/"
    },
    "id": "cmoacf_ee3C6",
    "outputId": "a3c28502-6838-46c0-ac00-7ddbb0b90b65"
   },
   "outputs": [],
   "source": [
    "get_metrics(model, seq_test_ds)"
   ]
  },
  {
   "cell_type": "markdown",
   "metadata": {
    "id": "QrdQ7zbeTH5x"
   },
   "source": [
    "En esta ocasión los resultados han sido levemente peores que lo quue veníamos obteniendo en las pruebas anteriores, por lo que la reducción en unidades tiene un impacto leve."
   ]
  },
  {
   "cell_type": "code",
   "execution_count": null,
   "metadata": {
    "colab": {
     "base_uri": "https://localhost:8080/",
     "height": 411
    },
    "id": "f8L7_t2Ee3C6",
    "outputId": "5b8cc463-acd8-4109-ba4c-8ff70d79baa3"
   },
   "outputs": [],
   "source": [
    "plot_confusion_matrix(model, seq_test_ds)"
   ]
  },
  {
   "cell_type": "markdown",
   "metadata": {
    "id": "OblTIXIBSOVI"
   },
   "source": [
    "### Entrenamiento 08: GRU simple bidireccional\n",
    "\n",
    "Finalmente, vamos a rescatar el concepto de red bidireccional para ver si tiene un impacto positivo en este tipo de redes."
   ]
  },
  {
   "cell_type": "code",
   "execution_count": null,
   "metadata": {
    "id": "iaAfH7t7SOVK"
   },
   "outputs": [],
   "source": [
    "reset_session()"
   ]
  },
  {
   "cell_type": "code",
   "execution_count": null,
   "metadata": {
    "id": "buhr3k4LSOVM"
   },
   "outputs": [],
   "source": [
    "inputs1 = tf.keras.layers.Input(shape=(MAX_SEQUENCE_LENGTH))\n",
    "emb = tf.keras.layers.Embedding(\n",
    "    input_dim=VOCAB_SIZE, output_dim=EMBEDDING_DIM)(inputs1)\n",
    "rnn = tf.keras.layers.Bidirectional(tf.keras.layers.GRU(\n",
    "    1,\n",
    "    kernel_regularizer=tf.keras.regularizers.L2(),\n",
    "    dropout=0.6,\n",
    "    recurrent_dropout=0.3\n",
    "    ))(emb)\n",
    "dense = tf.keras.layers.Dense(1)(rnn)\n",
    "model = tf.keras.Model(inputs=inputs1, outputs=dense)"
   ]
  },
  {
   "cell_type": "code",
   "execution_count": null,
   "metadata": {
    "colab": {
     "base_uri": "https://localhost:8080/"
    },
    "id": "mxqJYK21SOVP",
    "outputId": "5bc4fc58-8c40-4c10-eac1-563bc5c911a9"
   },
   "outputs": [],
   "source": [
    "model.summary()"
   ]
  },
  {
   "cell_type": "code",
   "execution_count": null,
   "metadata": {
    "id": "kTFJGYFHSOVR"
   },
   "outputs": [],
   "source": [
    "model.compile(loss=tf.keras.losses.BinaryCrossentropy(from_logits=True),\n",
    "              optimizer=tf.keras.optimizers.Adam(1e-3),\n",
    "              metrics=['accuracy'])"
   ]
  },
  {
   "cell_type": "code",
   "execution_count": null,
   "metadata": {
    "colab": {
     "base_uri": "https://localhost:8080/"
    },
    "id": "lLWUce3ZSOVS",
    "outputId": "83dc419a-5307-4452-cb50-ca57ecdc9de1"
   },
   "outputs": [],
   "source": [
    "history = model.fit(\n",
    "    seq_train_ds,\n",
    "    epochs=20,\n",
    "    validation_data=seq_validation_ds,\n",
    "    batch_size=BATCH_SIZE,\n",
    "    callbacks=[early_stopping_cb, learning_rate_cb]\n",
    ")"
   ]
  },
  {
   "cell_type": "markdown",
   "metadata": {
    "id": "rjZh-gy1SOVT"
   },
   "source": [
    "#### Results"
   ]
  },
  {
   "cell_type": "code",
   "execution_count": null,
   "metadata": {
    "colab": {
     "base_uri": "https://localhost:8080/",
     "height": 365
    },
    "id": "4rJlX-6ASOVV",
    "outputId": "7ff7f999-13a7-48ac-f588-cbd95f773374"
   },
   "outputs": [],
   "source": [
    "plot_history(history)"
   ]
  },
  {
   "cell_type": "code",
   "execution_count": null,
   "metadata": {
    "colab": {
     "base_uri": "https://localhost:8080/"
    },
    "id": "DD97W3pQSOVW",
    "outputId": "836bb384-5b45-4a77-f3fc-a120f4ccdbdf"
   },
   "outputs": [],
   "source": [
    "model.evaluate(seq_test_ds)"
   ]
  },
  {
   "cell_type": "code",
   "execution_count": null,
   "metadata": {
    "colab": {
     "base_uri": "https://localhost:8080/"
    },
    "id": "vwv-CLdSSOVX",
    "outputId": "a8d187e3-c359-4351-c88f-151a3845d6bb"
   },
   "outputs": [],
   "source": [
    "model.evaluate(seq_test_ds)"
   ]
  },
  {
   "cell_type": "code",
   "execution_count": null,
   "metadata": {
    "colab": {
     "base_uri": "https://localhost:8080/"
    },
    "id": "OQbqQiKvSOVX",
    "outputId": "7b90a317-af84-437f-ba66-9bae35e45aad"
   },
   "outputs": [],
   "source": [
    "preds = model.predict(seq_test_ds)"
   ]
  },
  {
   "cell_type": "code",
   "execution_count": null,
   "metadata": {
    "colab": {
     "base_uri": "https://localhost:8080/"
    },
    "id": "4grq5lAwSOVY",
    "outputId": "3e4b7d69-9a24-4671-b1d0-ef30798f0bd7"
   },
   "outputs": [],
   "source": [
    "get_metrics(model, seq_test_ds)"
   ]
  },
  {
   "cell_type": "markdown",
   "metadata": {
    "id": "Q4FUsQpwUDt6"
   },
   "source": [
    "En este caso se obtiene una leve mejora, pero viene estando alineado con los resultados obtenidos hasta el momento (rondando el 80% de precisión).\n",
    "\n",
    "Parece que hemos llegado al límite de lo que podemos obtener con estas aproximaciones."
   ]
  },
  {
   "cell_type": "code",
   "execution_count": null,
   "metadata": {
    "colab": {
     "base_uri": "https://localhost:8080/",
     "height": 411
    },
    "id": "zxoKBcUZSOVZ",
    "outputId": "a01aa2b1-2e27-40fc-b4a0-5d6e745854b2"
   },
   "outputs": [],
   "source": [
    "plot_confusion_matrix(model, seq_test_ds)"
   ]
  },
  {
   "cell_type": "markdown",
   "metadata": {
    "id": "w2ft-ejTJHLP"
   },
   "source": [
    "# Conclusiones\n",
    "\n",
    "Las redes recurrentes son una opción que se aplica con éxito a problemas de clasificación de texto, sin embargo, su naturaleza secuencial hace que sea muy complejo alcanzar resultados óptimos.\n",
    "\n",
    "Hemos encontrado dificultades para trabajar con secuencias de longitud media y larga. Además son especialmente sensibles a los problemas típicos de las redes neuronales. Es la primera vez que con redes relativamente sencillas encontramos problemas relacionados con los gradientes, o tan sensibles a la inicialización de parámetros.\n",
    "\n",
    "Podemos concluir que son una solución eficaz para problemas de clasificación de textos cortos, donde las relaciones de las secuencias de palabras son importantes. Para clasificación de textos largos, es posible que otras aproximaciones ya vistas sean más efectivas"
   ]
  }
 ],
 "metadata": {
  "colab": {
   "provenance": [],
   "toc_visible": true
  },
  "kernelspec": {
   "display_name": "Python 3 (ipykernel)",
   "language": "python",
   "name": "python3"
  },
  "language_info": {
   "codemirror_mode": {
    "name": "ipython",
    "version": 3
   },
   "file_extension": ".py",
   "mimetype": "text/x-python",
   "name": "python",
   "nbconvert_exporter": "python",
   "pygments_lexer": "ipython3",
   "version": "3.9.13"
  }
 },
 "nbformat": 4,
 "nbformat_minor": 1
}
