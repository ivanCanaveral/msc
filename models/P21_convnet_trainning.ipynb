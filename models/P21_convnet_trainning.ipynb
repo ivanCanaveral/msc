{
 "cells": [
  {
   "cell_type": "code",
   "execution_count": null,
   "id": "ce0fdff6-5506-424c-93fc-e64392976ab0",
   "metadata": {},
   "outputs": [],
   "source": [
    "import tensorflow as tf"
   ]
  },
  {
   "cell_type": "code",
   "execution_count": null,
   "id": "9afc9527-9510-4af3-8a27-83d8a05990e5",
   "metadata": {},
   "outputs": [],
   "source": [
    "import tensorflow_datasets as tfds"
   ]
  },
  {
   "cell_type": "code",
   "execution_count": null,
   "id": "1e1dad76-701c-4e9f-922a-7469eb806533",
   "metadata": {},
   "outputs": [],
   "source": [
    "%%capture\n",
    "class_names = ['cat', 'dog']\n",
    "split = ['train[:70%]', 'train[70%:90%]', 'train[90%:]']\n",
    "\n",
    "train_dataset, test_dataset, val_dataset = tfds.load(name='cats_vs_dogs', split=split, as_supervised=True)"
   ]
  },
  {
   "cell_type": "code",
   "execution_count": null,
   "id": "a5864343-6991-4ac1-97e9-022572cb5aaa",
   "metadata": {},
   "outputs": [],
   "source": [
    "train_dataset = train_dataset.map(lambda x, y: (tf.image.resize(x, [180, 180]), y)).batch(32)\n",
    "test_dataset = test_dataset.map(lambda x, y: (tf.image.resize(x, [180, 180]), y)).batch(32)\n",
    "val_dataset = val_dataset.map(lambda x, y: (tf.image.resize(x, [180, 180]), y)).batch(32)"
   ]
  },
  {
   "cell_type": "code",
   "execution_count": null,
   "id": "43ae9bfe-5b61-489b-a69a-180d8dc177c9",
   "metadata": {},
   "outputs": [],
   "source": [
    "inputs = tf.keras.layers.Input(shape=(180, 180, 3))\n",
    "norm_input = tf.keras.layers.Rescaling(1./255)(inputs)\n",
    "\n",
    "fmaps_1 = tf.keras.layers.Conv2D(\n",
    "    filters=32, kernel_size=3, activation=\"relu\")(norm_input)\n",
    "pfmaps_1 = tf.keras.layers.MaxPool2D(pool_size=2)(fmaps_1)\n",
    "\n",
    "fmaps_2 = tf.keras.layers.Conv2D(\n",
    "    filters=64, kernel_size=3, activation=\"relu\")(pfmaps_1)\n",
    "pfmaps_2 = tf.keras.layers.MaxPool2D(pool_size=2)(fmaps_2)\n",
    "\n",
    "fmaps_3 = tf.keras.layers.Conv2D(\n",
    "    filters=128, kernel_size=3, activation=\"relu\")(pfmaps_2)\n",
    "pfmaps_3 = tf.keras.layers.MaxPool2D(pool_size=2)(fmaps_3)\n",
    "\n",
    "fmaps_4 = tf.keras.layers.Conv2D(\n",
    "    filters=256, kernel_size=3, activation=\"relu\")(pfmaps_3)\n",
    "pfmaps_4 = tf.keras.layers.MaxPool2D(pool_size=2)(fmaps_4)\n",
    "\n",
    "fmaps_5 = tf.keras.layers.Conv2D(\n",
    "    filters=256, kernel_size=3, activation=\"relu\")(pfmaps_4)\n",
    "pfmaps_5 = tf.keras.layers.MaxPool2D(pool_size=2)(fmaps_5)\n",
    "\n",
    "flattened = tf.keras.layers.Flatten()(pfmaps_5)\n",
    "output = tf.keras.layers.Dense(1, activation=\"sigmoid\")(flattened)"
   ]
  },
  {
   "cell_type": "code",
   "execution_count": null,
   "id": "80f5cb4c-14af-47a3-be4f-a7afd0597825",
   "metadata": {},
   "outputs": [],
   "source": [
    "model = tf.keras.Model(\n",
    "    inputs=inputs,\n",
    "    outputs=output\n",
    ")"
   ]
  },
  {
   "cell_type": "code",
   "execution_count": null,
   "id": "9829bccb-1a50-4613-ab2c-4ccf1121d109",
   "metadata": {},
   "outputs": [],
   "source": [
    "model.summary()"
   ]
  },
  {
   "cell_type": "code",
   "execution_count": null,
   "id": "7ee44295-03c6-4637-b6f7-a67dce4232d8",
   "metadata": {},
   "outputs": [],
   "source": [
    "model.compile(\n",
    "    loss=\"binary_crossentropy\",\n",
    "    optimizer=\"rmsprop\",\n",
    "    metrics=[\"accuracy\"]\n",
    ")"
   ]
  },
  {
   "cell_type": "code",
   "execution_count": null,
   "id": "16862384-cb64-42ed-8e18-cd7d989037e7",
   "metadata": {},
   "outputs": [],
   "source": [
    "callbacks = [\n",
    "    tf.keras.callbacks.ModelCheckpoint(\n",
    "        filepath=\"convnet\",\n",
    "        save_best_only=True,\n",
    "        monitor=\"val_loss\"\n",
    "    )\n",
    "]"
   ]
  },
  {
   "cell_type": "code",
   "execution_count": null,
   "id": "4b7d65eb-7520-44ba-877c-a0e2b9ba894a",
   "metadata": {},
   "outputs": [],
   "source": [
    "history = model.fit(\n",
    "    train_dataset,\n",
    "    epochs=30,\n",
    "    validation_data=val_dataset,\n",
    "    callbacks=callbacks\n",
    ")"
   ]
  },
  {
   "cell_type": "code",
   "execution_count": null,
   "id": "07632a63-75d3-4295-a075-8856f859812c",
   "metadata": {},
   "outputs": [],
   "source": [
    "m = tf.keras.models.load_model(\"convnet\")\n",
    "m.evaluate(test_dataset)"
   ]
  }
 ],
 "metadata": {
  "kernelspec": {
   "display_name": "Python 3 (ipykernel)",
   "language": "python",
   "name": "python3"
  },
  "language_info": {
   "codemirror_mode": {
    "name": "ipython",
    "version": 3
   },
   "file_extension": ".py",
   "mimetype": "text/x-python",
   "name": "python",
   "nbconvert_exporter": "python",
   "pygments_lexer": "ipython3",
   "version": "3.9.13"
  }
 },
 "nbformat": 4,
 "nbformat_minor": 5
}
